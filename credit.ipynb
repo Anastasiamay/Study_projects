{
  "cells": [
    {
      "cell_type": "markdown",
      "metadata": {
        "id": "view-in-github",
        "colab_type": "text"
      },
      "source": [
        "<a href=\"https://colab.research.google.com/github/Anastasiamay/Study_projects/blob/main/credit.ipynb\" target=\"_parent\"><img src=\"https://colab.research.google.com/assets/colab-badge.svg\" alt=\"Open In Colab\"/></a>"
      ]
    },
    {
      "cell_type": "markdown",
      "id": "9b40aee4",
      "metadata": {
        "deletable": false,
        "editable": false,
        "id": "9b40aee4"
      },
      "source": [
        "# Исследование надежности заемщиков\n"
      ]
    },
    {
      "cell_type": "markdown",
      "id": "c85707b1",
      "metadata": {
        "deletable": false,
        "editable": false,
        "id": "c85707b1"
      },
      "source": [
        "## Подгрузка и изучение датасета"
      ]
    },
    {
      "cell_type": "code",
      "execution_count": null,
      "id": "0500b548",
      "metadata": {
        "deletable": false,
        "id": "0500b548",
        "colab": {
          "base_uri": "https://localhost:8080/"
        },
        "outputId": "bbb23402-191f-479b-d88c-4581fcb72b33"
      },
      "outputs": [
        {
          "output_type": "stream",
          "name": "stdout",
          "text": [
            "/usr/local/lib/python3.7/dist-packages/gdown/cli.py:131: FutureWarning: Option `--id` was deprecated in version 4.3.1 and will be removed in 5.0. You don't need to pass it anymore to use a file ID.\n",
            "  category=FutureWarning,\n",
            "Downloading...\n",
            "From: https://drive.google.com/uc?id=1UhjnMZE4Uw_pnTs3dxOOMDPRs863eP3h\n",
            "To: /content/data.csv\n",
            "100% 3.32M/3.32M [00:00<00:00, 194MB/s]\n"
          ]
        }
      ],
      "source": [
        "import pandas as pd\n",
        "!gdown --id 1UhjnMZE4Uw_pnTs3dxOOMDPRs863eP3h"
      ]
    },
    {
      "cell_type": "code",
      "source": [
        "!pip install -q xlrd\n",
        "data = pd.read_csv('data.csv')\n",
        "data.head(20)"
      ],
      "metadata": {
        "colab": {
          "base_uri": "https://localhost:8080/",
          "height": 1000
        },
        "id": "-Ubk0d4ZARal",
        "outputId": "de0859b4-ce6e-4b52-8fee-87433b354ab0"
      },
      "id": "-Ubk0d4ZARal",
      "execution_count": null,
      "outputs": [
        {
          "output_type": "execute_result",
          "data": {
            "text/plain": [
              "    children  days_employed  dob_years            education  education_id  \\\n",
              "0          1   -8437.673028         42               высшее             0   \n",
              "1          1   -4024.803754         36              среднее             1   \n",
              "2          0   -5623.422610         33              Среднее             1   \n",
              "3          3   -4124.747207         32              среднее             1   \n",
              "4          0  340266.072047         53              среднее             1   \n",
              "5          0    -926.185831         27               высшее             0   \n",
              "6          0   -2879.202052         43               высшее             0   \n",
              "7          0    -152.779569         50              СРЕДНЕЕ             1   \n",
              "8          2   -6929.865299         35               ВЫСШЕЕ             0   \n",
              "9          0   -2188.756445         41              среднее             1   \n",
              "10         2   -4171.483647         36               высшее             0   \n",
              "11         0    -792.701887         40              среднее             1   \n",
              "12         0            NaN         65              среднее             1   \n",
              "13         0   -1846.641941         54  неоконченное высшее             2   \n",
              "14         0   -1844.956182         56               высшее             0   \n",
              "15         1    -972.364419         26              среднее             1   \n",
              "16         0   -1719.934226         35              среднее             1   \n",
              "17         0   -2369.999720         33               высшее             0   \n",
              "18         0  400281.136913         53              среднее             1   \n",
              "19         0  -10038.818549         48              СРЕДНЕЕ             1   \n",
              "\n",
              "       family_status  family_status_id gender income_type  debt  \\\n",
              "0    женат / замужем                 0      F   сотрудник     0   \n",
              "1    женат / замужем                 0      F   сотрудник     0   \n",
              "2    женат / замужем                 0      M   сотрудник     0   \n",
              "3    женат / замужем                 0      M   сотрудник     0   \n",
              "4   гражданский брак                 1      F   пенсионер     0   \n",
              "5   гражданский брак                 1      M   компаньон     0   \n",
              "6    женат / замужем                 0      F   компаньон     0   \n",
              "7    женат / замужем                 0      M   сотрудник     0   \n",
              "8   гражданский брак                 1      F   сотрудник     0   \n",
              "9    женат / замужем                 0      M   сотрудник     0   \n",
              "10   женат / замужем                 0      M   компаньон     0   \n",
              "11   женат / замужем                 0      F   сотрудник     0   \n",
              "12  гражданский брак                 1      M   пенсионер     0   \n",
              "13   женат / замужем                 0      F   сотрудник     0   \n",
              "14  гражданский брак                 1      F   компаньон     1   \n",
              "15   женат / замужем                 0      F   сотрудник     0   \n",
              "16   женат / замужем                 0      F   сотрудник     0   \n",
              "17  гражданский брак                 1      M   сотрудник     0   \n",
              "18    вдовец / вдова                 2      F   пенсионер     0   \n",
              "19         в разводе                 3      F   сотрудник     0   \n",
              "\n",
              "     total_income                                 purpose  \n",
              "0   253875.639453                           покупка жилья  \n",
              "1   112080.014102                 приобретение автомобиля  \n",
              "2   145885.952297                           покупка жилья  \n",
              "3   267628.550329              дополнительное образование  \n",
              "4   158616.077870                         сыграть свадьбу  \n",
              "5   255763.565419                           покупка жилья  \n",
              "6   240525.971920                       операции с жильем  \n",
              "7   135823.934197                             образование  \n",
              "8    95856.832424                   на проведение свадьбы  \n",
              "9   144425.938277                 покупка жилья для семьи  \n",
              "10  113943.491460                    покупка недвижимости  \n",
              "11   77069.234271       покупка коммерческой недвижимости  \n",
              "12            NaN                         сыграть свадьбу  \n",
              "13  130458.228857                 приобретение автомобиля  \n",
              "14  165127.911772              покупка жилой недвижимости  \n",
              "15  116820.904450  строительство собственной недвижимости  \n",
              "16  289202.704229                            недвижимость  \n",
              "17   90410.586745              строительство недвижимости  \n",
              "18   56823.777243      на покупку подержанного автомобиля  \n",
              "19  242831.107982            на покупку своего автомобиля  "
            ],
            "text/html": [
              "\n",
              "  <div id=\"df-46f33f55-a393-4b8b-83af-d062823efa9a\">\n",
              "    <div class=\"colab-df-container\">\n",
              "      <div>\n",
              "<style scoped>\n",
              "    .dataframe tbody tr th:only-of-type {\n",
              "        vertical-align: middle;\n",
              "    }\n",
              "\n",
              "    .dataframe tbody tr th {\n",
              "        vertical-align: top;\n",
              "    }\n",
              "\n",
              "    .dataframe thead th {\n",
              "        text-align: right;\n",
              "    }\n",
              "</style>\n",
              "<table border=\"1\" class=\"dataframe\">\n",
              "  <thead>\n",
              "    <tr style=\"text-align: right;\">\n",
              "      <th></th>\n",
              "      <th>children</th>\n",
              "      <th>days_employed</th>\n",
              "      <th>dob_years</th>\n",
              "      <th>education</th>\n",
              "      <th>education_id</th>\n",
              "      <th>family_status</th>\n",
              "      <th>family_status_id</th>\n",
              "      <th>gender</th>\n",
              "      <th>income_type</th>\n",
              "      <th>debt</th>\n",
              "      <th>total_income</th>\n",
              "      <th>purpose</th>\n",
              "    </tr>\n",
              "  </thead>\n",
              "  <tbody>\n",
              "    <tr>\n",
              "      <th>0</th>\n",
              "      <td>1</td>\n",
              "      <td>-8437.673028</td>\n",
              "      <td>42</td>\n",
              "      <td>высшее</td>\n",
              "      <td>0</td>\n",
              "      <td>женат / замужем</td>\n",
              "      <td>0</td>\n",
              "      <td>F</td>\n",
              "      <td>сотрудник</td>\n",
              "      <td>0</td>\n",
              "      <td>253875.639453</td>\n",
              "      <td>покупка жилья</td>\n",
              "    </tr>\n",
              "    <tr>\n",
              "      <th>1</th>\n",
              "      <td>1</td>\n",
              "      <td>-4024.803754</td>\n",
              "      <td>36</td>\n",
              "      <td>среднее</td>\n",
              "      <td>1</td>\n",
              "      <td>женат / замужем</td>\n",
              "      <td>0</td>\n",
              "      <td>F</td>\n",
              "      <td>сотрудник</td>\n",
              "      <td>0</td>\n",
              "      <td>112080.014102</td>\n",
              "      <td>приобретение автомобиля</td>\n",
              "    </tr>\n",
              "    <tr>\n",
              "      <th>2</th>\n",
              "      <td>0</td>\n",
              "      <td>-5623.422610</td>\n",
              "      <td>33</td>\n",
              "      <td>Среднее</td>\n",
              "      <td>1</td>\n",
              "      <td>женат / замужем</td>\n",
              "      <td>0</td>\n",
              "      <td>M</td>\n",
              "      <td>сотрудник</td>\n",
              "      <td>0</td>\n",
              "      <td>145885.952297</td>\n",
              "      <td>покупка жилья</td>\n",
              "    </tr>\n",
              "    <tr>\n",
              "      <th>3</th>\n",
              "      <td>3</td>\n",
              "      <td>-4124.747207</td>\n",
              "      <td>32</td>\n",
              "      <td>среднее</td>\n",
              "      <td>1</td>\n",
              "      <td>женат / замужем</td>\n",
              "      <td>0</td>\n",
              "      <td>M</td>\n",
              "      <td>сотрудник</td>\n",
              "      <td>0</td>\n",
              "      <td>267628.550329</td>\n",
              "      <td>дополнительное образование</td>\n",
              "    </tr>\n",
              "    <tr>\n",
              "      <th>4</th>\n",
              "      <td>0</td>\n",
              "      <td>340266.072047</td>\n",
              "      <td>53</td>\n",
              "      <td>среднее</td>\n",
              "      <td>1</td>\n",
              "      <td>гражданский брак</td>\n",
              "      <td>1</td>\n",
              "      <td>F</td>\n",
              "      <td>пенсионер</td>\n",
              "      <td>0</td>\n",
              "      <td>158616.077870</td>\n",
              "      <td>сыграть свадьбу</td>\n",
              "    </tr>\n",
              "    <tr>\n",
              "      <th>5</th>\n",
              "      <td>0</td>\n",
              "      <td>-926.185831</td>\n",
              "      <td>27</td>\n",
              "      <td>высшее</td>\n",
              "      <td>0</td>\n",
              "      <td>гражданский брак</td>\n",
              "      <td>1</td>\n",
              "      <td>M</td>\n",
              "      <td>компаньон</td>\n",
              "      <td>0</td>\n",
              "      <td>255763.565419</td>\n",
              "      <td>покупка жилья</td>\n",
              "    </tr>\n",
              "    <tr>\n",
              "      <th>6</th>\n",
              "      <td>0</td>\n",
              "      <td>-2879.202052</td>\n",
              "      <td>43</td>\n",
              "      <td>высшее</td>\n",
              "      <td>0</td>\n",
              "      <td>женат / замужем</td>\n",
              "      <td>0</td>\n",
              "      <td>F</td>\n",
              "      <td>компаньон</td>\n",
              "      <td>0</td>\n",
              "      <td>240525.971920</td>\n",
              "      <td>операции с жильем</td>\n",
              "    </tr>\n",
              "    <tr>\n",
              "      <th>7</th>\n",
              "      <td>0</td>\n",
              "      <td>-152.779569</td>\n",
              "      <td>50</td>\n",
              "      <td>СРЕДНЕЕ</td>\n",
              "      <td>1</td>\n",
              "      <td>женат / замужем</td>\n",
              "      <td>0</td>\n",
              "      <td>M</td>\n",
              "      <td>сотрудник</td>\n",
              "      <td>0</td>\n",
              "      <td>135823.934197</td>\n",
              "      <td>образование</td>\n",
              "    </tr>\n",
              "    <tr>\n",
              "      <th>8</th>\n",
              "      <td>2</td>\n",
              "      <td>-6929.865299</td>\n",
              "      <td>35</td>\n",
              "      <td>ВЫСШЕЕ</td>\n",
              "      <td>0</td>\n",
              "      <td>гражданский брак</td>\n",
              "      <td>1</td>\n",
              "      <td>F</td>\n",
              "      <td>сотрудник</td>\n",
              "      <td>0</td>\n",
              "      <td>95856.832424</td>\n",
              "      <td>на проведение свадьбы</td>\n",
              "    </tr>\n",
              "    <tr>\n",
              "      <th>9</th>\n",
              "      <td>0</td>\n",
              "      <td>-2188.756445</td>\n",
              "      <td>41</td>\n",
              "      <td>среднее</td>\n",
              "      <td>1</td>\n",
              "      <td>женат / замужем</td>\n",
              "      <td>0</td>\n",
              "      <td>M</td>\n",
              "      <td>сотрудник</td>\n",
              "      <td>0</td>\n",
              "      <td>144425.938277</td>\n",
              "      <td>покупка жилья для семьи</td>\n",
              "    </tr>\n",
              "    <tr>\n",
              "      <th>10</th>\n",
              "      <td>2</td>\n",
              "      <td>-4171.483647</td>\n",
              "      <td>36</td>\n",
              "      <td>высшее</td>\n",
              "      <td>0</td>\n",
              "      <td>женат / замужем</td>\n",
              "      <td>0</td>\n",
              "      <td>M</td>\n",
              "      <td>компаньон</td>\n",
              "      <td>0</td>\n",
              "      <td>113943.491460</td>\n",
              "      <td>покупка недвижимости</td>\n",
              "    </tr>\n",
              "    <tr>\n",
              "      <th>11</th>\n",
              "      <td>0</td>\n",
              "      <td>-792.701887</td>\n",
              "      <td>40</td>\n",
              "      <td>среднее</td>\n",
              "      <td>1</td>\n",
              "      <td>женат / замужем</td>\n",
              "      <td>0</td>\n",
              "      <td>F</td>\n",
              "      <td>сотрудник</td>\n",
              "      <td>0</td>\n",
              "      <td>77069.234271</td>\n",
              "      <td>покупка коммерческой недвижимости</td>\n",
              "    </tr>\n",
              "    <tr>\n",
              "      <th>12</th>\n",
              "      <td>0</td>\n",
              "      <td>NaN</td>\n",
              "      <td>65</td>\n",
              "      <td>среднее</td>\n",
              "      <td>1</td>\n",
              "      <td>гражданский брак</td>\n",
              "      <td>1</td>\n",
              "      <td>M</td>\n",
              "      <td>пенсионер</td>\n",
              "      <td>0</td>\n",
              "      <td>NaN</td>\n",
              "      <td>сыграть свадьбу</td>\n",
              "    </tr>\n",
              "    <tr>\n",
              "      <th>13</th>\n",
              "      <td>0</td>\n",
              "      <td>-1846.641941</td>\n",
              "      <td>54</td>\n",
              "      <td>неоконченное высшее</td>\n",
              "      <td>2</td>\n",
              "      <td>женат / замужем</td>\n",
              "      <td>0</td>\n",
              "      <td>F</td>\n",
              "      <td>сотрудник</td>\n",
              "      <td>0</td>\n",
              "      <td>130458.228857</td>\n",
              "      <td>приобретение автомобиля</td>\n",
              "    </tr>\n",
              "    <tr>\n",
              "      <th>14</th>\n",
              "      <td>0</td>\n",
              "      <td>-1844.956182</td>\n",
              "      <td>56</td>\n",
              "      <td>высшее</td>\n",
              "      <td>0</td>\n",
              "      <td>гражданский брак</td>\n",
              "      <td>1</td>\n",
              "      <td>F</td>\n",
              "      <td>компаньон</td>\n",
              "      <td>1</td>\n",
              "      <td>165127.911772</td>\n",
              "      <td>покупка жилой недвижимости</td>\n",
              "    </tr>\n",
              "    <tr>\n",
              "      <th>15</th>\n",
              "      <td>1</td>\n",
              "      <td>-972.364419</td>\n",
              "      <td>26</td>\n",
              "      <td>среднее</td>\n",
              "      <td>1</td>\n",
              "      <td>женат / замужем</td>\n",
              "      <td>0</td>\n",
              "      <td>F</td>\n",
              "      <td>сотрудник</td>\n",
              "      <td>0</td>\n",
              "      <td>116820.904450</td>\n",
              "      <td>строительство собственной недвижимости</td>\n",
              "    </tr>\n",
              "    <tr>\n",
              "      <th>16</th>\n",
              "      <td>0</td>\n",
              "      <td>-1719.934226</td>\n",
              "      <td>35</td>\n",
              "      <td>среднее</td>\n",
              "      <td>1</td>\n",
              "      <td>женат / замужем</td>\n",
              "      <td>0</td>\n",
              "      <td>F</td>\n",
              "      <td>сотрудник</td>\n",
              "      <td>0</td>\n",
              "      <td>289202.704229</td>\n",
              "      <td>недвижимость</td>\n",
              "    </tr>\n",
              "    <tr>\n",
              "      <th>17</th>\n",
              "      <td>0</td>\n",
              "      <td>-2369.999720</td>\n",
              "      <td>33</td>\n",
              "      <td>высшее</td>\n",
              "      <td>0</td>\n",
              "      <td>гражданский брак</td>\n",
              "      <td>1</td>\n",
              "      <td>M</td>\n",
              "      <td>сотрудник</td>\n",
              "      <td>0</td>\n",
              "      <td>90410.586745</td>\n",
              "      <td>строительство недвижимости</td>\n",
              "    </tr>\n",
              "    <tr>\n",
              "      <th>18</th>\n",
              "      <td>0</td>\n",
              "      <td>400281.136913</td>\n",
              "      <td>53</td>\n",
              "      <td>среднее</td>\n",
              "      <td>1</td>\n",
              "      <td>вдовец / вдова</td>\n",
              "      <td>2</td>\n",
              "      <td>F</td>\n",
              "      <td>пенсионер</td>\n",
              "      <td>0</td>\n",
              "      <td>56823.777243</td>\n",
              "      <td>на покупку подержанного автомобиля</td>\n",
              "    </tr>\n",
              "    <tr>\n",
              "      <th>19</th>\n",
              "      <td>0</td>\n",
              "      <td>-10038.818549</td>\n",
              "      <td>48</td>\n",
              "      <td>СРЕДНЕЕ</td>\n",
              "      <td>1</td>\n",
              "      <td>в разводе</td>\n",
              "      <td>3</td>\n",
              "      <td>F</td>\n",
              "      <td>сотрудник</td>\n",
              "      <td>0</td>\n",
              "      <td>242831.107982</td>\n",
              "      <td>на покупку своего автомобиля</td>\n",
              "    </tr>\n",
              "  </tbody>\n",
              "</table>\n",
              "</div>\n",
              "      <button class=\"colab-df-convert\" onclick=\"convertToInteractive('df-46f33f55-a393-4b8b-83af-d062823efa9a')\"\n",
              "              title=\"Convert this dataframe to an interactive table.\"\n",
              "              style=\"display:none;\">\n",
              "        \n",
              "  <svg xmlns=\"http://www.w3.org/2000/svg\" height=\"24px\"viewBox=\"0 0 24 24\"\n",
              "       width=\"24px\">\n",
              "    <path d=\"M0 0h24v24H0V0z\" fill=\"none\"/>\n",
              "    <path d=\"M18.56 5.44l.94 2.06.94-2.06 2.06-.94-2.06-.94-.94-2.06-.94 2.06-2.06.94zm-11 1L8.5 8.5l.94-2.06 2.06-.94-2.06-.94L8.5 2.5l-.94 2.06-2.06.94zm10 10l.94 2.06.94-2.06 2.06-.94-2.06-.94-.94-2.06-.94 2.06-2.06.94z\"/><path d=\"M17.41 7.96l-1.37-1.37c-.4-.4-.92-.59-1.43-.59-.52 0-1.04.2-1.43.59L10.3 9.45l-7.72 7.72c-.78.78-.78 2.05 0 2.83L4 21.41c.39.39.9.59 1.41.59.51 0 1.02-.2 1.41-.59l7.78-7.78 2.81-2.81c.8-.78.8-2.07 0-2.86zM5.41 20L4 18.59l7.72-7.72 1.47 1.35L5.41 20z\"/>\n",
              "  </svg>\n",
              "      </button>\n",
              "      \n",
              "  <style>\n",
              "    .colab-df-container {\n",
              "      display:flex;\n",
              "      flex-wrap:wrap;\n",
              "      gap: 12px;\n",
              "    }\n",
              "\n",
              "    .colab-df-convert {\n",
              "      background-color: #E8F0FE;\n",
              "      border: none;\n",
              "      border-radius: 50%;\n",
              "      cursor: pointer;\n",
              "      display: none;\n",
              "      fill: #1967D2;\n",
              "      height: 32px;\n",
              "      padding: 0 0 0 0;\n",
              "      width: 32px;\n",
              "    }\n",
              "\n",
              "    .colab-df-convert:hover {\n",
              "      background-color: #E2EBFA;\n",
              "      box-shadow: 0px 1px 2px rgba(60, 64, 67, 0.3), 0px 1px 3px 1px rgba(60, 64, 67, 0.15);\n",
              "      fill: #174EA6;\n",
              "    }\n",
              "\n",
              "    [theme=dark] .colab-df-convert {\n",
              "      background-color: #3B4455;\n",
              "      fill: #D2E3FC;\n",
              "    }\n",
              "\n",
              "    [theme=dark] .colab-df-convert:hover {\n",
              "      background-color: #434B5C;\n",
              "      box-shadow: 0px 1px 3px 1px rgba(0, 0, 0, 0.15);\n",
              "      filter: drop-shadow(0px 1px 2px rgba(0, 0, 0, 0.3));\n",
              "      fill: #FFFFFF;\n",
              "    }\n",
              "  </style>\n",
              "\n",
              "      <script>\n",
              "        const buttonEl =\n",
              "          document.querySelector('#df-46f33f55-a393-4b8b-83af-d062823efa9a button.colab-df-convert');\n",
              "        buttonEl.style.display =\n",
              "          google.colab.kernel.accessAllowed ? 'block' : 'none';\n",
              "\n",
              "        async function convertToInteractive(key) {\n",
              "          const element = document.querySelector('#df-46f33f55-a393-4b8b-83af-d062823efa9a');\n",
              "          const dataTable =\n",
              "            await google.colab.kernel.invokeFunction('convertToInteractive',\n",
              "                                                     [key], {});\n",
              "          if (!dataTable) return;\n",
              "\n",
              "          const docLinkHtml = 'Like what you see? Visit the ' +\n",
              "            '<a target=\"_blank\" href=https://colab.research.google.com/notebooks/data_table.ipynb>data table notebook</a>'\n",
              "            + ' to learn more about interactive tables.';\n",
              "          element.innerHTML = '';\n",
              "          dataTable['output_type'] = 'display_data';\n",
              "          await google.colab.output.renderOutput(dataTable, element);\n",
              "          const docLink = document.createElement('div');\n",
              "          docLink.innerHTML = docLinkHtml;\n",
              "          element.appendChild(docLink);\n",
              "        }\n",
              "      </script>\n",
              "    </div>\n",
              "  </div>\n",
              "  "
            ]
          },
          "metadata": {},
          "execution_count": 53
        }
      ]
    },
    {
      "cell_type": "code",
      "execution_count": null,
      "id": "f81c7a2c",
      "metadata": {
        "deletable": false,
        "id": "f81c7a2c",
        "outputId": "72d9469c-4ab3-4313-bcd1-02084523f80f",
        "colab": {
          "base_uri": "https://localhost:8080/"
        }
      },
      "outputs": [
        {
          "output_type": "stream",
          "name": "stdout",
          "text": [
            "<class 'pandas.core.frame.DataFrame'>\n",
            "RangeIndex: 21525 entries, 0 to 21524\n",
            "Data columns (total 12 columns):\n",
            " #   Column            Non-Null Count  Dtype  \n",
            "---  ------            --------------  -----  \n",
            " 0   children          21525 non-null  int64  \n",
            " 1   days_employed     19351 non-null  float64\n",
            " 2   dob_years         21525 non-null  int64  \n",
            " 3   education         21525 non-null  object \n",
            " 4   education_id      21525 non-null  int64  \n",
            " 5   family_status     21525 non-null  object \n",
            " 6   family_status_id  21525 non-null  int64  \n",
            " 7   gender            21525 non-null  object \n",
            " 8   income_type       21525 non-null  object \n",
            " 9   debt              21525 non-null  int64  \n",
            " 10  total_income      19351 non-null  float64\n",
            " 11  purpose           21525 non-null  object \n",
            "dtypes: float64(2), int64(5), object(5)\n",
            "memory usage: 2.0+ MB\n"
          ]
        }
      ],
      "source": [
        "data.info()"
      ]
    },
    {
      "cell_type": "markdown",
      "id": "0c993118",
      "metadata": {
        "deletable": false,
        "editable": false,
        "id": "0c993118"
      },
      "source": [
        "## Предобработка данных"
      ]
    },
    {
      "cell_type": "markdown",
      "id": "4122988b",
      "metadata": {
        "deletable": false,
        "editable": false,
        "id": "4122988b"
      },
      "source": [
        "### Удаление пропусков"
      ]
    },
    {
      "cell_type": "code",
      "execution_count": null,
      "id": "06342b42",
      "metadata": {
        "deletable": false,
        "id": "06342b42",
        "outputId": "9c63b9f4-5c8b-40af-a525-76886afb6436",
        "colab": {
          "base_uri": "https://localhost:8080/"
        }
      },
      "outputs": [
        {
          "output_type": "execute_result",
          "data": {
            "text/plain": [
              "children               0\n",
              "days_employed       2174\n",
              "dob_years              0\n",
              "education              0\n",
              "education_id           0\n",
              "family_status          0\n",
              "family_status_id       0\n",
              "gender                 0\n",
              "income_type            0\n",
              "debt                   0\n",
              "total_income        2174\n",
              "purpose                0\n",
              "dtype: int64"
            ]
          },
          "metadata": {},
          "execution_count": 55
        }
      ],
      "source": [
        "data.isna().sum()"
      ]
    },
    {
      "cell_type": "markdown",
      "source": [
        "Были обнаружены пропущенные значения в трудовом стаже и заработной плате. Заменим медианными значениями в соответствие с типом занятости."
      ],
      "metadata": {
        "id": "TxhYmm8NTyxU"
      },
      "id": "TxhYmm8NTyxU"
    },
    {
      "cell_type": "code",
      "execution_count": null,
      "id": "cf85f112",
      "metadata": {
        "deletable": false,
        "id": "cf85f112"
      },
      "outputs": [],
      "source": [
        "for t in data['income_type'].unique():\n",
        "    data.loc[(data['income_type'] == t) & (data['total_income'].isna()), 'total_income'] = \\\n",
        "    data.loc[(data['income_type'] == t), 'total_income'].median()"
      ]
    },
    {
      "cell_type": "code",
      "execution_count": null,
      "id": "fe3f1fd9",
      "metadata": {
        "deletable": false,
        "id": "fe3f1fd9"
      },
      "outputs": [],
      "source": [
        "for t in data['income_type'].unique():\n",
        "    data.loc[(data['income_type'] == t) & (data['days_employed'].isna()), 'days_employed'] = \\\n",
        "    data.loc[(data['income_type'] == t), 'days_employed'].median()"
      ]
    },
    {
      "cell_type": "markdown",
      "id": "d11e8225",
      "metadata": {
        "deletable": false,
        "editable": false,
        "id": "d11e8225"
      },
      "source": [
        "### Обработка аномальных значений"
      ]
    },
    {
      "cell_type": "code",
      "source": [
        "data['days_employed'].unique()"
      ],
      "metadata": {
        "colab": {
          "base_uri": "https://localhost:8080/"
        },
        "id": "8YfeiXG7UrZ1",
        "outputId": "588f035a-f572-45c2-9dbd-4dbb45b6c5bc"
      },
      "id": "8YfeiXG7UrZ1",
      "execution_count": null,
      "outputs": [
        {
          "output_type": "execute_result",
          "data": {
            "text/plain": [
              "array([-8437.67302776, -4024.80375385, -5623.42261023, ...,\n",
              "       -2113.3468877 , -3112.4817052 , -1984.50758853])"
            ]
          },
          "metadata": {},
          "execution_count": 58
        }
      ]
    },
    {
      "cell_type": "markdown",
      "source": [
        "В трудовом стаже имеются отрицательные значение. Уберем знак \"-\"."
      ],
      "metadata": {
        "id": "4CAC-jaVU0sj"
      },
      "id": "4CAC-jaVU0sj"
    },
    {
      "cell_type": "code",
      "execution_count": null,
      "id": "0081ccc2",
      "metadata": {
        "deletable": false,
        "id": "0081ccc2"
      },
      "outputs": [],
      "source": [
        "data['days_employed'] = data['days_employed'].abs()"
      ]
    },
    {
      "cell_type": "code",
      "execution_count": null,
      "id": "c4ed5d4a",
      "metadata": {
        "deletable": false,
        "id": "c4ed5d4a",
        "outputId": "69c32566-59ca-4e8c-8a5b-ff51986fa685",
        "colab": {
          "base_uri": "https://localhost:8080/"
        }
      },
      "outputs": [
        {
          "output_type": "execute_result",
          "data": {
            "text/plain": [
              "income_type\n",
              "безработный        366413.652744\n",
              "в декрете            3296.759962\n",
              "госслужащий          2689.368353\n",
              "компаньон            1547.382223\n",
              "пенсионер          365213.306266\n",
              "предприниматель       520.848083\n",
              "сотрудник            1574.202821\n",
              "студент               578.751554\n",
              "Name: days_employed, dtype: float64"
            ]
          },
          "metadata": {},
          "execution_count": 60
        }
      ],
      "source": [
        "data.groupby('income_type')['days_employed'].agg('median')"
      ]
    },
    {
      "cell_type": "markdown",
      "id": "bfeb33eb",
      "metadata": {
        "deletable": false,
        "editable": false,
        "id": "bfeb33eb"
      },
      "source": [
        "У двух типов (безработные и пенсионеры) получаются аномально большие значения. Но этот столбец не понадобится для исследования."
      ]
    },
    {
      "cell_type": "code",
      "execution_count": null,
      "id": "6efa47e4",
      "metadata": {
        "deletable": false,
        "id": "6efa47e4",
        "outputId": "2d204803-aebb-4d2a-d20a-31a17e9283c8",
        "colab": {
          "base_uri": "https://localhost:8080/"
        }
      },
      "outputs": [
        {
          "output_type": "execute_result",
          "data": {
            "text/plain": [
              "array([ 1,  0,  3,  2, -1,  4, 20,  5])"
            ]
          },
          "metadata": {},
          "execution_count": 61
        }
      ],
      "source": [
        "data['children'].unique()"
      ]
    },
    {
      "cell_type": "markdown",
      "source": [
        "Также аномальные значения обнаружены в количестве детей. В дальнейшем анализе не будем их учитывать."
      ],
      "metadata": {
        "id": "1YTER27RVMvR"
      },
      "id": "1YTER27RVMvR"
    },
    {
      "cell_type": "code",
      "execution_count": null,
      "id": "9db93052",
      "metadata": {
        "deletable": false,
        "id": "9db93052"
      },
      "outputs": [],
      "source": [
        "data = data[(data['children'] != -1) & (data['children'] != 20)]"
      ]
    },
    {
      "cell_type": "code",
      "execution_count": null,
      "id": "36deaf02",
      "metadata": {
        "deletable": false,
        "id": "36deaf02",
        "outputId": "df8fb0f1-6a42-4f01-b1b8-501b302d766c",
        "colab": {
          "base_uri": "https://localhost:8080/"
        }
      },
      "outputs": [
        {
          "output_type": "execute_result",
          "data": {
            "text/plain": [
              "array([1, 0, 3, 2, 4, 5])"
            ]
          },
          "metadata": {},
          "execution_count": 63
        }
      ],
      "source": [
        "data['children'].unique()"
      ]
    },
    {
      "cell_type": "code",
      "execution_count": null,
      "id": "ee6014d9",
      "metadata": {
        "deletable": false,
        "id": "ee6014d9",
        "outputId": "411dabe9-b51c-407f-a48a-73c943ee2bd7",
        "colab": {
          "base_uri": "https://localhost:8080/"
        }
      },
      "outputs": [
        {
          "output_type": "execute_result",
          "data": {
            "text/plain": [
              "children            0\n",
              "days_employed       0\n",
              "dob_years           0\n",
              "education           0\n",
              "education_id        0\n",
              "family_status       0\n",
              "family_status_id    0\n",
              "gender              0\n",
              "income_type         0\n",
              "debt                0\n",
              "total_income        0\n",
              "purpose             0\n",
              "dtype: int64"
            ]
          },
          "metadata": {},
          "execution_count": 64
        }
      ],
      "source": [
        "data.isna().sum()"
      ]
    },
    {
      "cell_type": "markdown",
      "id": "1c5308a4",
      "metadata": {
        "deletable": false,
        "editable": false,
        "id": "1c5308a4"
      },
      "source": [
        "### Изменение типов данных"
      ]
    },
    {
      "cell_type": "code",
      "source": [
        "data['total_income'].unique()"
      ],
      "metadata": {
        "colab": {
          "base_uri": "https://localhost:8080/"
        },
        "id": "1vD2jzQUVxGA",
        "outputId": "951f7dc6-eb65-4cbc-f473-40990350342d"
      },
      "id": "1vD2jzQUVxGA",
      "execution_count": null,
      "outputs": [
        {
          "output_type": "execute_result",
          "data": {
            "text/plain": [
              "array([253875.6394526 , 112080.01410244, 145885.95229686, ...,\n",
              "        89672.56115303, 244093.05050043,  82047.41889948])"
            ]
          },
          "metadata": {},
          "execution_count": 65
        }
      ]
    },
    {
      "cell_type": "markdown",
      "source": [
        "Для удобства преобразуем ежемесячный доход к целочисленному значению."
      ],
      "metadata": {
        "id": "CdyljoN5Vu2y"
      },
      "id": "CdyljoN5Vu2y"
    },
    {
      "cell_type": "code",
      "execution_count": null,
      "id": "caffe885",
      "metadata": {
        "deletable": false,
        "id": "caffe885",
        "colab": {
          "base_uri": "https://localhost:8080/"
        },
        "outputId": "5f5533da-2607-4819-9156-ade1933162a8"
      },
      "outputs": [
        {
          "output_type": "stream",
          "name": "stderr",
          "text": [
            "/usr/local/lib/python3.7/dist-packages/ipykernel_launcher.py:1: SettingWithCopyWarning: \n",
            "A value is trying to be set on a copy of a slice from a DataFrame.\n",
            "Try using .loc[row_indexer,col_indexer] = value instead\n",
            "\n",
            "See the caveats in the documentation: https://pandas.pydata.org/pandas-docs/stable/user_guide/indexing.html#returning-a-view-versus-a-copy\n",
            "  \"\"\"Entry point for launching an IPython kernel.\n"
          ]
        }
      ],
      "source": [
        "data['total_income'] = data['total_income'].astype(int)"
      ]
    },
    {
      "cell_type": "markdown",
      "id": "0ff87409",
      "metadata": {
        "deletable": false,
        "editable": false,
        "id": "0ff87409"
      },
      "source": [
        "### Обработка дубликатов"
      ]
    },
    {
      "cell_type": "code",
      "source": [
        "data['education'].value_counts()"
      ],
      "metadata": {
        "colab": {
          "base_uri": "https://localhost:8080/"
        },
        "id": "vFPtU4IzWCnZ",
        "outputId": "1f6183c6-1224-47b7-f769-4e23dab2fedc"
      },
      "id": "vFPtU4IzWCnZ",
      "execution_count": null,
      "outputs": [
        {
          "output_type": "execute_result",
          "data": {
            "text/plain": [
              "среднее                13667\n",
              "высшее                  4698\n",
              "СРЕДНЕЕ                  766\n",
              "Среднее                  703\n",
              "неоконченное высшее      665\n",
              "ВЫСШЕЕ                   271\n",
              "Высшее                   268\n",
              "начальное                250\n",
              "Неоконченное высшее       47\n",
              "НЕОКОНЧЕННОЕ ВЫСШЕЕ       29\n",
              "НАЧАЛЬНОЕ                 17\n",
              "Начальное                 15\n",
              "ученая степень             4\n",
              "Ученая степень             1\n",
              "УЧЕНАЯ СТЕПЕНЬ             1\n",
              "Name: education, dtype: int64"
            ]
          },
          "metadata": {},
          "execution_count": 67
        }
      ]
    },
    {
      "cell_type": "markdown",
      "source": [
        "Образование записано разным регистром, приведем к одному регистру. Удалим дубликаты."
      ],
      "metadata": {
        "id": "piep7-y-WKwx"
      },
      "id": "piep7-y-WKwx"
    },
    {
      "cell_type": "code",
      "execution_count": null,
      "id": "0997169e",
      "metadata": {
        "deletable": false,
        "id": "0997169e"
      },
      "outputs": [],
      "source": [
        "data['education'] = data['education'].str.lower()"
      ]
    },
    {
      "cell_type": "code",
      "execution_count": null,
      "id": "58e32b4a",
      "metadata": {
        "deletable": false,
        "id": "58e32b4a",
        "outputId": "cc86387f-02ee-4348-b774-26181ecce630",
        "colab": {
          "base_uri": "https://localhost:8080/"
        }
      },
      "outputs": [
        {
          "output_type": "execute_result",
          "data": {
            "text/plain": [
              "54"
            ]
          },
          "metadata": {},
          "execution_count": 68
        }
      ],
      "source": [
        "data.duplicated().sum()"
      ]
    },
    {
      "cell_type": "code",
      "execution_count": null,
      "id": "170dd908",
      "metadata": {
        "deletable": false,
        "id": "170dd908"
      },
      "outputs": [],
      "source": [
        "data = data.drop_duplicates()"
      ]
    },
    {
      "cell_type": "markdown",
      "id": "a8303857",
      "metadata": {
        "deletable": false,
        "editable": false,
        "id": "a8303857"
      },
      "source": [
        "### Категоризация данных"
      ]
    },
    {
      "cell_type": "markdown",
      "source": [
        "Для категоризации заёмщиков по доходу создадим функцию"
      ],
      "metadata": {
        "id": "Rh7hyH78WgBp"
      },
      "id": "Rh7hyH78WgBp"
    },
    {
      "cell_type": "code",
      "execution_count": null,
      "id": "4c841d8c",
      "metadata": {
        "deletable": false,
        "id": "4c841d8c"
      },
      "outputs": [],
      "source": [
        "def categorize_income(income):\n",
        "    try:\n",
        "        if 0 <= income <= 30000:\n",
        "            return 'E'\n",
        "        elif 30001 <= income <= 50000:\n",
        "            return 'D'\n",
        "        elif 50001 <= income <= 200000:\n",
        "            return 'C'\n",
        "        elif 200001 <= income <= 1000000:\n",
        "            return 'B'\n",
        "        elif income >= 1000001:\n",
        "            return 'A'\n",
        "    except:\n",
        "        pass"
      ]
    },
    {
      "cell_type": "code",
      "execution_count": null,
      "id": "d75cc992",
      "metadata": {
        "deletable": false,
        "id": "d75cc992",
        "outputId": "3a5e0757-427c-489b-d775-1b8de5e7a7b9",
        "colab": {
          "base_uri": "https://localhost:8080/",
          "height": 165
        }
      },
      "outputs": [
        {
          "output_type": "error",
          "ename": "NameError",
          "evalue": "ignored",
          "traceback": [
            "\u001b[0;31m---------------------------------------------------------------------------\u001b[0m",
            "\u001b[0;31mNameError\u001b[0m                                 Traceback (most recent call last)",
            "\u001b[0;32m<ipython-input-2-0bc713f3049f>\u001b[0m in \u001b[0;36m<module>\u001b[0;34m\u001b[0m\n\u001b[0;32m----> 1\u001b[0;31m \u001b[0mdata\u001b[0m\u001b[0;34m[\u001b[0m\u001b[0;34m'total_income_category'\u001b[0m\u001b[0;34m]\u001b[0m \u001b[0;34m=\u001b[0m \u001b[0mdata\u001b[0m\u001b[0;34m[\u001b[0m\u001b[0;34m'total_income'\u001b[0m\u001b[0;34m]\u001b[0m\u001b[0;34m.\u001b[0m\u001b[0mapply\u001b[0m\u001b[0;34m(\u001b[0m\u001b[0mcategorize_income\u001b[0m\u001b[0;34m)\u001b[0m\u001b[0;34m\u001b[0m\u001b[0;34m\u001b[0m\u001b[0m\n\u001b[0m",
            "\u001b[0;31mNameError\u001b[0m: name 'data' is not defined"
          ]
        }
      ],
      "source": [
        "data['total_income_category'] = data['total_income'].apply(categorize_income)"
      ]
    },
    {
      "cell_type": "code",
      "execution_count": null,
      "id": "bc70d76c",
      "metadata": {
        "deletable": false,
        "id": "bc70d76c"
      },
      "outputs": [],
      "source": [
        "data['purpose'].unique()"
      ]
    },
    {
      "cell_type": "markdown",
      "source": [
        "Для категоризации по цели кредита можно выделить 4 основные цели: операции с автомобилем, операции с недвижимостью, проведение свадьбы, получение образования."
      ],
      "metadata": {
        "id": "3mO909KNWrZt"
      },
      "id": "3mO909KNWrZt"
    },
    {
      "cell_type": "code",
      "execution_count": null,
      "id": "3dabac7e",
      "metadata": {
        "deletable": false,
        "id": "3dabac7e"
      },
      "outputs": [],
      "source": [
        "def categorize_purpose(row):\n",
        "    try:\n",
        "        if 'автом' in row:\n",
        "            return 'операции с автомобилем'\n",
        "        elif 'жил' in row or 'недвиж' in row:\n",
        "            return 'операции с недвижимостью'\n",
        "        elif 'свад' in row:\n",
        "            return 'проведение свадьбы'\n",
        "        elif 'образов' in row:\n",
        "            return 'получение образования'\n",
        "    except:\n",
        "        return 'нет категории'"
      ]
    },
    {
      "cell_type": "code",
      "execution_count": null,
      "id": "6e37ac10",
      "metadata": {
        "deletable": false,
        "id": "6e37ac10"
      },
      "outputs": [],
      "source": [
        "data['purpose_category'] = data['purpose'].apply(categorize_purpose)"
      ]
    },
    {
      "cell_type": "markdown",
      "id": "67eb4f35",
      "metadata": {
        "deletable": false,
        "editable": false,
        "id": "67eb4f35"
      },
      "source": [
        "# Исследоваение данных"
      ]
    },
    {
      "cell_type": "markdown",
      "id": "9b6160ac",
      "metadata": {
        "deletable": false,
        "editable": false,
        "id": "9b6160ac"
      },
      "source": [
        "## Есть ли зависимость между количеством детей и возвратом кредита в срок?"
      ]
    },
    {
      "cell_type": "code",
      "execution_count": null,
      "id": "4d05b56c",
      "metadata": {
        "deletable": false,
        "id": "4d05b56c",
        "outputId": "74c0cb86-0682-46c6-bf04-746db12efe9e",
        "colab": {
          "base_uri": "https://localhost:8080/",
          "height": 269
        }
      },
      "outputs": [
        {
          "output_type": "execute_result",
          "data": {
            "text/plain": [
              "debt            0       1  Процент задолженностей\n",
              "children                                         \n",
              "0         13028.0  1063.0                    7.54\n",
              "1          4364.0   444.0                    9.23\n",
              "2          1858.0   194.0                    9.45\n",
              "3           303.0    27.0                    8.18\n",
              "4            37.0     4.0                    9.76\n",
              "5             9.0     NaN                     NaN"
            ],
            "text/html": [
              "\n",
              "  <div id=\"df-2b5d4872-20aa-4a5a-b783-6c6acc40a2de\">\n",
              "    <div class=\"colab-df-container\">\n",
              "      <div>\n",
              "<style scoped>\n",
              "    .dataframe tbody tr th:only-of-type {\n",
              "        vertical-align: middle;\n",
              "    }\n",
              "\n",
              "    .dataframe tbody tr th {\n",
              "        vertical-align: top;\n",
              "    }\n",
              "\n",
              "    .dataframe thead th {\n",
              "        text-align: right;\n",
              "    }\n",
              "</style>\n",
              "<table border=\"1\" class=\"dataframe\">\n",
              "  <thead>\n",
              "    <tr style=\"text-align: right;\">\n",
              "      <th>debt</th>\n",
              "      <th>0</th>\n",
              "      <th>1</th>\n",
              "      <th>Процент задолженностей</th>\n",
              "    </tr>\n",
              "    <tr>\n",
              "      <th>children</th>\n",
              "      <th></th>\n",
              "      <th></th>\n",
              "      <th></th>\n",
              "    </tr>\n",
              "  </thead>\n",
              "  <tbody>\n",
              "    <tr>\n",
              "      <th>0</th>\n",
              "      <td>13028.0</td>\n",
              "      <td>1063.0</td>\n",
              "      <td>7.54</td>\n",
              "    </tr>\n",
              "    <tr>\n",
              "      <th>1</th>\n",
              "      <td>4364.0</td>\n",
              "      <td>444.0</td>\n",
              "      <td>9.23</td>\n",
              "    </tr>\n",
              "    <tr>\n",
              "      <th>2</th>\n",
              "      <td>1858.0</td>\n",
              "      <td>194.0</td>\n",
              "      <td>9.45</td>\n",
              "    </tr>\n",
              "    <tr>\n",
              "      <th>3</th>\n",
              "      <td>303.0</td>\n",
              "      <td>27.0</td>\n",
              "      <td>8.18</td>\n",
              "    </tr>\n",
              "    <tr>\n",
              "      <th>4</th>\n",
              "      <td>37.0</td>\n",
              "      <td>4.0</td>\n",
              "      <td>9.76</td>\n",
              "    </tr>\n",
              "    <tr>\n",
              "      <th>5</th>\n",
              "      <td>9.0</td>\n",
              "      <td>NaN</td>\n",
              "      <td>NaN</td>\n",
              "    </tr>\n",
              "  </tbody>\n",
              "</table>\n",
              "</div>\n",
              "      <button class=\"colab-df-convert\" onclick=\"convertToInteractive('df-2b5d4872-20aa-4a5a-b783-6c6acc40a2de')\"\n",
              "              title=\"Convert this dataframe to an interactive table.\"\n",
              "              style=\"display:none;\">\n",
              "        \n",
              "  <svg xmlns=\"http://www.w3.org/2000/svg\" height=\"24px\"viewBox=\"0 0 24 24\"\n",
              "       width=\"24px\">\n",
              "    <path d=\"M0 0h24v24H0V0z\" fill=\"none\"/>\n",
              "    <path d=\"M18.56 5.44l.94 2.06.94-2.06 2.06-.94-2.06-.94-.94-2.06-.94 2.06-2.06.94zm-11 1L8.5 8.5l.94-2.06 2.06-.94-2.06-.94L8.5 2.5l-.94 2.06-2.06.94zm10 10l.94 2.06.94-2.06 2.06-.94-2.06-.94-.94-2.06-.94 2.06-2.06.94z\"/><path d=\"M17.41 7.96l-1.37-1.37c-.4-.4-.92-.59-1.43-.59-.52 0-1.04.2-1.43.59L10.3 9.45l-7.72 7.72c-.78.78-.78 2.05 0 2.83L4 21.41c.39.39.9.59 1.41.59.51 0 1.02-.2 1.41-.59l7.78-7.78 2.81-2.81c.8-.78.8-2.07 0-2.86zM5.41 20L4 18.59l7.72-7.72 1.47 1.35L5.41 20z\"/>\n",
              "  </svg>\n",
              "      </button>\n",
              "      \n",
              "  <style>\n",
              "    .colab-df-container {\n",
              "      display:flex;\n",
              "      flex-wrap:wrap;\n",
              "      gap: 12px;\n",
              "    }\n",
              "\n",
              "    .colab-df-convert {\n",
              "      background-color: #E8F0FE;\n",
              "      border: none;\n",
              "      border-radius: 50%;\n",
              "      cursor: pointer;\n",
              "      display: none;\n",
              "      fill: #1967D2;\n",
              "      height: 32px;\n",
              "      padding: 0 0 0 0;\n",
              "      width: 32px;\n",
              "    }\n",
              "\n",
              "    .colab-df-convert:hover {\n",
              "      background-color: #E2EBFA;\n",
              "      box-shadow: 0px 1px 2px rgba(60, 64, 67, 0.3), 0px 1px 3px 1px rgba(60, 64, 67, 0.15);\n",
              "      fill: #174EA6;\n",
              "    }\n",
              "\n",
              "    [theme=dark] .colab-df-convert {\n",
              "      background-color: #3B4455;\n",
              "      fill: #D2E3FC;\n",
              "    }\n",
              "\n",
              "    [theme=dark] .colab-df-convert:hover {\n",
              "      background-color: #434B5C;\n",
              "      box-shadow: 0px 1px 3px 1px rgba(0, 0, 0, 0.15);\n",
              "      filter: drop-shadow(0px 1px 2px rgba(0, 0, 0, 0.3));\n",
              "      fill: #FFFFFF;\n",
              "    }\n",
              "  </style>\n",
              "\n",
              "      <script>\n",
              "        const buttonEl =\n",
              "          document.querySelector('#df-2b5d4872-20aa-4a5a-b783-6c6acc40a2de button.colab-df-convert');\n",
              "        buttonEl.style.display =\n",
              "          google.colab.kernel.accessAllowed ? 'block' : 'none';\n",
              "\n",
              "        async function convertToInteractive(key) {\n",
              "          const element = document.querySelector('#df-2b5d4872-20aa-4a5a-b783-6c6acc40a2de');\n",
              "          const dataTable =\n",
              "            await google.colab.kernel.invokeFunction('convertToInteractive',\n",
              "                                                     [key], {});\n",
              "          if (!dataTable) return;\n",
              "\n",
              "          const docLinkHtml = 'Like what you see? Visit the ' +\n",
              "            '<a target=\"_blank\" href=https://colab.research.google.com/notebooks/data_table.ipynb>data table notebook</a>'\n",
              "            + ' to learn more about interactive tables.';\n",
              "          element.innerHTML = '';\n",
              "          dataTable['output_type'] = 'display_data';\n",
              "          await google.colab.output.renderOutput(dataTable, element);\n",
              "          const docLink = document.createElement('div');\n",
              "          docLink.innerHTML = docLinkHtml;\n",
              "          element.appendChild(docLink);\n",
              "        }\n",
              "      </script>\n",
              "    </div>\n",
              "  </div>\n",
              "  "
            ]
          },
          "metadata": {},
          "execution_count": 22
        }
      ],
      "source": [
        "pivot_table_children = data.pivot_table(index = 'children', columns = 'debt', values = 'gender', aggfunc = 'count')\n",
        "pivot_table_children['Процент задолженностей'] = \\\n",
        "round(pivot_table_children[1] / (pivot_table_children[0] + pivot_table_children[1]) * 100, 2)\n",
        "pivot_table_children"
      ]
    },
    {
      "cell_type": "markdown",
      "id": "ca46a372",
      "metadata": {
        "deletable": false,
        "id": "ca46a372"
      },
      "source": [
        "**Вывод:** В выборку попало слишком мало заемщиков с пятью и четырьмя детьми. Попробуем категоризировать по типу семьи в зависимости от количества детей. Таким образом, если количество детей = 0, назовем заёмщика бездетным, 1-2 ребенка - малодетным, от 3 и более - многодетным."
      ]
    },
    {
      "cell_type": "code",
      "execution_count": null,
      "id": "4ec303a5",
      "metadata": {
        "id": "4ec303a5"
      },
      "outputs": [],
      "source": [
        "def count_of_children(count):\n",
        "    try:\n",
        "        if count == 0:\n",
        "            return 'бездетные'\n",
        "        elif 1 <= count <= 2:\n",
        "            return 'малодетные'\n",
        "        elif count >= 3:\n",
        "            return 'многодетные'\n",
        "    except:\n",
        "        pass    "
      ]
    },
    {
      "cell_type": "code",
      "execution_count": null,
      "id": "a8189c52",
      "metadata": {
        "id": "a8189c52"
      },
      "outputs": [],
      "source": [
        "data['family_children_status'] = data['children'].apply(count_of_children)"
      ]
    },
    {
      "cell_type": "code",
      "execution_count": null,
      "id": "2b7b1b82",
      "metadata": {
        "id": "2b7b1b82",
        "outputId": "458d5c43-9ddd-4958-8bc9-88cdcf3b665b",
        "colab": {
          "base_uri": "https://localhost:8080/",
          "height": 175
        }
      },
      "outputs": [
        {
          "output_type": "execute_result",
          "data": {
            "text/plain": [
              "debt                        0     1  Процент задолженностей\n",
              "family_children_status                                     \n",
              "бездетные               13028  1063                    7.54\n",
              "многодетные               349    31                    8.16\n",
              "малодетные               6222   638                    9.30"
            ],
            "text/html": [
              "\n",
              "  <div id=\"df-d344f8d9-3ca4-436b-8477-db209ff6d00e\">\n",
              "    <div class=\"colab-df-container\">\n",
              "      <div>\n",
              "<style scoped>\n",
              "    .dataframe tbody tr th:only-of-type {\n",
              "        vertical-align: middle;\n",
              "    }\n",
              "\n",
              "    .dataframe tbody tr th {\n",
              "        vertical-align: top;\n",
              "    }\n",
              "\n",
              "    .dataframe thead th {\n",
              "        text-align: right;\n",
              "    }\n",
              "</style>\n",
              "<table border=\"1\" class=\"dataframe\">\n",
              "  <thead>\n",
              "    <tr style=\"text-align: right;\">\n",
              "      <th>debt</th>\n",
              "      <th>0</th>\n",
              "      <th>1</th>\n",
              "      <th>Процент задолженностей</th>\n",
              "    </tr>\n",
              "    <tr>\n",
              "      <th>family_children_status</th>\n",
              "      <th></th>\n",
              "      <th></th>\n",
              "      <th></th>\n",
              "    </tr>\n",
              "  </thead>\n",
              "  <tbody>\n",
              "    <tr>\n",
              "      <th>бездетные</th>\n",
              "      <td>13028</td>\n",
              "      <td>1063</td>\n",
              "      <td>7.54</td>\n",
              "    </tr>\n",
              "    <tr>\n",
              "      <th>многодетные</th>\n",
              "      <td>349</td>\n",
              "      <td>31</td>\n",
              "      <td>8.16</td>\n",
              "    </tr>\n",
              "    <tr>\n",
              "      <th>малодетные</th>\n",
              "      <td>6222</td>\n",
              "      <td>638</td>\n",
              "      <td>9.30</td>\n",
              "    </tr>\n",
              "  </tbody>\n",
              "</table>\n",
              "</div>\n",
              "      <button class=\"colab-df-convert\" onclick=\"convertToInteractive('df-d344f8d9-3ca4-436b-8477-db209ff6d00e')\"\n",
              "              title=\"Convert this dataframe to an interactive table.\"\n",
              "              style=\"display:none;\">\n",
              "        \n",
              "  <svg xmlns=\"http://www.w3.org/2000/svg\" height=\"24px\"viewBox=\"0 0 24 24\"\n",
              "       width=\"24px\">\n",
              "    <path d=\"M0 0h24v24H0V0z\" fill=\"none\"/>\n",
              "    <path d=\"M18.56 5.44l.94 2.06.94-2.06 2.06-.94-2.06-.94-.94-2.06-.94 2.06-2.06.94zm-11 1L8.5 8.5l.94-2.06 2.06-.94-2.06-.94L8.5 2.5l-.94 2.06-2.06.94zm10 10l.94 2.06.94-2.06 2.06-.94-2.06-.94-.94-2.06-.94 2.06-2.06.94z\"/><path d=\"M17.41 7.96l-1.37-1.37c-.4-.4-.92-.59-1.43-.59-.52 0-1.04.2-1.43.59L10.3 9.45l-7.72 7.72c-.78.78-.78 2.05 0 2.83L4 21.41c.39.39.9.59 1.41.59.51 0 1.02-.2 1.41-.59l7.78-7.78 2.81-2.81c.8-.78.8-2.07 0-2.86zM5.41 20L4 18.59l7.72-7.72 1.47 1.35L5.41 20z\"/>\n",
              "  </svg>\n",
              "      </button>\n",
              "      \n",
              "  <style>\n",
              "    .colab-df-container {\n",
              "      display:flex;\n",
              "      flex-wrap:wrap;\n",
              "      gap: 12px;\n",
              "    }\n",
              "\n",
              "    .colab-df-convert {\n",
              "      background-color: #E8F0FE;\n",
              "      border: none;\n",
              "      border-radius: 50%;\n",
              "      cursor: pointer;\n",
              "      display: none;\n",
              "      fill: #1967D2;\n",
              "      height: 32px;\n",
              "      padding: 0 0 0 0;\n",
              "      width: 32px;\n",
              "    }\n",
              "\n",
              "    .colab-df-convert:hover {\n",
              "      background-color: #E2EBFA;\n",
              "      box-shadow: 0px 1px 2px rgba(60, 64, 67, 0.3), 0px 1px 3px 1px rgba(60, 64, 67, 0.15);\n",
              "      fill: #174EA6;\n",
              "    }\n",
              "\n",
              "    [theme=dark] .colab-df-convert {\n",
              "      background-color: #3B4455;\n",
              "      fill: #D2E3FC;\n",
              "    }\n",
              "\n",
              "    [theme=dark] .colab-df-convert:hover {\n",
              "      background-color: #434B5C;\n",
              "      box-shadow: 0px 1px 3px 1px rgba(0, 0, 0, 0.15);\n",
              "      filter: drop-shadow(0px 1px 2px rgba(0, 0, 0, 0.3));\n",
              "      fill: #FFFFFF;\n",
              "    }\n",
              "  </style>\n",
              "\n",
              "      <script>\n",
              "        const buttonEl =\n",
              "          document.querySelector('#df-d344f8d9-3ca4-436b-8477-db209ff6d00e button.colab-df-convert');\n",
              "        buttonEl.style.display =\n",
              "          google.colab.kernel.accessAllowed ? 'block' : 'none';\n",
              "\n",
              "        async function convertToInteractive(key) {\n",
              "          const element = document.querySelector('#df-d344f8d9-3ca4-436b-8477-db209ff6d00e');\n",
              "          const dataTable =\n",
              "            await google.colab.kernel.invokeFunction('convertToInteractive',\n",
              "                                                     [key], {});\n",
              "          if (!dataTable) return;\n",
              "\n",
              "          const docLinkHtml = 'Like what you see? Visit the ' +\n",
              "            '<a target=\"_blank\" href=https://colab.research.google.com/notebooks/data_table.ipynb>data table notebook</a>'\n",
              "            + ' to learn more about interactive tables.';\n",
              "          element.innerHTML = '';\n",
              "          dataTable['output_type'] = 'display_data';\n",
              "          await google.colab.output.renderOutput(dataTable, element);\n",
              "          const docLink = document.createElement('div');\n",
              "          docLink.innerHTML = docLinkHtml;\n",
              "          element.appendChild(docLink);\n",
              "        }\n",
              "      </script>\n",
              "    </div>\n",
              "  </div>\n",
              "  "
            ]
          },
          "metadata": {},
          "execution_count": 25
        }
      ],
      "source": [
        "pivot_table_children = data.pivot_table(index = 'family_children_status', columns = 'debt', values = 'gender', aggfunc = 'count')\n",
        "pivot_table_children['Процент задолженностей'] = \\\n",
        "round(pivot_table_children[1] / (pivot_table_children[0] + pivot_table_children[1]) * 100, 2)\n",
        "pivot_table_children.sort_values(by = 'Процент задолженностей')"
      ]
    },
    {
      "cell_type": "markdown",
      "id": "a19a72f5",
      "metadata": {
        "id": "a19a72f5"
      },
      "source": [
        "**Вывод:** Наиболее часто кредиты возвращают в срок бездетные заёмщики, что логично, ведь им не надо выделять бюджет на детей. Заёмщики с 1-2 детьми возвращают кредиты значительно хуже. Но многодетные возвращают кредиты лучше, малодетных, можно предположить, что выборка по многодетным слишком маленькая. В целом, после категоризации результаты не поменялись и наблюдается тенденция увелечения процента задолженностей с увелечением количества детей."
      ]
    },
    {
      "cell_type": "markdown",
      "id": "5e1a9b00",
      "metadata": {
        "deletable": false,
        "editable": false,
        "id": "5e1a9b00"
      },
      "source": [
        "##Есть ли зависимость между семейным положением и возвратом кредита в срок?"
      ]
    },
    {
      "cell_type": "code",
      "execution_count": null,
      "id": "7588eb72",
      "metadata": {
        "deletable": false,
        "id": "7588eb72",
        "outputId": "c1041a4d-57b4-46ab-deaf-7662c1c26587",
        "colab": {
          "base_uri": "https://localhost:8080/",
          "height": 238
        }
      },
      "outputs": [
        {
          "output_type": "execute_result",
          "data": {
            "text/plain": [
              "debt                       0    1  Процент задолженностей\n",
              "family_status                                            \n",
              "вдовец / вдова           888   63                    6.62\n",
              "в разводе               1105   84                    7.06\n",
              "женат / замужем        11334  927                    7.56\n",
              "гражданский брак        3749  385                    9.31\n",
              "Не женат / не замужем   2523  273                    9.76"
            ],
            "text/html": [
              "\n",
              "  <div id=\"df-439fe222-ba39-450c-b9df-d8e73a64978c\">\n",
              "    <div class=\"colab-df-container\">\n",
              "      <div>\n",
              "<style scoped>\n",
              "    .dataframe tbody tr th:only-of-type {\n",
              "        vertical-align: middle;\n",
              "    }\n",
              "\n",
              "    .dataframe tbody tr th {\n",
              "        vertical-align: top;\n",
              "    }\n",
              "\n",
              "    .dataframe thead th {\n",
              "        text-align: right;\n",
              "    }\n",
              "</style>\n",
              "<table border=\"1\" class=\"dataframe\">\n",
              "  <thead>\n",
              "    <tr style=\"text-align: right;\">\n",
              "      <th>debt</th>\n",
              "      <th>0</th>\n",
              "      <th>1</th>\n",
              "      <th>Процент задолженностей</th>\n",
              "    </tr>\n",
              "    <tr>\n",
              "      <th>family_status</th>\n",
              "      <th></th>\n",
              "      <th></th>\n",
              "      <th></th>\n",
              "    </tr>\n",
              "  </thead>\n",
              "  <tbody>\n",
              "    <tr>\n",
              "      <th>вдовец / вдова</th>\n",
              "      <td>888</td>\n",
              "      <td>63</td>\n",
              "      <td>6.62</td>\n",
              "    </tr>\n",
              "    <tr>\n",
              "      <th>в разводе</th>\n",
              "      <td>1105</td>\n",
              "      <td>84</td>\n",
              "      <td>7.06</td>\n",
              "    </tr>\n",
              "    <tr>\n",
              "      <th>женат / замужем</th>\n",
              "      <td>11334</td>\n",
              "      <td>927</td>\n",
              "      <td>7.56</td>\n",
              "    </tr>\n",
              "    <tr>\n",
              "      <th>гражданский брак</th>\n",
              "      <td>3749</td>\n",
              "      <td>385</td>\n",
              "      <td>9.31</td>\n",
              "    </tr>\n",
              "    <tr>\n",
              "      <th>Не женат / не замужем</th>\n",
              "      <td>2523</td>\n",
              "      <td>273</td>\n",
              "      <td>9.76</td>\n",
              "    </tr>\n",
              "  </tbody>\n",
              "</table>\n",
              "</div>\n",
              "      <button class=\"colab-df-convert\" onclick=\"convertToInteractive('df-439fe222-ba39-450c-b9df-d8e73a64978c')\"\n",
              "              title=\"Convert this dataframe to an interactive table.\"\n",
              "              style=\"display:none;\">\n",
              "        \n",
              "  <svg xmlns=\"http://www.w3.org/2000/svg\" height=\"24px\"viewBox=\"0 0 24 24\"\n",
              "       width=\"24px\">\n",
              "    <path d=\"M0 0h24v24H0V0z\" fill=\"none\"/>\n",
              "    <path d=\"M18.56 5.44l.94 2.06.94-2.06 2.06-.94-2.06-.94-.94-2.06-.94 2.06-2.06.94zm-11 1L8.5 8.5l.94-2.06 2.06-.94-2.06-.94L8.5 2.5l-.94 2.06-2.06.94zm10 10l.94 2.06.94-2.06 2.06-.94-2.06-.94-.94-2.06-.94 2.06-2.06.94z\"/><path d=\"M17.41 7.96l-1.37-1.37c-.4-.4-.92-.59-1.43-.59-.52 0-1.04.2-1.43.59L10.3 9.45l-7.72 7.72c-.78.78-.78 2.05 0 2.83L4 21.41c.39.39.9.59 1.41.59.51 0 1.02-.2 1.41-.59l7.78-7.78 2.81-2.81c.8-.78.8-2.07 0-2.86zM5.41 20L4 18.59l7.72-7.72 1.47 1.35L5.41 20z\"/>\n",
              "  </svg>\n",
              "      </button>\n",
              "      \n",
              "  <style>\n",
              "    .colab-df-container {\n",
              "      display:flex;\n",
              "      flex-wrap:wrap;\n",
              "      gap: 12px;\n",
              "    }\n",
              "\n",
              "    .colab-df-convert {\n",
              "      background-color: #E8F0FE;\n",
              "      border: none;\n",
              "      border-radius: 50%;\n",
              "      cursor: pointer;\n",
              "      display: none;\n",
              "      fill: #1967D2;\n",
              "      height: 32px;\n",
              "      padding: 0 0 0 0;\n",
              "      width: 32px;\n",
              "    }\n",
              "\n",
              "    .colab-df-convert:hover {\n",
              "      background-color: #E2EBFA;\n",
              "      box-shadow: 0px 1px 2px rgba(60, 64, 67, 0.3), 0px 1px 3px 1px rgba(60, 64, 67, 0.15);\n",
              "      fill: #174EA6;\n",
              "    }\n",
              "\n",
              "    [theme=dark] .colab-df-convert {\n",
              "      background-color: #3B4455;\n",
              "      fill: #D2E3FC;\n",
              "    }\n",
              "\n",
              "    [theme=dark] .colab-df-convert:hover {\n",
              "      background-color: #434B5C;\n",
              "      box-shadow: 0px 1px 3px 1px rgba(0, 0, 0, 0.15);\n",
              "      filter: drop-shadow(0px 1px 2px rgba(0, 0, 0, 0.3));\n",
              "      fill: #FFFFFF;\n",
              "    }\n",
              "  </style>\n",
              "\n",
              "      <script>\n",
              "        const buttonEl =\n",
              "          document.querySelector('#df-439fe222-ba39-450c-b9df-d8e73a64978c button.colab-df-convert');\n",
              "        buttonEl.style.display =\n",
              "          google.colab.kernel.accessAllowed ? 'block' : 'none';\n",
              "\n",
              "        async function convertToInteractive(key) {\n",
              "          const element = document.querySelector('#df-439fe222-ba39-450c-b9df-d8e73a64978c');\n",
              "          const dataTable =\n",
              "            await google.colab.kernel.invokeFunction('convertToInteractive',\n",
              "                                                     [key], {});\n",
              "          if (!dataTable) return;\n",
              "\n",
              "          const docLinkHtml = 'Like what you see? Visit the ' +\n",
              "            '<a target=\"_blank\" href=https://colab.research.google.com/notebooks/data_table.ipynb>data table notebook</a>'\n",
              "            + ' to learn more about interactive tables.';\n",
              "          element.innerHTML = '';\n",
              "          dataTable['output_type'] = 'display_data';\n",
              "          await google.colab.output.renderOutput(dataTable, element);\n",
              "          const docLink = document.createElement('div');\n",
              "          docLink.innerHTML = docLinkHtml;\n",
              "          element.appendChild(docLink);\n",
              "        }\n",
              "      </script>\n",
              "    </div>\n",
              "  </div>\n",
              "  "
            ]
          },
          "metadata": {},
          "execution_count": 26
        }
      ],
      "source": [
        "pivot_table_family = data.pivot_table(index = 'family_status', columns = 'debt', values = 'gender', aggfunc = 'count')\n",
        "pivot_table_family['Процент задолженностей'] = \\\n",
        "round(pivot_table_family[1] / (pivot_table_family[0] + pivot_table_family[1]) * 100, 2)\n",
        "pivot_table_family.sort_values(by = 'Процент задолженностей')"
      ]
    },
    {
      "cell_type": "markdown",
      "id": "f80ade69",
      "metadata": {
        "deletable": false,
        "id": "f80ade69"
      },
      "source": [
        "**Вывод:** Чаще всего кредиты возвращают в срок вдовцы/вдовы и заёмщики в разводе. Чуть выше процент задолженности у женатых/замужних, но все-таки ближе к предыдущим категориям. А вот заёмщики в гражданском браке и не женатые/не замужем гораздо чаще имеют задолженности по кредитам. \n",
        "\n",
        "Можно предположить, что вдовцы/вдовы и разведенные - люди, уже более ответственные, и понимают, что им не на кого полагаться. \n",
        "\n",
        "Заёмщики в браке более ответственно подходят к планированию бюджета, что также сказывается на погашении кредита в срок. \n",
        "\n",
        "Заёмщики в гражданском браке и не состоящие в браке имеют примерно равный процент задолженности, что обуславливается схожим статусом, ведь гражданский брак никак не подкреплен юридически и такие заёмщики могут относиться к категории не состоящих в браке; обе категории заёмщиков менее ответственны в распределении бюджета."
      ]
    },
    {
      "cell_type": "markdown",
      "id": "79f1afe1",
      "metadata": {
        "deletable": false,
        "editable": false,
        "id": "79f1afe1"
      },
      "source": [
        "##Есть ли зависимость между уровнем дохода и возвратом кредита в срок?"
      ]
    },
    {
      "cell_type": "code",
      "execution_count": null,
      "id": "7298ccc9",
      "metadata": {
        "deletable": false,
        "id": "7298ccc9",
        "outputId": "5e1b6275-a2c8-4e0a-ab2c-7e8f337f25ac",
        "colab": {
          "base_uri": "https://localhost:8080/",
          "height": 238
        }
      },
      "outputs": [
        {
          "output_type": "execute_result",
          "data": {
            "text/plain": [
              "debt                       0     1  Процент задолженностей\n",
              "total_income_category                                     \n",
              "E                         20     2                    9.09\n",
              "C                      14568  1353                    8.50\n",
              "A                         23     2                    8.00\n",
              "B                       4660   354                    7.06\n",
              "D                        328    21                    6.02"
            ],
            "text/html": [
              "\n",
              "  <div id=\"df-7687776d-1ba5-4174-a4b2-22c3825d15c7\">\n",
              "    <div class=\"colab-df-container\">\n",
              "      <div>\n",
              "<style scoped>\n",
              "    .dataframe tbody tr th:only-of-type {\n",
              "        vertical-align: middle;\n",
              "    }\n",
              "\n",
              "    .dataframe tbody tr th {\n",
              "        vertical-align: top;\n",
              "    }\n",
              "\n",
              "    .dataframe thead th {\n",
              "        text-align: right;\n",
              "    }\n",
              "</style>\n",
              "<table border=\"1\" class=\"dataframe\">\n",
              "  <thead>\n",
              "    <tr style=\"text-align: right;\">\n",
              "      <th>debt</th>\n",
              "      <th>0</th>\n",
              "      <th>1</th>\n",
              "      <th>Процент задолженностей</th>\n",
              "    </tr>\n",
              "    <tr>\n",
              "      <th>total_income_category</th>\n",
              "      <th></th>\n",
              "      <th></th>\n",
              "      <th></th>\n",
              "    </tr>\n",
              "  </thead>\n",
              "  <tbody>\n",
              "    <tr>\n",
              "      <th>E</th>\n",
              "      <td>20</td>\n",
              "      <td>2</td>\n",
              "      <td>9.09</td>\n",
              "    </tr>\n",
              "    <tr>\n",
              "      <th>C</th>\n",
              "      <td>14568</td>\n",
              "      <td>1353</td>\n",
              "      <td>8.50</td>\n",
              "    </tr>\n",
              "    <tr>\n",
              "      <th>A</th>\n",
              "      <td>23</td>\n",
              "      <td>2</td>\n",
              "      <td>8.00</td>\n",
              "    </tr>\n",
              "    <tr>\n",
              "      <th>B</th>\n",
              "      <td>4660</td>\n",
              "      <td>354</td>\n",
              "      <td>7.06</td>\n",
              "    </tr>\n",
              "    <tr>\n",
              "      <th>D</th>\n",
              "      <td>328</td>\n",
              "      <td>21</td>\n",
              "      <td>6.02</td>\n",
              "    </tr>\n",
              "  </tbody>\n",
              "</table>\n",
              "</div>\n",
              "      <button class=\"colab-df-convert\" onclick=\"convertToInteractive('df-7687776d-1ba5-4174-a4b2-22c3825d15c7')\"\n",
              "              title=\"Convert this dataframe to an interactive table.\"\n",
              "              style=\"display:none;\">\n",
              "        \n",
              "  <svg xmlns=\"http://www.w3.org/2000/svg\" height=\"24px\"viewBox=\"0 0 24 24\"\n",
              "       width=\"24px\">\n",
              "    <path d=\"M0 0h24v24H0V0z\" fill=\"none\"/>\n",
              "    <path d=\"M18.56 5.44l.94 2.06.94-2.06 2.06-.94-2.06-.94-.94-2.06-.94 2.06-2.06.94zm-11 1L8.5 8.5l.94-2.06 2.06-.94-2.06-.94L8.5 2.5l-.94 2.06-2.06.94zm10 10l.94 2.06.94-2.06 2.06-.94-2.06-.94-.94-2.06-.94 2.06-2.06.94z\"/><path d=\"M17.41 7.96l-1.37-1.37c-.4-.4-.92-.59-1.43-.59-.52 0-1.04.2-1.43.59L10.3 9.45l-7.72 7.72c-.78.78-.78 2.05 0 2.83L4 21.41c.39.39.9.59 1.41.59.51 0 1.02-.2 1.41-.59l7.78-7.78 2.81-2.81c.8-.78.8-2.07 0-2.86zM5.41 20L4 18.59l7.72-7.72 1.47 1.35L5.41 20z\"/>\n",
              "  </svg>\n",
              "      </button>\n",
              "      \n",
              "  <style>\n",
              "    .colab-df-container {\n",
              "      display:flex;\n",
              "      flex-wrap:wrap;\n",
              "      gap: 12px;\n",
              "    }\n",
              "\n",
              "    .colab-df-convert {\n",
              "      background-color: #E8F0FE;\n",
              "      border: none;\n",
              "      border-radius: 50%;\n",
              "      cursor: pointer;\n",
              "      display: none;\n",
              "      fill: #1967D2;\n",
              "      height: 32px;\n",
              "      padding: 0 0 0 0;\n",
              "      width: 32px;\n",
              "    }\n",
              "\n",
              "    .colab-df-convert:hover {\n",
              "      background-color: #E2EBFA;\n",
              "      box-shadow: 0px 1px 2px rgba(60, 64, 67, 0.3), 0px 1px 3px 1px rgba(60, 64, 67, 0.15);\n",
              "      fill: #174EA6;\n",
              "    }\n",
              "\n",
              "    [theme=dark] .colab-df-convert {\n",
              "      background-color: #3B4455;\n",
              "      fill: #D2E3FC;\n",
              "    }\n",
              "\n",
              "    [theme=dark] .colab-df-convert:hover {\n",
              "      background-color: #434B5C;\n",
              "      box-shadow: 0px 1px 3px 1px rgba(0, 0, 0, 0.15);\n",
              "      filter: drop-shadow(0px 1px 2px rgba(0, 0, 0, 0.3));\n",
              "      fill: #FFFFFF;\n",
              "    }\n",
              "  </style>\n",
              "\n",
              "      <script>\n",
              "        const buttonEl =\n",
              "          document.querySelector('#df-7687776d-1ba5-4174-a4b2-22c3825d15c7 button.colab-df-convert');\n",
              "        buttonEl.style.display =\n",
              "          google.colab.kernel.accessAllowed ? 'block' : 'none';\n",
              "\n",
              "        async function convertToInteractive(key) {\n",
              "          const element = document.querySelector('#df-7687776d-1ba5-4174-a4b2-22c3825d15c7');\n",
              "          const dataTable =\n",
              "            await google.colab.kernel.invokeFunction('convertToInteractive',\n",
              "                                                     [key], {});\n",
              "          if (!dataTable) return;\n",
              "\n",
              "          const docLinkHtml = 'Like what you see? Visit the ' +\n",
              "            '<a target=\"_blank\" href=https://colab.research.google.com/notebooks/data_table.ipynb>data table notebook</a>'\n",
              "            + ' to learn more about interactive tables.';\n",
              "          element.innerHTML = '';\n",
              "          dataTable['output_type'] = 'display_data';\n",
              "          await google.colab.output.renderOutput(dataTable, element);\n",
              "          const docLink = document.createElement('div');\n",
              "          docLink.innerHTML = docLinkHtml;\n",
              "          element.appendChild(docLink);\n",
              "        }\n",
              "      </script>\n",
              "    </div>\n",
              "  </div>\n",
              "  "
            ]
          },
          "metadata": {},
          "execution_count": 27
        }
      ],
      "source": [
        "pivot_table_income = data.pivot_table(index = 'total_income_category', columns = 'debt', values = 'gender', aggfunc = 'count')\n",
        "pivot_table_income['Процент задолженностей'] = \\\n",
        "round(pivot_table_income[1] / (pivot_table_income[0] + pivot_table_income[1]) * 100, 2)\n",
        "pivot_table_income.sort_values(by = 'Процент задолженностей', ascending=False)"
      ]
    },
    {
      "cell_type": "markdown",
      "id": "f717b778",
      "metadata": {
        "deletable": false,
        "id": "f717b778"
      },
      "source": [
        "**Вывод:** Видим, что группы A, E и D представляют маленькие выборки. У нас остается две группы, чтобы оценить зависимость, так можно сказать, что процент задолженностей ниже у заёмщиков с большим ежемесячным доходом, поскольку такие люди реже имеют проблемы с деньгами."
      ]
    },
    {
      "cell_type": "markdown",
      "id": "b1ec0f39",
      "metadata": {
        "deletable": false,
        "editable": false,
        "id": "b1ec0f39"
      },
      "source": [
        "##Как разные цели кредита влияют на его возврат в срок?"
      ]
    },
    {
      "cell_type": "code",
      "execution_count": null,
      "id": "4a9ca059",
      "metadata": {
        "deletable": false,
        "id": "4a9ca059",
        "outputId": "1a72bffb-f52b-430d-f60a-1b1cd24ee587",
        "colab": {
          "base_uri": "https://localhost:8080/",
          "height": 206
        }
      },
      "outputs": [
        {
          "output_type": "execute_result",
          "data": {
            "text/plain": [
              "debt                         0    1  Процент задолженностей\n",
              "purpose_category                                           \n",
              "операции с автомобилем    3879  400                    9.35\n",
              "получение образования     3619  369                    9.25\n",
              "проведение свадьбы        2130  183                    7.91\n",
              "операции с недвижимостью  9971  780                    7.26"
            ],
            "text/html": [
              "\n",
              "  <div id=\"df-516cadcf-1e21-4e63-9540-afa0ce7bd8b2\">\n",
              "    <div class=\"colab-df-container\">\n",
              "      <div>\n",
              "<style scoped>\n",
              "    .dataframe tbody tr th:only-of-type {\n",
              "        vertical-align: middle;\n",
              "    }\n",
              "\n",
              "    .dataframe tbody tr th {\n",
              "        vertical-align: top;\n",
              "    }\n",
              "\n",
              "    .dataframe thead th {\n",
              "        text-align: right;\n",
              "    }\n",
              "</style>\n",
              "<table border=\"1\" class=\"dataframe\">\n",
              "  <thead>\n",
              "    <tr style=\"text-align: right;\">\n",
              "      <th>debt</th>\n",
              "      <th>0</th>\n",
              "      <th>1</th>\n",
              "      <th>Процент задолженностей</th>\n",
              "    </tr>\n",
              "    <tr>\n",
              "      <th>purpose_category</th>\n",
              "      <th></th>\n",
              "      <th></th>\n",
              "      <th></th>\n",
              "    </tr>\n",
              "  </thead>\n",
              "  <tbody>\n",
              "    <tr>\n",
              "      <th>операции с автомобилем</th>\n",
              "      <td>3879</td>\n",
              "      <td>400</td>\n",
              "      <td>9.35</td>\n",
              "    </tr>\n",
              "    <tr>\n",
              "      <th>получение образования</th>\n",
              "      <td>3619</td>\n",
              "      <td>369</td>\n",
              "      <td>9.25</td>\n",
              "    </tr>\n",
              "    <tr>\n",
              "      <th>проведение свадьбы</th>\n",
              "      <td>2130</td>\n",
              "      <td>183</td>\n",
              "      <td>7.91</td>\n",
              "    </tr>\n",
              "    <tr>\n",
              "      <th>операции с недвижимостью</th>\n",
              "      <td>9971</td>\n",
              "      <td>780</td>\n",
              "      <td>7.26</td>\n",
              "    </tr>\n",
              "  </tbody>\n",
              "</table>\n",
              "</div>\n",
              "      <button class=\"colab-df-convert\" onclick=\"convertToInteractive('df-516cadcf-1e21-4e63-9540-afa0ce7bd8b2')\"\n",
              "              title=\"Convert this dataframe to an interactive table.\"\n",
              "              style=\"display:none;\">\n",
              "        \n",
              "  <svg xmlns=\"http://www.w3.org/2000/svg\" height=\"24px\"viewBox=\"0 0 24 24\"\n",
              "       width=\"24px\">\n",
              "    <path d=\"M0 0h24v24H0V0z\" fill=\"none\"/>\n",
              "    <path d=\"M18.56 5.44l.94 2.06.94-2.06 2.06-.94-2.06-.94-.94-2.06-.94 2.06-2.06.94zm-11 1L8.5 8.5l.94-2.06 2.06-.94-2.06-.94L8.5 2.5l-.94 2.06-2.06.94zm10 10l.94 2.06.94-2.06 2.06-.94-2.06-.94-.94-2.06-.94 2.06-2.06.94z\"/><path d=\"M17.41 7.96l-1.37-1.37c-.4-.4-.92-.59-1.43-.59-.52 0-1.04.2-1.43.59L10.3 9.45l-7.72 7.72c-.78.78-.78 2.05 0 2.83L4 21.41c.39.39.9.59 1.41.59.51 0 1.02-.2 1.41-.59l7.78-7.78 2.81-2.81c.8-.78.8-2.07 0-2.86zM5.41 20L4 18.59l7.72-7.72 1.47 1.35L5.41 20z\"/>\n",
              "  </svg>\n",
              "      </button>\n",
              "      \n",
              "  <style>\n",
              "    .colab-df-container {\n",
              "      display:flex;\n",
              "      flex-wrap:wrap;\n",
              "      gap: 12px;\n",
              "    }\n",
              "\n",
              "    .colab-df-convert {\n",
              "      background-color: #E8F0FE;\n",
              "      border: none;\n",
              "      border-radius: 50%;\n",
              "      cursor: pointer;\n",
              "      display: none;\n",
              "      fill: #1967D2;\n",
              "      height: 32px;\n",
              "      padding: 0 0 0 0;\n",
              "      width: 32px;\n",
              "    }\n",
              "\n",
              "    .colab-df-convert:hover {\n",
              "      background-color: #E2EBFA;\n",
              "      box-shadow: 0px 1px 2px rgba(60, 64, 67, 0.3), 0px 1px 3px 1px rgba(60, 64, 67, 0.15);\n",
              "      fill: #174EA6;\n",
              "    }\n",
              "\n",
              "    [theme=dark] .colab-df-convert {\n",
              "      background-color: #3B4455;\n",
              "      fill: #D2E3FC;\n",
              "    }\n",
              "\n",
              "    [theme=dark] .colab-df-convert:hover {\n",
              "      background-color: #434B5C;\n",
              "      box-shadow: 0px 1px 3px 1px rgba(0, 0, 0, 0.15);\n",
              "      filter: drop-shadow(0px 1px 2px rgba(0, 0, 0, 0.3));\n",
              "      fill: #FFFFFF;\n",
              "    }\n",
              "  </style>\n",
              "\n",
              "      <script>\n",
              "        const buttonEl =\n",
              "          document.querySelector('#df-516cadcf-1e21-4e63-9540-afa0ce7bd8b2 button.colab-df-convert');\n",
              "        buttonEl.style.display =\n",
              "          google.colab.kernel.accessAllowed ? 'block' : 'none';\n",
              "\n",
              "        async function convertToInteractive(key) {\n",
              "          const element = document.querySelector('#df-516cadcf-1e21-4e63-9540-afa0ce7bd8b2');\n",
              "          const dataTable =\n",
              "            await google.colab.kernel.invokeFunction('convertToInteractive',\n",
              "                                                     [key], {});\n",
              "          if (!dataTable) return;\n",
              "\n",
              "          const docLinkHtml = 'Like what you see? Visit the ' +\n",
              "            '<a target=\"_blank\" href=https://colab.research.google.com/notebooks/data_table.ipynb>data table notebook</a>'\n",
              "            + ' to learn more about interactive tables.';\n",
              "          element.innerHTML = '';\n",
              "          dataTable['output_type'] = 'display_data';\n",
              "          await google.colab.output.renderOutput(dataTable, element);\n",
              "          const docLink = document.createElement('div');\n",
              "          docLink.innerHTML = docLinkHtml;\n",
              "          element.appendChild(docLink);\n",
              "        }\n",
              "      </script>\n",
              "    </div>\n",
              "  </div>\n",
              "  "
            ]
          },
          "metadata": {},
          "execution_count": 28
        }
      ],
      "source": [
        "pivot_table_purpose = data.pivot_table(index = 'purpose_category', columns = 'debt', values = 'gender', aggfunc = 'count')\n",
        "pivot_table_purpose['Процент задолженностей'] = \\\n",
        "round(pivot_table_purpose[1] / (pivot_table_purpose[0] + pivot_table_purpose[1]) * 100, 2)\n",
        "pivot_table_purpose.sort_values(by = 'Процент задолженностей', ascending=False)"
      ]
    },
    {
      "cell_type": "markdown",
      "id": "b6c06ebb",
      "metadata": {
        "deletable": false,
        "id": "b6c06ebb"
      },
      "source": [
        "**Вывод:** Меньше всего задолженностей по кредитам, связанных с недвижимостью, скорее всего потому, что для большинства людей кредит на недвижимость является самым большим по стоимости, поэтому относятся к нему с большей ответственностью. Чуть хуже возвращают кредит, взятый на свадьбу. Могу предположить, что если люди берут кредит на свадьбу, то скорее всего часть этого кредита они погашают подаренными деньгами. Значительно хуже и почти одинаково возвращают кредиты, взятые на образование и автомобиль. Возможно, у заёмщика обучение занимает много времени, и доход тем самым падает, поэтому происходят задолженности. При автокредите, скорее всего, появляются дополнительные расходы на автомобиль, что объясняет задолженности."
      ]
    },
    {
      "cell_type": "markdown",
      "id": "4d663689",
      "metadata": {
        "deletable": false,
        "editable": false,
        "id": "4d663689"
      },
      "source": [
        "#Общий вывод"
      ]
    },
    {
      "cell_type": "markdown",
      "id": "6b7cd6c5",
      "metadata": {
        "deletable": false,
        "id": "6b7cd6c5"
      },
      "source": [
        "По результатам анализа выявили, что все рассмотренные факторы, а именно: количество детей, семейное положение, уровень дохода и цели кредита влияют на возврат кредита в срок. Подведем итоговые выводы:\n",
        "* Лучше всего кредиты возвращают в срок заёмщики без детей, а с увеличением количества детей кредиты возвращают хуже. \n",
        "* Наименьший процент задолженностей у вдовцов/вдов, а хуже всего возвращают кредиты не женатые/не замужние заёмщики.\n",
        "* В данных были пропуски по ежемесячному доходу, которые были необходимы для определения зависимости между уровнем дохода и возвратом кредита в срок. Для избежания потерь данных заменили пропуски медианным значением в соответствии с типом занятости. В целом можно отметить, что с увеличением дохода процент задолженностей уменьшается.\n",
        "* Наиболее часто возвращают в срок кредиты, связанным с недвижимостью. И, почти одинаково плохо, автокредиты и кредиты на образование. "
      ]
    }
  ],
  "metadata": {
    "ExecuteTimeLog": [
      {
        "duration": 418,
        "start_time": "2022-11-01T11:33:09.345Z"
      },
      {
        "duration": 19,
        "start_time": "2022-11-01T11:33:09.765Z"
      },
      {
        "duration": 14,
        "start_time": "2022-11-01T11:33:09.786Z"
      },
      {
        "duration": 19,
        "start_time": "2022-11-01T11:33:09.802Z"
      },
      {
        "duration": 32,
        "start_time": "2022-11-01T11:33:09.823Z"
      },
      {
        "duration": 3,
        "start_time": "2022-11-01T11:33:09.857Z"
      },
      {
        "duration": 21,
        "start_time": "2022-11-01T11:33:09.861Z"
      },
      {
        "duration": 6,
        "start_time": "2022-11-01T11:33:09.884Z"
      },
      {
        "duration": 25,
        "start_time": "2022-11-01T11:33:09.891Z"
      },
      {
        "duration": 9,
        "start_time": "2022-11-01T11:33:09.919Z"
      },
      {
        "duration": 44,
        "start_time": "2022-11-01T11:33:09.930Z"
      },
      {
        "duration": 7,
        "start_time": "2022-11-01T11:33:09.976Z"
      },
      {
        "duration": 18,
        "start_time": "2022-11-01T11:33:09.985Z"
      },
      {
        "duration": 36,
        "start_time": "2022-11-01T11:33:10.004Z"
      },
      {
        "duration": 35,
        "start_time": "2022-11-01T11:33:10.042Z"
      },
      {
        "duration": 21,
        "start_time": "2022-11-01T11:33:10.078Z"
      },
      {
        "duration": 4,
        "start_time": "2022-11-01T11:33:10.100Z"
      },
      {
        "duration": 53,
        "start_time": "2022-11-01T11:33:10.106Z"
      },
      {
        "duration": 29,
        "start_time": "2022-11-01T11:33:10.160Z"
      },
      {
        "duration": 26,
        "start_time": "2022-11-01T11:33:10.191Z"
      },
      {
        "duration": 18,
        "start_time": "2022-11-01T11:33:10.219Z"
      },
      {
        "duration": 20,
        "start_time": "2022-11-01T11:33:10.239Z"
      },
      {
        "duration": 18,
        "start_time": "2022-11-01T11:33:10.261Z"
      },
      {
        "duration": 33,
        "start_time": "2022-11-01T11:33:10.280Z"
      },
      {
        "duration": 15,
        "start_time": "2022-11-01T11:33:27.217Z"
      },
      {
        "duration": 11,
        "start_time": "2022-11-01T11:34:12.796Z"
      },
      {
        "duration": 7,
        "start_time": "2022-11-01T11:37:12.380Z"
      },
      {
        "duration": 71,
        "start_time": "2022-11-01T11:41:29.378Z"
      },
      {
        "duration": 10,
        "start_time": "2022-11-01T11:41:58.462Z"
      },
      {
        "duration": 12,
        "start_time": "2022-11-01T11:42:07.330Z"
      },
      {
        "duration": 13,
        "start_time": "2022-11-01T11:49:12.219Z"
      },
      {
        "duration": 12,
        "start_time": "2022-11-01T11:49:23.663Z"
      },
      {
        "duration": 69,
        "start_time": "2022-11-01T11:54:56.238Z"
      },
      {
        "duration": 205,
        "start_time": "2022-11-01T11:55:02.213Z"
      },
      {
        "duration": 16,
        "start_time": "2022-11-01T11:55:19.943Z"
      },
      {
        "duration": 182,
        "start_time": "2022-11-01T11:59:23.742Z"
      },
      {
        "duration": 18,
        "start_time": "2022-11-01T11:59:33.155Z"
      },
      {
        "duration": 1194,
        "start_time": "2022-11-01T12:05:25.465Z"
      },
      {
        "duration": 1141,
        "start_time": "2022-11-01T12:05:41.810Z"
      },
      {
        "duration": 26,
        "start_time": "2022-11-01T12:05:50.418Z"
      },
      {
        "duration": 19,
        "start_time": "2022-11-01T12:08:43.082Z"
      },
      {
        "duration": 19,
        "start_time": "2022-11-01T12:09:00.317Z"
      },
      {
        "duration": 18,
        "start_time": "2022-11-01T12:09:09.875Z"
      },
      {
        "duration": 19,
        "start_time": "2022-11-01T12:09:44.137Z"
      },
      {
        "duration": 18,
        "start_time": "2022-11-01T12:09:49.835Z"
      },
      {
        "duration": 18,
        "start_time": "2022-11-01T12:19:19.165Z"
      },
      {
        "duration": 20,
        "start_time": "2022-11-01T12:19:53.216Z"
      },
      {
        "duration": 19,
        "start_time": "2022-11-01T12:22:31.196Z"
      },
      {
        "duration": 21,
        "start_time": "2022-11-01T12:22:35.676Z"
      },
      {
        "duration": 18,
        "start_time": "2022-11-01T12:45:05.480Z"
      },
      {
        "duration": 72,
        "start_time": "2022-11-01T12:45:20.565Z"
      },
      {
        "duration": 1159,
        "start_time": "2022-11-01T12:45:39.685Z"
      },
      {
        "duration": 1183,
        "start_time": "2022-11-01T12:46:36.149Z"
      },
      {
        "duration": 20,
        "start_time": "2022-11-01T12:47:47.522Z"
      },
      {
        "duration": 1222,
        "start_time": "2022-11-01T12:48:36.152Z"
      },
      {
        "duration": 20,
        "start_time": "2022-11-01T12:48:40.734Z"
      },
      {
        "duration": 15,
        "start_time": "2022-11-01T12:48:53.784Z"
      },
      {
        "duration": 15,
        "start_time": "2022-11-01T12:49:14.901Z"
      },
      {
        "duration": 21,
        "start_time": "2022-11-01T12:49:25.225Z"
      },
      {
        "duration": 1099,
        "start_time": "2022-11-01T12:50:52.059Z"
      },
      {
        "duration": 12,
        "start_time": "2022-11-01T12:51:15.562Z"
      },
      {
        "duration": 15,
        "start_time": "2022-11-01T12:51:49.288Z"
      },
      {
        "duration": 18,
        "start_time": "2022-11-01T12:53:03.323Z"
      },
      {
        "duration": 18,
        "start_time": "2022-11-01T12:55:34.225Z"
      },
      {
        "duration": 28,
        "start_time": "2022-11-01T12:57:04.450Z"
      },
      {
        "duration": 17,
        "start_time": "2022-11-01T12:57:21.914Z"
      },
      {
        "duration": 17,
        "start_time": "2022-11-01T12:58:13.836Z"
      },
      {
        "duration": 66,
        "start_time": "2022-11-01T12:58:20.502Z"
      },
      {
        "duration": 15,
        "start_time": "2022-11-01T12:58:20.569Z"
      },
      {
        "duration": 14,
        "start_time": "2022-11-01T12:58:20.585Z"
      },
      {
        "duration": 8,
        "start_time": "2022-11-01T12:58:20.601Z"
      },
      {
        "duration": 29,
        "start_time": "2022-11-01T12:58:20.621Z"
      },
      {
        "duration": 3,
        "start_time": "2022-11-01T12:58:20.652Z"
      },
      {
        "duration": 11,
        "start_time": "2022-11-01T12:58:20.656Z"
      },
      {
        "duration": 4,
        "start_time": "2022-11-01T12:58:20.668Z"
      },
      {
        "duration": 8,
        "start_time": "2022-11-01T12:58:20.674Z"
      },
      {
        "duration": 6,
        "start_time": "2022-11-01T12:58:20.937Z"
      },
      {
        "duration": 41,
        "start_time": "2022-11-01T12:58:20.945Z"
      },
      {
        "duration": 11,
        "start_time": "2022-11-01T12:58:20.998Z"
      },
      {
        "duration": 10,
        "start_time": "2022-11-01T12:58:21.011Z"
      },
      {
        "duration": 17,
        "start_time": "2022-11-01T12:58:21.022Z"
      },
      {
        "duration": 40,
        "start_time": "2022-11-01T12:58:21.041Z"
      },
      {
        "duration": 20,
        "start_time": "2022-11-01T12:58:21.084Z"
      },
      {
        "duration": 12,
        "start_time": "2022-11-01T12:58:21.106Z"
      },
      {
        "duration": 22,
        "start_time": "2022-11-01T12:58:21.120Z"
      },
      {
        "duration": 6,
        "start_time": "2022-11-01T12:58:21.143Z"
      },
      {
        "duration": 4,
        "start_time": "2022-11-01T12:58:21.150Z"
      },
      {
        "duration": 12,
        "start_time": "2022-11-01T12:58:21.156Z"
      },
      {
        "duration": 11,
        "start_time": "2022-11-01T12:58:21.169Z"
      },
      {
        "duration": 20,
        "start_time": "2022-11-01T12:58:21.182Z"
      },
      {
        "duration": 27,
        "start_time": "2022-11-01T12:58:21.204Z"
      },
      {
        "duration": 2,
        "start_time": "2022-11-01T12:58:21.232Z"
      },
      {
        "duration": 6,
        "start_time": "2022-11-01T12:58:21.236Z"
      },
      {
        "duration": 1091,
        "start_time": "2022-11-01T12:58:35.253Z"
      },
      {
        "duration": 20,
        "start_time": "2022-11-01T12:58:55.116Z"
      },
      {
        "duration": 19,
        "start_time": "2022-11-01T12:59:09.615Z"
      },
      {
        "duration": 1172,
        "start_time": "2022-11-01T13:00:40.747Z"
      },
      {
        "duration": 18,
        "start_time": "2022-11-01T13:00:52.864Z"
      },
      {
        "duration": 87,
        "start_time": "2022-11-01T13:12:01.901Z"
      },
      {
        "duration": 14,
        "start_time": "2022-11-01T13:12:19.478Z"
      },
      {
        "duration": 12,
        "start_time": "2022-11-01T13:13:45.624Z"
      },
      {
        "duration": 13,
        "start_time": "2022-11-01T13:13:49.056Z"
      },
      {
        "duration": 19,
        "start_time": "2022-11-01T13:13:55.262Z"
      },
      {
        "duration": 18,
        "start_time": "2022-11-01T13:15:22.526Z"
      },
      {
        "duration": 20,
        "start_time": "2022-11-01T14:07:49.169Z"
      },
      {
        "duration": 18,
        "start_time": "2022-11-01T14:08:22.471Z"
      },
      {
        "duration": 20,
        "start_time": "2022-11-01T14:09:38.980Z"
      },
      {
        "duration": 161,
        "start_time": "2022-11-01T14:29:45.209Z"
      },
      {
        "duration": 3,
        "start_time": "2022-11-01T14:29:51.587Z"
      },
      {
        "duration": 8,
        "start_time": "2022-11-01T14:31:02.094Z"
      },
      {
        "duration": 13,
        "start_time": "2022-11-01T14:31:11.672Z"
      },
      {
        "duration": 28,
        "start_time": "2022-11-01T14:32:32.854Z"
      },
      {
        "duration": 22,
        "start_time": "2022-11-01T14:38:32.221Z"
      },
      {
        "duration": 3,
        "start_time": "2022-11-01T14:39:14.113Z"
      },
      {
        "duration": 7,
        "start_time": "2022-11-01T14:39:19.170Z"
      },
      {
        "duration": 31,
        "start_time": "2022-11-01T14:39:20.716Z"
      },
      {
        "duration": 19,
        "start_time": "2022-11-01T14:40:28.047Z"
      },
      {
        "duration": 8,
        "start_time": "2022-11-01T15:06:03.867Z"
      },
      {
        "duration": 6,
        "start_time": "2022-11-01T15:07:57.297Z"
      },
      {
        "duration": 8,
        "start_time": "2022-11-01T15:07:59.988Z"
      },
      {
        "duration": 23,
        "start_time": "2022-11-01T15:08:22.231Z"
      },
      {
        "duration": 9,
        "start_time": "2022-11-01T15:08:26.153Z"
      },
      {
        "duration": 67,
        "start_time": "2022-11-01T15:09:34.288Z"
      },
      {
        "duration": 15,
        "start_time": "2022-11-01T15:09:34.357Z"
      },
      {
        "duration": 24,
        "start_time": "2022-11-01T15:09:34.374Z"
      },
      {
        "duration": 23,
        "start_time": "2022-11-01T15:09:34.399Z"
      },
      {
        "duration": 31,
        "start_time": "2022-11-01T15:09:34.425Z"
      },
      {
        "duration": 4,
        "start_time": "2022-11-01T15:09:34.457Z"
      },
      {
        "duration": 15,
        "start_time": "2022-11-01T15:09:34.462Z"
      },
      {
        "duration": 18,
        "start_time": "2022-11-01T15:09:34.479Z"
      },
      {
        "duration": 14,
        "start_time": "2022-11-01T15:09:34.498Z"
      },
      {
        "duration": 14,
        "start_time": "2022-11-01T15:09:34.514Z"
      },
      {
        "duration": 50,
        "start_time": "2022-11-01T15:09:34.529Z"
      },
      {
        "duration": 9,
        "start_time": "2022-11-01T15:09:34.581Z"
      },
      {
        "duration": 5,
        "start_time": "2022-11-01T15:09:34.591Z"
      },
      {
        "duration": 26,
        "start_time": "2022-11-01T15:09:34.599Z"
      },
      {
        "duration": 37,
        "start_time": "2022-11-01T15:09:34.627Z"
      },
      {
        "duration": 29,
        "start_time": "2022-11-01T15:09:34.665Z"
      },
      {
        "duration": 5,
        "start_time": "2022-11-01T15:09:34.696Z"
      },
      {
        "duration": 17,
        "start_time": "2022-11-01T15:09:34.703Z"
      },
      {
        "duration": 22,
        "start_time": "2022-11-01T15:09:34.722Z"
      },
      {
        "duration": 12,
        "start_time": "2022-11-01T15:09:34.746Z"
      },
      {
        "duration": 22,
        "start_time": "2022-11-01T15:09:34.759Z"
      },
      {
        "duration": 21,
        "start_time": "2022-11-01T15:09:34.782Z"
      },
      {
        "duration": 67,
        "start_time": "2022-11-01T15:09:34.805Z"
      },
      {
        "duration": 4,
        "start_time": "2022-11-01T15:09:34.874Z"
      },
      {
        "duration": 31,
        "start_time": "2022-11-01T15:09:34.879Z"
      },
      {
        "duration": 33,
        "start_time": "2022-11-01T15:09:34.911Z"
      },
      {
        "duration": 19,
        "start_time": "2022-11-01T15:09:34.945Z"
      },
      {
        "duration": 17,
        "start_time": "2022-11-01T15:09:34.966Z"
      },
      {
        "duration": 26,
        "start_time": "2022-11-01T15:09:34.986Z"
      },
      {
        "duration": 8,
        "start_time": "2022-11-01T15:09:35.021Z"
      },
      {
        "duration": 15,
        "start_time": "2022-11-01T15:09:35.030Z"
      },
      {
        "duration": 31,
        "start_time": "2022-11-01T15:09:53.864Z"
      },
      {
        "duration": 8,
        "start_time": "2022-11-01T15:10:28.797Z"
      },
      {
        "duration": 16,
        "start_time": "2022-11-01T15:12:03.980Z"
      },
      {
        "duration": 7,
        "start_time": "2022-11-01T15:12:55.131Z"
      },
      {
        "duration": 9,
        "start_time": "2022-11-01T15:19:25.348Z"
      },
      {
        "duration": 23,
        "start_time": "2022-11-01T15:19:54.642Z"
      },
      {
        "duration": 8,
        "start_time": "2022-11-01T15:23:57.879Z"
      },
      {
        "duration": 8,
        "start_time": "2022-11-01T15:40:16.407Z"
      },
      {
        "duration": 20,
        "start_time": "2022-11-01T15:40:18.301Z"
      },
      {
        "duration": 23,
        "start_time": "2022-11-01T16:18:33.221Z"
      },
      {
        "duration": 21,
        "start_time": "2022-11-01T17:25:21.491Z"
      },
      {
        "duration": 26,
        "start_time": "2022-11-01T17:25:53.294Z"
      },
      {
        "duration": 69,
        "start_time": "2022-11-01T17:39:03.480Z"
      },
      {
        "duration": 15,
        "start_time": "2022-11-01T17:39:03.551Z"
      },
      {
        "duration": 25,
        "start_time": "2022-11-01T17:39:03.568Z"
      },
      {
        "duration": 15,
        "start_time": "2022-11-01T17:39:03.595Z"
      },
      {
        "duration": 38,
        "start_time": "2022-11-01T17:39:03.612Z"
      },
      {
        "duration": 4,
        "start_time": "2022-11-01T17:39:03.652Z"
      },
      {
        "duration": 12,
        "start_time": "2022-11-01T17:39:03.658Z"
      },
      {
        "duration": 16,
        "start_time": "2022-11-01T17:39:03.672Z"
      },
      {
        "duration": 6,
        "start_time": "2022-11-01T17:39:03.986Z"
      },
      {
        "duration": 36,
        "start_time": "2022-11-01T17:39:03.994Z"
      },
      {
        "duration": 54,
        "start_time": "2022-11-01T17:39:04.032Z"
      },
      {
        "duration": 10,
        "start_time": "2022-11-01T17:39:04.088Z"
      },
      {
        "duration": 28,
        "start_time": "2022-11-01T17:39:04.099Z"
      },
      {
        "duration": 28,
        "start_time": "2022-11-01T17:39:04.128Z"
      },
      {
        "duration": 36,
        "start_time": "2022-11-01T17:39:04.158Z"
      },
      {
        "duration": 15,
        "start_time": "2022-11-01T17:39:04.196Z"
      },
      {
        "duration": 3,
        "start_time": "2022-11-01T17:39:04.212Z"
      },
      {
        "duration": 32,
        "start_time": "2022-11-01T17:39:04.216Z"
      },
      {
        "duration": 9,
        "start_time": "2022-11-01T17:39:04.250Z"
      },
      {
        "duration": 3,
        "start_time": "2022-11-01T17:39:04.451Z"
      },
      {
        "duration": 11,
        "start_time": "2022-11-01T17:39:04.456Z"
      },
      {
        "duration": 15,
        "start_time": "2022-11-01T17:39:04.468Z"
      },
      {
        "duration": 30,
        "start_time": "2022-11-01T17:39:04.502Z"
      },
      {
        "duration": 3,
        "start_time": "2022-11-01T17:39:04.534Z"
      },
      {
        "duration": 13,
        "start_time": "2022-11-01T17:39:04.538Z"
      },
      {
        "duration": 25,
        "start_time": "2022-11-01T17:39:04.552Z"
      },
      {
        "duration": 19,
        "start_time": "2022-11-01T17:39:04.580Z"
      },
      {
        "duration": 31,
        "start_time": "2022-11-01T17:39:04.601Z"
      },
      {
        "duration": 8,
        "start_time": "2022-11-01T17:39:04.633Z"
      },
      {
        "duration": 8,
        "start_time": "2022-11-01T17:39:04.643Z"
      },
      {
        "duration": 24,
        "start_time": "2022-11-01T17:39:04.941Z"
      },
      {
        "duration": 21,
        "start_time": "2022-11-01T17:39:04.966Z"
      },
      {
        "duration": 69,
        "start_time": "2022-11-01T17:51:14.834Z"
      },
      {
        "duration": 15,
        "start_time": "2022-11-01T17:51:14.905Z"
      },
      {
        "duration": 16,
        "start_time": "2022-11-01T17:51:14.922Z"
      },
      {
        "duration": 9,
        "start_time": "2022-11-01T17:51:14.941Z"
      },
      {
        "duration": 32,
        "start_time": "2022-11-01T17:51:14.953Z"
      },
      {
        "duration": 4,
        "start_time": "2022-11-01T17:51:14.986Z"
      },
      {
        "duration": 35,
        "start_time": "2022-11-01T17:51:14.992Z"
      },
      {
        "duration": 13,
        "start_time": "2022-11-01T17:51:15.028Z"
      },
      {
        "duration": 7,
        "start_time": "2022-11-01T17:51:15.043Z"
      },
      {
        "duration": 9,
        "start_time": "2022-11-01T17:51:15.052Z"
      },
      {
        "duration": 37,
        "start_time": "2022-11-01T17:51:15.063Z"
      },
      {
        "duration": 8,
        "start_time": "2022-11-01T17:51:15.102Z"
      },
      {
        "duration": 3,
        "start_time": "2022-11-01T17:51:15.121Z"
      },
      {
        "duration": 11,
        "start_time": "2022-11-01T17:51:15.127Z"
      },
      {
        "duration": 17,
        "start_time": "2022-11-01T17:51:15.139Z"
      },
      {
        "duration": 14,
        "start_time": "2022-11-01T17:51:15.157Z"
      },
      {
        "duration": 3,
        "start_time": "2022-11-01T17:51:15.173Z"
      },
      {
        "duration": 12,
        "start_time": "2022-11-01T17:51:15.177Z"
      },
      {
        "duration": 5,
        "start_time": "2022-11-01T17:51:15.190Z"
      },
      {
        "duration": 3,
        "start_time": "2022-11-01T17:51:15.221Z"
      },
      {
        "duration": 13,
        "start_time": "2022-11-01T17:51:15.226Z"
      },
      {
        "duration": 21,
        "start_time": "2022-11-01T17:51:15.241Z"
      },
      {
        "duration": 4,
        "start_time": "2022-11-01T17:51:15.263Z"
      },
      {
        "duration": 11,
        "start_time": "2022-11-01T17:51:15.268Z"
      },
      {
        "duration": 22,
        "start_time": "2022-11-01T17:51:15.281Z"
      },
      {
        "duration": 32,
        "start_time": "2022-11-01T17:51:15.304Z"
      },
      {
        "duration": 18,
        "start_time": "2022-11-01T17:51:15.337Z"
      },
      {
        "duration": 8,
        "start_time": "2022-11-01T17:51:15.357Z"
      },
      {
        "duration": 9,
        "start_time": "2022-11-01T17:51:15.367Z"
      },
      {
        "duration": 48,
        "start_time": "2022-11-01T17:51:15.377Z"
      },
      {
        "duration": 18,
        "start_time": "2022-11-01T17:51:15.426Z"
      },
      {
        "duration": 83,
        "start_time": "2022-11-01T18:19:36.537Z"
      },
      {
        "duration": 78,
        "start_time": "2022-11-01T18:24:08.479Z"
      },
      {
        "duration": 1137,
        "start_time": "2022-11-01T19:11:52.526Z"
      },
      {
        "duration": 75,
        "start_time": "2022-11-01T19:11:59.295Z"
      },
      {
        "duration": 20,
        "start_time": "2022-11-01T19:11:59.373Z"
      },
      {
        "duration": 42,
        "start_time": "2022-11-01T19:11:59.395Z"
      },
      {
        "duration": 14,
        "start_time": "2022-11-01T19:11:59.440Z"
      },
      {
        "duration": 42,
        "start_time": "2022-11-01T19:11:59.456Z"
      },
      {
        "duration": 4,
        "start_time": "2022-11-01T19:11:59.499Z"
      },
      {
        "duration": 45,
        "start_time": "2022-11-01T19:11:59.505Z"
      },
      {
        "duration": 21,
        "start_time": "2022-11-01T19:11:59.552Z"
      },
      {
        "duration": 35,
        "start_time": "2022-11-01T19:11:59.575Z"
      },
      {
        "duration": 26,
        "start_time": "2022-11-01T19:11:59.613Z"
      },
      {
        "duration": 60,
        "start_time": "2022-11-01T19:11:59.641Z"
      },
      {
        "duration": 11,
        "start_time": "2022-11-01T19:11:59.703Z"
      },
      {
        "duration": 23,
        "start_time": "2022-11-01T19:11:59.716Z"
      },
      {
        "duration": 10,
        "start_time": "2022-11-01T19:11:59.864Z"
      },
      {
        "duration": 39,
        "start_time": "2022-11-01T19:11:59.875Z"
      },
      {
        "duration": 41,
        "start_time": "2022-11-01T19:11:59.916Z"
      },
      {
        "duration": 6,
        "start_time": "2022-11-01T19:11:59.959Z"
      },
      {
        "duration": 14,
        "start_time": "2022-11-01T19:11:59.966Z"
      },
      {
        "duration": 7,
        "start_time": "2022-11-01T19:11:59.981Z"
      },
      {
        "duration": 7,
        "start_time": "2022-11-01T19:11:59.990Z"
      },
      {
        "duration": 35,
        "start_time": "2022-11-01T19:11:59.999Z"
      },
      {
        "duration": 1207,
        "start_time": "2022-11-01T19:12:00.036Z"
      },
      {
        "duration": 0,
        "start_time": "2022-11-01T19:12:01.245Z"
      },
      {
        "duration": 0,
        "start_time": "2022-11-01T19:12:01.246Z"
      },
      {
        "duration": 0,
        "start_time": "2022-11-01T19:12:01.248Z"
      },
      {
        "duration": 0,
        "start_time": "2022-11-01T19:12:01.249Z"
      },
      {
        "duration": 0,
        "start_time": "2022-11-01T19:12:01.250Z"
      },
      {
        "duration": 0,
        "start_time": "2022-11-01T19:12:01.252Z"
      },
      {
        "duration": 32,
        "start_time": "2022-11-01T19:12:35.213Z"
      },
      {
        "duration": 67,
        "start_time": "2022-11-01T19:12:42.472Z"
      },
      {
        "duration": 29,
        "start_time": "2022-11-01T19:12:51.200Z"
      },
      {
        "duration": 19,
        "start_time": "2022-11-01T19:15:43.760Z"
      },
      {
        "duration": 85,
        "start_time": "2022-11-01T19:15:50.715Z"
      },
      {
        "duration": 15,
        "start_time": "2022-11-01T19:15:50.802Z"
      },
      {
        "duration": 47,
        "start_time": "2022-11-01T19:15:50.819Z"
      },
      {
        "duration": 28,
        "start_time": "2022-11-01T19:15:50.868Z"
      },
      {
        "duration": 47,
        "start_time": "2022-11-01T19:15:50.898Z"
      },
      {
        "duration": 3,
        "start_time": "2022-11-01T19:15:50.948Z"
      },
      {
        "duration": 18,
        "start_time": "2022-11-01T19:15:50.952Z"
      },
      {
        "duration": 7,
        "start_time": "2022-11-01T19:15:50.972Z"
      },
      {
        "duration": 11,
        "start_time": "2022-11-01T19:15:50.981Z"
      },
      {
        "duration": 8,
        "start_time": "2022-11-01T19:15:50.993Z"
      },
      {
        "duration": 56,
        "start_time": "2022-11-01T19:15:51.003Z"
      },
      {
        "duration": 12,
        "start_time": "2022-11-01T19:15:51.062Z"
      },
      {
        "duration": 15,
        "start_time": "2022-11-01T19:15:51.076Z"
      },
      {
        "duration": 34,
        "start_time": "2022-11-01T19:15:51.095Z"
      },
      {
        "duration": 40,
        "start_time": "2022-11-01T19:15:51.137Z"
      },
      {
        "duration": 18,
        "start_time": "2022-11-01T19:15:51.178Z"
      },
      {
        "duration": 3,
        "start_time": "2022-11-01T19:15:51.198Z"
      },
      {
        "duration": 17,
        "start_time": "2022-11-01T19:15:51.202Z"
      },
      {
        "duration": 13,
        "start_time": "2022-11-01T19:15:51.220Z"
      },
      {
        "duration": 21,
        "start_time": "2022-11-01T19:15:51.236Z"
      },
      {
        "duration": 103,
        "start_time": "2022-11-01T19:15:51.260Z"
      },
      {
        "duration": 28,
        "start_time": "2022-11-01T19:15:51.364Z"
      },
      {
        "duration": 2,
        "start_time": "2022-11-01T19:15:51.394Z"
      },
      {
        "duration": 13,
        "start_time": "2022-11-01T19:15:51.398Z"
      },
      {
        "duration": 30,
        "start_time": "2022-11-01T19:15:51.412Z"
      },
      {
        "duration": 20,
        "start_time": "2022-11-01T19:15:51.443Z"
      },
      {
        "duration": 23,
        "start_time": "2022-11-01T19:15:51.464Z"
      },
      {
        "duration": 42,
        "start_time": "2022-11-01T19:15:51.489Z"
      },
      {
        "duration": 60,
        "start_time": "2022-11-01T19:33:56.041Z"
      }
    ],
    "colab": {
      "provenance": [],
      "include_colab_link": true
    },
    "kernelspec": {
      "display_name": "Python 3 (ipykernel)",
      "language": "python",
      "name": "python3"
    },
    "language_info": {
      "codemirror_mode": {
        "name": "ipython",
        "version": 3
      },
      "file_extension": ".py",
      "mimetype": "text/x-python",
      "name": "python",
      "nbconvert_exporter": "python",
      "pygments_lexer": "ipython3",
      "version": "3.9.5"
    },
    "toc": {
      "base_numbering": 1,
      "nav_menu": {},
      "number_sections": true,
      "sideBar": true,
      "skip_h1_title": true,
      "title_cell": "Table of Contents",
      "title_sidebar": "Contents",
      "toc_cell": false,
      "toc_position": {},
      "toc_section_display": true,
      "toc_window_display": false
    }
  },
  "nbformat": 4,
  "nbformat_minor": 5
}