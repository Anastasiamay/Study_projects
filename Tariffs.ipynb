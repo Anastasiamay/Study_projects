{
  "cells": [
    {
      "cell_type": "markdown",
      "metadata": {
        "id": "view-in-github",
        "colab_type": "text"
      },
      "source": [
        "<a href=\"https://colab.research.google.com/github/Anastasiamay/Study_projects/blob/main/Tariffs.ipynb\" target=\"_parent\"><img src=\"https://colab.research.google.com/assets/colab-badge.svg\" alt=\"Open In Colab\"/></a>"
      ]
    },
    {
      "cell_type": "markdown",
      "source": [
        "# Описание проекта"
      ],
      "metadata": {
        "id": "teziu2_Lp0Qi"
      }
    },
    {
      "cell_type": "markdown",
      "source": [
        "Федеральный оператор сотовой связи предлагает клиентам два тарифных плана: «Смарт» и «Ультра». Чтобы скорректировать рекламный бюджет, коммерческий департамент хочет понять, какой тариф приносит больше денег.\n",
        "В распоряжении данные 500 пользователей: кто они, откуда, каким тарифом пользуются, сколько звонков и сообщений каждый отправил за 2018-й год.\n",
        "\n",
        "Описание тарифов\n",
        "\n",
        "Тариф «Смарт»\n",
        "\n",
        "Ежемесячная плата: 550 рублей\n",
        "\n",
        "Включено 500 минут разговора, 50 сообщений и 15 Гб интернет-трафика\n",
        "\n",
        "Стоимость услуг сверх тарифного пакета:\n",
        "\n",
        "* Минута разговора — 3 рубля. Количество использованных минут и мегабайтов «Мегалайн» всегда округляет вверх. Если пользователь проговорил всего 1 секунду, в тарифе засчитывается целая минута.\n",
        "\n",
        "* Сообщение — 3 рубля.\n",
        "\n",
        "* 1 Гб интернет-трафика — 200 рублей.\n",
        "\n",
        "Тариф «Ультра»\n",
        "\n",
        "Ежемесячная плата: 1950 рублей\n",
        "\n",
        "Включено 3000 минут разговора, 1000 сообщений и 30 Гб интернет-трафика\n",
        "\n",
        "Стоимость услуг сверх тарифного пакета:\n",
        "\n",
        "* Минута разговора — 1 рубль;\n",
        "\n",
        "* Сообщение — 1 рубль;\n",
        "\n",
        "* 1 Гб интернет-трафика: 150 рублей.\n",
        "\n",
        "**Цель**: проанализировать поведение клиентов и сделать вывод — какой тариф приносит больше прибыли\n",
        "\n",
        "**Краткий план исследования**:\n",
        "* Изучение датасетов\n",
        "* Предобработка данных\n",
        "* Исследовательский анализ данных\n",
        "* Проверка гипотез"
      ],
      "metadata": {
        "id": "r-kI93Lep4YH"
      }
    },
    {
      "cell_type": "markdown",
      "metadata": {
        "deletable": false,
        "editable": false,
        "id": "EaSoIzbXeSd-"
      },
      "source": [
        "# Изучение файлов"
      ]
    },
    {
      "cell_type": "code",
      "execution_count": 58,
      "metadata": {
        "deletable": false,
        "id": "PmFFRGrEeSd2"
      },
      "outputs": [],
      "source": [
        "import pandas as pd\n",
        "import numpy as np\n",
        "import seaborn as sns\n",
        "import matplotlib.pyplot as plt\n",
        "from scipy import stats as st"
      ]
    },
    {
      "cell_type": "code",
      "execution_count": 59,
      "metadata": {
        "deletable": false,
        "colab": {
          "base_uri": "https://localhost:8080/"
        },
        "id": "71Z3669GeSeD",
        "outputId": "ffac6031-cce7-4d2f-a2a1-a4c8cd782de8"
      },
      "outputs": [
        {
          "output_type": "stream",
          "name": "stdout",
          "text": [
            "/usr/local/lib/python3.8/dist-packages/gdown/cli.py:127: FutureWarning: Option `--id` was deprecated in version 4.3.1 and will be removed in 5.0. You don't need to pass it anymore to use a file ID.\n",
            "  warnings.warn(\n",
            "Downloading...\n",
            "From: https://drive.google.com/uc?id=17llTZnH9S3UL9Qjr-Ixt-zJQcyjbTpLR\n",
            "To: /content/calls.csv\n",
            "100% 6.03M/6.03M [00:00<00:00, 238MB/s]\n"
          ]
        }
      ],
      "source": [
        "! gdown --id 17llTZnH9S3UL9Qjr-Ixt-zJQcyjbTpLR\n",
        "calls = pd.read_csv('calls.csv')"
      ]
    },
    {
      "cell_type": "code",
      "execution_count": 60,
      "metadata": {
        "deletable": false,
        "colab": {
          "base_uri": "https://localhost:8080/",
          "height": 206
        },
        "id": "SusIv7MdeSeF",
        "outputId": "aa5ccd0b-3ae5-42bb-f59d-a3a0e6b4bf65"
      },
      "outputs": [
        {
          "output_type": "execute_result",
          "data": {
            "text/plain": [
              "       id   call_date  duration  user_id\n",
              "0  1000_0  2018-07-25      0.00     1000\n",
              "1  1000_1  2018-08-17      0.00     1000\n",
              "2  1000_2  2018-06-11      2.85     1000\n",
              "3  1000_3  2018-09-21     13.80     1000\n",
              "4  1000_4  2018-12-15      5.18     1000"
            ],
            "text/html": [
              "\n",
              "  <div id=\"df-abe2a595-43c8-4805-b205-575799f419cf\">\n",
              "    <div class=\"colab-df-container\">\n",
              "      <div>\n",
              "<style scoped>\n",
              "    .dataframe tbody tr th:only-of-type {\n",
              "        vertical-align: middle;\n",
              "    }\n",
              "\n",
              "    .dataframe tbody tr th {\n",
              "        vertical-align: top;\n",
              "    }\n",
              "\n",
              "    .dataframe thead th {\n",
              "        text-align: right;\n",
              "    }\n",
              "</style>\n",
              "<table border=\"1\" class=\"dataframe\">\n",
              "  <thead>\n",
              "    <tr style=\"text-align: right;\">\n",
              "      <th></th>\n",
              "      <th>id</th>\n",
              "      <th>call_date</th>\n",
              "      <th>duration</th>\n",
              "      <th>user_id</th>\n",
              "    </tr>\n",
              "  </thead>\n",
              "  <tbody>\n",
              "    <tr>\n",
              "      <th>0</th>\n",
              "      <td>1000_0</td>\n",
              "      <td>2018-07-25</td>\n",
              "      <td>0.00</td>\n",
              "      <td>1000</td>\n",
              "    </tr>\n",
              "    <tr>\n",
              "      <th>1</th>\n",
              "      <td>1000_1</td>\n",
              "      <td>2018-08-17</td>\n",
              "      <td>0.00</td>\n",
              "      <td>1000</td>\n",
              "    </tr>\n",
              "    <tr>\n",
              "      <th>2</th>\n",
              "      <td>1000_2</td>\n",
              "      <td>2018-06-11</td>\n",
              "      <td>2.85</td>\n",
              "      <td>1000</td>\n",
              "    </tr>\n",
              "    <tr>\n",
              "      <th>3</th>\n",
              "      <td>1000_3</td>\n",
              "      <td>2018-09-21</td>\n",
              "      <td>13.80</td>\n",
              "      <td>1000</td>\n",
              "    </tr>\n",
              "    <tr>\n",
              "      <th>4</th>\n",
              "      <td>1000_4</td>\n",
              "      <td>2018-12-15</td>\n",
              "      <td>5.18</td>\n",
              "      <td>1000</td>\n",
              "    </tr>\n",
              "  </tbody>\n",
              "</table>\n",
              "</div>\n",
              "      <button class=\"colab-df-convert\" onclick=\"convertToInteractive('df-abe2a595-43c8-4805-b205-575799f419cf')\"\n",
              "              title=\"Convert this dataframe to an interactive table.\"\n",
              "              style=\"display:none;\">\n",
              "        \n",
              "  <svg xmlns=\"http://www.w3.org/2000/svg\" height=\"24px\"viewBox=\"0 0 24 24\"\n",
              "       width=\"24px\">\n",
              "    <path d=\"M0 0h24v24H0V0z\" fill=\"none\"/>\n",
              "    <path d=\"M18.56 5.44l.94 2.06.94-2.06 2.06-.94-2.06-.94-.94-2.06-.94 2.06-2.06.94zm-11 1L8.5 8.5l.94-2.06 2.06-.94-2.06-.94L8.5 2.5l-.94 2.06-2.06.94zm10 10l.94 2.06.94-2.06 2.06-.94-2.06-.94-.94-2.06-.94 2.06-2.06.94z\"/><path d=\"M17.41 7.96l-1.37-1.37c-.4-.4-.92-.59-1.43-.59-.52 0-1.04.2-1.43.59L10.3 9.45l-7.72 7.72c-.78.78-.78 2.05 0 2.83L4 21.41c.39.39.9.59 1.41.59.51 0 1.02-.2 1.41-.59l7.78-7.78 2.81-2.81c.8-.78.8-2.07 0-2.86zM5.41 20L4 18.59l7.72-7.72 1.47 1.35L5.41 20z\"/>\n",
              "  </svg>\n",
              "      </button>\n",
              "      \n",
              "  <style>\n",
              "    .colab-df-container {\n",
              "      display:flex;\n",
              "      flex-wrap:wrap;\n",
              "      gap: 12px;\n",
              "    }\n",
              "\n",
              "    .colab-df-convert {\n",
              "      background-color: #E8F0FE;\n",
              "      border: none;\n",
              "      border-radius: 50%;\n",
              "      cursor: pointer;\n",
              "      display: none;\n",
              "      fill: #1967D2;\n",
              "      height: 32px;\n",
              "      padding: 0 0 0 0;\n",
              "      width: 32px;\n",
              "    }\n",
              "\n",
              "    .colab-df-convert:hover {\n",
              "      background-color: #E2EBFA;\n",
              "      box-shadow: 0px 1px 2px rgba(60, 64, 67, 0.3), 0px 1px 3px 1px rgba(60, 64, 67, 0.15);\n",
              "      fill: #174EA6;\n",
              "    }\n",
              "\n",
              "    [theme=dark] .colab-df-convert {\n",
              "      background-color: #3B4455;\n",
              "      fill: #D2E3FC;\n",
              "    }\n",
              "\n",
              "    [theme=dark] .colab-df-convert:hover {\n",
              "      background-color: #434B5C;\n",
              "      box-shadow: 0px 1px 3px 1px rgba(0, 0, 0, 0.15);\n",
              "      filter: drop-shadow(0px 1px 2px rgba(0, 0, 0, 0.3));\n",
              "      fill: #FFFFFF;\n",
              "    }\n",
              "  </style>\n",
              "\n",
              "      <script>\n",
              "        const buttonEl =\n",
              "          document.querySelector('#df-abe2a595-43c8-4805-b205-575799f419cf button.colab-df-convert');\n",
              "        buttonEl.style.display =\n",
              "          google.colab.kernel.accessAllowed ? 'block' : 'none';\n",
              "\n",
              "        async function convertToInteractive(key) {\n",
              "          const element = document.querySelector('#df-abe2a595-43c8-4805-b205-575799f419cf');\n",
              "          const dataTable =\n",
              "            await google.colab.kernel.invokeFunction('convertToInteractive',\n",
              "                                                     [key], {});\n",
              "          if (!dataTable) return;\n",
              "\n",
              "          const docLinkHtml = 'Like what you see? Visit the ' +\n",
              "            '<a target=\"_blank\" href=https://colab.research.google.com/notebooks/data_table.ipynb>data table notebook</a>'\n",
              "            + ' to learn more about interactive tables.';\n",
              "          element.innerHTML = '';\n",
              "          dataTable['output_type'] = 'display_data';\n",
              "          await google.colab.output.renderOutput(dataTable, element);\n",
              "          const docLink = document.createElement('div');\n",
              "          docLink.innerHTML = docLinkHtml;\n",
              "          element.appendChild(docLink);\n",
              "        }\n",
              "      </script>\n",
              "    </div>\n",
              "  </div>\n",
              "  "
            ]
          },
          "metadata": {},
          "execution_count": 60
        }
      ],
      "source": [
        "calls.head()"
      ]
    },
    {
      "cell_type": "code",
      "execution_count": 61,
      "metadata": {
        "deletable": false,
        "colab": {
          "base_uri": "https://localhost:8080/"
        },
        "id": "rBqUm8JteSeI",
        "outputId": "d7a5f2be-bdfa-479a-a3e6-fbb0e7deecae"
      },
      "outputs": [
        {
          "output_type": "stream",
          "name": "stdout",
          "text": [
            "<class 'pandas.core.frame.DataFrame'>\n",
            "RangeIndex: 202607 entries, 0 to 202606\n",
            "Data columns (total 4 columns):\n",
            " #   Column     Non-Null Count   Dtype  \n",
            "---  ------     --------------   -----  \n",
            " 0   id         202607 non-null  object \n",
            " 1   call_date  202607 non-null  object \n",
            " 2   duration   202607 non-null  float64\n",
            " 3   user_id    202607 non-null  int64  \n",
            "dtypes: float64(1), int64(1), object(2)\n",
            "memory usage: 6.2+ MB\n"
          ]
        }
      ],
      "source": [
        "calls.info()"
      ]
    },
    {
      "cell_type": "markdown",
      "source": [
        "Описание данных\n",
        "\n",
        "* id — уникальный номер звонка\n",
        "* call_date — дата звонка\n",
        "* duration — длительность звонка в минутах\n",
        "* user_id — идентификатор пользователя, сделавшего звонок"
      ],
      "metadata": {
        "id": "WVYulK5cCQpb"
      }
    },
    {
      "cell_type": "code",
      "execution_count": 62,
      "metadata": {
        "deletable": false,
        "colab": {
          "base_uri": "https://localhost:8080/",
          "height": 269
        },
        "id": "Yv6SKtLpeSeM",
        "outputId": "144903c8-b7b9-49c8-cbe8-8d3003dda8c1"
      },
      "outputs": [
        {
          "output_type": "display_data",
          "data": {
            "text/plain": [
              "<Figure size 432x288 with 1 Axes>"
            ],
            "image/png": "[encoded data removed]"
          },
          "metadata": {
            "needs_background": "light"
          }
        }
      ],
      "source": [
        "calls['duration'].hist();"
      ]
    },
    {
      "cell_type": "code",
      "execution_count": 63,
      "metadata": {
        "deletable": false,
        "colab": {
          "base_uri": "https://localhost:8080/"
        },
        "id": "HNWP30S8eSeO",
        "outputId": "ef90ef78-01d8-4203-b6c4-6c20fd3d0629"
      },
      "outputs": [
        {
          "output_type": "stream",
          "name": "stdout",
          "text": [
            "/usr/local/lib/python3.8/dist-packages/gdown/cli.py:127: FutureWarning: Option `--id` was deprecated in version 4.3.1 and will be removed in 5.0. You don't need to pass it anymore to use a file ID.\n",
            "  warnings.warn(\n",
            "Downloading...\n",
            "From: https://drive.google.com/uc?id=10bQ7JJMqmNaBCrQvYlD-qCUhDILTXDmO\n",
            "To: /content/internet.csv\n",
            "100% 5.58M/5.58M [00:00<00:00, 267MB/s]\n"
          ]
        }
      ],
      "source": [
        "! gdown --id 10bQ7JJMqmNaBCrQvYlD-qCUhDILTXDmO\n",
        "sessions = pd.read_csv('internet.csv')"
      ]
    },
    {
      "cell_type": "code",
      "execution_count": 64,
      "metadata": {
        "deletable": false,
        "colab": {
          "base_uri": "https://localhost:8080/",
          "height": 206
        },
        "id": "-lrlmJwzeSeP",
        "outputId": "10632b1e-411b-4805-e449-3d14150b1d23"
      },
      "outputs": [
        {
          "output_type": "execute_result",
          "data": {
            "text/plain": [
              "   Unnamed: 0      id  mb_used session_date  user_id\n",
              "0           0  1000_0   112.95   2018-11-25     1000\n",
              "1           1  1000_1  1052.81   2018-09-07     1000\n",
              "2           2  1000_2  1197.26   2018-06-25     1000\n",
              "3           3  1000_3   550.27   2018-08-22     1000\n",
              "4           4  1000_4   302.56   2018-09-24     1000"
            ],
            "text/html": [
              "\n",
              "  <div id=\"df-74417e3e-d97e-48e9-a00b-0716a89522c7\">\n",
              "    <div class=\"colab-df-container\">\n",
              "      <div>\n",
              "<style scoped>\n",
              "    .dataframe tbody tr th:only-of-type {\n",
              "        vertical-align: middle;\n",
              "    }\n",
              "\n",
              "    .dataframe tbody tr th {\n",
              "        vertical-align: top;\n",
              "    }\n",
              "\n",
              "    .dataframe thead th {\n",
              "        text-align: right;\n",
              "    }\n",
              "</style>\n",
              "<table border=\"1\" class=\"dataframe\">\n",
              "  <thead>\n",
              "    <tr style=\"text-align: right;\">\n",
              "      <th></th>\n",
              "      <th>Unnamed: 0</th>\n",
              "      <th>id</th>\n",
              "      <th>mb_used</th>\n",
              "      <th>session_date</th>\n",
              "      <th>user_id</th>\n",
              "    </tr>\n",
              "  </thead>\n",
              "  <tbody>\n",
              "    <tr>\n",
              "      <th>0</th>\n",
              "      <td>0</td>\n",
              "      <td>1000_0</td>\n",
              "      <td>112.95</td>\n",
              "      <td>2018-11-25</td>\n",
              "      <td>1000</td>\n",
              "    </tr>\n",
              "    <tr>\n",
              "      <th>1</th>\n",
              "      <td>1</td>\n",
              "      <td>1000_1</td>\n",
              "      <td>1052.81</td>\n",
              "      <td>2018-09-07</td>\n",
              "      <td>1000</td>\n",
              "    </tr>\n",
              "    <tr>\n",
              "      <th>2</th>\n",
              "      <td>2</td>\n",
              "      <td>1000_2</td>\n",
              "      <td>1197.26</td>\n",
              "      <td>2018-06-25</td>\n",
              "      <td>1000</td>\n",
              "    </tr>\n",
              "    <tr>\n",
              "      <th>3</th>\n",
              "      <td>3</td>\n",
              "      <td>1000_3</td>\n",
              "      <td>550.27</td>\n",
              "      <td>2018-08-22</td>\n",
              "      <td>1000</td>\n",
              "    </tr>\n",
              "    <tr>\n",
              "      <th>4</th>\n",
              "      <td>4</td>\n",
              "      <td>1000_4</td>\n",
              "      <td>302.56</td>\n",
              "      <td>2018-09-24</td>\n",
              "      <td>1000</td>\n",
              "    </tr>\n",
              "  </tbody>\n",
              "</table>\n",
              "</div>\n",
              "      <button class=\"colab-df-convert\" onclick=\"convertToInteractive('df-74417e3e-d97e-48e9-a00b-0716a89522c7')\"\n",
              "              title=\"Convert this dataframe to an interactive table.\"\n",
              "              style=\"display:none;\">\n",
              "        \n",
              "  <svg xmlns=\"http://www.w3.org/2000/svg\" height=\"24px\"viewBox=\"0 0 24 24\"\n",
              "       width=\"24px\">\n",
              "    <path d=\"M0 0h24v24H0V0z\" fill=\"none\"/>\n",
              "    <path d=\"M18.56 5.44l.94 2.06.94-2.06 2.06-.94-2.06-.94-.94-2.06-.94 2.06-2.06.94zm-11 1L8.5 8.5l.94-2.06 2.06-.94-2.06-.94L8.5 2.5l-.94 2.06-2.06.94zm10 10l.94 2.06.94-2.06 2.06-.94-2.06-.94-.94-2.06-.94 2.06-2.06.94z\"/><path d=\"M17.41 7.96l-1.37-1.37c-.4-.4-.92-.59-1.43-.59-.52 0-1.04.2-1.43.59L10.3 9.45l-7.72 7.72c-.78.78-.78 2.05 0 2.83L4 21.41c.39.39.9.59 1.41.59.51 0 1.02-.2 1.41-.59l7.78-7.78 2.81-2.81c.8-.78.8-2.07 0-2.86zM5.41 20L4 18.59l7.72-7.72 1.47 1.35L5.41 20z\"/>\n",
              "  </svg>\n",
              "      </button>\n",
              "      \n",
              "  <style>\n",
              "    .colab-df-container {\n",
              "      display:flex;\n",
              "      flex-wrap:wrap;\n",
              "      gap: 12px;\n",
              "    }\n",
              "\n",
              "    .colab-df-convert {\n",
              "      background-color: #E8F0FE;\n",
              "      border: none;\n",
              "      border-radius: 50%;\n",
              "      cursor: pointer;\n",
              "      display: none;\n",
              "      fill: #1967D2;\n",
              "      height: 32px;\n",
              "      padding: 0 0 0 0;\n",
              "      width: 32px;\n",
              "    }\n",
              "\n",
              "    .colab-df-convert:hover {\n",
              "      background-color: #E2EBFA;\n",
              "      box-shadow: 0px 1px 2px rgba(60, 64, 67, 0.3), 0px 1px 3px 1px rgba(60, 64, 67, 0.15);\n",
              "      fill: #174EA6;\n",
              "    }\n",
              "\n",
              "    [theme=dark] .colab-df-convert {\n",
              "      background-color: #3B4455;\n",
              "      fill: #D2E3FC;\n",
              "    }\n",
              "\n",
              "    [theme=dark] .colab-df-convert:hover {\n",
              "      background-color: #434B5C;\n",
              "      box-shadow: 0px 1px 3px 1px rgba(0, 0, 0, 0.15);\n",
              "      filter: drop-shadow(0px 1px 2px rgba(0, 0, 0, 0.3));\n",
              "      fill: #FFFFFF;\n",
              "    }\n",
              "  </style>\n",
              "\n",
              "      <script>\n",
              "        const buttonEl =\n",
              "          document.querySelector('#df-74417e3e-d97e-48e9-a00b-0716a89522c7 button.colab-df-convert');\n",
              "        buttonEl.style.display =\n",
              "          google.colab.kernel.accessAllowed ? 'block' : 'none';\n",
              "\n",
              "        async function convertToInteractive(key) {\n",
              "          const element = document.querySelector('#df-74417e3e-d97e-48e9-a00b-0716a89522c7');\n",
              "          const dataTable =\n",
              "            await google.colab.kernel.invokeFunction('convertToInteractive',\n",
              "                                                     [key], {});\n",
              "          if (!dataTable) return;\n",
              "\n",
              "          const docLinkHtml = 'Like what you see? Visit the ' +\n",
              "            '<a target=\"_blank\" href=https://colab.research.google.com/notebooks/data_table.ipynb>data table notebook</a>'\n",
              "            + ' to learn more about interactive tables.';\n",
              "          element.innerHTML = '';\n",
              "          dataTable['output_type'] = 'display_data';\n",
              "          await google.colab.output.renderOutput(dataTable, element);\n",
              "          const docLink = document.createElement('div');\n",
              "          docLink.innerHTML = docLinkHtml;\n",
              "          element.appendChild(docLink);\n",
              "        }\n",
              "      </script>\n",
              "    </div>\n",
              "  </div>\n",
              "  "
            ]
          },
          "metadata": {},
          "execution_count": 64
        }
      ],
      "source": [
        "sessions.head()"
      ]
    },
    {
      "cell_type": "code",
      "execution_count": 65,
      "metadata": {
        "deletable": false,
        "colab": {
          "base_uri": "https://localhost:8080/"
        },
        "id": "3E1PMGnpeSeQ",
        "outputId": "a235a58a-ac47-4a7d-e140-78575ce8fa67"
      },
      "outputs": [
        {
          "output_type": "stream",
          "name": "stdout",
          "text": [
            "<class 'pandas.core.frame.DataFrame'>\n",
            "RangeIndex: 149396 entries, 0 to 149395\n",
            "Data columns (total 5 columns):\n",
            " #   Column        Non-Null Count   Dtype  \n",
            "---  ------        --------------   -----  \n",
            " 0   Unnamed: 0    149396 non-null  int64  \n",
            " 1   id            149396 non-null  object \n",
            " 2   mb_used       149396 non-null  float64\n",
            " 3   session_date  149396 non-null  object \n",
            " 4   user_id       149396 non-null  int64  \n",
            "dtypes: float64(1), int64(2), object(2)\n",
            "memory usage: 5.7+ MB\n"
          ]
        }
      ],
      "source": [
        "sessions.info()"
      ]
    },
    {
      "cell_type": "markdown",
      "source": [
        "Описание данных\n",
        "\n",
        "* id — уникальный номер сессии\n",
        "* mb_used — объём потраченного за сессию интернет-трафика (в мегабайтах)\n",
        "* session_date — дата интернет-сессии\n",
        "* user_id — идентификатор пользователя"
      ],
      "metadata": {
        "id": "4zjb2gdXCZco"
      }
    },
    {
      "cell_type": "code",
      "execution_count": 66,
      "metadata": {
        "deletable": false,
        "colab": {
          "base_uri": "https://localhost:8080/",
          "height": 265
        },
        "id": "gZYxSonGeSeS",
        "outputId": "fd6267e4-26f2-4edc-802b-fab56cb7d586"
      },
      "outputs": [
        {
          "output_type": "display_data",
          "data": {
            "text/plain": [
              "<Figure size 432x288 with 1 Axes>"
            ],
            "image/png": "[encoded data removed]"
          },
          "metadata": {
            "needs_background": "light"
          }
        }
      ],
      "source": [
        "sessions['mb_used'].hist();"
      ]
    },
    {
      "cell_type": "code",
      "execution_count": 67,
      "metadata": {
        "deletable": false,
        "colab": {
          "base_uri": "https://localhost:8080/"
        },
        "id": "_cR0y4xzeSeT",
        "outputId": "c4b8fb6e-ac25-4f23-a72e-2648e2417947"
      },
      "outputs": [
        {
          "output_type": "stream",
          "name": "stdout",
          "text": [
            "/usr/local/lib/python3.8/dist-packages/gdown/cli.py:127: FutureWarning: Option `--id` was deprecated in version 4.3.1 and will be removed in 5.0. You don't need to pass it anymore to use a file ID.\n",
            "  warnings.warn(\n",
            "Downloading...\n",
            "From: https://drive.google.com/uc?id=1xotC-HPTI_ghCT_DDZPJi-64eAtZHOxv\n",
            "To: /content/messages.csv\n",
            "100% 3.04M/3.04M [00:00<00:00, 219MB/s]\n"
          ]
        }
      ],
      "source": [
        "! gdown --id 1xotC-HPTI_ghCT_DDZPJi-64eAtZHOxv\n",
        "messages = pd.read_csv('messages.csv')"
      ]
    },
    {
      "cell_type": "code",
      "execution_count": 68,
      "metadata": {
        "deletable": false,
        "colab": {
          "base_uri": "https://localhost:8080/",
          "height": 206
        },
        "id": "NvORPE44eSeU",
        "outputId": "75dfb370-276c-4d87-c69b-480811badd15"
      },
      "outputs": [
        {
          "output_type": "execute_result",
          "data": {
            "text/plain": [
              "       id message_date  user_id\n",
              "0  1000_0   2018-06-27     1000\n",
              "1  1000_1   2018-10-08     1000\n",
              "2  1000_2   2018-08-04     1000\n",
              "3  1000_3   2018-06-16     1000\n",
              "4  1000_4   2018-12-05     1000"
            ],
            "text/html": [
              "\n",
              "  <div id=\"df-da0332a5-cf79-400e-831e-113b01c81848\">\n",
              "    <div class=\"colab-df-container\">\n",
              "      <div>\n",
              "<style scoped>\n",
              "    .dataframe tbody tr th:only-of-type {\n",
              "        vertical-align: middle;\n",
              "    }\n",
              "\n",
              "    .dataframe tbody tr th {\n",
              "        vertical-align: top;\n",
              "    }\n",
              "\n",
              "    .dataframe thead th {\n",
              "        text-align: right;\n",
              "    }\n",
              "</style>\n",
              "<table border=\"1\" class=\"dataframe\">\n",
              "  <thead>\n",
              "    <tr style=\"text-align: right;\">\n",
              "      <th></th>\n",
              "      <th>id</th>\n",
              "      <th>message_date</th>\n",
              "      <th>user_id</th>\n",
              "    </tr>\n",
              "  </thead>\n",
              "  <tbody>\n",
              "    <tr>\n",
              "      <th>0</th>\n",
              "      <td>1000_0</td>\n",
              "      <td>2018-06-27</td>\n",
              "      <td>1000</td>\n",
              "    </tr>\n",
              "    <tr>\n",
              "      <th>1</th>\n",
              "      <td>1000_1</td>\n",
              "      <td>2018-10-08</td>\n",
              "      <td>1000</td>\n",
              "    </tr>\n",
              "    <tr>\n",
              "      <th>2</th>\n",
              "      <td>1000_2</td>\n",
              "      <td>2018-08-04</td>\n",
              "      <td>1000</td>\n",
              "    </tr>\n",
              "    <tr>\n",
              "      <th>3</th>\n",
              "      <td>1000_3</td>\n",
              "      <td>2018-06-16</td>\n",
              "      <td>1000</td>\n",
              "    </tr>\n",
              "    <tr>\n",
              "      <th>4</th>\n",
              "      <td>1000_4</td>\n",
              "      <td>2018-12-05</td>\n",
              "      <td>1000</td>\n",
              "    </tr>\n",
              "  </tbody>\n",
              "</table>\n",
              "</div>\n",
              "      <button class=\"colab-df-convert\" onclick=\"convertToInteractive('df-da0332a5-cf79-400e-831e-113b01c81848')\"\n",
              "              title=\"Convert this dataframe to an interactive table.\"\n",
              "              style=\"display:none;\">\n",
              "        \n",
              "  <svg xmlns=\"http://www.w3.org/2000/svg\" height=\"24px\"viewBox=\"0 0 24 24\"\n",
              "       width=\"24px\">\n",
              "    <path d=\"M0 0h24v24H0V0z\" fill=\"none\"/>\n",
              "    <path d=\"M18.56 5.44l.94 2.06.94-2.06 2.06-.94-2.06-.94-.94-2.06-.94 2.06-2.06.94zm-11 1L8.5 8.5l.94-2.06 2.06-.94-2.06-.94L8.5 2.5l-.94 2.06-2.06.94zm10 10l.94 2.06.94-2.06 2.06-.94-2.06-.94-.94-2.06-.94 2.06-2.06.94z\"/><path d=\"M17.41 7.96l-1.37-1.37c-.4-.4-.92-.59-1.43-.59-.52 0-1.04.2-1.43.59L10.3 9.45l-7.72 7.72c-.78.78-.78 2.05 0 2.83L4 21.41c.39.39.9.59 1.41.59.51 0 1.02-.2 1.41-.59l7.78-7.78 2.81-2.81c.8-.78.8-2.07 0-2.86zM5.41 20L4 18.59l7.72-7.72 1.47 1.35L5.41 20z\"/>\n",
              "  </svg>\n",
              "      </button>\n",
              "      \n",
              "  <style>\n",
              "    .colab-df-container {\n",
              "      display:flex;\n",
              "      flex-wrap:wrap;\n",
              "      gap: 12px;\n",
              "    }\n",
              "\n",
              "    .colab-df-convert {\n",
              "      background-color: #E8F0FE;\n",
              "      border: none;\n",
              "      border-radius: 50%;\n",
              "      cursor: pointer;\n",
              "      display: none;\n",
              "      fill: #1967D2;\n",
              "      height: 32px;\n",
              "      padding: 0 0 0 0;\n",
              "      width: 32px;\n",
              "    }\n",
              "\n",
              "    .colab-df-convert:hover {\n",
              "      background-color: #E2EBFA;\n",
              "      box-shadow: 0px 1px 2px rgba(60, 64, 67, 0.3), 0px 1px 3px 1px rgba(60, 64, 67, 0.15);\n",
              "      fill: #174EA6;\n",
              "    }\n",
              "\n",
              "    [theme=dark] .colab-df-convert {\n",
              "      background-color: #3B4455;\n",
              "      fill: #D2E3FC;\n",
              "    }\n",
              "\n",
              "    [theme=dark] .colab-df-convert:hover {\n",
              "      background-color: #434B5C;\n",
              "      box-shadow: 0px 1px 3px 1px rgba(0, 0, 0, 0.15);\n",
              "      filter: drop-shadow(0px 1px 2px rgba(0, 0, 0, 0.3));\n",
              "      fill: #FFFFFF;\n",
              "    }\n",
              "  </style>\n",
              "\n",
              "      <script>\n",
              "        const buttonEl =\n",
              "          document.querySelector('#df-da0332a5-cf79-400e-831e-113b01c81848 button.colab-df-convert');\n",
              "        buttonEl.style.display =\n",
              "          google.colab.kernel.accessAllowed ? 'block' : 'none';\n",
              "\n",
              "        async function convertToInteractive(key) {\n",
              "          const element = document.querySelector('#df-da0332a5-cf79-400e-831e-113b01c81848');\n",
              "          const dataTable =\n",
              "            await google.colab.kernel.invokeFunction('convertToInteractive',\n",
              "                                                     [key], {});\n",
              "          if (!dataTable) return;\n",
              "\n",
              "          const docLinkHtml = 'Like what you see? Visit the ' +\n",
              "            '<a target=\"_blank\" href=https://colab.research.google.com/notebooks/data_table.ipynb>data table notebook</a>'\n",
              "            + ' to learn more about interactive tables.';\n",
              "          element.innerHTML = '';\n",
              "          dataTable['output_type'] = 'display_data';\n",
              "          await google.colab.output.renderOutput(dataTable, element);\n",
              "          const docLink = document.createElement('div');\n",
              "          docLink.innerHTML = docLinkHtml;\n",
              "          element.appendChild(docLink);\n",
              "        }\n",
              "      </script>\n",
              "    </div>\n",
              "  </div>\n",
              "  "
            ]
          },
          "metadata": {},
          "execution_count": 68
        }
      ],
      "source": [
        "messages.head()"
      ]
    },
    {
      "cell_type": "code",
      "execution_count": 69,
      "metadata": {
        "deletable": false,
        "colab": {
          "base_uri": "https://localhost:8080/"
        },
        "id": "jtclEqhGeSeW",
        "outputId": "04a4ec01-81cb-47a9-e84f-d27bd478ced5"
      },
      "outputs": [
        {
          "output_type": "stream",
          "name": "stdout",
          "text": [
            "<class 'pandas.core.frame.DataFrame'>\n",
            "RangeIndex: 123036 entries, 0 to 123035\n",
            "Data columns (total 3 columns):\n",
            " #   Column        Non-Null Count   Dtype \n",
            "---  ------        --------------   ----- \n",
            " 0   id            123036 non-null  object\n",
            " 1   message_date  123036 non-null  object\n",
            " 2   user_id       123036 non-null  int64 \n",
            "dtypes: int64(1), object(2)\n",
            "memory usage: 2.8+ MB\n"
          ]
        }
      ],
      "source": [
        "messages.info()"
      ]
    },
    {
      "cell_type": "markdown",
      "source": [
        "Описание данных\n",
        "\n",
        "* id — уникальный номер звонка\n",
        "* message_date — дата сообщения\n",
        "* user_id — идентификатор пользователя, отправившего сообщение"
      ],
      "metadata": {
        "id": "yH3FFhMmCnOA"
      }
    },
    {
      "cell_type": "code",
      "execution_count": 70,
      "metadata": {
        "deletable": false,
        "colab": {
          "base_uri": "https://localhost:8080/"
        },
        "id": "h5ug-9JUeSeX",
        "outputId": "2a6282a4-8967-4215-ce53-43904c3241b1"
      },
      "outputs": [
        {
          "output_type": "stream",
          "name": "stdout",
          "text": [
            "/usr/local/lib/python3.8/dist-packages/gdown/cli.py:127: FutureWarning: Option `--id` was deprecated in version 4.3.1 and will be removed in 5.0. You don't need to pass it anymore to use a file ID.\n",
            "  warnings.warn(\n",
            "Downloading...\n",
            "From: https://drive.google.com/uc?id=1N9jRKC85x37h_GIF0uGX64ZxVTZ24hea\n",
            "To: /content/tariffs.csv\n",
            "100% 193/193 [00:00<00:00, 208kB/s]\n"
          ]
        }
      ],
      "source": [
        "! gdown --id 1N9jRKC85x37h_GIF0uGX64ZxVTZ24hea\n",
        "tariffs = pd.read_csv('tariffs.csv')"
      ]
    },
    {
      "cell_type": "code",
      "execution_count": 71,
      "metadata": {
        "deletable": false,
        "colab": {
          "base_uri": "https://localhost:8080/",
          "height": 112
        },
        "id": "qQV9b9wReSeX",
        "outputId": "947a9971-6bb9-4840-c00d-2898de1a38f3"
      },
      "outputs": [
        {
          "output_type": "execute_result",
          "data": {
            "text/plain": [
              "   messages_included  mb_per_month_included  minutes_included  \\\n",
              "0                 50                  15360               500   \n",
              "1               1000                  30720              3000   \n",
              "\n",
              "   rub_monthly_fee  rub_per_gb  rub_per_message  rub_per_minute tariff_name  \n",
              "0              550         200                3               3       smart  \n",
              "1             1950         150                1               1       ultra  "
            ],
            "text/html": [
              "\n",
              "  <div id=\"df-05661131-8d19-4d5e-9ddd-d982481aebaf\">\n",
              "    <div class=\"colab-df-container\">\n",
              "      <div>\n",
              "<style scoped>\n",
              "    .dataframe tbody tr th:only-of-type {\n",
              "        vertical-align: middle;\n",
              "    }\n",
              "\n",
              "    .dataframe tbody tr th {\n",
              "        vertical-align: top;\n",
              "    }\n",
              "\n",
              "    .dataframe thead th {\n",
              "        text-align: right;\n",
              "    }\n",
              "</style>\n",
              "<table border=\"1\" class=\"dataframe\">\n",
              "  <thead>\n",
              "    <tr style=\"text-align: right;\">\n",
              "      <th></th>\n",
              "      <th>messages_included</th>\n",
              "      <th>mb_per_month_included</th>\n",
              "      <th>minutes_included</th>\n",
              "      <th>rub_monthly_fee</th>\n",
              "      <th>rub_per_gb</th>\n",
              "      <th>rub_per_message</th>\n",
              "      <th>rub_per_minute</th>\n",
              "      <th>tariff_name</th>\n",
              "    </tr>\n",
              "  </thead>\n",
              "  <tbody>\n",
              "    <tr>\n",
              "      <th>0</th>\n",
              "      <td>50</td>\n",
              "      <td>15360</td>\n",
              "      <td>500</td>\n",
              "      <td>550</td>\n",
              "      <td>200</td>\n",
              "      <td>3</td>\n",
              "      <td>3</td>\n",
              "      <td>smart</td>\n",
              "    </tr>\n",
              "    <tr>\n",
              "      <th>1</th>\n",
              "      <td>1000</td>\n",
              "      <td>30720</td>\n",
              "      <td>3000</td>\n",
              "      <td>1950</td>\n",
              "      <td>150</td>\n",
              "      <td>1</td>\n",
              "      <td>1</td>\n",
              "      <td>ultra</td>\n",
              "    </tr>\n",
              "  </tbody>\n",
              "</table>\n",
              "</div>\n",
              "      <button class=\"colab-df-convert\" onclick=\"convertToInteractive('df-05661131-8d19-4d5e-9ddd-d982481aebaf')\"\n",
              "              title=\"Convert this dataframe to an interactive table.\"\n",
              "              style=\"display:none;\">\n",
              "        \n",
              "  <svg xmlns=\"http://www.w3.org/2000/svg\" height=\"24px\"viewBox=\"0 0 24 24\"\n",
              "       width=\"24px\">\n",
              "    <path d=\"M0 0h24v24H0V0z\" fill=\"none\"/>\n",
              "    <path d=\"M18.56 5.44l.94 2.06.94-2.06 2.06-.94-2.06-.94-.94-2.06-.94 2.06-2.06.94zm-11 1L8.5 8.5l.94-2.06 2.06-.94-2.06-.94L8.5 2.5l-.94 2.06-2.06.94zm10 10l.94 2.06.94-2.06 2.06-.94-2.06-.94-.94-2.06-.94 2.06-2.06.94z\"/><path d=\"M17.41 7.96l-1.37-1.37c-.4-.4-.92-.59-1.43-.59-.52 0-1.04.2-1.43.59L10.3 9.45l-7.72 7.72c-.78.78-.78 2.05 0 2.83L4 21.41c.39.39.9.59 1.41.59.51 0 1.02-.2 1.41-.59l7.78-7.78 2.81-2.81c.8-.78.8-2.07 0-2.86zM5.41 20L4 18.59l7.72-7.72 1.47 1.35L5.41 20z\"/>\n",
              "  </svg>\n",
              "      </button>\n",
              "      \n",
              "  <style>\n",
              "    .colab-df-container {\n",
              "      display:flex;\n",
              "      flex-wrap:wrap;\n",
              "      gap: 12px;\n",
              "    }\n",
              "\n",
              "    .colab-df-convert {\n",
              "      background-color: #E8F0FE;\n",
              "      border: none;\n",
              "      border-radius: 50%;\n",
              "      cursor: pointer;\n",
              "      display: none;\n",
              "      fill: #1967D2;\n",
              "      height: 32px;\n",
              "      padding: 0 0 0 0;\n",
              "      width: 32px;\n",
              "    }\n",
              "\n",
              "    .colab-df-convert:hover {\n",
              "      background-color: #E2EBFA;\n",
              "      box-shadow: 0px 1px 2px rgba(60, 64, 67, 0.3), 0px 1px 3px 1px rgba(60, 64, 67, 0.15);\n",
              "      fill: #174EA6;\n",
              "    }\n",
              "\n",
              "    [theme=dark] .colab-df-convert {\n",
              "      background-color: #3B4455;\n",
              "      fill: #D2E3FC;\n",
              "    }\n",
              "\n",
              "    [theme=dark] .colab-df-convert:hover {\n",
              "      background-color: #434B5C;\n",
              "      box-shadow: 0px 1px 3px 1px rgba(0, 0, 0, 0.15);\n",
              "      filter: drop-shadow(0px 1px 2px rgba(0, 0, 0, 0.3));\n",
              "      fill: #FFFFFF;\n",
              "    }\n",
              "  </style>\n",
              "\n",
              "      <script>\n",
              "        const buttonEl =\n",
              "          document.querySelector('#df-05661131-8d19-4d5e-9ddd-d982481aebaf button.colab-df-convert');\n",
              "        buttonEl.style.display =\n",
              "          google.colab.kernel.accessAllowed ? 'block' : 'none';\n",
              "\n",
              "        async function convertToInteractive(key) {\n",
              "          const element = document.querySelector('#df-05661131-8d19-4d5e-9ddd-d982481aebaf');\n",
              "          const dataTable =\n",
              "            await google.colab.kernel.invokeFunction('convertToInteractive',\n",
              "                                                     [key], {});\n",
              "          if (!dataTable) return;\n",
              "\n",
              "          const docLinkHtml = 'Like what you see? Visit the ' +\n",
              "            '<a target=\"_blank\" href=https://colab.research.google.com/notebooks/data_table.ipynb>data table notebook</a>'\n",
              "            + ' to learn more about interactive tables.';\n",
              "          element.innerHTML = '';\n",
              "          dataTable['output_type'] = 'display_data';\n",
              "          await google.colab.output.renderOutput(dataTable, element);\n",
              "          const docLink = document.createElement('div');\n",
              "          docLink.innerHTML = docLinkHtml;\n",
              "          element.appendChild(docLink);\n",
              "        }\n",
              "      </script>\n",
              "    </div>\n",
              "  </div>\n",
              "  "
            ]
          },
          "metadata": {},
          "execution_count": 71
        }
      ],
      "source": [
        "tariffs"
      ]
    },
    {
      "cell_type": "code",
      "execution_count": 72,
      "metadata": {
        "deletable": false,
        "colab": {
          "base_uri": "https://localhost:8080/"
        },
        "id": "feJofAXKeSeY",
        "outputId": "a04c1862-f302-4dcd-e69a-04d5fff9d5df"
      },
      "outputs": [
        {
          "output_type": "stream",
          "name": "stdout",
          "text": [
            "<class 'pandas.core.frame.DataFrame'>\n",
            "RangeIndex: 2 entries, 0 to 1\n",
            "Data columns (total 8 columns):\n",
            " #   Column                 Non-Null Count  Dtype \n",
            "---  ------                 --------------  ----- \n",
            " 0   messages_included      2 non-null      int64 \n",
            " 1   mb_per_month_included  2 non-null      int64 \n",
            " 2   minutes_included       2 non-null      int64 \n",
            " 3   rub_monthly_fee        2 non-null      int64 \n",
            " 4   rub_per_gb             2 non-null      int64 \n",
            " 5   rub_per_message        2 non-null      int64 \n",
            " 6   rub_per_minute         2 non-null      int64 \n",
            " 7   tariff_name            2 non-null      object\n",
            "dtypes: int64(7), object(1)\n",
            "memory usage: 256.0+ bytes\n"
          ]
        }
      ],
      "source": [
        "tariffs.info()"
      ]
    },
    {
      "cell_type": "markdown",
      "source": [
        "Описание данных\n",
        "* tariff_name — название тарифа\n",
        "* rub_monthly_fee — ежемесячная абонентская плата в рублях\n",
        "* minutes_included — количество минут разговора в месяц, включённых в абонентскую плату\n",
        "* messages_included — количество сообщений в месяц, включённых в абонентскую плату\n",
        "* mb_per_month_included — объём интернет-трафика, включённого в абонентскую плату (в мегабайтах)\n",
        "* rub_per_minute — стоимость минуты разговора сверх тарифного пакета (например, если в тарифе 100 минут разговора в месяц, то со 101 минуты будет взиматься плата)\n",
        "* rub_per_message — стоимость отправки сообщения сверх тарифного пакета\n",
        "* rub_per_gb — стоимость дополнительного гигабайта интернет-трафика сверх тарифного пакета (1 гигабайт = 1024 мегабайта)"
      ],
      "metadata": {
        "id": "XcQr3VcTCxZq"
      }
    },
    {
      "cell_type": "code",
      "execution_count": 73,
      "metadata": {
        "deletable": false,
        "colab": {
          "base_uri": "https://localhost:8080/"
        },
        "id": "jC4GYsMveSeZ",
        "outputId": "60ee5902-ba79-4e99-b9eb-50390047fa69"
      },
      "outputs": [
        {
          "output_type": "stream",
          "name": "stdout",
          "text": [
            "/usr/local/lib/python3.8/dist-packages/gdown/cli.py:127: FutureWarning: Option `--id` was deprecated in version 4.3.1 and will be removed in 5.0. You don't need to pass it anymore to use a file ID.\n",
            "  warnings.warn(\n",
            "Downloading...\n",
            "From: https://drive.google.com/uc?id=1PtrGNDaRur9PbV8HbrCsZv39S1RlHlRj\n",
            "To: /content/users.csv\n",
            "100% 37.0k/37.0k [00:00<00:00, 40.5MB/s]\n"
          ]
        }
      ],
      "source": [
        "! gdown --id 1PtrGNDaRur9PbV8HbrCsZv39S1RlHlRj\n",
        "users = pd.read_csv('users.csv')"
      ]
    },
    {
      "cell_type": "code",
      "execution_count": 74,
      "metadata": {
        "deletable": false,
        "colab": {
          "base_uri": "https://localhost:8080/",
          "height": 206
        },
        "id": "_s47NMqweSea",
        "outputId": "e3b2858b-9ea6-4a57-dc02-ed5573793664"
      },
      "outputs": [
        {
          "output_type": "execute_result",
          "data": {
            "text/plain": [
              "   user_id  age churn_date         city first_name  last_name    reg_date  \\\n",
              "0     1000   52        NaN    Краснодар     Рафаил  Верещагин  2018-05-25   \n",
              "1     1001   41        NaN       Москва       Иван       Ежов  2018-11-01   \n",
              "2     1002   59        NaN  Стерлитамак    Евгений  Абрамович  2018-06-17   \n",
              "3     1003   23        NaN       Москва      Белла   Белякова  2018-08-17   \n",
              "4     1004   68        NaN  Новокузнецк    Татьяна   Авдеенко  2018-05-14   \n",
              "\n",
              "  tariff  \n",
              "0  ultra  \n",
              "1  smart  \n",
              "2  smart  \n",
              "3  ultra  \n",
              "4  ultra  "
            ],
            "text/html": [
              "\n",
              "  <div id=\"df-1bf83df4-81e3-4d21-b50d-9196e60d39a2\">\n",
              "    <div class=\"colab-df-container\">\n",
              "      <div>\n",
              "<style scoped>\n",
              "    .dataframe tbody tr th:only-of-type {\n",
              "        vertical-align: middle;\n",
              "    }\n",
              "\n",
              "    .dataframe tbody tr th {\n",
              "        vertical-align: top;\n",
              "    }\n",
              "\n",
              "    .dataframe thead th {\n",
              "        text-align: right;\n",
              "    }\n",
              "</style>\n",
              "<table border=\"1\" class=\"dataframe\">\n",
              "  <thead>\n",
              "    <tr style=\"text-align: right;\">\n",
              "      <th></th>\n",
              "      <th>user_id</th>\n",
              "      <th>age</th>\n",
              "      <th>churn_date</th>\n",
              "      <th>city</th>\n",
              "      <th>first_name</th>\n",
              "      <th>last_name</th>\n",
              "      <th>reg_date</th>\n",
              "      <th>tariff</th>\n",
              "    </tr>\n",
              "  </thead>\n",
              "  <tbody>\n",
              "    <tr>\n",
              "      <th>0</th>\n",
              "      <td>1000</td>\n",
              "      <td>52</td>\n",
              "      <td>NaN</td>\n",
              "      <td>Краснодар</td>\n",
              "      <td>Рафаил</td>\n",
              "      <td>Верещагин</td>\n",
              "      <td>2018-05-25</td>\n",
              "      <td>ultra</td>\n",
              "    </tr>\n",
              "    <tr>\n",
              "      <th>1</th>\n",
              "      <td>1001</td>\n",
              "      <td>41</td>\n",
              "      <td>NaN</td>\n",
              "      <td>Москва</td>\n",
              "      <td>Иван</td>\n",
              "      <td>Ежов</td>\n",
              "      <td>2018-11-01</td>\n",
              "      <td>smart</td>\n",
              "    </tr>\n",
              "    <tr>\n",
              "      <th>2</th>\n",
              "      <td>1002</td>\n",
              "      <td>59</td>\n",
              "      <td>NaN</td>\n",
              "      <td>Стерлитамак</td>\n",
              "      <td>Евгений</td>\n",
              "      <td>Абрамович</td>\n",
              "      <td>2018-06-17</td>\n",
              "      <td>smart</td>\n",
              "    </tr>\n",
              "    <tr>\n",
              "      <th>3</th>\n",
              "      <td>1003</td>\n",
              "      <td>23</td>\n",
              "      <td>NaN</td>\n",
              "      <td>Москва</td>\n",
              "      <td>Белла</td>\n",
              "      <td>Белякова</td>\n",
              "      <td>2018-08-17</td>\n",
              "      <td>ultra</td>\n",
              "    </tr>\n",
              "    <tr>\n",
              "      <th>4</th>\n",
              "      <td>1004</td>\n",
              "      <td>68</td>\n",
              "      <td>NaN</td>\n",
              "      <td>Новокузнецк</td>\n",
              "      <td>Татьяна</td>\n",
              "      <td>Авдеенко</td>\n",
              "      <td>2018-05-14</td>\n",
              "      <td>ultra</td>\n",
              "    </tr>\n",
              "  </tbody>\n",
              "</table>\n",
              "</div>\n",
              "      <button class=\"colab-df-convert\" onclick=\"convertToInteractive('df-1bf83df4-81e3-4d21-b50d-9196e60d39a2')\"\n",
              "              title=\"Convert this dataframe to an interactive table.\"\n",
              "              style=\"display:none;\">\n",
              "        \n",
              "  <svg xmlns=\"http://www.w3.org/2000/svg\" height=\"24px\"viewBox=\"0 0 24 24\"\n",
              "       width=\"24px\">\n",
              "    <path d=\"M0 0h24v24H0V0z\" fill=\"none\"/>\n",
              "    <path d=\"M18.56 5.44l.94 2.06.94-2.06 2.06-.94-2.06-.94-.94-2.06-.94 2.06-2.06.94zm-11 1L8.5 8.5l.94-2.06 2.06-.94-2.06-.94L8.5 2.5l-.94 2.06-2.06.94zm10 10l.94 2.06.94-2.06 2.06-.94-2.06-.94-.94-2.06-.94 2.06-2.06.94z\"/><path d=\"M17.41 7.96l-1.37-1.37c-.4-.4-.92-.59-1.43-.59-.52 0-1.04.2-1.43.59L10.3 9.45l-7.72 7.72c-.78.78-.78 2.05 0 2.83L4 21.41c.39.39.9.59 1.41.59.51 0 1.02-.2 1.41-.59l7.78-7.78 2.81-2.81c.8-.78.8-2.07 0-2.86zM5.41 20L4 18.59l7.72-7.72 1.47 1.35L5.41 20z\"/>\n",
              "  </svg>\n",
              "      </button>\n",
              "      \n",
              "  <style>\n",
              "    .colab-df-container {\n",
              "      display:flex;\n",
              "      flex-wrap:wrap;\n",
              "      gap: 12px;\n",
              "    }\n",
              "\n",
              "    .colab-df-convert {\n",
              "      background-color: #E8F0FE;\n",
              "      border: none;\n",
              "      border-radius: 50%;\n",
              "      cursor: pointer;\n",
              "      display: none;\n",
              "      fill: #1967D2;\n",
              "      height: 32px;\n",
              "      padding: 0 0 0 0;\n",
              "      width: 32px;\n",
              "    }\n",
              "\n",
              "    .colab-df-convert:hover {\n",
              "      background-color: #E2EBFA;\n",
              "      box-shadow: 0px 1px 2px rgba(60, 64, 67, 0.3), 0px 1px 3px 1px rgba(60, 64, 67, 0.15);\n",
              "      fill: #174EA6;\n",
              "    }\n",
              "\n",
              "    [theme=dark] .colab-df-convert {\n",
              "      background-color: #3B4455;\n",
              "      fill: #D2E3FC;\n",
              "    }\n",
              "\n",
              "    [theme=dark] .colab-df-convert:hover {\n",
              "      background-color: #434B5C;\n",
              "      box-shadow: 0px 1px 3px 1px rgba(0, 0, 0, 0.15);\n",
              "      filter: drop-shadow(0px 1px 2px rgba(0, 0, 0, 0.3));\n",
              "      fill: #FFFFFF;\n",
              "    }\n",
              "  </style>\n",
              "\n",
              "      <script>\n",
              "        const buttonEl =\n",
              "          document.querySelector('#df-1bf83df4-81e3-4d21-b50d-9196e60d39a2 button.colab-df-convert');\n",
              "        buttonEl.style.display =\n",
              "          google.colab.kernel.accessAllowed ? 'block' : 'none';\n",
              "\n",
              "        async function convertToInteractive(key) {\n",
              "          const element = document.querySelector('#df-1bf83df4-81e3-4d21-b50d-9196e60d39a2');\n",
              "          const dataTable =\n",
              "            await google.colab.kernel.invokeFunction('convertToInteractive',\n",
              "                                                     [key], {});\n",
              "          if (!dataTable) return;\n",
              "\n",
              "          const docLinkHtml = 'Like what you see? Visit the ' +\n",
              "            '<a target=\"_blank\" href=https://colab.research.google.com/notebooks/data_table.ipynb>data table notebook</a>'\n",
              "            + ' to learn more about interactive tables.';\n",
              "          element.innerHTML = '';\n",
              "          dataTable['output_type'] = 'display_data';\n",
              "          await google.colab.output.renderOutput(dataTable, element);\n",
              "          const docLink = document.createElement('div');\n",
              "          docLink.innerHTML = docLinkHtml;\n",
              "          element.appendChild(docLink);\n",
              "        }\n",
              "      </script>\n",
              "    </div>\n",
              "  </div>\n",
              "  "
            ]
          },
          "metadata": {},
          "execution_count": 74
        }
      ],
      "source": [
        "users.head()"
      ]
    },
    {
      "cell_type": "code",
      "execution_count": 75,
      "metadata": {
        "deletable": false,
        "colab": {
          "base_uri": "https://localhost:8080/"
        },
        "id": "lix_f5KWeSeb",
        "outputId": "f077f00a-77da-4df8-d447-dd06d64ea8ea"
      },
      "outputs": [
        {
          "output_type": "stream",
          "name": "stdout",
          "text": [
            "<class 'pandas.core.frame.DataFrame'>\n",
            "RangeIndex: 500 entries, 0 to 499\n",
            "Data columns (total 8 columns):\n",
            " #   Column      Non-Null Count  Dtype \n",
            "---  ------      --------------  ----- \n",
            " 0   user_id     500 non-null    int64 \n",
            " 1   age         500 non-null    int64 \n",
            " 2   churn_date  38 non-null     object\n",
            " 3   city        500 non-null    object\n",
            " 4   first_name  500 non-null    object\n",
            " 5   last_name   500 non-null    object\n",
            " 6   reg_date    500 non-null    object\n",
            " 7   tariff      500 non-null    object\n",
            "dtypes: int64(2), object(6)\n",
            "memory usage: 31.4+ KB\n"
          ]
        }
      ],
      "source": [
        "users.info()"
      ]
    },
    {
      "cell_type": "markdown",
      "source": [
        "Описание данных\n",
        "* user_id — уникальный идентификатор пользователя\n",
        "* first_name — имя пользователя\n",
        "* last_name — фамилия пользователя\n",
        "* age — возраст пользователя (годы)\n",
        "* reg_date — дата подключения тарифа (день, месяц, год)\n",
        "* churn_date — дата прекращения пользования тарифом (если значение пропущено, значит, тариф ещё действовал на момент выгрузки данных)\n",
        "* city — город проживания пользователя\n",
        "* tarif — название тарифного плана"
      ],
      "metadata": {
        "id": "PlNfY31bDA5O"
      }
    },
    {
      "cell_type": "markdown",
      "source": [
        "**Вывод**: Загрузили 5 датасетов с данными. Пропуски в `churn_date` обусловлены нерасторгнутым договором, то есть абонент продолжает пользоваться услугами. Необходимо перевести дату в верный формат."
      ],
      "metadata": {
        "id": "KRgVqmXCrpHX"
      }
    },
    {
      "cell_type": "markdown",
      "metadata": {
        "deletable": false,
        "editable": false,
        "id": "Wq0yXxmfeSec"
      },
      "source": [
        "# Предобработка данных"
      ]
    },
    {
      "cell_type": "markdown",
      "metadata": {
        "deletable": false,
        "editable": false,
        "tags": [
          "start_task"
        ],
        "id": "BCbIFuXmeSec"
      },
      "source": [
        "Приведем столбцы с датой к правильному формату"
      ]
    },
    {
      "cell_type": "code",
      "execution_count": 76,
      "metadata": {
        "deletable": false,
        "id": "TJzBUyx6eSed"
      },
      "outputs": [],
      "source": [
        "users['reg_date'] = pd.to_datetime(users['reg_date'], format = '%Y-%m-%d')\n",
        "users['churn_date'] = pd.to_datetime(users['churn_date'], format = '%Y-%m-%d')\n",
        "calls['call_date'] = pd.to_datetime(calls['call_date'], format = '%Y-%m-%d')\n",
        "messages['message_date'] = pd.to_datetime(messages['message_date'], format = '%Y-%m-%d')\n",
        "sessions['session_date'] = pd.to_datetime(sessions['session_date'], format = '%Y-%m-%d')"
      ]
    },
    {
      "cell_type": "markdown",
      "metadata": {
        "deletable": false,
        "editable": false,
        "tags": [
          "start_task"
        ],
        "id": "HVDfT56xeSee"
      },
      "source": [
        "Дробные значения в столбце длительности звонков округлим к большему, и приведем к типу `int`"
      ]
    },
    {
      "cell_type": "code",
      "execution_count": 77,
      "metadata": {
        "deletable": false,
        "id": "uyzhXpLDeSee"
      },
      "outputs": [],
      "source": [
        "calls['duration'] = np.ceil(calls['duration']).astype('int')"
      ]
    },
    {
      "cell_type": "markdown",
      "metadata": {
        "deletable": false,
        "editable": false,
        "tags": [
          "start_task"
        ],
        "id": "RrYqZYUbeSef"
      },
      "source": [
        "Удалим столбец `Unnamed: 0` из датафрейма `sessions`"
      ]
    },
    {
      "cell_type": "code",
      "execution_count": 78,
      "metadata": {
        "deletable": false,
        "id": "iFa-cJRYeSef"
      },
      "outputs": [],
      "source": [
        "sessions = sessions.drop(columns='Unnamed: 0')"
      ]
    },
    {
      "cell_type": "markdown",
      "metadata": {
        "deletable": false,
        "editable": false,
        "tags": [
          "start_task"
        ],
        "id": "EKuiwLMPeSef"
      },
      "source": [
        "Создадим новые столбцы с месяцем в датафреймах со звонками, сообщениями и интернетом"
      ]
    },
    {
      "cell_type": "code",
      "execution_count": 79,
      "metadata": {
        "deletable": false,
        "id": "m3COSpVReSeg"
      },
      "outputs": [],
      "source": [
        "calls['month'] = pd.DatetimeIndex(calls['call_date']).month\n",
        "messages['month'] = pd.DatetimeIndex(messages['message_date']).month\n",
        "sessions['month'] = pd.DatetimeIndex(sessions['session_date']).month"
      ]
    },
    {
      "cell_type": "markdown",
      "metadata": {
        "deletable": false,
        "editable": false,
        "tags": [
          "start_task"
        ],
        "id": "pk1xOQp5eSei"
      },
      "source": [
        "Посчитаем количество сделанных звонков разговора для каждого пользователя по месяцам"
      ]
    },
    {
      "cell_type": "code",
      "execution_count": 80,
      "metadata": {
        "deletable": false,
        "colab": {
          "base_uri": "https://localhost:8080/",
          "height": 551
        },
        "id": "KCvv9jcleSei",
        "outputId": "dc16d5a0-8de9-4ed8-afc4-2ec15f6cbe6f"
      },
      "outputs": [
        {
          "output_type": "execute_result",
          "data": {
            "text/plain": [
              "               calls\n",
              "user_id month       \n",
              "1000    5         22\n",
              "        6         43\n",
              "        7         47\n",
              "        8         52\n",
              "        9         58\n",
              "        10        57\n",
              "        11        43\n",
              "        12        46\n",
              "1001    11        59\n",
              "        12        63\n",
              "1002    6         15\n",
              "        7         26\n",
              "        8         42\n",
              "        9         36\n",
              "        10        33"
            ],
            "text/html": [
              "\n",
              "  <div id=\"df-65785884-ebea-4bdf-9170-dbc7852de6f0\">\n",
              "    <div class=\"colab-df-container\">\n",
              "      <div>\n",
              "<style scoped>\n",
              "    .dataframe tbody tr th:only-of-type {\n",
              "        vertical-align: middle;\n",
              "    }\n",
              "\n",
              "    .dataframe tbody tr th {\n",
              "        vertical-align: top;\n",
              "    }\n",
              "\n",
              "    .dataframe thead th {\n",
              "        text-align: right;\n",
              "    }\n",
              "</style>\n",
              "<table border=\"1\" class=\"dataframe\">\n",
              "  <thead>\n",
              "    <tr style=\"text-align: right;\">\n",
              "      <th></th>\n",
              "      <th></th>\n",
              "      <th>calls</th>\n",
              "    </tr>\n",
              "    <tr>\n",
              "      <th>user_id</th>\n",
              "      <th>month</th>\n",
              "      <th></th>\n",
              "    </tr>\n",
              "  </thead>\n",
              "  <tbody>\n",
              "    <tr>\n",
              "      <th rowspan=\"8\" valign=\"top\">1000</th>\n",
              "      <th>5</th>\n",
              "      <td>22</td>\n",
              "    </tr>\n",
              "    <tr>\n",
              "      <th>6</th>\n",
              "      <td>43</td>\n",
              "    </tr>\n",
              "    <tr>\n",
              "      <th>7</th>\n",
              "      <td>47</td>\n",
              "    </tr>\n",
              "    <tr>\n",
              "      <th>8</th>\n",
              "      <td>52</td>\n",
              "    </tr>\n",
              "    <tr>\n",
              "      <th>9</th>\n",
              "      <td>58</td>\n",
              "    </tr>\n",
              "    <tr>\n",
              "      <th>10</th>\n",
              "      <td>57</td>\n",
              "    </tr>\n",
              "    <tr>\n",
              "      <th>11</th>\n",
              "      <td>43</td>\n",
              "    </tr>\n",
              "    <tr>\n",
              "      <th>12</th>\n",
              "      <td>46</td>\n",
              "    </tr>\n",
              "    <tr>\n",
              "      <th rowspan=\"2\" valign=\"top\">1001</th>\n",
              "      <th>11</th>\n",
              "      <td>59</td>\n",
              "    </tr>\n",
              "    <tr>\n",
              "      <th>12</th>\n",
              "      <td>63</td>\n",
              "    </tr>\n",
              "    <tr>\n",
              "      <th rowspan=\"5\" valign=\"top\">1002</th>\n",
              "      <th>6</th>\n",
              "      <td>15</td>\n",
              "    </tr>\n",
              "    <tr>\n",
              "      <th>7</th>\n",
              "      <td>26</td>\n",
              "    </tr>\n",
              "    <tr>\n",
              "      <th>8</th>\n",
              "      <td>42</td>\n",
              "    </tr>\n",
              "    <tr>\n",
              "      <th>9</th>\n",
              "      <td>36</td>\n",
              "    </tr>\n",
              "    <tr>\n",
              "      <th>10</th>\n",
              "      <td>33</td>\n",
              "    </tr>\n",
              "  </tbody>\n",
              "</table>\n",
              "</div>\n",
              "      <button class=\"colab-df-convert\" onclick=\"convertToInteractive('df-65785884-ebea-4bdf-9170-dbc7852de6f0')\"\n",
              "              title=\"Convert this dataframe to an interactive table.\"\n",
              "              style=\"display:none;\">\n",
              "        \n",
              "  <svg xmlns=\"http://www.w3.org/2000/svg\" height=\"24px\"viewBox=\"0 0 24 24\"\n",
              "       width=\"24px\">\n",
              "    <path d=\"M0 0h24v24H0V0z\" fill=\"none\"/>\n",
              "    <path d=\"M18.56 5.44l.94 2.06.94-2.06 2.06-.94-2.06-.94-.94-2.06-.94 2.06-2.06.94zm-11 1L8.5 8.5l.94-2.06 2.06-.94-2.06-.94L8.5 2.5l-.94 2.06-2.06.94zm10 10l.94 2.06.94-2.06 2.06-.94-2.06-.94-.94-2.06-.94 2.06-2.06.94z\"/><path d=\"M17.41 7.96l-1.37-1.37c-.4-.4-.92-.59-1.43-.59-.52 0-1.04.2-1.43.59L10.3 9.45l-7.72 7.72c-.78.78-.78 2.05 0 2.83L4 21.41c.39.39.9.59 1.41.59.51 0 1.02-.2 1.41-.59l7.78-7.78 2.81-2.81c.8-.78.8-2.07 0-2.86zM5.41 20L4 18.59l7.72-7.72 1.47 1.35L5.41 20z\"/>\n",
              "  </svg>\n",
              "      </button>\n",
              "      \n",
              "  <style>\n",
              "    .colab-df-container {\n",
              "      display:flex;\n",
              "      flex-wrap:wrap;\n",
              "      gap: 12px;\n",
              "    }\n",
              "\n",
              "    .colab-df-convert {\n",
              "      background-color: #E8F0FE;\n",
              "      border: none;\n",
              "      border-radius: 50%;\n",
              "      cursor: pointer;\n",
              "      display: none;\n",
              "      fill: #1967D2;\n",
              "      height: 32px;\n",
              "      padding: 0 0 0 0;\n",
              "      width: 32px;\n",
              "    }\n",
              "\n",
              "    .colab-df-convert:hover {\n",
              "      background-color: #E2EBFA;\n",
              "      box-shadow: 0px 1px 2px rgba(60, 64, 67, 0.3), 0px 1px 3px 1px rgba(60, 64, 67, 0.15);\n",
              "      fill: #174EA6;\n",
              "    }\n",
              "\n",
              "    [theme=dark] .colab-df-convert {\n",
              "      background-color: #3B4455;\n",
              "      fill: #D2E3FC;\n",
              "    }\n",
              "\n",
              "    [theme=dark] .colab-df-convert:hover {\n",
              "      background-color: #434B5C;\n",
              "      box-shadow: 0px 1px 3px 1px rgba(0, 0, 0, 0.15);\n",
              "      filter: drop-shadow(0px 1px 2px rgba(0, 0, 0, 0.3));\n",
              "      fill: #FFFFFF;\n",
              "    }\n",
              "  </style>\n",
              "\n",
              "      <script>\n",
              "        const buttonEl =\n",
              "          document.querySelector('#df-65785884-ebea-4bdf-9170-dbc7852de6f0 button.colab-df-convert');\n",
              "        buttonEl.style.display =\n",
              "          google.colab.kernel.accessAllowed ? 'block' : 'none';\n",
              "\n",
              "        async function convertToInteractive(key) {\n",
              "          const element = document.querySelector('#df-65785884-ebea-4bdf-9170-dbc7852de6f0');\n",
              "          const dataTable =\n",
              "            await google.colab.kernel.invokeFunction('convertToInteractive',\n",
              "                                                     [key], {});\n",
              "          if (!dataTable) return;\n",
              "\n",
              "          const docLinkHtml = 'Like what you see? Visit the ' +\n",
              "            '<a target=\"_blank\" href=https://colab.research.google.com/notebooks/data_table.ipynb>data table notebook</a>'\n",
              "            + ' to learn more about interactive tables.';\n",
              "          element.innerHTML = '';\n",
              "          dataTable['output_type'] = 'display_data';\n",
              "          await google.colab.output.renderOutput(dataTable, element);\n",
              "          const docLink = document.createElement('div');\n",
              "          docLink.innerHTML = docLinkHtml;\n",
              "          element.appendChild(docLink);\n",
              "        }\n",
              "      </script>\n",
              "    </div>\n",
              "  </div>\n",
              "  "
            ]
          },
          "metadata": {},
          "execution_count": 80
        }
      ],
      "source": [
        "calls_per_month = calls.groupby(['user_id','month']).agg(calls=('duration', 'count'))\n",
        "calls_per_month.head(15)"
      ]
    },
    {
      "cell_type": "markdown",
      "metadata": {
        "deletable": false,
        "editable": false,
        "tags": [
          "start_task"
        ],
        "id": "sMNpEcD0eSej"
      },
      "source": [
        "Посчитаем количество израсходованных минут разговора для каждого пользователя по месяцам"
      ]
    },
    {
      "cell_type": "code",
      "execution_count": 81,
      "metadata": {
        "deletable": false,
        "colab": {
          "base_uri": "https://localhost:8080/",
          "height": 551
        },
        "id": "A3cQx37ZeSek",
        "outputId": "572c2d69-ef17-4d18-bbed-72315e04d3a3"
      },
      "outputs": [
        {
          "output_type": "execute_result",
          "data": {
            "text/plain": [
              "               minutes\n",
              "user_id month         \n",
              "1000    5          159\n",
              "        6          172\n",
              "        7          340\n",
              "        8          408\n",
              "        9          466\n",
              "        10         350\n",
              "        11         338\n",
              "        12         333\n",
              "1001    11         430\n",
              "        12         414\n",
              "1002    6          117\n",
              "        7          214\n",
              "        8          289\n",
              "        9          206\n",
              "        10         212"
            ],
            "text/html": [
              "\n",
              "  <div id=\"df-c45a42ff-0dc1-4d82-b012-ba79dacd2a06\">\n",
              "    <div class=\"colab-df-container\">\n",
              "      <div>\n",
              "<style scoped>\n",
              "    .dataframe tbody tr th:only-of-type {\n",
              "        vertical-align: middle;\n",
              "    }\n",
              "\n",
              "    .dataframe tbody tr th {\n",
              "        vertical-align: top;\n",
              "    }\n",
              "\n",
              "    .dataframe thead th {\n",
              "        text-align: right;\n",
              "    }\n",
              "</style>\n",
              "<table border=\"1\" class=\"dataframe\">\n",
              "  <thead>\n",
              "    <tr style=\"text-align: right;\">\n",
              "      <th></th>\n",
              "      <th></th>\n",
              "      <th>minutes</th>\n",
              "    </tr>\n",
              "    <tr>\n",
              "      <th>user_id</th>\n",
              "      <th>month</th>\n",
              "      <th></th>\n",
              "    </tr>\n",
              "  </thead>\n",
              "  <tbody>\n",
              "    <tr>\n",
              "      <th rowspan=\"8\" valign=\"top\">1000</th>\n",
              "      <th>5</th>\n",
              "      <td>159</td>\n",
              "    </tr>\n",
              "    <tr>\n",
              "      <th>6</th>\n",
              "      <td>172</td>\n",
              "    </tr>\n",
              "    <tr>\n",
              "      <th>7</th>\n",
              "      <td>340</td>\n",
              "    </tr>\n",
              "    <tr>\n",
              "      <th>8</th>\n",
              "      <td>408</td>\n",
              "    </tr>\n",
              "    <tr>\n",
              "      <th>9</th>\n",
              "      <td>466</td>\n",
              "    </tr>\n",
              "    <tr>\n",
              "      <th>10</th>\n",
              "      <td>350</td>\n",
              "    </tr>\n",
              "    <tr>\n",
              "      <th>11</th>\n",
              "      <td>338</td>\n",
              "    </tr>\n",
              "    <tr>\n",
              "      <th>12</th>\n",
              "      <td>333</td>\n",
              "    </tr>\n",
              "    <tr>\n",
              "      <th rowspan=\"2\" valign=\"top\">1001</th>\n",
              "      <th>11</th>\n",
              "      <td>430</td>\n",
              "    </tr>\n",
              "    <tr>\n",
              "      <th>12</th>\n",
              "      <td>414</td>\n",
              "    </tr>\n",
              "    <tr>\n",
              "      <th rowspan=\"5\" valign=\"top\">1002</th>\n",
              "      <th>6</th>\n",
              "      <td>117</td>\n",
              "    </tr>\n",
              "    <tr>\n",
              "      <th>7</th>\n",
              "      <td>214</td>\n",
              "    </tr>\n",
              "    <tr>\n",
              "      <th>8</th>\n",
              "      <td>289</td>\n",
              "    </tr>\n",
              "    <tr>\n",
              "      <th>9</th>\n",
              "      <td>206</td>\n",
              "    </tr>\n",
              "    <tr>\n",
              "      <th>10</th>\n",
              "      <td>212</td>\n",
              "    </tr>\n",
              "  </tbody>\n",
              "</table>\n",
              "</div>\n",
              "      <button class=\"colab-df-convert\" onclick=\"convertToInteractive('df-c45a42ff-0dc1-4d82-b012-ba79dacd2a06')\"\n",
              "              title=\"Convert this dataframe to an interactive table.\"\n",
              "              style=\"display:none;\">\n",
              "        \n",
              "  <svg xmlns=\"http://www.w3.org/2000/svg\" height=\"24px\"viewBox=\"0 0 24 24\"\n",
              "       width=\"24px\">\n",
              "    <path d=\"M0 0h24v24H0V0z\" fill=\"none\"/>\n",
              "    <path d=\"M18.56 5.44l.94 2.06.94-2.06 2.06-.94-2.06-.94-.94-2.06-.94 2.06-2.06.94zm-11 1L8.5 8.5l.94-2.06 2.06-.94-2.06-.94L8.5 2.5l-.94 2.06-2.06.94zm10 10l.94 2.06.94-2.06 2.06-.94-2.06-.94-.94-2.06-.94 2.06-2.06.94z\"/><path d=\"M17.41 7.96l-1.37-1.37c-.4-.4-.92-.59-1.43-.59-.52 0-1.04.2-1.43.59L10.3 9.45l-7.72 7.72c-.78.78-.78 2.05 0 2.83L4 21.41c.39.39.9.59 1.41.59.51 0 1.02-.2 1.41-.59l7.78-7.78 2.81-2.81c.8-.78.8-2.07 0-2.86zM5.41 20L4 18.59l7.72-7.72 1.47 1.35L5.41 20z\"/>\n",
              "  </svg>\n",
              "      </button>\n",
              "      \n",
              "  <style>\n",
              "    .colab-df-container {\n",
              "      display:flex;\n",
              "      flex-wrap:wrap;\n",
              "      gap: 12px;\n",
              "    }\n",
              "\n",
              "    .colab-df-convert {\n",
              "      background-color: #E8F0FE;\n",
              "      border: none;\n",
              "      border-radius: 50%;\n",
              "      cursor: pointer;\n",
              "      display: none;\n",
              "      fill: #1967D2;\n",
              "      height: 32px;\n",
              "      padding: 0 0 0 0;\n",
              "      width: 32px;\n",
              "    }\n",
              "\n",
              "    .colab-df-convert:hover {\n",
              "      background-color: #E2EBFA;\n",
              "      box-shadow: 0px 1px 2px rgba(60, 64, 67, 0.3), 0px 1px 3px 1px rgba(60, 64, 67, 0.15);\n",
              "      fill: #174EA6;\n",
              "    }\n",
              "\n",
              "    [theme=dark] .colab-df-convert {\n",
              "      background-color: #3B4455;\n",
              "      fill: #D2E3FC;\n",
              "    }\n",
              "\n",
              "    [theme=dark] .colab-df-convert:hover {\n",
              "      background-color: #434B5C;\n",
              "      box-shadow: 0px 1px 3px 1px rgba(0, 0, 0, 0.15);\n",
              "      filter: drop-shadow(0px 1px 2px rgba(0, 0, 0, 0.3));\n",
              "      fill: #FFFFFF;\n",
              "    }\n",
              "  </style>\n",
              "\n",
              "      <script>\n",
              "        const buttonEl =\n",
              "          document.querySelector('#df-c45a42ff-0dc1-4d82-b012-ba79dacd2a06 button.colab-df-convert');\n",
              "        buttonEl.style.display =\n",
              "          google.colab.kernel.accessAllowed ? 'block' : 'none';\n",
              "\n",
              "        async function convertToInteractive(key) {\n",
              "          const element = document.querySelector('#df-c45a42ff-0dc1-4d82-b012-ba79dacd2a06');\n",
              "          const dataTable =\n",
              "            await google.colab.kernel.invokeFunction('convertToInteractive',\n",
              "                                                     [key], {});\n",
              "          if (!dataTable) return;\n",
              "\n",
              "          const docLinkHtml = 'Like what you see? Visit the ' +\n",
              "            '<a target=\"_blank\" href=https://colab.research.google.com/notebooks/data_table.ipynb>data table notebook</a>'\n",
              "            + ' to learn more about interactive tables.';\n",
              "          element.innerHTML = '';\n",
              "          dataTable['output_type'] = 'display_data';\n",
              "          await google.colab.output.renderOutput(dataTable, element);\n",
              "          const docLink = document.createElement('div');\n",
              "          docLink.innerHTML = docLinkHtml;\n",
              "          element.appendChild(docLink);\n",
              "        }\n",
              "      </script>\n",
              "    </div>\n",
              "  </div>\n",
              "  "
            ]
          },
          "metadata": {},
          "execution_count": 81
        }
      ],
      "source": [
        "minutes_per_month = calls.groupby(['user_id', 'month']).agg(minutes=('duration', 'sum'))\n",
        "minutes_per_month.head(15)"
      ]
    },
    {
      "cell_type": "markdown",
      "metadata": {
        "deletable": false,
        "editable": false,
        "tags": [
          "start_task"
        ],
        "id": "LxIOhy-TeSek"
      },
      "source": [
        "Посчитаем количество отправленных сообщений по месяцам для каждого пользователя "
      ]
    },
    {
      "cell_type": "code",
      "execution_count": 82,
      "metadata": {
        "deletable": false,
        "colab": {
          "base_uri": "https://localhost:8080/",
          "height": 551
        },
        "id": "QYyPuyMseSel",
        "outputId": "15b5f785-a4fd-4eac-aa7c-d33be8dd8d5a"
      },
      "outputs": [
        {
          "output_type": "execute_result",
          "data": {
            "text/plain": [
              "               messages\n",
              "user_id month          \n",
              "1000    5            22\n",
              "        6            60\n",
              "        7            75\n",
              "        8            81\n",
              "        9            57\n",
              "        10           73\n",
              "        11           58\n",
              "        12           70\n",
              "1002    6             4\n",
              "        7            11\n",
              "        8            13\n",
              "        9             4\n",
              "        10           10\n",
              "        11           16\n",
              "        12           12"
            ],
            "text/html": [
              "\n",
              "  <div id=\"df-ae8927e9-231d-4d8f-977f-4b38119a1012\">\n",
              "    <div class=\"colab-df-container\">\n",
              "      <div>\n",
              "<style scoped>\n",
              "    .dataframe tbody tr th:only-of-type {\n",
              "        vertical-align: middle;\n",
              "    }\n",
              "\n",
              "    .dataframe tbody tr th {\n",
              "        vertical-align: top;\n",
              "    }\n",
              "\n",
              "    .dataframe thead th {\n",
              "        text-align: right;\n",
              "    }\n",
              "</style>\n",
              "<table border=\"1\" class=\"dataframe\">\n",
              "  <thead>\n",
              "    <tr style=\"text-align: right;\">\n",
              "      <th></th>\n",
              "      <th></th>\n",
              "      <th>messages</th>\n",
              "    </tr>\n",
              "    <tr>\n",
              "      <th>user_id</th>\n",
              "      <th>month</th>\n",
              "      <th></th>\n",
              "    </tr>\n",
              "  </thead>\n",
              "  <tbody>\n",
              "    <tr>\n",
              "      <th rowspan=\"8\" valign=\"top\">1000</th>\n",
              "      <th>5</th>\n",
              "      <td>22</td>\n",
              "    </tr>\n",
              "    <tr>\n",
              "      <th>6</th>\n",
              "      <td>60</td>\n",
              "    </tr>\n",
              "    <tr>\n",
              "      <th>7</th>\n",
              "      <td>75</td>\n",
              "    </tr>\n",
              "    <tr>\n",
              "      <th>8</th>\n",
              "      <td>81</td>\n",
              "    </tr>\n",
              "    <tr>\n",
              "      <th>9</th>\n",
              "      <td>57</td>\n",
              "    </tr>\n",
              "    <tr>\n",
              "      <th>10</th>\n",
              "      <td>73</td>\n",
              "    </tr>\n",
              "    <tr>\n",
              "      <th>11</th>\n",
              "      <td>58</td>\n",
              "    </tr>\n",
              "    <tr>\n",
              "      <th>12</th>\n",
              "      <td>70</td>\n",
              "    </tr>\n",
              "    <tr>\n",
              "      <th rowspan=\"7\" valign=\"top\">1002</th>\n",
              "      <th>6</th>\n",
              "      <td>4</td>\n",
              "    </tr>\n",
              "    <tr>\n",
              "      <th>7</th>\n",
              "      <td>11</td>\n",
              "    </tr>\n",
              "    <tr>\n",
              "      <th>8</th>\n",
              "      <td>13</td>\n",
              "    </tr>\n",
              "    <tr>\n",
              "      <th>9</th>\n",
              "      <td>4</td>\n",
              "    </tr>\n",
              "    <tr>\n",
              "      <th>10</th>\n",
              "      <td>10</td>\n",
              "    </tr>\n",
              "    <tr>\n",
              "      <th>11</th>\n",
              "      <td>16</td>\n",
              "    </tr>\n",
              "    <tr>\n",
              "      <th>12</th>\n",
              "      <td>12</td>\n",
              "    </tr>\n",
              "  </tbody>\n",
              "</table>\n",
              "</div>\n",
              "      <button class=\"colab-df-convert\" onclick=\"convertToInteractive('df-ae8927e9-231d-4d8f-977f-4b38119a1012')\"\n",
              "              title=\"Convert this dataframe to an interactive table.\"\n",
              "              style=\"display:none;\">\n",
              "        \n",
              "  <svg xmlns=\"http://www.w3.org/2000/svg\" height=\"24px\"viewBox=\"0 0 24 24\"\n",
              "       width=\"24px\">\n",
              "    <path d=\"M0 0h24v24H0V0z\" fill=\"none\"/>\n",
              "    <path d=\"M18.56 5.44l.94 2.06.94-2.06 2.06-.94-2.06-.94-.94-2.06-.94 2.06-2.06.94zm-11 1L8.5 8.5l.94-2.06 2.06-.94-2.06-.94L8.5 2.5l-.94 2.06-2.06.94zm10 10l.94 2.06.94-2.06 2.06-.94-2.06-.94-.94-2.06-.94 2.06-2.06.94z\"/><path d=\"M17.41 7.96l-1.37-1.37c-.4-.4-.92-.59-1.43-.59-.52 0-1.04.2-1.43.59L10.3 9.45l-7.72 7.72c-.78.78-.78 2.05 0 2.83L4 21.41c.39.39.9.59 1.41.59.51 0 1.02-.2 1.41-.59l7.78-7.78 2.81-2.81c.8-.78.8-2.07 0-2.86zM5.41 20L4 18.59l7.72-7.72 1.47 1.35L5.41 20z\"/>\n",
              "  </svg>\n",
              "      </button>\n",
              "      \n",
              "  <style>\n",
              "    .colab-df-container {\n",
              "      display:flex;\n",
              "      flex-wrap:wrap;\n",
              "      gap: 12px;\n",
              "    }\n",
              "\n",
              "    .colab-df-convert {\n",
              "      background-color: #E8F0FE;\n",
              "      border: none;\n",
              "      border-radius: 50%;\n",
              "      cursor: pointer;\n",
              "      display: none;\n",
              "      fill: #1967D2;\n",
              "      height: 32px;\n",
              "      padding: 0 0 0 0;\n",
              "      width: 32px;\n",
              "    }\n",
              "\n",
              "    .colab-df-convert:hover {\n",
              "      background-color: #E2EBFA;\n",
              "      box-shadow: 0px 1px 2px rgba(60, 64, 67, 0.3), 0px 1px 3px 1px rgba(60, 64, 67, 0.15);\n",
              "      fill: #174EA6;\n",
              "    }\n",
              "\n",
              "    [theme=dark] .colab-df-convert {\n",
              "      background-color: #3B4455;\n",
              "      fill: #D2E3FC;\n",
              "    }\n",
              "\n",
              "    [theme=dark] .colab-df-convert:hover {\n",
              "      background-color: #434B5C;\n",
              "      box-shadow: 0px 1px 3px 1px rgba(0, 0, 0, 0.15);\n",
              "      filter: drop-shadow(0px 1px 2px rgba(0, 0, 0, 0.3));\n",
              "      fill: #FFFFFF;\n",
              "    }\n",
              "  </style>\n",
              "\n",
              "      <script>\n",
              "        const buttonEl =\n",
              "          document.querySelector('#df-ae8927e9-231d-4d8f-977f-4b38119a1012 button.colab-df-convert');\n",
              "        buttonEl.style.display =\n",
              "          google.colab.kernel.accessAllowed ? 'block' : 'none';\n",
              "\n",
              "        async function convertToInteractive(key) {\n",
              "          const element = document.querySelector('#df-ae8927e9-231d-4d8f-977f-4b38119a1012');\n",
              "          const dataTable =\n",
              "            await google.colab.kernel.invokeFunction('convertToInteractive',\n",
              "                                                     [key], {});\n",
              "          if (!dataTable) return;\n",
              "\n",
              "          const docLinkHtml = 'Like what you see? Visit the ' +\n",
              "            '<a target=\"_blank\" href=https://colab.research.google.com/notebooks/data_table.ipynb>data table notebook</a>'\n",
              "            + ' to learn more about interactive tables.';\n",
              "          element.innerHTML = '';\n",
              "          dataTable['output_type'] = 'display_data';\n",
              "          await google.colab.output.renderOutput(dataTable, element);\n",
              "          const docLink = document.createElement('div');\n",
              "          docLink.innerHTML = docLinkHtml;\n",
              "          element.appendChild(docLink);\n",
              "        }\n",
              "      </script>\n",
              "    </div>\n",
              "  </div>\n",
              "  "
            ]
          },
          "metadata": {},
          "execution_count": 82
        }
      ],
      "source": [
        "messages_per_month = messages.groupby(['user_id', 'month']).agg(messages=('message_date', 'count'))\n",
        "messages_per_month.head(15)"
      ]
    },
    {
      "cell_type": "markdown",
      "metadata": {
        "deletable": false,
        "editable": false,
        "tags": [
          "start_task"
        ],
        "id": "1K3WFi7BeSem"
      },
      "source": [
        "Посчитаем количество потраченных мегабайт по месяцам для каждого пользователя"
      ]
    },
    {
      "cell_type": "code",
      "execution_count": 83,
      "metadata": {
        "deletable": false,
        "colab": {
          "base_uri": "https://localhost:8080/",
          "height": 551
        },
        "id": "UdZfYfDxeSem",
        "outputId": "154f8d20-44cc-444e-e973-88373303f6bc"
      },
      "outputs": [
        {
          "output_type": "execute_result",
          "data": {
            "text/plain": [
              "                mb_used\n",
              "user_id month          \n",
              "1000    5       2253.49\n",
              "        6      23233.77\n",
              "        7      14003.64\n",
              "        8      14055.93\n",
              "        9      14568.91\n",
              "        10     14702.49\n",
              "        11     14756.47\n",
              "        12      9817.61\n",
              "1001    11     18429.34\n",
              "        12     14036.66\n",
              "1002    6      10856.82\n",
              "        7      17580.10\n",
              "        8      20319.26\n",
              "        9      16691.08\n",
              "        10     13888.25"
            ],
            "text/html": [
              "\n",
              "  <div id=\"df-0047cc1b-1c11-43db-b2fc-7807d7fba9f5\">\n",
              "    <div class=\"colab-df-container\">\n",
              "      <div>\n",
              "<style scoped>\n",
              "    .dataframe tbody tr th:only-of-type {\n",
              "        vertical-align: middle;\n",
              "    }\n",
              "\n",
              "    .dataframe tbody tr th {\n",
              "        vertical-align: top;\n",
              "    }\n",
              "\n",
              "    .dataframe thead th {\n",
              "        text-align: right;\n",
              "    }\n",
              "</style>\n",
              "<table border=\"1\" class=\"dataframe\">\n",
              "  <thead>\n",
              "    <tr style=\"text-align: right;\">\n",
              "      <th></th>\n",
              "      <th></th>\n",
              "      <th>mb_used</th>\n",
              "    </tr>\n",
              "    <tr>\n",
              "      <th>user_id</th>\n",
              "      <th>month</th>\n",
              "      <th></th>\n",
              "    </tr>\n",
              "  </thead>\n",
              "  <tbody>\n",
              "    <tr>\n",
              "      <th rowspan=\"8\" valign=\"top\">1000</th>\n",
              "      <th>5</th>\n",
              "      <td>2253.49</td>\n",
              "    </tr>\n",
              "    <tr>\n",
              "      <th>6</th>\n",
              "      <td>23233.77</td>\n",
              "    </tr>\n",
              "    <tr>\n",
              "      <th>7</th>\n",
              "      <td>14003.64</td>\n",
              "    </tr>\n",
              "    <tr>\n",
              "      <th>8</th>\n",
              "      <td>14055.93</td>\n",
              "    </tr>\n",
              "    <tr>\n",
              "      <th>9</th>\n",
              "      <td>14568.91</td>\n",
              "    </tr>\n",
              "    <tr>\n",
              "      <th>10</th>\n",
              "      <td>14702.49</td>\n",
              "    </tr>\n",
              "    <tr>\n",
              "      <th>11</th>\n",
              "      <td>14756.47</td>\n",
              "    </tr>\n",
              "    <tr>\n",
              "      <th>12</th>\n",
              "      <td>9817.61</td>\n",
              "    </tr>\n",
              "    <tr>\n",
              "      <th rowspan=\"2\" valign=\"top\">1001</th>\n",
              "      <th>11</th>\n",
              "      <td>18429.34</td>\n",
              "    </tr>\n",
              "    <tr>\n",
              "      <th>12</th>\n",
              "      <td>14036.66</td>\n",
              "    </tr>\n",
              "    <tr>\n",
              "      <th rowspan=\"5\" valign=\"top\">1002</th>\n",
              "      <th>6</th>\n",
              "      <td>10856.82</td>\n",
              "    </tr>\n",
              "    <tr>\n",
              "      <th>7</th>\n",
              "      <td>17580.10</td>\n",
              "    </tr>\n",
              "    <tr>\n",
              "      <th>8</th>\n",
              "      <td>20319.26</td>\n",
              "    </tr>\n",
              "    <tr>\n",
              "      <th>9</th>\n",
              "      <td>16691.08</td>\n",
              "    </tr>\n",
              "    <tr>\n",
              "      <th>10</th>\n",
              "      <td>13888.25</td>\n",
              "    </tr>\n",
              "  </tbody>\n",
              "</table>\n",
              "</div>\n",
              "      <button class=\"colab-df-convert\" onclick=\"convertToInteractive('df-0047cc1b-1c11-43db-b2fc-7807d7fba9f5')\"\n",
              "              title=\"Convert this dataframe to an interactive table.\"\n",
              "              style=\"display:none;\">\n",
              "        \n",
              "  <svg xmlns=\"http://www.w3.org/2000/svg\" height=\"24px\"viewBox=\"0 0 24 24\"\n",
              "       width=\"24px\">\n",
              "    <path d=\"M0 0h24v24H0V0z\" fill=\"none\"/>\n",
              "    <path d=\"M18.56 5.44l.94 2.06.94-2.06 2.06-.94-2.06-.94-.94-2.06-.94 2.06-2.06.94zm-11 1L8.5 8.5l.94-2.06 2.06-.94-2.06-.94L8.5 2.5l-.94 2.06-2.06.94zm10 10l.94 2.06.94-2.06 2.06-.94-2.06-.94-.94-2.06-.94 2.06-2.06.94z\"/><path d=\"M17.41 7.96l-1.37-1.37c-.4-.4-.92-.59-1.43-.59-.52 0-1.04.2-1.43.59L10.3 9.45l-7.72 7.72c-.78.78-.78 2.05 0 2.83L4 21.41c.39.39.9.59 1.41.59.51 0 1.02-.2 1.41-.59l7.78-7.78 2.81-2.81c.8-.78.8-2.07 0-2.86zM5.41 20L4 18.59l7.72-7.72 1.47 1.35L5.41 20z\"/>\n",
              "  </svg>\n",
              "      </button>\n",
              "      \n",
              "  <style>\n",
              "    .colab-df-container {\n",
              "      display:flex;\n",
              "      flex-wrap:wrap;\n",
              "      gap: 12px;\n",
              "    }\n",
              "\n",
              "    .colab-df-convert {\n",
              "      background-color: #E8F0FE;\n",
              "      border: none;\n",
              "      border-radius: 50%;\n",
              "      cursor: pointer;\n",
              "      display: none;\n",
              "      fill: #1967D2;\n",
              "      height: 32px;\n",
              "      padding: 0 0 0 0;\n",
              "      width: 32px;\n",
              "    }\n",
              "\n",
              "    .colab-df-convert:hover {\n",
              "      background-color: #E2EBFA;\n",
              "      box-shadow: 0px 1px 2px rgba(60, 64, 67, 0.3), 0px 1px 3px 1px rgba(60, 64, 67, 0.15);\n",
              "      fill: #174EA6;\n",
              "    }\n",
              "\n",
              "    [theme=dark] .colab-df-convert {\n",
              "      background-color: #3B4455;\n",
              "      fill: #D2E3FC;\n",
              "    }\n",
              "\n",
              "    [theme=dark] .colab-df-convert:hover {\n",
              "      background-color: #434B5C;\n",
              "      box-shadow: 0px 1px 3px 1px rgba(0, 0, 0, 0.15);\n",
              "      filter: drop-shadow(0px 1px 2px rgba(0, 0, 0, 0.3));\n",
              "      fill: #FFFFFF;\n",
              "    }\n",
              "  </style>\n",
              "\n",
              "      <script>\n",
              "        const buttonEl =\n",
              "          document.querySelector('#df-0047cc1b-1c11-43db-b2fc-7807d7fba9f5 button.colab-df-convert');\n",
              "        buttonEl.style.display =\n",
              "          google.colab.kernel.accessAllowed ? 'block' : 'none';\n",
              "\n",
              "        async function convertToInteractive(key) {\n",
              "          const element = document.querySelector('#df-0047cc1b-1c11-43db-b2fc-7807d7fba9f5');\n",
              "          const dataTable =\n",
              "            await google.colab.kernel.invokeFunction('convertToInteractive',\n",
              "                                                     [key], {});\n",
              "          if (!dataTable) return;\n",
              "\n",
              "          const docLinkHtml = 'Like what you see? Visit the ' +\n",
              "            '<a target=\"_blank\" href=https://colab.research.google.com/notebooks/data_table.ipynb>data table notebook</a>'\n",
              "            + ' to learn more about interactive tables.';\n",
              "          element.innerHTML = '';\n",
              "          dataTable['output_type'] = 'display_data';\n",
              "          await google.colab.output.renderOutput(dataTable, element);\n",
              "          const docLink = document.createElement('div');\n",
              "          docLink.innerHTML = docLinkHtml;\n",
              "          element.appendChild(docLink);\n",
              "        }\n",
              "      </script>\n",
              "    </div>\n",
              "  </div>\n",
              "  "
            ]
          },
          "metadata": {},
          "execution_count": 83
        }
      ],
      "source": [
        "sessions_per_month = sessions.groupby(['user_id', 'month']).agg({'mb_used': 'sum'})\n",
        "sessions_per_month.head(15)"
      ]
    },
    {
      "cell_type": "markdown",
      "metadata": {
        "deletable": false,
        "editable": false,
        "id": "kR-5d_YNeSen"
      },
      "source": [
        "# Анализ данных и подсчёт выручки"
      ]
    },
    {
      "cell_type": "markdown",
      "metadata": {
        "deletable": false,
        "editable": false,
        "id": "1nAwewe8eSen"
      },
      "source": [
        "Объединяем все посчитанные выше значения в один датафрейм `user_behavior`.\n",
        "Для каждой пары \"пользователь - месяц\" будут доступны информация о тарифе, количестве звонков, сообщений и потраченных мегабайтах."
      ]
    },
    {
      "cell_type": "code",
      "execution_count": 84,
      "metadata": {
        "deletable": false,
        "colab": {
          "base_uri": "https://localhost:8080/"
        },
        "id": "Bp3IOszdeSeo",
        "outputId": "336be50f-c363-4610-8701-b178a0885289"
      },
      "outputs": [
        {
          "output_type": "execute_result",
          "data": {
            "text/plain": [
              "7.6"
            ]
          },
          "metadata": {},
          "execution_count": 84
        }
      ],
      "source": [
        "users['churn_date'].count() / users['churn_date'].shape[0] * 100"
      ]
    },
    {
      "cell_type": "markdown",
      "metadata": {
        "deletable": false,
        "editable": false,
        "id": "ct0N4AhKeSeo"
      },
      "source": [
        "Расторгли договор 7.6% клиентов из датасета"
      ]
    },
    {
      "cell_type": "code",
      "execution_count": 85,
      "metadata": {
        "deletable": false,
        "colab": {
          "base_uri": "https://localhost:8080/",
          "height": 206
        },
        "id": "Trvs4yRKeSeo",
        "outputId": "394f06a5-2517-4628-87cf-86a091b79ea4"
      },
      "outputs": [
        {
          "output_type": "execute_result",
          "data": {
            "text/plain": [
              "   user_id  month  calls  messages   mb_used  minutes  age churn_date  \\\n",
              "0     1000      5   22.0      22.0   2253.49    159.0   52        NaT   \n",
              "1     1000      6   43.0      60.0  23233.77    172.0   52        NaT   \n",
              "2     1000      7   47.0      75.0  14003.64    340.0   52        NaT   \n",
              "3     1000      8   52.0      81.0  14055.93    408.0   52        NaT   \n",
              "4     1000      9   58.0      57.0  14568.91    466.0   52        NaT   \n",
              "\n",
              "        city first_name  last_name   reg_date tariff  \n",
              "0  Краснодар     Рафаил  Верещагин 2018-05-25  ultra  \n",
              "1  Краснодар     Рафаил  Верещагин 2018-05-25  ultra  \n",
              "2  Краснодар     Рафаил  Верещагин 2018-05-25  ultra  \n",
              "3  Краснодар     Рафаил  Верещагин 2018-05-25  ultra  \n",
              "4  Краснодар     Рафаил  Верещагин 2018-05-25  ultra  "
            ],
            "text/html": [
              "\n",
              "  <div id=\"df-a7341e9a-e0d8-42d2-8bc9-30ea66cc8ca9\">\n",
              "    <div class=\"colab-df-container\">\n",
              "      <div>\n",
              "<style scoped>\n",
              "    .dataframe tbody tr th:only-of-type {\n",
              "        vertical-align: middle;\n",
              "    }\n",
              "\n",
              "    .dataframe tbody tr th {\n",
              "        vertical-align: top;\n",
              "    }\n",
              "\n",
              "    .dataframe thead th {\n",
              "        text-align: right;\n",
              "    }\n",
              "</style>\n",
              "<table border=\"1\" class=\"dataframe\">\n",
              "  <thead>\n",
              "    <tr style=\"text-align: right;\">\n",
              "      <th></th>\n",
              "      <th>user_id</th>\n",
              "      <th>month</th>\n",
              "      <th>calls</th>\n",
              "      <th>messages</th>\n",
              "      <th>mb_used</th>\n",
              "      <th>minutes</th>\n",
              "      <th>age</th>\n",
              "      <th>churn_date</th>\n",
              "      <th>city</th>\n",
              "      <th>first_name</th>\n",
              "      <th>last_name</th>\n",
              "      <th>reg_date</th>\n",
              "      <th>tariff</th>\n",
              "    </tr>\n",
              "  </thead>\n",
              "  <tbody>\n",
              "    <tr>\n",
              "      <th>0</th>\n",
              "      <td>1000</td>\n",
              "      <td>5</td>\n",
              "      <td>22.0</td>\n",
              "      <td>22.0</td>\n",
              "      <td>2253.49</td>\n",
              "      <td>159.0</td>\n",
              "      <td>52</td>\n",
              "      <td>NaT</td>\n",
              "      <td>Краснодар</td>\n",
              "      <td>Рафаил</td>\n",
              "      <td>Верещагин</td>\n",
              "      <td>2018-05-25</td>\n",
              "      <td>ultra</td>\n",
              "    </tr>\n",
              "    <tr>\n",
              "      <th>1</th>\n",
              "      <td>1000</td>\n",
              "      <td>6</td>\n",
              "      <td>43.0</td>\n",
              "      <td>60.0</td>\n",
              "      <td>23233.77</td>\n",
              "      <td>172.0</td>\n",
              "      <td>52</td>\n",
              "      <td>NaT</td>\n",
              "      <td>Краснодар</td>\n",
              "      <td>Рафаил</td>\n",
              "      <td>Верещагин</td>\n",
              "      <td>2018-05-25</td>\n",
              "      <td>ultra</td>\n",
              "    </tr>\n",
              "    <tr>\n",
              "      <th>2</th>\n",
              "      <td>1000</td>\n",
              "      <td>7</td>\n",
              "      <td>47.0</td>\n",
              "      <td>75.0</td>\n",
              "      <td>14003.64</td>\n",
              "      <td>340.0</td>\n",
              "      <td>52</td>\n",
              "      <td>NaT</td>\n",
              "      <td>Краснодар</td>\n",
              "      <td>Рафаил</td>\n",
              "      <td>Верещагин</td>\n",
              "      <td>2018-05-25</td>\n",
              "      <td>ultra</td>\n",
              "    </tr>\n",
              "    <tr>\n",
              "      <th>3</th>\n",
              "      <td>1000</td>\n",
              "      <td>8</td>\n",
              "      <td>52.0</td>\n",
              "      <td>81.0</td>\n",
              "      <td>14055.93</td>\n",
              "      <td>408.0</td>\n",
              "      <td>52</td>\n",
              "      <td>NaT</td>\n",
              "      <td>Краснодар</td>\n",
              "      <td>Рафаил</td>\n",
              "      <td>Верещагин</td>\n",
              "      <td>2018-05-25</td>\n",
              "      <td>ultra</td>\n",
              "    </tr>\n",
              "    <tr>\n",
              "      <th>4</th>\n",
              "      <td>1000</td>\n",
              "      <td>9</td>\n",
              "      <td>58.0</td>\n",
              "      <td>57.0</td>\n",
              "      <td>14568.91</td>\n",
              "      <td>466.0</td>\n",
              "      <td>52</td>\n",
              "      <td>NaT</td>\n",
              "      <td>Краснодар</td>\n",
              "      <td>Рафаил</td>\n",
              "      <td>Верещагин</td>\n",
              "      <td>2018-05-25</td>\n",
              "      <td>ultra</td>\n",
              "    </tr>\n",
              "  </tbody>\n",
              "</table>\n",
              "</div>\n",
              "      <button class=\"colab-df-convert\" onclick=\"convertToInteractive('df-a7341e9a-e0d8-42d2-8bc9-30ea66cc8ca9')\"\n",
              "              title=\"Convert this dataframe to an interactive table.\"\n",
              "              style=\"display:none;\">\n",
              "        \n",
              "  <svg xmlns=\"http://www.w3.org/2000/svg\" height=\"24px\"viewBox=\"0 0 24 24\"\n",
              "       width=\"24px\">\n",
              "    <path d=\"M0 0h24v24H0V0z\" fill=\"none\"/>\n",
              "    <path d=\"M18.56 5.44l.94 2.06.94-2.06 2.06-.94-2.06-.94-.94-2.06-.94 2.06-2.06.94zm-11 1L8.5 8.5l.94-2.06 2.06-.94-2.06-.94L8.5 2.5l-.94 2.06-2.06.94zm10 10l.94 2.06.94-2.06 2.06-.94-2.06-.94-.94-2.06-.94 2.06-2.06.94z\"/><path d=\"M17.41 7.96l-1.37-1.37c-.4-.4-.92-.59-1.43-.59-.52 0-1.04.2-1.43.59L10.3 9.45l-7.72 7.72c-.78.78-.78 2.05 0 2.83L4 21.41c.39.39.9.59 1.41.59.51 0 1.02-.2 1.41-.59l7.78-7.78 2.81-2.81c.8-.78.8-2.07 0-2.86zM5.41 20L4 18.59l7.72-7.72 1.47 1.35L5.41 20z\"/>\n",
              "  </svg>\n",
              "      </button>\n",
              "      \n",
              "  <style>\n",
              "    .colab-df-container {\n",
              "      display:flex;\n",
              "      flex-wrap:wrap;\n",
              "      gap: 12px;\n",
              "    }\n",
              "\n",
              "    .colab-df-convert {\n",
              "      background-color: #E8F0FE;\n",
              "      border: none;\n",
              "      border-radius: 50%;\n",
              "      cursor: pointer;\n",
              "      display: none;\n",
              "      fill: #1967D2;\n",
              "      height: 32px;\n",
              "      padding: 0 0 0 0;\n",
              "      width: 32px;\n",
              "    }\n",
              "\n",
              "    .colab-df-convert:hover {\n",
              "      background-color: #E2EBFA;\n",
              "      box-shadow: 0px 1px 2px rgba(60, 64, 67, 0.3), 0px 1px 3px 1px rgba(60, 64, 67, 0.15);\n",
              "      fill: #174EA6;\n",
              "    }\n",
              "\n",
              "    [theme=dark] .colab-df-convert {\n",
              "      background-color: #3B4455;\n",
              "      fill: #D2E3FC;\n",
              "    }\n",
              "\n",
              "    [theme=dark] .colab-df-convert:hover {\n",
              "      background-color: #434B5C;\n",
              "      box-shadow: 0px 1px 3px 1px rgba(0, 0, 0, 0.15);\n",
              "      filter: drop-shadow(0px 1px 2px rgba(0, 0, 0, 0.3));\n",
              "      fill: #FFFFFF;\n",
              "    }\n",
              "  </style>\n",
              "\n",
              "      <script>\n",
              "        const buttonEl =\n",
              "          document.querySelector('#df-a7341e9a-e0d8-42d2-8bc9-30ea66cc8ca9 button.colab-df-convert');\n",
              "        buttonEl.style.display =\n",
              "          google.colab.kernel.accessAllowed ? 'block' : 'none';\n",
              "\n",
              "        async function convertToInteractive(key) {\n",
              "          const element = document.querySelector('#df-a7341e9a-e0d8-42d2-8bc9-30ea66cc8ca9');\n",
              "          const dataTable =\n",
              "            await google.colab.kernel.invokeFunction('convertToInteractive',\n",
              "                                                     [key], {});\n",
              "          if (!dataTable) return;\n",
              "\n",
              "          const docLinkHtml = 'Like what you see? Visit the ' +\n",
              "            '<a target=\"_blank\" href=https://colab.research.google.com/notebooks/data_table.ipynb>data table notebook</a>'\n",
              "            + ' to learn more about interactive tables.';\n",
              "          element.innerHTML = '';\n",
              "          dataTable['output_type'] = 'display_data';\n",
              "          await google.colab.output.renderOutput(dataTable, element);\n",
              "          const docLink = document.createElement('div');\n",
              "          docLink.innerHTML = docLinkHtml;\n",
              "          element.appendChild(docLink);\n",
              "        }\n",
              "      </script>\n",
              "    </div>\n",
              "  </div>\n",
              "  "
            ]
          },
          "metadata": {},
          "execution_count": 85
        }
      ],
      "source": [
        "user_behavior = calls_per_month\\\n",
        "    .merge(messages_per_month, left_index=True, right_index=True, how='outer')\\\n",
        "    .merge(sessions_per_month, left_index=True, right_index=True, how='outer')\\\n",
        "    .merge(minutes_per_month, left_index=True, right_index=True, how='outer')\\\n",
        "    .reset_index()\\\n",
        "    .merge(users, how='left', left_on='user_id', right_on='user_id')\\\n",
        "\n",
        "user_behavior.head()"
      ]
    },
    {
      "cell_type": "markdown",
      "metadata": {
        "deletable": false,
        "editable": false,
        "id": "69UjpkiPeSep"
      },
      "source": [
        "Проверим пропуски в таблице `user_behavior` после объединения:"
      ]
    },
    {
      "cell_type": "code",
      "execution_count": 86,
      "metadata": {
        "deletable": false,
        "colab": {
          "base_uri": "https://localhost:8080/"
        },
        "id": "Zpk_ohuneSep",
        "outputId": "988ae4a6-111d-4c41-9260-d1531c0a53f7"
      },
      "outputs": [
        {
          "output_type": "execute_result",
          "data": {
            "text/plain": [
              "user_id          0\n",
              "month            0\n",
              "calls           40\n",
              "messages       497\n",
              "mb_used         11\n",
              "minutes         40\n",
              "age              0\n",
              "churn_date    3027\n",
              "city             0\n",
              "first_name       0\n",
              "last_name        0\n",
              "reg_date         0\n",
              "tariff           0\n",
              "dtype: int64"
            ]
          },
          "metadata": {},
          "execution_count": 86
        }
      ],
      "source": [
        "user_behavior.isna().sum()"
      ]
    },
    {
      "cell_type": "markdown",
      "metadata": {
        "deletable": false,
        "editable": false,
        "id": "e3uaQkaReSeq"
      },
      "source": [
        "Заполним образовавшиеся пропуски в данных:"
      ]
    },
    {
      "cell_type": "code",
      "execution_count": 87,
      "metadata": {
        "deletable": false,
        "id": "9ZJ7rLMreSeq"
      },
      "outputs": [],
      "source": [
        "user_behavior['calls'] = user_behavior['calls'].fillna(0)\n",
        "user_behavior['minutes'] = user_behavior['minutes'].fillna(0)\n",
        "user_behavior['messages'] = user_behavior['messages'].fillna(0)\n",
        "user_behavior['mb_used'] = user_behavior['mb_used'].fillna(0)"
      ]
    },
    {
      "cell_type": "markdown",
      "metadata": {
        "deletable": false,
        "editable": false,
        "id": "RfwLggVSeSes"
      },
      "source": [
        "Присоединяем информацию о тарифах"
      ]
    },
    {
      "cell_type": "code",
      "execution_count": 88,
      "metadata": {
        "deletable": false,
        "id": "wj7ekQR7eSet"
      },
      "outputs": [],
      "source": [
        "tariffs = tariffs.rename(columns={'tariff_name': 'tariff'})"
      ]
    },
    {
      "cell_type": "code",
      "execution_count": 89,
      "metadata": {
        "deletable": false,
        "id": "IlqhCJPMeSet"
      },
      "outputs": [],
      "source": [
        "user_behavior = user_behavior.merge(tariffs, on='tariff')"
      ]
    },
    {
      "cell_type": "markdown",
      "metadata": {
        "deletable": false,
        "editable": false,
        "id": "4naf8iUSeSet"
      },
      "source": [
        "Считаем количество минут разговора, сообщений и мегабайт, превышающих включенные в тариф\n"
      ]
    },
    {
      "cell_type": "code",
      "execution_count": 90,
      "metadata": {
        "deletable": false,
        "id": "IQrsl0mUeSeu"
      },
      "outputs": [],
      "source": [
        "user_behavior['paid_minutes'] = user_behavior['minutes'] - user_behavior['minutes_included']\n",
        "user_behavior['paid_messages'] = user_behavior['messages'] - user_behavior['messages_included']\n",
        "user_behavior['paid_mb'] = user_behavior['mb_used'] - user_behavior['mb_per_month_included']\n",
        "\n",
        "for col in ['paid_messages', 'paid_minutes', 'paid_mb']:\n",
        "    user_behavior.loc[user_behavior[col] < 0, col] = 0"
      ]
    },
    {
      "cell_type": "markdown",
      "metadata": {
        "deletable": false,
        "editable": false,
        "id": "kQAe0lKCeSeu"
      },
      "source": [
        "Переводим превышающие тариф мегабайты в гигабайты и сохраняем в столбец `paid_gb`"
      ]
    },
    {
      "cell_type": "code",
      "execution_count": 91,
      "metadata": {
        "deletable": false,
        "id": "2dVb5Y90eSeu"
      },
      "outputs": [],
      "source": [
        "user_behavior['paid_gb'] = np.ceil(user_behavior['paid_mb'] / 1024).astype(int)"
      ]
    },
    {
      "cell_type": "markdown",
      "metadata": {
        "deletable": false,
        "editable": false,
        "id": "8cdUzX1aeSev"
      },
      "source": [
        "Считаем выручку за минуты разговора, сообщения и интернет"
      ]
    },
    {
      "cell_type": "code",
      "execution_count": 92,
      "metadata": {
        "deletable": false,
        "id": "0ndeSbWMeSev"
      },
      "outputs": [],
      "source": [
        "user_behavior['cost_minutes'] = user_behavior['paid_minutes'] * user_behavior['rub_per_minute']\n",
        "user_behavior['cost_messages'] = user_behavior['paid_messages'] * user_behavior['rub_per_message']\n",
        "user_behavior['cost_gb'] = user_behavior['paid_gb'] * user_behavior['rub_per_gb']"
      ]
    },
    {
      "cell_type": "markdown",
      "metadata": {
        "deletable": false,
        "editable": false,
        "id": "0ezraXUseSev"
      },
      "source": [
        "Считаем помесячную выручку с каждого пользователя, сохраняем в столбец `total_cost`"
      ]
    },
    {
      "cell_type": "code",
      "execution_count": 93,
      "metadata": {
        "deletable": false,
        "id": "zli4BqCoeSew"
      },
      "outputs": [],
      "source": [
        "user_behavior['total_cost'] = user_behavior['rub_monthly_fee'] + user_behavior['cost_minutes'] + user_behavior['cost_messages'] + user_behavior['cost_gb']"
      ]
    },
    {
      "cell_type": "code",
      "source": [
        "user_behavior"
      ],
      "metadata": {
        "colab": {
          "base_uri": "https://localhost:8080/",
          "height": 488
        },
        "id": "ljMQ-zdBv4UG",
        "outputId": "442c8354-11c5-4947-f4bf-16d9c8f5f084"
      },
      "execution_count": 94,
      "outputs": [
        {
          "output_type": "execute_result",
          "data": {
            "text/plain": [
              "      user_id  month  calls  messages   mb_used  minutes  age churn_date  \\\n",
              "0        1000      5   22.0      22.0   2253.49    159.0   52        NaT   \n",
              "1        1000      6   43.0      60.0  23233.77    172.0   52        NaT   \n",
              "2        1000      7   47.0      75.0  14003.64    340.0   52        NaT   \n",
              "3        1000      8   52.0      81.0  14055.93    408.0   52        NaT   \n",
              "4        1000      9   58.0      57.0  14568.91    466.0   52        NaT   \n",
              "...       ...    ...    ...       ...       ...      ...  ...        ...   \n",
              "3209     1498     10   41.0      42.0  20579.36    247.0   68 2018-10-25   \n",
              "3210     1499      9    9.0      11.0   1845.75     70.0   35        NaT   \n",
              "3211     1499     10   68.0      48.0  17788.51    449.0   35        NaT   \n",
              "3212     1499     11   74.0      59.0  17963.31    612.0   35        NaT   \n",
              "3213     1499     12   69.0      66.0  13055.58    492.0   35        NaT   \n",
              "\n",
              "             city first_name  ... rub_per_message rub_per_minute paid_minutes  \\\n",
              "0       Краснодар     Рафаил  ...               1              1          0.0   \n",
              "1       Краснодар     Рафаил  ...               1              1          0.0   \n",
              "2       Краснодар     Рафаил  ...               1              1          0.0   \n",
              "3       Краснодар     Рафаил  ...               1              1          0.0   \n",
              "4       Краснодар     Рафаил  ...               1              1          0.0   \n",
              "...           ...        ...  ...             ...            ...          ...   \n",
              "3209  Владикавказ   Всеволод  ...               3              3          0.0   \n",
              "3210        Пермь     Гектор  ...               3              3          0.0   \n",
              "3211        Пермь     Гектор  ...               3              3          0.0   \n",
              "3212        Пермь     Гектор  ...               3              3        112.0   \n",
              "3213        Пермь     Гектор  ...               3              3          0.0   \n",
              "\n",
              "      paid_messages  paid_mb  paid_gb  cost_minutes  cost_messages  cost_gb  \\\n",
              "0               0.0     0.00        0           0.0            0.0        0   \n",
              "1               0.0     0.00        0           0.0            0.0        0   \n",
              "2               0.0     0.00        0           0.0            0.0        0   \n",
              "3               0.0     0.00        0           0.0            0.0        0   \n",
              "4               0.0     0.00        0           0.0            0.0        0   \n",
              "...             ...      ...      ...           ...            ...      ...   \n",
              "3209            0.0  5219.36        6           0.0            0.0     1200   \n",
              "3210            0.0     0.00        0           0.0            0.0        0   \n",
              "3211            0.0  2428.51        3           0.0            0.0      600   \n",
              "3212            9.0  2603.31        3         336.0           27.0      600   \n",
              "3213           16.0     0.00        0           0.0           48.0        0   \n",
              "\n",
              "      total_cost  \n",
              "0         1950.0  \n",
              "1         1950.0  \n",
              "2         1950.0  \n",
              "3         1950.0  \n",
              "4         1950.0  \n",
              "...          ...  \n",
              "3209      1750.0  \n",
              "3210       550.0  \n",
              "3211      1150.0  \n",
              "3212      1513.0  \n",
              "3213       598.0  \n",
              "\n",
              "[3214 rows x 28 columns]"
            ],
            "text/html": [
              "\n",
              "  <div id=\"df-6e0bfa91-f494-409f-9c2f-8e3744fa4030\">\n",
              "    <div class=\"colab-df-container\">\n",
              "      <div>\n",
              "<style scoped>\n",
              "    .dataframe tbody tr th:only-of-type {\n",
              "        vertical-align: middle;\n",
              "    }\n",
              "\n",
              "    .dataframe tbody tr th {\n",
              "        vertical-align: top;\n",
              "    }\n",
              "\n",
              "    .dataframe thead th {\n",
              "        text-align: right;\n",
              "    }\n",
              "</style>\n",
              "<table border=\"1\" class=\"dataframe\">\n",
              "  <thead>\n",
              "    <tr style=\"text-align: right;\">\n",
              "      <th></th>\n",
              "      <th>user_id</th>\n",
              "      <th>month</th>\n",
              "      <th>calls</th>\n",
              "      <th>messages</th>\n",
              "      <th>mb_used</th>\n",
              "      <th>minutes</th>\n",
              "      <th>age</th>\n",
              "      <th>churn_date</th>\n",
              "      <th>city</th>\n",
              "      <th>first_name</th>\n",
              "      <th>...</th>\n",
              "      <th>rub_per_message</th>\n",
              "      <th>rub_per_minute</th>\n",
              "      <th>paid_minutes</th>\n",
              "      <th>paid_messages</th>\n",
              "      <th>paid_mb</th>\n",
              "      <th>paid_gb</th>\n",
              "      <th>cost_minutes</th>\n",
              "      <th>cost_messages</th>\n",
              "      <th>cost_gb</th>\n",
              "      <th>total_cost</th>\n",
              "    </tr>\n",
              "  </thead>\n",
              "  <tbody>\n",
              "    <tr>\n",
              "      <th>0</th>\n",
              "      <td>1000</td>\n",
              "      <td>5</td>\n",
              "      <td>22.0</td>\n",
              "      <td>22.0</td>\n",
              "      <td>2253.49</td>\n",
              "      <td>159.0</td>\n",
              "      <td>52</td>\n",
              "      <td>NaT</td>\n",
              "      <td>Краснодар</td>\n",
              "      <td>Рафаил</td>\n",
              "      <td>...</td>\n",
              "      <td>1</td>\n",
              "      <td>1</td>\n",
              "      <td>0.0</td>\n",
              "      <td>0.0</td>\n",
              "      <td>0.00</td>\n",
              "      <td>0</td>\n",
              "      <td>0.0</td>\n",
              "      <td>0.0</td>\n",
              "      <td>0</td>\n",
              "      <td>1950.0</td>\n",
              "    </tr>\n",
              "    <tr>\n",
              "      <th>1</th>\n",
              "      <td>1000</td>\n",
              "      <td>6</td>\n",
              "      <td>43.0</td>\n",
              "      <td>60.0</td>\n",
              "      <td>23233.77</td>\n",
              "      <td>172.0</td>\n",
              "      <td>52</td>\n",
              "      <td>NaT</td>\n",
              "      <td>Краснодар</td>\n",
              "      <td>Рафаил</td>\n",
              "      <td>...</td>\n",
              "      <td>1</td>\n",
              "      <td>1</td>\n",
              "      <td>0.0</td>\n",
              "      <td>0.0</td>\n",
              "      <td>0.00</td>\n",
              "      <td>0</td>\n",
              "      <td>0.0</td>\n",
              "      <td>0.0</td>\n",
              "      <td>0</td>\n",
              "      <td>1950.0</td>\n",
              "    </tr>\n",
              "    <tr>\n",
              "      <th>2</th>\n",
              "      <td>1000</td>\n",
              "      <td>7</td>\n",
              "      <td>47.0</td>\n",
              "      <td>75.0</td>\n",
              "      <td>14003.64</td>\n",
              "      <td>340.0</td>\n",
              "      <td>52</td>\n",
              "      <td>NaT</td>\n",
              "      <td>Краснодар</td>\n",
              "      <td>Рафаил</td>\n",
              "      <td>...</td>\n",
              "      <td>1</td>\n",
              "      <td>1</td>\n",
              "      <td>0.0</td>\n",
              "      <td>0.0</td>\n",
              "      <td>0.00</td>\n",
              "      <td>0</td>\n",
              "      <td>0.0</td>\n",
              "      <td>0.0</td>\n",
              "      <td>0</td>\n",
              "      <td>1950.0</td>\n",
              "    </tr>\n",
              "    <tr>\n",
              "      <th>3</th>\n",
              "      <td>1000</td>\n",
              "      <td>8</td>\n",
              "      <td>52.0</td>\n",
              "      <td>81.0</td>\n",
              "      <td>14055.93</td>\n",
              "      <td>408.0</td>\n",
              "      <td>52</td>\n",
              "      <td>NaT</td>\n",
              "      <td>Краснодар</td>\n",
              "      <td>Рафаил</td>\n",
              "      <td>...</td>\n",
              "      <td>1</td>\n",
              "      <td>1</td>\n",
              "      <td>0.0</td>\n",
              "      <td>0.0</td>\n",
              "      <td>0.00</td>\n",
              "      <td>0</td>\n",
              "      <td>0.0</td>\n",
              "      <td>0.0</td>\n",
              "      <td>0</td>\n",
              "      <td>1950.0</td>\n",
              "    </tr>\n",
              "    <tr>\n",
              "      <th>4</th>\n",
              "      <td>1000</td>\n",
              "      <td>9</td>\n",
              "      <td>58.0</td>\n",
              "      <td>57.0</td>\n",
              "      <td>14568.91</td>\n",
              "      <td>466.0</td>\n",
              "      <td>52</td>\n",
              "      <td>NaT</td>\n",
              "      <td>Краснодар</td>\n",
              "      <td>Рафаил</td>\n",
              "      <td>...</td>\n",
              "      <td>1</td>\n",
              "      <td>1</td>\n",
              "      <td>0.0</td>\n",
              "      <td>0.0</td>\n",
              "      <td>0.00</td>\n",
              "      <td>0</td>\n",
              "      <td>0.0</td>\n",
              "      <td>0.0</td>\n",
              "      <td>0</td>\n",
              "      <td>1950.0</td>\n",
              "    </tr>\n",
              "    <tr>\n",
              "      <th>...</th>\n",
              "      <td>...</td>\n",
              "      <td>...</td>\n",
              "      <td>...</td>\n",
              "      <td>...</td>\n",
              "      <td>...</td>\n",
              "      <td>...</td>\n",
              "      <td>...</td>\n",
              "      <td>...</td>\n",
              "      <td>...</td>\n",
              "      <td>...</td>\n",
              "      <td>...</td>\n",
              "      <td>...</td>\n",
              "      <td>...</td>\n",
              "      <td>...</td>\n",
              "      <td>...</td>\n",
              "      <td>...</td>\n",
              "      <td>...</td>\n",
              "      <td>...</td>\n",
              "      <td>...</td>\n",
              "      <td>...</td>\n",
              "      <td>...</td>\n",
              "    </tr>\n",
              "    <tr>\n",
              "      <th>3209</th>\n",
              "      <td>1498</td>\n",
              "      <td>10</td>\n",
              "      <td>41.0</td>\n",
              "      <td>42.0</td>\n",
              "      <td>20579.36</td>\n",
              "      <td>247.0</td>\n",
              "      <td>68</td>\n",
              "      <td>2018-10-25</td>\n",
              "      <td>Владикавказ</td>\n",
              "      <td>Всеволод</td>\n",
              "      <td>...</td>\n",
              "      <td>3</td>\n",
              "      <td>3</td>\n",
              "      <td>0.0</td>\n",
              "      <td>0.0</td>\n",
              "      <td>5219.36</td>\n",
              "      <td>6</td>\n",
              "      <td>0.0</td>\n",
              "      <td>0.0</td>\n",
              "      <td>1200</td>\n",
              "      <td>1750.0</td>\n",
              "    </tr>\n",
              "    <tr>\n",
              "      <th>3210</th>\n",
              "      <td>1499</td>\n",
              "      <td>9</td>\n",
              "      <td>9.0</td>\n",
              "      <td>11.0</td>\n",
              "      <td>1845.75</td>\n",
              "      <td>70.0</td>\n",
              "      <td>35</td>\n",
              "      <td>NaT</td>\n",
              "      <td>Пермь</td>\n",
              "      <td>Гектор</td>\n",
              "      <td>...</td>\n",
              "      <td>3</td>\n",
              "      <td>3</td>\n",
              "      <td>0.0</td>\n",
              "      <td>0.0</td>\n",
              "      <td>0.00</td>\n",
              "      <td>0</td>\n",
              "      <td>0.0</td>\n",
              "      <td>0.0</td>\n",
              "      <td>0</td>\n",
              "      <td>550.0</td>\n",
              "    </tr>\n",
              "    <tr>\n",
              "      <th>3211</th>\n",
              "      <td>1499</td>\n",
              "      <td>10</td>\n",
              "      <td>68.0</td>\n",
              "      <td>48.0</td>\n",
              "      <td>17788.51</td>\n",
              "      <td>449.0</td>\n",
              "      <td>35</td>\n",
              "      <td>NaT</td>\n",
              "      <td>Пермь</td>\n",
              "      <td>Гектор</td>\n",
              "      <td>...</td>\n",
              "      <td>3</td>\n",
              "      <td>3</td>\n",
              "      <td>0.0</td>\n",
              "      <td>0.0</td>\n",
              "      <td>2428.51</td>\n",
              "      <td>3</td>\n",
              "      <td>0.0</td>\n",
              "      <td>0.0</td>\n",
              "      <td>600</td>\n",
              "      <td>1150.0</td>\n",
              "    </tr>\n",
              "    <tr>\n",
              "      <th>3212</th>\n",
              "      <td>1499</td>\n",
              "      <td>11</td>\n",
              "      <td>74.0</td>\n",
              "      <td>59.0</td>\n",
              "      <td>17963.31</td>\n",
              "      <td>612.0</td>\n",
              "      <td>35</td>\n",
              "      <td>NaT</td>\n",
              "      <td>Пермь</td>\n",
              "      <td>Гектор</td>\n",
              "      <td>...</td>\n",
              "      <td>3</td>\n",
              "      <td>3</td>\n",
              "      <td>112.0</td>\n",
              "      <td>9.0</td>\n",
              "      <td>2603.31</td>\n",
              "      <td>3</td>\n",
              "      <td>336.0</td>\n",
              "      <td>27.0</td>\n",
              "      <td>600</td>\n",
              "      <td>1513.0</td>\n",
              "    </tr>\n",
              "    <tr>\n",
              "      <th>3213</th>\n",
              "      <td>1499</td>\n",
              "      <td>12</td>\n",
              "      <td>69.0</td>\n",
              "      <td>66.0</td>\n",
              "      <td>13055.58</td>\n",
              "      <td>492.0</td>\n",
              "      <td>35</td>\n",
              "      <td>NaT</td>\n",
              "      <td>Пермь</td>\n",
              "      <td>Гектор</td>\n",
              "      <td>...</td>\n",
              "      <td>3</td>\n",
              "      <td>3</td>\n",
              "      <td>0.0</td>\n",
              "      <td>16.0</td>\n",
              "      <td>0.00</td>\n",
              "      <td>0</td>\n",
              "      <td>0.0</td>\n",
              "      <td>48.0</td>\n",
              "      <td>0</td>\n",
              "      <td>598.0</td>\n",
              "    </tr>\n",
              "  </tbody>\n",
              "</table>\n",
              "<p>3214 rows × 28 columns</p>\n",
              "</div>\n",
              "      <button class=\"colab-df-convert\" onclick=\"convertToInteractive('df-6e0bfa91-f494-409f-9c2f-8e3744fa4030')\"\n",
              "              title=\"Convert this dataframe to an interactive table.\"\n",
              "              style=\"display:none;\">\n",
              "        \n",
              "  <svg xmlns=\"http://www.w3.org/2000/svg\" height=\"24px\"viewBox=\"0 0 24 24\"\n",
              "       width=\"24px\">\n",
              "    <path d=\"M0 0h24v24H0V0z\" fill=\"none\"/>\n",
              "    <path d=\"M18.56 5.44l.94 2.06.94-2.06 2.06-.94-2.06-.94-.94-2.06-.94 2.06-2.06.94zm-11 1L8.5 8.5l.94-2.06 2.06-.94-2.06-.94L8.5 2.5l-.94 2.06-2.06.94zm10 10l.94 2.06.94-2.06 2.06-.94-2.06-.94-.94-2.06-.94 2.06-2.06.94z\"/><path d=\"M17.41 7.96l-1.37-1.37c-.4-.4-.92-.59-1.43-.59-.52 0-1.04.2-1.43.59L10.3 9.45l-7.72 7.72c-.78.78-.78 2.05 0 2.83L4 21.41c.39.39.9.59 1.41.59.51 0 1.02-.2 1.41-.59l7.78-7.78 2.81-2.81c.8-.78.8-2.07 0-2.86zM5.41 20L4 18.59l7.72-7.72 1.47 1.35L5.41 20z\"/>\n",
              "  </svg>\n",
              "      </button>\n",
              "      \n",
              "  <style>\n",
              "    .colab-df-container {\n",
              "      display:flex;\n",
              "      flex-wrap:wrap;\n",
              "      gap: 12px;\n",
              "    }\n",
              "\n",
              "    .colab-df-convert {\n",
              "      background-color: #E8F0FE;\n",
              "      border: none;\n",
              "      border-radius: 50%;\n",
              "      cursor: pointer;\n",
              "      display: none;\n",
              "      fill: #1967D2;\n",
              "      height: 32px;\n",
              "      padding: 0 0 0 0;\n",
              "      width: 32px;\n",
              "    }\n",
              "\n",
              "    .colab-df-convert:hover {\n",
              "      background-color: #E2EBFA;\n",
              "      box-shadow: 0px 1px 2px rgba(60, 64, 67, 0.3), 0px 1px 3px 1px rgba(60, 64, 67, 0.15);\n",
              "      fill: #174EA6;\n",
              "    }\n",
              "\n",
              "    [theme=dark] .colab-df-convert {\n",
              "      background-color: #3B4455;\n",
              "      fill: #D2E3FC;\n",
              "    }\n",
              "\n",
              "    [theme=dark] .colab-df-convert:hover {\n",
              "      background-color: #434B5C;\n",
              "      box-shadow: 0px 1px 3px 1px rgba(0, 0, 0, 0.15);\n",
              "      filter: drop-shadow(0px 1px 2px rgba(0, 0, 0, 0.3));\n",
              "      fill: #FFFFFF;\n",
              "    }\n",
              "  </style>\n",
              "\n",
              "      <script>\n",
              "        const buttonEl =\n",
              "          document.querySelector('#df-6e0bfa91-f494-409f-9c2f-8e3744fa4030 button.colab-df-convert');\n",
              "        buttonEl.style.display =\n",
              "          google.colab.kernel.accessAllowed ? 'block' : 'none';\n",
              "\n",
              "        async function convertToInteractive(key) {\n",
              "          const element = document.querySelector('#df-6e0bfa91-f494-409f-9c2f-8e3744fa4030');\n",
              "          const dataTable =\n",
              "            await google.colab.kernel.invokeFunction('convertToInteractive',\n",
              "                                                     [key], {});\n",
              "          if (!dataTable) return;\n",
              "\n",
              "          const docLinkHtml = 'Like what you see? Visit the ' +\n",
              "            '<a target=\"_blank\" href=https://colab.research.google.com/notebooks/data_table.ipynb>data table notebook</a>'\n",
              "            + ' to learn more about interactive tables.';\n",
              "          element.innerHTML = '';\n",
              "          dataTable['output_type'] = 'display_data';\n",
              "          await google.colab.output.renderOutput(dataTable, element);\n",
              "          const docLink = document.createElement('div');\n",
              "          docLink.innerHTML = docLinkHtml;\n",
              "          element.appendChild(docLink);\n",
              "        }\n",
              "      </script>\n",
              "    </div>\n",
              "  </div>\n",
              "  "
            ]
          },
          "metadata": {},
          "execution_count": 94
        }
      ]
    },
    {
      "cell_type": "markdown",
      "metadata": {
        "deletable": false,
        "editable": false,
        "id": "TCBKjJU9eSew"
      },
      "source": [
        "Датафрейм `stats_df` для каждой пары \"месяц-тариф\" будет хранить основные характеристики"
      ]
    },
    {
      "cell_type": "code",
      "execution_count": 95,
      "metadata": {
        "deletable": false,
        "colab": {
          "base_uri": "https://localhost:8080/",
          "height": 427
        },
        "id": "deHQ_QjveSew",
        "outputId": "d7fe2a17-b2c1-4b2f-86ac-dd028593571d"
      },
      "outputs": [
        {
          "output_type": "execute_result",
          "data": {
            "text/plain": [
              "   month tariff  calls_mean  sessions_mean  messages_mean  minutes_mean  \\\n",
              "0      1  smart       27.68        8513.72          18.24        203.85   \n",
              "1      1  ultra       59.44       13140.68          33.78        428.11   \n",
              "2      2  smart       40.19       11597.05          24.09        298.69   \n",
              "3      2  ultra       41.54       11775.94          21.96        297.12   \n",
              "4      3  smart       54.32       15104.16          31.86        390.05   \n",
              "5      3  ultra       67.68       17535.55          32.30        489.65   \n",
              "6      4  smart       51.31       13462.18          30.74        367.13   \n",
              "7      4  ultra       64.09       16828.13          31.56        458.02   \n",
              "8      5  smart       55.24       15805.18          33.77        387.36   \n",
              "9      5  ultra       72.51       19363.15          37.85        510.33   \n",
              "\n",
              "   calls_std  sessions_std  messages_std  minutes_std  calls_median  \\\n",
              "0      20.81       6444.68         16.20       154.23          20.5   \n",
              "1      41.64       6865.35         30.67       269.76          51.0   \n",
              "2      25.39       6247.35         21.75       190.82          38.5   \n",
              "3      40.97      10644.64         26.77       296.51          25.0   \n",
              "4      25.54       5828.24         26.80       191.89          59.0   \n",
              "5      44.84      10951.79         41.62       333.74          57.0   \n",
              "6      25.70       5698.25         24.54       186.49          52.0   \n",
              "7      36.27       9718.65         37.51       267.68          61.0   \n",
              "8      25.38       5978.23         27.04       186.60          59.0   \n",
              "9      41.08      10046.11         40.31       289.60          75.0   \n",
              "\n",
              "   sessions_median  messages_median  minutes_median  \n",
              "0          7096.18             15.0           162.5  \n",
              "1         14791.37             32.0           382.0  \n",
              "2         12553.71             20.0           258.0  \n",
              "3          7327.12              5.5           168.0  \n",
              "4         15670.25             23.0           409.0  \n",
              "5         17495.18             20.0           403.0  \n",
              "6         14087.65             28.0           368.5  \n",
              "7         16645.78             17.0           453.0  \n",
              "8         16323.94             30.0           433.0  \n",
              "9         18696.43             25.0           519.0  "
            ],
            "text/html": [
              "\n",
              "  <div id=\"df-899e420b-5929-4014-8603-52267d29a37b\">\n",
              "    <div class=\"colab-df-container\">\n",
              "      <div>\n",
              "<style scoped>\n",
              "    .dataframe tbody tr th:only-of-type {\n",
              "        vertical-align: middle;\n",
              "    }\n",
              "\n",
              "    .dataframe tbody tr th {\n",
              "        vertical-align: top;\n",
              "    }\n",
              "\n",
              "    .dataframe thead th {\n",
              "        text-align: right;\n",
              "    }\n",
              "</style>\n",
              "<table border=\"1\" class=\"dataframe\">\n",
              "  <thead>\n",
              "    <tr style=\"text-align: right;\">\n",
              "      <th></th>\n",
              "      <th>month</th>\n",
              "      <th>tariff</th>\n",
              "      <th>calls_mean</th>\n",
              "      <th>sessions_mean</th>\n",
              "      <th>messages_mean</th>\n",
              "      <th>minutes_mean</th>\n",
              "      <th>calls_std</th>\n",
              "      <th>sessions_std</th>\n",
              "      <th>messages_std</th>\n",
              "      <th>minutes_std</th>\n",
              "      <th>calls_median</th>\n",
              "      <th>sessions_median</th>\n",
              "      <th>messages_median</th>\n",
              "      <th>minutes_median</th>\n",
              "    </tr>\n",
              "  </thead>\n",
              "  <tbody>\n",
              "    <tr>\n",
              "      <th>0</th>\n",
              "      <td>1</td>\n",
              "      <td>smart</td>\n",
              "      <td>27.68</td>\n",
              "      <td>8513.72</td>\n",
              "      <td>18.24</td>\n",
              "      <td>203.85</td>\n",
              "      <td>20.81</td>\n",
              "      <td>6444.68</td>\n",
              "      <td>16.20</td>\n",
              "      <td>154.23</td>\n",
              "      <td>20.5</td>\n",
              "      <td>7096.18</td>\n",
              "      <td>15.0</td>\n",
              "      <td>162.5</td>\n",
              "    </tr>\n",
              "    <tr>\n",
              "      <th>1</th>\n",
              "      <td>1</td>\n",
              "      <td>ultra</td>\n",
              "      <td>59.44</td>\n",
              "      <td>13140.68</td>\n",
              "      <td>33.78</td>\n",
              "      <td>428.11</td>\n",
              "      <td>41.64</td>\n",
              "      <td>6865.35</td>\n",
              "      <td>30.67</td>\n",
              "      <td>269.76</td>\n",
              "      <td>51.0</td>\n",
              "      <td>14791.37</td>\n",
              "      <td>32.0</td>\n",
              "      <td>382.0</td>\n",
              "    </tr>\n",
              "    <tr>\n",
              "      <th>2</th>\n",
              "      <td>2</td>\n",
              "      <td>smart</td>\n",
              "      <td>40.19</td>\n",
              "      <td>11597.05</td>\n",
              "      <td>24.09</td>\n",
              "      <td>298.69</td>\n",
              "      <td>25.39</td>\n",
              "      <td>6247.35</td>\n",
              "      <td>21.75</td>\n",
              "      <td>190.82</td>\n",
              "      <td>38.5</td>\n",
              "      <td>12553.71</td>\n",
              "      <td>20.0</td>\n",
              "      <td>258.0</td>\n",
              "    </tr>\n",
              "    <tr>\n",
              "      <th>3</th>\n",
              "      <td>2</td>\n",
              "      <td>ultra</td>\n",
              "      <td>41.54</td>\n",
              "      <td>11775.94</td>\n",
              "      <td>21.96</td>\n",
              "      <td>297.12</td>\n",
              "      <td>40.97</td>\n",
              "      <td>10644.64</td>\n",
              "      <td>26.77</td>\n",
              "      <td>296.51</td>\n",
              "      <td>25.0</td>\n",
              "      <td>7327.12</td>\n",
              "      <td>5.5</td>\n",
              "      <td>168.0</td>\n",
              "    </tr>\n",
              "    <tr>\n",
              "      <th>4</th>\n",
              "      <td>3</td>\n",
              "      <td>smart</td>\n",
              "      <td>54.32</td>\n",
              "      <td>15104.16</td>\n",
              "      <td>31.86</td>\n",
              "      <td>390.05</td>\n",
              "      <td>25.54</td>\n",
              "      <td>5828.24</td>\n",
              "      <td>26.80</td>\n",
              "      <td>191.89</td>\n",
              "      <td>59.0</td>\n",
              "      <td>15670.25</td>\n",
              "      <td>23.0</td>\n",
              "      <td>409.0</td>\n",
              "    </tr>\n",
              "    <tr>\n",
              "      <th>5</th>\n",
              "      <td>3</td>\n",
              "      <td>ultra</td>\n",
              "      <td>67.68</td>\n",
              "      <td>17535.55</td>\n",
              "      <td>32.30</td>\n",
              "      <td>489.65</td>\n",
              "      <td>44.84</td>\n",
              "      <td>10951.79</td>\n",
              "      <td>41.62</td>\n",
              "      <td>333.74</td>\n",
              "      <td>57.0</td>\n",
              "      <td>17495.18</td>\n",
              "      <td>20.0</td>\n",
              "      <td>403.0</td>\n",
              "    </tr>\n",
              "    <tr>\n",
              "      <th>6</th>\n",
              "      <td>4</td>\n",
              "      <td>smart</td>\n",
              "      <td>51.31</td>\n",
              "      <td>13462.18</td>\n",
              "      <td>30.74</td>\n",
              "      <td>367.13</td>\n",
              "      <td>25.70</td>\n",
              "      <td>5698.25</td>\n",
              "      <td>24.54</td>\n",
              "      <td>186.49</td>\n",
              "      <td>52.0</td>\n",
              "      <td>14087.65</td>\n",
              "      <td>28.0</td>\n",
              "      <td>368.5</td>\n",
              "    </tr>\n",
              "    <tr>\n",
              "      <th>7</th>\n",
              "      <td>4</td>\n",
              "      <td>ultra</td>\n",
              "      <td>64.09</td>\n",
              "      <td>16828.13</td>\n",
              "      <td>31.56</td>\n",
              "      <td>458.02</td>\n",
              "      <td>36.27</td>\n",
              "      <td>9718.65</td>\n",
              "      <td>37.51</td>\n",
              "      <td>267.68</td>\n",
              "      <td>61.0</td>\n",
              "      <td>16645.78</td>\n",
              "      <td>17.0</td>\n",
              "      <td>453.0</td>\n",
              "    </tr>\n",
              "    <tr>\n",
              "      <th>8</th>\n",
              "      <td>5</td>\n",
              "      <td>smart</td>\n",
              "      <td>55.24</td>\n",
              "      <td>15805.18</td>\n",
              "      <td>33.77</td>\n",
              "      <td>387.36</td>\n",
              "      <td>25.38</td>\n",
              "      <td>5978.23</td>\n",
              "      <td>27.04</td>\n",
              "      <td>186.60</td>\n",
              "      <td>59.0</td>\n",
              "      <td>16323.94</td>\n",
              "      <td>30.0</td>\n",
              "      <td>433.0</td>\n",
              "    </tr>\n",
              "    <tr>\n",
              "      <th>9</th>\n",
              "      <td>5</td>\n",
              "      <td>ultra</td>\n",
              "      <td>72.51</td>\n",
              "      <td>19363.15</td>\n",
              "      <td>37.85</td>\n",
              "      <td>510.33</td>\n",
              "      <td>41.08</td>\n",
              "      <td>10046.11</td>\n",
              "      <td>40.31</td>\n",
              "      <td>289.60</td>\n",
              "      <td>75.0</td>\n",
              "      <td>18696.43</td>\n",
              "      <td>25.0</td>\n",
              "      <td>519.0</td>\n",
              "    </tr>\n",
              "  </tbody>\n",
              "</table>\n",
              "</div>\n",
              "      <button class=\"colab-df-convert\" onclick=\"convertToInteractive('df-899e420b-5929-4014-8603-52267d29a37b')\"\n",
              "              title=\"Convert this dataframe to an interactive table.\"\n",
              "              style=\"display:none;\">\n",
              "        \n",
              "  <svg xmlns=\"http://www.w3.org/2000/svg\" height=\"24px\"viewBox=\"0 0 24 24\"\n",
              "       width=\"24px\">\n",
              "    <path d=\"M0 0h24v24H0V0z\" fill=\"none\"/>\n",
              "    <path d=\"M18.56 5.44l.94 2.06.94-2.06 2.06-.94-2.06-.94-.94-2.06-.94 2.06-2.06.94zm-11 1L8.5 8.5l.94-2.06 2.06-.94-2.06-.94L8.5 2.5l-.94 2.06-2.06.94zm10 10l.94 2.06.94-2.06 2.06-.94-2.06-.94-.94-2.06-.94 2.06-2.06.94z\"/><path d=\"M17.41 7.96l-1.37-1.37c-.4-.4-.92-.59-1.43-.59-.52 0-1.04.2-1.43.59L10.3 9.45l-7.72 7.72c-.78.78-.78 2.05 0 2.83L4 21.41c.39.39.9.59 1.41.59.51 0 1.02-.2 1.41-.59l7.78-7.78 2.81-2.81c.8-.78.8-2.07 0-2.86zM5.41 20L4 18.59l7.72-7.72 1.47 1.35L5.41 20z\"/>\n",
              "  </svg>\n",
              "      </button>\n",
              "      \n",
              "  <style>\n",
              "    .colab-df-container {\n",
              "      display:flex;\n",
              "      flex-wrap:wrap;\n",
              "      gap: 12px;\n",
              "    }\n",
              "\n",
              "    .colab-df-convert {\n",
              "      background-color: #E8F0FE;\n",
              "      border: none;\n",
              "      border-radius: 50%;\n",
              "      cursor: pointer;\n",
              "      display: none;\n",
              "      fill: #1967D2;\n",
              "      height: 32px;\n",
              "      padding: 0 0 0 0;\n",
              "      width: 32px;\n",
              "    }\n",
              "\n",
              "    .colab-df-convert:hover {\n",
              "      background-color: #E2EBFA;\n",
              "      box-shadow: 0px 1px 2px rgba(60, 64, 67, 0.3), 0px 1px 3px 1px rgba(60, 64, 67, 0.15);\n",
              "      fill: #174EA6;\n",
              "    }\n",
              "\n",
              "    [theme=dark] .colab-df-convert {\n",
              "      background-color: #3B4455;\n",
              "      fill: #D2E3FC;\n",
              "    }\n",
              "\n",
              "    [theme=dark] .colab-df-convert:hover {\n",
              "      background-color: #434B5C;\n",
              "      box-shadow: 0px 1px 3px 1px rgba(0, 0, 0, 0.15);\n",
              "      filter: drop-shadow(0px 1px 2px rgba(0, 0, 0, 0.3));\n",
              "      fill: #FFFFFF;\n",
              "    }\n",
              "  </style>\n",
              "\n",
              "      <script>\n",
              "        const buttonEl =\n",
              "          document.querySelector('#df-899e420b-5929-4014-8603-52267d29a37b button.colab-df-convert');\n",
              "        buttonEl.style.display =\n",
              "          google.colab.kernel.accessAllowed ? 'block' : 'none';\n",
              "\n",
              "        async function convertToInteractive(key) {\n",
              "          const element = document.querySelector('#df-899e420b-5929-4014-8603-52267d29a37b');\n",
              "          const dataTable =\n",
              "            await google.colab.kernel.invokeFunction('convertToInteractive',\n",
              "                                                     [key], {});\n",
              "          if (!dataTable) return;\n",
              "\n",
              "          const docLinkHtml = 'Like what you see? Visit the ' +\n",
              "            '<a target=\"_blank\" href=https://colab.research.google.com/notebooks/data_table.ipynb>data table notebook</a>'\n",
              "            + ' to learn more about interactive tables.';\n",
              "          element.innerHTML = '';\n",
              "          dataTable['output_type'] = 'display_data';\n",
              "          await google.colab.output.renderOutput(dataTable, element);\n",
              "          const docLink = document.createElement('div');\n",
              "          docLink.innerHTML = docLinkHtml;\n",
              "          element.appendChild(docLink);\n",
              "        }\n",
              "      </script>\n",
              "    </div>\n",
              "  </div>\n",
              "  "
            ]
          },
          "metadata": {},
          "execution_count": 95
        }
      ],
      "source": [
        "stats_df = user_behavior.pivot_table(\n",
        "            index=['month', 'tariff'],\\\n",
        "            values=['calls', 'minutes', 'messages', 'mb_used'],\\\n",
        "            aggfunc=['mean', 'std', 'median']\\\n",
        "            ).round(2).reset_index()\n",
        "\n",
        "stats_df.columns=['month', 'tariff', 'calls_mean', 'sessions_mean', 'messages_mean', 'minutes_mean',\n",
        "                                     'calls_std',  'sessions_std', 'messages_std', 'minutes_std', \n",
        "                                     'calls_median', 'sessions_median', 'messages_median',  'minutes_median']\n",
        "\n",
        "stats_df.head(10)"
      ]
    },
    {
      "cell_type": "markdown",
      "metadata": {
        "deletable": false,
        "editable": false,
        "id": "aHC9z_omeSex"
      },
      "source": [
        "Распределение среднего количества звонков по видам тарифов и месяцам"
      ]
    },
    {
      "cell_type": "code",
      "execution_count": 96,
      "metadata": {
        "deletable": false,
        "colab": {
          "base_uri": "https://localhost:8080/",
          "height": 295
        },
        "id": "_U8c-GqJeSex",
        "outputId": "f6440791-819c-4445-8b90-babada40f8a4"
      },
      "outputs": [
        {
          "output_type": "display_data",
          "data": {
            "text/plain": [
              "<Figure size 432x288 with 1 Axes>"
            ],
            "image/png": "[encoded data removed]"
          },
          "metadata": {
            "needs_background": "light"
          }
        }
      ],
      "source": [
        "ax = sns.barplot(x='month',\n",
        "            y='calls_mean',\n",
        "            hue=\"tariff\",\n",
        "            data=stats_df,\n",
        "            palette=['green', 'blue'])\n",
        "\n",
        "ax.set_title('Распределение количества звонков по видам тарифов и месяцам')\n",
        "ax.set(xlabel='Номер месяца', ylabel='Среднее количество звонков');"
      ]
    },
    {
      "cell_type": "markdown",
      "source": [
        "По обоим тарифам видим, что максимальное количесво звонков приходится на декабрь. Меньше всего звонков по тарифу \"Смарт\" совершается в январе, а по тарифу \"Ультра\" в феврале."
      ],
      "metadata": {
        "id": "ai2KeS3JnYqW"
      }
    },
    {
      "cell_type": "markdown",
      "source": [
        "Распределение количества звонков"
      ],
      "metadata": {
        "id": "9Hc76OlKDlMa"
      }
    },
    {
      "cell_type": "code",
      "execution_count": 97,
      "metadata": {
        "deletable": false,
        "colab": {
          "base_uri": "https://localhost:8080/",
          "height": 295
        },
        "id": "W5ULbK2SeSey",
        "outputId": "5df39fbd-1495-4047-8d7d-2e8abda7ea15"
      },
      "outputs": [
        {
          "output_type": "display_data",
          "data": {
            "text/plain": [
              "<Figure size 432x288 with 1 Axes>"
            ],
            "image/png": "[encoded data removed]"
          },
          "metadata": {
            "needs_background": "light"
          }
        }
      ],
      "source": [
        "user_behavior.groupby('tariff')['calls'].plot(kind='hist', bins=35, alpha=0.5)\n",
        "plt.legend(['Smart', 'Ultra'])\n",
        "plt.title('Распределение количества звонков')\n",
        "plt.xlabel('Количество звонков')\n",
        "plt.ylabel('Количество клиентов')\n",
        "plt.show()"
      ]
    },
    {
      "cell_type": "markdown",
      "metadata": {
        "deletable": false,
        "editable": false,
        "id": "HHh07jvEeSey"
      },
      "source": [
        "Распределение средней продолжительности звонков по видам тарифов и месяцам"
      ]
    },
    {
      "cell_type": "code",
      "execution_count": 98,
      "metadata": {
        "deletable": false,
        "colab": {
          "base_uri": "https://localhost:8080/",
          "height": 295
        },
        "id": "gRQD6qhzeSez",
        "outputId": "fd9e6831-9b9f-4911-b35c-71c870aaf5ae"
      },
      "outputs": [
        {
          "output_type": "display_data",
          "data": {
            "text/plain": [
              "<Figure size 432x288 with 1 Axes>"
            ],
            "image/png": "[encoded data removed]"
          },
          "metadata": {
            "needs_background": "light"
          }
        }
      ],
      "source": [
        "ax = sns.barplot(x='month',\n",
        "            y='minutes_mean',\n",
        "            hue=\"tariff\",\n",
        "            data=stats_df,\n",
        "            palette=['green', 'blue'])\n",
        "\n",
        "ax.set_title('Распределение продолжительности звонков по видам тарифов и месяцам')\n",
        "ax.set(xlabel='Номер месяца', ylabel='Средняя продолжительность звонков');"
      ]
    },
    {
      "cell_type": "markdown",
      "source": [
        "Графики количества и продолжительности звонков почти идентичны"
      ],
      "metadata": {
        "id": "Rr5GgOw9tYO3"
      }
    },
    {
      "cell_type": "code",
      "execution_count": 99,
      "metadata": {
        "deletable": false,
        "colab": {
          "base_uri": "https://localhost:8080/",
          "height": 281
        },
        "id": "AwZwVp9teSez",
        "outputId": "7b4314f9-cabf-4d6d-deb0-7c0d0898b8a4"
      },
      "outputs": [
        {
          "output_type": "display_data",
          "data": {
            "text/plain": [
              "<Figure size 432x288 with 1 Axes>"
            ],
            "image/png": "[encoded data removed]"
          },
          "metadata": {
            "needs_background": "light"
          }
        }
      ],
      "source": [
        "user_behavior[user_behavior['tariff'] =='smart']['minutes'].hist(bins=35, alpha=0.5, color='green')\n",
        "user_behavior[user_behavior['tariff'] =='ultra']['minutes'].hist(bins=35, alpha=0.5, color='blue')\n",
        "plt.title('Распределение минут разговора')\n",
        "plt.legend(['Smart', 'Ultra']);"
      ]
    },
    {
      "cell_type": "markdown",
      "metadata": {
        "deletable": false,
        "editable": false,
        "id": "OAeWSBENeSez"
      },
      "source": [
        "Средняя длительность разговоров у абонентов тарифа \"Ультра\" больше, чем у абонентов тарифа Smart. В течение года пользователи обоих тарифов увеличивают среднюю продолжительность своих разговоров. Рост средней длительности разговоров у абонентов тарифа Smart равномерный в течение года. Пользователи тарифа \"Ультра\" не проявляют подобной линейной стабильности. Стоит отметить, что феврале у абонентов обоих тарифных планов наблюдались самые низкие показатели."
      ]
    },
    {
      "cell_type": "markdown",
      "metadata": {
        "deletable": false,
        "editable": false,
        "id": "8kKgevwweSe0"
      },
      "source": [
        "Распределение среднего количества сообщений по видам тарифов и месяцам"
      ]
    },
    {
      "cell_type": "code",
      "execution_count": 100,
      "metadata": {
        "deletable": false,
        "colab": {
          "base_uri": "https://localhost:8080/",
          "height": 295
        },
        "id": "wOiEMMvaeSe0",
        "outputId": "c9353652-3044-400c-9923-46cd52d6355a"
      },
      "outputs": [
        {
          "output_type": "display_data",
          "data": {
            "text/plain": [
              "<Figure size 432x288 with 1 Axes>"
            ],
            "image/png": "[encoded data removed]"
          },
          "metadata": {
            "needs_background": "light"
          }
        }
      ],
      "source": [
        "ax = sns.barplot(x='month',\n",
        "            y='messages_mean',\n",
        "            hue=\"tariff\",\n",
        "            data=stats_df,\n",
        "            palette=['green', 'blue']\n",
        ")\n",
        "\n",
        "ax.set_title('Распределение количества сообщений по видам тарифов и месяцам')\n",
        "ax.set(xlabel='Номер месяца', ylabel='Среднее количество сообщений');"
      ]
    },
    {
      "cell_type": "code",
      "execution_count": 101,
      "metadata": {
        "deletable": false,
        "colab": {
          "base_uri": "https://localhost:8080/",
          "height": 281
        },
        "id": "-bwwKCLkeSe0",
        "outputId": "2c8a1d83-71fb-4e19-9d24-7654fe4eee1e"
      },
      "outputs": [
        {
          "output_type": "display_data",
          "data": {
            "text/plain": [
              "<Figure size 432x288 with 1 Axes>"
            ],
            "image/png": "[encoded data removed]"
          },
          "metadata": {
            "needs_background": "light"
          }
        }
      ],
      "source": [
        "user_behavior[user_behavior['tariff'] =='smart']['messages'].hist(bins=35, alpha=0.5, color='green')\n",
        "user_behavior[user_behavior['tariff'] =='ultra']['messages'].hist(bins=35, alpha=0.5, color='blue')\n",
        "plt.title('Распределение количества сообщений')\n",
        "plt.legend(['Smart', 'Ultra']);"
      ]
    },
    {
      "cell_type": "markdown",
      "metadata": {
        "id": "ifZ3t0cCeSe1"
      },
      "source": [
        "В среднем количество сообщений пользователи тарифа Ultra отправляют больше - почти на 20 сообщений больше, чем пользователи тарифа Smart. Количество сообщений в течение года на обоих тарифах растет. Динамика по отправке сообщений схожа с тенденциями по длительности разговоров: в феврале отмечено наименьшее количество сообщений за год и пользователи тарифа Ultra также проявляют нелинейную положительную динамику."
      ]
    },
    {
      "cell_type": "code",
      "execution_count": 102,
      "metadata": {
        "deletable": false,
        "colab": {
          "base_uri": "https://localhost:8080/",
          "height": 295
        },
        "id": "OtiscskZeSe1",
        "outputId": "ef24c052-a091-47a7-f0e4-e22ab01a1f28"
      },
      "outputs": [
        {
          "output_type": "display_data",
          "data": {
            "text/plain": [
              "<Figure size 432x288 with 1 Axes>"
            ],
            "image/png": "[encoded data removed]"
          },
          "metadata": {
            "needs_background": "light"
          }
        }
      ],
      "source": [
        "ax = sns.barplot(x='month',\n",
        "            y='sessions_mean',\n",
        "            hue=\"tariff\",\n",
        "            data=stats_df,\n",
        "            palette=['green', 'blue']\n",
        ")\n",
        "\n",
        "ax.set_title('Распределение количества потраченного трафика (Мб) по видам тарифов и месяцам')\n",
        "ax.set(xlabel='Номер месяца', ylabel='Среднее количество мегабайт');"
      ]
    },
    {
      "cell_type": "markdown",
      "metadata": {
        "deletable": false,
        "editable": false,
        "id": "ARElLavpeSe2"
      },
      "source": [
        "Сравнение потраченных мегабайт среди пользователей тарифов Smart и Ultra"
      ]
    },
    {
      "cell_type": "code",
      "execution_count": 103,
      "metadata": {
        "deletable": false,
        "colab": {
          "base_uri": "https://localhost:8080/",
          "height": 281
        },
        "id": "Bi5QOjyIeSe2",
        "outputId": "e94d5a41-dfc6-4378-e407-c114076e341b"
      },
      "outputs": [
        {
          "output_type": "display_data",
          "data": {
            "text/plain": [
              "<Figure size 432x288 with 1 Axes>"
            ],
            "image/png": "[encoded data removed]"
          },
          "metadata": {
            "needs_background": "light"
          }
        }
      ],
      "source": [
        "user_behavior[user_behavior['tariff'] =='smart']['mb_used'].hist(bins=35, alpha=0.5, color='green')\n",
        "user_behavior[user_behavior['tariff'] =='ultra']['mb_used'].hist(bins=35, alpha=0.5, color='blue')\n",
        "plt.title('Распределение количества мегабайт')\n",
        "plt.legend(['Smart', 'Ultra']);"
      ]
    },
    {
      "cell_type": "markdown",
      "metadata": {
        "deletable": false,
        "editable": false,
        "id": "vESakgbIeSe3"
      },
      "source": [
        "Меньше всего пользователи использовали интернет в январе, феврале и апреле. Чаще всего абоненты тарифа Smart тратят 15-17 Гб, а абоненты тарифного плана Ultra - 19-21 ГБ."
      ]
    },
    {
      "cell_type": "code",
      "source": [
        "user_behavior[user_behavior['tariff'] =='smart']['total_cost'].hist(bins=35, alpha=0.5, color='green')\n",
        "user_behavior[user_behavior['tariff'] =='ultra']['total_cost'].hist(bins=35, alpha=0.5, color='blue')\n",
        "plt.title('Распределение общей суммы потраченных средств')\n",
        "plt.legend(['Smart', 'Ultra']);"
      ],
      "metadata": {
        "colab": {
          "base_uri": "https://localhost:8080/",
          "height": 281
        },
        "id": "9ctG6Y9lyHil",
        "outputId": "a9789be5-f3ee-45db-e7c2-9179d603539c"
      },
      "execution_count": 104,
      "outputs": [
        {
          "output_type": "display_data",
          "data": {
            "text/plain": [
              "<Figure size 432x288 with 1 Axes>"
            ],
            "image/png": "[encoded data removed]"
          },
          "metadata": {
            "needs_background": "light"
          }
        }
      ]
    },
    {
      "cell_type": "markdown",
      "source": [
        "По графику видно, что на тарифе \"Смарт\" абоненты гораздо реже выходят за пределы тарифного пакета"
      ],
      "metadata": {
        "id": "VEoCYYZFFv9W"
      }
    },
    {
      "cell_type": "markdown",
      "metadata": {
        "deletable": false,
        "editable": false,
        "id": "nMN0_jM0eSe4"
      },
      "source": [
        "# Проверка гипотез"
      ]
    },
    {
      "cell_type": "markdown",
      "metadata": {
        "deletable": false,
        "editable": false,
        "tags": [
          "start_task"
        ],
        "id": "SHMyvuoFeSe4"
      },
      "source": [
        "Проверка гипотезы: средняя выручка пользователей тарифов «Ультра» и «Смарт» различаются;\n",
        "\n",
        "```\n",
        "H_0: Выручка (total_cost) пользователей \"Ультра\" = выручка (total_cost) пользователей \"Смарт\"`\n",
        "H_a: Выручка (total_cost) пользователей \"Ультра\" ≠ выручка (total_cost) пользователей \"Смарт\"`\n",
        "alpha = 0.05\n",
        "```"
      ]
    },
    {
      "cell_type": "code",
      "execution_count": 106,
      "metadata": {
        "deletable": false,
        "colab": {
          "base_uri": "https://localhost:8080/"
        },
        "id": "BjZcVsgReSe5",
        "outputId": "7a1f606f-c85e-43e8-ba5d-363176bcaacd"
      },
      "outputs": [
        {
          "output_type": "stream",
          "name": "stdout",
          "text": [
            "4.2606313931076085e-250\n",
            "Отвергаем нулевую гипотезу\n"
          ]
        }
      ],
      "source": [
        "results = st.ttest_ind(user_behavior[user_behavior['tariff'] == 'smart']['total_cost'], user_behavior[user_behavior['tariff'] == 'ultra']['total_cost'], equal_var=False)\n",
        "\n",
        "alpha = 0.05\n",
        "\n",
        "print(results.pvalue)\n",
        "\n",
        "if results.pvalue < alpha:\n",
        "    print('Отвергаем нулевую гипотезу')\n",
        "else:\n",
        "    print('Не получилось отвергнуть нулевую гипотезу')"
      ]
    },
    {
      "cell_type": "markdown",
      "metadata": {
        "deletable": false,
        "editable": false,
        "tags": [
          "start_task"
        ],
        "id": "lR663G2JeSe6"
      },
      "source": [
        "Проверка гипотезы: пользователи из Москвы приносят больше выручки, чем пользователи из других городов;\n",
        "\n",
        "```\n",
        "H_0: Выручка (total_cost) пользователей из Москвы = выручка (total_cost) пользователей не из Москвы`\n",
        "H_1: Выручка (total_cost) пользователей из Москвы ≠ выручка (total_cost) пользователей не из Москвы`\n",
        "alpha = 0.05\n",
        "```"
      ]
    },
    {
      "cell_type": "code",
      "execution_count": 107,
      "metadata": {
        "deletable": false,
        "colab": {
          "base_uri": "https://localhost:8080/"
        },
        "id": "eonBVZT4eSe6",
        "outputId": "ab202b47-bd9b-4aad-da3b-9b45ea8efe0b"
      },
      "outputs": [
        {
          "output_type": "stream",
          "name": "stdout",
          "text": [
            "0.5257376663729298\n",
            "Не получилось отвергнуть нулевую гипотезу\n"
          ]
        }
      ],
      "source": [
        "results = st.ttest_ind(user_behavior[user_behavior['city'] == 'Москва']['total_cost'], user_behavior[user_behavior['city'] != 'Москва']['total_cost'], equal_var=False)\n",
        "\n",
        "alpha = 0.05\n",
        "print(results.pvalue) \n",
        "\n",
        "if results.pvalue < alpha:\n",
        "    print('Отвергаем нулевую гипотезу')\n",
        "else:\n",
        "    print('Не получилось отвергнуть нулевую гипотезу')"
      ]
    },
    {
      "cell_type": "markdown",
      "source": [
        "По результатам проверки гипотез, подтвердили гипотезу о том, что средняя выручка пользователей тарифов «Ультра» и «Смарт» различаются. А гипотеза о том, что пользователи из Москвы приносят больше выручки, чем пользователи из других городов не подтвердилась."
      ],
      "metadata": {
        "id": "7CvyBj70FKfp"
      }
    },
    {
      "cell_type": "markdown",
      "source": [
        "# Общий вывод\n"
      ],
      "metadata": {
        "id": "bWIpIyVLP8KQ"
      }
    },
    {
      "cell_type": "markdown",
      "source": [
        "В ходе работы проанализировали два тарифных плана, и выяснили, что среди абонентов более популярен тариф \"Смарт\". Также тариф \"Смарт\" приносит больше прибыли. Большинство абонентов укладываются в лимиты своего тарифного плана, но некоторые абоненты оплачивают улуги сверх лимита тарифа, и на тарифе \"Смарт\" это происходит заметно чаще, чем на тарифе \"Ультра\". В целом, по обоим тарифам наблюдается тенденция увеличения использования звонков, смс и интернета. В ходе исследования подтвердили гипотезу о том, что средняя выручка пользователей тарифов «Ультра» и «Смарт» различаются. Гипотезу о том, что пользователи из Москвы приносят больше выручки, чем пользователи из других городов, подтвердить не удалось."
      ],
      "metadata": {
        "id": "dU7yGafqQcS-"
      }
    }
  ],
  "metadata": {
    "ExecuteTimeLog": [
      {
        "duration": 395,
        "start_time": "2022-11-29T09:13:31.845Z"
      },
      {
        "duration": 584,
        "start_time": "2022-11-29T09:14:04.756Z"
      },
      {
        "duration": 15,
        "start_time": "2022-11-29T09:14:17.590Z"
      },
      {
        "duration": 729,
        "start_time": "2022-11-29T09:15:02.741Z"
      },
      {
        "duration": 142,
        "start_time": "2022-11-29T09:15:08.992Z"
      },
      {
        "duration": 454,
        "start_time": "2022-11-29T09:16:07.177Z"
      },
      {
        "duration": 10,
        "start_time": "2022-11-29T09:16:16.779Z"
      },
      {
        "duration": 20,
        "start_time": "2022-11-29T09:16:31.876Z"
      },
      {
        "duration": 26,
        "start_time": "2022-11-29T09:16:37.118Z"
      },
      {
        "duration": 173,
        "start_time": "2022-11-29T09:17:04.639Z"
      },
      {
        "duration": 172,
        "start_time": "2022-11-29T09:17:07.550Z"
      },
      {
        "duration": 162,
        "start_time": "2022-11-29T09:17:51.146Z"
      },
      {
        "duration": 7,
        "start_time": "2022-11-29T09:17:59.210Z"
      },
      {
        "duration": 17,
        "start_time": "2022-11-29T09:18:08.563Z"
      },
      {
        "duration": 68,
        "start_time": "2022-11-29T09:18:51.395Z"
      },
      {
        "duration": 8,
        "start_time": "2022-11-29T09:18:57.045Z"
      },
      {
        "duration": 15,
        "start_time": "2022-11-29T09:19:07.440Z"
      },
      {
        "duration": 83,
        "start_time": "2022-11-29T09:19:44.508Z"
      },
      {
        "duration": 10,
        "start_time": "2022-11-29T09:19:51.989Z"
      },
      {
        "duration": 11,
        "start_time": "2022-11-29T09:22:02.747Z"
      },
      {
        "duration": 69,
        "start_time": "2022-11-29T09:33:50.536Z"
      },
      {
        "duration": 56,
        "start_time": "2022-11-29T09:35:23.048Z"
      },
      {
        "duration": 80,
        "start_time": "2022-11-29T09:38:06.330Z"
      },
      {
        "duration": 8,
        "start_time": "2022-11-29T09:42:55.887Z"
      },
      {
        "duration": 10,
        "start_time": "2022-11-29T09:43:16.784Z"
      },
      {
        "duration": 6,
        "start_time": "2022-11-29T09:44:36.392Z"
      },
      {
        "duration": 5,
        "start_time": "2022-11-29T09:46:51.676Z"
      },
      {
        "duration": 28,
        "start_time": "2022-11-29T09:48:07.471Z"
      },
      {
        "duration": 13,
        "start_time": "2022-11-29T09:48:31.590Z"
      },
      {
        "duration": 14,
        "start_time": "2022-11-29T10:07:19.486Z"
      },
      {
        "duration": 23,
        "start_time": "2022-11-29T10:07:30.590Z"
      },
      {
        "duration": 8,
        "start_time": "2022-11-29T10:07:32.299Z"
      },
      {
        "duration": 18,
        "start_time": "2022-11-29T10:07:43.571Z"
      },
      {
        "duration": 17,
        "start_time": "2022-11-29T10:07:46.389Z"
      },
      {
        "duration": 3,
        "start_time": "2022-11-29T10:21:50.612Z"
      },
      {
        "duration": 166,
        "start_time": "2022-11-29T10:21:50.620Z"
      },
      {
        "duration": 8,
        "start_time": "2022-11-29T10:21:50.789Z"
      },
      {
        "duration": 25,
        "start_time": "2022-11-29T10:21:50.799Z"
      },
      {
        "duration": 189,
        "start_time": "2022-11-29T10:21:50.826Z"
      },
      {
        "duration": 127,
        "start_time": "2022-11-29T10:21:51.017Z"
      },
      {
        "duration": 9,
        "start_time": "2022-11-29T10:21:51.146Z"
      },
      {
        "duration": 31,
        "start_time": "2022-11-29T10:21:51.156Z"
      },
      {
        "duration": 163,
        "start_time": "2022-11-29T10:21:51.188Z"
      },
      {
        "duration": 93,
        "start_time": "2022-11-29T10:21:51.352Z"
      },
      {
        "duration": 10,
        "start_time": "2022-11-29T10:21:51.448Z"
      },
      {
        "duration": 34,
        "start_time": "2022-11-29T10:21:51.459Z"
      },
      {
        "duration": 17,
        "start_time": "2022-11-29T10:21:51.495Z"
      },
      {
        "duration": 13,
        "start_time": "2022-11-29T10:21:51.514Z"
      },
      {
        "duration": 18,
        "start_time": "2022-11-29T10:21:51.530Z"
      },
      {
        "duration": 43,
        "start_time": "2022-11-29T10:21:51.550Z"
      },
      {
        "duration": 14,
        "start_time": "2022-11-29T10:21:51.595Z"
      },
      {
        "duration": 21,
        "start_time": "2022-11-29T10:21:51.611Z"
      },
      {
        "duration": 77,
        "start_time": "2022-11-29T10:21:51.633Z"
      },
      {
        "duration": 5,
        "start_time": "2022-11-29T10:21:51.711Z"
      },
      {
        "duration": 11,
        "start_time": "2022-11-29T10:21:51.718Z"
      },
      {
        "duration": 28,
        "start_time": "2022-11-29T10:21:51.731Z"
      },
      {
        "duration": 27,
        "start_time": "2022-11-29T10:21:51.760Z"
      },
      {
        "duration": 20,
        "start_time": "2022-11-29T10:21:51.789Z"
      },
      {
        "duration": 3,
        "start_time": "2022-11-29T10:21:51.810Z"
      },
      {
        "duration": 8,
        "start_time": "2022-11-29T10:21:51.815Z"
      },
      {
        "duration": 6,
        "start_time": "2022-11-29T10:21:51.824Z"
      },
      {
        "duration": 6,
        "start_time": "2022-11-29T10:21:51.832Z"
      },
      {
        "duration": 13,
        "start_time": "2022-11-29T10:21:51.841Z"
      },
      {
        "duration": 22,
        "start_time": "2022-11-29T10:21:51.856Z"
      },
      {
        "duration": 11,
        "start_time": "2022-11-29T10:21:51.880Z"
      },
      {
        "duration": 11,
        "start_time": "2022-11-29T10:21:51.892Z"
      },
      {
        "duration": 18,
        "start_time": "2022-11-29T10:21:51.905Z"
      },
      {
        "duration": 16,
        "start_time": "2022-11-29T10:21:51.925Z"
      },
      {
        "duration": 0,
        "start_time": "2022-11-29T10:21:51.942Z"
      },
      {
        "duration": 0,
        "start_time": "2022-11-29T10:21:51.944Z"
      },
      {
        "duration": 0,
        "start_time": "2022-11-29T10:21:51.945Z"
      },
      {
        "duration": 0,
        "start_time": "2022-11-29T10:21:51.945Z"
      },
      {
        "duration": 0,
        "start_time": "2022-11-29T10:21:51.946Z"
      },
      {
        "duration": 0,
        "start_time": "2022-11-29T10:21:51.947Z"
      },
      {
        "duration": 0,
        "start_time": "2022-11-29T10:21:51.948Z"
      },
      {
        "duration": 0,
        "start_time": "2022-11-29T10:21:51.949Z"
      },
      {
        "duration": 0,
        "start_time": "2022-11-29T10:21:51.950Z"
      },
      {
        "duration": 0,
        "start_time": "2022-11-29T10:21:51.951Z"
      },
      {
        "duration": 0,
        "start_time": "2022-11-29T10:21:51.952Z"
      },
      {
        "duration": 0,
        "start_time": "2022-11-29T10:21:51.953Z"
      },
      {
        "duration": 0,
        "start_time": "2022-11-29T10:21:51.954Z"
      },
      {
        "duration": 0,
        "start_time": "2022-11-29T10:21:51.955Z"
      },
      {
        "duration": 0,
        "start_time": "2022-11-29T10:21:51.956Z"
      },
      {
        "duration": 0,
        "start_time": "2022-11-29T10:21:51.957Z"
      },
      {
        "duration": 0,
        "start_time": "2022-11-29T10:21:51.958Z"
      },
      {
        "duration": 0,
        "start_time": "2022-11-29T10:21:51.978Z"
      },
      {
        "duration": 0,
        "start_time": "2022-11-29T10:21:51.979Z"
      },
      {
        "duration": 0,
        "start_time": "2022-11-29T10:21:51.980Z"
      },
      {
        "duration": 11,
        "start_time": "2022-11-29T10:33:48.916Z"
      },
      {
        "duration": 26,
        "start_time": "2022-11-29T10:34:42.560Z"
      },
      {
        "duration": 9,
        "start_time": "2022-11-29T10:34:54.273Z"
      },
      {
        "duration": 29,
        "start_time": "2022-11-29T10:45:06.615Z"
      },
      {
        "duration": 8,
        "start_time": "2022-11-29T10:57:22.345Z"
      },
      {
        "duration": 17,
        "start_time": "2022-11-29T11:00:34.814Z"
      },
      {
        "duration": 8,
        "start_time": "2022-11-29T11:00:53.182Z"
      },
      {
        "duration": 18,
        "start_time": "2022-11-29T11:08:53.649Z"
      },
      {
        "duration": 7,
        "start_time": "2022-11-29T11:08:54.802Z"
      },
      {
        "duration": 5,
        "start_time": "2022-11-29T11:10:16.127Z"
      },
      {
        "duration": 33,
        "start_time": "2022-11-29T11:10:23.183Z"
      },
      {
        "duration": 8,
        "start_time": "2022-11-29T11:10:44.463Z"
      },
      {
        "duration": 6,
        "start_time": "2022-11-29T11:10:50.359Z"
      },
      {
        "duration": 4,
        "start_time": "2022-11-29T11:10:54.249Z"
      },
      {
        "duration": 9,
        "start_time": "2022-11-29T11:11:04.402Z"
      },
      {
        "duration": 9,
        "start_time": "2022-11-29T11:11:15.881Z"
      },
      {
        "duration": 5,
        "start_time": "2022-11-29T11:11:36.769Z"
      },
      {
        "duration": 6,
        "start_time": "2022-11-29T11:11:45.827Z"
      },
      {
        "duration": 5,
        "start_time": "2022-11-29T11:11:49.622Z"
      },
      {
        "duration": 62,
        "start_time": "2022-11-29T11:12:03.675Z"
      },
      {
        "duration": 774,
        "start_time": "2022-11-29T11:12:16.991Z"
      },
      {
        "duration": 246,
        "start_time": "2022-11-29T11:12:29.860Z"
      },
      {
        "duration": 302,
        "start_time": "2022-11-29T11:12:36.468Z"
      },
      {
        "duration": 260,
        "start_time": "2022-11-29T11:12:43.943Z"
      },
      {
        "duration": 241,
        "start_time": "2022-11-29T11:13:10.947Z"
      },
      {
        "duration": 268,
        "start_time": "2022-11-29T11:13:16.987Z"
      },
      {
        "duration": 292,
        "start_time": "2022-11-29T11:14:14.317Z"
      },
      {
        "duration": 240,
        "start_time": "2022-11-29T11:14:20.146Z"
      },
      {
        "duration": 2,
        "start_time": "2022-11-29T11:22:22.347Z"
      },
      {
        "duration": 36,
        "start_time": "2022-11-29T11:22:23.361Z"
      },
      {
        "duration": 11,
        "start_time": "2022-11-29T11:22:34.720Z"
      },
      {
        "duration": 5,
        "start_time": "2022-11-29T11:22:43.724Z"
      },
      {
        "duration": 10,
        "start_time": "2022-11-29T11:26:40.716Z"
      },
      {
        "duration": 9,
        "start_time": "2022-11-29T11:26:51.812Z"
      },
      {
        "duration": 66,
        "start_time": "2022-11-29T11:29:49.476Z"
      },
      {
        "duration": 9,
        "start_time": "2022-11-29T11:30:15.479Z"
      }
    ],
    "kernelspec": {
      "display_name": "Python 3 (ipykernel)",
      "language": "python",
      "name": "python3"
    },
    "language_info": {
      "codemirror_mode": {
        "name": "ipython",
        "version": 3
      },
      "file_extension": ".py",
      "mimetype": "text/x-python",
      "name": "python",
      "nbconvert_exporter": "python",
      "pygments_lexer": "ipython3",
      "version": "3.9.5"
    },
    "toc": {
      "base_numbering": 1,
      "nav_menu": {},
      "number_sections": true,
      "sideBar": true,
      "skip_h1_title": true,
      "title_cell": "Table of Contents",
      "title_sidebar": "Contents",
      "toc_cell": false,
      "toc_position": {},
      "toc_section_display": true,
      "toc_window_display": false
    },
    "colab": {
      "provenance": [],
      "include_colab_link": true
    }
  },
  "nbformat": 4,
  "nbformat_minor": 0
}