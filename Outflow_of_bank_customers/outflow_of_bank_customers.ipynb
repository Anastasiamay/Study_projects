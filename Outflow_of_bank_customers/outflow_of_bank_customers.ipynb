{
  "cells": [
    {
      "cell_type": "markdown",
      "metadata": {
        "id": "enpW-4DjLqDt"
      },
      "source": [
        "# Проект: Анализ оттока клиентов банка"
      ]
    },
    {
      "cell_type": "markdown",
      "metadata": {
        "id": "qtwPYlHHLqDu"
      },
      "source": [
        "**Описание проекта**: В банке повысился отток клиентов, необходимо принять меры. Ранее в банке уже проводили исследование оттока клиентов, но клиентская база поменялась и прошлые решения не оказывают эффекта. Нужно провести новое исследование, результаты которого помогут снизить отток клиентов.\n",
        "\n",
        "**Цель**: Выделить сегменты клиентов, склонных уходить из банка; дать рекомендации по снижению оттока\n",
        "\n",
        "**Описание данных**:\n",
        "\n",
        "- `USERID` — идентификатор пользователя,\n",
        "- `score` — баллы кредитного скоринга,\n",
        "- `city` — город,\n",
        "- `gender` — пол,\n",
        "- `Age` — возраст,\n",
        "- `equity`  — количество баллов собственности\n",
        "- `balance` — баланс на счёте,\n",
        "- `products` — количество продуктов, которыми пользуется клиент,\n",
        "- `credit_card` — есть ли кредитная карта,\n",
        "- `last_activity` — активный клиент,\n",
        "- `EST_SALARY` — заработная плата клиента,\n",
        "- `churn` — ушёл или нет."
      ]
    },
    {
      "cell_type": "markdown",
      "metadata": {
        "id": "TfWeMrA-LqDv"
      },
      "source": [
        "**Задачи**:\n",
        "1. Обзор и подготовка данных:\n",
        "* Подключение нужных библиотек, загрузка датасета\n",
        "* Изучение общей информации (соответствие типов данных, анализ пропусков, дубликатов)\n",
        "* Изучение ошибок и аномалий\n",
        "* Подготовка данных (замена типов данных, удаление дубликатов, кодирование категориальных признаков)\n",
        "2. Исследовательский анализ данных:\n",
        "* Визуализация и анализ распределения признаков\n",
        "* Анализ портретов клиентов в разрезе оттока\n",
        "* Корреляционный анализ факта оттока с другими признаками\n",
        "3. Проверка статистических гипотез\n",
        "* Определение нулевой и альтернативной гипотезы\n",
        "* Обоснование выбора статистического теста\n",
        "* Проверка статистической значимости\n",
        "4. Промежуточные выводы\n",
        "* Выводы по результатам исследовательского анализа данных, проверенных гипотез\n",
        "* Определение признаков, влияющих на отток\n",
        "* Определение интервалов, включающих наибольший процент оттока клиентов\n",
        "5. Сегментация клиентов\n",
        "* Выделение сегментов на основе признаков, влияющих на отток и интервалов с наибольшим оттоком клиентов\n",
        "* Приоритезация сегментов клиентов\n",
        "6. Выводы и рекомендации\n",
        "* Выводы, полученные в ходе работы\n",
        "* Рекомендации по снижению оттока клиентов\n",
        "7. Подготовка презентации и дашборда\n",
        "* Презентация в формате pdf\n",
        "* Ссылка на дашборд в tableau"
      ]
    },
    {
      "cell_type": "markdown",
      "metadata": {
        "id": "tbX87Vg2LqDx"
      },
      "source": [
        "**Материалы:**\n",
        "\n",
        "[Презентация](https://drive.google.com/file/d/1GDJ0Tjb8AXrfS_RZxJk4q0VRiN83vp_m/view?usp=share_link)\n",
        "\n",
        "[Дашборд](https://public.tableau.com/app/profile/anastasia.mayorova/viz/Bank_16819791262390/Dashboard1)"
      ]
    },
    {
      "cell_type": "markdown",
      "metadata": {
        "id": "DqNTeenjLqD0"
      },
      "source": [
        "## Обзор и подготовка данных"
      ]
    },
    {
      "cell_type": "code",
      "execution_count": 1,
      "metadata": {
        "id": "PVO1zUn_LqD1"
      },
      "outputs": [],
      "source": [
        "import pandas as pd\n",
        "import numpy as np\n",
        "import seaborn as sns\n",
        "import matplotlib.pyplot as plt\n",
        "from scipy import stats as st\n",
        "import warnings\n",
        "warnings.filterwarnings(\"ignore\")\n",
        "sns.set_style('darkgrid')\n",
        "sns.set_palette('tab10', n_colors=10)\n",
        "pd.options.display.float_format ='{:,.3f}'.format"
      ]
    },
    {
      "cell_type": "code",
      "source": [
        "!gdown --id 1LYbLGzeIhd3AZQcQ30ukjjlO4eE45rEx\n",
        "# загрузка датасета\n",
        "df = pd.read_csv('bank_scrooge.csv', sep=',')"
      ],
      "metadata": {
        "colab": {
          "base_uri": "https://localhost:8080/"
        },
        "id": "y46GVckdbkEL",
        "outputId": "e2b35df0-9c61-4687-b981-006bfa938d10"
      },
      "execution_count": 2,
      "outputs": [
        {
          "output_type": "stream",
          "name": "stdout",
          "text": [
            "/usr/local/lib/python3.10/dist-packages/gdown/cli.py:121: FutureWarning: Option `--id` was deprecated in version 4.3.1 and will be removed in 5.0. You don't need to pass it anymore to use a file ID.\n",
            "  warnings.warn(\n",
            "Downloading...\n",
            "From: https://drive.google.com/uc?id=1LYbLGzeIhd3AZQcQ30ukjjlO4eE45rEx\n",
            "To: /content/bank_scrooge.csv\n",
            "100% 666k/666k [00:00<00:00, 6.69MB/s]\n"
          ]
        }
      ]
    },
    {
      "cell_type": "code",
      "execution_count": 3,
      "metadata": {
        "id": "7xOiYRc6LqD6"
      },
      "outputs": [],
      "source": [
        "# функция для обзора данных\n",
        "def data_info(data):\n",
        "    data.columns = data.columns.str.lower()\n",
        "    display(data.head())\n",
        "    display(data.info())\n",
        "    display(data.describe(include='all'))\n",
        "    print(f'Количество дубликатов: {data.duplicated().sum()}')\n",
        "    print(f'Количество пропусков: \\n{data.isna().sum()}')"
      ]
    },
    {
      "cell_type": "code",
      "execution_count": 4,
      "metadata": {
        "id": "_8EoV9dNLqD7",
        "outputId": "f7d3bc19-9713-4b8f-eeeb-ee07f3b48611",
        "colab": {
          "base_uri": "https://localhost:8080/",
          "height": 1000
        }
      },
      "outputs": [
        {
          "output_type": "display_data",
          "data": {
            "text/plain": [
              "   userid   score       city gender    age  equity       balance  products  \\\n",
              "0  183012 850.000    Рыбинск      Ж 25.000       1    59,214.820         2   \n",
              "1  146556 861.000    Рыбинск      Ж 37.000       5   850,594.330         3   \n",
              "2  120722 892.000    Рыбинск      Ж 30.000       0           NaN         1   \n",
              "3  225363 866.000  Ярославль      Ж 51.000       5 1,524,746.260         2   \n",
              "4  157978 730.000  Ярославль      М 34.000       5       174.000         1   \n",
              "\n",
              "   credit_card  last_activity  est_salary  churn  \n",
              "0            0              1  75,719.140      1  \n",
              "1            1              0  86,621.770      0  \n",
              "2            1              1 107,683.340      0  \n",
              "3            0              1 174,423.530      1  \n",
              "4            1              0  67,353.160      1  "
            ],
            "text/html": [
              "\n",
              "  <div id=\"df-343b94e2-479f-47a8-85a2-e18e0f6cde9d\">\n",
              "    <div class=\"colab-df-container\">\n",
              "      <div>\n",
              "<style scoped>\n",
              "    .dataframe tbody tr th:only-of-type {\n",
              "        vertical-align: middle;\n",
              "    }\n",
              "\n",
              "    .dataframe tbody tr th {\n",
              "        vertical-align: top;\n",
              "    }\n",
              "\n",
              "    .dataframe thead th {\n",
              "        text-align: right;\n",
              "    }\n",
              "</style>\n",
              "<table border=\"1\" class=\"dataframe\">\n",
              "  <thead>\n",
              "    <tr style=\"text-align: right;\">\n",
              "      <th></th>\n",
              "      <th>userid</th>\n",
              "      <th>score</th>\n",
              "      <th>city</th>\n",
              "      <th>gender</th>\n",
              "      <th>age</th>\n",
              "      <th>equity</th>\n",
              "      <th>balance</th>\n",
              "      <th>products</th>\n",
              "      <th>credit_card</th>\n",
              "      <th>last_activity</th>\n",
              "      <th>est_salary</th>\n",
              "      <th>churn</th>\n",
              "    </tr>\n",
              "  </thead>\n",
              "  <tbody>\n",
              "    <tr>\n",
              "      <th>0</th>\n",
              "      <td>183012</td>\n",
              "      <td>850.000</td>\n",
              "      <td>Рыбинск</td>\n",
              "      <td>Ж</td>\n",
              "      <td>25.000</td>\n",
              "      <td>1</td>\n",
              "      <td>59,214.820</td>\n",
              "      <td>2</td>\n",
              "      <td>0</td>\n",
              "      <td>1</td>\n",
              "      <td>75,719.140</td>\n",
              "      <td>1</td>\n",
              "    </tr>\n",
              "    <tr>\n",
              "      <th>1</th>\n",
              "      <td>146556</td>\n",
              "      <td>861.000</td>\n",
              "      <td>Рыбинск</td>\n",
              "      <td>Ж</td>\n",
              "      <td>37.000</td>\n",
              "      <td>5</td>\n",
              "      <td>850,594.330</td>\n",
              "      <td>3</td>\n",
              "      <td>1</td>\n",
              "      <td>0</td>\n",
              "      <td>86,621.770</td>\n",
              "      <td>0</td>\n",
              "    </tr>\n",
              "    <tr>\n",
              "      <th>2</th>\n",
              "      <td>120722</td>\n",
              "      <td>892.000</td>\n",
              "      <td>Рыбинск</td>\n",
              "      <td>Ж</td>\n",
              "      <td>30.000</td>\n",
              "      <td>0</td>\n",
              "      <td>NaN</td>\n",
              "      <td>1</td>\n",
              "      <td>1</td>\n",
              "      <td>1</td>\n",
              "      <td>107,683.340</td>\n",
              "      <td>0</td>\n",
              "    </tr>\n",
              "    <tr>\n",
              "      <th>3</th>\n",
              "      <td>225363</td>\n",
              "      <td>866.000</td>\n",
              "      <td>Ярославль</td>\n",
              "      <td>Ж</td>\n",
              "      <td>51.000</td>\n",
              "      <td>5</td>\n",
              "      <td>1,524,746.260</td>\n",
              "      <td>2</td>\n",
              "      <td>0</td>\n",
              "      <td>1</td>\n",
              "      <td>174,423.530</td>\n",
              "      <td>1</td>\n",
              "    </tr>\n",
              "    <tr>\n",
              "      <th>4</th>\n",
              "      <td>157978</td>\n",
              "      <td>730.000</td>\n",
              "      <td>Ярославль</td>\n",
              "      <td>М</td>\n",
              "      <td>34.000</td>\n",
              "      <td>5</td>\n",
              "      <td>174.000</td>\n",
              "      <td>1</td>\n",
              "      <td>1</td>\n",
              "      <td>0</td>\n",
              "      <td>67,353.160</td>\n",
              "      <td>1</td>\n",
              "    </tr>\n",
              "  </tbody>\n",
              "</table>\n",
              "</div>\n",
              "      <button class=\"colab-df-convert\" onclick=\"convertToInteractive('df-343b94e2-479f-47a8-85a2-e18e0f6cde9d')\"\n",
              "              title=\"Convert this dataframe to an interactive table.\"\n",
              "              style=\"display:none;\">\n",
              "        \n",
              "  <svg xmlns=\"http://www.w3.org/2000/svg\" height=\"24px\"viewBox=\"0 0 24 24\"\n",
              "       width=\"24px\">\n",
              "    <path d=\"M0 0h24v24H0V0z\" fill=\"none\"/>\n",
              "    <path d=\"M18.56 5.44l.94 2.06.94-2.06 2.06-.94-2.06-.94-.94-2.06-.94 2.06-2.06.94zm-11 1L8.5 8.5l.94-2.06 2.06-.94-2.06-.94L8.5 2.5l-.94 2.06-2.06.94zm10 10l.94 2.06.94-2.06 2.06-.94-2.06-.94-.94-2.06-.94 2.06-2.06.94z\"/><path d=\"M17.41 7.96l-1.37-1.37c-.4-.4-.92-.59-1.43-.59-.52 0-1.04.2-1.43.59L10.3 9.45l-7.72 7.72c-.78.78-.78 2.05 0 2.83L4 21.41c.39.39.9.59 1.41.59.51 0 1.02-.2 1.41-.59l7.78-7.78 2.81-2.81c.8-.78.8-2.07 0-2.86zM5.41 20L4 18.59l7.72-7.72 1.47 1.35L5.41 20z\"/>\n",
              "  </svg>\n",
              "      </button>\n",
              "      \n",
              "  <style>\n",
              "    .colab-df-container {\n",
              "      display:flex;\n",
              "      flex-wrap:wrap;\n",
              "      gap: 12px;\n",
              "    }\n",
              "\n",
              "    .colab-df-convert {\n",
              "      background-color: #E8F0FE;\n",
              "      border: none;\n",
              "      border-radius: 50%;\n",
              "      cursor: pointer;\n",
              "      display: none;\n",
              "      fill: #1967D2;\n",
              "      height: 32px;\n",
              "      padding: 0 0 0 0;\n",
              "      width: 32px;\n",
              "    }\n",
              "\n",
              "    .colab-df-convert:hover {\n",
              "      background-color: #E2EBFA;\n",
              "      box-shadow: 0px 1px 2px rgba(60, 64, 67, 0.3), 0px 1px 3px 1px rgba(60, 64, 67, 0.15);\n",
              "      fill: #174EA6;\n",
              "    }\n",
              "\n",
              "    [theme=dark] .colab-df-convert {\n",
              "      background-color: #3B4455;\n",
              "      fill: #D2E3FC;\n",
              "    }\n",
              "\n",
              "    [theme=dark] .colab-df-convert:hover {\n",
              "      background-color: #434B5C;\n",
              "      box-shadow: 0px 1px 3px 1px rgba(0, 0, 0, 0.15);\n",
              "      filter: drop-shadow(0px 1px 2px rgba(0, 0, 0, 0.3));\n",
              "      fill: #FFFFFF;\n",
              "    }\n",
              "  </style>\n",
              "\n",
              "      <script>\n",
              "        const buttonEl =\n",
              "          document.querySelector('#df-343b94e2-479f-47a8-85a2-e18e0f6cde9d button.colab-df-convert');\n",
              "        buttonEl.style.display =\n",
              "          google.colab.kernel.accessAllowed ? 'block' : 'none';\n",
              "\n",
              "        async function convertToInteractive(key) {\n",
              "          const element = document.querySelector('#df-343b94e2-479f-47a8-85a2-e18e0f6cde9d');\n",
              "          const dataTable =\n",
              "            await google.colab.kernel.invokeFunction('convertToInteractive',\n",
              "                                                     [key], {});\n",
              "          if (!dataTable) return;\n",
              "\n",
              "          const docLinkHtml = 'Like what you see? Visit the ' +\n",
              "            '<a target=\"_blank\" href=https://colab.research.google.com/notebooks/data_table.ipynb>data table notebook</a>'\n",
              "            + ' to learn more about interactive tables.';\n",
              "          element.innerHTML = '';\n",
              "          dataTable['output_type'] = 'display_data';\n",
              "          await google.colab.output.renderOutput(dataTable, element);\n",
              "          const docLink = document.createElement('div');\n",
              "          docLink.innerHTML = docLinkHtml;\n",
              "          element.appendChild(docLink);\n",
              "        }\n",
              "      </script>\n",
              "    </div>\n",
              "  </div>\n",
              "  "
            ]
          },
          "metadata": {}
        },
        {
          "output_type": "stream",
          "name": "stdout",
          "text": [
            "<class 'pandas.core.frame.DataFrame'>\n",
            "RangeIndex: 10000 entries, 0 to 9999\n",
            "Data columns (total 12 columns):\n",
            " #   Column         Non-Null Count  Dtype  \n",
            "---  ------         --------------  -----  \n",
            " 0   userid         10000 non-null  int64  \n",
            " 1   score          10000 non-null  float64\n",
            " 2   city           10000 non-null  object \n",
            " 3   gender         10000 non-null  object \n",
            " 4   age            9974 non-null   float64\n",
            " 5   equity         10000 non-null  int64  \n",
            " 6   balance        7705 non-null   float64\n",
            " 7   products       10000 non-null  int64  \n",
            " 8   credit_card    10000 non-null  int64  \n",
            " 9   last_activity  10000 non-null  int64  \n",
            " 10  est_salary     10000 non-null  float64\n",
            " 11  churn          10000 non-null  int64  \n",
            "dtypes: float64(4), int64(6), object(2)\n",
            "memory usage: 937.6+ KB\n"
          ]
        },
        {
          "output_type": "display_data",
          "data": {
            "text/plain": [
              "None"
            ]
          },
          "metadata": {}
        },
        {
          "output_type": "display_data",
          "data": {
            "text/plain": [
              "            userid      score       city gender       age     equity  \\\n",
              "count   10,000.000 10,000.000      10000  10000 9,974.000 10,000.000   \n",
              "unique         NaN        NaN          3      2       NaN        NaN   \n",
              "top            NaN        NaN  Ярославль      М       NaN        NaN   \n",
              "freq           NaN        NaN       5888   5005       NaN        NaN   \n",
              "mean   171,814.713    848.699        NaN    NaN    42.734      2.628   \n",
              "std     33,708.238     65.449        NaN    NaN    12.180      1.981   \n",
              "min     94,561.000    642.000        NaN    NaN    18.000      0.000   \n",
              "25%    142,810.250    802.000        NaN    NaN    33.000      0.000   \n",
              "50%    172,728.000    853.000        NaN    NaN    40.000      3.000   \n",
              "75%    201,261.750    900.000        NaN    NaN    51.000      4.000   \n",
              "max    229,145.000  1,000.000        NaN    NaN    86.000      9.000   \n",
              "\n",
              "               balance   products  credit_card  last_activity    est_salary  \\\n",
              "count        7,705.000 10,000.000   10,000.000     10,000.000    10,000.000   \n",
              "unique             NaN        NaN          NaN            NaN           NaN   \n",
              "top                NaN        NaN          NaN            NaN           NaN   \n",
              "freq               NaN        NaN          NaN            NaN           NaN   \n",
              "mean       827,794.307      1.870        0.680          0.523   147,866.886   \n",
              "std      1,980,614.147      0.793        0.466          0.499   139,388.511   \n",
              "min              0.000      0.000        0.000          0.000     2,546.300   \n",
              "25%        295,554.160      1.000        0.000          0.000    75,251.900   \n",
              "50%        524,272.200      2.000        1.000          1.000   119,658.105   \n",
              "75%        980,705.850      2.000        1.000          1.000   174,500.542   \n",
              "max    119,113,552.010      5.000        1.000          1.000 1,395,064.450   \n",
              "\n",
              "            churn  \n",
              "count  10,000.000  \n",
              "unique        NaN  \n",
              "top           NaN  \n",
              "freq          NaN  \n",
              "mean        0.182  \n",
              "std         0.386  \n",
              "min         0.000  \n",
              "25%         0.000  \n",
              "50%         0.000  \n",
              "75%         0.000  \n",
              "max         1.000  "
            ],
            "text/html": [
              "\n",
              "  <div id=\"df-77aed8b5-b5e6-4045-8463-a14062372eb7\">\n",
              "    <div class=\"colab-df-container\">\n",
              "      <div>\n",
              "<style scoped>\n",
              "    .dataframe tbody tr th:only-of-type {\n",
              "        vertical-align: middle;\n",
              "    }\n",
              "\n",
              "    .dataframe tbody tr th {\n",
              "        vertical-align: top;\n",
              "    }\n",
              "\n",
              "    .dataframe thead th {\n",
              "        text-align: right;\n",
              "    }\n",
              "</style>\n",
              "<table border=\"1\" class=\"dataframe\">\n",
              "  <thead>\n",
              "    <tr style=\"text-align: right;\">\n",
              "      <th></th>\n",
              "      <th>userid</th>\n",
              "      <th>score</th>\n",
              "      <th>city</th>\n",
              "      <th>gender</th>\n",
              "      <th>age</th>\n",
              "      <th>equity</th>\n",
              "      <th>balance</th>\n",
              "      <th>products</th>\n",
              "      <th>credit_card</th>\n",
              "      <th>last_activity</th>\n",
              "      <th>est_salary</th>\n",
              "      <th>churn</th>\n",
              "    </tr>\n",
              "  </thead>\n",
              "  <tbody>\n",
              "    <tr>\n",
              "      <th>count</th>\n",
              "      <td>10,000.000</td>\n",
              "      <td>10,000.000</td>\n",
              "      <td>10000</td>\n",
              "      <td>10000</td>\n",
              "      <td>9,974.000</td>\n",
              "      <td>10,000.000</td>\n",
              "      <td>7,705.000</td>\n",
              "      <td>10,000.000</td>\n",
              "      <td>10,000.000</td>\n",
              "      <td>10,000.000</td>\n",
              "      <td>10,000.000</td>\n",
              "      <td>10,000.000</td>\n",
              "    </tr>\n",
              "    <tr>\n",
              "      <th>unique</th>\n",
              "      <td>NaN</td>\n",
              "      <td>NaN</td>\n",
              "      <td>3</td>\n",
              "      <td>2</td>\n",
              "      <td>NaN</td>\n",
              "      <td>NaN</td>\n",
              "      <td>NaN</td>\n",
              "      <td>NaN</td>\n",
              "      <td>NaN</td>\n",
              "      <td>NaN</td>\n",
              "      <td>NaN</td>\n",
              "      <td>NaN</td>\n",
              "    </tr>\n",
              "    <tr>\n",
              "      <th>top</th>\n",
              "      <td>NaN</td>\n",
              "      <td>NaN</td>\n",
              "      <td>Ярославль</td>\n",
              "      <td>М</td>\n",
              "      <td>NaN</td>\n",
              "      <td>NaN</td>\n",
              "      <td>NaN</td>\n",
              "      <td>NaN</td>\n",
              "      <td>NaN</td>\n",
              "      <td>NaN</td>\n",
              "      <td>NaN</td>\n",
              "      <td>NaN</td>\n",
              "    </tr>\n",
              "    <tr>\n",
              "      <th>freq</th>\n",
              "      <td>NaN</td>\n",
              "      <td>NaN</td>\n",
              "      <td>5888</td>\n",
              "      <td>5005</td>\n",
              "      <td>NaN</td>\n",
              "      <td>NaN</td>\n",
              "      <td>NaN</td>\n",
              "      <td>NaN</td>\n",
              "      <td>NaN</td>\n",
              "      <td>NaN</td>\n",
              "      <td>NaN</td>\n",
              "      <td>NaN</td>\n",
              "    </tr>\n",
              "    <tr>\n",
              "      <th>mean</th>\n",
              "      <td>171,814.713</td>\n",
              "      <td>848.699</td>\n",
              "      <td>NaN</td>\n",
              "      <td>NaN</td>\n",
              "      <td>42.734</td>\n",
              "      <td>2.628</td>\n",
              "      <td>827,794.307</td>\n",
              "      <td>1.870</td>\n",
              "      <td>0.680</td>\n",
              "      <td>0.523</td>\n",
              "      <td>147,866.886</td>\n",
              "      <td>0.182</td>\n",
              "    </tr>\n",
              "    <tr>\n",
              "      <th>std</th>\n",
              "      <td>33,708.238</td>\n",
              "      <td>65.449</td>\n",
              "      <td>NaN</td>\n",
              "      <td>NaN</td>\n",
              "      <td>12.180</td>\n",
              "      <td>1.981</td>\n",
              "      <td>1,980,614.147</td>\n",
              "      <td>0.793</td>\n",
              "      <td>0.466</td>\n",
              "      <td>0.499</td>\n",
              "      <td>139,388.511</td>\n",
              "      <td>0.386</td>\n",
              "    </tr>\n",
              "    <tr>\n",
              "      <th>min</th>\n",
              "      <td>94,561.000</td>\n",
              "      <td>642.000</td>\n",
              "      <td>NaN</td>\n",
              "      <td>NaN</td>\n",
              "      <td>18.000</td>\n",
              "      <td>0.000</td>\n",
              "      <td>0.000</td>\n",
              "      <td>0.000</td>\n",
              "      <td>0.000</td>\n",
              "      <td>0.000</td>\n",
              "      <td>2,546.300</td>\n",
              "      <td>0.000</td>\n",
              "    </tr>\n",
              "    <tr>\n",
              "      <th>25%</th>\n",
              "      <td>142,810.250</td>\n",
              "      <td>802.000</td>\n",
              "      <td>NaN</td>\n",
              "      <td>NaN</td>\n",
              "      <td>33.000</td>\n",
              "      <td>0.000</td>\n",
              "      <td>295,554.160</td>\n",
              "      <td>1.000</td>\n",
              "      <td>0.000</td>\n",
              "      <td>0.000</td>\n",
              "      <td>75,251.900</td>\n",
              "      <td>0.000</td>\n",
              "    </tr>\n",
              "    <tr>\n",
              "      <th>50%</th>\n",
              "      <td>172,728.000</td>\n",
              "      <td>853.000</td>\n",
              "      <td>NaN</td>\n",
              "      <td>NaN</td>\n",
              "      <td>40.000</td>\n",
              "      <td>3.000</td>\n",
              "      <td>524,272.200</td>\n",
              "      <td>2.000</td>\n",
              "      <td>1.000</td>\n",
              "      <td>1.000</td>\n",
              "      <td>119,658.105</td>\n",
              "      <td>0.000</td>\n",
              "    </tr>\n",
              "    <tr>\n",
              "      <th>75%</th>\n",
              "      <td>201,261.750</td>\n",
              "      <td>900.000</td>\n",
              "      <td>NaN</td>\n",
              "      <td>NaN</td>\n",
              "      <td>51.000</td>\n",
              "      <td>4.000</td>\n",
              "      <td>980,705.850</td>\n",
              "      <td>2.000</td>\n",
              "      <td>1.000</td>\n",
              "      <td>1.000</td>\n",
              "      <td>174,500.542</td>\n",
              "      <td>0.000</td>\n",
              "    </tr>\n",
              "    <tr>\n",
              "      <th>max</th>\n",
              "      <td>229,145.000</td>\n",
              "      <td>1,000.000</td>\n",
              "      <td>NaN</td>\n",
              "      <td>NaN</td>\n",
              "      <td>86.000</td>\n",
              "      <td>9.000</td>\n",
              "      <td>119,113,552.010</td>\n",
              "      <td>5.000</td>\n",
              "      <td>1.000</td>\n",
              "      <td>1.000</td>\n",
              "      <td>1,395,064.450</td>\n",
              "      <td>1.000</td>\n",
              "    </tr>\n",
              "  </tbody>\n",
              "</table>\n",
              "</div>\n",
              "      <button class=\"colab-df-convert\" onclick=\"convertToInteractive('df-77aed8b5-b5e6-4045-8463-a14062372eb7')\"\n",
              "              title=\"Convert this dataframe to an interactive table.\"\n",
              "              style=\"display:none;\">\n",
              "        \n",
              "  <svg xmlns=\"http://www.w3.org/2000/svg\" height=\"24px\"viewBox=\"0 0 24 24\"\n",
              "       width=\"24px\">\n",
              "    <path d=\"M0 0h24v24H0V0z\" fill=\"none\"/>\n",
              "    <path d=\"M18.56 5.44l.94 2.06.94-2.06 2.06-.94-2.06-.94-.94-2.06-.94 2.06-2.06.94zm-11 1L8.5 8.5l.94-2.06 2.06-.94-2.06-.94L8.5 2.5l-.94 2.06-2.06.94zm10 10l.94 2.06.94-2.06 2.06-.94-2.06-.94-.94-2.06-.94 2.06-2.06.94z\"/><path d=\"M17.41 7.96l-1.37-1.37c-.4-.4-.92-.59-1.43-.59-.52 0-1.04.2-1.43.59L10.3 9.45l-7.72 7.72c-.78.78-.78 2.05 0 2.83L4 21.41c.39.39.9.59 1.41.59.51 0 1.02-.2 1.41-.59l7.78-7.78 2.81-2.81c.8-.78.8-2.07 0-2.86zM5.41 20L4 18.59l7.72-7.72 1.47 1.35L5.41 20z\"/>\n",
              "  </svg>\n",
              "      </button>\n",
              "      \n",
              "  <style>\n",
              "    .colab-df-container {\n",
              "      display:flex;\n",
              "      flex-wrap:wrap;\n",
              "      gap: 12px;\n",
              "    }\n",
              "\n",
              "    .colab-df-convert {\n",
              "      background-color: #E8F0FE;\n",
              "      border: none;\n",
              "      border-radius: 50%;\n",
              "      cursor: pointer;\n",
              "      display: none;\n",
              "      fill: #1967D2;\n",
              "      height: 32px;\n",
              "      padding: 0 0 0 0;\n",
              "      width: 32px;\n",
              "    }\n",
              "\n",
              "    .colab-df-convert:hover {\n",
              "      background-color: #E2EBFA;\n",
              "      box-shadow: 0px 1px 2px rgba(60, 64, 67, 0.3), 0px 1px 3px 1px rgba(60, 64, 67, 0.15);\n",
              "      fill: #174EA6;\n",
              "    }\n",
              "\n",
              "    [theme=dark] .colab-df-convert {\n",
              "      background-color: #3B4455;\n",
              "      fill: #D2E3FC;\n",
              "    }\n",
              "\n",
              "    [theme=dark] .colab-df-convert:hover {\n",
              "      background-color: #434B5C;\n",
              "      box-shadow: 0px 1px 3px 1px rgba(0, 0, 0, 0.15);\n",
              "      filter: drop-shadow(0px 1px 2px rgba(0, 0, 0, 0.3));\n",
              "      fill: #FFFFFF;\n",
              "    }\n",
              "  </style>\n",
              "\n",
              "      <script>\n",
              "        const buttonEl =\n",
              "          document.querySelector('#df-77aed8b5-b5e6-4045-8463-a14062372eb7 button.colab-df-convert');\n",
              "        buttonEl.style.display =\n",
              "          google.colab.kernel.accessAllowed ? 'block' : 'none';\n",
              "\n",
              "        async function convertToInteractive(key) {\n",
              "          const element = document.querySelector('#df-77aed8b5-b5e6-4045-8463-a14062372eb7');\n",
              "          const dataTable =\n",
              "            await google.colab.kernel.invokeFunction('convertToInteractive',\n",
              "                                                     [key], {});\n",
              "          if (!dataTable) return;\n",
              "\n",
              "          const docLinkHtml = 'Like what you see? Visit the ' +\n",
              "            '<a target=\"_blank\" href=https://colab.research.google.com/notebooks/data_table.ipynb>data table notebook</a>'\n",
              "            + ' to learn more about interactive tables.';\n",
              "          element.innerHTML = '';\n",
              "          dataTable['output_type'] = 'display_data';\n",
              "          await google.colab.output.renderOutput(dataTable, element);\n",
              "          const docLink = document.createElement('div');\n",
              "          docLink.innerHTML = docLinkHtml;\n",
              "          element.appendChild(docLink);\n",
              "        }\n",
              "      </script>\n",
              "    </div>\n",
              "  </div>\n",
              "  "
            ]
          },
          "metadata": {}
        },
        {
          "output_type": "stream",
          "name": "stdout",
          "text": [
            "Количество дубликатов: 0\n",
            "Количество пропусков: \n",
            "userid              0\n",
            "score               0\n",
            "city                0\n",
            "gender              0\n",
            "age                26\n",
            "equity              0\n",
            "balance          2295\n",
            "products            0\n",
            "credit_card         0\n",
            "last_activity       0\n",
            "est_salary          0\n",
            "churn               0\n",
            "dtype: int64\n"
          ]
        }
      ],
      "source": [
        "data_info(df)"
      ]
    },
    {
      "cell_type": "code",
      "execution_count": 5,
      "metadata": {
        "id": "QBLrRZ7LLqD-",
        "outputId": "ae64c8d5-6df9-4795-a01a-9eeac6065e6c",
        "colab": {
          "base_uri": "https://localhost:8080/"
        }
      },
      "outputs": [
        {
          "output_type": "execute_result",
          "data": {
            "text/plain": [
              "array(['Рыбинск', 'Ярославль', 'Ростов'], dtype=object)"
            ]
          },
          "metadata": {},
          "execution_count": 5
        }
      ],
      "source": [
        "df['city'].unique()"
      ]
    },
    {
      "cell_type": "markdown",
      "metadata": {
        "id": "KyZXwgVOLqD-"
      },
      "source": [
        "Банк представлен в 3 городах, ошибок не обнаружено. Посмотрим на строки, где количество продуктов равно 0, ведь у клиента банка должен быть хотя бы один продукт"
      ]
    },
    {
      "cell_type": "code",
      "execution_count": 6,
      "metadata": {
        "id": "4EHFak4cLqD_",
        "outputId": "476fb9a0-ce74-48f9-f112-0c5cf94819cb",
        "colab": {
          "base_uri": "https://localhost:8080/",
          "height": 81
        }
      },
      "outputs": [
        {
          "output_type": "execute_result",
          "data": {
            "text/plain": [
              "      userid   score     city gender    age  equity  balance  products  \\\n",
              "8957  147837 962.000  Рыбинск      Ж 79.000       3      NaN         0   \n",
              "\n",
              "      credit_card  last_activity  est_salary  churn  \n",
              "8957            0              0  25,063.960      1  "
            ],
            "text/html": [
              "\n",
              "  <div id=\"df-a6bab92b-2d66-4cb3-8e8f-980ff7f512e0\">\n",
              "    <div class=\"colab-df-container\">\n",
              "      <div>\n",
              "<style scoped>\n",
              "    .dataframe tbody tr th:only-of-type {\n",
              "        vertical-align: middle;\n",
              "    }\n",
              "\n",
              "    .dataframe tbody tr th {\n",
              "        vertical-align: top;\n",
              "    }\n",
              "\n",
              "    .dataframe thead th {\n",
              "        text-align: right;\n",
              "    }\n",
              "</style>\n",
              "<table border=\"1\" class=\"dataframe\">\n",
              "  <thead>\n",
              "    <tr style=\"text-align: right;\">\n",
              "      <th></th>\n",
              "      <th>userid</th>\n",
              "      <th>score</th>\n",
              "      <th>city</th>\n",
              "      <th>gender</th>\n",
              "      <th>age</th>\n",
              "      <th>equity</th>\n",
              "      <th>balance</th>\n",
              "      <th>products</th>\n",
              "      <th>credit_card</th>\n",
              "      <th>last_activity</th>\n",
              "      <th>est_salary</th>\n",
              "      <th>churn</th>\n",
              "    </tr>\n",
              "  </thead>\n",
              "  <tbody>\n",
              "    <tr>\n",
              "      <th>8957</th>\n",
              "      <td>147837</td>\n",
              "      <td>962.000</td>\n",
              "      <td>Рыбинск</td>\n",
              "      <td>Ж</td>\n",
              "      <td>79.000</td>\n",
              "      <td>3</td>\n",
              "      <td>NaN</td>\n",
              "      <td>0</td>\n",
              "      <td>0</td>\n",
              "      <td>0</td>\n",
              "      <td>25,063.960</td>\n",
              "      <td>1</td>\n",
              "    </tr>\n",
              "  </tbody>\n",
              "</table>\n",
              "</div>\n",
              "      <button class=\"colab-df-convert\" onclick=\"convertToInteractive('df-a6bab92b-2d66-4cb3-8e8f-980ff7f512e0')\"\n",
              "              title=\"Convert this dataframe to an interactive table.\"\n",
              "              style=\"display:none;\">\n",
              "        \n",
              "  <svg xmlns=\"http://www.w3.org/2000/svg\" height=\"24px\"viewBox=\"0 0 24 24\"\n",
              "       width=\"24px\">\n",
              "    <path d=\"M0 0h24v24H0V0z\" fill=\"none\"/>\n",
              "    <path d=\"M18.56 5.44l.94 2.06.94-2.06 2.06-.94-2.06-.94-.94-2.06-.94 2.06-2.06.94zm-11 1L8.5 8.5l.94-2.06 2.06-.94-2.06-.94L8.5 2.5l-.94 2.06-2.06.94zm10 10l.94 2.06.94-2.06 2.06-.94-2.06-.94-.94-2.06-.94 2.06-2.06.94z\"/><path d=\"M17.41 7.96l-1.37-1.37c-.4-.4-.92-.59-1.43-.59-.52 0-1.04.2-1.43.59L10.3 9.45l-7.72 7.72c-.78.78-.78 2.05 0 2.83L4 21.41c.39.39.9.59 1.41.59.51 0 1.02-.2 1.41-.59l7.78-7.78 2.81-2.81c.8-.78.8-2.07 0-2.86zM5.41 20L4 18.59l7.72-7.72 1.47 1.35L5.41 20z\"/>\n",
              "  </svg>\n",
              "      </button>\n",
              "      \n",
              "  <style>\n",
              "    .colab-df-container {\n",
              "      display:flex;\n",
              "      flex-wrap:wrap;\n",
              "      gap: 12px;\n",
              "    }\n",
              "\n",
              "    .colab-df-convert {\n",
              "      background-color: #E8F0FE;\n",
              "      border: none;\n",
              "      border-radius: 50%;\n",
              "      cursor: pointer;\n",
              "      display: none;\n",
              "      fill: #1967D2;\n",
              "      height: 32px;\n",
              "      padding: 0 0 0 0;\n",
              "      width: 32px;\n",
              "    }\n",
              "\n",
              "    .colab-df-convert:hover {\n",
              "      background-color: #E2EBFA;\n",
              "      box-shadow: 0px 1px 2px rgba(60, 64, 67, 0.3), 0px 1px 3px 1px rgba(60, 64, 67, 0.15);\n",
              "      fill: #174EA6;\n",
              "    }\n",
              "\n",
              "    [theme=dark] .colab-df-convert {\n",
              "      background-color: #3B4455;\n",
              "      fill: #D2E3FC;\n",
              "    }\n",
              "\n",
              "    [theme=dark] .colab-df-convert:hover {\n",
              "      background-color: #434B5C;\n",
              "      box-shadow: 0px 1px 3px 1px rgba(0, 0, 0, 0.15);\n",
              "      filter: drop-shadow(0px 1px 2px rgba(0, 0, 0, 0.3));\n",
              "      fill: #FFFFFF;\n",
              "    }\n",
              "  </style>\n",
              "\n",
              "      <script>\n",
              "        const buttonEl =\n",
              "          document.querySelector('#df-a6bab92b-2d66-4cb3-8e8f-980ff7f512e0 button.colab-df-convert');\n",
              "        buttonEl.style.display =\n",
              "          google.colab.kernel.accessAllowed ? 'block' : 'none';\n",
              "\n",
              "        async function convertToInteractive(key) {\n",
              "          const element = document.querySelector('#df-a6bab92b-2d66-4cb3-8e8f-980ff7f512e0');\n",
              "          const dataTable =\n",
              "            await google.colab.kernel.invokeFunction('convertToInteractive',\n",
              "                                                     [key], {});\n",
              "          if (!dataTable) return;\n",
              "\n",
              "          const docLinkHtml = 'Like what you see? Visit the ' +\n",
              "            '<a target=\"_blank\" href=https://colab.research.google.com/notebooks/data_table.ipynb>data table notebook</a>'\n",
              "            + ' to learn more about interactive tables.';\n",
              "          element.innerHTML = '';\n",
              "          dataTable['output_type'] = 'display_data';\n",
              "          await google.colab.output.renderOutput(dataTable, element);\n",
              "          const docLink = document.createElement('div');\n",
              "          docLink.innerHTML = docLinkHtml;\n",
              "          element.appendChild(docLink);\n",
              "        }\n",
              "      </script>\n",
              "    </div>\n",
              "  </div>\n",
              "  "
            ]
          },
          "metadata": {},
          "execution_count": 6
        }
      ],
      "source": [
        "df[df['products'] == 0]"
      ]
    },
    {
      "cell_type": "markdown",
      "metadata": {
        "id": "1aopOts0LqEA"
      },
      "source": [
        "Такой клиент всего один. Вероятно, прежде, чем покинуть банк, клиент отказался от всех продуктов. Удалим эту строку, так как необходимо исследовать отток среди действительных клиентов банка"
      ]
    },
    {
      "cell_type": "code",
      "execution_count": null,
      "metadata": {
        "id": "KgXg-EJtLqEA"
      },
      "outputs": [],
      "source": [
        "df = df.drop(index=8957)"
      ]
    },
    {
      "cell_type": "markdown",
      "metadata": {
        "id": "7X3Nq7ToLqEB"
      },
      "source": [
        "В датасете 10000 строк. Банк представлен в трех городах: Рыбинск, Ярославль, Ростов. Возраст клиентов от 18 до 80 лет. В остальных столбцах ошибок также не обнаружено. Закодируем признаки города и пола для дальнейшего выявления корреляции с фактом оттока. Присутствуют пропуски в двух колонках: возраст (совсем незначительное количество пропусков) и баланс (пропусков около 23%, нужно посмотреть подробнее). Явные дубликаты не обнаружены, нужно проверить на неявные дубликаты"
      ]
    },
    {
      "cell_type": "markdown",
      "metadata": {
        "id": "TIdNr4uALqEB"
      },
      "source": [
        "Заменим типы данных столбцов возраст и баллы скоринга, заменим пропущенные значения в столбце возраста"
      ]
    },
    {
      "cell_type": "markdown",
      "metadata": {
        "id": "MfuT0LgJLqED"
      },
      "source": [
        "Посмотрим на пропуски в колонке баланса, исследуем средние значения признаков с пропусками в балансе и без"
      ]
    },
    {
      "cell_type": "code",
      "execution_count": null,
      "metadata": {
        "id": "90ZrGYe6LqED",
        "outputId": "f200ca04-f056-43e9-abf1-66aab915f38d"
      },
      "outputs": [
        {
          "data": {
            "text/html": [
              "<div>\n",
              "<style scoped>\n",
              "    .dataframe tbody tr th:only-of-type {\n",
              "        vertical-align: middle;\n",
              "    }\n",
              "\n",
              "    .dataframe tbody tr th {\n",
              "        vertical-align: top;\n",
              "    }\n",
              "\n",
              "    .dataframe thead th {\n",
              "        text-align: right;\n",
              "    }\n",
              "</style>\n",
              "<table border=\"1\" class=\"dataframe\">\n",
              "  <thead>\n",
              "    <tr style=\"text-align: right;\">\n",
              "      <th></th>\n",
              "      <th>userid</th>\n",
              "      <th>score</th>\n",
              "      <th>city</th>\n",
              "      <th>gender</th>\n",
              "      <th>age</th>\n",
              "      <th>equity</th>\n",
              "      <th>balance</th>\n",
              "      <th>products</th>\n",
              "      <th>credit_card</th>\n",
              "      <th>last_activity</th>\n",
              "      <th>est_salary</th>\n",
              "      <th>churn</th>\n",
              "    </tr>\n",
              "  </thead>\n",
              "  <tbody>\n",
              "    <tr>\n",
              "      <th>2</th>\n",
              "      <td>120722</td>\n",
              "      <td>892.000</td>\n",
              "      <td>Рыбинск</td>\n",
              "      <td>Ж</td>\n",
              "      <td>30.000</td>\n",
              "      <td>0</td>\n",
              "      <td>NaN</td>\n",
              "      <td>1</td>\n",
              "      <td>1</td>\n",
              "      <td>1</td>\n",
              "      <td>107,683.340</td>\n",
              "      <td>0</td>\n",
              "    </tr>\n",
              "    <tr>\n",
              "      <th>9</th>\n",
              "      <td>133130</td>\n",
              "      <td>906.000</td>\n",
              "      <td>Ярославль</td>\n",
              "      <td>Ж</td>\n",
              "      <td>67.000</td>\n",
              "      <td>0</td>\n",
              "      <td>NaN</td>\n",
              "      <td>1</td>\n",
              "      <td>0</td>\n",
              "      <td>1</td>\n",
              "      <td>238,055.530</td>\n",
              "      <td>0</td>\n",
              "    </tr>\n",
              "    <tr>\n",
              "      <th>10</th>\n",
              "      <td>148929</td>\n",
              "      <td>927.000</td>\n",
              "      <td>Ростов</td>\n",
              "      <td>М</td>\n",
              "      <td>52.000</td>\n",
              "      <td>0</td>\n",
              "      <td>NaN</td>\n",
              "      <td>1</td>\n",
              "      <td>1</td>\n",
              "      <td>1</td>\n",
              "      <td>196,820.070</td>\n",
              "      <td>0</td>\n",
              "    </tr>\n",
              "    <tr>\n",
              "      <th>11</th>\n",
              "      <td>172184</td>\n",
              "      <td>921.000</td>\n",
              "      <td>Ростов</td>\n",
              "      <td>М</td>\n",
              "      <td>41.000</td>\n",
              "      <td>0</td>\n",
              "      <td>NaN</td>\n",
              "      <td>1</td>\n",
              "      <td>1</td>\n",
              "      <td>1</td>\n",
              "      <td>217,469.480</td>\n",
              "      <td>0</td>\n",
              "    </tr>\n",
              "    <tr>\n",
              "      <th>19</th>\n",
              "      <td>127034</td>\n",
              "      <td>922.000</td>\n",
              "      <td>Рыбинск</td>\n",
              "      <td>Ж</td>\n",
              "      <td>53.000</td>\n",
              "      <td>0</td>\n",
              "      <td>NaN</td>\n",
              "      <td>1</td>\n",
              "      <td>0</td>\n",
              "      <td>0</td>\n",
              "      <td>147,094.820</td>\n",
              "      <td>0</td>\n",
              "    </tr>\n",
              "    <tr>\n",
              "      <th>21</th>\n",
              "      <td>177415</td>\n",
              "      <td>896.000</td>\n",
              "      <td>Рыбинск</td>\n",
              "      <td>Ж</td>\n",
              "      <td>47.000</td>\n",
              "      <td>0</td>\n",
              "      <td>NaN</td>\n",
              "      <td>1</td>\n",
              "      <td>0</td>\n",
              "      <td>0</td>\n",
              "      <td>225,060.350</td>\n",
              "      <td>0</td>\n",
              "    </tr>\n",
              "    <tr>\n",
              "      <th>30</th>\n",
              "      <td>155730</td>\n",
              "      <td>946.000</td>\n",
              "      <td>Ярославль</td>\n",
              "      <td>Ж</td>\n",
              "      <td>47.000</td>\n",
              "      <td>0</td>\n",
              "      <td>NaN</td>\n",
              "      <td>2</td>\n",
              "      <td>1</td>\n",
              "      <td>1</td>\n",
              "      <td>660,015.850</td>\n",
              "      <td>0</td>\n",
              "    </tr>\n",
              "    <tr>\n",
              "      <th>34</th>\n",
              "      <td>205226</td>\n",
              "      <td>944.000</td>\n",
              "      <td>Ярославль</td>\n",
              "      <td>М</td>\n",
              "      <td>35.000</td>\n",
              "      <td>0</td>\n",
              "      <td>NaN</td>\n",
              "      <td>2</td>\n",
              "      <td>1</td>\n",
              "      <td>1</td>\n",
              "      <td>239,843.390</td>\n",
              "      <td>0</td>\n",
              "    </tr>\n",
              "    <tr>\n",
              "      <th>39</th>\n",
              "      <td>173175</td>\n",
              "      <td>924.000</td>\n",
              "      <td>Рыбинск</td>\n",
              "      <td>Ж</td>\n",
              "      <td>51.000</td>\n",
              "      <td>0</td>\n",
              "      <td>NaN</td>\n",
              "      <td>1</td>\n",
              "      <td>1</td>\n",
              "      <td>1</td>\n",
              "      <td>248,844.470</td>\n",
              "      <td>0</td>\n",
              "    </tr>\n",
              "    <tr>\n",
              "      <th>43</th>\n",
              "      <td>228585</td>\n",
              "      <td>956.000</td>\n",
              "      <td>Ростов</td>\n",
              "      <td>М</td>\n",
              "      <td>41.000</td>\n",
              "      <td>0</td>\n",
              "      <td>NaN</td>\n",
              "      <td>1</td>\n",
              "      <td>1</td>\n",
              "      <td>0</td>\n",
              "      <td>115,117.100</td>\n",
              "      <td>0</td>\n",
              "    </tr>\n",
              "    <tr>\n",
              "      <th>46</th>\n",
              "      <td>118927</td>\n",
              "      <td>921.000</td>\n",
              "      <td>Ярославль</td>\n",
              "      <td>Ж</td>\n",
              "      <td>72.000</td>\n",
              "      <td>1</td>\n",
              "      <td>NaN</td>\n",
              "      <td>1</td>\n",
              "      <td>1</td>\n",
              "      <td>0</td>\n",
              "      <td>253,494.700</td>\n",
              "      <td>0</td>\n",
              "    </tr>\n",
              "    <tr>\n",
              "      <th>52</th>\n",
              "      <td>214266</td>\n",
              "      <td>888.000</td>\n",
              "      <td>Ярославль</td>\n",
              "      <td>Ж</td>\n",
              "      <td>37.000</td>\n",
              "      <td>0</td>\n",
              "      <td>NaN</td>\n",
              "      <td>2</td>\n",
              "      <td>0</td>\n",
              "      <td>0</td>\n",
              "      <td>149,164.440</td>\n",
              "      <td>0</td>\n",
              "    </tr>\n",
              "    <tr>\n",
              "      <th>57</th>\n",
              "      <td>167752</td>\n",
              "      <td>914.000</td>\n",
              "      <td>Ростов</td>\n",
              "      <td>Ж</td>\n",
              "      <td>58.000</td>\n",
              "      <td>0</td>\n",
              "      <td>NaN</td>\n",
              "      <td>2</td>\n",
              "      <td>1</td>\n",
              "      <td>0</td>\n",
              "      <td>116,651.710</td>\n",
              "      <td>0</td>\n",
              "    </tr>\n",
              "    <tr>\n",
              "      <th>59</th>\n",
              "      <td>227642</td>\n",
              "      <td>930.000</td>\n",
              "      <td>Ярославль</td>\n",
              "      <td>Ж</td>\n",
              "      <td>36.000</td>\n",
              "      <td>0</td>\n",
              "      <td>NaN</td>\n",
              "      <td>2</td>\n",
              "      <td>1</td>\n",
              "      <td>0</td>\n",
              "      <td>359,081.730</td>\n",
              "      <td>0</td>\n",
              "    </tr>\n",
              "    <tr>\n",
              "      <th>60</th>\n",
              "      <td>191602</td>\n",
              "      <td>944.000</td>\n",
              "      <td>Ярославль</td>\n",
              "      <td>Ж</td>\n",
              "      <td>71.000</td>\n",
              "      <td>0</td>\n",
              "      <td>NaN</td>\n",
              "      <td>2</td>\n",
              "      <td>0</td>\n",
              "      <td>1</td>\n",
              "      <td>107,801.190</td>\n",
              "      <td>0</td>\n",
              "    </tr>\n",
              "    <tr>\n",
              "      <th>62</th>\n",
              "      <td>128486</td>\n",
              "      <td>922.000</td>\n",
              "      <td>Рыбинск</td>\n",
              "      <td>Ж</td>\n",
              "      <td>55.000</td>\n",
              "      <td>0</td>\n",
              "      <td>NaN</td>\n",
              "      <td>2</td>\n",
              "      <td>1</td>\n",
              "      <td>0</td>\n",
              "      <td>146,005.180</td>\n",
              "      <td>0</td>\n",
              "    </tr>\n",
              "    <tr>\n",
              "      <th>66</th>\n",
              "      <td>224917</td>\n",
              "      <td>737.000</td>\n",
              "      <td>Ярославль</td>\n",
              "      <td>Ж</td>\n",
              "      <td>54.000</td>\n",
              "      <td>1</td>\n",
              "      <td>NaN</td>\n",
              "      <td>1</td>\n",
              "      <td>1</td>\n",
              "      <td>0</td>\n",
              "      <td>113,173.050</td>\n",
              "      <td>0</td>\n",
              "    </tr>\n",
              "    <tr>\n",
              "      <th>68</th>\n",
              "      <td>216960</td>\n",
              "      <td>933.000</td>\n",
              "      <td>Ярославль</td>\n",
              "      <td>М</td>\n",
              "      <td>49.000</td>\n",
              "      <td>1</td>\n",
              "      <td>NaN</td>\n",
              "      <td>1</td>\n",
              "      <td>1</td>\n",
              "      <td>1</td>\n",
              "      <td>130,281.880</td>\n",
              "      <td>0</td>\n",
              "    </tr>\n",
              "    <tr>\n",
              "      <th>86</th>\n",
              "      <td>153632</td>\n",
              "      <td>750.000</td>\n",
              "      <td>Ростов</td>\n",
              "      <td>М</td>\n",
              "      <td>45.000</td>\n",
              "      <td>0</td>\n",
              "      <td>NaN</td>\n",
              "      <td>1</td>\n",
              "      <td>1</td>\n",
              "      <td>0</td>\n",
              "      <td>296,397.190</td>\n",
              "      <td>0</td>\n",
              "    </tr>\n",
              "    <tr>\n",
              "      <th>101</th>\n",
              "      <td>184435</td>\n",
              "      <td>921.000</td>\n",
              "      <td>Ростов</td>\n",
              "      <td>Ж</td>\n",
              "      <td>42.000</td>\n",
              "      <td>0</td>\n",
              "      <td>NaN</td>\n",
              "      <td>1</td>\n",
              "      <td>1</td>\n",
              "      <td>0</td>\n",
              "      <td>232,353.500</td>\n",
              "      <td>0</td>\n",
              "    </tr>\n",
              "  </tbody>\n",
              "</table>\n",
              "</div>"
            ],
            "text/plain": [
              "     userid   score       city gender    age  equity  balance  products  \\\n",
              "2    120722 892.000    Рыбинск      Ж 30.000       0      NaN         1   \n",
              "9    133130 906.000  Ярославль      Ж 67.000       0      NaN         1   \n",
              "10   148929 927.000     Ростов      М 52.000       0      NaN         1   \n",
              "11   172184 921.000     Ростов      М 41.000       0      NaN         1   \n",
              "19   127034 922.000    Рыбинск      Ж 53.000       0      NaN         1   \n",
              "21   177415 896.000    Рыбинск      Ж 47.000       0      NaN         1   \n",
              "30   155730 946.000  Ярославль      Ж 47.000       0      NaN         2   \n",
              "34   205226 944.000  Ярославль      М 35.000       0      NaN         2   \n",
              "39   173175 924.000    Рыбинск      Ж 51.000       0      NaN         1   \n",
              "43   228585 956.000     Ростов      М 41.000       0      NaN         1   \n",
              "46   118927 921.000  Ярославль      Ж 72.000       1      NaN         1   \n",
              "52   214266 888.000  Ярославль      Ж 37.000       0      NaN         2   \n",
              "57   167752 914.000     Ростов      Ж 58.000       0      NaN         2   \n",
              "59   227642 930.000  Ярославль      Ж 36.000       0      NaN         2   \n",
              "60   191602 944.000  Ярославль      Ж 71.000       0      NaN         2   \n",
              "62   128486 922.000    Рыбинск      Ж 55.000       0      NaN         2   \n",
              "66   224917 737.000  Ярославль      Ж 54.000       1      NaN         1   \n",
              "68   216960 933.000  Ярославль      М 49.000       1      NaN         1   \n",
              "86   153632 750.000     Ростов      М 45.000       0      NaN         1   \n",
              "101  184435 921.000     Ростов      Ж 42.000       0      NaN         1   \n",
              "\n",
              "     credit_card  last_activity  est_salary  churn  \n",
              "2              1              1 107,683.340      0  \n",
              "9              0              1 238,055.530      0  \n",
              "10             1              1 196,820.070      0  \n",
              "11             1              1 217,469.480      0  \n",
              "19             0              0 147,094.820      0  \n",
              "21             0              0 225,060.350      0  \n",
              "30             1              1 660,015.850      0  \n",
              "34             1              1 239,843.390      0  \n",
              "39             1              1 248,844.470      0  \n",
              "43             1              0 115,117.100      0  \n",
              "46             1              0 253,494.700      0  \n",
              "52             0              0 149,164.440      0  \n",
              "57             1              0 116,651.710      0  \n",
              "59             1              0 359,081.730      0  \n",
              "60             0              1 107,801.190      0  \n",
              "62             1              0 146,005.180      0  \n",
              "66             1              0 113,173.050      0  \n",
              "68             1              1 130,281.880      0  \n",
              "86             1              0 296,397.190      0  \n",
              "101            1              0 232,353.500      0  "
            ]
          },
          "execution_count": 8,
          "metadata": {},
          "output_type": "execute_result"
        }
      ],
      "source": [
        "df1 = df[df['balance'].isna()]\n",
        "df1.head(20)"
      ]
    },
    {
      "cell_type": "code",
      "execution_count": null,
      "metadata": {
        "id": "925lrNIELqEE",
        "outputId": "fd970496-b25a-405a-c15a-91d62f64a1d3"
      },
      "outputs": [
        {
          "data": {
            "text/plain": [
              "userid          171,817.111\n",
              "score               848.688\n",
              "age                  42.731\n",
              "equity                2.628\n",
              "balance         827,794.307\n",
              "products              1.870\n",
              "credit_card           0.680\n",
              "last_activity         0.524\n",
              "est_salary      147,879.167\n",
              "churn                 0.182\n",
              "dtype: float64"
            ]
          },
          "execution_count": 9,
          "metadata": {},
          "output_type": "execute_result"
        }
      ],
      "source": [
        "df.mean()"
      ]
    },
    {
      "cell_type": "code",
      "execution_count": null,
      "metadata": {
        "id": "7bgJdkuSLqEE",
        "outputId": "2835908b-1153-4f5c-c30a-b8e7c722fe68"
      },
      "outputs": [
        {
          "data": {
            "text/plain": [
              "userid          172,080.011\n",
              "score               865.310\n",
              "age                  42.077\n",
              "equity                0.050\n",
              "balance                 NaN\n",
              "products              1.163\n",
              "credit_card           0.816\n",
              "last_activity         0.550\n",
              "est_salary      226,397.936\n",
              "churn                 0.005\n",
              "dtype: float64"
            ]
          },
          "execution_count": 10,
          "metadata": {},
          "output_type": "execute_result"
        }
      ],
      "source": [
        "df1.mean()"
      ]
    },
    {
      "cell_type": "code",
      "execution_count": null,
      "metadata": {
        "id": "8nUqa2SOLqEF",
        "outputId": "85e834fc-7986-4d7b-8bdd-f1b532be75d1"
      },
      "outputs": [
        {
          "data": {
            "text/plain": [
              "0    2282\n",
              "1      12\n",
              "Name: churn, dtype: int64"
            ]
          },
          "execution_count": 11,
          "metadata": {},
          "output_type": "execute_result"
        }
      ],
      "source": [
        "df1['churn'].value_counts()"
      ]
    },
    {
      "cell_type": "code",
      "execution_count": null,
      "metadata": {
        "id": "msJP0HjKLqEF",
        "outputId": "6e51dabb-0977-4edb-e579-fa521acd9f09"
      },
      "outputs": [
        {
          "data": {
            "text/plain": [
              "Ярославль    1467\n",
              "Рыбинск       592\n",
              "Ростов        235\n",
              "Name: city, dtype: int64"
            ]
          },
          "execution_count": 12,
          "metadata": {},
          "output_type": "execute_result"
        }
      ],
      "source": [
        "df1['city'].value_counts()"
      ]
    },
    {
      "cell_type": "markdown",
      "metadata": {
        "id": "qGz8_tbhLqEG"
      },
      "source": [
        "Никаких особенностей и закономерностей не видно, средние значения отличаются только по зарплате. Возможно, возникла техническая ошибка при выгрузке данных, или баланс отображается только при наличии дебетового счета в банке, так как конкретные продукты, которые ипользуют клиенты нам не известны. Замена на какие-либо значения (медиана, среднее) повлечет за собой искажение данных, оставим пропуски, это не основной показатель, на который нужно полагаться при исследовании оттока клиентов."
      ]
    },
    {
      "cell_type": "markdown",
      "metadata": {
        "id": "C1yHySq7LqEI"
      },
      "source": [
        "Проверим неявные дубликаты"
      ]
    },
    {
      "cell_type": "code",
      "execution_count": null,
      "metadata": {
        "id": "FeZRVeq9LqEI",
        "outputId": "29bab813-547a-46cf-ef08-65fa757a5635"
      },
      "outputs": [
        {
          "data": {
            "text/html": [
              "<div>\n",
              "<style scoped>\n",
              "    .dataframe tbody tr th:only-of-type {\n",
              "        vertical-align: middle;\n",
              "    }\n",
              "\n",
              "    .dataframe tbody tr th {\n",
              "        vertical-align: top;\n",
              "    }\n",
              "\n",
              "    .dataframe thead th {\n",
              "        text-align: right;\n",
              "    }\n",
              "</style>\n",
              "<table border=\"1\" class=\"dataframe\">\n",
              "  <thead>\n",
              "    <tr style=\"text-align: right;\">\n",
              "      <th></th>\n",
              "      <th>userid</th>\n",
              "      <th>score</th>\n",
              "      <th>city</th>\n",
              "      <th>gender</th>\n",
              "      <th>age</th>\n",
              "      <th>equity</th>\n",
              "      <th>balance</th>\n",
              "      <th>products</th>\n",
              "      <th>credit_card</th>\n",
              "      <th>last_activity</th>\n",
              "      <th>est_salary</th>\n",
              "      <th>churn</th>\n",
              "    </tr>\n",
              "  </thead>\n",
              "  <tbody>\n",
              "    <tr>\n",
              "      <th>1893</th>\n",
              "      <td>116540</td>\n",
              "      <td>883.000</td>\n",
              "      <td>Рыбинск</td>\n",
              "      <td>Ж</td>\n",
              "      <td>55.000</td>\n",
              "      <td>1</td>\n",
              "      <td>362,756.490</td>\n",
              "      <td>3</td>\n",
              "      <td>0</td>\n",
              "      <td>1</td>\n",
              "      <td>175,920.480</td>\n",
              "      <td>1</td>\n",
              "    </tr>\n",
              "    <tr>\n",
              "      <th>7694</th>\n",
              "      <td>116540</td>\n",
              "      <td>887.000</td>\n",
              "      <td>Ярославль</td>\n",
              "      <td>Ж</td>\n",
              "      <td>38.000</td>\n",
              "      <td>0</td>\n",
              "      <td>NaN</td>\n",
              "      <td>1</td>\n",
              "      <td>0</td>\n",
              "      <td>1</td>\n",
              "      <td>119,247.610</td>\n",
              "      <td>0</td>\n",
              "    </tr>\n",
              "    <tr>\n",
              "      <th>7542</th>\n",
              "      <td>117943</td>\n",
              "      <td>880.000</td>\n",
              "      <td>Ярославль</td>\n",
              "      <td>Ж</td>\n",
              "      <td>40.000</td>\n",
              "      <td>0</td>\n",
              "      <td>NaN</td>\n",
              "      <td>1</td>\n",
              "      <td>1</td>\n",
              "      <td>0</td>\n",
              "      <td>137,718.930</td>\n",
              "      <td>0</td>\n",
              "    </tr>\n",
              "    <tr>\n",
              "      <th>4866</th>\n",
              "      <td>117943</td>\n",
              "      <td>855.000</td>\n",
              "      <td>Рыбинск</td>\n",
              "      <td>Ж</td>\n",
              "      <td>32.000</td>\n",
              "      <td>6</td>\n",
              "      <td>1,036,832.930</td>\n",
              "      <td>4</td>\n",
              "      <td>1</td>\n",
              "      <td>1</td>\n",
              "      <td>107,792.710</td>\n",
              "      <td>1</td>\n",
              "    </tr>\n",
              "    <tr>\n",
              "      <th>5896</th>\n",
              "      <td>120258</td>\n",
              "      <td>905.000</td>\n",
              "      <td>Ярославль</td>\n",
              "      <td>М</td>\n",
              "      <td>30.000</td>\n",
              "      <td>0</td>\n",
              "      <td>NaN</td>\n",
              "      <td>1</td>\n",
              "      <td>1</td>\n",
              "      <td>1</td>\n",
              "      <td>146,427.960</td>\n",
              "      <td>0</td>\n",
              "    </tr>\n",
              "    <tr>\n",
              "      <th>...</th>\n",
              "      <td>...</td>\n",
              "      <td>...</td>\n",
              "      <td>...</td>\n",
              "      <td>...</td>\n",
              "      <td>...</td>\n",
              "      <td>...</td>\n",
              "      <td>...</td>\n",
              "      <td>...</td>\n",
              "      <td>...</td>\n",
              "      <td>...</td>\n",
              "      <td>...</td>\n",
              "      <td>...</td>\n",
              "    </tr>\n",
              "    <tr>\n",
              "      <th>2597</th>\n",
              "      <td>226719</td>\n",
              "      <td>990.000</td>\n",
              "      <td>Ярославль</td>\n",
              "      <td>М</td>\n",
              "      <td>37.000</td>\n",
              "      <td>4</td>\n",
              "      <td>14,648,692.140</td>\n",
              "      <td>2</td>\n",
              "      <td>0</td>\n",
              "      <td>0</td>\n",
              "      <td>934,412.610</td>\n",
              "      <td>1</td>\n",
              "    </tr>\n",
              "    <tr>\n",
              "      <th>8205</th>\n",
              "      <td>227795</td>\n",
              "      <td>840.000</td>\n",
              "      <td>Рыбинск</td>\n",
              "      <td>М</td>\n",
              "      <td>34.000</td>\n",
              "      <td>2</td>\n",
              "      <td>350,768.030</td>\n",
              "      <td>1</td>\n",
              "      <td>1</td>\n",
              "      <td>0</td>\n",
              "      <td>102,036.140</td>\n",
              "      <td>1</td>\n",
              "    </tr>\n",
              "    <tr>\n",
              "      <th>8497</th>\n",
              "      <td>227795</td>\n",
              "      <td>839.000</td>\n",
              "      <td>Ярославль</td>\n",
              "      <td>М</td>\n",
              "      <td>34.000</td>\n",
              "      <td>2</td>\n",
              "      <td>326,593.140</td>\n",
              "      <td>2</td>\n",
              "      <td>1</td>\n",
              "      <td>0</td>\n",
              "      <td>103,314.920</td>\n",
              "      <td>0</td>\n",
              "    </tr>\n",
              "    <tr>\n",
              "      <th>6457</th>\n",
              "      <td>228075</td>\n",
              "      <td>839.000</td>\n",
              "      <td>Рыбинск</td>\n",
              "      <td>М</td>\n",
              "      <td>39.000</td>\n",
              "      <td>5</td>\n",
              "      <td>507,199.850</td>\n",
              "      <td>3</td>\n",
              "      <td>0</td>\n",
              "      <td>1</td>\n",
              "      <td>85,195.800</td>\n",
              "      <td>0</td>\n",
              "    </tr>\n",
              "    <tr>\n",
              "      <th>1247</th>\n",
              "      <td>228075</td>\n",
              "      <td>932.000</td>\n",
              "      <td>Ярославль</td>\n",
              "      <td>М</td>\n",
              "      <td>NaN</td>\n",
              "      <td>5</td>\n",
              "      <td>7,601,719.200</td>\n",
              "      <td>2</td>\n",
              "      <td>1</td>\n",
              "      <td>1</td>\n",
              "      <td>408,121.160</td>\n",
              "      <td>0</td>\n",
              "    </tr>\n",
              "  </tbody>\n",
              "</table>\n",
              "<p>146 rows × 12 columns</p>\n",
              "</div>"
            ],
            "text/plain": [
              "      userid   score       city gender    age  equity        balance  \\\n",
              "1893  116540 883.000    Рыбинск      Ж 55.000       1    362,756.490   \n",
              "7694  116540 887.000  Ярославль      Ж 38.000       0            NaN   \n",
              "7542  117943 880.000  Ярославль      Ж 40.000       0            NaN   \n",
              "4866  117943 855.000    Рыбинск      Ж 32.000       6  1,036,832.930   \n",
              "5896  120258 905.000  Ярославль      М 30.000       0            NaN   \n",
              "...      ...     ...        ...    ...    ...     ...            ...   \n",
              "2597  226719 990.000  Ярославль      М 37.000       4 14,648,692.140   \n",
              "8205  227795 840.000    Рыбинск      М 34.000       2    350,768.030   \n",
              "8497  227795 839.000  Ярославль      М 34.000       2    326,593.140   \n",
              "6457  228075 839.000    Рыбинск      М 39.000       5    507,199.850   \n",
              "1247  228075 932.000  Ярославль      М    NaN       5  7,601,719.200   \n",
              "\n",
              "      products  credit_card  last_activity  est_salary  churn  \n",
              "1893         3            0              1 175,920.480      1  \n",
              "7694         1            0              1 119,247.610      0  \n",
              "7542         1            1              0 137,718.930      0  \n",
              "4866         4            1              1 107,792.710      1  \n",
              "5896         1            1              1 146,427.960      0  \n",
              "...        ...          ...            ...         ...    ...  \n",
              "2597         2            0              0 934,412.610      1  \n",
              "8205         1            1              0 102,036.140      1  \n",
              "8497         2            1              0 103,314.920      0  \n",
              "6457         3            0              1  85,195.800      0  \n",
              "1247         2            1              1 408,121.160      0  \n",
              "\n",
              "[146 rows x 12 columns]"
            ]
          },
          "execution_count": 13,
          "metadata": {},
          "output_type": "execute_result"
        }
      ],
      "source": [
        "df[df['userid'].duplicated(keep=False)].sort_values(by='userid')"
      ]
    },
    {
      "cell_type": "markdown",
      "metadata": {
        "id": "1Xtb-OugLqEJ"
      },
      "source": [
        "Нашли 73 дубликата ID клиентов, каждый из которых повторяется два раза. Скорее всего, это произошло из-за неправильного слияния данных из разных таблиц. Видно, что клиенты разные, у них отличаются и город, и возраст, и заработная плата, удалять эти строки не будем, просто переиндексируем таблицу."
      ]
    },
    {
      "cell_type": "code",
      "execution_count": null,
      "metadata": {
        "id": "6Y03IilbLqEJ"
      },
      "outputs": [],
      "source": [
        "df = df.set_index('userid').reset_index(drop=True)"
      ]
    },
    {
      "cell_type": "markdown",
      "metadata": {
        "id": "GwF-s5P0LqEK"
      },
      "source": [
        "Создадим копии столбцов, чтобы не потерять исходные данные, и закодируем признак города и пола, создав новые колонки, 1 будет означать принадлежность к каждому городу/полу"
      ]
    },
    {
      "cell_type": "code",
      "execution_count": null,
      "metadata": {
        "scrolled": true,
        "id": "TJIE_9pgLqEK"
      },
      "outputs": [],
      "source": [
        "df['city_'] = df['city'].copy()\n",
        "df['gender_'] = df['gender'].copy()\n",
        "df = pd.get_dummies(df, columns=['city_', 'gender_'])\n",
        "df = df.rename(columns={'city__Ростов':'Ростов',\n",
        "                               'city__Рыбинск': 'Рыбинск',\n",
        "                               'city__Ярославль': 'Ярославль',\n",
        "                               'gender__Ж': 'Ж',\n",
        "                               'gender__М': 'М'})"
      ]
    },
    {
      "cell_type": "code",
      "execution_count": null,
      "metadata": {
        "id": "svpuGm6kLqEL",
        "outputId": "09210814-ade0-447d-ffac-c5fb24268308"
      },
      "outputs": [
        {
          "data": {
            "text/html": [
              "<div>\n",
              "<style scoped>\n",
              "    .dataframe tbody tr th:only-of-type {\n",
              "        vertical-align: middle;\n",
              "    }\n",
              "\n",
              "    .dataframe tbody tr th {\n",
              "        vertical-align: top;\n",
              "    }\n",
              "\n",
              "    .dataframe thead th {\n",
              "        text-align: right;\n",
              "    }\n",
              "</style>\n",
              "<table border=\"1\" class=\"dataframe\">\n",
              "  <thead>\n",
              "    <tr style=\"text-align: right;\">\n",
              "      <th></th>\n",
              "      <th>score</th>\n",
              "      <th>city</th>\n",
              "      <th>gender</th>\n",
              "      <th>age</th>\n",
              "      <th>equity</th>\n",
              "      <th>balance</th>\n",
              "      <th>products</th>\n",
              "      <th>credit_card</th>\n",
              "      <th>last_activity</th>\n",
              "      <th>est_salary</th>\n",
              "      <th>churn</th>\n",
              "      <th>Ростов</th>\n",
              "      <th>Рыбинск</th>\n",
              "      <th>Ярославль</th>\n",
              "      <th>Ж</th>\n",
              "      <th>М</th>\n",
              "    </tr>\n",
              "  </thead>\n",
              "  <tbody>\n",
              "    <tr>\n",
              "      <th>0</th>\n",
              "      <td>850.000</td>\n",
              "      <td>Рыбинск</td>\n",
              "      <td>Ж</td>\n",
              "      <td>25.000</td>\n",
              "      <td>1</td>\n",
              "      <td>59,214.820</td>\n",
              "      <td>2</td>\n",
              "      <td>0</td>\n",
              "      <td>1</td>\n",
              "      <td>75,719.140</td>\n",
              "      <td>1</td>\n",
              "      <td>0</td>\n",
              "      <td>1</td>\n",
              "      <td>0</td>\n",
              "      <td>1</td>\n",
              "      <td>0</td>\n",
              "    </tr>\n",
              "    <tr>\n",
              "      <th>1</th>\n",
              "      <td>861.000</td>\n",
              "      <td>Рыбинск</td>\n",
              "      <td>Ж</td>\n",
              "      <td>37.000</td>\n",
              "      <td>5</td>\n",
              "      <td>850,594.330</td>\n",
              "      <td>3</td>\n",
              "      <td>1</td>\n",
              "      <td>0</td>\n",
              "      <td>86,621.770</td>\n",
              "      <td>0</td>\n",
              "      <td>0</td>\n",
              "      <td>1</td>\n",
              "      <td>0</td>\n",
              "      <td>1</td>\n",
              "      <td>0</td>\n",
              "    </tr>\n",
              "    <tr>\n",
              "      <th>2</th>\n",
              "      <td>892.000</td>\n",
              "      <td>Рыбинск</td>\n",
              "      <td>Ж</td>\n",
              "      <td>30.000</td>\n",
              "      <td>0</td>\n",
              "      <td>NaN</td>\n",
              "      <td>1</td>\n",
              "      <td>1</td>\n",
              "      <td>1</td>\n",
              "      <td>107,683.340</td>\n",
              "      <td>0</td>\n",
              "      <td>0</td>\n",
              "      <td>1</td>\n",
              "      <td>0</td>\n",
              "      <td>1</td>\n",
              "      <td>0</td>\n",
              "    </tr>\n",
              "    <tr>\n",
              "      <th>3</th>\n",
              "      <td>866.000</td>\n",
              "      <td>Ярославль</td>\n",
              "      <td>Ж</td>\n",
              "      <td>51.000</td>\n",
              "      <td>5</td>\n",
              "      <td>1,524,746.260</td>\n",
              "      <td>2</td>\n",
              "      <td>0</td>\n",
              "      <td>1</td>\n",
              "      <td>174,423.530</td>\n",
              "      <td>1</td>\n",
              "      <td>0</td>\n",
              "      <td>0</td>\n",
              "      <td>1</td>\n",
              "      <td>1</td>\n",
              "      <td>0</td>\n",
              "    </tr>\n",
              "    <tr>\n",
              "      <th>4</th>\n",
              "      <td>730.000</td>\n",
              "      <td>Ярославль</td>\n",
              "      <td>М</td>\n",
              "      <td>34.000</td>\n",
              "      <td>5</td>\n",
              "      <td>174.000</td>\n",
              "      <td>1</td>\n",
              "      <td>1</td>\n",
              "      <td>0</td>\n",
              "      <td>67,353.160</td>\n",
              "      <td>1</td>\n",
              "      <td>0</td>\n",
              "      <td>0</td>\n",
              "      <td>1</td>\n",
              "      <td>0</td>\n",
              "      <td>1</td>\n",
              "    </tr>\n",
              "  </tbody>\n",
              "</table>\n",
              "</div>"
            ],
            "text/plain": [
              "    score       city gender    age  equity       balance  products  \\\n",
              "0 850.000    Рыбинск      Ж 25.000       1    59,214.820         2   \n",
              "1 861.000    Рыбинск      Ж 37.000       5   850,594.330         3   \n",
              "2 892.000    Рыбинск      Ж 30.000       0           NaN         1   \n",
              "3 866.000  Ярославль      Ж 51.000       5 1,524,746.260         2   \n",
              "4 730.000  Ярославль      М 34.000       5       174.000         1   \n",
              "\n",
              "   credit_card  last_activity  est_salary  churn  Ростов  Рыбинск  Ярославль  \\\n",
              "0            0              1  75,719.140      1       0        1          0   \n",
              "1            1              0  86,621.770      0       0        1          0   \n",
              "2            1              1 107,683.340      0       0        1          0   \n",
              "3            0              1 174,423.530      1       0        0          1   \n",
              "4            1              0  67,353.160      1       0        0          1   \n",
              "\n",
              "   Ж  М  \n",
              "0  1  0  \n",
              "1  1  0  \n",
              "2  1  0  \n",
              "3  1  0  \n",
              "4  0  1  "
            ]
          },
          "execution_count": 16,
          "metadata": {},
          "output_type": "execute_result"
        }
      ],
      "source": [
        "df.head()"
      ]
    },
    {
      "cell_type": "markdown",
      "metadata": {
        "id": "HB-tnigxLqEL"
      },
      "source": [
        "В датасете 10000 строк, банк представлен в трех городах: Рыбинск, Ярославль, Ростов. Возраст клиентов от 18 до 80 лет. Были найдены дубликаты ID клиентов, но дублирующие строки были сохранены, так как данные клиентов разные, похоже на ошибку при слиянии данных из разных таблиц. Привели названия колонок к единому стилю. Есть несколько пропусков в колонке возраста, а также около 23% в колонке баланса на счете. Пропуски оставили, так как замена на среднее/медиану повлечет за собой искажение данных. Для определения корреляции между признаками, провели кодирование признаков города и пола"
      ]
    },
    {
      "cell_type": "markdown",
      "metadata": {
        "id": "CtPzHmkrLqEM"
      },
      "source": [
        "## Исследовательский анализ данных"
      ]
    },
    {
      "cell_type": "markdown",
      "metadata": {
        "id": "9_sGNwo8LqEM"
      },
      "source": [
        "Для каждой категориальной переменной построим столбчатые диаграммы, посмотрим количество клиентов по городам, полу, количеству используемых продуктов, количеству баллов собственности, имеющих кредитные карты, попавших в отток и активных клиентов. А также посмотрим на эти признаки в разрезе оттока"
      ]
    },
    {
      "cell_type": "code",
      "execution_count": null,
      "metadata": {
        "scrolled": false,
        "id": "kZbZS6BILqEN",
        "outputId": "8f2fda02-1b58-461d-f6e1-6d0a1a7d1f38"
      },
      "outputs": [
        {
          "data": {
            "image/png": "[encoded data removed]",
            "text/plain": [
              "<Figure size 1080x2160 with 13 Axes>"
            ]
          },
          "metadata": {},
          "output_type": "display_data"
        }
      ],
      "source": [
        "fig, axes = plt.subplots(nrows=7, ncols=2, figsize=(15, 30))\n",
        "\n",
        "columns = ['city', 'gender', 'products', 'credit_card', 'equity', 'last_activity', 'churn']\n",
        "title1 = {\n",
        "    'city': 'Город',\n",
        "    'gender': 'Пол клиентов',\n",
        "    'products': 'Количество продуктов',\n",
        "    'equity': 'Баллы собственности',\n",
        "    'credit_card': 'Наличие кредитной карты',\n",
        "    'last_activity': 'Неактивные/активные клиенты',\n",
        "    'churn': 'Отток клиентов'}\n",
        "title2 = {\n",
        "    'city': 'Отток по городам',\n",
        "    'gender': 'Отток по полу',\n",
        "    'products': 'Отток по количеству продуктов',\n",
        "    'equity': 'Отток по баллам собственности',\n",
        "    'credit_card': 'Отток по наличию кредитной карты',\n",
        "    'last_activity': 'Отток по неактивным/активным клиентам',\n",
        "    'churn': 'Отток клиентов'}\n",
        "\n",
        "# список осей\n",
        "ax2_list = []\n",
        "\n",
        "# для каждой колонки строим countplot и barplot\n",
        "for i, col in enumerate(columns):\n",
        "\n",
        "    ax1 = sns.countplot(x=col, data=df, ax=axes[i][0])\n",
        "    ax1.set_ylabel('Общее кол-во клиентов')\n",
        "    ax1.set_title(title1[col], fontsize=15)\n",
        "    ax1.set(xlabel=None)\n",
        "\n",
        "    # настраиваем отображение процентов\n",
        "    for p in ax1.patches:\n",
        "        cnt = p.get_height()\n",
        "        ax1.annotate(f'{cnt / len(df[col]) * 100:.2f}%',\n",
        "                     xy=(p.get_x() + p.get_width() / 2, cnt),\n",
        "                     ha='center',\n",
        "                     va='bottom',\n",
        "                     fontsize=9)\n",
        "\n",
        "    # barplot по оттоку, устанавливаем линию со средним уровнем оттока\n",
        "    ax2 = sns.barplot(x=col, y='churn', data=df, ax=axes[i][1])\n",
        "\n",
        "    # добавление линии со средним уровнем оттока\n",
        "    mean_churn = df['churn'].mean()\n",
        "    ax2.axhline(mean_churn, color='red', linestyle='--', label='Средний отток')\n",
        "    ax2.set_ylabel('Доля оттока')\n",
        "    ax2.set_title(title2[col], fontsize=15)\n",
        "    ax2.set(xlabel=None)\n",
        "    ax2_list.append(ax2)\n",
        "\n",
        "# удаляем график оттока с разбивкой по оттоку в последней ячейке\n",
        "axes[-1][1].remove()\n",
        "\n",
        "plt.tight_layout()\n",
        "plt.show()"
      ]
    },
    {
      "cell_type": "markdown",
      "metadata": {
        "id": "2io5P-acLqEN"
      },
      "source": [
        "Клиентская база банка:\n",
        "* Большинство клиентов из Ярославля\n",
        "* Соотношение мужчин и женщин примерно одинаковое\n",
        "* В основном, клиенты пользуются двумя и одним продуктом\n",
        "* У большинства клиентов до 5 баллов собственности\n",
        "* 68% клиентов оформили кредитную карту\n",
        "* 52% активных клиентов\n",
        "* Отток составляет 18%\n",
        "\n",
        "Клиенты попавшие в отток:\n",
        "* Доля оттока в Ярославле и Ростове превышает средний уровень оттока\n",
        "* Большинство ушедших клиентов - мужчины\n",
        "* Начиная от 2 продуктов отток клиентов превышает средний уровень оттока (доля клиентов с 5-ю продуктами слишком мала, чтобы принимать во внимание превышение среднего уровня оттока на графике)\n",
        "* Отток среди клиентов, у которых нет кредитной карты превышает средний уровень оттока\n",
        "* Доля оттока у клиентов с 3, 4, 5-ю баллами собственности превышает средний уровень оттока (доля клиентов с 6, 7, 8, 9-ю баллами слишком мала, чтобы принимать во внимание превышение среднего уровня оттока на графике)\n",
        "* Доля оттока среди активных клиентов превышает средний уровень оттока"
      ]
    },
    {
      "cell_type": "markdown",
      "metadata": {
        "id": "MuqJhGg_LqEQ"
      },
      "source": [
        "Рассмотрим распределение непрерывных переменных с настройками, позволяющими нормализовать каждую гистограмму в независимости друг от друга."
      ]
    },
    {
      "cell_type": "code",
      "execution_count": null,
      "metadata": {
        "scrolled": false,
        "id": "xIcUX89qLqEQ",
        "outputId": "c60fc951-0404-4587-a6b2-140bbe0ebfd9"
      },
      "outputs": [
        {
          "data": {
            "image/png": "[encoded data removed]",
            "text/plain": [
              "<Figure size 720x576 with 1 Axes>"
            ]
          },
          "metadata": {},
          "output_type": "display_data"
        },
        {
          "data": {
            "image/png": "[encoded data removed]",
            "text/plain": [
              "<Figure size 720x576 with 1 Axes>"
            ]
          },
          "metadata": {},
          "output_type": "display_data"
        },
        {
          "data": {
            "image/png": "[encoded data removed]",
            "text/plain": [
              "<Figure size 720x576 with 1 Axes>"
            ]
          },
          "metadata": {},
          "output_type": "display_data"
        },
        {
          "data": {
            "image/png": "[encoded data removed]",
            "text/plain": [
              "<Figure size 720x576 with 1 Axes>"
            ]
          },
          "metadata": {},
          "output_type": "display_data"
        }
      ],
      "source": [
        "# функция для построения гистограммы\n",
        "def histplot(df, column, title, x=None, x1=None, binwidth=None):\n",
        "    plt.figure(figsize=(10, 8))\n",
        "    sns.histplot(data=df, x=column, kde=True, stat=\"density\", common_norm=False, hue='churn', binwidth=binwidth)\n",
        "    ax = plt.gca()\n",
        "    ax.set(xlabel=None)\n",
        "    ax.ticklabel_format(style='plain', axis='x')\n",
        "    ax.legend(title='отток', labels=['да', 'нет'], loc='upper right')\n",
        "    plt.xticks(rotation=30)\n",
        "    plt.ylabel('Плотность распределения')\n",
        "    plt.title(title, fontsize=15)\n",
        "    plt.xlim(x, x1)\n",
        "\n",
        "columns = ['score', 'age', 'balance', 'est_salary']\n",
        "titles = {\n",
        "    'score': 'Распределение баллов кредитного скоринга',\n",
        "    'age': 'Возраст клиентов',\n",
        "    'balance': 'Баланс на счете',\n",
        "    'est_salary': 'Заработная плата'}\n",
        "\n",
        "# для каждой колонки с непрерывной переменной отображаем график, ограничивая ось x\n",
        "for column in columns:\n",
        "    if column == 'balance':\n",
        "        x = 0\n",
        "        x1 = 3000000\n",
        "    elif column == 'est_salary':\n",
        "        x = 0\n",
        "        x1 = 500000\n",
        "    else:\n",
        "        x = None\n",
        "        x1 = None\n",
        "\n",
        "    if column == 'age':\n",
        "        histplot(df, df[column], title=titles[column], x=x, x1=x1, binwidth=1)\n",
        "    else:\n",
        "        histplot(df, df[column], title=titles[column], x=x, x1=x1)"
      ]
    },
    {
      "cell_type": "markdown",
      "metadata": {
        "id": "BjTI7qdLLqER"
      },
      "source": [
        "В отток чаще попадают клиенты с большим количеством баллов, в возрасте от 26 до 38, и от 51 до 61, с балансом на счете выше, чем у всех клиентов. Заработная плата клиентов из оттока немного смещена правее относительно всех клиентов, то есть заработная плата у них чуть выше, основной отток приходится на клиентов с зарплатой ~ 90000-210000."
      ]
    },
    {
      "cell_type": "markdown",
      "metadata": {
        "id": "StWCsH3XLqEU"
      },
      "source": [
        "Определим границы интервала с большим количеством оттоковых клиентов по баллам кредитного скоринга, отбросив края распределения, примерно 10 и 90 квантиль"
      ]
    },
    {
      "cell_type": "code",
      "execution_count": null,
      "metadata": {
        "id": "pbuUobzTLqEU",
        "outputId": "fc58c2ae-9946-4bd0-ae77-9bf034ac8dc4"
      },
      "outputs": [
        {
          "name": "stdout",
          "output_type": "stream",
          "text": [
            "Границы интервала баллов кредитного скоринга с наибольшим оттоком\n",
            "Левая граница: 796.0\n",
            "Правая граница: 926.0\n"
          ]
        }
      ],
      "source": [
        "print('Границы интервала баллов кредитного скоринга с наибольшим оттоком')\n",
        "print(f'''Левая граница: {df[df['churn'] == 1]['score'].quantile(0.1)}''')\n",
        "print(f'''Правая граница: {df[df['churn'] == 1]['score'].quantile(0.9)}''')"
      ]
    },
    {
      "cell_type": "markdown",
      "metadata": {
        "id": "hchGU9VgLqEV"
      },
      "source": [
        "Посмотрим на средние значения признаков в разрезе оттока, посчитаем относительную разницу между ними"
      ]
    },
    {
      "cell_type": "code",
      "execution_count": null,
      "metadata": {
        "scrolled": false,
        "id": "wBwfntnqLqEV",
        "outputId": "10b75686-891d-4ed6-bb5b-9ed8790720b1"
      },
      "outputs": [
        {
          "data": {
            "text/html": [
              "<div>\n",
              "<style scoped>\n",
              "    .dataframe tbody tr th:only-of-type {\n",
              "        vertical-align: middle;\n",
              "    }\n",
              "\n",
              "    .dataframe tbody tr th {\n",
              "        vertical-align: top;\n",
              "    }\n",
              "\n",
              "    .dataframe thead th {\n",
              "        text-align: right;\n",
              "    }\n",
              "</style>\n",
              "<table border=\"1\" class=\"dataframe\">\n",
              "  <thead>\n",
              "    <tr style=\"text-align: right;\">\n",
              "      <th>churn</th>\n",
              "      <th>не отток</th>\n",
              "      <th>отток</th>\n",
              "      <th>Относительная разница</th>\n",
              "    </tr>\n",
              "  </thead>\n",
              "  <tbody>\n",
              "    <tr>\n",
              "      <th>score</th>\n",
              "      <td>845.428</td>\n",
              "      <td>863.347</td>\n",
              "      <td>2.075</td>\n",
              "    </tr>\n",
              "    <tr>\n",
              "      <th>age</th>\n",
              "      <td>43.021</td>\n",
              "      <td>41.430</td>\n",
              "      <td>3.841</td>\n",
              "    </tr>\n",
              "    <tr>\n",
              "      <th>equity</th>\n",
              "      <td>2.375</td>\n",
              "      <td>3.764</td>\n",
              "      <td>36.910</td>\n",
              "    </tr>\n",
              "    <tr>\n",
              "      <th>balance</th>\n",
              "      <td>733,982.586</td>\n",
              "      <td>1,133,993.271</td>\n",
              "      <td>35.275</td>\n",
              "    </tr>\n",
              "    <tr>\n",
              "      <th>products</th>\n",
              "      <td>1.758</td>\n",
              "      <td>2.377</td>\n",
              "      <td>26.063</td>\n",
              "    </tr>\n",
              "    <tr>\n",
              "      <th>credit_card</th>\n",
              "      <td>0.709</td>\n",
              "      <td>0.551</td>\n",
              "      <td>28.612</td>\n",
              "    </tr>\n",
              "    <tr>\n",
              "      <th>last_activity</th>\n",
              "      <td>0.484</td>\n",
              "      <td>0.703</td>\n",
              "      <td>31.148</td>\n",
              "    </tr>\n",
              "    <tr>\n",
              "      <th>est_salary</th>\n",
              "      <td>147,783.200</td>\n",
              "      <td>148,310.728</td>\n",
              "      <td>0.356</td>\n",
              "    </tr>\n",
              "    <tr>\n",
              "      <th>Ростов</th>\n",
              "      <td>0.141</td>\n",
              "      <td>0.146</td>\n",
              "      <td>3.778</td>\n",
              "    </tr>\n",
              "    <tr>\n",
              "      <th>Рыбинск</th>\n",
              "      <td>0.276</td>\n",
              "      <td>0.240</td>\n",
              "      <td>15.164</td>\n",
              "    </tr>\n",
              "    <tr>\n",
              "      <th>Ярославль</th>\n",
              "      <td>0.583</td>\n",
              "      <td>0.614</td>\n",
              "      <td>5.019</td>\n",
              "    </tr>\n",
              "    <tr>\n",
              "      <th>Ж</th>\n",
              "      <td>0.533</td>\n",
              "      <td>0.350</td>\n",
              "      <td>52.374</td>\n",
              "    </tr>\n",
              "    <tr>\n",
              "      <th>М</th>\n",
              "      <td>0.467</td>\n",
              "      <td>0.650</td>\n",
              "      <td>28.157</td>\n",
              "    </tr>\n",
              "  </tbody>\n",
              "</table>\n",
              "</div>"
            ],
            "text/plain": [
              "churn            не отток         отток  Относительная разница\n",
              "score             845.428       863.347                  2.075\n",
              "age                43.021        41.430                  3.841\n",
              "equity              2.375         3.764                 36.910\n",
              "balance       733,982.586 1,133,993.271                 35.275\n",
              "products            1.758         2.377                 26.063\n",
              "credit_card         0.709         0.551                 28.612\n",
              "last_activity       0.484         0.703                 31.148\n",
              "est_salary    147,783.200   148,310.728                  0.356\n",
              "Ростов              0.141         0.146                  3.778\n",
              "Рыбинск             0.276         0.240                 15.164\n",
              "Ярославль           0.583         0.614                  5.019\n",
              "Ж                   0.533         0.350                 52.374\n",
              "М                   0.467         0.650                 28.157"
            ]
          },
          "execution_count": 20,
          "metadata": {},
          "output_type": "execute_result"
        }
      ],
      "source": [
        "churn = df.groupby('churn').agg('mean').T\n",
        "churn = churn.rename(columns={0: 'не отток', 1: 'отток'})\n",
        "churn['Относительная разница'] = abs(churn['отток'] - churn['не отток'])/churn['отток'] * 100\n",
        "churn"
      ]
    },
    {
      "cell_type": "markdown",
      "metadata": {
        "id": "kd_g8027LqEW"
      },
      "source": [
        "В группе оттока преобладают мужчины - 65% против 35% женщин. Более 60% отточных клиентов были зарегистрированы в филиале Ярославля. Активные клиенты более склонны к оттоку. Остальные показатели схожи."
      ]
    },
    {
      "cell_type": "markdown",
      "metadata": {
        "id": "SP1f7ccULqEW"
      },
      "source": [
        "Проверим корреляцию оттока с остальными признаками"
      ]
    },
    {
      "cell_type": "code",
      "execution_count": null,
      "metadata": {
        "id": "6pBLMTIhLqEX",
        "outputId": "ada05844-0985-445b-f24c-34dd4d17fd6f"
      },
      "outputs": [
        {
          "data": {
            "image/png": "[encoded data removed]",
            "text/plain": [
              "<Figure size 432x360 with 2 Axes>"
            ]
          },
          "metadata": {},
          "output_type": "display_data"
        }
      ],
      "source": [
        "plt.figure(figsize=(6, 5))\n",
        "sns.heatmap(df.corrwith(df['churn']).sort_values(ascending=False).to_frame(), annot=True, cmap='seismic', center=0)\n",
        "plt.title('Корреляция факта оттока с другими признаками', fontsize=15);"
      ]
    },
    {
      "cell_type": "markdown",
      "metadata": {
        "id": "tC8YuJVqLqEX"
      },
      "source": [
        "В целом, в соответствии со шкалой корреляции Чеддока, по всем признакам наблюдается слабая корреляция. Наибольшая корреляция оттока наблюдается с количеством используемых продуктов (0.3) и количеством баллов собственности (0.27)."
      ]
    },
    {
      "cell_type": "markdown",
      "metadata": {
        "id": "OqstVZQmLqEZ"
      },
      "source": [
        "## Проверка статистических гипотез"
      ]
    },
    {
      "cell_type": "markdown",
      "metadata": {
        "id": "7L_77N51LqEZ"
      },
      "source": [
        "Определим статистический тест для проверки гипотезы о различии дохода между теми клиентами, которые ушли и теми, которые остались. Необходимо проверить равенство средних двух выборок. На графиках видели, что распределение не похоже на нормальное, чтобы убедиться в этом, проведем тест Шапиро-Уилка"
      ]
    },
    {
      "cell_type": "markdown",
      "metadata": {
        "id": "Kd_StwuMLqEZ"
      },
      "source": [
        "Нулевая: данные распределены нормально\n",
        "\n",
        "Альтернативная: данные распределены не нормально\n",
        "\n",
        "Для всех тестов установим уровень значимости (alpha) = 0.05"
      ]
    },
    {
      "cell_type": "code",
      "execution_count": null,
      "metadata": {
        "id": "oS0aborDLqEa"
      },
      "outputs": [],
      "source": [
        "# определим выборки\n",
        "salary_churn = df[df['churn'] == 1]['est_salary']\n",
        "salary_no_churn = df[df['churn'] == 0]['est_salary']\n",
        "# функция для определения нормальности распределения\n",
        "def norm(sample):\n",
        "    alpha = 0.05\n",
        "    results = st.shapiro(sample)\n",
        "    print(results.pvalue)\n",
        "    if results.pvalue < alpha:\n",
        "        print('Отвергаем нулевую гипотезу, данные распределены не нормально')\n",
        "    else:\n",
        "        print('Не получилось отвергнуть нулевую гипотезу, данные распределены нормально')"
      ]
    },
    {
      "cell_type": "code",
      "execution_count": null,
      "metadata": {
        "id": "tG10c8INLqEa",
        "outputId": "54fa47eb-8d40-4869-8f9d-5ab70f233ecf"
      },
      "outputs": [
        {
          "name": "stdout",
          "output_type": "stream",
          "text": [
            "0.0\n",
            "Отвергаем нулевую гипотезу, данные распределены не нормально\n"
          ]
        }
      ],
      "source": [
        "norm(salary_churn)"
      ]
    },
    {
      "cell_type": "code",
      "execution_count": null,
      "metadata": {
        "id": "xaNpKLDsLqEa",
        "outputId": "8772084c-b27c-4f18-fbfb-e6f31061fe0f"
      },
      "outputs": [
        {
          "name": "stdout",
          "output_type": "stream",
          "text": [
            "0.0\n",
            "Отвергаем нулевую гипотезу, данные распределены не нормально\n"
          ]
        }
      ],
      "source": [
        "norm(salary_no_churn)"
      ]
    },
    {
      "cell_type": "markdown",
      "metadata": {
        "id": "0ktEZY_tLqEb"
      },
      "source": [
        "В обеих выборках данные распределены не нормально, значит ttest не подходит. Будем использовать непараметрический тест Уилкоксона-Манна-Уитни"
      ]
    },
    {
      "cell_type": "code",
      "execution_count": null,
      "metadata": {
        "id": "T-Wuss3kLqEd"
      },
      "outputs": [],
      "source": [
        "# функция для теста Манна-Уитни\n",
        "def test_mnw(a , b):\n",
        "    alpha = 0.05\n",
        "    pvalue = st.mannwhitneyu(a, b)[1]\n",
        "    print(f'p_value: {pvalue}')\n",
        "    if pvalue < alpha:\n",
        "        print('Отвергаем нулевую гипотезу, различия между выборками есть')\n",
        "    else:\n",
        "        print('Нет оснований отвергнуть нулевую гипотезу, различий между выборками нет')"
      ]
    },
    {
      "cell_type": "markdown",
      "metadata": {
        "id": "NtE2Vd9ZLqEd"
      },
      "source": [
        "Сформулируем гипотезы:\n",
        "\n",
        "Нулевая: Нет разницы между доходом клиентов, которые ушли и теми, которые остались.\n",
        "\n",
        "Альтернативная: Есть разница между доходом клиентов, которые ушли и теми, которые остались."
      ]
    },
    {
      "cell_type": "code",
      "execution_count": null,
      "metadata": {
        "id": "mmfGgIqELqEe",
        "outputId": "2c4d4f00-16c7-4dfb-ddf5-7ef5c03f7bdb"
      },
      "outputs": [
        {
          "name": "stdout",
          "output_type": "stream",
          "text": [
            "p_value: 0.00021160652203623057\n",
            "Отвергаем нулевую гипотезу, различия между выборками есть\n"
          ]
        }
      ],
      "source": [
        "test_mnw(salary_churn, salary_no_churn)"
      ]
    },
    {
      "cell_type": "markdown",
      "metadata": {
        "id": "MREjZkJmLqEf"
      },
      "source": [
        "Тест Манна-Уитни показал, что есть разница между доходом клиентов, которые ушли и теми, которые остались"
      ]
    },
    {
      "cell_type": "markdown",
      "metadata": {
        "id": "q7diq2PRLqEf"
      },
      "source": [
        "Проверим гипотезу о разнице в возрасте между клиентами, которые ушли и теми, которые остались, предварительно проверив выборки на нормальность распределения"
      ]
    },
    {
      "cell_type": "code",
      "execution_count": null,
      "metadata": {
        "id": "vct7z0g8LqEg"
      },
      "outputs": [],
      "source": [
        "# определим выборки\n",
        "age_churn = df[df['churn'] == 1]['age']\n",
        "age_no_churn = df[df['churn'] == 0]['age']"
      ]
    },
    {
      "cell_type": "code",
      "execution_count": null,
      "metadata": {
        "id": "EKWlHQgpLqEg",
        "outputId": "5e7888e5-5218-46ad-cdf0-d884569c3ff2"
      },
      "outputs": [
        {
          "name": "stdout",
          "output_type": "stream",
          "text": [
            "1.0\n",
            "Не получилось отвергнуть нулевую гипотезу, данные распределены нормально\n"
          ]
        }
      ],
      "source": [
        "norm(age_churn)"
      ]
    },
    {
      "cell_type": "code",
      "execution_count": null,
      "metadata": {
        "id": "l2kM2CzULqEg",
        "outputId": "b87db397-ac25-4b4b-b29e-84c61ca472d7"
      },
      "outputs": [
        {
          "name": "stdout",
          "output_type": "stream",
          "text": [
            "1.0\n",
            "Не получилось отвергнуть нулевую гипотезу, данные распределены нормально\n"
          ]
        }
      ],
      "source": [
        "norm(age_no_churn)"
      ]
    },
    {
      "cell_type": "markdown",
      "metadata": {
        "id": "z9HmDytvLqEh"
      },
      "source": [
        "Данные распределены не нормально, также будем использовать критерий Манна-Уитни\n",
        "\n",
        "Сформулируем гипотезы:\n",
        "\n",
        "Нулевая: Нет разницы в возрасте между клиентами, которые ушли и теми, которые остались.\n",
        "\n",
        "Альтернативная: Есть разница в возрасте между клиентами, которые ушли и теми, которые остались."
      ]
    },
    {
      "cell_type": "code",
      "execution_count": null,
      "metadata": {
        "id": "B70jQLd5LqEh",
        "outputId": "92e3432e-54c5-44e9-910f-972f6051a764"
      },
      "outputs": [
        {
          "name": "stdout",
          "output_type": "stream",
          "text": [
            "p_value: nan\n",
            "Нет оснований отвергнуть нулевую гипотезу, различий между выборками нет\n"
          ]
        }
      ],
      "source": [
        "test_mnw(age_churn, age_no_churn)"
      ]
    },
    {
      "cell_type": "markdown",
      "metadata": {
        "id": "32NzxdDzLqEh"
      },
      "source": [
        "Тест Манна-Уитни показал, что есть разница в возрасте между клиентами, которые ушли и теми, которые остались"
      ]
    },
    {
      "cell_type": "markdown",
      "metadata": {
        "id": "F_2R8iYXLqEi"
      },
      "source": [
        "Проверим гипотезу о разнице в баллах кредитного скоринга между клиентами, которые ушли и теми, которые остались, предварительно проверив выборки на нормальность распределения"
      ]
    },
    {
      "cell_type": "code",
      "execution_count": null,
      "metadata": {
        "id": "uhreg5Y1LqEi"
      },
      "outputs": [],
      "source": [
        "# определим выборки\n",
        "score_churn = df[df['churn'] == 1]['score']\n",
        "score_no_churn = df[df['churn'] == 0]['score']"
      ]
    },
    {
      "cell_type": "code",
      "execution_count": null,
      "metadata": {
        "id": "VX_eFTgELqEj",
        "outputId": "7fb1afa3-97d5-405b-d47e-cd945bd2d654"
      },
      "outputs": [
        {
          "name": "stdout",
          "output_type": "stream",
          "text": [
            "0.00010231484338873997\n",
            "Отвергаем нулевую гипотезу, данные распределены не нормально\n"
          ]
        }
      ],
      "source": [
        "norm(score_churn)"
      ]
    },
    {
      "cell_type": "code",
      "execution_count": null,
      "metadata": {
        "id": "0ewaqEfILqEj",
        "outputId": "71a3f150-7fdb-4e68-e894-bf7e223b5ea0"
      },
      "outputs": [
        {
          "name": "stdout",
          "output_type": "stream",
          "text": [
            "3.817680641163025e-26\n",
            "Отвергаем нулевую гипотезу, данные распределены не нормально\n"
          ]
        }
      ],
      "source": [
        "norm(score_no_churn)"
      ]
    },
    {
      "cell_type": "markdown",
      "metadata": {
        "id": "erAxA-B5LqEk"
      },
      "source": [
        "Данные распределены не нормально, используем критерий Манна-Уитни\n",
        "\n",
        "Сформулируем гипотезы:\n",
        "\n",
        "Нулевая: Нет разницы в баллах кредитного скоринга между клиентами, которые ушли и теми, которые остались.\n",
        "\n",
        "Альтернативная: Есть разница в баллах кредитного скоринга между клиентами, которые ушли и теми, которые остались."
      ]
    },
    {
      "cell_type": "code",
      "execution_count": null,
      "metadata": {
        "id": "1kqGHeNxLqEk",
        "outputId": "96d7a169-e4db-47c9-ef0f-d2687ffbed41"
      },
      "outputs": [
        {
          "name": "stdout",
          "output_type": "stream",
          "text": [
            "p_value: 7.364570509844462e-22\n",
            "Отвергаем нулевую гипотезу, различия между выборками есть\n"
          ]
        }
      ],
      "source": [
        "test_mnw(score_churn, score_no_churn)"
      ]
    },
    {
      "cell_type": "markdown",
      "metadata": {
        "id": "IdtIPvJiLqEk"
      },
      "source": [
        "Тест Манна-Уитни показал, что есть разница в баллах кредитного скоринга между клиентами, которые ушли и теми, которые остались"
      ]
    },
    {
      "cell_type": "markdown",
      "metadata": {
        "id": "9eRZRduDLqEl"
      },
      "source": [
        "## Промежуточные выводы"
      ]
    },
    {
      "cell_type": "markdown",
      "metadata": {
        "id": "x5bysNTLLqEl"
      },
      "source": [
        "По результатам исследовательского анализа данных определили клиентскую базу банка:\n",
        "* Большинство клиентов из Ярославля\n",
        "* Соотношение мужчин и женщин одинаковое\n",
        "* В основном, клиенты пользуются двумя и одним продуктом\n",
        "* У большинства клиентов до 5 баллов собственности\n",
        "* 68% клиентов оформили кредитную карту\n",
        "* 52% активных клиентов\n",
        "* Отток составляет 18%\n",
        "\n",
        "Определили клиентов, которые попали в отток:\n",
        "* Доля оттока в Ярославле и Ростове превышает средний уровень оттока\n",
        "* Большинство ушедших клиентов - мужчины (65% против 35% женщин)\n",
        "* Начиная от 2 продуктов отток клиентов превышает средний уровень оттока\n",
        "* Отток среди клиентов, у которых нет кредитной карты превышает средний уровень оттока\n",
        "* Доля оттока у клиентов с 3, 4, 5-ю баллами собственности превышает средний уровень оттока\n",
        "* Доля оттока среди активных клиентов превышает средний уровень оттока (отток активных составляет 70%)\n",
        "* Среднее количество баллов кредитного скоринга у клиентов в оттоке - 863, больше, чем у неушедших клиентов (845)\n",
        "* Средний возраст клиента в оттоке - 41 год\n",
        "* Средняя зарплата клиентов в оттоке ~ 148000\n",
        "\n",
        "Корреляционный анализ показал, что по всем признакам наблюдается слабая корреляция. Наибольшая корреляция оттока наблюдается с количеством используемых продуктов (0.3) и количеством баллов собственности (0.27).\n",
        "\n",
        "Проверили и подтвердили гипотезы о том, что:\n",
        "* Есть разница между доходом  клиентов, которые ушли и теми, которые остались\n",
        "* Есть разница в баллах кредитного скоринга между клиентами, которые ушли и теми, которые остались\n",
        "* Есть разница в возрасте между клиентами, которые ушли и теми, которые остались\n",
        "\n",
        "При проверке гипотез использовали критерий Манна-Уитни, так как выборки имели ненормальное распределение\n",
        "\n",
        "Исходя из полученных результатов проведенного исследования, клиентов будем сегментировать на основе признаков и диапазонов:\n",
        "* возраст - 26-38, 51-61\n",
        "* баллы кредитного скоринга - 796 - 926\n",
        "* количество баллов собственности - 3-5\n",
        "* количество продуктов 2-3\n",
        "* зарплата - 90000-210000"
      ]
    },
    {
      "cell_type": "markdown",
      "metadata": {
        "id": "OQsTDebQLqEm"
      },
      "source": [
        "## Сегментация клиентов"
      ]
    },
    {
      "cell_type": "markdown",
      "metadata": {
        "id": "humphm75LqEm"
      },
      "source": [
        "Сегментация пользователей будет происходить путем комбинации выбранных параметров:\n",
        "* пол\n",
        "* возраст\n",
        "* баллы кредитного скоринга\n",
        "* количество баллов собственности\n",
        "* количество продуктов\n",
        "* зарплата\n",
        "\n",
        "Будем рассматривать сегменты по полу и возрасту и одному из выделенных признаков. Таким образом, сможем избежать пересечения пользователей в разных сегментах и охватить большее количество пользователей в сегменте. Приоритизация будет происходить путем выбора сегмента в каждой группе пол-возраст, где выбранный признак охватит наибольшую долю оттока и большее количество клиентов в сегменте"
      ]
    },
    {
      "cell_type": "code",
      "execution_count": null,
      "metadata": {
        "id": "HcK42_uILqEo"
      },
      "outputs": [],
      "source": [
        "# функция, подсчитывающая количество клиентов и долю оттока в каждом сегменте\n",
        "def segment(gender, x, y, param, p1, p2):\n",
        "    sgm = df.query('gender == @gender and @x < age <= @y and @p1 <=' + param + '<= @p2')\n",
        "    print (f'Размер сегмента: {sgm[\"score\"].count()}')\n",
        "\n",
        "    print (f'Кол-во ушедших клиентов: {sgm[sgm[\"churn\"]==1][\"score\"].count()}')\n",
        "\n",
        "    print (f'Доля оттока: {round(sgm[sgm[\"churn\"]==1][\"score\"].count() / sgm[\"score\"].count()*100, 1)}')"
      ]
    },
    {
      "cell_type": "markdown",
      "metadata": {
        "id": "CH-biD0SLqEo"
      },
      "source": [
        "Сегменты возраста 26-38, мужской пол"
      ]
    },
    {
      "cell_type": "code",
      "execution_count": null,
      "metadata": {
        "scrolled": false,
        "id": "ouQae5luLqEp",
        "outputId": "a5866075-9eab-4e4c-deda-de8a85fed9ed"
      },
      "outputs": [
        {
          "name": "stdout",
          "output_type": "stream",
          "text": [
            "Размер сегмента: 1882\n",
            "Кол-во ушедших клиентов: 382\n",
            "Доля оттока: 20.3\n"
          ]
        }
      ],
      "source": [
        "segment('М', 26, 38, 'products', 1, 2)"
      ]
    },
    {
      "cell_type": "code",
      "execution_count": null,
      "metadata": {
        "scrolled": true,
        "id": "mFfEHnMqLqEp",
        "outputId": "28ca9184-912e-464b-f306-f9c8727407f6"
      },
      "outputs": [
        {
          "name": "stdout",
          "output_type": "stream",
          "text": [
            "Размер сегмента: 1146\n",
            "Кол-во ушедших клиентов: 302\n",
            "Доля оттока: 26.4\n"
          ]
        }
      ],
      "source": [
        "segment('М', 26, 38, 'est_salary', 90000, 210000)"
      ]
    },
    {
      "cell_type": "code",
      "execution_count": null,
      "metadata": {
        "id": "RnRUFOYSLqEp",
        "outputId": "d3903bed-154c-4ce8-bbd2-763eef6bc13b"
      },
      "outputs": [
        {
          "name": "stdout",
          "output_type": "stream",
          "text": [
            "Размер сегмента: 1136\n",
            "Кол-во ушедших клиентов: 414\n",
            "Доля оттока: 36.4\n"
          ]
        }
      ],
      "source": [
        "segment('М', 26, 38, 'equity', 3, 5)"
      ]
    },
    {
      "cell_type": "code",
      "execution_count": null,
      "metadata": {
        "scrolled": false,
        "id": "rLc5-XrKLqEq",
        "outputId": "0741ddce-02f0-46cd-868c-22618ecc7351"
      },
      "outputs": [
        {
          "name": "stdout",
          "output_type": "stream",
          "text": [
            "Размер сегмента: 1441\n",
            "Кол-во ушедших клиентов: 415\n",
            "Доля оттока: 28.8\n"
          ]
        }
      ],
      "source": [
        "segment('М', 26, 38, 'score', 796, 926)"
      ]
    },
    {
      "cell_type": "code",
      "execution_count": null,
      "metadata": {
        "id": "o0hV-QsJLqEq",
        "outputId": "0617958a-fc4d-428a-a9d8-d6bf01c7a139"
      },
      "outputs": [
        {
          "name": "stdout",
          "output_type": "stream",
          "text": [
            "Размер сегмента: 495\n",
            "Кол-во ушедших клиентов: 200\n",
            "Доля оттока: 40.4\n"
          ]
        }
      ],
      "source": [
        "segment('М', 26, 38, 'credit_card', 0, 0)"
      ]
    },
    {
      "cell_type": "markdown",
      "metadata": {
        "id": "KOZBW3unLqEq"
      },
      "source": [
        "Сегменты возраста 26-38, женский пол"
      ]
    },
    {
      "cell_type": "code",
      "execution_count": null,
      "metadata": {
        "scrolled": false,
        "id": "qM5UpEwsLqEq",
        "outputId": "26f8b95c-1447-44a2-a07b-303eb95b42e9"
      },
      "outputs": [
        {
          "name": "stdout",
          "output_type": "stream",
          "text": [
            "Размер сегмента: 1434\n",
            "Кол-во ушедших клиентов: 154\n",
            "Доля оттока: 10.7\n"
          ]
        }
      ],
      "source": [
        "segment('Ж', 26, 38, 'products', 1, 2)"
      ]
    },
    {
      "cell_type": "code",
      "execution_count": null,
      "metadata": {
        "scrolled": true,
        "id": "Wgz3AvniLqEr",
        "outputId": "825199dd-f8f8-4163-c82f-9874d6e8250d"
      },
      "outputs": [
        {
          "name": "stdout",
          "output_type": "stream",
          "text": [
            "Размер сегмента: 900\n",
            "Кол-во ушедших клиентов: 161\n",
            "Доля оттока: 17.9\n"
          ]
        }
      ],
      "source": [
        "segment('Ж', 26, 38, 'est_salary', 90000, 210000)"
      ]
    },
    {
      "cell_type": "code",
      "execution_count": null,
      "metadata": {
        "scrolled": false,
        "id": "Kqa42MQ8LqEr",
        "outputId": "08341b6b-f514-4586-dd7d-1178db5dc5a0"
      },
      "outputs": [
        {
          "name": "stdout",
          "output_type": "stream",
          "text": [
            "Размер сегмента: 1183\n",
            "Кол-во ушедших клиентов: 219\n",
            "Доля оттока: 18.5\n"
          ]
        }
      ],
      "source": [
        "segment('Ж', 26, 38, 'score', 796, 926)"
      ]
    },
    {
      "cell_type": "code",
      "execution_count": null,
      "metadata": {
        "scrolled": false,
        "id": "Q-9aBW5zLqEr",
        "outputId": "5a481882-23eb-4812-9fb5-f780d76e4999"
      },
      "outputs": [
        {
          "name": "stdout",
          "output_type": "stream",
          "text": [
            "Размер сегмента: 965\n",
            "Кол-во ушедших клиентов: 202\n",
            "Доля оттока: 20.9\n"
          ]
        }
      ],
      "source": [
        "segment('Ж', 26, 38, 'equity', 3, 5)"
      ]
    },
    {
      "cell_type": "code",
      "execution_count": null,
      "metadata": {
        "id": "Q8tabh0wLqEs",
        "outputId": "ec5b3130-b069-42d2-da2d-1fb184d62560"
      },
      "outputs": [
        {
          "name": "stdout",
          "output_type": "stream",
          "text": [
            "Размер сегмента: 584\n",
            "Кол-во ушедших клиентов: 138\n",
            "Доля оттока: 23.6\n"
          ]
        }
      ],
      "source": [
        "segment('Ж', 26, 38, 'credit_card', 0, 0)"
      ]
    },
    {
      "cell_type": "markdown",
      "metadata": {
        "id": "RTftqJ-MLqEs"
      },
      "source": [
        "Сегменты возраста 51-61, мужской пол"
      ]
    },
    {
      "cell_type": "code",
      "execution_count": null,
      "metadata": {
        "id": "VI8v4CYQLqEt",
        "outputId": "f53ea4a1-b79f-46c6-ae55-933da5e83fbe"
      },
      "outputs": [
        {
          "name": "stdout",
          "output_type": "stream",
          "text": [
            "Размер сегмента: 437\n",
            "Кол-во ушедших клиентов: 177\n",
            "Доля оттока: 40.5\n"
          ]
        }
      ],
      "source": [
        "segment('М', 51, 61, 'score', 796, 926)"
      ]
    },
    {
      "cell_type": "code",
      "execution_count": null,
      "metadata": {
        "scrolled": true,
        "id": "BlIBQTKiLqEt",
        "outputId": "1ce1ef83-15fd-4982-b57c-725779c135b4"
      },
      "outputs": [
        {
          "name": "stdout",
          "output_type": "stream",
          "text": [
            "Размер сегмента: 523\n",
            "Кол-во ушедших клиентов: 144\n",
            "Доля оттока: 27.5\n"
          ]
        }
      ],
      "source": [
        "segment('М', 51, 61, 'products', 1, 2)"
      ]
    },
    {
      "cell_type": "code",
      "execution_count": null,
      "metadata": {
        "scrolled": true,
        "id": "_3QqecwQLqEt",
        "outputId": "98468052-c0aa-48df-abf6-17448d562e28"
      },
      "outputs": [
        {
          "name": "stdout",
          "output_type": "stream",
          "text": [
            "Размер сегмента: 304\n",
            "Кол-во ушедших клиентов: 104\n",
            "Доля оттока: 34.2\n"
          ]
        }
      ],
      "source": [
        "segment('М', 51, 61, 'est_salary', 90000, 210000)"
      ]
    },
    {
      "cell_type": "code",
      "execution_count": null,
      "metadata": {
        "id": "AnO50AMbLqEu",
        "outputId": "73a4d5fa-1710-4a14-d74c-8d6f179b10f3"
      },
      "outputs": [
        {
          "name": "stdout",
          "output_type": "stream",
          "text": [
            "Размер сегмента: 365\n",
            "Кол-во ушедших клиентов: 175\n",
            "Доля оттока: 47.9\n"
          ]
        }
      ],
      "source": [
        "segment('М', 51, 61, 'equity', 3, 5)"
      ]
    },
    {
      "cell_type": "code",
      "execution_count": null,
      "metadata": {
        "id": "dZ6GP2ZNLqEu",
        "outputId": "40c28cf9-7f43-4c34-a58e-4d97f840c613"
      },
      "outputs": [
        {
          "name": "stdout",
          "output_type": "stream",
          "text": [
            "Размер сегмента: 236\n",
            "Кол-во ушедших клиентов: 109\n",
            "Доля оттока: 46.2\n"
          ]
        }
      ],
      "source": [
        "segment('М', 51, 61, 'credit_card', 0, 0)"
      ]
    },
    {
      "cell_type": "markdown",
      "metadata": {
        "id": "OBOV8vCHLqEu"
      },
      "source": [
        "Сегменты возраста 51-61, женский пол"
      ]
    },
    {
      "cell_type": "code",
      "execution_count": null,
      "metadata": {
        "scrolled": true,
        "id": "zkbzjG0qLqEv",
        "outputId": "1ac4aa5d-f2f5-41ad-be3f-fd4938e8602a"
      },
      "outputs": [
        {
          "name": "stdout",
          "output_type": "stream",
          "text": [
            "Размер сегмента: 783\n",
            "Кол-во ушедших клиентов: 135\n",
            "Доля оттока: 17.2\n"
          ]
        }
      ],
      "source": [
        "segment('Ж', 51, 61, 'products', 1, 2)"
      ]
    },
    {
      "cell_type": "code",
      "execution_count": null,
      "metadata": {
        "id": "RQrj_mLkLqEv",
        "outputId": "1bd7680f-7a64-4217-979e-315093d5573d"
      },
      "outputs": [
        {
          "name": "stdout",
          "output_type": "stream",
          "text": [
            "Размер сегмента: 423\n",
            "Кол-во ушедших клиентов: 105\n",
            "Доля оттока: 24.8\n"
          ]
        }
      ],
      "source": [
        "segment('Ж', 51, 61, 'est_salary', 90000, 210000)"
      ]
    },
    {
      "cell_type": "code",
      "execution_count": null,
      "metadata": {
        "id": "yY3tEA-kLqEv",
        "outputId": "fa205663-4122-4145-b5a8-784ee0bb5f9a"
      },
      "outputs": [
        {
          "name": "stdout",
          "output_type": "stream",
          "text": [
            "Размер сегмента: 491\n",
            "Кол-во ушедших клиентов: 127\n",
            "Доля оттока: 25.9\n"
          ]
        }
      ],
      "source": [
        "segment('Ж', 51, 61, 'equity', 3, 5)"
      ]
    },
    {
      "cell_type": "code",
      "execution_count": null,
      "metadata": {
        "scrolled": true,
        "id": "5w1d5lvtLqEw",
        "outputId": "100f3a1b-903b-416a-db6e-3d88df49516e"
      },
      "outputs": [
        {
          "name": "stdout",
          "output_type": "stream",
          "text": [
            "Размер сегмента: 626\n",
            "Кол-во ушедших клиентов: 154\n",
            "Доля оттока: 24.6\n"
          ]
        }
      ],
      "source": [
        "segment('Ж', 51, 61, 'score', 796, 926)"
      ]
    },
    {
      "cell_type": "code",
      "execution_count": null,
      "metadata": {
        "id": "IySBABXKLqEw",
        "outputId": "ba1f6ad3-36e6-43d2-d94b-e000ae2b71db"
      },
      "outputs": [
        {
          "name": "stdout",
          "output_type": "stream",
          "text": [
            "Размер сегмента: 396\n",
            "Кол-во ушедших клиентов: 116\n",
            "Доля оттока: 29.3\n"
          ]
        }
      ],
      "source": [
        "segment('Ж', 51, 61, 'credit_card', 0, 0)"
      ]
    },
    {
      "cell_type": "markdown",
      "metadata": {
        "id": "CoKTP2iILqEx"
      },
      "source": [
        "Сегменты, показавшие наибольшее количество клиентов и высокий уровень оттока, с учетом среднего уровня оттока в банке 18%:\n",
        "* Сегмент: мужской пол, возраст 51 - 61, баллы собственности 3-5; доля оттока - 47.9%\n",
        "* Сегмент: мужской пол, возраст 26 - 38, баллы собственности 3-5; доля оттока - 36.4%\n",
        "* Сегмент: женский пол, возраст 51 - 61, баллы скоринга 792-926; доля оттока - 24.6%"
      ]
    },
    {
      "cell_type": "markdown",
      "metadata": {
        "id": "xVeyawkGLqEy"
      },
      "source": [
        "## Выводы и рекомендации"
      ]
    },
    {
      "cell_type": "markdown",
      "metadata": {
        "id": "40iH8KigLqEy"
      },
      "source": [
        "В ходе работы изучили и подготовили предоставленный датасет, содержащий информацию о клиентах банка. В датасете 10000 строк. Банк представлен в трех городах: Рыбинск, Ярославль, Ростов. Возраст клиентов от 18 до 80 лет. Датасет не содержит явных дубликатов, но были найдены дубликаты в ID пользователей, похожие на ошибку при слиянии данных из разных таблиц. Привели названия колонок к единому стилю. Обнаружены пропуски в колонке возраст (незначительное количество) и около 23% в колонке баланса на счете, для сохранения данных пропуски осавили. Для определения корреляции между признаками, провели кодирование признаков города и пола.\n",
        "В ходе исследовательского анализа данных для категориальных признаков построили столбчатые диаграммы и гистограммы для непрерывных признаков. Определили клиентскую базу банка:\n",
        "* Большинство клиентов из Ярославля\n",
        "* Соотношение мужчин и женщин одинаковое\n",
        "* В основном, клиенты пользуются двумя и одним продуктом\n",
        "* У большинства клиентов до 5 баллов собственности\n",
        "* 68% клиентов оформили кредитную карту\n",
        "* 52% активных клиентов\n",
        "* Отток составляет 18%\n",
        "\n",
        "А также клиентов, попавших в отток:\n",
        "* Доля оттока в Ярославле и Ростове превышает средний уровень оттока\n",
        "* Большинство ушедших клиентов - мужчины (65% против 35% женщин)\n",
        "* Начиная от 2 продуктов отток клиентов превышает средний уровень оттока\n",
        "* Отток среди клиентов, у которых нет кредитной карты превышает средний уровень оттока\n",
        "* Доля оттока у клиентов с 3, 4, 5-ю баллами собственности превышает средний уровень оттока\n",
        "* Доля оттока среди активных клиентов превышает средний уровень оттока (отток активных составляет 70%)\n",
        "* Среднее количество баллов кредитного скоринга у клиентов в оттоке - 863, больше, чем у неушедших клиентов (845)\n",
        "* Средний возраст клиента в оттоке - 41 год\n",
        "* Средняя зарплата клиентов в оттоке ~ 148000\n",
        "\n",
        "Корреляционный анализ показал, что по всем признакам наблюдается слабая корреляция. Наибольшая корреляция оттока наблюдается с количеством используемых продуктов (0.3) и количеством баллов собственности (0.27).\n",
        "\n",
        "Проверили и подтвердили гипотезы о том, что:\n",
        "* Есть разница между доходом  клиентов, которые ушли и теми, которые остались\n",
        "* Есть разница в баллах кредитного скоринга между клиентами, которые ушли и теми, которые остались\n",
        "* Есть разница в возрасте между клиентами, которые ушли и теми, которые остались\n",
        "\n",
        "При проверке гипотез использовали критерий Манна-Уитни, так как выборки имели ненормальное распределение\n",
        "\n",
        "Определили признаки для сегментации клиентов:\n",
        "* пол\n",
        "* возраст\n",
        "* баллы кредитного скоринга\n",
        "* количество баллов собственности\n",
        "* количество продуктов\n",
        "* зарплата\n",
        "\n",
        "В результате выделили сегменты с наибольшей долей оттока и количеством ушедших клиентов, с учетом среднего уровня оттока в банке 18:\n",
        "\n",
        "Сегмент 1:\n",
        "* размер сегмента - 365\n",
        "* доля оттока - 47.9%\n",
        "* мужской пол\n",
        "* возраст - 51 - 61\n",
        "* баллы собственности - 3-5\n",
        "\n",
        "Сегмент 2:\n",
        "* размер сегмента - 1136\n",
        "* доля оттока - 36.4%\n",
        "* мужской пол\n",
        "* возраст - 26-38\n",
        "* баллы собственности - 3-5\n",
        "\n",
        "Сегмент 3:\n",
        "* размер сегмента - 626\n",
        "* доля оттока - 24.6%\n",
        "* женский пол\n",
        "* возраст - 51 - 61\n",
        "* баллы кредитного скоринга - 796-926\n",
        "\n",
        "Рекомендации по снижению оттока в выделенных сегментах:\n",
        "\n",
        "Сегмент 1:\n",
        "\n",
        "* Предлагать повышенный кэшбек в категории здоровье и транспорт\n",
        "* Предлагать льготный период оплаты налогов\n",
        "* Для клиентов пенсионного возраста предлагать начисление пенсии на карту банка с накопительными бонусами\n",
        "* Снизить комиссии при переводах и платежах\n",
        "* Предлагать выгодные условия по страхованию имущества\n",
        "* Предлагать льготный период по погашению долга\n",
        "\n",
        "Сегмент 2:\n",
        "\n",
        "* Предлагать повышенный кэшбек в категориях образование, развлечения, супермаркеты\n",
        "* Предлагать выгодные условия по страхованию ОСАГО и Каско\n",
        "* Предлагать сниженную процентную ставку по ипотеке\n",
        "* Предлагать повышенные проценты по вкладам\n",
        "* Предлагать выгодные условия для открытия инвестиционного счета\n",
        "* Для зарплатных клиентов - пониженные ставки по кредитам\n",
        "* Удобное решение проблем через мессенджеры, без посещения банка\n",
        "* Возможность отслеживания и контроля финансов, установки целей по каждой категории в приложении\n",
        "* Для клиентов без кредитной истории предлагать начать формирование кредитного рейтинга на выгодных условиях\n",
        "\n",
        "Сегмент 3:\n",
        "\n",
        "* Оплата ЖКУ без комиссии\n",
        "* Для клиентов пенсионного возраста предлагать начисление пенсии на карту банка с накопительными бонусами\n",
        "* Снизить процентные ставки на кредиты, предоставить возможность увеличить срок выплаты\n",
        "* Предлагать повышенный кэшбек на выбор в категориях товары для дома и сада, здоровье\n",
        "* Предлагать выгодные условия по страхованию жизни и здоровья\n",
        "* Снизить стоимость подключения оповещений для карты, на которую начисляется пенсия"
      ]
    }
  ],
  "metadata": {
    "ExecuteTimeLog": [
      {
        "duration": 1445,
        "start_time": "2023-04-17T10:25:37.114Z"
      },
      {
        "duration": 1335,
        "start_time": "2023-04-17T10:27:57.255Z"
      },
      {
        "duration": 5,
        "start_time": "2023-04-17T10:28:09.015Z"
      },
      {
        "duration": 73,
        "start_time": "2023-04-17T10:28:25.471Z"
      },
      {
        "duration": 7,
        "start_time": "2023-04-17T10:29:12.833Z"
      },
      {
        "duration": 6,
        "start_time": "2023-04-17T10:37:42.884Z"
      },
      {
        "duration": 4,
        "start_time": "2023-04-17T10:38:00.320Z"
      },
      {
        "duration": 12,
        "start_time": "2023-04-17T10:38:06.261Z"
      },
      {
        "duration": 7,
        "start_time": "2023-04-17T10:38:46.709Z"
      },
      {
        "duration": 18,
        "start_time": "2023-04-17T10:38:47.577Z"
      },
      {
        "duration": 11,
        "start_time": "2023-04-17T10:39:16.820Z"
      },
      {
        "duration": 12,
        "start_time": "2023-04-17T10:39:17.961Z"
      },
      {
        "duration": 4,
        "start_time": "2023-04-17T10:40:08.976Z"
      },
      {
        "duration": 873,
        "start_time": "2023-04-17T10:40:08.982Z"
      },
      {
        "duration": 5,
        "start_time": "2023-04-17T10:40:09.856Z"
      },
      {
        "duration": 81,
        "start_time": "2023-04-17T10:40:09.863Z"
      },
      {
        "duration": 16,
        "start_time": "2023-04-17T10:40:09.945Z"
      },
      {
        "duration": 22,
        "start_time": "2023-04-17T10:40:09.964Z"
      },
      {
        "duration": 16,
        "start_time": "2023-04-17T10:40:09.988Z"
      },
      {
        "duration": 37,
        "start_time": "2023-04-17T10:40:10.006Z"
      },
      {
        "duration": 30,
        "start_time": "2023-04-17T10:40:10.047Z"
      },
      {
        "duration": 4,
        "start_time": "2023-04-17T10:40:34.913Z"
      },
      {
        "duration": 995,
        "start_time": "2023-04-17T10:40:34.919Z"
      },
      {
        "duration": 5,
        "start_time": "2023-04-17T10:40:35.916Z"
      },
      {
        "duration": 89,
        "start_time": "2023-04-17T10:40:35.922Z"
      },
      {
        "duration": 4,
        "start_time": "2023-04-17T10:40:36.013Z"
      },
      {
        "duration": 18,
        "start_time": "2023-04-17T10:40:36.019Z"
      },
      {
        "duration": 23,
        "start_time": "2023-04-17T10:40:36.038Z"
      },
      {
        "duration": 16,
        "start_time": "2023-04-17T10:40:36.063Z"
      },
      {
        "duration": 34,
        "start_time": "2023-04-17T10:40:36.080Z"
      },
      {
        "duration": 3413,
        "start_time": "2023-04-17T10:40:58.479Z"
      },
      {
        "duration": 0,
        "start_time": "2023-04-17T10:41:01.894Z"
      },
      {
        "duration": 0,
        "start_time": "2023-04-17T10:41:01.895Z"
      },
      {
        "duration": 12,
        "start_time": "2023-04-17T10:41:19.143Z"
      },
      {
        "duration": 3,
        "start_time": "2023-04-17T10:41:20.382Z"
      },
      {
        "duration": 13,
        "start_time": "2023-04-17T10:41:20.582Z"
      },
      {
        "duration": 10,
        "start_time": "2023-04-17T10:43:26.106Z"
      },
      {
        "duration": 11,
        "start_time": "2023-04-17T10:43:27.211Z"
      },
      {
        "duration": 22,
        "start_time": "2023-04-17T10:43:38.937Z"
      },
      {
        "duration": 5,
        "start_time": "2023-04-17T10:43:46.635Z"
      },
      {
        "duration": 1071,
        "start_time": "2023-04-17T10:43:46.641Z"
      },
      {
        "duration": 4,
        "start_time": "2023-04-17T10:43:47.713Z"
      },
      {
        "duration": 88,
        "start_time": "2023-04-17T10:43:47.718Z"
      },
      {
        "duration": 4,
        "start_time": "2023-04-17T10:43:47.808Z"
      },
      {
        "duration": 11,
        "start_time": "2023-04-17T10:43:47.813Z"
      },
      {
        "duration": 13,
        "start_time": "2023-04-17T10:43:47.826Z"
      },
      {
        "duration": 22,
        "start_time": "2023-04-17T10:43:47.841Z"
      },
      {
        "duration": 19,
        "start_time": "2023-04-17T10:43:47.864Z"
      },
      {
        "duration": 12,
        "start_time": "2023-04-17T10:46:18.303Z"
      },
      {
        "duration": 11,
        "start_time": "2023-04-17T10:46:22.326Z"
      },
      {
        "duration": 497,
        "start_time": "2023-04-17T10:46:25.426Z"
      },
      {
        "duration": 12,
        "start_time": "2023-04-17T10:46:26.113Z"
      },
      {
        "duration": 5,
        "start_time": "2023-04-17T10:46:35.768Z"
      },
      {
        "duration": 863,
        "start_time": "2023-04-17T10:46:35.775Z"
      },
      {
        "duration": 4,
        "start_time": "2023-04-17T10:46:36.639Z"
      },
      {
        "duration": 80,
        "start_time": "2023-04-17T10:46:36.645Z"
      },
      {
        "duration": 6,
        "start_time": "2023-04-17T10:46:36.727Z"
      },
      {
        "duration": 16,
        "start_time": "2023-04-17T10:46:36.736Z"
      },
      {
        "duration": 5,
        "start_time": "2023-04-17T10:46:36.755Z"
      },
      {
        "duration": 14,
        "start_time": "2023-04-17T10:46:36.762Z"
      },
      {
        "duration": 13,
        "start_time": "2023-04-17T10:46:36.779Z"
      },
      {
        "duration": 377,
        "start_time": "2023-04-17T10:46:36.794Z"
      },
      {
        "duration": 0,
        "start_time": "2023-04-17T10:46:37.173Z"
      },
      {
        "duration": 1259,
        "start_time": "2023-04-17T10:48:06.466Z"
      },
      {
        "duration": 1158,
        "start_time": "2023-04-17T10:48:07.728Z"
      },
      {
        "duration": 3,
        "start_time": "2023-04-17T10:48:08.888Z"
      },
      {
        "duration": 80,
        "start_time": "2023-04-17T10:48:08.893Z"
      },
      {
        "duration": 6,
        "start_time": "2023-04-17T10:48:08.976Z"
      },
      {
        "duration": 15,
        "start_time": "2023-04-17T10:48:08.984Z"
      },
      {
        "duration": 14,
        "start_time": "2023-04-17T10:48:09.001Z"
      },
      {
        "duration": 18,
        "start_time": "2023-04-17T10:48:09.016Z"
      },
      {
        "duration": 27,
        "start_time": "2023-04-17T10:48:09.036Z"
      },
      {
        "duration": 677,
        "start_time": "2023-04-17T10:48:09.065Z"
      },
      {
        "duration": 0,
        "start_time": "2023-04-17T10:48:09.744Z"
      },
      {
        "duration": 509,
        "start_time": "2023-04-17T10:51:41.740Z"
      },
      {
        "duration": 6,
        "start_time": "2023-04-17T10:51:47.670Z"
      },
      {
        "duration": 1052,
        "start_time": "2023-04-17T10:51:47.679Z"
      },
      {
        "duration": 4,
        "start_time": "2023-04-17T10:51:48.733Z"
      },
      {
        "duration": 90,
        "start_time": "2023-04-17T10:51:48.739Z"
      },
      {
        "duration": 5,
        "start_time": "2023-04-17T10:51:48.830Z"
      },
      {
        "duration": 13,
        "start_time": "2023-04-17T10:51:48.837Z"
      },
      {
        "duration": 19,
        "start_time": "2023-04-17T10:51:48.853Z"
      },
      {
        "duration": 19,
        "start_time": "2023-04-17T10:51:48.874Z"
      },
      {
        "duration": 11,
        "start_time": "2023-04-17T10:51:48.895Z"
      },
      {
        "duration": 407,
        "start_time": "2023-04-17T10:51:48.909Z"
      },
      {
        "duration": 0,
        "start_time": "2023-04-17T10:51:49.317Z"
      },
      {
        "duration": 4,
        "start_time": "2023-04-17T10:52:03.980Z"
      },
      {
        "duration": 13,
        "start_time": "2023-04-17T10:52:05.714Z"
      },
      {
        "duration": 36,
        "start_time": "2023-04-17T10:54:49.238Z"
      },
      {
        "duration": 23,
        "start_time": "2023-04-17T10:55:14.933Z"
      },
      {
        "duration": 5,
        "start_time": "2023-04-17T11:06:17.244Z"
      },
      {
        "duration": 12,
        "start_time": "2023-04-17T11:07:07.933Z"
      },
      {
        "duration": 6,
        "start_time": "2023-04-17T11:07:16.709Z"
      },
      {
        "duration": 23,
        "start_time": "2023-04-17T11:07:21.026Z"
      },
      {
        "duration": 1215,
        "start_time": "2023-04-17T11:07:39.281Z"
      },
      {
        "duration": 1209,
        "start_time": "2023-04-17T11:07:40.498Z"
      },
      {
        "duration": 4,
        "start_time": "2023-04-17T11:07:41.708Z"
      },
      {
        "duration": 103,
        "start_time": "2023-04-17T11:07:41.715Z"
      },
      {
        "duration": 6,
        "start_time": "2023-04-17T11:07:41.821Z"
      },
      {
        "duration": 11,
        "start_time": "2023-04-17T11:07:41.829Z"
      },
      {
        "duration": 40,
        "start_time": "2023-04-17T11:07:41.842Z"
      },
      {
        "duration": 30,
        "start_time": "2023-04-17T11:07:41.884Z"
      },
      {
        "duration": 1113,
        "start_time": "2023-04-17T11:07:58.086Z"
      },
      {
        "duration": 926,
        "start_time": "2023-04-17T11:07:59.201Z"
      },
      {
        "duration": 4,
        "start_time": "2023-04-17T11:08:00.128Z"
      },
      {
        "duration": 92,
        "start_time": "2023-04-17T11:08:00.133Z"
      },
      {
        "duration": 4,
        "start_time": "2023-04-17T11:08:00.227Z"
      },
      {
        "duration": 7,
        "start_time": "2023-04-17T11:08:00.233Z"
      },
      {
        "duration": 32,
        "start_time": "2023-04-17T11:08:00.248Z"
      },
      {
        "duration": 23,
        "start_time": "2023-04-17T11:08:00.281Z"
      },
      {
        "duration": 29,
        "start_time": "2023-04-17T11:08:46.740Z"
      },
      {
        "duration": 6,
        "start_time": "2023-04-17T11:09:48.242Z"
      },
      {
        "duration": 7,
        "start_time": "2023-04-17T11:09:48.658Z"
      },
      {
        "duration": 3,
        "start_time": "2023-04-17T11:09:49.898Z"
      },
      {
        "duration": 20,
        "start_time": "2023-04-17T11:10:17.698Z"
      },
      {
        "duration": 4,
        "start_time": "2023-04-17T11:13:40.217Z"
      },
      {
        "duration": 18,
        "start_time": "2023-04-17T11:13:50.119Z"
      },
      {
        "duration": 107,
        "start_time": "2023-04-17T11:14:51.496Z"
      },
      {
        "duration": 1258,
        "start_time": "2023-04-17T11:14:58.588Z"
      },
      {
        "duration": 941,
        "start_time": "2023-04-17T11:14:59.848Z"
      },
      {
        "duration": 5,
        "start_time": "2023-04-17T11:15:00.792Z"
      },
      {
        "duration": 159,
        "start_time": "2023-04-17T11:15:00.799Z"
      },
      {
        "duration": 5,
        "start_time": "2023-04-17T11:15:00.960Z"
      },
      {
        "duration": 30,
        "start_time": "2023-04-17T11:15:00.966Z"
      },
      {
        "duration": 43,
        "start_time": "2023-04-17T11:15:00.998Z"
      },
      {
        "duration": 66,
        "start_time": "2023-04-17T11:15:01.044Z"
      },
      {
        "duration": 7,
        "start_time": "2023-04-17T11:15:01.112Z"
      },
      {
        "duration": 23,
        "start_time": "2023-04-17T11:15:01.121Z"
      },
      {
        "duration": 14,
        "start_time": "2023-04-17T11:15:01.147Z"
      },
      {
        "duration": 39,
        "start_time": "2023-04-17T11:15:01.164Z"
      },
      {
        "duration": 27,
        "start_time": "2023-04-17T11:15:01.204Z"
      },
      {
        "duration": 14,
        "start_time": "2023-04-17T11:15:01.234Z"
      },
      {
        "duration": 3,
        "start_time": "2023-04-17T11:15:08.878Z"
      },
      {
        "duration": 1320,
        "start_time": "2023-04-17T11:15:16.364Z"
      },
      {
        "duration": 1005,
        "start_time": "2023-04-17T11:15:17.686Z"
      },
      {
        "duration": 4,
        "start_time": "2023-04-17T11:15:18.693Z"
      },
      {
        "duration": 94,
        "start_time": "2023-04-17T11:15:18.699Z"
      },
      {
        "duration": 7,
        "start_time": "2023-04-17T11:15:18.797Z"
      },
      {
        "duration": 14,
        "start_time": "2023-04-17T11:15:18.806Z"
      },
      {
        "duration": 31,
        "start_time": "2023-04-17T11:15:18.823Z"
      },
      {
        "duration": 25,
        "start_time": "2023-04-17T11:15:18.856Z"
      },
      {
        "duration": 5,
        "start_time": "2023-04-17T11:15:18.883Z"
      },
      {
        "duration": 23,
        "start_time": "2023-04-17T11:15:18.889Z"
      },
      {
        "duration": 9,
        "start_time": "2023-04-17T11:15:18.913Z"
      },
      {
        "duration": 37,
        "start_time": "2023-04-17T11:15:18.924Z"
      },
      {
        "duration": 4,
        "start_time": "2023-04-17T11:15:18.962Z"
      },
      {
        "duration": 30,
        "start_time": "2023-04-17T11:15:18.969Z"
      },
      {
        "duration": 130,
        "start_time": "2023-04-17T11:15:22.438Z"
      },
      {
        "duration": 1275,
        "start_time": "2023-04-17T11:16:04.154Z"
      },
      {
        "duration": 939,
        "start_time": "2023-04-17T11:16:05.431Z"
      },
      {
        "duration": 4,
        "start_time": "2023-04-17T11:16:06.372Z"
      },
      {
        "duration": 84,
        "start_time": "2023-04-17T11:16:06.379Z"
      },
      {
        "duration": 6,
        "start_time": "2023-04-17T11:16:06.464Z"
      },
      {
        "duration": 9,
        "start_time": "2023-04-17T11:16:06.472Z"
      },
      {
        "duration": 14,
        "start_time": "2023-04-17T11:16:06.483Z"
      },
      {
        "duration": 31,
        "start_time": "2023-04-17T11:16:06.499Z"
      },
      {
        "duration": 7,
        "start_time": "2023-04-17T11:16:06.549Z"
      },
      {
        "duration": 9,
        "start_time": "2023-04-17T11:16:06.558Z"
      },
      {
        "duration": 7,
        "start_time": "2023-04-17T11:16:06.569Z"
      },
      {
        "duration": 23,
        "start_time": "2023-04-17T11:16:06.577Z"
      },
      {
        "duration": 108,
        "start_time": "2023-04-17T11:16:43.979Z"
      },
      {
        "duration": 5,
        "start_time": "2023-04-17T11:16:50.500Z"
      },
      {
        "duration": 17,
        "start_time": "2023-04-17T11:16:54.379Z"
      },
      {
        "duration": 6,
        "start_time": "2023-04-17T11:17:00.443Z"
      },
      {
        "duration": 18,
        "start_time": "2023-04-17T11:17:01.743Z"
      },
      {
        "duration": 5,
        "start_time": "2023-04-17T11:17:21.251Z"
      },
      {
        "duration": 19,
        "start_time": "2023-04-17T11:17:22.109Z"
      },
      {
        "duration": 9,
        "start_time": "2023-04-17T11:18:11.829Z"
      },
      {
        "duration": 1232,
        "start_time": "2023-04-17T11:18:19.297Z"
      },
      {
        "duration": 866,
        "start_time": "2023-04-17T11:18:20.531Z"
      },
      {
        "duration": 5,
        "start_time": "2023-04-17T11:18:21.398Z"
      },
      {
        "duration": 102,
        "start_time": "2023-04-17T11:18:21.405Z"
      },
      {
        "duration": 5,
        "start_time": "2023-04-17T11:18:21.508Z"
      },
      {
        "duration": 28,
        "start_time": "2023-04-17T11:18:21.514Z"
      },
      {
        "duration": 17,
        "start_time": "2023-04-17T11:18:21.544Z"
      },
      {
        "duration": 21,
        "start_time": "2023-04-17T11:18:21.563Z"
      },
      {
        "duration": 6,
        "start_time": "2023-04-17T11:18:21.586Z"
      },
      {
        "duration": 8,
        "start_time": "2023-04-17T11:18:21.595Z"
      },
      {
        "duration": 7,
        "start_time": "2023-04-17T11:18:21.604Z"
      },
      {
        "duration": 55,
        "start_time": "2023-04-17T11:18:21.613Z"
      },
      {
        "duration": 6,
        "start_time": "2023-04-17T11:18:21.670Z"
      },
      {
        "duration": 31,
        "start_time": "2023-04-17T11:18:21.678Z"
      },
      {
        "duration": 1249,
        "start_time": "2023-04-17T11:18:38.842Z"
      },
      {
        "duration": 937,
        "start_time": "2023-04-17T11:18:40.093Z"
      },
      {
        "duration": 3,
        "start_time": "2023-04-17T11:18:41.032Z"
      },
      {
        "duration": 82,
        "start_time": "2023-04-17T11:18:41.038Z"
      },
      {
        "duration": 5,
        "start_time": "2023-04-17T11:18:41.122Z"
      },
      {
        "duration": 9,
        "start_time": "2023-04-17T11:18:41.148Z"
      },
      {
        "duration": 14,
        "start_time": "2023-04-17T11:18:41.159Z"
      },
      {
        "duration": 17,
        "start_time": "2023-04-17T11:18:41.174Z"
      },
      {
        "duration": 5,
        "start_time": "2023-04-17T11:18:41.193Z"
      },
      {
        "duration": 8,
        "start_time": "2023-04-17T11:18:41.201Z"
      },
      {
        "duration": 14,
        "start_time": "2023-04-17T11:18:41.210Z"
      },
      {
        "duration": 42,
        "start_time": "2023-04-17T11:18:41.226Z"
      },
      {
        "duration": 5,
        "start_time": "2023-04-17T11:18:41.269Z"
      },
      {
        "duration": 18,
        "start_time": "2023-04-17T11:18:41.276Z"
      },
      {
        "duration": 2246,
        "start_time": "2023-04-17T11:28:15.226Z"
      },
      {
        "duration": 354,
        "start_time": "2023-04-17T11:59:04.731Z"
      },
      {
        "duration": 406,
        "start_time": "2023-04-17T11:59:16.645Z"
      },
      {
        "duration": 5163,
        "start_time": "2023-04-17T11:59:30.910Z"
      },
      {
        "duration": 115,
        "start_time": "2023-04-17T12:00:02.080Z"
      },
      {
        "duration": 18,
        "start_time": "2023-04-17T12:00:22.793Z"
      },
      {
        "duration": 5229,
        "start_time": "2023-04-17T12:00:54.520Z"
      },
      {
        "duration": 17,
        "start_time": "2023-04-17T12:01:27.368Z"
      },
      {
        "duration": 5248,
        "start_time": "2023-04-17T12:04:21.047Z"
      },
      {
        "duration": 5155,
        "start_time": "2023-04-17T12:06:53.774Z"
      },
      {
        "duration": 5375,
        "start_time": "2023-04-17T12:07:19.120Z"
      },
      {
        "duration": 5241,
        "start_time": "2023-04-17T12:07:36.241Z"
      },
      {
        "duration": 346,
        "start_time": "2023-04-17T12:18:17.797Z"
      },
      {
        "duration": 514,
        "start_time": "2023-04-17T12:18:27.462Z"
      },
      {
        "duration": 627,
        "start_time": "2023-04-17T12:19:17.373Z"
      },
      {
        "duration": 643,
        "start_time": "2023-04-17T12:25:32.678Z"
      },
      {
        "duration": 235,
        "start_time": "2023-04-17T12:29:13.377Z"
      },
      {
        "duration": 11572,
        "start_time": "2023-04-17T12:33:12.222Z"
      },
      {
        "duration": 1069,
        "start_time": "2023-04-17T12:35:18.777Z"
      },
      {
        "duration": 7419,
        "start_time": "2023-04-17T12:36:32.661Z"
      },
      {
        "duration": 7584,
        "start_time": "2023-04-17T13:03:56.931Z"
      },
      {
        "duration": 7736,
        "start_time": "2023-04-17T13:05:46.110Z"
      },
      {
        "duration": 108,
        "start_time": "2023-04-17T13:06:20.862Z"
      },
      {
        "duration": 5697,
        "start_time": "2023-04-17T13:06:28.821Z"
      },
      {
        "duration": 7719,
        "start_time": "2023-04-17T13:06:48.598Z"
      },
      {
        "duration": 6107,
        "start_time": "2023-04-17T13:07:04.269Z"
      },
      {
        "duration": 5897,
        "start_time": "2023-04-17T13:07:24.097Z"
      },
      {
        "duration": 5989,
        "start_time": "2023-04-17T13:07:58.799Z"
      },
      {
        "duration": 5886,
        "start_time": "2023-04-17T13:12:12.072Z"
      },
      {
        "duration": 5862,
        "start_time": "2023-04-17T13:12:35.620Z"
      },
      {
        "duration": 6217,
        "start_time": "2023-04-17T13:16:19.625Z"
      },
      {
        "duration": 5979,
        "start_time": "2023-04-17T13:21:10.812Z"
      },
      {
        "duration": 6050,
        "start_time": "2023-04-17T13:21:32.119Z"
      },
      {
        "duration": 2269,
        "start_time": "2023-04-17T13:39:01.455Z"
      },
      {
        "duration": 2159,
        "start_time": "2023-04-17T13:44:41.473Z"
      },
      {
        "duration": 1486,
        "start_time": "2023-04-17T13:46:06.764Z"
      },
      {
        "duration": 2233,
        "start_time": "2023-04-17T13:47:47.776Z"
      },
      {
        "duration": 2779,
        "start_time": "2023-04-17T13:48:22.558Z"
      },
      {
        "duration": 1373,
        "start_time": "2023-04-17T13:49:40.649Z"
      },
      {
        "duration": 1392,
        "start_time": "2023-04-17T13:50:57.082Z"
      },
      {
        "duration": 1972,
        "start_time": "2023-04-17T13:51:54.294Z"
      },
      {
        "duration": 1889,
        "start_time": "2023-04-17T13:52:50.148Z"
      },
      {
        "duration": 1387,
        "start_time": "2023-04-17T13:54:30.697Z"
      },
      {
        "duration": 1440,
        "start_time": "2023-04-17T15:17:18.265Z"
      },
      {
        "duration": 1554,
        "start_time": "2023-04-17T15:20:56.113Z"
      },
      {
        "duration": 7,
        "start_time": "2023-04-17T15:27:32.941Z"
      },
      {
        "duration": 17,
        "start_time": "2023-04-17T15:27:46.614Z"
      },
      {
        "duration": 144,
        "start_time": "2023-04-17T15:28:12.388Z"
      },
      {
        "duration": 10,
        "start_time": "2023-04-17T15:29:02.504Z"
      },
      {
        "duration": 25,
        "start_time": "2023-04-17T15:29:03.521Z"
      },
      {
        "duration": 149,
        "start_time": "2023-04-17T15:29:10.225Z"
      },
      {
        "duration": 9,
        "start_time": "2023-04-17T15:30:07.906Z"
      },
      {
        "duration": 25,
        "start_time": "2023-04-17T15:30:09.078Z"
      },
      {
        "duration": 1633,
        "start_time": "2023-04-17T15:34:04.302Z"
      },
      {
        "duration": 2359,
        "start_time": "2023-04-17T15:36:00.116Z"
      },
      {
        "duration": 1516,
        "start_time": "2023-04-17T15:39:55.423Z"
      },
      {
        "duration": 22,
        "start_time": "2023-04-17T15:40:47.795Z"
      },
      {
        "duration": 30,
        "start_time": "2023-04-17T15:41:13.692Z"
      },
      {
        "duration": 1407,
        "start_time": "2023-04-17T15:42:57.215Z"
      },
      {
        "duration": 1522,
        "start_time": "2023-04-17T15:44:44.300Z"
      },
      {
        "duration": 1452,
        "start_time": "2023-04-17T15:46:20.894Z"
      },
      {
        "duration": 1440,
        "start_time": "2023-04-17T15:46:56.238Z"
      },
      {
        "duration": 1998,
        "start_time": "2023-04-17T15:47:52.199Z"
      },
      {
        "duration": 1395,
        "start_time": "2023-04-17T15:51:52.174Z"
      },
      {
        "duration": 1405,
        "start_time": "2023-04-17T15:52:28.229Z"
      },
      {
        "duration": 1735,
        "start_time": "2023-04-17T15:52:36.461Z"
      },
      {
        "duration": 1422,
        "start_time": "2023-04-17T15:55:08.512Z"
      },
      {
        "duration": 2015,
        "start_time": "2023-04-17T15:58:47.306Z"
      },
      {
        "duration": 1392,
        "start_time": "2023-04-17T16:03:51.075Z"
      },
      {
        "duration": 1426,
        "start_time": "2023-04-17T16:04:01.641Z"
      },
      {
        "duration": 1410,
        "start_time": "2023-04-17T16:04:28.695Z"
      },
      {
        "duration": 2086,
        "start_time": "2023-04-17T16:08:29.961Z"
      },
      {
        "duration": 1392,
        "start_time": "2023-04-17T16:15:26.311Z"
      },
      {
        "duration": 143,
        "start_time": "2023-04-17T16:17:28.841Z"
      },
      {
        "duration": 132,
        "start_time": "2023-04-17T16:18:14.600Z"
      },
      {
        "duration": 148,
        "start_time": "2023-04-17T16:18:57.162Z"
      },
      {
        "duration": 721,
        "start_time": "2023-04-17T16:19:12.915Z"
      },
      {
        "duration": 165,
        "start_time": "2023-04-17T16:19:27.598Z"
      },
      {
        "duration": 127,
        "start_time": "2023-04-17T16:19:38.676Z"
      },
      {
        "duration": 1466,
        "start_time": "2023-04-17T16:23:31.166Z"
      },
      {
        "duration": 1474,
        "start_time": "2023-04-17T16:28:54.535Z"
      },
      {
        "duration": 2201,
        "start_time": "2023-04-17T16:29:11.361Z"
      },
      {
        "duration": 2285,
        "start_time": "2023-04-17T16:31:12.805Z"
      },
      {
        "duration": 2753,
        "start_time": "2023-04-17T16:31:26.318Z"
      },
      {
        "duration": 2214,
        "start_time": "2023-04-17T16:31:39.916Z"
      },
      {
        "duration": 2186,
        "start_time": "2023-04-17T16:32:31.727Z"
      },
      {
        "duration": 2080,
        "start_time": "2023-04-17T16:32:58.534Z"
      },
      {
        "duration": 361,
        "start_time": "2023-04-17T16:36:45.874Z"
      },
      {
        "duration": 5,
        "start_time": "2023-04-17T16:37:19.312Z"
      },
      {
        "duration": 273,
        "start_time": "2023-04-17T16:37:32.708Z"
      },
      {
        "duration": 250,
        "start_time": "2023-04-17T16:37:42.012Z"
      },
      {
        "duration": 825,
        "start_time": "2023-04-17T16:38:31.716Z"
      },
      {
        "duration": 3694,
        "start_time": "2023-04-17T16:39:42.376Z"
      },
      {
        "duration": 2542,
        "start_time": "2023-04-17T16:41:02.326Z"
      },
      {
        "duration": 3124,
        "start_time": "2023-04-17T16:41:36.783Z"
      },
      {
        "duration": 2992,
        "start_time": "2023-04-17T16:42:39.309Z"
      },
      {
        "duration": 3941,
        "start_time": "2023-04-17T16:44:53.509Z"
      },
      {
        "duration": 1333,
        "start_time": "2023-04-17T16:50:57.874Z"
      },
      {
        "duration": 3564,
        "start_time": "2023-04-17T16:51:10.332Z"
      },
      {
        "duration": 3399,
        "start_time": "2023-04-17T16:59:28.074Z"
      },
      {
        "duration": 4250,
        "start_time": "2023-04-17T17:00:02.566Z"
      },
      {
        "duration": 6,
        "start_time": "2023-04-17T17:16:00.141Z"
      },
      {
        "duration": 7,
        "start_time": "2023-04-17T17:18:44.424Z"
      },
      {
        "duration": 7,
        "start_time": "2023-04-17T17:19:00.502Z"
      },
      {
        "duration": 3625,
        "start_time": "2023-04-17T17:22:06.005Z"
      },
      {
        "duration": 3672,
        "start_time": "2023-04-17T17:22:26.971Z"
      },
      {
        "duration": 6,
        "start_time": "2023-04-17T17:26:15.808Z"
      },
      {
        "duration": 3766,
        "start_time": "2023-04-17T17:26:55.405Z"
      },
      {
        "duration": 15,
        "start_time": "2023-04-17T17:33:04.797Z"
      },
      {
        "duration": 16,
        "start_time": "2023-04-17T17:33:18.424Z"
      },
      {
        "duration": 4348,
        "start_time": "2023-04-17T17:41:48.484Z"
      },
      {
        "duration": 8,
        "start_time": "2023-04-17T17:59:00.822Z"
      },
      {
        "duration": 5,
        "start_time": "2023-04-17T17:59:09.076Z"
      },
      {
        "duration": 5,
        "start_time": "2023-04-17T18:00:06.208Z"
      },
      {
        "duration": 35,
        "start_time": "2023-04-17T18:00:10.902Z"
      },
      {
        "duration": 9,
        "start_time": "2023-04-17T18:00:38.728Z"
      },
      {
        "duration": 7,
        "start_time": "2023-04-17T18:00:51.100Z"
      },
      {
        "duration": 5,
        "start_time": "2023-04-17T18:01:27.202Z"
      },
      {
        "duration": 4,
        "start_time": "2023-04-17T18:01:36.203Z"
      },
      {
        "duration": 16,
        "start_time": "2023-04-17T18:02:12.145Z"
      },
      {
        "duration": 5,
        "start_time": "2023-04-17T18:02:21.801Z"
      },
      {
        "duration": 4,
        "start_time": "2023-04-17T18:02:46.243Z"
      },
      {
        "duration": 5,
        "start_time": "2023-04-17T18:02:50.738Z"
      },
      {
        "duration": 6,
        "start_time": "2023-04-17T18:03:01.878Z"
      },
      {
        "duration": 5,
        "start_time": "2023-04-17T18:03:06.819Z"
      },
      {
        "duration": 6,
        "start_time": "2023-04-17T18:03:24.511Z"
      },
      {
        "duration": 5,
        "start_time": "2023-04-17T18:04:32.597Z"
      },
      {
        "duration": 8,
        "start_time": "2023-04-17T18:04:47.716Z"
      },
      {
        "duration": 7,
        "start_time": "2023-04-17T18:05:01.809Z"
      },
      {
        "duration": 7,
        "start_time": "2023-04-17T18:06:55.604Z"
      },
      {
        "duration": 7,
        "start_time": "2023-04-17T18:07:00.727Z"
      },
      {
        "duration": 8,
        "start_time": "2023-04-17T18:09:22.594Z"
      },
      {
        "duration": 70,
        "start_time": "2023-04-17T18:10:21.676Z"
      },
      {
        "duration": 6,
        "start_time": "2023-04-17T18:10:29.042Z"
      },
      {
        "duration": 13,
        "start_time": "2023-04-17T18:11:39.126Z"
      },
      {
        "duration": 1459,
        "start_time": "2023-04-18T04:50:24.030Z"
      },
      {
        "duration": 1145,
        "start_time": "2023-04-18T04:50:25.491Z"
      },
      {
        "duration": 4,
        "start_time": "2023-04-18T04:50:26.638Z"
      },
      {
        "duration": 140,
        "start_time": "2023-04-18T04:50:26.644Z"
      },
      {
        "duration": 6,
        "start_time": "2023-04-18T04:50:26.786Z"
      },
      {
        "duration": 57,
        "start_time": "2023-04-18T04:50:26.797Z"
      },
      {
        "duration": 54,
        "start_time": "2023-04-18T04:50:26.856Z"
      },
      {
        "duration": 64,
        "start_time": "2023-04-18T04:50:26.912Z"
      },
      {
        "duration": 73,
        "start_time": "2023-04-18T04:50:26.978Z"
      },
      {
        "duration": 58,
        "start_time": "2023-04-18T04:50:27.053Z"
      },
      {
        "duration": 33,
        "start_time": "2023-04-18T04:50:27.112Z"
      },
      {
        "duration": 47,
        "start_time": "2023-04-18T04:50:27.147Z"
      },
      {
        "duration": 22,
        "start_time": "2023-04-18T04:50:27.197Z"
      },
      {
        "duration": 4302,
        "start_time": "2023-04-18T04:50:27.222Z"
      },
      {
        "duration": 6441,
        "start_time": "2023-04-18T04:50:31.526Z"
      },
      {
        "duration": 21,
        "start_time": "2023-04-18T04:50:37.969Z"
      },
      {
        "duration": 15,
        "start_time": "2023-04-18T04:50:37.996Z"
      },
      {
        "duration": 45,
        "start_time": "2023-04-18T04:50:38.012Z"
      },
      {
        "duration": 101,
        "start_time": "2023-04-18T04:50:38.059Z"
      },
      {
        "duration": 73,
        "start_time": "2023-04-18T04:50:38.161Z"
      },
      {
        "duration": 62,
        "start_time": "2023-04-18T04:50:38.236Z"
      },
      {
        "duration": 30,
        "start_time": "2023-04-18T04:50:38.300Z"
      },
      {
        "duration": 31,
        "start_time": "2023-04-18T04:50:38.332Z"
      },
      {
        "duration": 45,
        "start_time": "2023-04-18T04:50:38.365Z"
      },
      {
        "duration": 29,
        "start_time": "2023-04-18T04:50:38.412Z"
      },
      {
        "duration": 51,
        "start_time": "2023-04-18T04:50:38.443Z"
      },
      {
        "duration": 119,
        "start_time": "2023-04-18T04:50:38.499Z"
      },
      {
        "duration": 7,
        "start_time": "2023-04-18T05:02:47.298Z"
      },
      {
        "duration": 8,
        "start_time": "2023-04-18T05:05:25.316Z"
      },
      {
        "duration": 6,
        "start_time": "2023-04-18T05:05:46.770Z"
      },
      {
        "duration": 8,
        "start_time": "2023-04-18T05:06:12.882Z"
      },
      {
        "duration": 10,
        "start_time": "2023-04-18T05:11:40.488Z"
      },
      {
        "duration": 13,
        "start_time": "2023-04-18T05:11:51.473Z"
      },
      {
        "duration": 17,
        "start_time": "2023-04-18T05:12:07.522Z"
      },
      {
        "duration": 15,
        "start_time": "2023-04-18T05:20:50.167Z"
      },
      {
        "duration": 9,
        "start_time": "2023-04-18T05:20:55.845Z"
      },
      {
        "duration": 16,
        "start_time": "2023-04-18T05:21:03.693Z"
      },
      {
        "duration": 16,
        "start_time": "2023-04-18T05:50:06.299Z"
      },
      {
        "duration": 17,
        "start_time": "2023-04-18T05:50:25.298Z"
      },
      {
        "duration": 118,
        "start_time": "2023-04-18T05:50:40.026Z"
      },
      {
        "duration": 21,
        "start_time": "2023-04-18T05:50:45.554Z"
      },
      {
        "duration": 21,
        "start_time": "2023-04-18T05:55:55.668Z"
      },
      {
        "duration": 18,
        "start_time": "2023-04-18T05:56:16.558Z"
      },
      {
        "duration": 17,
        "start_time": "2023-04-18T05:56:29.842Z"
      },
      {
        "duration": 15,
        "start_time": "2023-04-18T05:56:40.681Z"
      },
      {
        "duration": 15,
        "start_time": "2023-04-18T05:57:41.107Z"
      },
      {
        "duration": 1130,
        "start_time": "2023-04-18T05:57:48.418Z"
      },
      {
        "duration": 1125,
        "start_time": "2023-04-18T05:57:49.550Z"
      },
      {
        "duration": 18,
        "start_time": "2023-04-18T05:57:50.676Z"
      },
      {
        "duration": 123,
        "start_time": "2023-04-18T05:57:50.703Z"
      },
      {
        "duration": 7,
        "start_time": "2023-04-18T05:57:50.829Z"
      },
      {
        "duration": 138,
        "start_time": "2023-04-18T05:57:50.837Z"
      },
      {
        "duration": 81,
        "start_time": "2023-04-18T05:57:50.976Z"
      },
      {
        "duration": 50,
        "start_time": "2023-04-18T05:57:51.059Z"
      },
      {
        "duration": 41,
        "start_time": "2023-04-18T05:57:51.110Z"
      },
      {
        "duration": 71,
        "start_time": "2023-04-18T05:57:51.153Z"
      },
      {
        "duration": 51,
        "start_time": "2023-04-18T05:57:51.226Z"
      },
      {
        "duration": 62,
        "start_time": "2023-04-18T05:57:51.279Z"
      },
      {
        "duration": 6,
        "start_time": "2023-04-18T05:57:51.343Z"
      },
      {
        "duration": 4384,
        "start_time": "2023-04-18T05:57:51.352Z"
      },
      {
        "duration": 5916,
        "start_time": "2023-04-18T05:57:55.738Z"
      },
      {
        "duration": 6,
        "start_time": "2023-04-18T05:58:01.656Z"
      },
      {
        "duration": 33,
        "start_time": "2023-04-18T05:58:01.664Z"
      },
      {
        "duration": 18,
        "start_time": "2023-04-18T05:58:01.699Z"
      },
      {
        "duration": 52,
        "start_time": "2023-04-18T05:58:01.719Z"
      },
      {
        "duration": 24,
        "start_time": "2023-04-18T05:58:01.772Z"
      },
      {
        "duration": 13,
        "start_time": "2023-04-18T05:58:01.797Z"
      },
      {
        "duration": 20,
        "start_time": "2023-04-18T05:58:01.812Z"
      },
      {
        "duration": 15,
        "start_time": "2023-04-18T05:58:01.833Z"
      },
      {
        "duration": 18,
        "start_time": "2023-04-18T05:58:01.850Z"
      },
      {
        "duration": 10,
        "start_time": "2023-04-18T05:58:01.869Z"
      },
      {
        "duration": 22,
        "start_time": "2023-04-18T05:58:01.881Z"
      },
      {
        "duration": 15,
        "start_time": "2023-04-18T05:58:01.904Z"
      },
      {
        "duration": 27,
        "start_time": "2023-04-18T05:58:01.921Z"
      },
      {
        "duration": 97,
        "start_time": "2023-04-18T05:58:01.950Z"
      },
      {
        "duration": 18,
        "start_time": "2023-04-18T05:59:20.415Z"
      },
      {
        "duration": 17,
        "start_time": "2023-04-18T05:59:28.350Z"
      },
      {
        "duration": 6563,
        "start_time": "2023-04-18T06:23:38.564Z"
      },
      {
        "duration": 126,
        "start_time": "2023-04-18T06:24:28.700Z"
      },
      {
        "duration": 6077,
        "start_time": "2023-04-18T06:24:37.373Z"
      },
      {
        "duration": 5706,
        "start_time": "2023-04-18T06:26:01.100Z"
      },
      {
        "duration": 15,
        "start_time": "2023-04-18T06:27:07.267Z"
      },
      {
        "duration": 7708,
        "start_time": "2023-04-18T06:27:14.110Z"
      },
      {
        "duration": 6768,
        "start_time": "2023-04-18T06:28:05.192Z"
      },
      {
        "duration": 23,
        "start_time": "2023-04-18T06:34:38.661Z"
      },
      {
        "duration": 10,
        "start_time": "2023-04-18T06:43:19.972Z"
      },
      {
        "duration": 1561,
        "start_time": "2023-04-18T06:45:50.500Z"
      },
      {
        "duration": 2058,
        "start_time": "2023-04-18T06:45:57.471Z"
      },
      {
        "duration": 1494,
        "start_time": "2023-04-18T06:46:17.073Z"
      },
      {
        "duration": 1583,
        "start_time": "2023-04-18T06:46:26.467Z"
      },
      {
        "duration": 46,
        "start_time": "2023-04-18T06:49:00.692Z"
      },
      {
        "duration": 12,
        "start_time": "2023-04-18T06:49:09.507Z"
      },
      {
        "duration": 419,
        "start_time": "2023-04-18T06:50:19.613Z"
      },
      {
        "duration": 437,
        "start_time": "2023-04-18T06:52:36.568Z"
      },
      {
        "duration": 436,
        "start_time": "2023-04-18T06:52:43.468Z"
      },
      {
        "duration": 407,
        "start_time": "2023-04-18T06:53:32.696Z"
      },
      {
        "duration": 525,
        "start_time": "2023-04-18T06:54:19.207Z"
      },
      {
        "duration": 412,
        "start_time": "2023-04-18T06:54:31.028Z"
      },
      {
        "duration": 488,
        "start_time": "2023-04-18T06:55:44.472Z"
      },
      {
        "duration": 416,
        "start_time": "2023-04-18T06:55:59.310Z"
      },
      {
        "duration": 412,
        "start_time": "2023-04-18T06:56:26.601Z"
      },
      {
        "duration": 366,
        "start_time": "2023-04-18T06:57:00.823Z"
      },
      {
        "duration": 366,
        "start_time": "2023-04-18T06:57:32.510Z"
      },
      {
        "duration": 134,
        "start_time": "2023-04-18T07:37:28.830Z"
      },
      {
        "duration": 2,
        "start_time": "2023-04-18T07:43:44.450Z"
      },
      {
        "duration": 10,
        "start_time": "2023-04-18T07:45:13.511Z"
      },
      {
        "duration": 10,
        "start_time": "2023-04-18T07:46:55.827Z"
      },
      {
        "duration": 5,
        "start_time": "2023-04-18T07:47:06.411Z"
      },
      {
        "duration": 15,
        "start_time": "2023-04-18T07:47:21.466Z"
      },
      {
        "duration": 9,
        "start_time": "2023-04-18T07:48:29.960Z"
      },
      {
        "duration": 7,
        "start_time": "2023-04-18T07:48:39.816Z"
      },
      {
        "duration": 6,
        "start_time": "2023-04-18T07:48:56.622Z"
      },
      {
        "duration": 5,
        "start_time": "2023-04-18T07:49:09.970Z"
      },
      {
        "duration": 5,
        "start_time": "2023-04-18T07:49:19.967Z"
      },
      {
        "duration": 5,
        "start_time": "2023-04-18T07:49:38.029Z"
      },
      {
        "duration": 5,
        "start_time": "2023-04-18T07:49:40.320Z"
      },
      {
        "duration": 380,
        "start_time": "2023-04-18T07:53:57.014Z"
      },
      {
        "duration": 142,
        "start_time": "2023-04-18T07:59:21.309Z"
      },
      {
        "duration": 169,
        "start_time": "2023-04-18T07:59:39.823Z"
      },
      {
        "duration": 149,
        "start_time": "2023-04-18T07:59:48.856Z"
      },
      {
        "duration": 304,
        "start_time": "2023-04-18T08:00:49.163Z"
      },
      {
        "duration": 198,
        "start_time": "2023-04-18T08:17:07.828Z"
      },
      {
        "duration": 7,
        "start_time": "2023-04-18T08:19:09.673Z"
      },
      {
        "duration": 11,
        "start_time": "2023-04-18T08:22:12.781Z"
      },
      {
        "duration": 8,
        "start_time": "2023-04-18T08:25:27.304Z"
      },
      {
        "duration": 4,
        "start_time": "2023-04-18T08:25:43.376Z"
      },
      {
        "duration": 6,
        "start_time": "2023-04-18T08:26:04.936Z"
      },
      {
        "duration": 6,
        "start_time": "2023-04-18T08:27:42.796Z"
      },
      {
        "duration": 8,
        "start_time": "2023-04-18T08:28:24.184Z"
      },
      {
        "duration": 7,
        "start_time": "2023-04-18T08:28:29.018Z"
      },
      {
        "duration": 4,
        "start_time": "2023-04-18T08:28:31.172Z"
      },
      {
        "duration": 4,
        "start_time": "2023-04-18T08:44:38.808Z"
      },
      {
        "duration": 16,
        "start_time": "2023-04-18T08:45:04.906Z"
      },
      {
        "duration": 4,
        "start_time": "2023-04-18T08:48:05.421Z"
      },
      {
        "duration": 18,
        "start_time": "2023-04-18T08:48:09.379Z"
      },
      {
        "duration": 4,
        "start_time": "2023-04-18T08:48:15.311Z"
      },
      {
        "duration": 10,
        "start_time": "2023-04-18T08:48:15.870Z"
      },
      {
        "duration": 4,
        "start_time": "2023-04-18T08:48:45.312Z"
      },
      {
        "duration": 23,
        "start_time": "2023-04-18T08:48:46.585Z"
      },
      {
        "duration": 4,
        "start_time": "2023-04-18T08:49:18.611Z"
      },
      {
        "duration": 11,
        "start_time": "2023-04-18T08:49:19.539Z"
      },
      {
        "duration": 5,
        "start_time": "2023-04-18T08:50:45.926Z"
      },
      {
        "duration": 12,
        "start_time": "2023-04-18T08:51:31.810Z"
      },
      {
        "duration": 9,
        "start_time": "2023-04-18T08:51:36.506Z"
      },
      {
        "duration": 10,
        "start_time": "2023-04-18T08:51:36.911Z"
      },
      {
        "duration": 4,
        "start_time": "2023-04-18T08:52:43.911Z"
      },
      {
        "duration": 4,
        "start_time": "2023-04-18T08:52:55.812Z"
      },
      {
        "duration": 6,
        "start_time": "2023-04-18T08:53:56.825Z"
      },
      {
        "duration": 155,
        "start_time": "2023-04-18T08:54:32.567Z"
      },
      {
        "duration": 312,
        "start_time": "2023-04-18T08:54:59.312Z"
      },
      {
        "duration": 8,
        "start_time": "2023-04-18T08:55:43.496Z"
      },
      {
        "duration": 5,
        "start_time": "2023-04-18T08:55:51.372Z"
      },
      {
        "duration": 13,
        "start_time": "2023-04-18T08:56:02.907Z"
      },
      {
        "duration": 302,
        "start_time": "2023-04-18T08:56:32.533Z"
      },
      {
        "duration": 152,
        "start_time": "2023-04-18T08:56:45.225Z"
      },
      {
        "duration": 7,
        "start_time": "2023-04-18T08:57:59.479Z"
      },
      {
        "duration": 5,
        "start_time": "2023-04-18T08:58:04.864Z"
      },
      {
        "duration": 11,
        "start_time": "2023-04-18T08:58:13.211Z"
      },
      {
        "duration": 4,
        "start_time": "2023-04-18T08:58:14.830Z"
      },
      {
        "duration": 11,
        "start_time": "2023-04-18T08:58:15.711Z"
      },
      {
        "duration": 4,
        "start_time": "2023-04-18T08:58:21.222Z"
      },
      {
        "duration": 15,
        "start_time": "2023-04-18T08:58:24.480Z"
      },
      {
        "duration": 164,
        "start_time": "2023-04-18T08:58:42.779Z"
      },
      {
        "duration": 7239,
        "start_time": "2023-04-18T09:00:20.023Z"
      },
      {
        "duration": 256,
        "start_time": "2023-04-18T09:02:11.213Z"
      },
      {
        "duration": 294,
        "start_time": "2023-04-18T09:02:20.314Z"
      },
      {
        "duration": 19,
        "start_time": "2023-04-18T09:02:34.541Z"
      },
      {
        "duration": 1624,
        "start_time": "2023-04-18T09:02:47.811Z"
      },
      {
        "duration": 771,
        "start_time": "2023-04-18T09:03:15.208Z"
      },
      {
        "duration": 291,
        "start_time": "2023-04-18T09:03:30.441Z"
      },
      {
        "duration": 6,
        "start_time": "2023-04-18T09:08:03.227Z"
      },
      {
        "duration": 8,
        "start_time": "2023-04-18T09:08:03.713Z"
      },
      {
        "duration": 6,
        "start_time": "2023-04-18T09:08:05.142Z"
      },
      {
        "duration": 7,
        "start_time": "2023-04-18T09:32:18.768Z"
      },
      {
        "duration": 5,
        "start_time": "2023-04-18T09:32:27.369Z"
      },
      {
        "duration": 4,
        "start_time": "2023-04-18T09:32:27.733Z"
      },
      {
        "duration": 9,
        "start_time": "2023-04-18T09:32:29.817Z"
      },
      {
        "duration": 14,
        "start_time": "2023-04-18T09:37:37.182Z"
      },
      {
        "duration": 7,
        "start_time": "2023-04-18T09:44:07.266Z"
      },
      {
        "duration": 4,
        "start_time": "2023-04-18T09:44:14.629Z"
      },
      {
        "duration": 4,
        "start_time": "2023-04-18T09:44:27.064Z"
      },
      {
        "duration": 17,
        "start_time": "2023-04-18T09:44:59.471Z"
      },
      {
        "duration": 8,
        "start_time": "2023-04-18T10:25:09.111Z"
      },
      {
        "duration": 14,
        "start_time": "2023-04-18T10:25:20.111Z"
      },
      {
        "duration": 18,
        "start_time": "2023-04-18T11:00:28.415Z"
      },
      {
        "duration": 9,
        "start_time": "2023-04-18T11:00:39.830Z"
      },
      {
        "duration": 15,
        "start_time": "2023-04-18T11:01:54.623Z"
      },
      {
        "duration": 15,
        "start_time": "2023-04-18T11:02:08.524Z"
      },
      {
        "duration": 17,
        "start_time": "2023-04-18T11:02:37.871Z"
      },
      {
        "duration": 7,
        "start_time": "2023-04-18T11:02:43.664Z"
      },
      {
        "duration": 1197,
        "start_time": "2023-04-18T11:02:49.026Z"
      },
      {
        "duration": 5512,
        "start_time": "2023-04-18T11:02:50.225Z"
      },
      {
        "duration": 4,
        "start_time": "2023-04-18T11:02:55.739Z"
      },
      {
        "duration": 120,
        "start_time": "2023-04-18T11:02:55.746Z"
      },
      {
        "duration": 31,
        "start_time": "2023-04-18T11:02:55.869Z"
      },
      {
        "duration": 44,
        "start_time": "2023-04-18T11:02:55.903Z"
      },
      {
        "duration": 32,
        "start_time": "2023-04-18T11:02:55.948Z"
      },
      {
        "duration": 150,
        "start_time": "2023-04-18T11:02:55.985Z"
      },
      {
        "duration": 38,
        "start_time": "2023-04-18T11:02:56.136Z"
      },
      {
        "duration": 53,
        "start_time": "2023-04-18T11:02:56.176Z"
      },
      {
        "duration": 19,
        "start_time": "2023-04-18T11:02:56.231Z"
      },
      {
        "duration": 52,
        "start_time": "2023-04-18T11:02:56.252Z"
      },
      {
        "duration": 35,
        "start_time": "2023-04-18T11:02:56.306Z"
      },
      {
        "duration": 4452,
        "start_time": "2023-04-18T11:02:56.343Z"
      },
      {
        "duration": 7018,
        "start_time": "2023-04-18T11:03:00.804Z"
      },
      {
        "duration": 17,
        "start_time": "2023-04-18T11:03:07.823Z"
      },
      {
        "duration": 432,
        "start_time": "2023-04-18T11:03:07.842Z"
      },
      {
        "duration": 21,
        "start_time": "2023-04-18T11:03:08.283Z"
      },
      {
        "duration": 25,
        "start_time": "2023-04-18T11:03:08.307Z"
      },
      {
        "duration": 11,
        "start_time": "2023-04-18T11:03:08.334Z"
      },
      {
        "duration": 8,
        "start_time": "2023-04-18T11:03:08.347Z"
      },
      {
        "duration": 18,
        "start_time": "2023-04-18T11:03:08.357Z"
      },
      {
        "duration": 202,
        "start_time": "2023-04-18T11:03:08.377Z"
      },
      {
        "duration": 0,
        "start_time": "2023-04-18T11:03:08.581Z"
      },
      {
        "duration": 0,
        "start_time": "2023-04-18T11:03:08.582Z"
      },
      {
        "duration": 0,
        "start_time": "2023-04-18T11:03:08.589Z"
      },
      {
        "duration": 0,
        "start_time": "2023-04-18T11:03:08.591Z"
      },
      {
        "duration": 0,
        "start_time": "2023-04-18T11:03:08.592Z"
      },
      {
        "duration": 0,
        "start_time": "2023-04-18T11:03:08.593Z"
      },
      {
        "duration": 0,
        "start_time": "2023-04-18T11:03:08.595Z"
      },
      {
        "duration": 0,
        "start_time": "2023-04-18T11:03:08.597Z"
      },
      {
        "duration": 0,
        "start_time": "2023-04-18T11:03:08.598Z"
      },
      {
        "duration": 0,
        "start_time": "2023-04-18T11:03:08.600Z"
      },
      {
        "duration": 0,
        "start_time": "2023-04-18T11:03:08.601Z"
      },
      {
        "duration": 0,
        "start_time": "2023-04-18T11:03:08.603Z"
      },
      {
        "duration": 1212,
        "start_time": "2023-04-18T11:03:26.422Z"
      },
      {
        "duration": 6215,
        "start_time": "2023-04-18T11:03:27.635Z"
      },
      {
        "duration": 3,
        "start_time": "2023-04-18T11:03:33.852Z"
      },
      {
        "duration": 99,
        "start_time": "2023-04-18T11:03:33.857Z"
      },
      {
        "duration": 5,
        "start_time": "2023-04-18T11:03:33.957Z"
      },
      {
        "duration": 12,
        "start_time": "2023-04-18T11:03:33.963Z"
      },
      {
        "duration": 53,
        "start_time": "2023-04-18T11:03:33.977Z"
      },
      {
        "duration": 28,
        "start_time": "2023-04-18T11:03:34.032Z"
      },
      {
        "duration": 10,
        "start_time": "2023-04-18T11:03:34.062Z"
      },
      {
        "duration": 55,
        "start_time": "2023-04-18T11:03:34.075Z"
      },
      {
        "duration": 5,
        "start_time": "2023-04-18T11:03:34.132Z"
      },
      {
        "duration": 20,
        "start_time": "2023-04-18T11:03:34.138Z"
      },
      {
        "duration": 5,
        "start_time": "2023-04-18T11:03:34.160Z"
      },
      {
        "duration": 4253,
        "start_time": "2023-04-18T11:03:34.167Z"
      },
      {
        "duration": 6637,
        "start_time": "2023-04-18T11:03:38.424Z"
      },
      {
        "duration": 38,
        "start_time": "2023-04-18T11:03:45.063Z"
      },
      {
        "duration": 340,
        "start_time": "2023-04-18T11:03:45.112Z"
      },
      {
        "duration": 5,
        "start_time": "2023-04-18T11:03:45.454Z"
      },
      {
        "duration": 11,
        "start_time": "2023-04-18T11:03:45.461Z"
      },
      {
        "duration": 62,
        "start_time": "2023-04-18T11:03:45.473Z"
      },
      {
        "duration": 26,
        "start_time": "2023-04-18T11:03:45.538Z"
      },
      {
        "duration": 28,
        "start_time": "2023-04-18T11:03:45.567Z"
      },
      {
        "duration": 101,
        "start_time": "2023-04-18T11:03:45.601Z"
      },
      {
        "duration": 0,
        "start_time": "2023-04-18T11:03:45.704Z"
      },
      {
        "duration": 0,
        "start_time": "2023-04-18T11:03:45.705Z"
      },
      {
        "duration": 0,
        "start_time": "2023-04-18T11:03:45.707Z"
      },
      {
        "duration": 0,
        "start_time": "2023-04-18T11:03:45.708Z"
      },
      {
        "duration": 0,
        "start_time": "2023-04-18T11:03:45.709Z"
      },
      {
        "duration": 0,
        "start_time": "2023-04-18T11:03:45.710Z"
      },
      {
        "duration": 0,
        "start_time": "2023-04-18T11:03:45.711Z"
      },
      {
        "duration": 0,
        "start_time": "2023-04-18T11:03:45.711Z"
      },
      {
        "duration": 0,
        "start_time": "2023-04-18T11:03:45.712Z"
      },
      {
        "duration": 0,
        "start_time": "2023-04-18T11:03:45.712Z"
      },
      {
        "duration": 0,
        "start_time": "2023-04-18T11:03:45.716Z"
      },
      {
        "duration": 0,
        "start_time": "2023-04-18T11:03:45.717Z"
      },
      {
        "duration": 15,
        "start_time": "2023-04-18T11:04:04.546Z"
      },
      {
        "duration": 24,
        "start_time": "2023-04-18T11:04:06.277Z"
      },
      {
        "duration": 4,
        "start_time": "2023-04-18T11:04:12.043Z"
      },
      {
        "duration": 1092,
        "start_time": "2023-04-18T11:04:12.050Z"
      },
      {
        "duration": 4,
        "start_time": "2023-04-18T11:04:13.144Z"
      },
      {
        "duration": 112,
        "start_time": "2023-04-18T11:04:13.150Z"
      },
      {
        "duration": 6,
        "start_time": "2023-04-18T11:04:13.264Z"
      },
      {
        "duration": 57,
        "start_time": "2023-04-18T11:04:13.271Z"
      },
      {
        "duration": 15,
        "start_time": "2023-04-18T11:04:13.330Z"
      },
      {
        "duration": 28,
        "start_time": "2023-04-18T11:04:13.347Z"
      },
      {
        "duration": 28,
        "start_time": "2023-04-18T11:04:13.379Z"
      },
      {
        "duration": 18,
        "start_time": "2023-04-18T11:04:13.415Z"
      },
      {
        "duration": 196,
        "start_time": "2023-04-18T11:04:13.434Z"
      },
      {
        "duration": 47,
        "start_time": "2023-04-18T11:04:13.631Z"
      },
      {
        "duration": 41,
        "start_time": "2023-04-18T11:04:13.681Z"
      },
      {
        "duration": 4872,
        "start_time": "2023-04-18T11:04:13.725Z"
      },
      {
        "duration": 6992,
        "start_time": "2023-04-18T11:04:18.601Z"
      },
      {
        "duration": 19,
        "start_time": "2023-04-18T11:04:25.595Z"
      },
      {
        "duration": 837,
        "start_time": "2023-04-18T11:04:25.615Z"
      },
      {
        "duration": 7,
        "start_time": "2023-04-18T11:04:26.454Z"
      },
      {
        "duration": 24,
        "start_time": "2023-04-18T11:04:26.463Z"
      },
      {
        "duration": 55,
        "start_time": "2023-04-18T11:04:26.493Z"
      },
      {
        "duration": 25,
        "start_time": "2023-04-18T11:04:26.549Z"
      },
      {
        "duration": 64,
        "start_time": "2023-04-18T11:04:26.576Z"
      },
      {
        "duration": 120,
        "start_time": "2023-04-18T11:04:26.642Z"
      },
      {
        "duration": 0,
        "start_time": "2023-04-18T11:04:26.764Z"
      },
      {
        "duration": 0,
        "start_time": "2023-04-18T11:04:26.765Z"
      },
      {
        "duration": 0,
        "start_time": "2023-04-18T11:04:26.766Z"
      },
      {
        "duration": 0,
        "start_time": "2023-04-18T11:04:26.767Z"
      },
      {
        "duration": 0,
        "start_time": "2023-04-18T11:04:26.768Z"
      },
      {
        "duration": 0,
        "start_time": "2023-04-18T11:04:26.769Z"
      },
      {
        "duration": 0,
        "start_time": "2023-04-18T11:04:26.770Z"
      },
      {
        "duration": 0,
        "start_time": "2023-04-18T11:04:26.771Z"
      },
      {
        "duration": 0,
        "start_time": "2023-04-18T11:04:26.772Z"
      },
      {
        "duration": 0,
        "start_time": "2023-04-18T11:04:26.773Z"
      },
      {
        "duration": 4,
        "start_time": "2023-04-18T11:06:46.851Z"
      },
      {
        "duration": 973,
        "start_time": "2023-04-18T11:06:46.857Z"
      },
      {
        "duration": 4,
        "start_time": "2023-04-18T11:06:47.832Z"
      },
      {
        "duration": 81,
        "start_time": "2023-04-18T11:06:47.839Z"
      },
      {
        "duration": 5,
        "start_time": "2023-04-18T11:06:47.922Z"
      },
      {
        "duration": 9,
        "start_time": "2023-04-18T11:06:47.928Z"
      },
      {
        "duration": 12,
        "start_time": "2023-04-18T11:06:47.939Z"
      },
      {
        "duration": 34,
        "start_time": "2023-04-18T11:06:47.953Z"
      },
      {
        "duration": 20,
        "start_time": "2023-04-18T11:06:47.990Z"
      },
      {
        "duration": 22,
        "start_time": "2023-04-18T11:06:48.014Z"
      },
      {
        "duration": 15,
        "start_time": "2023-04-18T11:06:48.038Z"
      },
      {
        "duration": 26,
        "start_time": "2023-04-18T11:06:48.055Z"
      },
      {
        "duration": 11,
        "start_time": "2023-04-18T11:06:48.082Z"
      },
      {
        "duration": 4209,
        "start_time": "2023-04-18T11:06:48.096Z"
      },
      {
        "duration": 6827,
        "start_time": "2023-04-18T11:06:52.312Z"
      },
      {
        "duration": 16,
        "start_time": "2023-04-18T11:06:59.140Z"
      },
      {
        "duration": 413,
        "start_time": "2023-04-18T11:06:59.157Z"
      },
      {
        "duration": 15,
        "start_time": "2023-04-18T11:06:59.572Z"
      },
      {
        "duration": 52,
        "start_time": "2023-04-18T11:06:59.588Z"
      },
      {
        "duration": 34,
        "start_time": "2023-04-18T11:06:59.642Z"
      },
      {
        "duration": 44,
        "start_time": "2023-04-18T11:06:59.678Z"
      },
      {
        "duration": 27,
        "start_time": "2023-04-18T11:06:59.724Z"
      },
      {
        "duration": 11,
        "start_time": "2023-04-18T11:06:59.752Z"
      },
      {
        "duration": 10,
        "start_time": "2023-04-18T11:06:59.766Z"
      },
      {
        "duration": 13,
        "start_time": "2023-04-18T11:06:59.778Z"
      },
      {
        "duration": 67,
        "start_time": "2023-04-18T11:06:59.793Z"
      },
      {
        "duration": 7,
        "start_time": "2023-04-18T11:06:59.862Z"
      },
      {
        "duration": 20,
        "start_time": "2023-04-18T11:06:59.871Z"
      },
      {
        "duration": 63,
        "start_time": "2023-04-18T11:06:59.893Z"
      },
      {
        "duration": 55,
        "start_time": "2023-04-18T11:06:59.958Z"
      },
      {
        "duration": 117,
        "start_time": "2023-04-18T11:07:00.015Z"
      },
      {
        "duration": 101,
        "start_time": "2023-04-18T11:07:00.134Z"
      },
      {
        "duration": 18,
        "start_time": "2023-04-18T11:07:10.712Z"
      },
      {
        "duration": 11,
        "start_time": "2023-04-18T11:07:33.717Z"
      },
      {
        "duration": 7,
        "start_time": "2023-04-18T11:07:34.669Z"
      },
      {
        "duration": 10,
        "start_time": "2023-04-18T11:07:46.545Z"
      },
      {
        "duration": 19,
        "start_time": "2023-04-18T11:07:47.102Z"
      },
      {
        "duration": 25,
        "start_time": "2023-04-18T11:08:42.012Z"
      },
      {
        "duration": 15,
        "start_time": "2023-04-18T11:08:53.760Z"
      },
      {
        "duration": 16,
        "start_time": "2023-04-18T11:09:57.915Z"
      },
      {
        "duration": 36,
        "start_time": "2023-04-18T11:10:07.260Z"
      },
      {
        "duration": 11,
        "start_time": "2023-04-18T11:10:14.627Z"
      },
      {
        "duration": 10,
        "start_time": "2023-04-18T11:10:16.718Z"
      },
      {
        "duration": 8,
        "start_time": "2023-04-18T11:10:25.232Z"
      },
      {
        "duration": 13,
        "start_time": "2023-04-18T11:10:27.508Z"
      },
      {
        "duration": 7,
        "start_time": "2023-04-18T11:10:35.821Z"
      },
      {
        "duration": 33,
        "start_time": "2023-04-18T11:10:38.011Z"
      },
      {
        "duration": 15,
        "start_time": "2023-04-18T11:10:55.028Z"
      },
      {
        "duration": 159,
        "start_time": "2023-04-18T11:14:11.175Z"
      },
      {
        "duration": 506,
        "start_time": "2023-04-18T11:14:35.242Z"
      },
      {
        "duration": 203,
        "start_time": "2023-04-18T11:14:51.721Z"
      },
      {
        "duration": 13,
        "start_time": "2023-04-18T11:15:04.011Z"
      },
      {
        "duration": 11,
        "start_time": "2023-04-18T11:15:28.746Z"
      },
      {
        "duration": 13,
        "start_time": "2023-04-18T11:16:50.921Z"
      },
      {
        "duration": 19,
        "start_time": "2023-04-18T11:16:59.410Z"
      },
      {
        "duration": 16,
        "start_time": "2023-04-18T11:17:17.277Z"
      },
      {
        "duration": 12,
        "start_time": "2023-04-18T11:17:25.347Z"
      },
      {
        "duration": 12,
        "start_time": "2023-04-18T11:17:29.563Z"
      },
      {
        "duration": 14,
        "start_time": "2023-04-18T11:17:38.224Z"
      },
      {
        "duration": 12,
        "start_time": "2023-04-18T11:17:42.325Z"
      },
      {
        "duration": 21,
        "start_time": "2023-04-18T11:17:52.590Z"
      },
      {
        "duration": 12,
        "start_time": "2023-04-18T11:17:59.721Z"
      },
      {
        "duration": 161,
        "start_time": "2023-04-18T11:18:32.677Z"
      },
      {
        "duration": 9,
        "start_time": "2023-04-18T11:19:28.343Z"
      },
      {
        "duration": 20,
        "start_time": "2023-04-18T11:19:43.612Z"
      },
      {
        "duration": 11,
        "start_time": "2023-04-18T11:20:06.742Z"
      },
      {
        "duration": 117,
        "start_time": "2023-04-18T11:20:22.423Z"
      },
      {
        "duration": 184,
        "start_time": "2023-04-18T11:20:30.769Z"
      },
      {
        "duration": 24,
        "start_time": "2023-04-18T11:21:55.079Z"
      },
      {
        "duration": 20,
        "start_time": "2023-04-18T11:22:19.193Z"
      },
      {
        "duration": 26,
        "start_time": "2023-04-18T11:22:43.477Z"
      },
      {
        "duration": 49,
        "start_time": "2023-04-18T11:24:27.116Z"
      },
      {
        "duration": 13,
        "start_time": "2023-04-18T11:24:39.656Z"
      },
      {
        "duration": 16,
        "start_time": "2023-04-18T11:29:42.414Z"
      },
      {
        "duration": 13,
        "start_time": "2023-04-18T11:30:13.011Z"
      },
      {
        "duration": 27,
        "start_time": "2023-04-18T11:31:38.574Z"
      },
      {
        "duration": 19,
        "start_time": "2023-04-18T11:31:43.913Z"
      },
      {
        "duration": 12,
        "start_time": "2023-04-18T11:31:53.845Z"
      },
      {
        "duration": 17,
        "start_time": "2023-04-18T11:32:59.309Z"
      },
      {
        "duration": 13,
        "start_time": "2023-04-18T11:33:13.246Z"
      },
      {
        "duration": 15,
        "start_time": "2023-04-18T11:33:20.759Z"
      },
      {
        "duration": 15,
        "start_time": "2023-04-18T11:34:42.177Z"
      },
      {
        "duration": 16,
        "start_time": "2023-04-18T11:35:01.776Z"
      },
      {
        "duration": 23,
        "start_time": "2023-04-18T11:35:08.786Z"
      },
      {
        "duration": 18,
        "start_time": "2023-04-18T11:35:17.104Z"
      },
      {
        "duration": 16,
        "start_time": "2023-04-18T11:35:28.523Z"
      },
      {
        "duration": 20,
        "start_time": "2023-04-18T11:35:37.906Z"
      },
      {
        "duration": 22,
        "start_time": "2023-04-18T11:35:44.388Z"
      },
      {
        "duration": 17,
        "start_time": "2023-04-18T11:37:06.772Z"
      },
      {
        "duration": 11,
        "start_time": "2023-04-18T11:38:40.136Z"
      },
      {
        "duration": 12,
        "start_time": "2023-04-18T11:38:45.724Z"
      },
      {
        "duration": 12,
        "start_time": "2023-04-18T11:38:50.864Z"
      },
      {
        "duration": 22,
        "start_time": "2023-04-18T11:38:56.304Z"
      },
      {
        "duration": 15,
        "start_time": "2023-04-18T11:39:31.015Z"
      },
      {
        "duration": 18,
        "start_time": "2023-04-18T11:39:45.324Z"
      },
      {
        "duration": 13,
        "start_time": "2023-04-18T11:39:46.045Z"
      },
      {
        "duration": 27,
        "start_time": "2023-04-18T12:15:02.011Z"
      },
      {
        "duration": 15,
        "start_time": "2023-04-18T12:15:10.066Z"
      },
      {
        "duration": 13,
        "start_time": "2023-04-18T12:15:18.934Z"
      },
      {
        "duration": 12,
        "start_time": "2023-04-18T12:16:32.457Z"
      },
      {
        "duration": 22,
        "start_time": "2023-04-18T12:16:39.422Z"
      },
      {
        "duration": 14,
        "start_time": "2023-04-18T12:18:06.434Z"
      },
      {
        "duration": 22,
        "start_time": "2023-04-18T12:18:15.598Z"
      },
      {
        "duration": 16,
        "start_time": "2023-04-18T12:19:06.305Z"
      },
      {
        "duration": 22,
        "start_time": "2023-04-18T12:19:18.988Z"
      },
      {
        "duration": 14,
        "start_time": "2023-04-18T12:23:34.616Z"
      },
      {
        "duration": 12,
        "start_time": "2023-04-18T12:23:59.512Z"
      },
      {
        "duration": 12,
        "start_time": "2023-04-18T12:24:19.616Z"
      },
      {
        "duration": 14,
        "start_time": "2023-04-18T12:24:44.707Z"
      },
      {
        "duration": 18,
        "start_time": "2023-04-18T12:43:05.509Z"
      },
      {
        "duration": 20,
        "start_time": "2023-04-18T12:43:23.373Z"
      },
      {
        "duration": 17,
        "start_time": "2023-04-18T12:43:27.513Z"
      },
      {
        "duration": 12,
        "start_time": "2023-04-18T12:44:02.434Z"
      },
      {
        "duration": 14,
        "start_time": "2023-04-18T12:45:24.953Z"
      },
      {
        "duration": 18,
        "start_time": "2023-04-18T12:45:31.680Z"
      },
      {
        "duration": 21,
        "start_time": "2023-04-18T12:46:02.609Z"
      },
      {
        "duration": 15,
        "start_time": "2023-04-18T12:46:09.310Z"
      },
      {
        "duration": 46,
        "start_time": "2023-04-18T12:46:20.305Z"
      },
      {
        "duration": 11,
        "start_time": "2023-04-18T12:46:31.649Z"
      },
      {
        "duration": 20,
        "start_time": "2023-04-18T12:47:27.611Z"
      },
      {
        "duration": 117,
        "start_time": "2023-04-18T12:47:38.827Z"
      },
      {
        "duration": 11,
        "start_time": "2023-04-18T12:47:43.131Z"
      },
      {
        "duration": 14,
        "start_time": "2023-04-18T12:48:53.425Z"
      },
      {
        "duration": 12,
        "start_time": "2023-04-18T12:49:06.349Z"
      },
      {
        "duration": 14,
        "start_time": "2023-04-18T12:49:29.317Z"
      },
      {
        "duration": 11,
        "start_time": "2023-04-18T12:59:45.925Z"
      },
      {
        "duration": 11,
        "start_time": "2023-04-18T12:59:53.833Z"
      },
      {
        "duration": 28,
        "start_time": "2023-04-18T13:03:44.079Z"
      },
      {
        "duration": 14,
        "start_time": "2023-04-18T13:03:56.336Z"
      },
      {
        "duration": 14,
        "start_time": "2023-04-18T13:04:08.125Z"
      },
      {
        "duration": 20,
        "start_time": "2023-04-18T13:04:18.278Z"
      },
      {
        "duration": 15,
        "start_time": "2023-04-18T13:10:16.959Z"
      },
      {
        "duration": 8,
        "start_time": "2023-04-18T13:10:47.390Z"
      },
      {
        "duration": 4,
        "start_time": "2023-04-18T13:10:53.733Z"
      },
      {
        "duration": 23,
        "start_time": "2023-04-18T13:11:18.899Z"
      },
      {
        "duration": 4,
        "start_time": "2023-04-18T13:11:29.358Z"
      },
      {
        "duration": 13,
        "start_time": "2023-04-18T13:12:34.509Z"
      },
      {
        "duration": 18,
        "start_time": "2023-04-18T13:13:10.459Z"
      },
      {
        "duration": 14,
        "start_time": "2023-04-18T13:13:16.619Z"
      },
      {
        "duration": 14,
        "start_time": "2023-04-18T13:13:32.811Z"
      },
      {
        "duration": 14,
        "start_time": "2023-04-18T13:13:42.427Z"
      },
      {
        "duration": 14,
        "start_time": "2023-04-18T13:13:51.059Z"
      },
      {
        "duration": 12,
        "start_time": "2023-04-18T13:14:41.557Z"
      },
      {
        "duration": 11,
        "start_time": "2023-04-18T13:14:58.312Z"
      },
      {
        "duration": 16,
        "start_time": "2023-04-18T13:15:14.823Z"
      },
      {
        "duration": 12,
        "start_time": "2023-04-18T13:15:42.032Z"
      },
      {
        "duration": 15,
        "start_time": "2023-04-18T13:18:09.755Z"
      },
      {
        "duration": 5,
        "start_time": "2023-04-18T13:24:09.756Z"
      },
      {
        "duration": 13,
        "start_time": "2023-04-18T13:24:26.068Z"
      },
      {
        "duration": 36,
        "start_time": "2023-04-18T13:25:07.712Z"
      },
      {
        "duration": 3,
        "start_time": "2023-04-18T13:25:41.657Z"
      },
      {
        "duration": 55,
        "start_time": "2023-04-18T13:25:42.073Z"
      },
      {
        "duration": 58,
        "start_time": "2023-04-18T13:26:15.869Z"
      },
      {
        "duration": 9,
        "start_time": "2023-04-18T13:27:40.111Z"
      },
      {
        "duration": 55,
        "start_time": "2023-04-18T13:27:40.661Z"
      },
      {
        "duration": 4,
        "start_time": "2023-04-18T13:28:32.209Z"
      },
      {
        "duration": 13,
        "start_time": "2023-04-18T13:28:32.713Z"
      },
      {
        "duration": 23,
        "start_time": "2023-04-18T13:28:43.275Z"
      },
      {
        "duration": 66,
        "start_time": "2023-04-18T13:32:31.321Z"
      },
      {
        "duration": 57,
        "start_time": "2023-04-18T13:32:39.910Z"
      },
      {
        "duration": 15,
        "start_time": "2023-04-18T13:39:32.019Z"
      },
      {
        "duration": 6,
        "start_time": "2023-04-18T13:51:49.581Z"
      },
      {
        "duration": 11,
        "start_time": "2023-04-18T13:51:49.964Z"
      },
      {
        "duration": 81,
        "start_time": "2023-04-18T13:51:54.600Z"
      },
      {
        "duration": 12,
        "start_time": "2023-04-18T13:52:23.982Z"
      },
      {
        "duration": 12,
        "start_time": "2023-04-18T13:52:24.556Z"
      },
      {
        "duration": 60,
        "start_time": "2023-04-18T13:52:24.911Z"
      },
      {
        "duration": 105,
        "start_time": "2023-04-18T13:53:24.833Z"
      },
      {
        "duration": 4,
        "start_time": "2023-04-18T13:53:31.614Z"
      },
      {
        "duration": 14,
        "start_time": "2023-04-18T13:53:32.500Z"
      },
      {
        "duration": 60,
        "start_time": "2023-04-18T13:53:33.401Z"
      },
      {
        "duration": 4,
        "start_time": "2023-04-18T13:54:23.953Z"
      },
      {
        "duration": 31,
        "start_time": "2023-04-18T13:54:24.279Z"
      },
      {
        "duration": 65,
        "start_time": "2023-04-18T13:54:24.783Z"
      },
      {
        "duration": 10,
        "start_time": "2023-04-18T14:19:59.431Z"
      },
      {
        "duration": 997,
        "start_time": "2023-04-18T14:20:25.575Z"
      },
      {
        "duration": 9,
        "start_time": "2023-04-18T14:20:31.372Z"
      },
      {
        "duration": 782,
        "start_time": "2023-04-18T14:20:39.813Z"
      },
      {
        "duration": 24,
        "start_time": "2023-04-18T14:20:40.597Z"
      },
      {
        "duration": 5,
        "start_time": "2023-04-18T14:21:20.871Z"
      },
      {
        "duration": 1027,
        "start_time": "2023-04-18T14:22:22.808Z"
      },
      {
        "duration": 10,
        "start_time": "2023-04-18T14:22:24.106Z"
      },
      {
        "duration": 98,
        "start_time": "2023-04-18T14:22:24.728Z"
      },
      {
        "duration": 9,
        "start_time": "2023-04-18T15:10:48.908Z"
      },
      {
        "duration": 86,
        "start_time": "2023-04-18T15:10:49.581Z"
      },
      {
        "duration": 4,
        "start_time": "2023-04-18T15:11:02.653Z"
      },
      {
        "duration": 76,
        "start_time": "2023-04-18T15:11:03.614Z"
      },
      {
        "duration": 4,
        "start_time": "2023-04-18T15:12:27.813Z"
      },
      {
        "duration": 84,
        "start_time": "2023-04-18T15:12:28.561Z"
      },
      {
        "duration": 4,
        "start_time": "2023-04-18T15:13:49.630Z"
      },
      {
        "duration": 72,
        "start_time": "2023-04-18T15:13:50.032Z"
      },
      {
        "duration": 4,
        "start_time": "2023-04-18T15:15:11.133Z"
      },
      {
        "duration": 3,
        "start_time": "2023-04-18T15:15:13.362Z"
      },
      {
        "duration": 73,
        "start_time": "2023-04-18T15:15:13.849Z"
      },
      {
        "duration": 4,
        "start_time": "2023-04-18T15:16:44.077Z"
      },
      {
        "duration": 44,
        "start_time": "2023-04-18T15:16:44.683Z"
      },
      {
        "duration": 106,
        "start_time": "2023-04-18T15:16:56.215Z"
      },
      {
        "duration": 18,
        "start_time": "2023-04-18T15:16:56.617Z"
      },
      {
        "duration": 3,
        "start_time": "2023-04-18T15:17:01.451Z"
      },
      {
        "duration": 68,
        "start_time": "2023-04-18T15:17:01.804Z"
      },
      {
        "duration": 5,
        "start_time": "2023-04-18T15:24:32.531Z"
      },
      {
        "duration": 148,
        "start_time": "2023-04-18T15:24:33.333Z"
      },
      {
        "duration": 119,
        "start_time": "2023-04-18T15:25:13.416Z"
      },
      {
        "duration": 13,
        "start_time": "2023-04-18T15:26:01.823Z"
      },
      {
        "duration": 4,
        "start_time": "2023-04-18T15:26:03.565Z"
      },
      {
        "duration": 132,
        "start_time": "2023-04-18T15:26:04.015Z"
      },
      {
        "duration": 140,
        "start_time": "2023-04-18T15:32:28.439Z"
      },
      {
        "duration": 1423,
        "start_time": "2023-04-19T04:28:28.324Z"
      },
      {
        "duration": 1137,
        "start_time": "2023-04-19T04:28:29.752Z"
      },
      {
        "duration": 3,
        "start_time": "2023-04-19T04:28:30.891Z"
      },
      {
        "duration": 130,
        "start_time": "2023-04-19T04:28:30.897Z"
      },
      {
        "duration": 7,
        "start_time": "2023-04-19T04:28:31.030Z"
      },
      {
        "duration": 62,
        "start_time": "2023-04-19T04:28:31.042Z"
      },
      {
        "duration": 63,
        "start_time": "2023-04-19T04:28:31.105Z"
      },
      {
        "duration": 60,
        "start_time": "2023-04-19T04:28:31.169Z"
      },
      {
        "duration": 39,
        "start_time": "2023-04-19T04:28:31.231Z"
      },
      {
        "duration": 46,
        "start_time": "2023-04-19T04:28:31.272Z"
      },
      {
        "duration": 47,
        "start_time": "2023-04-19T04:28:31.320Z"
      },
      {
        "duration": 81,
        "start_time": "2023-04-19T04:28:31.368Z"
      },
      {
        "duration": 18,
        "start_time": "2023-04-19T04:28:31.451Z"
      },
      {
        "duration": 3905,
        "start_time": "2023-04-19T04:28:31.470Z"
      },
      {
        "duration": 6147,
        "start_time": "2023-04-19T04:28:35.377Z"
      },
      {
        "duration": 27,
        "start_time": "2023-04-19T04:28:41.526Z"
      },
      {
        "duration": 374,
        "start_time": "2023-04-19T04:28:41.555Z"
      },
      {
        "duration": 16,
        "start_time": "2023-04-19T04:28:41.934Z"
      },
      {
        "duration": 16,
        "start_time": "2023-04-19T04:28:41.952Z"
      },
      {
        "duration": 5,
        "start_time": "2023-04-19T04:28:41.969Z"
      },
      {
        "duration": 5,
        "start_time": "2023-04-19T04:28:41.976Z"
      },
      {
        "duration": 16,
        "start_time": "2023-04-19T04:28:41.982Z"
      },
      {
        "duration": 6,
        "start_time": "2023-04-19T04:28:42.000Z"
      },
      {
        "duration": 8,
        "start_time": "2023-04-19T04:28:42.008Z"
      },
      {
        "duration": 31,
        "start_time": "2023-04-19T04:28:42.018Z"
      },
      {
        "duration": 21,
        "start_time": "2023-04-19T04:28:42.054Z"
      },
      {
        "duration": 8,
        "start_time": "2023-04-19T04:28:42.076Z"
      },
      {
        "duration": 3,
        "start_time": "2023-04-19T04:28:42.088Z"
      },
      {
        "duration": 9,
        "start_time": "2023-04-19T04:28:42.093Z"
      },
      {
        "duration": 23,
        "start_time": "2023-04-19T04:28:42.103Z"
      },
      {
        "duration": 23,
        "start_time": "2023-04-19T04:28:42.127Z"
      },
      {
        "duration": 6,
        "start_time": "2023-04-19T04:28:42.152Z"
      },
      {
        "duration": 148,
        "start_time": "2023-04-19T04:28:42.160Z"
      },
      {
        "duration": 12,
        "start_time": "2023-04-19T04:31:56.657Z"
      },
      {
        "duration": 5,
        "start_time": "2023-04-19T04:39:27.963Z"
      },
      {
        "duration": 1611,
        "start_time": "2023-04-19T04:39:27.970Z"
      },
      {
        "duration": 4,
        "start_time": "2023-04-19T04:39:29.583Z"
      },
      {
        "duration": 79,
        "start_time": "2023-04-19T04:39:29.588Z"
      },
      {
        "duration": 4,
        "start_time": "2023-04-19T04:39:29.669Z"
      },
      {
        "duration": 13,
        "start_time": "2023-04-19T04:39:29.674Z"
      },
      {
        "duration": 4,
        "start_time": "2023-04-19T04:39:29.688Z"
      },
      {
        "duration": 13,
        "start_time": "2023-04-19T04:39:29.694Z"
      },
      {
        "duration": 16,
        "start_time": "2023-04-19T04:39:29.709Z"
      },
      {
        "duration": 16,
        "start_time": "2023-04-19T04:39:29.740Z"
      },
      {
        "duration": 12,
        "start_time": "2023-04-19T04:39:29.757Z"
      },
      {
        "duration": 6,
        "start_time": "2023-04-19T04:39:29.770Z"
      },
      {
        "duration": 21,
        "start_time": "2023-04-19T04:39:29.778Z"
      },
      {
        "duration": 5,
        "start_time": "2023-04-19T04:39:29.801Z"
      },
      {
        "duration": 4230,
        "start_time": "2023-04-19T04:39:29.808Z"
      },
      {
        "duration": 6144,
        "start_time": "2023-04-19T04:39:34.046Z"
      },
      {
        "duration": 14,
        "start_time": "2023-04-19T04:39:40.192Z"
      },
      {
        "duration": 409,
        "start_time": "2023-04-19T04:39:40.207Z"
      },
      {
        "duration": 21,
        "start_time": "2023-04-19T04:39:40.618Z"
      },
      {
        "duration": 8,
        "start_time": "2023-04-19T04:39:40.643Z"
      },
      {
        "duration": 13,
        "start_time": "2023-04-19T04:39:40.655Z"
      },
      {
        "duration": 4,
        "start_time": "2023-04-19T04:39:40.669Z"
      },
      {
        "duration": 13,
        "start_time": "2023-04-19T04:39:40.674Z"
      },
      {
        "duration": 5,
        "start_time": "2023-04-19T04:39:40.689Z"
      },
      {
        "duration": 4,
        "start_time": "2023-04-19T04:39:40.695Z"
      },
      {
        "duration": 9,
        "start_time": "2023-04-19T04:39:40.701Z"
      },
      {
        "duration": 16,
        "start_time": "2023-04-19T04:39:40.711Z"
      },
      {
        "duration": 39,
        "start_time": "2023-04-19T04:39:40.729Z"
      },
      {
        "duration": 8,
        "start_time": "2023-04-19T04:39:40.770Z"
      },
      {
        "duration": 7,
        "start_time": "2023-04-19T04:39:40.779Z"
      },
      {
        "duration": 11,
        "start_time": "2023-04-19T04:39:40.787Z"
      },
      {
        "duration": 13,
        "start_time": "2023-04-19T04:39:40.799Z"
      },
      {
        "duration": 3,
        "start_time": "2023-04-19T04:39:40.814Z"
      },
      {
        "duration": 135,
        "start_time": "2023-04-19T04:39:40.819Z"
      },
      {
        "duration": 112,
        "start_time": "2023-04-19T04:40:03.791Z"
      },
      {
        "duration": 5,
        "start_time": "2023-04-19T04:41:21.909Z"
      },
      {
        "duration": 4,
        "start_time": "2023-04-19T04:41:27.001Z"
      },
      {
        "duration": 1003,
        "start_time": "2023-04-19T04:41:27.007Z"
      },
      {
        "duration": 3,
        "start_time": "2023-04-19T04:41:28.012Z"
      },
      {
        "duration": 100,
        "start_time": "2023-04-19T04:41:28.017Z"
      },
      {
        "duration": 5,
        "start_time": "2023-04-19T04:41:28.120Z"
      },
      {
        "duration": 29,
        "start_time": "2023-04-19T04:41:28.126Z"
      },
      {
        "duration": 31,
        "start_time": "2023-04-19T04:41:28.156Z"
      },
      {
        "duration": 11,
        "start_time": "2023-04-19T04:41:28.188Z"
      },
      {
        "duration": 14,
        "start_time": "2023-04-19T04:41:28.200Z"
      },
      {
        "duration": 17,
        "start_time": "2023-04-19T04:41:28.216Z"
      },
      {
        "duration": 8,
        "start_time": "2023-04-19T04:41:28.242Z"
      },
      {
        "duration": 32,
        "start_time": "2023-04-19T04:41:28.254Z"
      },
      {
        "duration": 18,
        "start_time": "2023-04-19T04:41:28.288Z"
      },
      {
        "duration": 26,
        "start_time": "2023-04-19T04:41:28.309Z"
      },
      {
        "duration": 6,
        "start_time": "2023-04-19T04:41:28.344Z"
      },
      {
        "duration": 3860,
        "start_time": "2023-04-19T04:41:28.353Z"
      },
      {
        "duration": 6385,
        "start_time": "2023-04-19T04:41:32.214Z"
      },
      {
        "duration": 14,
        "start_time": "2023-04-19T04:41:38.600Z"
      },
      {
        "duration": 794,
        "start_time": "2023-04-19T04:41:38.615Z"
      },
      {
        "duration": 8,
        "start_time": "2023-04-19T04:41:39.411Z"
      },
      {
        "duration": 19,
        "start_time": "2023-04-19T04:41:39.421Z"
      },
      {
        "duration": 26,
        "start_time": "2023-04-19T04:41:39.442Z"
      },
      {
        "duration": 6,
        "start_time": "2023-04-19T04:41:39.469Z"
      },
      {
        "duration": 20,
        "start_time": "2023-04-19T04:41:39.477Z"
      },
      {
        "duration": 5,
        "start_time": "2023-04-19T04:41:39.499Z"
      },
      {
        "duration": 3,
        "start_time": "2023-04-19T04:41:39.506Z"
      },
      {
        "duration": 6,
        "start_time": "2023-04-19T04:41:39.510Z"
      },
      {
        "duration": 11,
        "start_time": "2023-04-19T04:41:39.518Z"
      },
      {
        "duration": 32,
        "start_time": "2023-04-19T04:41:39.530Z"
      },
      {
        "duration": 10,
        "start_time": "2023-04-19T04:41:39.563Z"
      },
      {
        "duration": 8,
        "start_time": "2023-04-19T04:41:39.574Z"
      },
      {
        "duration": 12,
        "start_time": "2023-04-19T04:41:39.583Z"
      },
      {
        "duration": 12,
        "start_time": "2023-04-19T04:41:39.597Z"
      },
      {
        "duration": 3,
        "start_time": "2023-04-19T04:41:39.611Z"
      },
      {
        "duration": 131,
        "start_time": "2023-04-19T04:41:39.616Z"
      },
      {
        "duration": 1627,
        "start_time": "2023-04-19T12:06:17.951Z"
      },
      {
        "duration": 5919,
        "start_time": "2023-04-19T12:06:19.581Z"
      },
      {
        "duration": 5,
        "start_time": "2023-04-19T12:06:25.502Z"
      },
      {
        "duration": 94,
        "start_time": "2023-04-19T12:06:25.509Z"
      },
      {
        "duration": 18,
        "start_time": "2023-04-19T12:06:25.605Z"
      },
      {
        "duration": 16,
        "start_time": "2023-04-19T12:06:25.630Z"
      },
      {
        "duration": 5,
        "start_time": "2023-04-19T12:06:25.648Z"
      },
      {
        "duration": 12,
        "start_time": "2023-04-19T12:06:25.654Z"
      },
      {
        "duration": 16,
        "start_time": "2023-04-19T12:06:25.668Z"
      },
      {
        "duration": 49,
        "start_time": "2023-04-19T12:06:25.687Z"
      },
      {
        "duration": 6,
        "start_time": "2023-04-19T12:06:25.738Z"
      },
      {
        "duration": 10,
        "start_time": "2023-04-19T12:06:25.746Z"
      },
      {
        "duration": 26,
        "start_time": "2023-04-19T12:06:25.758Z"
      },
      {
        "duration": 26,
        "start_time": "2023-04-19T12:06:25.785Z"
      },
      {
        "duration": 6,
        "start_time": "2023-04-19T12:06:25.813Z"
      },
      {
        "duration": 4792,
        "start_time": "2023-04-19T12:06:25.822Z"
      },
      {
        "duration": 6911,
        "start_time": "2023-04-19T12:06:30.616Z"
      },
      {
        "duration": 16,
        "start_time": "2023-04-19T12:06:37.529Z"
      },
      {
        "duration": 438,
        "start_time": "2023-04-19T12:06:37.547Z"
      },
      {
        "duration": 8,
        "start_time": "2023-04-19T12:06:37.987Z"
      },
      {
        "duration": 16,
        "start_time": "2023-04-19T12:06:37.996Z"
      },
      {
        "duration": 7,
        "start_time": "2023-04-19T12:06:38.014Z"
      },
      {
        "duration": 20,
        "start_time": "2023-04-19T12:06:38.023Z"
      },
      {
        "duration": 25,
        "start_time": "2023-04-19T12:06:38.044Z"
      },
      {
        "duration": 7,
        "start_time": "2023-04-19T12:06:38.071Z"
      },
      {
        "duration": 8,
        "start_time": "2023-04-19T12:06:38.079Z"
      },
      {
        "duration": 7,
        "start_time": "2023-04-19T12:06:38.089Z"
      },
      {
        "duration": 16,
        "start_time": "2023-04-19T12:06:38.100Z"
      },
      {
        "duration": 8,
        "start_time": "2023-04-19T12:06:38.118Z"
      },
      {
        "duration": 5,
        "start_time": "2023-04-19T12:06:38.127Z"
      },
      {
        "duration": 5,
        "start_time": "2023-04-19T12:06:38.134Z"
      },
      {
        "duration": 22,
        "start_time": "2023-04-19T12:06:38.141Z"
      },
      {
        "duration": 31,
        "start_time": "2023-04-19T12:06:38.165Z"
      },
      {
        "duration": 14,
        "start_time": "2023-04-19T12:06:38.198Z"
      },
      {
        "duration": 156,
        "start_time": "2023-04-19T12:06:38.214Z"
      },
      {
        "duration": 7,
        "start_time": "2023-04-19T12:06:38.372Z"
      },
      {
        "duration": 6,
        "start_time": "2023-04-19T12:06:59.710Z"
      },
      {
        "duration": 2441,
        "start_time": "2023-04-19T12:10:23.704Z"
      },
      {
        "duration": 1775,
        "start_time": "2023-04-19T12:10:58.449Z"
      },
      {
        "duration": 885,
        "start_time": "2023-04-19T12:11:08.478Z"
      },
      {
        "duration": 82,
        "start_time": "2023-04-19T12:12:59.207Z"
      },
      {
        "duration": 5,
        "start_time": "2023-04-19T12:13:13.788Z"
      },
      {
        "duration": 1127,
        "start_time": "2023-04-19T12:13:13.797Z"
      },
      {
        "duration": 4,
        "start_time": "2023-04-19T12:13:14.926Z"
      },
      {
        "duration": 90,
        "start_time": "2023-04-19T12:13:14.932Z"
      },
      {
        "duration": 5,
        "start_time": "2023-04-19T12:13:15.024Z"
      },
      {
        "duration": 37,
        "start_time": "2023-04-19T12:13:15.031Z"
      },
      {
        "duration": 15,
        "start_time": "2023-04-19T12:13:15.070Z"
      },
      {
        "duration": 15,
        "start_time": "2023-04-19T12:13:15.086Z"
      },
      {
        "duration": 17,
        "start_time": "2023-04-19T12:13:15.103Z"
      },
      {
        "duration": 23,
        "start_time": "2023-04-19T12:13:15.122Z"
      },
      {
        "duration": 6,
        "start_time": "2023-04-19T12:13:15.147Z"
      },
      {
        "duration": 8,
        "start_time": "2023-04-19T12:13:15.154Z"
      },
      {
        "duration": 18,
        "start_time": "2023-04-19T12:13:15.164Z"
      },
      {
        "duration": 42,
        "start_time": "2023-04-19T12:13:15.183Z"
      },
      {
        "duration": 5,
        "start_time": "2023-04-19T12:13:15.227Z"
      },
      {
        "duration": 4215,
        "start_time": "2023-04-19T12:13:15.234Z"
      },
      {
        "duration": 6253,
        "start_time": "2023-04-19T12:13:19.451Z"
      },
      {
        "duration": 19,
        "start_time": "2023-04-19T12:13:25.706Z"
      },
      {
        "duration": 369,
        "start_time": "2023-04-19T12:13:25.727Z"
      },
      {
        "duration": 15,
        "start_time": "2023-04-19T12:13:26.098Z"
      },
      {
        "duration": 8,
        "start_time": "2023-04-19T12:13:26.115Z"
      },
      {
        "duration": 8,
        "start_time": "2023-04-19T12:13:26.125Z"
      },
      {
        "duration": 6,
        "start_time": "2023-04-19T12:13:26.135Z"
      },
      {
        "duration": 19,
        "start_time": "2023-04-19T12:13:26.143Z"
      },
      {
        "duration": 7,
        "start_time": "2023-04-19T12:13:26.164Z"
      },
      {
        "duration": 7,
        "start_time": "2023-04-19T12:13:26.173Z"
      },
      {
        "duration": 6,
        "start_time": "2023-04-19T12:13:26.211Z"
      },
      {
        "duration": 13,
        "start_time": "2023-04-19T12:13:26.219Z"
      },
      {
        "duration": 8,
        "start_time": "2023-04-19T12:13:26.236Z"
      },
      {
        "duration": 5,
        "start_time": "2023-04-19T12:13:26.246Z"
      },
      {
        "duration": 6,
        "start_time": "2023-04-19T12:13:26.253Z"
      },
      {
        "duration": 13,
        "start_time": "2023-04-19T12:13:26.261Z"
      },
      {
        "duration": 48,
        "start_time": "2023-04-19T12:13:26.275Z"
      },
      {
        "duration": 4,
        "start_time": "2023-04-19T12:13:26.324Z"
      },
      {
        "duration": 145,
        "start_time": "2023-04-19T12:13:26.329Z"
      },
      {
        "duration": 53,
        "start_time": "2023-04-19T12:13:26.475Z"
      },
      {
        "duration": 0,
        "start_time": "2023-04-19T12:13:26.530Z"
      },
      {
        "duration": 56,
        "start_time": "2023-04-19T12:14:11.657Z"
      },
      {
        "duration": 6,
        "start_time": "2023-04-19T12:19:15.883Z"
      },
      {
        "duration": 1031,
        "start_time": "2023-04-19T12:19:15.899Z"
      },
      {
        "duration": 5,
        "start_time": "2023-04-19T12:19:16.935Z"
      },
      {
        "duration": 374,
        "start_time": "2023-04-19T12:19:16.943Z"
      },
      {
        "duration": 9,
        "start_time": "2023-04-19T12:19:17.319Z"
      },
      {
        "duration": 23,
        "start_time": "2023-04-19T12:19:17.331Z"
      },
      {
        "duration": 5,
        "start_time": "2023-04-19T12:19:17.356Z"
      },
      {
        "duration": 13,
        "start_time": "2023-04-19T12:19:17.367Z"
      },
      {
        "duration": 37,
        "start_time": "2023-04-19T12:19:17.383Z"
      },
      {
        "duration": 28,
        "start_time": "2023-04-19T12:19:17.422Z"
      },
      {
        "duration": 13,
        "start_time": "2023-04-19T12:19:17.452Z"
      },
      {
        "duration": 8,
        "start_time": "2023-04-19T12:19:17.468Z"
      },
      {
        "duration": 35,
        "start_time": "2023-04-19T12:19:17.478Z"
      },
      {
        "duration": 34,
        "start_time": "2023-04-19T12:19:17.515Z"
      },
      {
        "duration": 6,
        "start_time": "2023-04-19T12:19:17.553Z"
      },
      {
        "duration": 5890,
        "start_time": "2023-04-19T12:19:17.561Z"
      },
      {
        "duration": 6439,
        "start_time": "2023-04-19T12:19:23.454Z"
      },
      {
        "duration": 26,
        "start_time": "2023-04-19T12:19:29.895Z"
      },
      {
        "duration": 948,
        "start_time": "2023-04-19T12:19:29.923Z"
      },
      {
        "duration": 10,
        "start_time": "2023-04-19T12:19:30.874Z"
      },
      {
        "duration": 58,
        "start_time": "2023-04-19T12:19:30.887Z"
      },
      {
        "duration": 48,
        "start_time": "2023-04-19T12:19:30.948Z"
      },
      {
        "duration": 34,
        "start_time": "2023-04-19T12:19:30.999Z"
      },
      {
        "duration": 27,
        "start_time": "2023-04-19T12:19:31.036Z"
      },
      {
        "duration": 23,
        "start_time": "2023-04-19T12:19:31.065Z"
      },
      {
        "duration": 44,
        "start_time": "2023-04-19T12:19:31.091Z"
      },
      {
        "duration": 32,
        "start_time": "2023-04-19T12:19:31.137Z"
      },
      {
        "duration": 32,
        "start_time": "2023-04-19T12:19:31.171Z"
      },
      {
        "duration": 25,
        "start_time": "2023-04-19T12:19:31.205Z"
      },
      {
        "duration": 41,
        "start_time": "2023-04-19T12:19:31.231Z"
      },
      {
        "duration": 52,
        "start_time": "2023-04-19T12:19:31.273Z"
      },
      {
        "duration": 24,
        "start_time": "2023-04-19T12:19:31.327Z"
      },
      {
        "duration": 24,
        "start_time": "2023-04-19T12:19:31.353Z"
      },
      {
        "duration": 10,
        "start_time": "2023-04-19T12:19:31.379Z"
      },
      {
        "duration": 129,
        "start_time": "2023-04-19T12:19:31.391Z"
      },
      {
        "duration": 99,
        "start_time": "2023-04-19T12:19:31.522Z"
      },
      {
        "duration": 830,
        "start_time": "2023-04-19T12:19:31.623Z"
      },
      {
        "duration": 4,
        "start_time": "2023-04-19T12:24:04.152Z"
      },
      {
        "duration": 86,
        "start_time": "2023-04-19T12:24:29.332Z"
      },
      {
        "duration": 856,
        "start_time": "2023-04-19T12:29:06.456Z"
      },
      {
        "duration": 1772,
        "start_time": "2023-04-19T12:29:26.779Z"
      },
      {
        "duration": 1625,
        "start_time": "2023-04-19T12:31:14.272Z"
      },
      {
        "duration": 1657,
        "start_time": "2023-04-19T12:31:48.521Z"
      },
      {
        "duration": 1962,
        "start_time": "2023-04-19T12:32:03.516Z"
      },
      {
        "duration": 1637,
        "start_time": "2023-04-19T12:32:19.158Z"
      },
      {
        "duration": 1783,
        "start_time": "2023-04-19T12:33:47.582Z"
      },
      {
        "duration": 1708,
        "start_time": "2023-04-19T12:33:55.957Z"
      },
      {
        "duration": 1759,
        "start_time": "2023-04-19T12:34:05.472Z"
      },
      {
        "duration": 1797,
        "start_time": "2023-04-19T12:37:51.774Z"
      },
      {
        "duration": 1759,
        "start_time": "2023-04-19T12:38:02.297Z"
      },
      {
        "duration": 1667,
        "start_time": "2023-04-19T12:38:11.648Z"
      },
      {
        "duration": 5,
        "start_time": "2023-04-19T13:10:04.329Z"
      },
      {
        "duration": 61,
        "start_time": "2023-04-19T13:10:04.888Z"
      },
      {
        "duration": 4,
        "start_time": "2023-04-19T13:11:56.005Z"
      },
      {
        "duration": 79,
        "start_time": "2023-04-19T13:11:56.840Z"
      },
      {
        "duration": 5,
        "start_time": "2023-04-19T13:13:11.144Z"
      },
      {
        "duration": 66,
        "start_time": "2023-04-19T13:13:11.947Z"
      },
      {
        "duration": 4,
        "start_time": "2023-04-19T13:14:01.535Z"
      },
      {
        "duration": 4,
        "start_time": "2023-04-19T13:14:06.159Z"
      },
      {
        "duration": 65,
        "start_time": "2023-04-19T13:14:06.578Z"
      },
      {
        "duration": 64,
        "start_time": "2023-04-19T13:18:16.041Z"
      },
      {
        "duration": 4,
        "start_time": "2023-04-19T13:26:47.583Z"
      },
      {
        "duration": 110,
        "start_time": "2023-04-19T13:26:48.594Z"
      },
      {
        "duration": 9117,
        "start_time": "2023-04-19T13:29:17.225Z"
      },
      {
        "duration": 8822,
        "start_time": "2023-04-19T13:29:48.891Z"
      },
      {
        "duration": 2750,
        "start_time": "2023-04-19T13:31:37.752Z"
      },
      {
        "duration": 2091,
        "start_time": "2023-04-19T13:31:54.474Z"
      },
      {
        "duration": 563,
        "start_time": "2023-04-19T13:36:00.712Z"
      },
      {
        "duration": 10547,
        "start_time": "2023-04-19T13:37:19.806Z"
      },
      {
        "duration": 12,
        "start_time": "2023-04-19T13:38:53.405Z"
      },
      {
        "duration": 3227,
        "start_time": "2023-04-19T13:44:45.962Z"
      },
      {
        "duration": 8718,
        "start_time": "2023-04-19T13:45:57.547Z"
      },
      {
        "duration": 2742,
        "start_time": "2023-04-19T13:46:06.269Z"
      },
      {
        "duration": 10237,
        "start_time": "2023-04-19T13:46:33.541Z"
      },
      {
        "duration": 861,
        "start_time": "2023-04-19T13:49:04.484Z"
      },
      {
        "duration": 11213,
        "start_time": "2023-04-19T13:49:19.682Z"
      },
      {
        "duration": 9493,
        "start_time": "2023-04-19T13:49:36.891Z"
      },
      {
        "duration": 3573,
        "start_time": "2023-04-19T14:00:46.444Z"
      },
      {
        "duration": 2690,
        "start_time": "2023-04-19T14:02:56.137Z"
      },
      {
        "duration": 11294,
        "start_time": "2023-04-19T14:03:32.326Z"
      },
      {
        "duration": 6,
        "start_time": "2023-04-19T14:04:00.285Z"
      },
      {
        "duration": 13,
        "start_time": "2023-04-19T14:04:05.733Z"
      },
      {
        "duration": 2694,
        "start_time": "2023-04-19T14:04:49.079Z"
      },
      {
        "duration": 55,
        "start_time": "2023-04-19T14:09:15.475Z"
      },
      {
        "duration": 8,
        "start_time": "2023-04-19T14:10:08.931Z"
      },
      {
        "duration": 1334,
        "start_time": "2023-04-19T14:10:08.943Z"
      },
      {
        "duration": 5,
        "start_time": "2023-04-19T14:10:10.279Z"
      },
      {
        "duration": 106,
        "start_time": "2023-04-19T14:10:10.286Z"
      },
      {
        "duration": 5,
        "start_time": "2023-04-19T14:10:10.394Z"
      },
      {
        "duration": 36,
        "start_time": "2023-04-19T14:10:10.401Z"
      },
      {
        "duration": 6,
        "start_time": "2023-04-19T14:10:10.439Z"
      },
      {
        "duration": 11,
        "start_time": "2023-04-19T14:10:10.447Z"
      },
      {
        "duration": 22,
        "start_time": "2023-04-19T14:10:10.463Z"
      },
      {
        "duration": 43,
        "start_time": "2023-04-19T14:10:10.487Z"
      },
      {
        "duration": 11,
        "start_time": "2023-04-19T14:10:10.534Z"
      },
      {
        "duration": 14,
        "start_time": "2023-04-19T14:10:10.547Z"
      },
      {
        "duration": 9,
        "start_time": "2023-04-19T14:10:10.566Z"
      },
      {
        "duration": 45,
        "start_time": "2023-04-19T14:10:10.580Z"
      },
      {
        "duration": 6,
        "start_time": "2023-04-19T14:10:10.628Z"
      },
      {
        "duration": 5624,
        "start_time": "2023-04-19T14:10:10.637Z"
      },
      {
        "duration": 8871,
        "start_time": "2023-04-19T14:10:16.267Z"
      },
      {
        "duration": 2433,
        "start_time": "2023-04-19T14:10:25.140Z"
      },
      {
        "duration": 73,
        "start_time": "2023-04-19T14:10:27.582Z"
      },
      {
        "duration": 10675,
        "start_time": "2023-04-19T14:10:27.657Z"
      },
      {
        "duration": 16,
        "start_time": "2023-04-19T14:10:38.334Z"
      },
      {
        "duration": 31,
        "start_time": "2023-04-19T14:10:38.352Z"
      },
      {
        "duration": 494,
        "start_time": "2023-04-19T14:10:38.386Z"
      },
      {
        "duration": 10,
        "start_time": "2023-04-19T14:10:38.885Z"
      },
      {
        "duration": 18,
        "start_time": "2023-04-19T14:10:38.897Z"
      },
      {
        "duration": 12,
        "start_time": "2023-04-19T14:10:38.921Z"
      },
      {
        "duration": 16,
        "start_time": "2023-04-19T14:10:38.947Z"
      },
      {
        "duration": 18,
        "start_time": "2023-04-19T14:10:38.965Z"
      },
      {
        "duration": 8,
        "start_time": "2023-04-19T14:10:38.988Z"
      },
      {
        "duration": 8,
        "start_time": "2023-04-19T14:10:38.998Z"
      },
      {
        "duration": 18,
        "start_time": "2023-04-19T14:10:39.008Z"
      },
      {
        "duration": 25,
        "start_time": "2023-04-19T14:10:39.033Z"
      },
      {
        "duration": 12,
        "start_time": "2023-04-19T14:10:39.068Z"
      },
      {
        "duration": 15,
        "start_time": "2023-04-19T14:10:39.083Z"
      },
      {
        "duration": 8,
        "start_time": "2023-04-19T14:10:39.101Z"
      },
      {
        "duration": 30,
        "start_time": "2023-04-19T14:10:39.114Z"
      },
      {
        "duration": 22,
        "start_time": "2023-04-19T14:10:39.153Z"
      },
      {
        "duration": 120,
        "start_time": "2023-04-19T14:10:39.178Z"
      },
      {
        "duration": 4605,
        "start_time": "2023-04-19T14:11:59.791Z"
      },
      {
        "duration": 4681,
        "start_time": "2023-04-19T14:12:23.171Z"
      },
      {
        "duration": 31,
        "start_time": "2023-04-19T14:13:47.341Z"
      },
      {
        "duration": 7,
        "start_time": "2023-04-19T14:13:59.490Z"
      },
      {
        "duration": 11,
        "start_time": "2023-04-19T14:14:10.052Z"
      },
      {
        "duration": 30,
        "start_time": "2023-04-19T14:14:36.647Z"
      },
      {
        "duration": 7,
        "start_time": "2023-04-19T14:15:04.030Z"
      },
      {
        "duration": 7,
        "start_time": "2023-04-19T14:15:21.075Z"
      },
      {
        "duration": 6,
        "start_time": "2023-04-19T14:19:06.237Z"
      },
      {
        "duration": 115,
        "start_time": "2023-04-19T14:19:06.645Z"
      },
      {
        "duration": 9,
        "start_time": "2023-04-19T14:21:41.199Z"
      },
      {
        "duration": 189,
        "start_time": "2023-04-19T14:25:18.596Z"
      },
      {
        "duration": 16,
        "start_time": "2023-04-19T14:26:31.968Z"
      },
      {
        "duration": 27,
        "start_time": "2023-04-19T14:26:50.300Z"
      },
      {
        "duration": 1537,
        "start_time": "2023-04-19T16:07:13.683Z"
      },
      {
        "duration": 1192,
        "start_time": "2023-04-19T16:07:15.235Z"
      },
      {
        "duration": 10,
        "start_time": "2023-04-19T16:07:16.429Z"
      },
      {
        "duration": 175,
        "start_time": "2023-04-19T16:07:16.441Z"
      },
      {
        "duration": 20,
        "start_time": "2023-04-19T16:07:16.622Z"
      },
      {
        "duration": 26,
        "start_time": "2023-04-19T16:07:16.647Z"
      },
      {
        "duration": 11,
        "start_time": "2023-04-19T16:07:16.679Z"
      },
      {
        "duration": 10,
        "start_time": "2023-04-19T16:07:16.695Z"
      },
      {
        "duration": 47,
        "start_time": "2023-04-19T16:07:16.707Z"
      },
      {
        "duration": 24,
        "start_time": "2023-04-19T16:07:16.756Z"
      },
      {
        "duration": 11,
        "start_time": "2023-04-19T16:07:16.782Z"
      },
      {
        "duration": 15,
        "start_time": "2023-04-19T16:07:16.795Z"
      },
      {
        "duration": 33,
        "start_time": "2023-04-19T16:07:16.812Z"
      },
      {
        "duration": 31,
        "start_time": "2023-04-19T16:07:16.852Z"
      },
      {
        "duration": 7,
        "start_time": "2023-04-19T16:07:16.885Z"
      },
      {
        "duration": 6463,
        "start_time": "2023-04-19T16:07:16.894Z"
      },
      {
        "duration": 10864,
        "start_time": "2023-04-19T16:07:23.359Z"
      },
      {
        "duration": 2770,
        "start_time": "2023-04-19T16:07:34.228Z"
      },
      {
        "duration": 15,
        "start_time": "2023-04-19T16:07:37.006Z"
      },
      {
        "duration": 30,
        "start_time": "2023-04-19T16:07:37.026Z"
      },
      {
        "duration": 449,
        "start_time": "2023-04-19T16:07:37.062Z"
      },
      {
        "duration": 21,
        "start_time": "2023-04-19T16:07:37.519Z"
      },
      {
        "duration": 15,
        "start_time": "2023-04-19T16:07:37.550Z"
      },
      {
        "duration": 17,
        "start_time": "2023-04-19T16:07:37.580Z"
      },
      {
        "duration": 32,
        "start_time": "2023-04-19T16:07:37.603Z"
      },
      {
        "duration": 53,
        "start_time": "2023-04-19T16:07:37.649Z"
      },
      {
        "duration": 9,
        "start_time": "2023-04-19T16:07:37.708Z"
      },
      {
        "duration": 15,
        "start_time": "2023-04-19T16:07:37.719Z"
      },
      {
        "duration": 28,
        "start_time": "2023-04-19T16:07:37.736Z"
      },
      {
        "duration": 24,
        "start_time": "2023-04-19T16:07:37.771Z"
      },
      {
        "duration": 7,
        "start_time": "2023-04-19T16:07:37.806Z"
      },
      {
        "duration": 33,
        "start_time": "2023-04-19T16:07:37.819Z"
      },
      {
        "duration": 9,
        "start_time": "2023-04-19T16:07:37.861Z"
      },
      {
        "duration": 30,
        "start_time": "2023-04-19T16:07:37.879Z"
      },
      {
        "duration": 486,
        "start_time": "2023-04-19T16:07:37.919Z"
      },
      {
        "duration": 117,
        "start_time": "2023-04-19T16:07:38.407Z"
      },
      {
        "duration": 418,
        "start_time": "2023-04-19T17:36:03.912Z"
      },
      {
        "duration": 381,
        "start_time": "2023-04-19T17:36:27.244Z"
      },
      {
        "duration": 1438,
        "start_time": "2023-04-19T18:15:22.834Z"
      },
      {
        "duration": 1829,
        "start_time": "2023-04-19T18:15:24.274Z"
      },
      {
        "duration": 5,
        "start_time": "2023-04-19T18:15:26.105Z"
      },
      {
        "duration": 115,
        "start_time": "2023-04-19T18:15:26.116Z"
      },
      {
        "duration": 6,
        "start_time": "2023-04-19T18:15:26.234Z"
      },
      {
        "duration": 12,
        "start_time": "2023-04-19T18:15:26.242Z"
      },
      {
        "duration": 5,
        "start_time": "2023-04-19T18:15:26.255Z"
      },
      {
        "duration": 9,
        "start_time": "2023-04-19T18:15:26.261Z"
      },
      {
        "duration": 45,
        "start_time": "2023-04-19T18:15:26.273Z"
      },
      {
        "duration": 27,
        "start_time": "2023-04-19T18:15:26.320Z"
      },
      {
        "duration": 7,
        "start_time": "2023-04-19T18:15:26.349Z"
      },
      {
        "duration": 15,
        "start_time": "2023-04-19T18:15:26.357Z"
      },
      {
        "duration": 7,
        "start_time": "2023-04-19T18:15:26.374Z"
      },
      {
        "duration": 46,
        "start_time": "2023-04-19T18:15:26.384Z"
      },
      {
        "duration": 8,
        "start_time": "2023-04-19T18:15:26.432Z"
      },
      {
        "duration": 4373,
        "start_time": "2023-04-19T18:15:26.442Z"
      },
      {
        "duration": 7010,
        "start_time": "2023-04-19T18:15:30.824Z"
      },
      {
        "duration": 1983,
        "start_time": "2023-04-19T18:15:37.838Z"
      },
      {
        "duration": 14,
        "start_time": "2023-04-19T18:15:39.823Z"
      },
      {
        "duration": 34,
        "start_time": "2023-04-19T18:15:39.839Z"
      },
      {
        "duration": 443,
        "start_time": "2023-04-19T18:15:39.875Z"
      },
      {
        "duration": 10,
        "start_time": "2023-04-19T18:15:40.320Z"
      },
      {
        "duration": 9,
        "start_time": "2023-04-19T18:15:40.332Z"
      },
      {
        "duration": 11,
        "start_time": "2023-04-19T18:15:40.344Z"
      },
      {
        "duration": 6,
        "start_time": "2023-04-19T18:15:40.357Z"
      },
      {
        "duration": 13,
        "start_time": "2023-04-19T18:15:40.365Z"
      },
      {
        "duration": 35,
        "start_time": "2023-04-19T18:15:40.380Z"
      },
      {
        "duration": 7,
        "start_time": "2023-04-19T18:15:40.421Z"
      },
      {
        "duration": 7,
        "start_time": "2023-04-19T18:15:40.438Z"
      },
      {
        "duration": 32,
        "start_time": "2023-04-19T18:15:40.448Z"
      },
      {
        "duration": 7,
        "start_time": "2023-04-19T18:15:40.482Z"
      },
      {
        "duration": 4,
        "start_time": "2023-04-19T18:15:40.492Z"
      },
      {
        "duration": 4,
        "start_time": "2023-04-19T18:15:40.498Z"
      },
      {
        "duration": 24,
        "start_time": "2023-04-19T18:15:40.505Z"
      },
      {
        "duration": 508,
        "start_time": "2023-04-19T18:15:40.530Z"
      },
      {
        "duration": 84,
        "start_time": "2023-04-19T18:15:41.040Z"
      },
      {
        "duration": 1414,
        "start_time": "2023-04-19T18:28:10.484Z"
      },
      {
        "duration": 973,
        "start_time": "2023-04-19T18:28:11.900Z"
      },
      {
        "duration": 5,
        "start_time": "2023-04-19T18:28:12.875Z"
      },
      {
        "duration": 119,
        "start_time": "2023-04-19T18:28:12.881Z"
      },
      {
        "duration": 5,
        "start_time": "2023-04-19T18:28:13.004Z"
      },
      {
        "duration": 25,
        "start_time": "2023-04-19T18:28:13.013Z"
      },
      {
        "duration": 5,
        "start_time": "2023-04-19T18:28:13.043Z"
      },
      {
        "duration": 16,
        "start_time": "2023-04-19T18:28:13.050Z"
      },
      {
        "duration": 20,
        "start_time": "2023-04-19T18:28:13.068Z"
      },
      {
        "duration": 6,
        "start_time": "2023-04-19T18:28:13.090Z"
      },
      {
        "duration": 19,
        "start_time": "2023-04-19T18:28:13.099Z"
      },
      {
        "duration": 10,
        "start_time": "2023-04-19T18:28:13.120Z"
      },
      {
        "duration": 36,
        "start_time": "2023-04-19T18:28:13.134Z"
      },
      {
        "duration": 9,
        "start_time": "2023-04-19T18:28:13.173Z"
      },
      {
        "duration": 19,
        "start_time": "2023-04-19T18:28:13.184Z"
      },
      {
        "duration": 46,
        "start_time": "2023-04-19T18:28:13.205Z"
      },
      {
        "duration": 4627,
        "start_time": "2023-04-19T18:28:13.253Z"
      },
      {
        "duration": 8394,
        "start_time": "2023-04-19T18:28:17.882Z"
      },
      {
        "duration": 2250,
        "start_time": "2023-04-19T18:28:26.278Z"
      },
      {
        "duration": 14,
        "start_time": "2023-04-19T18:28:28.531Z"
      },
      {
        "duration": 21,
        "start_time": "2023-04-19T18:28:28.548Z"
      },
      {
        "duration": 456,
        "start_time": "2023-04-19T18:28:28.572Z"
      },
      {
        "duration": 13,
        "start_time": "2023-04-19T18:28:29.030Z"
      },
      {
        "duration": 6,
        "start_time": "2023-04-19T18:28:29.048Z"
      },
      {
        "duration": 9,
        "start_time": "2023-04-19T18:28:29.056Z"
      },
      {
        "duration": 3,
        "start_time": "2023-04-19T18:28:29.067Z"
      },
      {
        "duration": 24,
        "start_time": "2023-04-19T18:28:29.072Z"
      },
      {
        "duration": 18,
        "start_time": "2023-04-19T18:28:29.098Z"
      },
      {
        "duration": 5,
        "start_time": "2023-04-19T18:28:29.119Z"
      },
      {
        "duration": 8,
        "start_time": "2023-04-19T18:28:29.126Z"
      },
      {
        "duration": 20,
        "start_time": "2023-04-19T18:28:29.140Z"
      },
      {
        "duration": 7,
        "start_time": "2023-04-19T18:28:29.163Z"
      },
      {
        "duration": 6,
        "start_time": "2023-04-19T18:28:29.172Z"
      },
      {
        "duration": 33,
        "start_time": "2023-04-19T18:28:29.179Z"
      },
      {
        "duration": 16,
        "start_time": "2023-04-19T18:28:29.213Z"
      },
      {
        "duration": 591,
        "start_time": "2023-04-19T18:28:29.231Z"
      },
      {
        "duration": 109,
        "start_time": "2023-04-19T18:28:29.829Z"
      },
      {
        "duration": 1367,
        "start_time": "2023-04-19T18:43:30.092Z"
      },
      {
        "duration": 1095,
        "start_time": "2023-04-19T18:43:31.462Z"
      },
      {
        "duration": 4,
        "start_time": "2023-04-19T18:43:32.559Z"
      },
      {
        "duration": 99,
        "start_time": "2023-04-19T18:43:32.566Z"
      },
      {
        "duration": 6,
        "start_time": "2023-04-19T18:43:32.667Z"
      },
      {
        "duration": 31,
        "start_time": "2023-04-19T18:43:32.675Z"
      },
      {
        "duration": 14,
        "start_time": "2023-04-19T18:43:32.708Z"
      },
      {
        "duration": 17,
        "start_time": "2023-04-19T18:43:32.724Z"
      },
      {
        "duration": 34,
        "start_time": "2023-04-19T18:43:32.744Z"
      },
      {
        "duration": 6,
        "start_time": "2023-04-19T18:43:32.781Z"
      },
      {
        "duration": 10,
        "start_time": "2023-04-19T18:43:32.789Z"
      },
      {
        "duration": 4,
        "start_time": "2023-04-19T18:43:32.801Z"
      },
      {
        "duration": 43,
        "start_time": "2023-04-19T18:43:32.807Z"
      },
      {
        "duration": 5,
        "start_time": "2023-04-19T18:43:32.852Z"
      },
      {
        "duration": 29,
        "start_time": "2023-04-19T18:43:32.859Z"
      },
      {
        "duration": 51,
        "start_time": "2023-04-19T18:43:32.890Z"
      },
      {
        "duration": 4434,
        "start_time": "2023-04-19T18:43:32.942Z"
      },
      {
        "duration": 7152,
        "start_time": "2023-04-19T18:43:37.379Z"
      },
      {
        "duration": 1939,
        "start_time": "2023-04-19T18:43:44.534Z"
      },
      {
        "duration": 9,
        "start_time": "2023-04-19T18:43:46.475Z"
      },
      {
        "duration": 43,
        "start_time": "2023-04-19T18:43:46.486Z"
      },
      {
        "duration": 367,
        "start_time": "2023-04-19T18:43:46.531Z"
      },
      {
        "duration": 20,
        "start_time": "2023-04-19T18:43:46.900Z"
      },
      {
        "duration": 12,
        "start_time": "2023-04-19T18:43:46.927Z"
      },
      {
        "duration": 5,
        "start_time": "2023-04-19T18:43:46.941Z"
      },
      {
        "duration": 5,
        "start_time": "2023-04-19T18:43:46.948Z"
      },
      {
        "duration": 13,
        "start_time": "2023-04-19T18:43:46.955Z"
      },
      {
        "duration": 8,
        "start_time": "2023-04-19T18:43:46.973Z"
      },
      {
        "duration": 4,
        "start_time": "2023-04-19T18:43:46.982Z"
      },
      {
        "duration": 35,
        "start_time": "2023-04-19T18:43:46.988Z"
      },
      {
        "duration": 14,
        "start_time": "2023-04-19T18:43:47.026Z"
      },
      {
        "duration": 7,
        "start_time": "2023-04-19T18:43:47.042Z"
      },
      {
        "duration": 4,
        "start_time": "2023-04-19T18:43:47.051Z"
      },
      {
        "duration": 5,
        "start_time": "2023-04-19T18:43:47.057Z"
      },
      {
        "duration": 13,
        "start_time": "2023-04-19T18:43:47.064Z"
      },
      {
        "duration": 8,
        "start_time": "2023-04-19T18:43:47.113Z"
      },
      {
        "duration": 579,
        "start_time": "2023-04-19T18:43:47.124Z"
      },
      {
        "duration": 2111,
        "start_time": "2023-04-20T14:35:00.773Z"
      },
      {
        "duration": 1129,
        "start_time": "2023-04-20T14:35:02.888Z"
      },
      {
        "duration": 7,
        "start_time": "2023-04-20T14:35:04.019Z"
      },
      {
        "duration": 429,
        "start_time": "2023-04-20T14:35:04.029Z"
      },
      {
        "duration": 16,
        "start_time": "2023-04-20T14:35:04.466Z"
      },
      {
        "duration": 62,
        "start_time": "2023-04-20T14:35:04.489Z"
      },
      {
        "duration": 54,
        "start_time": "2023-04-20T14:35:04.561Z"
      },
      {
        "duration": 49,
        "start_time": "2023-04-20T14:35:04.620Z"
      },
      {
        "duration": 132,
        "start_time": "2023-04-20T14:35:04.677Z"
      },
      {
        "duration": 107,
        "start_time": "2023-04-20T14:35:04.817Z"
      },
      {
        "duration": 51,
        "start_time": "2023-04-20T14:35:04.927Z"
      },
      {
        "duration": 22,
        "start_time": "2023-04-20T14:35:04.988Z"
      },
      {
        "duration": 106,
        "start_time": "2023-04-20T14:35:05.018Z"
      },
      {
        "duration": 11,
        "start_time": "2023-04-20T14:35:05.126Z"
      },
      {
        "duration": 65,
        "start_time": "2023-04-20T14:35:05.143Z"
      },
      {
        "duration": 33,
        "start_time": "2023-04-20T14:35:05.213Z"
      },
      {
        "duration": 6592,
        "start_time": "2023-04-20T14:35:05.255Z"
      },
      {
        "duration": 10757,
        "start_time": "2023-04-20T14:35:11.850Z"
      },
      {
        "duration": 3139,
        "start_time": "2023-04-20T14:35:22.614Z"
      },
      {
        "duration": 20,
        "start_time": "2023-04-20T14:35:25.760Z"
      },
      {
        "duration": 133,
        "start_time": "2023-04-20T14:35:25.788Z"
      },
      {
        "duration": 140,
        "start_time": "2023-04-20T14:35:25.927Z"
      },
      {
        "duration": 82,
        "start_time": "2023-04-20T14:35:32.962Z"
      },
      {
        "duration": 43,
        "start_time": "2023-04-20T14:35:48.010Z"
      },
      {
        "duration": 579,
        "start_time": "2023-04-20T14:36:06.813Z"
      },
      {
        "duration": 777,
        "start_time": "2023-04-20T14:36:16.629Z"
      },
      {
        "duration": 1676,
        "start_time": "2023-04-20T14:36:35.777Z"
      },
      {
        "duration": 717,
        "start_time": "2023-04-20T14:36:51.155Z"
      },
      {
        "duration": 667,
        "start_time": "2023-04-20T14:37:21.241Z"
      },
      {
        "duration": 1672,
        "start_time": "2023-04-20T14:48:17.733Z"
      },
      {
        "duration": 3495,
        "start_time": "2023-04-20T14:48:19.407Z"
      },
      {
        "duration": 5,
        "start_time": "2023-04-20T14:48:22.905Z"
      },
      {
        "duration": 189,
        "start_time": "2023-04-20T14:48:22.913Z"
      },
      {
        "duration": 7,
        "start_time": "2023-04-20T14:48:23.104Z"
      },
      {
        "duration": 99,
        "start_time": "2023-04-20T14:48:23.114Z"
      },
      {
        "duration": 20,
        "start_time": "2023-04-20T14:48:23.215Z"
      },
      {
        "duration": 61,
        "start_time": "2023-04-20T14:48:23.240Z"
      },
      {
        "duration": 39,
        "start_time": "2023-04-20T14:48:23.304Z"
      },
      {
        "duration": 55,
        "start_time": "2023-04-20T14:48:23.346Z"
      },
      {
        "duration": 21,
        "start_time": "2023-04-20T14:48:23.403Z"
      },
      {
        "duration": 10,
        "start_time": "2023-04-20T14:48:23.426Z"
      },
      {
        "duration": 105,
        "start_time": "2023-04-20T14:48:23.437Z"
      },
      {
        "duration": 28,
        "start_time": "2023-04-20T14:48:23.547Z"
      },
      {
        "duration": 46,
        "start_time": "2023-04-20T14:48:23.580Z"
      },
      {
        "duration": 29,
        "start_time": "2023-04-20T14:48:23.631Z"
      },
      {
        "duration": 5711,
        "start_time": "2023-04-20T14:48:23.663Z"
      },
      {
        "duration": 10434,
        "start_time": "2023-04-20T14:48:29.376Z"
      },
      {
        "duration": 2832,
        "start_time": "2023-04-20T14:48:39.815Z"
      },
      {
        "duration": 28,
        "start_time": "2023-04-20T14:48:42.653Z"
      },
      {
        "duration": 76,
        "start_time": "2023-04-20T14:48:42.689Z"
      },
      {
        "duration": 58,
        "start_time": "2023-04-20T14:48:42.767Z"
      },
      {
        "duration": 581,
        "start_time": "2023-04-20T14:48:42.828Z"
      },
      {
        "duration": 14,
        "start_time": "2023-04-20T14:48:43.412Z"
      },
      {
        "duration": 4,
        "start_time": "2023-04-20T14:48:43.430Z"
      },
      {
        "duration": 62,
        "start_time": "2023-04-20T14:48:43.436Z"
      },
      {
        "duration": 5,
        "start_time": "2023-04-20T14:48:43.501Z"
      },
      {
        "duration": 65,
        "start_time": "2023-04-20T14:48:43.514Z"
      },
      {
        "duration": 25,
        "start_time": "2023-04-20T14:48:43.583Z"
      },
      {
        "duration": 16,
        "start_time": "2023-04-20T14:48:43.610Z"
      },
      {
        "duration": 45,
        "start_time": "2023-04-20T14:48:43.628Z"
      },
      {
        "duration": 47,
        "start_time": "2023-04-20T14:48:43.675Z"
      },
      {
        "duration": 68,
        "start_time": "2023-04-20T14:48:43.723Z"
      },
      {
        "duration": 5,
        "start_time": "2023-04-20T14:48:43.794Z"
      },
      {
        "duration": 15,
        "start_time": "2023-04-20T14:48:43.803Z"
      },
      {
        "duration": 21,
        "start_time": "2023-04-20T14:48:43.821Z"
      },
      {
        "duration": 64,
        "start_time": "2023-04-20T14:48:43.844Z"
      },
      {
        "duration": 945,
        "start_time": "2023-04-20T14:48:43.910Z"
      },
      {
        "duration": 6,
        "start_time": "2023-04-20T14:48:54.911Z"
      },
      {
        "duration": 120,
        "start_time": "2023-04-20T14:49:23.302Z"
      },
      {
        "duration": 30,
        "start_time": "2023-04-20T14:49:29.105Z"
      },
      {
        "duration": 39,
        "start_time": "2023-04-20T14:49:37.009Z"
      },
      {
        "duration": 11,
        "start_time": "2023-04-20T14:49:47.029Z"
      },
      {
        "duration": 39,
        "start_time": "2023-04-20T14:49:50.106Z"
      },
      {
        "duration": 27,
        "start_time": "2023-04-20T14:49:57.911Z"
      },
      {
        "duration": 11,
        "start_time": "2023-04-20T14:50:19.268Z"
      },
      {
        "duration": 1405,
        "start_time": "2023-04-20T16:17:58.091Z"
      },
      {
        "duration": 1003,
        "start_time": "2023-04-20T16:18:03.135Z"
      },
      {
        "duration": 4,
        "start_time": "2023-04-20T16:18:06.485Z"
      },
      {
        "duration": 69,
        "start_time": "2023-04-20T16:18:07.007Z"
      },
      {
        "duration": 5,
        "start_time": "2023-04-20T16:18:10.819Z"
      },
      {
        "duration": 10,
        "start_time": "2023-04-20T16:18:13.886Z"
      },
      {
        "duration": 4,
        "start_time": "2023-04-20T16:21:12.519Z"
      },
      {
        "duration": 111,
        "start_time": "2023-04-20T16:32:09.314Z"
      },
      {
        "duration": 4,
        "start_time": "2023-04-20T16:32:17.085Z"
      },
      {
        "duration": 437,
        "start_time": "2023-04-20T16:32:27.785Z"
      },
      {
        "duration": 441,
        "start_time": "2023-04-20T16:34:57.589Z"
      },
      {
        "duration": 4,
        "start_time": "2023-04-20T16:35:13.916Z"
      },
      {
        "duration": 1157,
        "start_time": "2023-04-20T16:35:13.922Z"
      },
      {
        "duration": 3,
        "start_time": "2023-04-20T16:35:15.081Z"
      },
      {
        "duration": 71,
        "start_time": "2023-04-20T16:35:15.086Z"
      },
      {
        "duration": 4,
        "start_time": "2023-04-20T16:35:15.159Z"
      },
      {
        "duration": 29,
        "start_time": "2023-04-20T16:35:15.164Z"
      },
      {
        "duration": 12,
        "start_time": "2023-04-20T16:35:15.195Z"
      },
      {
        "duration": 14,
        "start_time": "2023-04-20T16:35:15.208Z"
      },
      {
        "duration": 18,
        "start_time": "2023-04-20T16:35:15.224Z"
      },
      {
        "duration": 6,
        "start_time": "2023-04-20T16:35:15.243Z"
      },
      {
        "duration": 30,
        "start_time": "2023-04-20T16:35:15.250Z"
      },
      {
        "duration": 10,
        "start_time": "2023-04-20T16:35:15.281Z"
      },
      {
        "duration": 30,
        "start_time": "2023-04-20T16:35:15.293Z"
      },
      {
        "duration": 4,
        "start_time": "2023-04-20T16:35:15.325Z"
      },
      {
        "duration": 32,
        "start_time": "2023-04-20T16:35:15.330Z"
      },
      {
        "duration": 10,
        "start_time": "2023-04-20T16:35:15.364Z"
      },
      {
        "duration": 3784,
        "start_time": "2023-04-20T16:35:15.376Z"
      },
      {
        "duration": 5100,
        "start_time": "2023-04-20T16:35:19.163Z"
      },
      {
        "duration": 1990,
        "start_time": "2023-04-20T16:35:24.264Z"
      },
      {
        "duration": 8,
        "start_time": "2023-04-20T16:35:26.256Z"
      },
      {
        "duration": 14,
        "start_time": "2023-04-20T16:35:26.266Z"
      },
      {
        "duration": 19,
        "start_time": "2023-04-20T16:35:26.282Z"
      },
      {
        "duration": 380,
        "start_time": "2023-04-20T16:35:26.303Z"
      },
      {
        "duration": 7,
        "start_time": "2023-04-20T16:35:26.687Z"
      },
      {
        "duration": 24,
        "start_time": "2023-04-20T16:35:26.696Z"
      },
      {
        "duration": 19,
        "start_time": "2023-04-20T16:35:26.722Z"
      },
      {
        "duration": 28,
        "start_time": "2023-04-20T16:35:26.743Z"
      },
      {
        "duration": 33,
        "start_time": "2023-04-20T16:35:26.772Z"
      },
      {
        "duration": 12,
        "start_time": "2023-04-20T16:35:26.807Z"
      },
      {
        "duration": 26,
        "start_time": "2023-04-20T16:35:26.821Z"
      },
      {
        "duration": 19,
        "start_time": "2023-04-20T16:35:26.849Z"
      },
      {
        "duration": 24,
        "start_time": "2023-04-20T16:35:26.870Z"
      },
      {
        "duration": 17,
        "start_time": "2023-04-20T16:35:26.896Z"
      },
      {
        "duration": 34,
        "start_time": "2023-04-20T16:35:26.915Z"
      },
      {
        "duration": 24,
        "start_time": "2023-04-20T16:35:26.950Z"
      },
      {
        "duration": 24,
        "start_time": "2023-04-20T16:35:26.976Z"
      },
      {
        "duration": 14,
        "start_time": "2023-04-20T16:35:27.001Z"
      },
      {
        "duration": 76,
        "start_time": "2023-04-20T16:35:27.016Z"
      },
      {
        "duration": 7,
        "start_time": "2023-04-20T16:37:54.993Z"
      },
      {
        "duration": 876,
        "start_time": "2023-04-20T16:37:55.018Z"
      },
      {
        "duration": 3,
        "start_time": "2023-04-20T16:37:55.896Z"
      },
      {
        "duration": 67,
        "start_time": "2023-04-20T16:37:55.901Z"
      },
      {
        "duration": 4,
        "start_time": "2023-04-20T16:37:55.970Z"
      },
      {
        "duration": 10,
        "start_time": "2023-04-20T16:37:55.976Z"
      },
      {
        "duration": 4,
        "start_time": "2023-04-20T16:37:55.988Z"
      },
      {
        "duration": 6,
        "start_time": "2023-04-20T16:37:55.993Z"
      },
      {
        "duration": 15,
        "start_time": "2023-04-20T16:37:56.000Z"
      },
      {
        "duration": 33,
        "start_time": "2023-04-20T16:37:56.017Z"
      },
      {
        "duration": 6,
        "start_time": "2023-04-20T16:37:56.051Z"
      },
      {
        "duration": 6,
        "start_time": "2023-04-20T16:37:56.059Z"
      },
      {
        "duration": 24,
        "start_time": "2023-04-20T16:37:56.067Z"
      },
      {
        "duration": 5,
        "start_time": "2023-04-20T16:37:56.092Z"
      },
      {
        "duration": 18,
        "start_time": "2023-04-20T16:37:56.100Z"
      },
      {
        "duration": 31,
        "start_time": "2023-04-20T16:37:56.119Z"
      },
      {
        "duration": 3764,
        "start_time": "2023-04-20T16:37:56.152Z"
      },
      {
        "duration": 480,
        "start_time": "2023-04-20T16:37:59.918Z"
      },
      {
        "duration": 0,
        "start_time": "2023-04-20T16:38:00.400Z"
      },
      {
        "duration": 0,
        "start_time": "2023-04-20T16:38:00.401Z"
      },
      {
        "duration": 0,
        "start_time": "2023-04-20T16:38:00.402Z"
      },
      {
        "duration": 0,
        "start_time": "2023-04-20T16:38:00.402Z"
      },
      {
        "duration": 0,
        "start_time": "2023-04-20T16:38:00.403Z"
      },
      {
        "duration": 0,
        "start_time": "2023-04-20T16:38:00.404Z"
      },
      {
        "duration": 0,
        "start_time": "2023-04-20T16:38:00.405Z"
      },
      {
        "duration": 0,
        "start_time": "2023-04-20T16:38:00.406Z"
      },
      {
        "duration": 0,
        "start_time": "2023-04-20T16:38:00.407Z"
      },
      {
        "duration": 0,
        "start_time": "2023-04-20T16:38:00.407Z"
      },
      {
        "duration": 0,
        "start_time": "2023-04-20T16:38:00.408Z"
      },
      {
        "duration": 0,
        "start_time": "2023-04-20T16:38:00.409Z"
      },
      {
        "duration": 0,
        "start_time": "2023-04-20T16:38:00.410Z"
      },
      {
        "duration": 1,
        "start_time": "2023-04-20T16:38:00.410Z"
      },
      {
        "duration": 0,
        "start_time": "2023-04-20T16:38:00.411Z"
      },
      {
        "duration": 0,
        "start_time": "2023-04-20T16:38:00.412Z"
      },
      {
        "duration": 0,
        "start_time": "2023-04-20T16:38:00.413Z"
      },
      {
        "duration": 0,
        "start_time": "2023-04-20T16:38:00.414Z"
      },
      {
        "duration": 0,
        "start_time": "2023-04-20T16:38:00.415Z"
      },
      {
        "duration": 0,
        "start_time": "2023-04-20T16:38:00.415Z"
      },
      {
        "duration": 15,
        "start_time": "2023-04-20T16:38:30.593Z"
      },
      {
        "duration": 9,
        "start_time": "2023-04-20T16:42:50.397Z"
      },
      {
        "duration": 4,
        "start_time": "2023-04-20T16:43:04.785Z"
      },
      {
        "duration": 1341,
        "start_time": "2023-04-20T16:43:04.791Z"
      },
      {
        "duration": 3,
        "start_time": "2023-04-20T16:43:06.134Z"
      },
      {
        "duration": 174,
        "start_time": "2023-04-20T16:43:06.139Z"
      },
      {
        "duration": 5,
        "start_time": "2023-04-20T16:43:06.315Z"
      },
      {
        "duration": 29,
        "start_time": "2023-04-20T16:43:06.321Z"
      },
      {
        "duration": 12,
        "start_time": "2023-04-20T16:43:06.351Z"
      },
      {
        "duration": 18,
        "start_time": "2023-04-20T16:43:06.365Z"
      },
      {
        "duration": 0,
        "start_time": "2023-04-20T16:43:06.384Z"
      },
      {
        "duration": 14,
        "start_time": "2023-04-20T16:43:13.827Z"
      },
      {
        "duration": 9,
        "start_time": "2023-04-20T16:43:38.335Z"
      },
      {
        "duration": 38,
        "start_time": "2023-04-20T16:43:59.096Z"
      },
      {
        "duration": 21,
        "start_time": "2023-04-20T16:53:39.605Z"
      },
      {
        "duration": 20,
        "start_time": "2023-04-20T16:54:43.894Z"
      },
      {
        "duration": 39,
        "start_time": "2023-04-20T16:54:54.749Z"
      },
      {
        "duration": 17,
        "start_time": "2023-04-20T16:57:42.028Z"
      },
      {
        "duration": 4,
        "start_time": "2023-04-20T16:57:47.498Z"
      },
      {
        "duration": 12,
        "start_time": "2023-04-20T16:57:57.534Z"
      },
      {
        "duration": 11,
        "start_time": "2023-04-20T16:58:02.610Z"
      },
      {
        "duration": 3506,
        "start_time": "2023-04-20T16:58:38.855Z"
      },
      {
        "duration": 5261,
        "start_time": "2023-04-20T17:00:55.181Z"
      },
      {
        "duration": 1187,
        "start_time": "2023-04-20T17:02:08.541Z"
      },
      {
        "duration": 893,
        "start_time": "2023-04-20T17:02:09.730Z"
      },
      {
        "duration": 3,
        "start_time": "2023-04-20T17:02:10.625Z"
      },
      {
        "duration": 70,
        "start_time": "2023-04-20T17:02:10.629Z"
      },
      {
        "duration": 4,
        "start_time": "2023-04-20T17:02:10.701Z"
      },
      {
        "duration": 12,
        "start_time": "2023-04-20T17:02:10.707Z"
      },
      {
        "duration": 9,
        "start_time": "2023-04-20T17:02:10.720Z"
      },
      {
        "duration": 26,
        "start_time": "2023-04-20T17:02:10.730Z"
      },
      {
        "duration": 35,
        "start_time": "2023-04-20T17:02:10.757Z"
      },
      {
        "duration": 8,
        "start_time": "2023-04-20T17:02:10.793Z"
      },
      {
        "duration": 13,
        "start_time": "2023-04-20T17:02:10.802Z"
      },
      {
        "duration": 8,
        "start_time": "2023-04-20T17:02:10.816Z"
      },
      {
        "duration": 39,
        "start_time": "2023-04-20T17:02:10.826Z"
      },
      {
        "duration": 5,
        "start_time": "2023-04-20T17:02:10.868Z"
      },
      {
        "duration": 22,
        "start_time": "2023-04-20T17:02:10.874Z"
      },
      {
        "duration": 11,
        "start_time": "2023-04-20T17:02:10.897Z"
      },
      {
        "duration": 3623,
        "start_time": "2023-04-20T17:02:10.910Z"
      },
      {
        "duration": 1190,
        "start_time": "2023-04-20T17:03:49.498Z"
      },
      {
        "duration": 1392,
        "start_time": "2023-04-20T17:03:50.690Z"
      },
      {
        "duration": 4,
        "start_time": "2023-04-20T17:03:52.083Z"
      },
      {
        "duration": 68,
        "start_time": "2023-04-20T17:03:52.088Z"
      },
      {
        "duration": 4,
        "start_time": "2023-04-20T17:03:52.158Z"
      },
      {
        "duration": 11,
        "start_time": "2023-04-20T17:03:52.164Z"
      },
      {
        "duration": 9,
        "start_time": "2023-04-20T17:03:52.177Z"
      },
      {
        "duration": 37,
        "start_time": "2023-04-20T17:03:52.187Z"
      },
      {
        "duration": 52,
        "start_time": "2023-04-20T17:03:52.225Z"
      },
      {
        "duration": 8,
        "start_time": "2023-04-20T17:03:52.278Z"
      },
      {
        "duration": 12,
        "start_time": "2023-04-20T17:03:52.288Z"
      },
      {
        "duration": 8,
        "start_time": "2023-04-20T17:03:52.301Z"
      },
      {
        "duration": 21,
        "start_time": "2023-04-20T17:03:52.310Z"
      },
      {
        "duration": 23,
        "start_time": "2023-04-20T17:03:52.334Z"
      },
      {
        "duration": 16,
        "start_time": "2023-04-20T17:03:52.359Z"
      },
      {
        "duration": 33,
        "start_time": "2023-04-20T17:03:52.377Z"
      },
      {
        "duration": 3776,
        "start_time": "2023-04-20T17:03:52.412Z"
      },
      {
        "duration": 1151,
        "start_time": "2023-04-20T17:04:38.039Z"
      },
      {
        "duration": 1172,
        "start_time": "2023-04-20T17:04:39.192Z"
      },
      {
        "duration": 4,
        "start_time": "2023-04-20T17:04:40.365Z"
      },
      {
        "duration": 83,
        "start_time": "2023-04-20T17:04:40.371Z"
      },
      {
        "duration": 4,
        "start_time": "2023-04-20T17:04:40.457Z"
      },
      {
        "duration": 11,
        "start_time": "2023-04-20T17:04:40.462Z"
      },
      {
        "duration": 5,
        "start_time": "2023-04-20T17:04:40.474Z"
      },
      {
        "duration": 14,
        "start_time": "2023-04-20T17:04:40.480Z"
      },
      {
        "duration": 56,
        "start_time": "2023-04-20T17:04:40.495Z"
      },
      {
        "duration": 7,
        "start_time": "2023-04-20T17:04:40.553Z"
      },
      {
        "duration": 4,
        "start_time": "2023-04-20T17:04:40.561Z"
      },
      {
        "duration": 6,
        "start_time": "2023-04-20T17:04:40.567Z"
      },
      {
        "duration": 20,
        "start_time": "2023-04-20T17:04:40.574Z"
      },
      {
        "duration": 4,
        "start_time": "2023-04-20T17:04:40.597Z"
      },
      {
        "duration": 12,
        "start_time": "2023-04-20T17:04:40.602Z"
      },
      {
        "duration": 41,
        "start_time": "2023-04-20T17:04:40.616Z"
      },
      {
        "duration": 3674,
        "start_time": "2023-04-20T17:04:40.658Z"
      },
      {
        "duration": 1162,
        "start_time": "2023-04-20T17:05:39.708Z"
      },
      {
        "duration": 3823,
        "start_time": "2023-04-20T17:05:40.872Z"
      },
      {
        "duration": 4,
        "start_time": "2023-04-20T17:05:44.696Z"
      },
      {
        "duration": 68,
        "start_time": "2023-04-20T17:05:44.702Z"
      },
      {
        "duration": 4,
        "start_time": "2023-04-20T17:05:44.772Z"
      },
      {
        "duration": 12,
        "start_time": "2023-04-20T17:05:44.777Z"
      },
      {
        "duration": 4,
        "start_time": "2023-04-20T17:05:44.790Z"
      },
      {
        "duration": 13,
        "start_time": "2023-04-20T17:05:44.795Z"
      },
      {
        "duration": 57,
        "start_time": "2023-04-20T17:05:44.809Z"
      },
      {
        "duration": 7,
        "start_time": "2023-04-20T17:05:44.868Z"
      },
      {
        "duration": 7,
        "start_time": "2023-04-20T17:05:44.877Z"
      },
      {
        "duration": 6,
        "start_time": "2023-04-20T17:05:44.886Z"
      },
      {
        "duration": 18,
        "start_time": "2023-04-20T17:05:44.893Z"
      },
      {
        "duration": 4,
        "start_time": "2023-04-20T17:05:44.913Z"
      },
      {
        "duration": 37,
        "start_time": "2023-04-20T17:05:44.919Z"
      },
      {
        "duration": 13,
        "start_time": "2023-04-20T17:05:44.958Z"
      },
      {
        "duration": 3631,
        "start_time": "2023-04-20T17:05:44.973Z"
      },
      {
        "duration": 1243,
        "start_time": "2023-04-20T17:11:04.650Z"
      },
      {
        "duration": 908,
        "start_time": "2023-04-20T17:11:05.895Z"
      },
      {
        "duration": 4,
        "start_time": "2023-04-20T17:11:06.805Z"
      },
      {
        "duration": 72,
        "start_time": "2023-04-20T17:11:06.810Z"
      },
      {
        "duration": 5,
        "start_time": "2023-04-20T17:11:06.884Z"
      },
      {
        "duration": 23,
        "start_time": "2023-04-20T17:11:06.890Z"
      },
      {
        "duration": 4,
        "start_time": "2023-04-20T17:11:06.915Z"
      },
      {
        "duration": 29,
        "start_time": "2023-04-20T17:11:06.920Z"
      },
      {
        "duration": 36,
        "start_time": "2023-04-20T17:11:06.951Z"
      },
      {
        "duration": 8,
        "start_time": "2023-04-20T17:11:06.988Z"
      },
      {
        "duration": 6,
        "start_time": "2023-04-20T17:11:06.997Z"
      },
      {
        "duration": 20,
        "start_time": "2023-04-20T17:11:07.004Z"
      },
      {
        "duration": 36,
        "start_time": "2023-04-20T17:11:07.025Z"
      },
      {
        "duration": 4,
        "start_time": "2023-04-20T17:11:07.064Z"
      },
      {
        "duration": 15,
        "start_time": "2023-04-20T17:11:07.070Z"
      },
      {
        "duration": 13,
        "start_time": "2023-04-20T17:11:07.086Z"
      },
      {
        "duration": 3643,
        "start_time": "2023-04-20T17:11:07.101Z"
      },
      {
        "duration": 1175,
        "start_time": "2023-04-20T17:12:59.119Z"
      },
      {
        "duration": 996,
        "start_time": "2023-04-20T17:13:00.296Z"
      },
      {
        "duration": 4,
        "start_time": "2023-04-20T17:13:01.293Z"
      },
      {
        "duration": 99,
        "start_time": "2023-04-20T17:13:01.298Z"
      },
      {
        "duration": 8,
        "start_time": "2023-04-20T17:13:01.399Z"
      },
      {
        "duration": 141,
        "start_time": "2023-04-20T17:13:01.408Z"
      },
      {
        "duration": 57,
        "start_time": "2023-04-20T17:13:01.551Z"
      },
      {
        "duration": 49,
        "start_time": "2023-04-20T17:13:01.609Z"
      },
      {
        "duration": 152,
        "start_time": "2023-04-20T17:13:01.659Z"
      },
      {
        "duration": 12,
        "start_time": "2023-04-20T17:13:01.812Z"
      },
      {
        "duration": 43,
        "start_time": "2023-04-20T17:13:01.825Z"
      },
      {
        "duration": 38,
        "start_time": "2023-04-20T17:13:01.869Z"
      },
      {
        "duration": 51,
        "start_time": "2023-04-20T17:13:01.909Z"
      },
      {
        "duration": 15,
        "start_time": "2023-04-20T17:13:01.963Z"
      },
      {
        "duration": 36,
        "start_time": "2023-04-20T17:13:01.979Z"
      },
      {
        "duration": 26,
        "start_time": "2023-04-20T17:13:02.017Z"
      },
      {
        "duration": 3699,
        "start_time": "2023-04-20T17:13:02.045Z"
      },
      {
        "duration": 1260,
        "start_time": "2023-04-20T17:14:02.938Z"
      },
      {
        "duration": 920,
        "start_time": "2023-04-20T17:14:04.201Z"
      },
      {
        "duration": 4,
        "start_time": "2023-04-20T17:14:05.122Z"
      },
      {
        "duration": 78,
        "start_time": "2023-04-20T17:14:05.127Z"
      },
      {
        "duration": 4,
        "start_time": "2023-04-20T17:14:05.208Z"
      },
      {
        "duration": 26,
        "start_time": "2023-04-20T17:14:05.214Z"
      },
      {
        "duration": 15,
        "start_time": "2023-04-20T17:14:05.241Z"
      },
      {
        "duration": 28,
        "start_time": "2023-04-20T17:14:05.258Z"
      },
      {
        "duration": 47,
        "start_time": "2023-04-20T17:14:05.287Z"
      },
      {
        "duration": 8,
        "start_time": "2023-04-20T17:14:05.336Z"
      },
      {
        "duration": 22,
        "start_time": "2023-04-20T17:14:05.346Z"
      },
      {
        "duration": 30,
        "start_time": "2023-04-20T17:14:05.370Z"
      },
      {
        "duration": 51,
        "start_time": "2023-04-20T17:14:05.402Z"
      },
      {
        "duration": 21,
        "start_time": "2023-04-20T17:14:05.456Z"
      },
      {
        "duration": 28,
        "start_time": "2023-04-20T17:14:05.478Z"
      },
      {
        "duration": 38,
        "start_time": "2023-04-20T17:14:05.508Z"
      },
      {
        "duration": 3616,
        "start_time": "2023-04-20T17:14:05.548Z"
      },
      {
        "duration": 1193,
        "start_time": "2023-04-20T17:14:42.073Z"
      },
      {
        "duration": 1099,
        "start_time": "2023-04-20T17:14:43.268Z"
      },
      {
        "duration": 3,
        "start_time": "2023-04-20T17:14:44.369Z"
      },
      {
        "duration": 76,
        "start_time": "2023-04-20T17:14:44.373Z"
      },
      {
        "duration": 4,
        "start_time": "2023-04-20T17:14:44.451Z"
      },
      {
        "duration": 11,
        "start_time": "2023-04-20T17:14:44.457Z"
      },
      {
        "duration": 5,
        "start_time": "2023-04-20T17:14:44.470Z"
      },
      {
        "duration": 15,
        "start_time": "2023-04-20T17:14:44.477Z"
      },
      {
        "duration": 70,
        "start_time": "2023-04-20T17:14:44.493Z"
      },
      {
        "duration": 9,
        "start_time": "2023-04-20T17:14:44.565Z"
      },
      {
        "duration": 6,
        "start_time": "2023-04-20T17:14:44.576Z"
      },
      {
        "duration": 15,
        "start_time": "2023-04-20T17:14:44.584Z"
      },
      {
        "duration": 31,
        "start_time": "2023-04-20T17:14:44.600Z"
      },
      {
        "duration": 17,
        "start_time": "2023-04-20T17:14:44.634Z"
      },
      {
        "duration": 17,
        "start_time": "2023-04-20T17:14:44.652Z"
      },
      {
        "duration": 12,
        "start_time": "2023-04-20T17:14:44.671Z"
      },
      {
        "duration": 3724,
        "start_time": "2023-04-20T17:14:44.684Z"
      },
      {
        "duration": 1167,
        "start_time": "2023-04-20T17:16:57.503Z"
      },
      {
        "duration": 894,
        "start_time": "2023-04-20T17:16:58.672Z"
      },
      {
        "duration": 4,
        "start_time": "2023-04-20T17:16:59.568Z"
      },
      {
        "duration": 83,
        "start_time": "2023-04-20T17:16:59.573Z"
      },
      {
        "duration": 6,
        "start_time": "2023-04-20T17:16:59.658Z"
      },
      {
        "duration": 26,
        "start_time": "2023-04-20T17:16:59.666Z"
      },
      {
        "duration": 3,
        "start_time": "2023-04-20T17:16:59.694Z"
      },
      {
        "duration": 32,
        "start_time": "2023-04-20T17:16:59.698Z"
      },
      {
        "duration": 49,
        "start_time": "2023-04-20T17:16:59.732Z"
      },
      {
        "duration": 11,
        "start_time": "2023-04-20T17:16:59.782Z"
      },
      {
        "duration": 25,
        "start_time": "2023-04-20T17:16:59.795Z"
      },
      {
        "duration": 26,
        "start_time": "2023-04-20T17:16:59.821Z"
      },
      {
        "duration": 21,
        "start_time": "2023-04-20T17:16:59.848Z"
      },
      {
        "duration": 4,
        "start_time": "2023-04-20T17:16:59.871Z"
      },
      {
        "duration": 24,
        "start_time": "2023-04-20T17:16:59.877Z"
      },
      {
        "duration": 11,
        "start_time": "2023-04-20T17:16:59.903Z"
      },
      {
        "duration": 3625,
        "start_time": "2023-04-20T17:16:59.915Z"
      },
      {
        "duration": 1227,
        "start_time": "2023-04-20T17:18:39.640Z"
      },
      {
        "duration": 782,
        "start_time": "2023-04-20T17:18:40.868Z"
      },
      {
        "duration": 3,
        "start_time": "2023-04-20T17:18:41.651Z"
      },
      {
        "duration": 65,
        "start_time": "2023-04-20T17:18:41.655Z"
      },
      {
        "duration": 28,
        "start_time": "2023-04-20T17:18:41.722Z"
      },
      {
        "duration": 10,
        "start_time": "2023-04-20T17:18:41.751Z"
      },
      {
        "duration": 7,
        "start_time": "2023-04-20T17:18:41.763Z"
      },
      {
        "duration": 15,
        "start_time": "2023-04-20T17:18:41.771Z"
      },
      {
        "duration": 35,
        "start_time": "2023-04-20T17:18:41.787Z"
      },
      {
        "duration": 8,
        "start_time": "2023-04-20T17:18:41.849Z"
      },
      {
        "duration": 7,
        "start_time": "2023-04-20T17:18:41.858Z"
      },
      {
        "duration": 7,
        "start_time": "2023-04-20T17:18:41.866Z"
      },
      {
        "duration": 20,
        "start_time": "2023-04-20T17:18:41.874Z"
      },
      {
        "duration": 4,
        "start_time": "2023-04-20T17:18:41.896Z"
      },
      {
        "duration": 12,
        "start_time": "2023-04-20T17:18:41.901Z"
      },
      {
        "duration": 43,
        "start_time": "2023-04-20T17:18:41.915Z"
      },
      {
        "duration": 3701,
        "start_time": "2023-04-20T17:18:41.959Z"
      },
      {
        "duration": 1104,
        "start_time": "2023-04-20T17:19:22.301Z"
      },
      {
        "duration": 962,
        "start_time": "2023-04-20T17:19:23.407Z"
      },
      {
        "duration": 3,
        "start_time": "2023-04-20T17:19:24.371Z"
      },
      {
        "duration": 88,
        "start_time": "2023-04-20T17:19:24.375Z"
      },
      {
        "duration": 5,
        "start_time": "2023-04-20T17:19:24.466Z"
      },
      {
        "duration": 17,
        "start_time": "2023-04-20T17:19:24.473Z"
      },
      {
        "duration": 7,
        "start_time": "2023-04-20T17:19:24.492Z"
      },
      {
        "duration": 21,
        "start_time": "2023-04-20T17:19:24.501Z"
      },
      {
        "duration": 50,
        "start_time": "2023-04-20T17:19:24.549Z"
      },
      {
        "duration": 11,
        "start_time": "2023-04-20T17:19:24.601Z"
      },
      {
        "duration": 12,
        "start_time": "2023-04-20T17:19:24.614Z"
      },
      {
        "duration": 41,
        "start_time": "2023-04-20T17:19:24.628Z"
      },
      {
        "duration": 25,
        "start_time": "2023-04-20T17:19:24.670Z"
      },
      {
        "duration": 4,
        "start_time": "2023-04-20T17:19:24.698Z"
      },
      {
        "duration": 12,
        "start_time": "2023-04-20T17:19:24.703Z"
      },
      {
        "duration": 10,
        "start_time": "2023-04-20T17:19:24.717Z"
      },
      {
        "duration": 3572,
        "start_time": "2023-04-20T17:19:24.728Z"
      },
      {
        "duration": 1239,
        "start_time": "2023-04-20T17:22:00.467Z"
      },
      {
        "duration": 1330,
        "start_time": "2023-04-20T17:22:01.707Z"
      },
      {
        "duration": 3,
        "start_time": "2023-04-20T17:22:03.039Z"
      },
      {
        "duration": 100,
        "start_time": "2023-04-20T17:22:03.044Z"
      },
      {
        "duration": 6,
        "start_time": "2023-04-20T17:22:03.147Z"
      },
      {
        "duration": 16,
        "start_time": "2023-04-20T17:22:03.155Z"
      },
      {
        "duration": 8,
        "start_time": "2023-04-20T17:22:03.173Z"
      },
      {
        "duration": 28,
        "start_time": "2023-04-20T17:22:03.183Z"
      },
      {
        "duration": 47,
        "start_time": "2023-04-20T17:22:03.212Z"
      },
      {
        "duration": 10,
        "start_time": "2023-04-20T17:22:03.261Z"
      },
      {
        "duration": 7,
        "start_time": "2023-04-20T17:22:03.273Z"
      },
      {
        "duration": 21,
        "start_time": "2023-04-20T17:22:03.282Z"
      },
      {
        "duration": 20,
        "start_time": "2023-04-20T17:22:03.305Z"
      },
      {
        "duration": 5,
        "start_time": "2023-04-20T17:22:03.348Z"
      },
      {
        "duration": 15,
        "start_time": "2023-04-20T17:22:03.355Z"
      },
      {
        "duration": 11,
        "start_time": "2023-04-20T17:22:03.372Z"
      },
      {
        "duration": 3648,
        "start_time": "2023-04-20T17:22:03.384Z"
      },
      {
        "duration": 5275,
        "start_time": "2023-04-20T17:22:07.034Z"
      },
      {
        "duration": 1515,
        "start_time": "2023-04-20T17:22:12.310Z"
      },
      {
        "duration": 8,
        "start_time": "2023-04-20T17:22:13.827Z"
      },
      {
        "duration": 25,
        "start_time": "2023-04-20T17:22:13.836Z"
      },
      {
        "duration": 13,
        "start_time": "2023-04-20T17:22:13.862Z"
      },
      {
        "duration": 322,
        "start_time": "2023-04-20T17:22:13.876Z"
      },
      {
        "duration": 9,
        "start_time": "2023-04-20T17:22:14.200Z"
      },
      {
        "duration": 8,
        "start_time": "2023-04-20T17:22:14.211Z"
      },
      {
        "duration": 13,
        "start_time": "2023-04-20T17:22:14.220Z"
      },
      {
        "duration": 15,
        "start_time": "2023-04-20T17:22:14.235Z"
      },
      {
        "duration": 20,
        "start_time": "2023-04-20T17:22:14.252Z"
      },
      {
        "duration": 6,
        "start_time": "2023-04-20T17:22:14.276Z"
      },
      {
        "duration": 4,
        "start_time": "2023-04-20T17:22:14.284Z"
      },
      {
        "duration": 7,
        "start_time": "2023-04-20T17:22:14.289Z"
      },
      {
        "duration": 10,
        "start_time": "2023-04-20T17:22:14.298Z"
      },
      {
        "duration": 12,
        "start_time": "2023-04-20T17:22:14.310Z"
      },
      {
        "duration": 4,
        "start_time": "2023-04-20T17:22:14.350Z"
      },
      {
        "duration": 4,
        "start_time": "2023-04-20T17:22:14.356Z"
      },
      {
        "duration": 13,
        "start_time": "2023-04-20T17:22:14.362Z"
      },
      {
        "duration": 4,
        "start_time": "2023-04-20T17:22:14.377Z"
      },
      {
        "duration": 406,
        "start_time": "2023-04-20T17:22:14.383Z"
      },
      {
        "duration": 5118,
        "start_time": "2023-04-20T17:24:43.758Z"
      },
      {
        "duration": 1123,
        "start_time": "2023-04-20T17:25:25.593Z"
      },
      {
        "duration": 796,
        "start_time": "2023-04-20T17:25:26.718Z"
      },
      {
        "duration": 4,
        "start_time": "2023-04-20T17:25:27.515Z"
      },
      {
        "duration": 75,
        "start_time": "2023-04-20T17:25:27.520Z"
      },
      {
        "duration": 4,
        "start_time": "2023-04-20T17:25:27.599Z"
      },
      {
        "duration": 11,
        "start_time": "2023-04-20T17:25:27.604Z"
      },
      {
        "duration": 9,
        "start_time": "2023-04-20T17:25:27.616Z"
      },
      {
        "duration": 32,
        "start_time": "2023-04-20T17:25:27.626Z"
      },
      {
        "duration": 37,
        "start_time": "2023-04-20T17:25:27.660Z"
      },
      {
        "duration": 7,
        "start_time": "2023-04-20T17:25:27.699Z"
      },
      {
        "duration": 4,
        "start_time": "2023-04-20T17:25:27.708Z"
      },
      {
        "duration": 35,
        "start_time": "2023-04-20T17:25:27.714Z"
      },
      {
        "duration": 17,
        "start_time": "2023-04-20T17:25:27.751Z"
      },
      {
        "duration": 10,
        "start_time": "2023-04-20T17:25:27.771Z"
      },
      {
        "duration": 15,
        "start_time": "2023-04-20T17:25:27.782Z"
      },
      {
        "duration": 12,
        "start_time": "2023-04-20T17:25:27.799Z"
      },
      {
        "duration": 3664,
        "start_time": "2023-04-20T17:25:27.812Z"
      },
      {
        "duration": 93,
        "start_time": "2023-04-20T17:25:31.478Z"
      },
      {
        "duration": 0,
        "start_time": "2023-04-20T17:25:31.573Z"
      },
      {
        "duration": 0,
        "start_time": "2023-04-20T17:25:31.574Z"
      },
      {
        "duration": 0,
        "start_time": "2023-04-20T17:25:31.575Z"
      },
      {
        "duration": 0,
        "start_time": "2023-04-20T17:25:31.576Z"
      },
      {
        "duration": 0,
        "start_time": "2023-04-20T17:25:31.577Z"
      },
      {
        "duration": 0,
        "start_time": "2023-04-20T17:25:31.578Z"
      },
      {
        "duration": 0,
        "start_time": "2023-04-20T17:25:31.579Z"
      },
      {
        "duration": 0,
        "start_time": "2023-04-20T17:25:31.580Z"
      },
      {
        "duration": 0,
        "start_time": "2023-04-20T17:25:31.581Z"
      },
      {
        "duration": 0,
        "start_time": "2023-04-20T17:25:31.582Z"
      },
      {
        "duration": 1,
        "start_time": "2023-04-20T17:25:31.582Z"
      },
      {
        "duration": 0,
        "start_time": "2023-04-20T17:25:31.584Z"
      },
      {
        "duration": 0,
        "start_time": "2023-04-20T17:25:31.585Z"
      },
      {
        "duration": 1,
        "start_time": "2023-04-20T17:25:31.585Z"
      },
      {
        "duration": 0,
        "start_time": "2023-04-20T17:25:31.587Z"
      },
      {
        "duration": 0,
        "start_time": "2023-04-20T17:25:31.588Z"
      },
      {
        "duration": 0,
        "start_time": "2023-04-20T17:25:31.589Z"
      },
      {
        "duration": 0,
        "start_time": "2023-04-20T17:25:31.590Z"
      },
      {
        "duration": 1,
        "start_time": "2023-04-20T17:25:31.590Z"
      },
      {
        "duration": 0,
        "start_time": "2023-04-20T17:25:31.591Z"
      },
      {
        "duration": 5422,
        "start_time": "2023-04-20T17:25:54.546Z"
      },
      {
        "duration": 1129,
        "start_time": "2023-04-20T17:26:14.944Z"
      },
      {
        "duration": 832,
        "start_time": "2023-04-20T17:26:16.075Z"
      },
      {
        "duration": 4,
        "start_time": "2023-04-20T17:26:16.909Z"
      },
      {
        "duration": 66,
        "start_time": "2023-04-20T17:26:16.914Z"
      },
      {
        "duration": 4,
        "start_time": "2023-04-20T17:26:16.983Z"
      },
      {
        "duration": 11,
        "start_time": "2023-04-20T17:26:16.988Z"
      },
      {
        "duration": 6,
        "start_time": "2023-04-20T17:26:17.000Z"
      },
      {
        "duration": 16,
        "start_time": "2023-04-20T17:26:17.007Z"
      },
      {
        "duration": 53,
        "start_time": "2023-04-20T17:26:17.025Z"
      },
      {
        "duration": 8,
        "start_time": "2023-04-20T17:26:17.080Z"
      },
      {
        "duration": 9,
        "start_time": "2023-04-20T17:26:17.089Z"
      },
      {
        "duration": 6,
        "start_time": "2023-04-20T17:26:17.100Z"
      },
      {
        "duration": 47,
        "start_time": "2023-04-20T17:26:17.108Z"
      },
      {
        "duration": 6,
        "start_time": "2023-04-20T17:26:17.159Z"
      },
      {
        "duration": 14,
        "start_time": "2023-04-20T17:26:17.166Z"
      },
      {
        "duration": 13,
        "start_time": "2023-04-20T17:26:17.182Z"
      },
      {
        "duration": 3731,
        "start_time": "2023-04-20T17:26:17.197Z"
      },
      {
        "duration": 5162,
        "start_time": "2023-04-20T17:26:20.930Z"
      },
      {
        "duration": 1538,
        "start_time": "2023-04-20T17:26:26.094Z"
      },
      {
        "duration": 16,
        "start_time": "2023-04-20T17:26:27.633Z"
      },
      {
        "duration": 14,
        "start_time": "2023-04-20T17:26:27.650Z"
      },
      {
        "duration": 13,
        "start_time": "2023-04-20T17:26:27.665Z"
      },
      {
        "duration": 326,
        "start_time": "2023-04-20T17:26:27.680Z"
      },
      {
        "duration": 6,
        "start_time": "2023-04-20T17:26:28.008Z"
      },
      {
        "duration": 17,
        "start_time": "2023-04-20T17:26:28.015Z"
      },
      {
        "duration": 11,
        "start_time": "2023-04-20T17:26:28.033Z"
      },
      {
        "duration": 3,
        "start_time": "2023-04-20T17:26:28.048Z"
      },
      {
        "duration": 15,
        "start_time": "2023-04-20T17:26:28.053Z"
      },
      {
        "duration": 13,
        "start_time": "2023-04-20T17:26:28.069Z"
      },
      {
        "duration": 6,
        "start_time": "2023-04-20T17:26:28.084Z"
      },
      {
        "duration": 6,
        "start_time": "2023-04-20T17:26:28.092Z"
      },
      {
        "duration": 21,
        "start_time": "2023-04-20T17:26:28.100Z"
      },
      {
        "duration": 18,
        "start_time": "2023-04-20T17:26:28.122Z"
      },
      {
        "duration": 9,
        "start_time": "2023-04-20T17:26:28.141Z"
      },
      {
        "duration": 5,
        "start_time": "2023-04-20T17:26:28.152Z"
      },
      {
        "duration": 20,
        "start_time": "2023-04-20T17:26:28.159Z"
      },
      {
        "duration": 361,
        "start_time": "2023-04-20T17:26:28.180Z"
      },
      {
        "duration": 57,
        "start_time": "2023-04-20T17:26:28.542Z"
      },
      {
        "duration": 5063,
        "start_time": "2023-04-20T17:27:36.110Z"
      },
      {
        "duration": 1186,
        "start_time": "2023-04-20T17:31:47.593Z"
      },
      {
        "duration": 830,
        "start_time": "2023-04-20T17:31:48.781Z"
      },
      {
        "duration": 3,
        "start_time": "2023-04-20T17:31:49.613Z"
      },
      {
        "duration": 77,
        "start_time": "2023-04-20T17:31:49.618Z"
      },
      {
        "duration": 5,
        "start_time": "2023-04-20T17:31:49.696Z"
      },
      {
        "duration": 26,
        "start_time": "2023-04-20T17:31:49.702Z"
      },
      {
        "duration": 18,
        "start_time": "2023-04-20T17:31:49.729Z"
      },
      {
        "duration": 24,
        "start_time": "2023-04-20T17:31:49.749Z"
      },
      {
        "duration": 68,
        "start_time": "2023-04-20T17:31:49.775Z"
      },
      {
        "duration": 10,
        "start_time": "2023-04-20T17:31:49.846Z"
      },
      {
        "duration": 20,
        "start_time": "2023-04-20T17:31:49.858Z"
      },
      {
        "duration": 27,
        "start_time": "2023-04-20T17:31:49.880Z"
      },
      {
        "duration": 33,
        "start_time": "2023-04-20T17:31:49.908Z"
      },
      {
        "duration": 8,
        "start_time": "2023-04-20T17:31:49.943Z"
      },
      {
        "duration": 32,
        "start_time": "2023-04-20T17:31:49.953Z"
      },
      {
        "duration": 12,
        "start_time": "2023-04-20T17:31:49.987Z"
      },
      {
        "duration": 3672,
        "start_time": "2023-04-20T17:31:50.000Z"
      },
      {
        "duration": 5273,
        "start_time": "2023-04-20T17:31:53.674Z"
      },
      {
        "duration": 1565,
        "start_time": "2023-04-20T17:31:58.949Z"
      },
      {
        "duration": 8,
        "start_time": "2023-04-20T17:32:00.515Z"
      },
      {
        "duration": 39,
        "start_time": "2023-04-20T17:32:00.525Z"
      },
      {
        "duration": 31,
        "start_time": "2023-04-20T17:32:00.566Z"
      },
      {
        "duration": 378,
        "start_time": "2023-04-20T17:32:00.599Z"
      },
      {
        "duration": 7,
        "start_time": "2023-04-20T17:32:00.978Z"
      },
      {
        "duration": 28,
        "start_time": "2023-04-20T17:32:00.986Z"
      },
      {
        "duration": 41,
        "start_time": "2023-04-20T17:32:01.016Z"
      },
      {
        "duration": 22,
        "start_time": "2023-04-20T17:32:01.059Z"
      },
      {
        "duration": 37,
        "start_time": "2023-04-20T17:32:01.084Z"
      },
      {
        "duration": 49,
        "start_time": "2023-04-20T17:32:01.123Z"
      },
      {
        "duration": 33,
        "start_time": "2023-04-20T17:32:01.173Z"
      },
      {
        "duration": 42,
        "start_time": "2023-04-20T17:32:01.208Z"
      },
      {
        "duration": 39,
        "start_time": "2023-04-20T17:32:01.251Z"
      },
      {
        "duration": 45,
        "start_time": "2023-04-20T17:32:01.292Z"
      },
      {
        "duration": 37,
        "start_time": "2023-04-20T17:32:01.338Z"
      },
      {
        "duration": 42,
        "start_time": "2023-04-20T17:32:01.377Z"
      },
      {
        "duration": 105,
        "start_time": "2023-04-20T17:32:01.421Z"
      },
      {
        "duration": 71,
        "start_time": "2023-04-20T17:32:01.528Z"
      },
      {
        "duration": 451,
        "start_time": "2023-04-20T17:32:01.600Z"
      },
      {
        "duration": 56,
        "start_time": "2023-04-20T17:34:50.004Z"
      },
      {
        "duration": 1093,
        "start_time": "2023-04-20T17:34:58.474Z"
      },
      {
        "duration": 1015,
        "start_time": "2023-04-20T17:34:59.569Z"
      },
      {
        "duration": 3,
        "start_time": "2023-04-20T17:35:00.586Z"
      },
      {
        "duration": 107,
        "start_time": "2023-04-20T17:35:00.591Z"
      },
      {
        "duration": 5,
        "start_time": "2023-04-20T17:35:00.700Z"
      },
      {
        "duration": 57,
        "start_time": "2023-04-20T17:35:00.707Z"
      },
      {
        "duration": 40,
        "start_time": "2023-04-20T17:35:00.766Z"
      },
      {
        "duration": 56,
        "start_time": "2023-04-20T17:35:00.808Z"
      },
      {
        "duration": 49,
        "start_time": "2023-04-20T17:35:00.865Z"
      },
      {
        "duration": 8,
        "start_time": "2023-04-20T17:35:00.916Z"
      },
      {
        "duration": 30,
        "start_time": "2023-04-20T17:35:00.925Z"
      },
      {
        "duration": 28,
        "start_time": "2023-04-20T17:35:00.957Z"
      },
      {
        "duration": 46,
        "start_time": "2023-04-20T17:35:00.987Z"
      },
      {
        "duration": 47,
        "start_time": "2023-04-20T17:35:01.037Z"
      },
      {
        "duration": 58,
        "start_time": "2023-04-20T17:35:01.086Z"
      },
      {
        "duration": 19,
        "start_time": "2023-04-20T17:35:01.146Z"
      },
      {
        "duration": 3645,
        "start_time": "2023-04-20T17:35:01.167Z"
      },
      {
        "duration": 1215,
        "start_time": "2023-04-20T17:35:04.814Z"
      },
      {
        "duration": 0,
        "start_time": "2023-04-20T17:35:06.030Z"
      },
      {
        "duration": 0,
        "start_time": "2023-04-20T17:35:06.031Z"
      },
      {
        "duration": 0,
        "start_time": "2023-04-20T17:35:06.032Z"
      },
      {
        "duration": 0,
        "start_time": "2023-04-20T17:35:06.033Z"
      },
      {
        "duration": 0,
        "start_time": "2023-04-20T17:35:06.034Z"
      },
      {
        "duration": 0,
        "start_time": "2023-04-20T17:35:06.035Z"
      },
      {
        "duration": 0,
        "start_time": "2023-04-20T17:35:06.036Z"
      },
      {
        "duration": 0,
        "start_time": "2023-04-20T17:35:06.036Z"
      },
      {
        "duration": 0,
        "start_time": "2023-04-20T17:35:06.048Z"
      },
      {
        "duration": 0,
        "start_time": "2023-04-20T17:35:06.049Z"
      },
      {
        "duration": 0,
        "start_time": "2023-04-20T17:35:06.050Z"
      },
      {
        "duration": 0,
        "start_time": "2023-04-20T17:35:06.051Z"
      },
      {
        "duration": 0,
        "start_time": "2023-04-20T17:35:06.052Z"
      },
      {
        "duration": 0,
        "start_time": "2023-04-20T17:35:06.052Z"
      },
      {
        "duration": 0,
        "start_time": "2023-04-20T17:35:06.053Z"
      },
      {
        "duration": 0,
        "start_time": "2023-04-20T17:35:06.054Z"
      },
      {
        "duration": 0,
        "start_time": "2023-04-20T17:35:06.055Z"
      },
      {
        "duration": 0,
        "start_time": "2023-04-20T17:35:06.056Z"
      },
      {
        "duration": 0,
        "start_time": "2023-04-20T17:35:06.056Z"
      },
      {
        "duration": 0,
        "start_time": "2023-04-20T17:35:06.057Z"
      },
      {
        "duration": 5299,
        "start_time": "2023-04-20T17:36:36.131Z"
      },
      {
        "duration": 5560,
        "start_time": "2023-04-20T17:37:28.822Z"
      },
      {
        "duration": 5589,
        "start_time": "2023-04-20T17:37:47.875Z"
      },
      {
        "duration": 1938,
        "start_time": "2023-04-20T17:40:15.693Z"
      },
      {
        "duration": 2031,
        "start_time": "2023-04-20T17:40:31.634Z"
      },
      {
        "duration": 1162,
        "start_time": "2023-04-20T17:43:14.313Z"
      },
      {
        "duration": 995,
        "start_time": "2023-04-20T17:43:15.477Z"
      },
      {
        "duration": 3,
        "start_time": "2023-04-20T17:43:16.474Z"
      },
      {
        "duration": 63,
        "start_time": "2023-04-20T17:43:16.479Z"
      },
      {
        "duration": 5,
        "start_time": "2023-04-20T17:43:16.550Z"
      },
      {
        "duration": 13,
        "start_time": "2023-04-20T17:43:16.556Z"
      },
      {
        "duration": 13,
        "start_time": "2023-04-20T17:43:16.571Z"
      },
      {
        "duration": 14,
        "start_time": "2023-04-20T17:43:16.586Z"
      },
      {
        "duration": 49,
        "start_time": "2023-04-20T17:43:16.601Z"
      },
      {
        "duration": 8,
        "start_time": "2023-04-20T17:43:16.651Z"
      },
      {
        "duration": 12,
        "start_time": "2023-04-20T17:43:16.661Z"
      },
      {
        "duration": 7,
        "start_time": "2023-04-20T17:43:16.674Z"
      },
      {
        "duration": 23,
        "start_time": "2023-04-20T17:43:16.682Z"
      },
      {
        "duration": 4,
        "start_time": "2023-04-20T17:43:16.708Z"
      },
      {
        "duration": 15,
        "start_time": "2023-04-20T17:43:16.714Z"
      },
      {
        "duration": 11,
        "start_time": "2023-04-20T17:43:16.748Z"
      },
      {
        "duration": 3707,
        "start_time": "2023-04-20T17:43:16.761Z"
      },
      {
        "duration": 5421,
        "start_time": "2023-04-20T17:43:20.470Z"
      },
      {
        "duration": 2060,
        "start_time": "2023-04-20T17:43:25.893Z"
      },
      {
        "duration": 10,
        "start_time": "2023-04-20T17:43:27.955Z"
      },
      {
        "duration": 22,
        "start_time": "2023-04-20T17:43:27.966Z"
      },
      {
        "duration": 12,
        "start_time": "2023-04-20T17:43:27.989Z"
      },
      {
        "duration": 679,
        "start_time": "2023-04-20T17:43:28.002Z"
      },
      {
        "duration": 7,
        "start_time": "2023-04-20T17:43:28.682Z"
      },
      {
        "duration": 6,
        "start_time": "2023-04-20T17:43:28.690Z"
      },
      {
        "duration": 9,
        "start_time": "2023-04-20T17:43:28.697Z"
      },
      {
        "duration": 4,
        "start_time": "2023-04-20T17:43:28.708Z"
      },
      {
        "duration": 12,
        "start_time": "2023-04-20T17:43:28.713Z"
      },
      {
        "duration": 6,
        "start_time": "2023-04-20T17:43:28.748Z"
      },
      {
        "duration": 10,
        "start_time": "2023-04-20T17:43:28.756Z"
      },
      {
        "duration": 6,
        "start_time": "2023-04-20T17:43:28.768Z"
      },
      {
        "duration": 5,
        "start_time": "2023-04-20T17:43:28.776Z"
      },
      {
        "duration": 8,
        "start_time": "2023-04-20T17:43:28.782Z"
      },
      {
        "duration": 3,
        "start_time": "2023-04-20T17:43:28.792Z"
      },
      {
        "duration": 6,
        "start_time": "2023-04-20T17:43:28.797Z"
      },
      {
        "duration": 13,
        "start_time": "2023-04-20T17:43:28.804Z"
      },
      {
        "duration": 3,
        "start_time": "2023-04-20T17:43:28.818Z"
      },
      {
        "duration": 59,
        "start_time": "2023-04-20T17:43:28.848Z"
      },
      {
        "duration": 126,
        "start_time": "2023-04-20T17:51:26.940Z"
      },
      {
        "duration": 389,
        "start_time": "2023-04-20T17:52:24.464Z"
      },
      {
        "duration": 7,
        "start_time": "2023-04-20T17:59:10.477Z"
      },
      {
        "duration": 4,
        "start_time": "2023-04-20T17:59:11.540Z"
      },
      {
        "duration": 5,
        "start_time": "2023-04-20T17:59:12.643Z"
      },
      {
        "duration": 4,
        "start_time": "2023-04-20T17:59:22.441Z"
      },
      {
        "duration": 10,
        "start_time": "2023-04-20T17:59:24.227Z"
      },
      {
        "duration": 6,
        "start_time": "2023-04-20T17:59:27.078Z"
      },
      {
        "duration": 4,
        "start_time": "2023-04-20T17:59:28.807Z"
      },
      {
        "duration": 3,
        "start_time": "2023-04-20T18:00:43.609Z"
      },
      {
        "duration": 8,
        "start_time": "2023-04-20T18:00:54.323Z"
      },
      {
        "duration": 11,
        "start_time": "2023-04-20T18:01:05.523Z"
      },
      {
        "duration": 226,
        "start_time": "2023-04-20T18:01:05.845Z"
      },
      {
        "duration": 13,
        "start_time": "2023-04-20T18:02:21.287Z"
      },
      {
        "duration": 3,
        "start_time": "2023-04-20T18:02:22.098Z"
      },
      {
        "duration": 217,
        "start_time": "2023-04-20T18:02:24.588Z"
      },
      {
        "duration": 10,
        "start_time": "2023-04-20T18:02:45.548Z"
      },
      {
        "duration": 5,
        "start_time": "2023-04-20T18:02:46.762Z"
      },
      {
        "duration": 5,
        "start_time": "2023-04-20T18:02:48.271Z"
      },
      {
        "duration": 10,
        "start_time": "2023-04-20T18:02:54.149Z"
      },
      {
        "duration": 7,
        "start_time": "2023-04-20T18:02:59.282Z"
      },
      {
        "duration": 5,
        "start_time": "2023-04-20T18:03:00.452Z"
      },
      {
        "duration": 4,
        "start_time": "2023-04-20T18:03:01.297Z"
      },
      {
        "duration": 10,
        "start_time": "2023-04-20T18:03:03.735Z"
      },
      {
        "duration": 5,
        "start_time": "2023-04-20T18:06:18.458Z"
      },
      {
        "duration": 59,
        "start_time": "2023-04-20T18:06:19.320Z"
      },
      {
        "duration": 4,
        "start_time": "2023-04-20T18:09:52.022Z"
      },
      {
        "duration": 22,
        "start_time": "2023-04-20T18:09:54.414Z"
      },
      {
        "duration": 3,
        "start_time": "2023-04-20T18:10:17.833Z"
      },
      {
        "duration": 18,
        "start_time": "2023-04-20T18:10:18.482Z"
      },
      {
        "duration": 310,
        "start_time": "2023-04-20T18:12:26.065Z"
      },
      {
        "duration": 48,
        "start_time": "2023-04-20T18:12:27.897Z"
      },
      {
        "duration": 0,
        "start_time": "2023-04-20T18:12:27.948Z"
      },
      {
        "duration": 0,
        "start_time": "2023-04-20T18:12:27.951Z"
      },
      {
        "duration": 0,
        "start_time": "2023-04-20T18:12:27.952Z"
      },
      {
        "duration": 0,
        "start_time": "2023-04-20T18:12:27.952Z"
      },
      {
        "duration": 0,
        "start_time": "2023-04-20T18:12:27.953Z"
      },
      {
        "duration": 0,
        "start_time": "2023-04-20T18:12:27.953Z"
      },
      {
        "duration": 0,
        "start_time": "2023-04-20T18:12:27.954Z"
      },
      {
        "duration": 0,
        "start_time": "2023-04-20T18:12:27.954Z"
      },
      {
        "duration": 0,
        "start_time": "2023-04-20T18:12:27.955Z"
      },
      {
        "duration": 0,
        "start_time": "2023-04-20T18:12:27.955Z"
      },
      {
        "duration": 0,
        "start_time": "2023-04-20T18:12:27.956Z"
      },
      {
        "duration": 0,
        "start_time": "2023-04-20T18:12:27.956Z"
      },
      {
        "duration": 0,
        "start_time": "2023-04-20T18:12:27.957Z"
      },
      {
        "duration": 0,
        "start_time": "2023-04-20T18:12:27.957Z"
      },
      {
        "duration": 0,
        "start_time": "2023-04-20T18:12:27.958Z"
      },
      {
        "duration": 0,
        "start_time": "2023-04-20T18:12:27.958Z"
      },
      {
        "duration": 0,
        "start_time": "2023-04-20T18:12:27.959Z"
      },
      {
        "duration": 0,
        "start_time": "2023-04-20T18:12:27.959Z"
      },
      {
        "duration": 0,
        "start_time": "2023-04-20T18:12:27.960Z"
      },
      {
        "duration": 0,
        "start_time": "2023-04-20T18:12:27.960Z"
      },
      {
        "duration": 0,
        "start_time": "2023-04-20T18:12:27.961Z"
      },
      {
        "duration": 0,
        "start_time": "2023-04-20T18:12:27.961Z"
      },
      {
        "duration": 0,
        "start_time": "2023-04-20T18:12:27.962Z"
      },
      {
        "duration": 0,
        "start_time": "2023-04-20T18:12:27.962Z"
      },
      {
        "duration": 0,
        "start_time": "2023-04-20T18:12:27.963Z"
      },
      {
        "duration": 0,
        "start_time": "2023-04-20T18:12:27.965Z"
      },
      {
        "duration": 0,
        "start_time": "2023-04-20T18:12:27.966Z"
      },
      {
        "duration": 1167,
        "start_time": "2023-04-20T18:12:52.924Z"
      },
      {
        "duration": 829,
        "start_time": "2023-04-20T18:12:54.093Z"
      },
      {
        "duration": 3,
        "start_time": "2023-04-20T18:12:54.924Z"
      },
      {
        "duration": 81,
        "start_time": "2023-04-20T18:12:54.929Z"
      },
      {
        "duration": 4,
        "start_time": "2023-04-20T18:12:55.012Z"
      },
      {
        "duration": 19,
        "start_time": "2023-04-20T18:12:55.017Z"
      },
      {
        "duration": 25,
        "start_time": "2023-04-20T18:12:55.038Z"
      },
      {
        "duration": 30,
        "start_time": "2023-04-20T18:12:55.066Z"
      },
      {
        "duration": 36,
        "start_time": "2023-04-20T18:12:55.098Z"
      },
      {
        "duration": 7,
        "start_time": "2023-04-20T18:12:55.136Z"
      },
      {
        "duration": 19,
        "start_time": "2023-04-20T18:12:55.144Z"
      },
      {
        "duration": 8,
        "start_time": "2023-04-20T18:12:55.165Z"
      },
      {
        "duration": 25,
        "start_time": "2023-04-20T18:12:55.175Z"
      },
      {
        "duration": 5,
        "start_time": "2023-04-20T18:12:55.203Z"
      },
      {
        "duration": 17,
        "start_time": "2023-04-20T18:12:55.210Z"
      },
      {
        "duration": 34,
        "start_time": "2023-04-20T18:12:55.229Z"
      },
      {
        "duration": 3800,
        "start_time": "2023-04-20T18:12:55.265Z"
      },
      {
        "duration": 5769,
        "start_time": "2023-04-20T18:12:59.067Z"
      },
      {
        "duration": 32,
        "start_time": "2023-04-20T18:13:04.837Z"
      },
      {
        "duration": 45,
        "start_time": "2023-04-20T18:13:04.871Z"
      },
      {
        "duration": 47,
        "start_time": "2023-04-20T18:13:04.918Z"
      },
      {
        "duration": 420,
        "start_time": "2023-04-20T18:13:04.967Z"
      },
      {
        "duration": 8,
        "start_time": "2023-04-20T18:13:05.389Z"
      },
      {
        "duration": 29,
        "start_time": "2023-04-20T18:13:05.398Z"
      },
      {
        "duration": 13,
        "start_time": "2023-04-20T18:13:05.428Z"
      },
      {
        "duration": 27,
        "start_time": "2023-04-20T18:13:05.442Z"
      },
      {
        "duration": 21,
        "start_time": "2023-04-20T18:13:05.470Z"
      },
      {
        "duration": 7,
        "start_time": "2023-04-20T18:13:05.493Z"
      },
      {
        "duration": 9,
        "start_time": "2023-04-20T18:13:05.501Z"
      },
      {
        "duration": 50,
        "start_time": "2023-04-20T18:13:05.511Z"
      },
      {
        "duration": 45,
        "start_time": "2023-04-20T18:13:05.562Z"
      },
      {
        "duration": 23,
        "start_time": "2023-04-20T18:13:05.609Z"
      },
      {
        "duration": 33,
        "start_time": "2023-04-20T18:13:05.634Z"
      },
      {
        "duration": 11,
        "start_time": "2023-04-20T18:13:05.668Z"
      },
      {
        "duration": 28,
        "start_time": "2023-04-20T18:13:05.681Z"
      },
      {
        "duration": 17,
        "start_time": "2023-04-20T18:13:05.710Z"
      },
      {
        "duration": 72,
        "start_time": "2023-04-20T18:13:05.728Z"
      },
      {
        "duration": 83,
        "start_time": "2023-04-20T18:17:35.505Z"
      },
      {
        "duration": 10,
        "start_time": "2023-04-20T18:17:40.780Z"
      },
      {
        "duration": 11,
        "start_time": "2023-04-20T18:17:59.865Z"
      },
      {
        "duration": 13,
        "start_time": "2023-04-20T18:19:08.359Z"
      },
      {
        "duration": 16,
        "start_time": "2023-04-20T18:19:53.809Z"
      },
      {
        "duration": 25,
        "start_time": "2023-04-20T18:20:12.042Z"
      },
      {
        "duration": 11,
        "start_time": "2023-04-20T18:20:50.626Z"
      },
      {
        "duration": 10,
        "start_time": "2023-04-20T18:21:12.199Z"
      },
      {
        "duration": 11,
        "start_time": "2023-04-20T18:21:37.634Z"
      },
      {
        "duration": 16,
        "start_time": "2023-04-20T18:21:49.149Z"
      },
      {
        "duration": 11,
        "start_time": "2023-04-20T18:22:47.966Z"
      },
      {
        "duration": 14,
        "start_time": "2023-04-20T18:23:00.517Z"
      },
      {
        "duration": 1352,
        "start_time": "2023-04-21T03:38:05.312Z"
      },
      {
        "duration": 1108,
        "start_time": "2023-04-21T03:38:06.666Z"
      },
      {
        "duration": 4,
        "start_time": "2023-04-21T03:38:07.775Z"
      },
      {
        "duration": 70,
        "start_time": "2023-04-21T03:38:07.780Z"
      },
      {
        "duration": 6,
        "start_time": "2023-04-21T03:38:07.851Z"
      },
      {
        "duration": 23,
        "start_time": "2023-04-21T03:38:07.858Z"
      },
      {
        "duration": 4,
        "start_time": "2023-04-21T03:38:07.883Z"
      },
      {
        "duration": 14,
        "start_time": "2023-04-21T03:38:07.889Z"
      },
      {
        "duration": 36,
        "start_time": "2023-04-21T03:38:07.905Z"
      },
      {
        "duration": 8,
        "start_time": "2023-04-21T03:38:07.973Z"
      },
      {
        "duration": 11,
        "start_time": "2023-04-21T03:38:07.982Z"
      },
      {
        "duration": 6,
        "start_time": "2023-04-21T03:38:07.994Z"
      },
      {
        "duration": 17,
        "start_time": "2023-04-21T03:38:08.002Z"
      },
      {
        "duration": 4,
        "start_time": "2023-04-21T03:38:08.021Z"
      },
      {
        "duration": 12,
        "start_time": "2023-04-21T03:38:08.027Z"
      },
      {
        "duration": 39,
        "start_time": "2023-04-21T03:38:08.041Z"
      },
      {
        "duration": 3544,
        "start_time": "2023-04-21T03:38:08.083Z"
      },
      {
        "duration": 5497,
        "start_time": "2023-04-21T03:38:11.628Z"
      },
      {
        "duration": 8,
        "start_time": "2023-04-21T03:38:17.127Z"
      },
      {
        "duration": 20,
        "start_time": "2023-04-21T03:38:17.137Z"
      },
      {
        "duration": 22,
        "start_time": "2023-04-21T03:38:17.159Z"
      },
      {
        "duration": 338,
        "start_time": "2023-04-21T03:38:17.183Z"
      },
      {
        "duration": 7,
        "start_time": "2023-04-21T03:38:17.522Z"
      },
      {
        "duration": 9,
        "start_time": "2023-04-21T03:38:17.530Z"
      },
      {
        "duration": 9,
        "start_time": "2023-04-21T03:38:17.540Z"
      },
      {
        "duration": 4,
        "start_time": "2023-04-21T03:38:17.550Z"
      },
      {
        "duration": 24,
        "start_time": "2023-04-21T03:38:17.556Z"
      },
      {
        "duration": 6,
        "start_time": "2023-04-21T03:38:17.583Z"
      },
      {
        "duration": 8,
        "start_time": "2023-04-21T03:38:17.591Z"
      },
      {
        "duration": 17,
        "start_time": "2023-04-21T03:38:17.601Z"
      },
      {
        "duration": 19,
        "start_time": "2023-04-21T03:38:17.620Z"
      },
      {
        "duration": 5,
        "start_time": "2023-04-21T03:38:17.641Z"
      },
      {
        "duration": 5,
        "start_time": "2023-04-21T03:38:17.647Z"
      },
      {
        "duration": 8,
        "start_time": "2023-04-21T03:38:17.654Z"
      },
      {
        "duration": 21,
        "start_time": "2023-04-21T03:38:17.663Z"
      },
      {
        "duration": 4,
        "start_time": "2023-04-21T03:38:17.686Z"
      },
      {
        "duration": 83,
        "start_time": "2023-04-21T03:38:17.691Z"
      },
      {
        "duration": 11,
        "start_time": "2023-04-21T03:38:17.776Z"
      },
      {
        "duration": 16,
        "start_time": "2023-04-21T03:38:17.788Z"
      },
      {
        "duration": 17,
        "start_time": "2023-04-21T03:38:17.806Z"
      },
      {
        "duration": 21,
        "start_time": "2023-04-21T03:38:17.825Z"
      },
      {
        "duration": 21,
        "start_time": "2023-04-21T03:38:17.847Z"
      },
      {
        "duration": 9,
        "start_time": "2023-04-21T03:38:17.869Z"
      },
      {
        "duration": 10,
        "start_time": "2023-04-21T03:49:27.697Z"
      },
      {
        "duration": 23,
        "start_time": "2023-04-21T03:49:42.958Z"
      },
      {
        "duration": 11,
        "start_time": "2023-04-21T03:57:50.442Z"
      },
      {
        "duration": 11,
        "start_time": "2023-04-21T03:58:47.668Z"
      },
      {
        "duration": 141,
        "start_time": "2023-04-21T04:28:56.371Z"
      },
      {
        "duration": 12,
        "start_time": "2023-04-21T04:29:05.519Z"
      },
      {
        "duration": 12,
        "start_time": "2023-04-21T04:29:14.013Z"
      },
      {
        "duration": 14,
        "start_time": "2023-04-21T04:29:54.430Z"
      },
      {
        "duration": 10,
        "start_time": "2023-04-21T04:30:13.091Z"
      },
      {
        "duration": 14,
        "start_time": "2023-04-21T04:30:17.084Z"
      },
      {
        "duration": 16,
        "start_time": "2023-04-21T04:30:26.184Z"
      },
      {
        "duration": 6165,
        "start_time": "2023-04-21T04:58:43.579Z"
      },
      {
        "duration": 5970,
        "start_time": "2023-04-21T04:58:55.265Z"
      },
      {
        "duration": 6030,
        "start_time": "2023-04-21T04:59:11.325Z"
      },
      {
        "duration": 5786,
        "start_time": "2023-04-21T04:59:34.981Z"
      },
      {
        "duration": 5852,
        "start_time": "2023-04-21T05:00:47.764Z"
      },
      {
        "duration": 5858,
        "start_time": "2023-04-21T05:01:15.514Z"
      },
      {
        "duration": 337,
        "start_time": "2023-04-21T05:02:36.277Z"
      },
      {
        "duration": 346,
        "start_time": "2023-04-21T05:02:56.276Z"
      },
      {
        "duration": 12,
        "start_time": "2023-04-21T05:06:17.555Z"
      },
      {
        "duration": 12,
        "start_time": "2023-04-21T05:06:53.164Z"
      },
      {
        "duration": 11,
        "start_time": "2023-04-21T05:08:31.386Z"
      },
      {
        "duration": 10,
        "start_time": "2023-04-21T05:08:44.698Z"
      },
      {
        "duration": 9,
        "start_time": "2023-04-21T05:08:49.230Z"
      },
      {
        "duration": 9,
        "start_time": "2023-04-21T05:09:14.222Z"
      },
      {
        "duration": 9,
        "start_time": "2023-04-21T05:09:22.236Z"
      },
      {
        "duration": 8,
        "start_time": "2023-04-21T05:09:40.863Z"
      },
      {
        "duration": 9,
        "start_time": "2023-04-21T05:10:05.413Z"
      },
      {
        "duration": 14,
        "start_time": "2023-04-21T05:10:18.373Z"
      },
      {
        "duration": 12,
        "start_time": "2023-04-21T05:10:32.301Z"
      },
      {
        "duration": 10,
        "start_time": "2023-04-21T05:14:42.636Z"
      },
      {
        "duration": 11,
        "start_time": "2023-04-21T05:14:43.384Z"
      },
      {
        "duration": 9,
        "start_time": "2023-04-21T05:14:43.982Z"
      },
      {
        "duration": 97,
        "start_time": "2023-04-21T05:14:44.494Z"
      },
      {
        "duration": 147,
        "start_time": "2023-04-21T05:14:45.039Z"
      },
      {
        "duration": 10,
        "start_time": "2023-04-21T05:14:59.982Z"
      },
      {
        "duration": 10,
        "start_time": "2023-04-21T05:15:00.515Z"
      },
      {
        "duration": 10,
        "start_time": "2023-04-21T05:15:01.338Z"
      },
      {
        "duration": 10,
        "start_time": "2023-04-21T05:15:02.275Z"
      },
      {
        "duration": 9,
        "start_time": "2023-04-21T05:15:04.077Z"
      },
      {
        "duration": 9,
        "start_time": "2023-04-21T05:15:05.230Z"
      },
      {
        "duration": 9,
        "start_time": "2023-04-21T05:20:22.947Z"
      },
      {
        "duration": 8,
        "start_time": "2023-04-21T05:20:28.503Z"
      },
      {
        "duration": 5,
        "start_time": "2023-04-21T05:20:35.988Z"
      },
      {
        "duration": 8,
        "start_time": "2023-04-21T05:20:36.903Z"
      },
      {
        "duration": 31,
        "start_time": "2023-04-21T05:20:43.497Z"
      },
      {
        "duration": 4,
        "start_time": "2023-04-21T05:22:33.089Z"
      },
      {
        "duration": 27,
        "start_time": "2023-04-21T05:22:33.804Z"
      },
      {
        "duration": 9,
        "start_time": "2023-04-21T05:22:49.808Z"
      },
      {
        "duration": 4,
        "start_time": "2023-04-21T05:25:43.498Z"
      },
      {
        "duration": 31,
        "start_time": "2023-04-21T05:25:44.389Z"
      },
      {
        "duration": 40,
        "start_time": "2023-04-21T05:26:17.754Z"
      },
      {
        "duration": 111,
        "start_time": "2023-04-21T05:27:02.921Z"
      },
      {
        "duration": 32,
        "start_time": "2023-04-21T05:27:03.598Z"
      },
      {
        "duration": 4,
        "start_time": "2023-04-21T05:27:29.003Z"
      },
      {
        "duration": 104,
        "start_time": "2023-04-21T05:27:29.949Z"
      },
      {
        "duration": 47,
        "start_time": "2023-04-21T05:27:34.078Z"
      },
      {
        "duration": 79,
        "start_time": "2023-04-21T05:27:55.332Z"
      },
      {
        "duration": 5,
        "start_time": "2023-04-21T05:28:15.208Z"
      },
      {
        "duration": 9,
        "start_time": "2023-04-21T05:28:16.502Z"
      },
      {
        "duration": 36,
        "start_time": "2023-04-21T05:28:32.106Z"
      },
      {
        "duration": 4,
        "start_time": "2023-04-21T05:30:00.632Z"
      },
      {
        "duration": 23,
        "start_time": "2023-04-21T05:30:01.494Z"
      },
      {
        "duration": 4,
        "start_time": "2023-04-21T05:30:34.730Z"
      },
      {
        "duration": 12,
        "start_time": "2023-04-21T05:30:35.301Z"
      },
      {
        "duration": 12,
        "start_time": "2023-04-21T05:30:58.510Z"
      },
      {
        "duration": 3,
        "start_time": "2023-04-21T05:38:52.815Z"
      },
      {
        "duration": 9,
        "start_time": "2023-04-21T05:38:53.238Z"
      },
      {
        "duration": 1528,
        "start_time": "2023-04-21T05:42:28.923Z"
      },
      {
        "duration": 8,
        "start_time": "2023-04-21T05:42:32.923Z"
      },
      {
        "duration": 7,
        "start_time": "2023-04-21T05:42:53.461Z"
      },
      {
        "duration": 18,
        "start_time": "2023-04-21T05:43:11.052Z"
      },
      {
        "duration": 7,
        "start_time": "2023-04-21T05:43:55.655Z"
      },
      {
        "duration": 13,
        "start_time": "2023-04-21T05:43:59.465Z"
      },
      {
        "duration": 8,
        "start_time": "2023-04-21T05:44:04.172Z"
      },
      {
        "duration": 6,
        "start_time": "2023-04-21T05:44:11.347Z"
      },
      {
        "duration": 8,
        "start_time": "2023-04-21T05:44:15.897Z"
      },
      {
        "duration": 12,
        "start_time": "2023-04-21T05:44:26.321Z"
      },
      {
        "duration": 14,
        "start_time": "2023-04-21T05:45:10.692Z"
      },
      {
        "duration": 12,
        "start_time": "2023-04-21T05:49:36.315Z"
      },
      {
        "duration": 12,
        "start_time": "2023-04-21T05:49:37.018Z"
      },
      {
        "duration": 12,
        "start_time": "2023-04-21T05:49:37.563Z"
      },
      {
        "duration": 12,
        "start_time": "2023-04-21T05:49:38.309Z"
      },
      {
        "duration": 11,
        "start_time": "2023-04-21T05:53:10.728Z"
      },
      {
        "duration": 11,
        "start_time": "2023-04-21T05:53:11.197Z"
      },
      {
        "duration": 11,
        "start_time": "2023-04-21T05:53:11.797Z"
      },
      {
        "duration": 11,
        "start_time": "2023-04-21T05:53:12.356Z"
      },
      {
        "duration": 15,
        "start_time": "2023-04-21T05:53:12.789Z"
      },
      {
        "duration": 11,
        "start_time": "2023-04-21T05:53:13.278Z"
      },
      {
        "duration": 14,
        "start_time": "2023-04-21T05:53:13.699Z"
      },
      {
        "duration": 10,
        "start_time": "2023-04-21T05:53:14.147Z"
      },
      {
        "duration": 13,
        "start_time": "2023-04-21T05:53:18.668Z"
      },
      {
        "duration": 10,
        "start_time": "2023-04-21T05:53:19.760Z"
      },
      {
        "duration": 18,
        "start_time": "2023-04-21T05:53:20.677Z"
      },
      {
        "duration": 10,
        "start_time": "2023-04-21T05:53:21.314Z"
      },
      {
        "duration": 10,
        "start_time": "2023-04-21T05:53:58.035Z"
      },
      {
        "duration": 11,
        "start_time": "2023-04-21T05:54:01.915Z"
      },
      {
        "duration": 11,
        "start_time": "2023-04-21T05:54:09.733Z"
      },
      {
        "duration": 11,
        "start_time": "2023-04-21T05:54:17.901Z"
      },
      {
        "duration": 9,
        "start_time": "2023-04-21T05:54:24.208Z"
      },
      {
        "duration": 11,
        "start_time": "2023-04-21T05:54:47.158Z"
      },
      {
        "duration": 12,
        "start_time": "2023-04-21T05:54:53.592Z"
      },
      {
        "duration": 11,
        "start_time": "2023-04-21T05:55:09.894Z"
      },
      {
        "duration": 11,
        "start_time": "2023-04-21T05:55:10.698Z"
      },
      {
        "duration": 13,
        "start_time": "2023-04-21T05:55:10.993Z"
      },
      {
        "duration": 9,
        "start_time": "2023-04-21T05:55:11.215Z"
      },
      {
        "duration": 9,
        "start_time": "2023-04-21T05:55:11.423Z"
      },
      {
        "duration": 11,
        "start_time": "2023-04-21T05:55:11.597Z"
      },
      {
        "duration": 11,
        "start_time": "2023-04-21T05:55:11.786Z"
      },
      {
        "duration": 11,
        "start_time": "2023-04-21T05:55:11.916Z"
      },
      {
        "duration": 11,
        "start_time": "2023-04-21T05:55:12.098Z"
      },
      {
        "duration": 9,
        "start_time": "2023-04-21T05:55:12.239Z"
      },
      {
        "duration": 11,
        "start_time": "2023-04-21T05:55:12.401Z"
      },
      {
        "duration": 10,
        "start_time": "2023-04-21T05:55:12.536Z"
      },
      {
        "duration": 9,
        "start_time": "2023-04-21T05:55:12.702Z"
      },
      {
        "duration": 9,
        "start_time": "2023-04-21T05:55:12.862Z"
      },
      {
        "duration": 17,
        "start_time": "2023-04-21T05:55:13.094Z"
      },
      {
        "duration": 10,
        "start_time": "2023-04-21T05:55:13.917Z"
      },
      {
        "duration": 10,
        "start_time": "2023-04-21T06:08:24.900Z"
      },
      {
        "duration": 295,
        "start_time": "2023-04-21T06:11:09.300Z"
      },
      {
        "duration": 12,
        "start_time": "2023-04-21T06:11:25.982Z"
      },
      {
        "duration": 10,
        "start_time": "2023-04-21T06:11:31.419Z"
      },
      {
        "duration": 10,
        "start_time": "2023-04-21T06:11:53.733Z"
      },
      {
        "duration": 12,
        "start_time": "2023-04-21T06:12:01.453Z"
      },
      {
        "duration": 12,
        "start_time": "2023-04-21T06:21:06.331Z"
      },
      {
        "duration": 4,
        "start_time": "2023-04-21T06:21:25.419Z"
      },
      {
        "duration": 11,
        "start_time": "2023-04-21T06:21:26.254Z"
      },
      {
        "duration": 103,
        "start_time": "2023-04-21T06:21:32.035Z"
      },
      {
        "duration": 22,
        "start_time": "2023-04-21T06:21:35.968Z"
      },
      {
        "duration": 12,
        "start_time": "2023-04-21T06:25:13.653Z"
      },
      {
        "duration": 11,
        "start_time": "2023-04-21T06:25:15.370Z"
      },
      {
        "duration": 10,
        "start_time": "2023-04-21T06:25:16.700Z"
      },
      {
        "duration": 9,
        "start_time": "2023-04-21T06:25:18.236Z"
      },
      {
        "duration": 10,
        "start_time": "2023-04-21T06:27:12.361Z"
      },
      {
        "duration": 11,
        "start_time": "2023-04-21T06:27:12.741Z"
      },
      {
        "duration": 12,
        "start_time": "2023-04-21T06:27:13.192Z"
      },
      {
        "duration": 13,
        "start_time": "2023-04-21T06:27:13.630Z"
      },
      {
        "duration": 103,
        "start_time": "2023-04-21T06:29:02.021Z"
      },
      {
        "duration": 48,
        "start_time": "2023-04-21T06:29:07.735Z"
      },
      {
        "duration": 56,
        "start_time": "2023-04-21T06:29:20.265Z"
      },
      {
        "duration": 16,
        "start_time": "2023-04-21T06:29:51.391Z"
      },
      {
        "duration": 16,
        "start_time": "2023-04-21T06:30:35.165Z"
      },
      {
        "duration": 11,
        "start_time": "2023-04-21T06:31:11.526Z"
      },
      {
        "duration": 12,
        "start_time": "2023-04-21T06:31:11.932Z"
      },
      {
        "duration": 10,
        "start_time": "2023-04-21T06:31:12.388Z"
      },
      {
        "duration": 12,
        "start_time": "2023-04-21T06:31:12.828Z"
      },
      {
        "duration": 10,
        "start_time": "2023-04-21T06:31:20.730Z"
      },
      {
        "duration": 15,
        "start_time": "2023-04-21T06:31:21.375Z"
      },
      {
        "duration": 10,
        "start_time": "2023-04-21T06:31:21.762Z"
      },
      {
        "duration": 10,
        "start_time": "2023-04-21T06:31:22.290Z"
      },
      {
        "duration": 4,
        "start_time": "2023-04-21T06:34:06.941Z"
      },
      {
        "duration": 9,
        "start_time": "2023-04-21T06:34:12.464Z"
      },
      {
        "duration": 10,
        "start_time": "2023-04-21T06:34:32.021Z"
      },
      {
        "duration": 92,
        "start_time": "2023-04-21T06:34:43.120Z"
      },
      {
        "duration": 10,
        "start_time": "2023-04-21T06:34:49.688Z"
      },
      {
        "duration": 3,
        "start_time": "2023-04-21T06:35:32.695Z"
      },
      {
        "duration": 9,
        "start_time": "2023-04-21T06:35:33.826Z"
      },
      {
        "duration": 9,
        "start_time": "2023-04-21T06:35:42.697Z"
      },
      {
        "duration": 11,
        "start_time": "2023-04-21T06:37:02.183Z"
      },
      {
        "duration": 9,
        "start_time": "2023-04-21T06:37:07.659Z"
      },
      {
        "duration": 8,
        "start_time": "2023-04-21T06:37:08.866Z"
      },
      {
        "duration": 11,
        "start_time": "2023-04-21T06:37:21.546Z"
      },
      {
        "duration": 13,
        "start_time": "2023-04-21T06:37:31.549Z"
      },
      {
        "duration": 11,
        "start_time": "2023-04-21T06:37:52.643Z"
      },
      {
        "duration": 13,
        "start_time": "2023-04-21T06:37:53.790Z"
      },
      {
        "duration": 10,
        "start_time": "2023-04-21T06:38:42.344Z"
      },
      {
        "duration": 9,
        "start_time": "2023-04-21T06:38:46.928Z"
      },
      {
        "duration": 11,
        "start_time": "2023-04-21T06:41:40.054Z"
      },
      {
        "duration": 11,
        "start_time": "2023-04-21T06:41:40.198Z"
      },
      {
        "duration": 12,
        "start_time": "2023-04-21T06:41:40.353Z"
      },
      {
        "duration": 10,
        "start_time": "2023-04-21T06:41:40.540Z"
      },
      {
        "duration": 9,
        "start_time": "2023-04-21T06:41:40.656Z"
      },
      {
        "duration": 9,
        "start_time": "2023-04-21T06:41:40.846Z"
      },
      {
        "duration": 10,
        "start_time": "2023-04-21T06:41:40.986Z"
      },
      {
        "duration": 11,
        "start_time": "2023-04-21T06:41:41.130Z"
      },
      {
        "duration": 10,
        "start_time": "2023-04-21T06:41:41.733Z"
      },
      {
        "duration": 16,
        "start_time": "2023-04-21T06:41:41.767Z"
      },
      {
        "duration": 11,
        "start_time": "2023-04-21T06:41:42.460Z"
      },
      {
        "duration": 12,
        "start_time": "2023-04-21T06:41:42.651Z"
      },
      {
        "duration": 13,
        "start_time": "2023-04-21T06:41:42.854Z"
      },
      {
        "duration": 12,
        "start_time": "2023-04-21T06:41:43.037Z"
      },
      {
        "duration": 12,
        "start_time": "2023-04-21T06:41:43.200Z"
      },
      {
        "duration": 157,
        "start_time": "2023-04-21T06:41:43.367Z"
      },
      {
        "duration": 13,
        "start_time": "2023-04-21T06:41:48.379Z"
      },
      {
        "duration": 12,
        "start_time": "2023-04-21T06:41:49.833Z"
      },
      {
        "duration": 12,
        "start_time": "2023-04-21T06:41:50.033Z"
      },
      {
        "duration": 10,
        "start_time": "2023-04-21T06:41:50.187Z"
      },
      {
        "duration": 12,
        "start_time": "2023-04-21T06:41:50.369Z"
      },
      {
        "duration": 11,
        "start_time": "2023-04-21T06:41:50.533Z"
      },
      {
        "duration": 11,
        "start_time": "2023-04-21T06:41:50.729Z"
      },
      {
        "duration": 11,
        "start_time": "2023-04-21T06:41:50.867Z"
      },
      {
        "duration": 10,
        "start_time": "2023-04-21T06:41:51.045Z"
      },
      {
        "duration": 11,
        "start_time": "2023-04-21T06:41:51.333Z"
      },
      {
        "duration": 10,
        "start_time": "2023-04-21T06:41:51.491Z"
      },
      {
        "duration": 9,
        "start_time": "2023-04-21T06:41:51.856Z"
      },
      {
        "duration": 10,
        "start_time": "2023-04-21T06:41:52.089Z"
      },
      {
        "duration": 10,
        "start_time": "2023-04-21T06:41:52.353Z"
      },
      {
        "duration": 9,
        "start_time": "2023-04-21T06:41:52.560Z"
      },
      {
        "duration": 11,
        "start_time": "2023-04-21T06:41:52.764Z"
      },
      {
        "duration": 10,
        "start_time": "2023-04-21T06:41:52.853Z"
      },
      {
        "duration": 10,
        "start_time": "2023-04-21T06:47:53.537Z"
      },
      {
        "duration": 19,
        "start_time": "2023-04-21T07:20:51.464Z"
      },
      {
        "duration": 15,
        "start_time": "2023-04-21T07:22:20.769Z"
      },
      {
        "duration": 15,
        "start_time": "2023-04-21T07:23:05.114Z"
      },
      {
        "duration": 11,
        "start_time": "2023-04-21T07:23:17.407Z"
      },
      {
        "duration": 12,
        "start_time": "2023-04-21T07:23:30.126Z"
      },
      {
        "duration": 11,
        "start_time": "2023-04-21T07:24:15.160Z"
      },
      {
        "duration": 10,
        "start_time": "2023-04-21T07:24:32.510Z"
      },
      {
        "duration": 14,
        "start_time": "2023-04-21T07:24:32.898Z"
      },
      {
        "duration": 11,
        "start_time": "2023-04-21T07:24:33.049Z"
      },
      {
        "duration": 10,
        "start_time": "2023-04-21T07:24:33.212Z"
      },
      {
        "duration": 12,
        "start_time": "2023-04-21T07:24:33.386Z"
      },
      {
        "duration": 10,
        "start_time": "2023-04-21T07:24:33.521Z"
      },
      {
        "duration": 10,
        "start_time": "2023-04-21T07:24:33.710Z"
      },
      {
        "duration": 11,
        "start_time": "2023-04-21T07:24:33.886Z"
      },
      {
        "duration": 9,
        "start_time": "2023-04-21T07:24:34.258Z"
      },
      {
        "duration": 9,
        "start_time": "2023-04-21T07:24:34.938Z"
      },
      {
        "duration": 13,
        "start_time": "2023-04-21T07:24:35.099Z"
      },
      {
        "duration": 12,
        "start_time": "2023-04-21T07:24:35.287Z"
      },
      {
        "duration": 12,
        "start_time": "2023-04-21T07:24:35.447Z"
      },
      {
        "duration": 12,
        "start_time": "2023-04-21T07:24:35.656Z"
      },
      {
        "duration": 13,
        "start_time": "2023-04-21T07:24:35.804Z"
      },
      {
        "duration": 11,
        "start_time": "2023-04-21T07:24:36.002Z"
      },
      {
        "duration": 11,
        "start_time": "2023-04-21T07:24:36.894Z"
      },
      {
        "duration": 11,
        "start_time": "2023-04-21T07:24:37.053Z"
      },
      {
        "duration": 10,
        "start_time": "2023-04-21T07:24:37.202Z"
      },
      {
        "duration": 9,
        "start_time": "2023-04-21T07:24:37.361Z"
      },
      {
        "duration": 12,
        "start_time": "2023-04-21T07:24:37.495Z"
      },
      {
        "duration": 14,
        "start_time": "2023-04-21T07:24:38.022Z"
      },
      {
        "duration": 15,
        "start_time": "2023-04-21T07:24:38.162Z"
      },
      {
        "duration": 13,
        "start_time": "2023-04-21T07:24:38.305Z"
      },
      {
        "duration": 10,
        "start_time": "2023-04-21T07:24:38.835Z"
      },
      {
        "duration": 11,
        "start_time": "2023-04-21T07:24:40.210Z"
      },
      {
        "duration": 11,
        "start_time": "2023-04-21T07:24:41.659Z"
      },
      {
        "duration": 10,
        "start_time": "2023-04-21T07:24:41.831Z"
      },
      {
        "duration": 12,
        "start_time": "2023-04-21T07:24:41.998Z"
      },
      {
        "duration": 9,
        "start_time": "2023-04-21T07:24:42.120Z"
      },
      {
        "duration": 11,
        "start_time": "2023-04-21T07:24:42.298Z"
      },
      {
        "duration": 9,
        "start_time": "2023-04-21T07:24:42.462Z"
      },
      {
        "duration": 11,
        "start_time": "2023-04-21T07:24:43.011Z"
      },
      {
        "duration": 22,
        "start_time": "2023-04-21T07:24:45.335Z"
      },
      {
        "duration": 3,
        "start_time": "2023-04-21T07:52:00.549Z"
      },
      {
        "duration": 11,
        "start_time": "2023-04-21T07:52:01.744Z"
      },
      {
        "duration": 23,
        "start_time": "2023-04-21T07:52:02.293Z"
      },
      {
        "duration": 11,
        "start_time": "2023-04-21T07:52:02.906Z"
      },
      {
        "duration": 11,
        "start_time": "2023-04-21T07:52:03.535Z"
      },
      {
        "duration": 11,
        "start_time": "2023-04-21T07:52:04.511Z"
      },
      {
        "duration": 24,
        "start_time": "2023-04-21T07:52:05.993Z"
      },
      {
        "duration": 12,
        "start_time": "2023-04-21T07:52:06.600Z"
      },
      {
        "duration": 10,
        "start_time": "2023-04-21T07:52:07.239Z"
      },
      {
        "duration": 10,
        "start_time": "2023-04-21T07:52:09.112Z"
      },
      {
        "duration": 12,
        "start_time": "2023-04-21T07:52:09.733Z"
      },
      {
        "duration": 11,
        "start_time": "2023-04-21T07:52:10.439Z"
      },
      {
        "duration": 9,
        "start_time": "2023-04-21T07:52:11.020Z"
      },
      {
        "duration": 9,
        "start_time": "2023-04-21T07:52:11.734Z"
      },
      {
        "duration": 9,
        "start_time": "2023-04-21T07:52:12.004Z"
      },
      {
        "duration": 10,
        "start_time": "2023-04-21T07:52:12.295Z"
      },
      {
        "duration": 9,
        "start_time": "2023-04-21T07:52:12.605Z"
      },
      {
        "duration": 32,
        "start_time": "2023-04-21T07:53:20.802Z"
      },
      {
        "duration": 10,
        "start_time": "2023-04-21T07:53:50.398Z"
      },
      {
        "duration": 9,
        "start_time": "2023-04-21T07:54:13.920Z"
      },
      {
        "duration": 8,
        "start_time": "2023-04-21T07:54:50.621Z"
      },
      {
        "duration": 25,
        "start_time": "2023-04-21T07:55:08.188Z"
      },
      {
        "duration": 9,
        "start_time": "2023-04-21T07:55:35.120Z"
      },
      {
        "duration": 1189,
        "start_time": "2023-04-21T09:21:37.708Z"
      },
      {
        "duration": 1127,
        "start_time": "2023-04-21T09:21:38.899Z"
      },
      {
        "duration": 3,
        "start_time": "2023-04-21T09:21:40.027Z"
      },
      {
        "duration": 82,
        "start_time": "2023-04-21T09:21:40.032Z"
      },
      {
        "duration": 3,
        "start_time": "2023-04-21T09:21:40.116Z"
      },
      {
        "duration": 15,
        "start_time": "2023-04-21T09:21:40.120Z"
      },
      {
        "duration": 4,
        "start_time": "2023-04-21T09:21:40.136Z"
      },
      {
        "duration": 11,
        "start_time": "2023-04-21T09:21:40.141Z"
      },
      {
        "duration": 55,
        "start_time": "2023-04-21T09:21:40.154Z"
      },
      {
        "duration": 7,
        "start_time": "2023-04-21T09:21:40.211Z"
      },
      {
        "duration": 8,
        "start_time": "2023-04-21T09:21:40.219Z"
      },
      {
        "duration": 6,
        "start_time": "2023-04-21T09:21:40.228Z"
      },
      {
        "duration": 35,
        "start_time": "2023-04-21T09:21:40.235Z"
      },
      {
        "duration": 25,
        "start_time": "2023-04-21T09:21:40.271Z"
      },
      {
        "duration": 18,
        "start_time": "2023-04-21T09:21:40.298Z"
      },
      {
        "duration": 9,
        "start_time": "2023-04-21T09:21:40.318Z"
      },
      {
        "duration": 3656,
        "start_time": "2023-04-21T09:21:40.329Z"
      },
      {
        "duration": 5765,
        "start_time": "2023-04-21T09:21:43.987Z"
      },
      {
        "duration": 8,
        "start_time": "2023-04-21T09:21:49.753Z"
      },
      {
        "duration": 39,
        "start_time": "2023-04-21T09:21:49.771Z"
      },
      {
        "duration": 26,
        "start_time": "2023-04-21T09:21:49.812Z"
      },
      {
        "duration": 395,
        "start_time": "2023-04-21T09:21:49.839Z"
      },
      {
        "duration": 6,
        "start_time": "2023-04-21T09:21:50.235Z"
      },
      {
        "duration": 6,
        "start_time": "2023-04-21T09:21:50.243Z"
      },
      {
        "duration": 8,
        "start_time": "2023-04-21T09:21:50.250Z"
      },
      {
        "duration": 12,
        "start_time": "2023-04-21T09:21:50.260Z"
      },
      {
        "duration": 58,
        "start_time": "2023-04-21T09:21:50.273Z"
      },
      {
        "duration": 7,
        "start_time": "2023-04-21T09:21:50.334Z"
      },
      {
        "duration": 5,
        "start_time": "2023-04-21T09:21:50.342Z"
      },
      {
        "duration": 11,
        "start_time": "2023-04-21T09:21:50.348Z"
      },
      {
        "duration": 9,
        "start_time": "2023-04-21T09:21:50.360Z"
      },
      {
        "duration": 11,
        "start_time": "2023-04-21T09:21:50.371Z"
      },
      {
        "duration": 4,
        "start_time": "2023-04-21T09:21:50.383Z"
      },
      {
        "duration": 64,
        "start_time": "2023-04-21T09:21:50.388Z"
      },
      {
        "duration": 74,
        "start_time": "2023-04-21T09:21:50.454Z"
      },
      {
        "duration": 3,
        "start_time": "2023-04-21T09:21:50.530Z"
      },
      {
        "duration": 30,
        "start_time": "2023-04-21T09:21:50.534Z"
      },
      {
        "duration": 29,
        "start_time": "2023-04-21T09:21:50.565Z"
      },
      {
        "duration": 32,
        "start_time": "2023-04-21T09:21:50.597Z"
      },
      {
        "duration": 27,
        "start_time": "2023-04-21T09:21:50.630Z"
      },
      {
        "duration": 10,
        "start_time": "2023-04-21T09:21:50.658Z"
      },
      {
        "duration": 45,
        "start_time": "2023-04-21T09:21:50.669Z"
      },
      {
        "duration": 34,
        "start_time": "2023-04-21T09:21:50.715Z"
      },
      {
        "duration": 19,
        "start_time": "2023-04-21T09:21:50.750Z"
      },
      {
        "duration": 52,
        "start_time": "2023-04-21T09:21:50.770Z"
      },
      {
        "duration": 22,
        "start_time": "2023-04-21T09:21:50.823Z"
      },
      {
        "duration": 14,
        "start_time": "2023-04-21T09:21:50.847Z"
      },
      {
        "duration": 48,
        "start_time": "2023-04-21T09:21:50.862Z"
      },
      {
        "duration": 20,
        "start_time": "2023-04-21T09:21:50.913Z"
      },
      {
        "duration": 31,
        "start_time": "2023-04-21T09:21:50.934Z"
      },
      {
        "duration": 82,
        "start_time": "2023-04-21T09:21:50.966Z"
      },
      {
        "duration": 25,
        "start_time": "2023-04-21T09:21:51.049Z"
      },
      {
        "duration": 47,
        "start_time": "2023-04-21T09:21:51.075Z"
      },
      {
        "duration": 24,
        "start_time": "2023-04-21T09:21:51.124Z"
      },
      {
        "duration": 24,
        "start_time": "2023-04-21T09:21:51.149Z"
      },
      {
        "duration": 66,
        "start_time": "2023-04-21T09:21:51.175Z"
      },
      {
        "duration": 81,
        "start_time": "2023-04-21T09:21:51.243Z"
      },
      {
        "duration": 1205,
        "start_time": "2023-04-21T09:28:23.210Z"
      },
      {
        "duration": 982,
        "start_time": "2023-04-21T09:28:24.417Z"
      },
      {
        "duration": 4,
        "start_time": "2023-04-21T09:28:25.401Z"
      },
      {
        "duration": 90,
        "start_time": "2023-04-21T09:28:25.406Z"
      },
      {
        "duration": 5,
        "start_time": "2023-04-21T09:28:25.499Z"
      },
      {
        "duration": 11,
        "start_time": "2023-04-21T09:28:25.505Z"
      },
      {
        "duration": 6,
        "start_time": "2023-04-21T09:28:25.518Z"
      },
      {
        "duration": 15,
        "start_time": "2023-04-21T09:28:25.525Z"
      },
      {
        "duration": 58,
        "start_time": "2023-04-21T09:28:25.541Z"
      },
      {
        "duration": 10,
        "start_time": "2023-04-21T09:28:25.601Z"
      },
      {
        "duration": 5,
        "start_time": "2023-04-21T09:28:25.613Z"
      },
      {
        "duration": 6,
        "start_time": "2023-04-21T09:28:25.620Z"
      },
      {
        "duration": 18,
        "start_time": "2023-04-21T09:28:25.628Z"
      },
      {
        "duration": 22,
        "start_time": "2023-04-21T09:28:25.674Z"
      },
      {
        "duration": 15,
        "start_time": "2023-04-21T09:28:25.700Z"
      },
      {
        "duration": 16,
        "start_time": "2023-04-21T09:28:25.716Z"
      },
      {
        "duration": 3862,
        "start_time": "2023-04-21T09:28:25.733Z"
      },
      {
        "duration": 5871,
        "start_time": "2023-04-21T09:28:29.601Z"
      },
      {
        "duration": 13,
        "start_time": "2023-04-21T09:28:35.482Z"
      },
      {
        "duration": 51,
        "start_time": "2023-04-21T09:28:35.496Z"
      },
      {
        "duration": 21,
        "start_time": "2023-04-21T09:28:35.548Z"
      },
      {
        "duration": 379,
        "start_time": "2023-04-21T09:28:35.570Z"
      },
      {
        "duration": 8,
        "start_time": "2023-04-21T09:28:35.950Z"
      },
      {
        "duration": 34,
        "start_time": "2023-04-21T09:28:35.959Z"
      },
      {
        "duration": 19,
        "start_time": "2023-04-21T09:28:35.997Z"
      },
      {
        "duration": 14,
        "start_time": "2023-04-21T09:28:36.017Z"
      },
      {
        "duration": 35,
        "start_time": "2023-04-21T09:28:36.032Z"
      },
      {
        "duration": 55,
        "start_time": "2023-04-21T09:28:36.069Z"
      },
      {
        "duration": 10,
        "start_time": "2023-04-21T09:28:36.126Z"
      },
      {
        "duration": 23,
        "start_time": "2023-04-21T09:28:36.138Z"
      },
      {
        "duration": 67,
        "start_time": "2023-04-21T09:28:36.163Z"
      },
      {
        "duration": 19,
        "start_time": "2023-04-21T09:28:36.232Z"
      },
      {
        "duration": 77,
        "start_time": "2023-04-21T09:28:36.252Z"
      },
      {
        "duration": 7,
        "start_time": "2023-04-21T09:28:36.331Z"
      },
      {
        "duration": 13,
        "start_time": "2023-04-21T09:28:36.340Z"
      },
      {
        "duration": 3,
        "start_time": "2023-04-21T09:28:36.355Z"
      },
      {
        "duration": 46,
        "start_time": "2023-04-21T09:28:36.360Z"
      },
      {
        "duration": 16,
        "start_time": "2023-04-21T09:28:36.410Z"
      },
      {
        "duration": 22,
        "start_time": "2023-04-21T09:28:36.428Z"
      },
      {
        "duration": 15,
        "start_time": "2023-04-21T09:28:36.452Z"
      },
      {
        "duration": 13,
        "start_time": "2023-04-21T09:28:36.477Z"
      },
      {
        "duration": 43,
        "start_time": "2023-04-21T09:28:36.491Z"
      },
      {
        "duration": 79,
        "start_time": "2023-04-21T09:28:36.536Z"
      },
      {
        "duration": 20,
        "start_time": "2023-04-21T09:28:36.617Z"
      },
      {
        "duration": 12,
        "start_time": "2023-04-21T09:28:36.639Z"
      },
      {
        "duration": 15,
        "start_time": "2023-04-21T09:28:36.653Z"
      },
      {
        "duration": 58,
        "start_time": "2023-04-21T09:28:36.669Z"
      },
      {
        "duration": 11,
        "start_time": "2023-04-21T09:28:36.729Z"
      },
      {
        "duration": 13,
        "start_time": "2023-04-21T09:28:36.741Z"
      },
      {
        "duration": 8,
        "start_time": "2023-04-21T09:28:36.756Z"
      },
      {
        "duration": 10,
        "start_time": "2023-04-21T09:28:36.765Z"
      },
      {
        "duration": 51,
        "start_time": "2023-04-21T09:28:36.776Z"
      },
      {
        "duration": 15,
        "start_time": "2023-04-21T09:28:36.829Z"
      },
      {
        "duration": 9,
        "start_time": "2023-04-21T09:28:36.845Z"
      },
      {
        "duration": 13,
        "start_time": "2023-04-21T09:28:36.856Z"
      },
      {
        "duration": 54,
        "start_time": "2023-04-21T09:28:36.870Z"
      },
      {
        "duration": 1196,
        "start_time": "2023-04-21T09:32:34.851Z"
      },
      {
        "duration": 1144,
        "start_time": "2023-04-21T09:32:36.049Z"
      },
      {
        "duration": 3,
        "start_time": "2023-04-21T09:32:37.195Z"
      },
      {
        "duration": 95,
        "start_time": "2023-04-21T09:32:37.200Z"
      },
      {
        "duration": 5,
        "start_time": "2023-04-21T09:32:37.297Z"
      },
      {
        "duration": 12,
        "start_time": "2023-04-21T09:32:37.304Z"
      },
      {
        "duration": 4,
        "start_time": "2023-04-21T09:32:37.318Z"
      },
      {
        "duration": 12,
        "start_time": "2023-04-21T09:32:37.324Z"
      },
      {
        "duration": 32,
        "start_time": "2023-04-21T09:32:37.337Z"
      },
      {
        "duration": 26,
        "start_time": "2023-04-21T09:32:37.370Z"
      },
      {
        "duration": 11,
        "start_time": "2023-04-21T09:32:37.397Z"
      },
      {
        "duration": 6,
        "start_time": "2023-04-21T09:32:37.409Z"
      },
      {
        "duration": 33,
        "start_time": "2023-04-21T09:32:37.416Z"
      },
      {
        "duration": 4,
        "start_time": "2023-04-21T09:32:37.453Z"
      },
      {
        "duration": 22,
        "start_time": "2023-04-21T09:32:37.459Z"
      },
      {
        "duration": 21,
        "start_time": "2023-04-21T09:32:37.482Z"
      },
      {
        "duration": 3531,
        "start_time": "2023-04-21T09:32:37.504Z"
      },
      {
        "duration": 5206,
        "start_time": "2023-04-21T09:32:41.036Z"
      },
      {
        "duration": 8,
        "start_time": "2023-04-21T09:32:46.243Z"
      },
      {
        "duration": 154,
        "start_time": "2023-04-21T09:32:46.253Z"
      },
      {
        "duration": 307,
        "start_time": "2023-04-21T09:32:46.408Z"
      },
      {
        "duration": 6,
        "start_time": "2023-04-21T09:32:46.716Z"
      },
      {
        "duration": 15,
        "start_time": "2023-04-21T09:32:46.724Z"
      },
      {
        "duration": 57,
        "start_time": "2023-04-21T09:32:46.741Z"
      },
      {
        "duration": 33,
        "start_time": "2023-04-21T09:32:46.799Z"
      },
      {
        "duration": 78,
        "start_time": "2023-04-21T09:32:46.833Z"
      },
      {
        "duration": 6,
        "start_time": "2023-04-21T09:32:46.912Z"
      },
      {
        "duration": 17,
        "start_time": "2023-04-21T09:32:46.919Z"
      },
      {
        "duration": 14,
        "start_time": "2023-04-21T09:32:46.937Z"
      },
      {
        "duration": 48,
        "start_time": "2023-04-21T09:32:46.953Z"
      },
      {
        "duration": 31,
        "start_time": "2023-04-21T09:32:47.003Z"
      },
      {
        "duration": 28,
        "start_time": "2023-04-21T09:32:47.035Z"
      },
      {
        "duration": 50,
        "start_time": "2023-04-21T09:32:47.064Z"
      },
      {
        "duration": 35,
        "start_time": "2023-04-21T09:32:47.115Z"
      },
      {
        "duration": 45,
        "start_time": "2023-04-21T09:32:47.151Z"
      },
      {
        "duration": 25,
        "start_time": "2023-04-21T09:32:47.198Z"
      },
      {
        "duration": 27,
        "start_time": "2023-04-21T09:32:47.224Z"
      },
      {
        "duration": 23,
        "start_time": "2023-04-21T09:32:47.252Z"
      },
      {
        "duration": 31,
        "start_time": "2023-04-21T09:32:47.293Z"
      },
      {
        "duration": 18,
        "start_time": "2023-04-21T09:32:47.325Z"
      },
      {
        "duration": 13,
        "start_time": "2023-04-21T09:32:47.346Z"
      },
      {
        "duration": 11,
        "start_time": "2023-04-21T09:32:47.360Z"
      },
      {
        "duration": 27,
        "start_time": "2023-04-21T09:32:47.380Z"
      },
      {
        "duration": 13,
        "start_time": "2023-04-21T09:32:47.408Z"
      },
      {
        "duration": 15,
        "start_time": "2023-04-21T09:32:47.423Z"
      },
      {
        "duration": 17,
        "start_time": "2023-04-21T09:32:47.439Z"
      },
      {
        "duration": 9,
        "start_time": "2023-04-21T09:32:47.457Z"
      },
      {
        "duration": 14,
        "start_time": "2023-04-21T09:32:47.467Z"
      },
      {
        "duration": 29,
        "start_time": "2023-04-21T09:32:47.482Z"
      },
      {
        "duration": 9,
        "start_time": "2023-04-21T09:32:47.512Z"
      },
      {
        "duration": 18,
        "start_time": "2023-04-21T09:32:47.523Z"
      },
      {
        "duration": 20,
        "start_time": "2023-04-21T09:32:47.542Z"
      },
      {
        "duration": 26,
        "start_time": "2023-04-21T09:32:47.564Z"
      },
      {
        "duration": 21,
        "start_time": "2023-04-21T09:32:47.598Z"
      },
      {
        "duration": 24,
        "start_time": "2023-04-21T09:32:47.621Z"
      }
    ],
    "kernelspec": {
      "display_name": "Python 3 (ipykernel)",
      "language": "python",
      "name": "python3"
    },
    "language_info": {
      "codemirror_mode": {
        "name": "ipython",
        "version": 3
      },
      "file_extension": ".py",
      "mimetype": "text/x-python",
      "name": "python",
      "nbconvert_exporter": "python",
      "pygments_lexer": "ipython3",
      "version": "3.9.5"
    },
    "toc": {
      "base_numbering": 1,
      "nav_menu": {},
      "number_sections": true,
      "sideBar": true,
      "skip_h1_title": true,
      "title_cell": "Table of Contents",
      "title_sidebar": "Contents",
      "toc_cell": false,
      "toc_position": {},
      "toc_section_display": true,
      "toc_window_display": false
    },
    "colab": {
      "provenance": []
    }
  },
  "nbformat": 4,
  "nbformat_minor": 0
}