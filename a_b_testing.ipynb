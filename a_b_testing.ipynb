{
  "cells": [
    {
      "cell_type": "markdown",
      "metadata": {
        "id": "view-in-github",
        "colab_type": "text"
      },
      "source": [
        "<a href=\"https://colab.research.google.com/github/Anastasiamay/Study_projects/blob/main/a_b_testing.ipynb\" target=\"_parent\"><img src=\"https://colab.research.google.com/assets/colab-badge.svg\" alt=\"Open In Colab\"/></a>"
      ]
    },
    {
      "cell_type": "markdown",
      "metadata": {
        "id": "Ngqu-6ivLo7O"
      },
      "source": [
        "# Проект: Принятие решений в бизнесе"
      ]
    },
    {
      "cell_type": "markdown",
      "metadata": {
        "id": "lQSyGnxSLo7O"
      },
      "source": [
        "# Описание проекта\n",
        "Для анализа, отделом марктинга предоставлен датасет со списком подготовленных гипотез для повышения выручки интернет-магазина. Необходимо приоритизировать гипотезы, запустить A/B-тест и проанализировать его результат\n",
        "\n",
        "**Цель:** Провести анализ A/B-тестирования по приоритизированным гипотезам, обосновать принятое решение по результатам теста\n",
        "\n",
        "**Краткий план исследования**:\n",
        "* Изучить общую информацию и подготовить данные для дальнейшего исследования\n",
        "* Провести приоритизацию гипотез\n",
        "* Проанализировать результаты A/B-тестирования"
      ]
    },
    {
      "cell_type": "markdown",
      "metadata": {
        "id": "RLZXZ1_vLo7Q"
      },
      "source": [
        "### Загрузка данных и подготовка их к анализу"
      ]
    },
    {
      "cell_type": "code",
      "execution_count": 152,
      "metadata": {
        "id": "KRr1aU0gLo7R"
      },
      "outputs": [],
      "source": [
        "import pandas as pd\n",
        "import scipy.stats as stats\n",
        "import datetime as dt\n",
        "import numpy as np\n",
        "from matplotlib import pyplot as plt"
      ]
    },
    {
      "cell_type": "code",
      "source": [
        "!gdown --id 1Ltsvfi5iU9-CRy2zMYiYXT5r1MqBtQmm\n",
        "!gdown --id 1TDmcyCx9Nz6K73zD-mgrC7iwk5QYqyw4\n",
        "!gdown --id 1ouvKwFdh47QFN9YI5G_qe8eGI0kSu2DE"
      ],
      "metadata": {
        "colab": {
          "base_uri": "https://localhost:8080/"
        },
        "id": "MA9gd4meMD3T",
        "outputId": "5e16ed46-ade3-4d7e-dfbc-d0ee1d76a5eb"
      },
      "execution_count": 153,
      "outputs": [
        {
          "output_type": "stream",
          "name": "stdout",
          "text": [
            "/usr/local/lib/python3.8/dist-packages/gdown/cli.py:127: FutureWarning: Option `--id` was deprecated in version 4.3.1 and will be removed in 5.0. You don't need to pass it anymore to use a file ID.\n",
            "  warnings.warn(\n",
            "Downloading...\n",
            "From: https://drive.google.com/uc?id=1Ltsvfi5iU9-CRy2zMYiYXT5r1MqBtQmm\n",
            "To: /content/visitors.csv\n",
            "100% 1.14k/1.14k [00:00<00:00, 2.09MB/s]\n",
            "/usr/local/lib/python3.8/dist-packages/gdown/cli.py:127: FutureWarning: Option `--id` was deprecated in version 4.3.1 and will be removed in 5.0. You don't need to pass it anymore to use a file ID.\n",
            "  warnings.warn(\n",
            "Downloading...\n",
            "From: https://drive.google.com/uc?id=1TDmcyCx9Nz6K73zD-mgrC7iwk5QYqyw4\n",
            "To: /content/orders.csv\n",
            "100% 48.5k/48.5k [00:00<00:00, 56.4MB/s]\n",
            "/usr/local/lib/python3.8/dist-packages/gdown/cli.py:127: FutureWarning: Option `--id` was deprecated in version 4.3.1 and will be removed in 5.0. You don't need to pass it anymore to use a file ID.\n",
            "  warnings.warn(\n",
            "Downloading...\n",
            "From: https://drive.google.com/uc?id=1ouvKwFdh47QFN9YI5G_qe8eGI0kSu2DE\n",
            "To: /content/hypothesis.csv\n",
            "100% 1.63k/1.63k [00:00<00:00, 2.85MB/s]\n"
          ]
        }
      ]
    },
    {
      "cell_type": "code",
      "execution_count": 154,
      "metadata": {
        "id": "TgZNttcpLo7U"
      },
      "outputs": [],
      "source": [
        "hypothesis, order, visitors = (\n",
        "    pd.read_csv('hypothesis.csv'), \n",
        "    pd.read_csv('orders.csv'), \n",
        "    pd.read_csv('visitors.csv')\n",
        ")"
      ]
    },
    {
      "cell_type": "code",
      "execution_count": 155,
      "metadata": {
        "id": "IXSSdqOjLo7W"
      },
      "outputs": [],
      "source": [
        "def data_info(name_data):\n",
        "    display(name_data.head())\n",
        "    display(name_data.info())\n",
        "    print(f'Количество дубликатов:{name_data.duplicated().sum()}')\n",
        "    print(f'Количество пропусков: \\n{name_data.isna().sum()}')"
      ]
    },
    {
      "cell_type": "code",
      "execution_count": 156,
      "metadata": {
        "colab": {
          "base_uri": "https://localhost:8080/",
          "height": 571
        },
        "id": "XyoxcI_TLo7X",
        "outputId": "8a0ee6e3-c0c0-4676-b499-da34da61d5d3"
      },
      "outputs": [
        {
          "output_type": "display_data",
          "data": {
            "text/plain": [
              "                                                                                                     Hypothesis  \\\n",
              "0            Добавить два новых канала привлечения трафика, что позволит привлекать на 30% больше пользователей   \n",
              "1                                     Запустить собственную службу доставки, что сократит срок доставки заказов   \n",
              "2  Добавить блоки рекомендаций товаров на сайт интернет магазина, чтобы повысить конверсию и средний чек заказа   \n",
              "3           Изменить структура категорий, что увеличит конверсию, т.к. пользователи быстрее найдут нужный товар   \n",
              "4                              Изменить цвет фона главной страницы, чтобы увеличить вовлеченность пользователей   \n",
              "\n",
              "   Reach  Impact  Confidence  Efforts  \n",
              "0      3      10           8        6  \n",
              "1      2       5           4       10  \n",
              "2      8       3           7        3  \n",
              "3      8       3           3        8  \n",
              "4      3       1           1        1  "
            ],
            "text/html": [
              "\n",
              "  <div id=\"df-3990ffa4-0d6c-4fea-8b50-b197c5dc6a12\">\n",
              "    <div class=\"colab-df-container\">\n",
              "      <div>\n",
              "<style scoped>\n",
              "    .dataframe tbody tr th:only-of-type {\n",
              "        vertical-align: middle;\n",
              "    }\n",
              "\n",
              "    .dataframe tbody tr th {\n",
              "        vertical-align: top;\n",
              "    }\n",
              "\n",
              "    .dataframe thead th {\n",
              "        text-align: right;\n",
              "    }\n",
              "</style>\n",
              "<table border=\"1\" class=\"dataframe\">\n",
              "  <thead>\n",
              "    <tr style=\"text-align: right;\">\n",
              "      <th></th>\n",
              "      <th>Hypothesis</th>\n",
              "      <th>Reach</th>\n",
              "      <th>Impact</th>\n",
              "      <th>Confidence</th>\n",
              "      <th>Efforts</th>\n",
              "    </tr>\n",
              "  </thead>\n",
              "  <tbody>\n",
              "    <tr>\n",
              "      <th>0</th>\n",
              "      <td>Добавить два новых канала привлечения трафика, что позволит привлекать на 30% больше пользователей</td>\n",
              "      <td>3</td>\n",
              "      <td>10</td>\n",
              "      <td>8</td>\n",
              "      <td>6</td>\n",
              "    </tr>\n",
              "    <tr>\n",
              "      <th>1</th>\n",
              "      <td>Запустить собственную службу доставки, что сократит срок доставки заказов</td>\n",
              "      <td>2</td>\n",
              "      <td>5</td>\n",
              "      <td>4</td>\n",
              "      <td>10</td>\n",
              "    </tr>\n",
              "    <tr>\n",
              "      <th>2</th>\n",
              "      <td>Добавить блоки рекомендаций товаров на сайт интернет магазина, чтобы повысить конверсию и средний чек заказа</td>\n",
              "      <td>8</td>\n",
              "      <td>3</td>\n",
              "      <td>7</td>\n",
              "      <td>3</td>\n",
              "    </tr>\n",
              "    <tr>\n",
              "      <th>3</th>\n",
              "      <td>Изменить структура категорий, что увеличит конверсию, т.к. пользователи быстрее найдут нужный товар</td>\n",
              "      <td>8</td>\n",
              "      <td>3</td>\n",
              "      <td>3</td>\n",
              "      <td>8</td>\n",
              "    </tr>\n",
              "    <tr>\n",
              "      <th>4</th>\n",
              "      <td>Изменить цвет фона главной страницы, чтобы увеличить вовлеченность пользователей</td>\n",
              "      <td>3</td>\n",
              "      <td>1</td>\n",
              "      <td>1</td>\n",
              "      <td>1</td>\n",
              "    </tr>\n",
              "  </tbody>\n",
              "</table>\n",
              "</div>\n",
              "      <button class=\"colab-df-convert\" onclick=\"convertToInteractive('df-3990ffa4-0d6c-4fea-8b50-b197c5dc6a12')\"\n",
              "              title=\"Convert this dataframe to an interactive table.\"\n",
              "              style=\"display:none;\">\n",
              "        \n",
              "  <svg xmlns=\"http://www.w3.org/2000/svg\" height=\"24px\"viewBox=\"0 0 24 24\"\n",
              "       width=\"24px\">\n",
              "    <path d=\"M0 0h24v24H0V0z\" fill=\"none\"/>\n",
              "    <path d=\"M18.56 5.44l.94 2.06.94-2.06 2.06-.94-2.06-.94-.94-2.06-.94 2.06-2.06.94zm-11 1L8.5 8.5l.94-2.06 2.06-.94-2.06-.94L8.5 2.5l-.94 2.06-2.06.94zm10 10l.94 2.06.94-2.06 2.06-.94-2.06-.94-.94-2.06-.94 2.06-2.06.94z\"/><path d=\"M17.41 7.96l-1.37-1.37c-.4-.4-.92-.59-1.43-.59-.52 0-1.04.2-1.43.59L10.3 9.45l-7.72 7.72c-.78.78-.78 2.05 0 2.83L4 21.41c.39.39.9.59 1.41.59.51 0 1.02-.2 1.41-.59l7.78-7.78 2.81-2.81c.8-.78.8-2.07 0-2.86zM5.41 20L4 18.59l7.72-7.72 1.47 1.35L5.41 20z\"/>\n",
              "  </svg>\n",
              "      </button>\n",
              "      \n",
              "  <style>\n",
              "    .colab-df-container {\n",
              "      display:flex;\n",
              "      flex-wrap:wrap;\n",
              "      gap: 12px;\n",
              "    }\n",
              "\n",
              "    .colab-df-convert {\n",
              "      background-color: #E8F0FE;\n",
              "      border: none;\n",
              "      border-radius: 50%;\n",
              "      cursor: pointer;\n",
              "      display: none;\n",
              "      fill: #1967D2;\n",
              "      height: 32px;\n",
              "      padding: 0 0 0 0;\n",
              "      width: 32px;\n",
              "    }\n",
              "\n",
              "    .colab-df-convert:hover {\n",
              "      background-color: #E2EBFA;\n",
              "      box-shadow: 0px 1px 2px rgba(60, 64, 67, 0.3), 0px 1px 3px 1px rgba(60, 64, 67, 0.15);\n",
              "      fill: #174EA6;\n",
              "    }\n",
              "\n",
              "    [theme=dark] .colab-df-convert {\n",
              "      background-color: #3B4455;\n",
              "      fill: #D2E3FC;\n",
              "    }\n",
              "\n",
              "    [theme=dark] .colab-df-convert:hover {\n",
              "      background-color: #434B5C;\n",
              "      box-shadow: 0px 1px 3px 1px rgba(0, 0, 0, 0.15);\n",
              "      filter: drop-shadow(0px 1px 2px rgba(0, 0, 0, 0.3));\n",
              "      fill: #FFFFFF;\n",
              "    }\n",
              "  </style>\n",
              "\n",
              "      <script>\n",
              "        const buttonEl =\n",
              "          document.querySelector('#df-3990ffa4-0d6c-4fea-8b50-b197c5dc6a12 button.colab-df-convert');\n",
              "        buttonEl.style.display =\n",
              "          google.colab.kernel.accessAllowed ? 'block' : 'none';\n",
              "\n",
              "        async function convertToInteractive(key) {\n",
              "          const element = document.querySelector('#df-3990ffa4-0d6c-4fea-8b50-b197c5dc6a12');\n",
              "          const dataTable =\n",
              "            await google.colab.kernel.invokeFunction('convertToInteractive',\n",
              "                                                     [key], {});\n",
              "          if (!dataTable) return;\n",
              "\n",
              "          const docLinkHtml = 'Like what you see? Visit the ' +\n",
              "            '<a target=\"_blank\" href=https://colab.research.google.com/notebooks/data_table.ipynb>data table notebook</a>'\n",
              "            + ' to learn more about interactive tables.';\n",
              "          element.innerHTML = '';\n",
              "          dataTable['output_type'] = 'display_data';\n",
              "          await google.colab.output.renderOutput(dataTable, element);\n",
              "          const docLink = document.createElement('div');\n",
              "          docLink.innerHTML = docLinkHtml;\n",
              "          element.appendChild(docLink);\n",
              "        }\n",
              "      </script>\n",
              "    </div>\n",
              "  </div>\n",
              "  "
            ]
          },
          "metadata": {}
        },
        {
          "output_type": "stream",
          "name": "stdout",
          "text": [
            "<class 'pandas.core.frame.DataFrame'>\n",
            "RangeIndex: 9 entries, 0 to 8\n",
            "Data columns (total 5 columns):\n",
            " #   Column      Non-Null Count  Dtype \n",
            "---  ------      --------------  ----- \n",
            " 0   Hypothesis  9 non-null      object\n",
            " 1   Reach       9 non-null      int64 \n",
            " 2   Impact      9 non-null      int64 \n",
            " 3   Confidence  9 non-null      int64 \n",
            " 4   Efforts     9 non-null      int64 \n",
            "dtypes: int64(4), object(1)\n",
            "memory usage: 488.0+ bytes\n"
          ]
        },
        {
          "output_type": "display_data",
          "data": {
            "text/plain": [
              "None"
            ]
          },
          "metadata": {}
        },
        {
          "output_type": "stream",
          "name": "stdout",
          "text": [
            "Количество дубликатов:0\n",
            "Количество пропусков: \n",
            "Hypothesis    0\n",
            "Reach         0\n",
            "Impact        0\n",
            "Confidence    0\n",
            "Efforts       0\n",
            "dtype: int64\n"
          ]
        }
      ],
      "source": [
        "data_info(hypothesis)"
      ]
    },
    {
      "cell_type": "markdown",
      "metadata": {
        "id": "DAjiyU_hLo7Z"
      },
      "source": [
        "Описание данных\n",
        "* Hypothesis — краткое описание гипотезы;\n",
        "* Reach — охват пользователей по 10-балльной шкале;\n",
        "* Impact — влияние на пользователей по 10-балльной шкале;\n",
        "* Confidence — уверенность в гипотезе по 10-балльной шкале;\n",
        "* Efforts — затраты ресурсов на проверку гипотезы по 10-балльной шкале. Чем больше значение Efforts, тем дороже проверка гипотезы."
      ]
    },
    {
      "cell_type": "code",
      "execution_count": 157,
      "metadata": {
        "colab": {
          "base_uri": "https://localhost:8080/",
          "height": 571
        },
        "id": "dVzN7PAoLo7a",
        "outputId": "17586a83-6a0c-4e34-f82e-d80196b0b115"
      },
      "outputs": [
        {
          "output_type": "display_data",
          "data": {
            "text/plain": [
              "   transactionId   visitorId        date  revenue group\n",
              "0     3667963787  3312258926  2019-08-15     1650     B\n",
              "1     2804400009  3642806036  2019-08-15      730     B\n",
              "2     2961555356  4069496402  2019-08-15      400     A\n",
              "3     3797467345  1196621759  2019-08-15     9759     B\n",
              "4     2282983706  2322279887  2019-08-15     2308     B"
            ],
            "text/html": [
              "\n",
              "  <div id=\"df-2ca4b6ce-82de-4e44-aaa4-2322ab829592\">\n",
              "    <div class=\"colab-df-container\">\n",
              "      <div>\n",
              "<style scoped>\n",
              "    .dataframe tbody tr th:only-of-type {\n",
              "        vertical-align: middle;\n",
              "    }\n",
              "\n",
              "    .dataframe tbody tr th {\n",
              "        vertical-align: top;\n",
              "    }\n",
              "\n",
              "    .dataframe thead th {\n",
              "        text-align: right;\n",
              "    }\n",
              "</style>\n",
              "<table border=\"1\" class=\"dataframe\">\n",
              "  <thead>\n",
              "    <tr style=\"text-align: right;\">\n",
              "      <th></th>\n",
              "      <th>transactionId</th>\n",
              "      <th>visitorId</th>\n",
              "      <th>date</th>\n",
              "      <th>revenue</th>\n",
              "      <th>group</th>\n",
              "    </tr>\n",
              "  </thead>\n",
              "  <tbody>\n",
              "    <tr>\n",
              "      <th>0</th>\n",
              "      <td>3667963787</td>\n",
              "      <td>3312258926</td>\n",
              "      <td>2019-08-15</td>\n",
              "      <td>1650</td>\n",
              "      <td>B</td>\n",
              "    </tr>\n",
              "    <tr>\n",
              "      <th>1</th>\n",
              "      <td>2804400009</td>\n",
              "      <td>3642806036</td>\n",
              "      <td>2019-08-15</td>\n",
              "      <td>730</td>\n",
              "      <td>B</td>\n",
              "    </tr>\n",
              "    <tr>\n",
              "      <th>2</th>\n",
              "      <td>2961555356</td>\n",
              "      <td>4069496402</td>\n",
              "      <td>2019-08-15</td>\n",
              "      <td>400</td>\n",
              "      <td>A</td>\n",
              "    </tr>\n",
              "    <tr>\n",
              "      <th>3</th>\n",
              "      <td>3797467345</td>\n",
              "      <td>1196621759</td>\n",
              "      <td>2019-08-15</td>\n",
              "      <td>9759</td>\n",
              "      <td>B</td>\n",
              "    </tr>\n",
              "    <tr>\n",
              "      <th>4</th>\n",
              "      <td>2282983706</td>\n",
              "      <td>2322279887</td>\n",
              "      <td>2019-08-15</td>\n",
              "      <td>2308</td>\n",
              "      <td>B</td>\n",
              "    </tr>\n",
              "  </tbody>\n",
              "</table>\n",
              "</div>\n",
              "      <button class=\"colab-df-convert\" onclick=\"convertToInteractive('df-2ca4b6ce-82de-4e44-aaa4-2322ab829592')\"\n",
              "              title=\"Convert this dataframe to an interactive table.\"\n",
              "              style=\"display:none;\">\n",
              "        \n",
              "  <svg xmlns=\"http://www.w3.org/2000/svg\" height=\"24px\"viewBox=\"0 0 24 24\"\n",
              "       width=\"24px\">\n",
              "    <path d=\"M0 0h24v24H0V0z\" fill=\"none\"/>\n",
              "    <path d=\"M18.56 5.44l.94 2.06.94-2.06 2.06-.94-2.06-.94-.94-2.06-.94 2.06-2.06.94zm-11 1L8.5 8.5l.94-2.06 2.06-.94-2.06-.94L8.5 2.5l-.94 2.06-2.06.94zm10 10l.94 2.06.94-2.06 2.06-.94-2.06-.94-.94-2.06-.94 2.06-2.06.94z\"/><path d=\"M17.41 7.96l-1.37-1.37c-.4-.4-.92-.59-1.43-.59-.52 0-1.04.2-1.43.59L10.3 9.45l-7.72 7.72c-.78.78-.78 2.05 0 2.83L4 21.41c.39.39.9.59 1.41.59.51 0 1.02-.2 1.41-.59l7.78-7.78 2.81-2.81c.8-.78.8-2.07 0-2.86zM5.41 20L4 18.59l7.72-7.72 1.47 1.35L5.41 20z\"/>\n",
              "  </svg>\n",
              "      </button>\n",
              "      \n",
              "  <style>\n",
              "    .colab-df-container {\n",
              "      display:flex;\n",
              "      flex-wrap:wrap;\n",
              "      gap: 12px;\n",
              "    }\n",
              "\n",
              "    .colab-df-convert {\n",
              "      background-color: #E8F0FE;\n",
              "      border: none;\n",
              "      border-radius: 50%;\n",
              "      cursor: pointer;\n",
              "      display: none;\n",
              "      fill: #1967D2;\n",
              "      height: 32px;\n",
              "      padding: 0 0 0 0;\n",
              "      width: 32px;\n",
              "    }\n",
              "\n",
              "    .colab-df-convert:hover {\n",
              "      background-color: #E2EBFA;\n",
              "      box-shadow: 0px 1px 2px rgba(60, 64, 67, 0.3), 0px 1px 3px 1px rgba(60, 64, 67, 0.15);\n",
              "      fill: #174EA6;\n",
              "    }\n",
              "\n",
              "    [theme=dark] .colab-df-convert {\n",
              "      background-color: #3B4455;\n",
              "      fill: #D2E3FC;\n",
              "    }\n",
              "\n",
              "    [theme=dark] .colab-df-convert:hover {\n",
              "      background-color: #434B5C;\n",
              "      box-shadow: 0px 1px 3px 1px rgba(0, 0, 0, 0.15);\n",
              "      filter: drop-shadow(0px 1px 2px rgba(0, 0, 0, 0.3));\n",
              "      fill: #FFFFFF;\n",
              "    }\n",
              "  </style>\n",
              "\n",
              "      <script>\n",
              "        const buttonEl =\n",
              "          document.querySelector('#df-2ca4b6ce-82de-4e44-aaa4-2322ab829592 button.colab-df-convert');\n",
              "        buttonEl.style.display =\n",
              "          google.colab.kernel.accessAllowed ? 'block' : 'none';\n",
              "\n",
              "        async function convertToInteractive(key) {\n",
              "          const element = document.querySelector('#df-2ca4b6ce-82de-4e44-aaa4-2322ab829592');\n",
              "          const dataTable =\n",
              "            await google.colab.kernel.invokeFunction('convertToInteractive',\n",
              "                                                     [key], {});\n",
              "          if (!dataTable) return;\n",
              "\n",
              "          const docLinkHtml = 'Like what you see? Visit the ' +\n",
              "            '<a target=\"_blank\" href=https://colab.research.google.com/notebooks/data_table.ipynb>data table notebook</a>'\n",
              "            + ' to learn more about interactive tables.';\n",
              "          element.innerHTML = '';\n",
              "          dataTable['output_type'] = 'display_data';\n",
              "          await google.colab.output.renderOutput(dataTable, element);\n",
              "          const docLink = document.createElement('div');\n",
              "          docLink.innerHTML = docLinkHtml;\n",
              "          element.appendChild(docLink);\n",
              "        }\n",
              "      </script>\n",
              "    </div>\n",
              "  </div>\n",
              "  "
            ]
          },
          "metadata": {}
        },
        {
          "output_type": "stream",
          "name": "stdout",
          "text": [
            "<class 'pandas.core.frame.DataFrame'>\n",
            "RangeIndex: 1197 entries, 0 to 1196\n",
            "Data columns (total 5 columns):\n",
            " #   Column         Non-Null Count  Dtype \n",
            "---  ------         --------------  ----- \n",
            " 0   transactionId  1197 non-null   int64 \n",
            " 1   visitorId      1197 non-null   int64 \n",
            " 2   date           1197 non-null   object\n",
            " 3   revenue        1197 non-null   int64 \n",
            " 4   group          1197 non-null   object\n",
            "dtypes: int64(3), object(2)\n",
            "memory usage: 46.9+ KB\n"
          ]
        },
        {
          "output_type": "display_data",
          "data": {
            "text/plain": [
              "None"
            ]
          },
          "metadata": {}
        },
        {
          "output_type": "stream",
          "name": "stdout",
          "text": [
            "Количество дубликатов:0\n",
            "Количество пропусков: \n",
            "transactionId    0\n",
            "visitorId        0\n",
            "date             0\n",
            "revenue          0\n",
            "group            0\n",
            "dtype: int64\n"
          ]
        }
      ],
      "source": [
        "data_info(order)"
      ]
    },
    {
      "cell_type": "markdown",
      "metadata": {
        "id": "0JvHQgGILo7b"
      },
      "source": [
        "Описание данных\n",
        "* transactionId — идентификатор заказа;\n",
        "* visitorId — идентификатор пользователя, совершившего заказ;\n",
        "* date — дата, когда был совершён заказ;\n",
        "* revenue — выручка заказа;\n",
        "* group — группа A/B-теста, в которую попал заказ."
      ]
    },
    {
      "cell_type": "code",
      "execution_count": 158,
      "metadata": {
        "colab": {
          "base_uri": "https://localhost:8080/",
          "height": 501
        },
        "id": "EzODi-XGLo7b",
        "outputId": "26ecef39-806f-40cf-df95-96bc53b6258f"
      },
      "outputs": [
        {
          "output_type": "display_data",
          "data": {
            "text/plain": [
              "         date group  visitors\n",
              "0  2019-08-01     A       719\n",
              "1  2019-08-02     A       619\n",
              "2  2019-08-03     A       507\n",
              "3  2019-08-04     A       717\n",
              "4  2019-08-05     A       756"
            ],
            "text/html": [
              "\n",
              "  <div id=\"df-68d8d8da-c4f6-4c15-b642-a19b6c831d22\">\n",
              "    <div class=\"colab-df-container\">\n",
              "      <div>\n",
              "<style scoped>\n",
              "    .dataframe tbody tr th:only-of-type {\n",
              "        vertical-align: middle;\n",
              "    }\n",
              "\n",
              "    .dataframe tbody tr th {\n",
              "        vertical-align: top;\n",
              "    }\n",
              "\n",
              "    .dataframe thead th {\n",
              "        text-align: right;\n",
              "    }\n",
              "</style>\n",
              "<table border=\"1\" class=\"dataframe\">\n",
              "  <thead>\n",
              "    <tr style=\"text-align: right;\">\n",
              "      <th></th>\n",
              "      <th>date</th>\n",
              "      <th>group</th>\n",
              "      <th>visitors</th>\n",
              "    </tr>\n",
              "  </thead>\n",
              "  <tbody>\n",
              "    <tr>\n",
              "      <th>0</th>\n",
              "      <td>2019-08-01</td>\n",
              "      <td>A</td>\n",
              "      <td>719</td>\n",
              "    </tr>\n",
              "    <tr>\n",
              "      <th>1</th>\n",
              "      <td>2019-08-02</td>\n",
              "      <td>A</td>\n",
              "      <td>619</td>\n",
              "    </tr>\n",
              "    <tr>\n",
              "      <th>2</th>\n",
              "      <td>2019-08-03</td>\n",
              "      <td>A</td>\n",
              "      <td>507</td>\n",
              "    </tr>\n",
              "    <tr>\n",
              "      <th>3</th>\n",
              "      <td>2019-08-04</td>\n",
              "      <td>A</td>\n",
              "      <td>717</td>\n",
              "    </tr>\n",
              "    <tr>\n",
              "      <th>4</th>\n",
              "      <td>2019-08-05</td>\n",
              "      <td>A</td>\n",
              "      <td>756</td>\n",
              "    </tr>\n",
              "  </tbody>\n",
              "</table>\n",
              "</div>\n",
              "      <button class=\"colab-df-convert\" onclick=\"convertToInteractive('df-68d8d8da-c4f6-4c15-b642-a19b6c831d22')\"\n",
              "              title=\"Convert this dataframe to an interactive table.\"\n",
              "              style=\"display:none;\">\n",
              "        \n",
              "  <svg xmlns=\"http://www.w3.org/2000/svg\" height=\"24px\"viewBox=\"0 0 24 24\"\n",
              "       width=\"24px\">\n",
              "    <path d=\"M0 0h24v24H0V0z\" fill=\"none\"/>\n",
              "    <path d=\"M18.56 5.44l.94 2.06.94-2.06 2.06-.94-2.06-.94-.94-2.06-.94 2.06-2.06.94zm-11 1L8.5 8.5l.94-2.06 2.06-.94-2.06-.94L8.5 2.5l-.94 2.06-2.06.94zm10 10l.94 2.06.94-2.06 2.06-.94-2.06-.94-.94-2.06-.94 2.06-2.06.94z\"/><path d=\"M17.41 7.96l-1.37-1.37c-.4-.4-.92-.59-1.43-.59-.52 0-1.04.2-1.43.59L10.3 9.45l-7.72 7.72c-.78.78-.78 2.05 0 2.83L4 21.41c.39.39.9.59 1.41.59.51 0 1.02-.2 1.41-.59l7.78-7.78 2.81-2.81c.8-.78.8-2.07 0-2.86zM5.41 20L4 18.59l7.72-7.72 1.47 1.35L5.41 20z\"/>\n",
              "  </svg>\n",
              "      </button>\n",
              "      \n",
              "  <style>\n",
              "    .colab-df-container {\n",
              "      display:flex;\n",
              "      flex-wrap:wrap;\n",
              "      gap: 12px;\n",
              "    }\n",
              "\n",
              "    .colab-df-convert {\n",
              "      background-color: #E8F0FE;\n",
              "      border: none;\n",
              "      border-radius: 50%;\n",
              "      cursor: pointer;\n",
              "      display: none;\n",
              "      fill: #1967D2;\n",
              "      height: 32px;\n",
              "      padding: 0 0 0 0;\n",
              "      width: 32px;\n",
              "    }\n",
              "\n",
              "    .colab-df-convert:hover {\n",
              "      background-color: #E2EBFA;\n",
              "      box-shadow: 0px 1px 2px rgba(60, 64, 67, 0.3), 0px 1px 3px 1px rgba(60, 64, 67, 0.15);\n",
              "      fill: #174EA6;\n",
              "    }\n",
              "\n",
              "    [theme=dark] .colab-df-convert {\n",
              "      background-color: #3B4455;\n",
              "      fill: #D2E3FC;\n",
              "    }\n",
              "\n",
              "    [theme=dark] .colab-df-convert:hover {\n",
              "      background-color: #434B5C;\n",
              "      box-shadow: 0px 1px 3px 1px rgba(0, 0, 0, 0.15);\n",
              "      filter: drop-shadow(0px 1px 2px rgba(0, 0, 0, 0.3));\n",
              "      fill: #FFFFFF;\n",
              "    }\n",
              "  </style>\n",
              "\n",
              "      <script>\n",
              "        const buttonEl =\n",
              "          document.querySelector('#df-68d8d8da-c4f6-4c15-b642-a19b6c831d22 button.colab-df-convert');\n",
              "        buttonEl.style.display =\n",
              "          google.colab.kernel.accessAllowed ? 'block' : 'none';\n",
              "\n",
              "        async function convertToInteractive(key) {\n",
              "          const element = document.querySelector('#df-68d8d8da-c4f6-4c15-b642-a19b6c831d22');\n",
              "          const dataTable =\n",
              "            await google.colab.kernel.invokeFunction('convertToInteractive',\n",
              "                                                     [key], {});\n",
              "          if (!dataTable) return;\n",
              "\n",
              "          const docLinkHtml = 'Like what you see? Visit the ' +\n",
              "            '<a target=\"_blank\" href=https://colab.research.google.com/notebooks/data_table.ipynb>data table notebook</a>'\n",
              "            + ' to learn more about interactive tables.';\n",
              "          element.innerHTML = '';\n",
              "          dataTable['output_type'] = 'display_data';\n",
              "          await google.colab.output.renderOutput(dataTable, element);\n",
              "          const docLink = document.createElement('div');\n",
              "          docLink.innerHTML = docLinkHtml;\n",
              "          element.appendChild(docLink);\n",
              "        }\n",
              "      </script>\n",
              "    </div>\n",
              "  </div>\n",
              "  "
            ]
          },
          "metadata": {}
        },
        {
          "output_type": "stream",
          "name": "stdout",
          "text": [
            "<class 'pandas.core.frame.DataFrame'>\n",
            "RangeIndex: 62 entries, 0 to 61\n",
            "Data columns (total 3 columns):\n",
            " #   Column    Non-Null Count  Dtype \n",
            "---  ------    --------------  ----- \n",
            " 0   date      62 non-null     object\n",
            " 1   group     62 non-null     object\n",
            " 2   visitors  62 non-null     int64 \n",
            "dtypes: int64(1), object(2)\n",
            "memory usage: 1.6+ KB\n"
          ]
        },
        {
          "output_type": "display_data",
          "data": {
            "text/plain": [
              "None"
            ]
          },
          "metadata": {}
        },
        {
          "output_type": "stream",
          "name": "stdout",
          "text": [
            "Количество дубликатов:0\n",
            "Количество пропусков: \n",
            "date        0\n",
            "group       0\n",
            "visitors    0\n",
            "dtype: int64\n"
          ]
        }
      ],
      "source": [
        "data_info(visitors)"
      ]
    },
    {
      "cell_type": "markdown",
      "metadata": {
        "id": "wrjSy1-OLo7c"
      },
      "source": [
        "Описание данных\n",
        "* date — дата;\n",
        "* group — группа A/B-теста;\n",
        "* visitors — количество пользователей в указанную дату в указанной группе A/B-теста"
      ]
    },
    {
      "cell_type": "markdown",
      "metadata": {
        "id": "zVKZOgTxLo7c"
      },
      "source": [
        "Приведем названия колонок к удобному написанию, изменим тип данных у колонок с датами. Видим, что гипотезы отображаются не полностью, снимим ограничение на отображение максимального количества знаков в строках"
      ]
    },
    {
      "cell_type": "code",
      "execution_count": 159,
      "metadata": {
        "colab": {
          "base_uri": "https://localhost:8080/",
          "height": 332
        },
        "id": "yB9Tqh9bLo7d",
        "outputId": "c788ea01-f648-4313-b0ea-78b9c01ab983"
      },
      "outputs": [
        {
          "output_type": "execute_result",
          "data": {
            "text/plain": [
              "                                                                                                     Hypothesis  \\\n",
              "0            Добавить два новых канала привлечения трафика, что позволит привлекать на 30% больше пользователей   \n",
              "1                                     Запустить собственную службу доставки, что сократит срок доставки заказов   \n",
              "2  Добавить блоки рекомендаций товаров на сайт интернет магазина, чтобы повысить конверсию и средний чек заказа   \n",
              "3           Изменить структура категорий, что увеличит конверсию, т.к. пользователи быстрее найдут нужный товар   \n",
              "4                              Изменить цвет фона главной страницы, чтобы увеличить вовлеченность пользователей   \n",
              "5                      Добавить страницу отзывов клиентов о магазине, что позволит увеличить количество заказов   \n",
              "6          Показать на главной странице баннеры с актуальными акциями и распродажами, чтобы увеличить конверсию   \n",
              "7              Добавить форму подписки на все основные страницы, чтобы собрать базу клиентов для email-рассылок   \n",
              "8                                                       Запустить акцию, дающую скидку на товар в день рождения   \n",
              "\n",
              "   Reach  Impact  Confidence  Efforts  \n",
              "0      3      10           8        6  \n",
              "1      2       5           4       10  \n",
              "2      8       3           7        3  \n",
              "3      8       3           3        8  \n",
              "4      3       1           1        1  \n",
              "5      3       2           2        3  \n",
              "6      5       3           8        3  \n",
              "7     10       7           8        5  \n",
              "8      1       9           9        5  "
            ],
            "text/html": [
              "\n",
              "  <div id=\"df-109eac72-fe7e-4b0e-bfa1-2420585c8dc1\">\n",
              "    <div class=\"colab-df-container\">\n",
              "      <div>\n",
              "<style scoped>\n",
              "    .dataframe tbody tr th:only-of-type {\n",
              "        vertical-align: middle;\n",
              "    }\n",
              "\n",
              "    .dataframe tbody tr th {\n",
              "        vertical-align: top;\n",
              "    }\n",
              "\n",
              "    .dataframe thead th {\n",
              "        text-align: right;\n",
              "    }\n",
              "</style>\n",
              "<table border=\"1\" class=\"dataframe\">\n",
              "  <thead>\n",
              "    <tr style=\"text-align: right;\">\n",
              "      <th></th>\n",
              "      <th>Hypothesis</th>\n",
              "      <th>Reach</th>\n",
              "      <th>Impact</th>\n",
              "      <th>Confidence</th>\n",
              "      <th>Efforts</th>\n",
              "    </tr>\n",
              "  </thead>\n",
              "  <tbody>\n",
              "    <tr>\n",
              "      <th>0</th>\n",
              "      <td>Добавить два новых канала привлечения трафика, что позволит привлекать на 30% больше пользователей</td>\n",
              "      <td>3</td>\n",
              "      <td>10</td>\n",
              "      <td>8</td>\n",
              "      <td>6</td>\n",
              "    </tr>\n",
              "    <tr>\n",
              "      <th>1</th>\n",
              "      <td>Запустить собственную службу доставки, что сократит срок доставки заказов</td>\n",
              "      <td>2</td>\n",
              "      <td>5</td>\n",
              "      <td>4</td>\n",
              "      <td>10</td>\n",
              "    </tr>\n",
              "    <tr>\n",
              "      <th>2</th>\n",
              "      <td>Добавить блоки рекомендаций товаров на сайт интернет магазина, чтобы повысить конверсию и средний чек заказа</td>\n",
              "      <td>8</td>\n",
              "      <td>3</td>\n",
              "      <td>7</td>\n",
              "      <td>3</td>\n",
              "    </tr>\n",
              "    <tr>\n",
              "      <th>3</th>\n",
              "      <td>Изменить структура категорий, что увеличит конверсию, т.к. пользователи быстрее найдут нужный товар</td>\n",
              "      <td>8</td>\n",
              "      <td>3</td>\n",
              "      <td>3</td>\n",
              "      <td>8</td>\n",
              "    </tr>\n",
              "    <tr>\n",
              "      <th>4</th>\n",
              "      <td>Изменить цвет фона главной страницы, чтобы увеличить вовлеченность пользователей</td>\n",
              "      <td>3</td>\n",
              "      <td>1</td>\n",
              "      <td>1</td>\n",
              "      <td>1</td>\n",
              "    </tr>\n",
              "    <tr>\n",
              "      <th>5</th>\n",
              "      <td>Добавить страницу отзывов клиентов о магазине, что позволит увеличить количество заказов</td>\n",
              "      <td>3</td>\n",
              "      <td>2</td>\n",
              "      <td>2</td>\n",
              "      <td>3</td>\n",
              "    </tr>\n",
              "    <tr>\n",
              "      <th>6</th>\n",
              "      <td>Показать на главной странице баннеры с актуальными акциями и распродажами, чтобы увеличить конверсию</td>\n",
              "      <td>5</td>\n",
              "      <td>3</td>\n",
              "      <td>8</td>\n",
              "      <td>3</td>\n",
              "    </tr>\n",
              "    <tr>\n",
              "      <th>7</th>\n",
              "      <td>Добавить форму подписки на все основные страницы, чтобы собрать базу клиентов для email-рассылок</td>\n",
              "      <td>10</td>\n",
              "      <td>7</td>\n",
              "      <td>8</td>\n",
              "      <td>5</td>\n",
              "    </tr>\n",
              "    <tr>\n",
              "      <th>8</th>\n",
              "      <td>Запустить акцию, дающую скидку на товар в день рождения</td>\n",
              "      <td>1</td>\n",
              "      <td>9</td>\n",
              "      <td>9</td>\n",
              "      <td>5</td>\n",
              "    </tr>\n",
              "  </tbody>\n",
              "</table>\n",
              "</div>\n",
              "      <button class=\"colab-df-convert\" onclick=\"convertToInteractive('df-109eac72-fe7e-4b0e-bfa1-2420585c8dc1')\"\n",
              "              title=\"Convert this dataframe to an interactive table.\"\n",
              "              style=\"display:none;\">\n",
              "        \n",
              "  <svg xmlns=\"http://www.w3.org/2000/svg\" height=\"24px\"viewBox=\"0 0 24 24\"\n",
              "       width=\"24px\">\n",
              "    <path d=\"M0 0h24v24H0V0z\" fill=\"none\"/>\n",
              "    <path d=\"M18.56 5.44l.94 2.06.94-2.06 2.06-.94-2.06-.94-.94-2.06-.94 2.06-2.06.94zm-11 1L8.5 8.5l.94-2.06 2.06-.94-2.06-.94L8.5 2.5l-.94 2.06-2.06.94zm10 10l.94 2.06.94-2.06 2.06-.94-2.06-.94-.94-2.06-.94 2.06-2.06.94z\"/><path d=\"M17.41 7.96l-1.37-1.37c-.4-.4-.92-.59-1.43-.59-.52 0-1.04.2-1.43.59L10.3 9.45l-7.72 7.72c-.78.78-.78 2.05 0 2.83L4 21.41c.39.39.9.59 1.41.59.51 0 1.02-.2 1.41-.59l7.78-7.78 2.81-2.81c.8-.78.8-2.07 0-2.86zM5.41 20L4 18.59l7.72-7.72 1.47 1.35L5.41 20z\"/>\n",
              "  </svg>\n",
              "      </button>\n",
              "      \n",
              "  <style>\n",
              "    .colab-df-container {\n",
              "      display:flex;\n",
              "      flex-wrap:wrap;\n",
              "      gap: 12px;\n",
              "    }\n",
              "\n",
              "    .colab-df-convert {\n",
              "      background-color: #E8F0FE;\n",
              "      border: none;\n",
              "      border-radius: 50%;\n",
              "      cursor: pointer;\n",
              "      display: none;\n",
              "      fill: #1967D2;\n",
              "      height: 32px;\n",
              "      padding: 0 0 0 0;\n",
              "      width: 32px;\n",
              "    }\n",
              "\n",
              "    .colab-df-convert:hover {\n",
              "      background-color: #E2EBFA;\n",
              "      box-shadow: 0px 1px 2px rgba(60, 64, 67, 0.3), 0px 1px 3px 1px rgba(60, 64, 67, 0.15);\n",
              "      fill: #174EA6;\n",
              "    }\n",
              "\n",
              "    [theme=dark] .colab-df-convert {\n",
              "      background-color: #3B4455;\n",
              "      fill: #D2E3FC;\n",
              "    }\n",
              "\n",
              "    [theme=dark] .colab-df-convert:hover {\n",
              "      background-color: #434B5C;\n",
              "      box-shadow: 0px 1px 3px 1px rgba(0, 0, 0, 0.15);\n",
              "      filter: drop-shadow(0px 1px 2px rgba(0, 0, 0, 0.3));\n",
              "      fill: #FFFFFF;\n",
              "    }\n",
              "  </style>\n",
              "\n",
              "      <script>\n",
              "        const buttonEl =\n",
              "          document.querySelector('#df-109eac72-fe7e-4b0e-bfa1-2420585c8dc1 button.colab-df-convert');\n",
              "        buttonEl.style.display =\n",
              "          google.colab.kernel.accessAllowed ? 'block' : 'none';\n",
              "\n",
              "        async function convertToInteractive(key) {\n",
              "          const element = document.querySelector('#df-109eac72-fe7e-4b0e-bfa1-2420585c8dc1');\n",
              "          const dataTable =\n",
              "            await google.colab.kernel.invokeFunction('convertToInteractive',\n",
              "                                                     [key], {});\n",
              "          if (!dataTable) return;\n",
              "\n",
              "          const docLinkHtml = 'Like what you see? Visit the ' +\n",
              "            '<a target=\"_blank\" href=https://colab.research.google.com/notebooks/data_table.ipynb>data table notebook</a>'\n",
              "            + ' to learn more about interactive tables.';\n",
              "          element.innerHTML = '';\n",
              "          dataTable['output_type'] = 'display_data';\n",
              "          await google.colab.output.renderOutput(dataTable, element);\n",
              "          const docLink = document.createElement('div');\n",
              "          docLink.innerHTML = docLinkHtml;\n",
              "          element.appendChild(docLink);\n",
              "        }\n",
              "      </script>\n",
              "    </div>\n",
              "  </div>\n",
              "  "
            ]
          },
          "metadata": {},
          "execution_count": 159
        }
      ],
      "source": [
        "pd.set_option('display.max_colwidth', None)\n",
        "hypothesis"
      ]
    },
    {
      "cell_type": "code",
      "execution_count": 160,
      "metadata": {
        "colab": {
          "base_uri": "https://localhost:8080/"
        },
        "id": "TuCD7RcOLo7d",
        "outputId": "ad731280-1b2b-4851-8787-3270620f7ad8"
      },
      "outputs": [
        {
          "output_type": "execute_result",
          "data": {
            "text/plain": [
              "Index(['hypothesis', 'reach', 'impact', 'confidence', 'efforts'], dtype='object')"
            ]
          },
          "metadata": {},
          "execution_count": 160
        }
      ],
      "source": [
        "hypothesis.columns = hypothesis.columns.str.lower()\n",
        "hypothesis.columns"
      ]
    },
    {
      "cell_type": "code",
      "execution_count": 161,
      "metadata": {
        "colab": {
          "base_uri": "https://localhost:8080/"
        },
        "id": "hgXxuJk_Lo7e",
        "outputId": "17e4d0a1-19d6-4e55-a2c0-148c85a637d2"
      },
      "outputs": [
        {
          "output_type": "execute_result",
          "data": {
            "text/plain": [
              "Index(['transaction_id', 'visitor_id', 'date', 'revenue', 'group'], dtype='object')"
            ]
          },
          "metadata": {},
          "execution_count": 161
        }
      ],
      "source": [
        "order = order.rename(columns={'transactionId': 'transaction_id', 'visitorId': 'visitor_id'})\n",
        "order.columns"
      ]
    },
    {
      "cell_type": "code",
      "execution_count": 162,
      "metadata": {
        "id": "zClpUiaVLo7f"
      },
      "outputs": [],
      "source": [
        "order['date'] = pd.to_datetime(order['date'])\n",
        "visitors['date'] = pd.to_datetime(visitors['date'])"
      ]
    },
    {
      "cell_type": "markdown",
      "metadata": {
        "id": "l7CLVyJXLo7f"
      },
      "source": [
        "Изучив датасеты, увидели, что дубликатов и пропусков в данных нет. В ходе предобработки установили настройки для полного отображения названия гипотез, даты привели к нужному типу данных, изменили названия колонок"
      ]
    },
    {
      "cell_type": "markdown",
      "metadata": {
        "id": "c9Iqm_aDLo7g"
      },
      "source": [
        "### Приоритизация гипотез"
      ]
    },
    {
      "cell_type": "markdown",
      "metadata": {
        "id": "cYhQEZgHLo7g"
      },
      "source": [
        "Для приоритизации гипотез воспользуемся фреймворками ICE и RICE. Расчет методом ICE учитывыет парметры влияние, уверенность в влиянии, усилия / простота. А метод RICE, помимо тех же парметров, включает количество пользователей, которых затронет вносимое изменение"
      ]
    },
    {
      "cell_type": "code",
      "execution_count": 163,
      "metadata": {
        "colab": {
          "base_uri": "https://localhost:8080/",
          "height": 332
        },
        "id": "SsdOVgn5Lo7h",
        "outputId": "e6a7c2a7-6c1c-4bc5-ab53-e5793adca12b"
      },
      "outputs": [
        {
          "output_type": "execute_result",
          "data": {
            "text/plain": [
              "                                                                                                     hypothesis  \\\n",
              "8                                                       Запустить акцию, дающую скидку на товар в день рождения   \n",
              "0            Добавить два новых канала привлечения трафика, что позволит привлекать на 30% больше пользователей   \n",
              "7              Добавить форму подписки на все основные страницы, чтобы собрать базу клиентов для email-рассылок   \n",
              "6          Показать на главной странице баннеры с актуальными акциями и распродажами, чтобы увеличить конверсию   \n",
              "2  Добавить блоки рекомендаций товаров на сайт интернет магазина, чтобы повысить конверсию и средний чек заказа   \n",
              "1                                     Запустить собственную службу доставки, что сократит срок доставки заказов   \n",
              "3           Изменить структура категорий, что увеличит конверсию, т.к. пользователи быстрее найдут нужный товар   \n",
              "4                              Изменить цвет фона главной страницы, чтобы увеличить вовлеченность пользователей   \n",
              "5                      Добавить страницу отзывов клиентов о магазине, что позволит увеличить количество заказов   \n",
              "\n",
              "    ICE  \n",
              "8  16.0  \n",
              "0  13.0  \n",
              "7  11.0  \n",
              "6   8.0  \n",
              "2   7.0  \n",
              "1   2.0  \n",
              "3   1.0  \n",
              "4   1.0  \n",
              "5   1.0  "
            ],
            "text/html": [
              "\n",
              "  <div id=\"df-35a72e91-51fe-40b4-9529-3244a1e6e988\">\n",
              "    <div class=\"colab-df-container\">\n",
              "      <div>\n",
              "<style scoped>\n",
              "    .dataframe tbody tr th:only-of-type {\n",
              "        vertical-align: middle;\n",
              "    }\n",
              "\n",
              "    .dataframe tbody tr th {\n",
              "        vertical-align: top;\n",
              "    }\n",
              "\n",
              "    .dataframe thead th {\n",
              "        text-align: right;\n",
              "    }\n",
              "</style>\n",
              "<table border=\"1\" class=\"dataframe\">\n",
              "  <thead>\n",
              "    <tr style=\"text-align: right;\">\n",
              "      <th></th>\n",
              "      <th>hypothesis</th>\n",
              "      <th>ICE</th>\n",
              "    </tr>\n",
              "  </thead>\n",
              "  <tbody>\n",
              "    <tr>\n",
              "      <th>8</th>\n",
              "      <td>Запустить акцию, дающую скидку на товар в день рождения</td>\n",
              "      <td>16.0</td>\n",
              "    </tr>\n",
              "    <tr>\n",
              "      <th>0</th>\n",
              "      <td>Добавить два новых канала привлечения трафика, что позволит привлекать на 30% больше пользователей</td>\n",
              "      <td>13.0</td>\n",
              "    </tr>\n",
              "    <tr>\n",
              "      <th>7</th>\n",
              "      <td>Добавить форму подписки на все основные страницы, чтобы собрать базу клиентов для email-рассылок</td>\n",
              "      <td>11.0</td>\n",
              "    </tr>\n",
              "    <tr>\n",
              "      <th>6</th>\n",
              "      <td>Показать на главной странице баннеры с актуальными акциями и распродажами, чтобы увеличить конверсию</td>\n",
              "      <td>8.0</td>\n",
              "    </tr>\n",
              "    <tr>\n",
              "      <th>2</th>\n",
              "      <td>Добавить блоки рекомендаций товаров на сайт интернет магазина, чтобы повысить конверсию и средний чек заказа</td>\n",
              "      <td>7.0</td>\n",
              "    </tr>\n",
              "    <tr>\n",
              "      <th>1</th>\n",
              "      <td>Запустить собственную службу доставки, что сократит срок доставки заказов</td>\n",
              "      <td>2.0</td>\n",
              "    </tr>\n",
              "    <tr>\n",
              "      <th>3</th>\n",
              "      <td>Изменить структура категорий, что увеличит конверсию, т.к. пользователи быстрее найдут нужный товар</td>\n",
              "      <td>1.0</td>\n",
              "    </tr>\n",
              "    <tr>\n",
              "      <th>4</th>\n",
              "      <td>Изменить цвет фона главной страницы, чтобы увеличить вовлеченность пользователей</td>\n",
              "      <td>1.0</td>\n",
              "    </tr>\n",
              "    <tr>\n",
              "      <th>5</th>\n",
              "      <td>Добавить страницу отзывов клиентов о магазине, что позволит увеличить количество заказов</td>\n",
              "      <td>1.0</td>\n",
              "    </tr>\n",
              "  </tbody>\n",
              "</table>\n",
              "</div>\n",
              "      <button class=\"colab-df-convert\" onclick=\"convertToInteractive('df-35a72e91-51fe-40b4-9529-3244a1e6e988')\"\n",
              "              title=\"Convert this dataframe to an interactive table.\"\n",
              "              style=\"display:none;\">\n",
              "        \n",
              "  <svg xmlns=\"http://www.w3.org/2000/svg\" height=\"24px\"viewBox=\"0 0 24 24\"\n",
              "       width=\"24px\">\n",
              "    <path d=\"M0 0h24v24H0V0z\" fill=\"none\"/>\n",
              "    <path d=\"M18.56 5.44l.94 2.06.94-2.06 2.06-.94-2.06-.94-.94-2.06-.94 2.06-2.06.94zm-11 1L8.5 8.5l.94-2.06 2.06-.94-2.06-.94L8.5 2.5l-.94 2.06-2.06.94zm10 10l.94 2.06.94-2.06 2.06-.94-2.06-.94-.94-2.06-.94 2.06-2.06.94z\"/><path d=\"M17.41 7.96l-1.37-1.37c-.4-.4-.92-.59-1.43-.59-.52 0-1.04.2-1.43.59L10.3 9.45l-7.72 7.72c-.78.78-.78 2.05 0 2.83L4 21.41c.39.39.9.59 1.41.59.51 0 1.02-.2 1.41-.59l7.78-7.78 2.81-2.81c.8-.78.8-2.07 0-2.86zM5.41 20L4 18.59l7.72-7.72 1.47 1.35L5.41 20z\"/>\n",
              "  </svg>\n",
              "      </button>\n",
              "      \n",
              "  <style>\n",
              "    .colab-df-container {\n",
              "      display:flex;\n",
              "      flex-wrap:wrap;\n",
              "      gap: 12px;\n",
              "    }\n",
              "\n",
              "    .colab-df-convert {\n",
              "      background-color: #E8F0FE;\n",
              "      border: none;\n",
              "      border-radius: 50%;\n",
              "      cursor: pointer;\n",
              "      display: none;\n",
              "      fill: #1967D2;\n",
              "      height: 32px;\n",
              "      padding: 0 0 0 0;\n",
              "      width: 32px;\n",
              "    }\n",
              "\n",
              "    .colab-df-convert:hover {\n",
              "      background-color: #E2EBFA;\n",
              "      box-shadow: 0px 1px 2px rgba(60, 64, 67, 0.3), 0px 1px 3px 1px rgba(60, 64, 67, 0.15);\n",
              "      fill: #174EA6;\n",
              "    }\n",
              "\n",
              "    [theme=dark] .colab-df-convert {\n",
              "      background-color: #3B4455;\n",
              "      fill: #D2E3FC;\n",
              "    }\n",
              "\n",
              "    [theme=dark] .colab-df-convert:hover {\n",
              "      background-color: #434B5C;\n",
              "      box-shadow: 0px 1px 3px 1px rgba(0, 0, 0, 0.15);\n",
              "      filter: drop-shadow(0px 1px 2px rgba(0, 0, 0, 0.3));\n",
              "      fill: #FFFFFF;\n",
              "    }\n",
              "  </style>\n",
              "\n",
              "      <script>\n",
              "        const buttonEl =\n",
              "          document.querySelector('#df-35a72e91-51fe-40b4-9529-3244a1e6e988 button.colab-df-convert');\n",
              "        buttonEl.style.display =\n",
              "          google.colab.kernel.accessAllowed ? 'block' : 'none';\n",
              "\n",
              "        async function convertToInteractive(key) {\n",
              "          const element = document.querySelector('#df-35a72e91-51fe-40b4-9529-3244a1e6e988');\n",
              "          const dataTable =\n",
              "            await google.colab.kernel.invokeFunction('convertToInteractive',\n",
              "                                                     [key], {});\n",
              "          if (!dataTable) return;\n",
              "\n",
              "          const docLinkHtml = 'Like what you see? Visit the ' +\n",
              "            '<a target=\"_blank\" href=https://colab.research.google.com/notebooks/data_table.ipynb>data table notebook</a>'\n",
              "            + ' to learn more about interactive tables.';\n",
              "          element.innerHTML = '';\n",
              "          dataTable['output_type'] = 'display_data';\n",
              "          await google.colab.output.renderOutput(dataTable, element);\n",
              "          const docLink = document.createElement('div');\n",
              "          docLink.innerHTML = docLinkHtml;\n",
              "          element.appendChild(docLink);\n",
              "        }\n",
              "      </script>\n",
              "    </div>\n",
              "  </div>\n",
              "  "
            ]
          },
          "metadata": {},
          "execution_count": 163
        }
      ],
      "source": [
        "hypothesis['ICE'] = round(hypothesis['impact'] * hypothesis['confidence'] / hypothesis['efforts'])\n",
        "hypothesis[['hypothesis', 'ICE']].sort_values(by='ICE', ascending=False)"
      ]
    },
    {
      "cell_type": "code",
      "execution_count": 164,
      "metadata": {
        "colab": {
          "base_uri": "https://localhost:8080/",
          "height": 332
        },
        "id": "DfgcxuLeLo7i",
        "outputId": "527194b2-4287-46f6-fe2d-db4ef896e6d1"
      },
      "outputs": [
        {
          "output_type": "execute_result",
          "data": {
            "text/plain": [
              "                                                                                                     hypothesis  \\\n",
              "7              Добавить форму подписки на все основные страницы, чтобы собрать базу клиентов для email-рассылок   \n",
              "2  Добавить блоки рекомендаций товаров на сайт интернет магазина, чтобы повысить конверсию и средний чек заказа   \n",
              "0            Добавить два новых канала привлечения трафика, что позволит привлекать на 30% больше пользователей   \n",
              "6          Показать на главной странице баннеры с актуальными акциями и распродажами, чтобы увеличить конверсию   \n",
              "8                                                       Запустить акцию, дающую скидку на товар в день рождения   \n",
              "3           Изменить структура категорий, что увеличит конверсию, т.к. пользователи быстрее найдут нужный товар   \n",
              "1                                     Запустить собственную службу доставки, что сократит срок доставки заказов   \n",
              "5                      Добавить страницу отзывов клиентов о магазине, что позволит увеличить количество заказов   \n",
              "4                              Изменить цвет фона главной страницы, чтобы увеличить вовлеченность пользователей   \n",
              "\n",
              "    RICE  \n",
              "7  112.0  \n",
              "2   56.0  \n",
              "0   40.0  \n",
              "6   40.0  \n",
              "8   16.0  \n",
              "3    9.0  \n",
              "1    4.0  \n",
              "5    4.0  \n",
              "4    3.0  "
            ],
            "text/html": [
              "\n",
              "  <div id=\"df-485cc531-454f-4098-8acc-05ce5901ea22\">\n",
              "    <div class=\"colab-df-container\">\n",
              "      <div>\n",
              "<style scoped>\n",
              "    .dataframe tbody tr th:only-of-type {\n",
              "        vertical-align: middle;\n",
              "    }\n",
              "\n",
              "    .dataframe tbody tr th {\n",
              "        vertical-align: top;\n",
              "    }\n",
              "\n",
              "    .dataframe thead th {\n",
              "        text-align: right;\n",
              "    }\n",
              "</style>\n",
              "<table border=\"1\" class=\"dataframe\">\n",
              "  <thead>\n",
              "    <tr style=\"text-align: right;\">\n",
              "      <th></th>\n",
              "      <th>hypothesis</th>\n",
              "      <th>RICE</th>\n",
              "    </tr>\n",
              "  </thead>\n",
              "  <tbody>\n",
              "    <tr>\n",
              "      <th>7</th>\n",
              "      <td>Добавить форму подписки на все основные страницы, чтобы собрать базу клиентов для email-рассылок</td>\n",
              "      <td>112.0</td>\n",
              "    </tr>\n",
              "    <tr>\n",
              "      <th>2</th>\n",
              "      <td>Добавить блоки рекомендаций товаров на сайт интернет магазина, чтобы повысить конверсию и средний чек заказа</td>\n",
              "      <td>56.0</td>\n",
              "    </tr>\n",
              "    <tr>\n",
              "      <th>0</th>\n",
              "      <td>Добавить два новых канала привлечения трафика, что позволит привлекать на 30% больше пользователей</td>\n",
              "      <td>40.0</td>\n",
              "    </tr>\n",
              "    <tr>\n",
              "      <th>6</th>\n",
              "      <td>Показать на главной странице баннеры с актуальными акциями и распродажами, чтобы увеличить конверсию</td>\n",
              "      <td>40.0</td>\n",
              "    </tr>\n",
              "    <tr>\n",
              "      <th>8</th>\n",
              "      <td>Запустить акцию, дающую скидку на товар в день рождения</td>\n",
              "      <td>16.0</td>\n",
              "    </tr>\n",
              "    <tr>\n",
              "      <th>3</th>\n",
              "      <td>Изменить структура категорий, что увеличит конверсию, т.к. пользователи быстрее найдут нужный товар</td>\n",
              "      <td>9.0</td>\n",
              "    </tr>\n",
              "    <tr>\n",
              "      <th>1</th>\n",
              "      <td>Запустить собственную службу доставки, что сократит срок доставки заказов</td>\n",
              "      <td>4.0</td>\n",
              "    </tr>\n",
              "    <tr>\n",
              "      <th>5</th>\n",
              "      <td>Добавить страницу отзывов клиентов о магазине, что позволит увеличить количество заказов</td>\n",
              "      <td>4.0</td>\n",
              "    </tr>\n",
              "    <tr>\n",
              "      <th>4</th>\n",
              "      <td>Изменить цвет фона главной страницы, чтобы увеличить вовлеченность пользователей</td>\n",
              "      <td>3.0</td>\n",
              "    </tr>\n",
              "  </tbody>\n",
              "</table>\n",
              "</div>\n",
              "      <button class=\"colab-df-convert\" onclick=\"convertToInteractive('df-485cc531-454f-4098-8acc-05ce5901ea22')\"\n",
              "              title=\"Convert this dataframe to an interactive table.\"\n",
              "              style=\"display:none;\">\n",
              "        \n",
              "  <svg xmlns=\"http://www.w3.org/2000/svg\" height=\"24px\"viewBox=\"0 0 24 24\"\n",
              "       width=\"24px\">\n",
              "    <path d=\"M0 0h24v24H0V0z\" fill=\"none\"/>\n",
              "    <path d=\"M18.56 5.44l.94 2.06.94-2.06 2.06-.94-2.06-.94-.94-2.06-.94 2.06-2.06.94zm-11 1L8.5 8.5l.94-2.06 2.06-.94-2.06-.94L8.5 2.5l-.94 2.06-2.06.94zm10 10l.94 2.06.94-2.06 2.06-.94-2.06-.94-.94-2.06-.94 2.06-2.06.94z\"/><path d=\"M17.41 7.96l-1.37-1.37c-.4-.4-.92-.59-1.43-.59-.52 0-1.04.2-1.43.59L10.3 9.45l-7.72 7.72c-.78.78-.78 2.05 0 2.83L4 21.41c.39.39.9.59 1.41.59.51 0 1.02-.2 1.41-.59l7.78-7.78 2.81-2.81c.8-.78.8-2.07 0-2.86zM5.41 20L4 18.59l7.72-7.72 1.47 1.35L5.41 20z\"/>\n",
              "  </svg>\n",
              "      </button>\n",
              "      \n",
              "  <style>\n",
              "    .colab-df-container {\n",
              "      display:flex;\n",
              "      flex-wrap:wrap;\n",
              "      gap: 12px;\n",
              "    }\n",
              "\n",
              "    .colab-df-convert {\n",
              "      background-color: #E8F0FE;\n",
              "      border: none;\n",
              "      border-radius: 50%;\n",
              "      cursor: pointer;\n",
              "      display: none;\n",
              "      fill: #1967D2;\n",
              "      height: 32px;\n",
              "      padding: 0 0 0 0;\n",
              "      width: 32px;\n",
              "    }\n",
              "\n",
              "    .colab-df-convert:hover {\n",
              "      background-color: #E2EBFA;\n",
              "      box-shadow: 0px 1px 2px rgba(60, 64, 67, 0.3), 0px 1px 3px 1px rgba(60, 64, 67, 0.15);\n",
              "      fill: #174EA6;\n",
              "    }\n",
              "\n",
              "    [theme=dark] .colab-df-convert {\n",
              "      background-color: #3B4455;\n",
              "      fill: #D2E3FC;\n",
              "    }\n",
              "\n",
              "    [theme=dark] .colab-df-convert:hover {\n",
              "      background-color: #434B5C;\n",
              "      box-shadow: 0px 1px 3px 1px rgba(0, 0, 0, 0.15);\n",
              "      filter: drop-shadow(0px 1px 2px rgba(0, 0, 0, 0.3));\n",
              "      fill: #FFFFFF;\n",
              "    }\n",
              "  </style>\n",
              "\n",
              "      <script>\n",
              "        const buttonEl =\n",
              "          document.querySelector('#df-485cc531-454f-4098-8acc-05ce5901ea22 button.colab-df-convert');\n",
              "        buttonEl.style.display =\n",
              "          google.colab.kernel.accessAllowed ? 'block' : 'none';\n",
              "\n",
              "        async function convertToInteractive(key) {\n",
              "          const element = document.querySelector('#df-485cc531-454f-4098-8acc-05ce5901ea22');\n",
              "          const dataTable =\n",
              "            await google.colab.kernel.invokeFunction('convertToInteractive',\n",
              "                                                     [key], {});\n",
              "          if (!dataTable) return;\n",
              "\n",
              "          const docLinkHtml = 'Like what you see? Visit the ' +\n",
              "            '<a target=\"_blank\" href=https://colab.research.google.com/notebooks/data_table.ipynb>data table notebook</a>'\n",
              "            + ' to learn more about interactive tables.';\n",
              "          element.innerHTML = '';\n",
              "          dataTable['output_type'] = 'display_data';\n",
              "          await google.colab.output.renderOutput(dataTable, element);\n",
              "          const docLink = document.createElement('div');\n",
              "          docLink.innerHTML = docLinkHtml;\n",
              "          element.appendChild(docLink);\n",
              "        }\n",
              "      </script>\n",
              "    </div>\n",
              "  </div>\n",
              "  "
            ]
          },
          "metadata": {},
          "execution_count": 164
        }
      ],
      "source": [
        "hypothesis['RICE'] = round(hypothesis['reach'] * hypothesis['impact'] * hypothesis['confidence'] / hypothesis['efforts'])\n",
        "hypothesis[['hypothesis', 'RICE']].sort_values(by='RICE', ascending=False)"
      ]
    },
    {
      "cell_type": "markdown",
      "metadata": {
        "id": "Sxo_XmbXLo7j"
      },
      "source": [
        "Видим, что при применении RICE вместо ICE, лидирующую позицию стала занимать гипотеза на третьем месте по методу ICE. Так произошло из-за коэффициента reach, который для гипотезы \"Добавить форму подписки на все основные страницы, чтобы собрать базу клиентов для email-рассылок\" оценили в 10 баллов, то есть в этой гипотезе будет максимальный охват пользователей, которых затронет изменение"
      ]
    },
    {
      "cell_type": "markdown",
      "metadata": {
        "id": "x_vKk3waLo7m"
      },
      "source": [
        "### Анализ A/B-тестирования"
      ]
    },
    {
      "cell_type": "markdown",
      "metadata": {
        "id": "vmCz0k-PLo7m"
      },
      "source": [
        "Определим сколько групп в тесте, количество пользователей в тесте, временной промежуток проведения теста"
      ]
    },
    {
      "cell_type": "code",
      "execution_count": 165,
      "metadata": {
        "colab": {
          "base_uri": "https://localhost:8080/"
        },
        "id": "vI6IG8iALo7n",
        "outputId": "13a1393f-0757-4766-9c89-3f3aa1e0449d"
      },
      "outputs": [
        {
          "output_type": "execute_result",
          "data": {
            "text/plain": [
              "array(['B', 'A'], dtype=object)"
            ]
          },
          "metadata": {},
          "execution_count": 165
        }
      ],
      "source": [
        "order['group'].unique()"
      ]
    },
    {
      "cell_type": "code",
      "execution_count": 166,
      "metadata": {
        "colab": {
          "base_uri": "https://localhost:8080/"
        },
        "id": "CcGb19XvLo7n",
        "outputId": "e92abdfa-18ec-464f-f018-620384279bc5"
      },
      "outputs": [
        {
          "output_type": "stream",
          "name": "stdout",
          "text": [
            "2019-08-01 00:00:00\n",
            "2019-08-31 00:00:00\n"
          ]
        }
      ],
      "source": [
        "print(min(order['date']))\n",
        "print(max(order['date']))"
      ]
    },
    {
      "cell_type": "code",
      "execution_count": 167,
      "metadata": {
        "colab": {
          "base_uri": "https://localhost:8080/"
        },
        "id": "BK4Q7GlELo7o",
        "outputId": "4c79f348-ee8c-45f4-cca3-91a19e6bf306"
      },
      "outputs": [
        {
          "output_type": "execute_result",
          "data": {
            "text/plain": [
              "B    640\n",
              "A    557\n",
              "Name: group, dtype: int64"
            ]
          },
          "metadata": {},
          "execution_count": 167
        }
      ],
      "source": [
        "order['group'].value_counts()"
      ]
    },
    {
      "cell_type": "markdown",
      "metadata": {
        "id": "DdafVNaFLo7p"
      },
      "source": [
        "В тесте две группы, количество пользователей в них не сбалансировано, тест проводился 1 месяц с 1 по 31 августа 2019 года\n",
        "\n",
        "Определим количество пользователей, которые участвовали в обеих группах теста"
      ]
    },
    {
      "cell_type": "code",
      "execution_count": 168,
      "metadata": {
        "colab": {
          "base_uri": "https://localhost:8080/"
        },
        "id": "aUG6SzwkLo7p",
        "outputId": "d68b66a6-ad94-4191-d432-ab741374bda1"
      },
      "outputs": [
        {
          "output_type": "stream",
          "name": "stdout",
          "text": [
            "Найдено 58 пользователей, которые участвовали в обеих группах теста\n"
          ]
        }
      ],
      "source": [
        "pivot = pd.pivot_table(order, index='visitor_id', columns='group', values='transaction_id', aggfunc='count')\n",
        "\n",
        "both_groups = pivot[(pivot['A'] > 0) & (pivot['B'] > 0)]\n",
        "\n",
        "if len(both_groups) > 0:\n",
        "    print(f'Найдено {both_groups.shape[0]} пользователей, которые участвовали в обеих группах теста')\n",
        "else:\n",
        "    print('Пользователи, участвовавшие в обеих группах теста, не найдены.')"
      ]
    },
    {
      "cell_type": "code",
      "execution_count": 169,
      "metadata": {
        "scrolled": true,
        "colab": {
          "base_uri": "https://localhost:8080/"
        },
        "id": "koVsXQ2JLo70",
        "outputId": "e054ce88-290e-44a3-a463-3c01759a91ce"
      },
      "outputs": [
        {
          "output_type": "stream",
          "name": "stdout",
          "text": [
            "Относительные потери при удалении пользоватлей, участвовавших в обеих группах составят: 5.63%\n"
          ]
        }
      ],
      "source": [
        "print('''Относительные потери при удалении пользоватлей, участвовавших в обеих группах составят: {0:.2%}'''\\\n",
        "      .format(both_groups.shape[0] / order['visitor_id'].nunique()))"
      ]
    },
    {
      "cell_type": "markdown",
      "metadata": {
        "id": "o4IavXBMLo72"
      },
      "source": [
        "Пользователей, которые участвовали в обеих группах теста лучше исключить из анализа, такие пользователи могут повлиять на результаты принятия решения о том, какая группа в тесте показала себя лучше, так как мы не сможем однозначно сказать, повлияло ли на такого пользователя введенное изменение"
      ]
    },
    {
      "cell_type": "code",
      "execution_count": 170,
      "metadata": {
        "id": "2cv6zmA2Lo72"
      },
      "outputs": [],
      "source": [
        "orders = order[~order['visitor_id'].isin(both_groups.index)]"
      ]
    },
    {
      "cell_type": "markdown",
      "metadata": {
        "id": "qU_ssNqMLo77"
      },
      "source": [
        "Соберём агрегированные кумулятивные по дням данные о заказах, о посетителях интернет-магазина "
      ]
    },
    {
      "cell_type": "code",
      "execution_count": 171,
      "metadata": {
        "scrolled": true,
        "colab": {
          "base_uri": "https://localhost:8080/",
          "height": 206
        },
        "id": "2tiHCgbjLo77",
        "outputId": "dbc4ef60-a294-42cb-ad38-f0a6b90c33e6"
      },
      "outputs": [
        {
          "output_type": "execute_result",
          "data": {
            "text/plain": [
              "        date group  orders  buyers  revenue  visitors\n",
              "0 2019-08-01     A      19      23   142779       719\n",
              "1 2019-08-01     B      17      17    59758       713\n",
              "2 2019-08-02     A      36      42   234381      1338\n",
              "3 2019-08-02     B      39      40   221801      1294\n",
              "4 2019-08-03     A      60      66   346854      1845"
            ],
            "text/html": [
              "\n",
              "  <div id=\"df-22500f62-1574-4677-ba7f-15d35708f387\">\n",
              "    <div class=\"colab-df-container\">\n",
              "      <div>\n",
              "<style scoped>\n",
              "    .dataframe tbody tr th:only-of-type {\n",
              "        vertical-align: middle;\n",
              "    }\n",
              "\n",
              "    .dataframe tbody tr th {\n",
              "        vertical-align: top;\n",
              "    }\n",
              "\n",
              "    .dataframe thead th {\n",
              "        text-align: right;\n",
              "    }\n",
              "</style>\n",
              "<table border=\"1\" class=\"dataframe\">\n",
              "  <thead>\n",
              "    <tr style=\"text-align: right;\">\n",
              "      <th></th>\n",
              "      <th>date</th>\n",
              "      <th>group</th>\n",
              "      <th>orders</th>\n",
              "      <th>buyers</th>\n",
              "      <th>revenue</th>\n",
              "      <th>visitors</th>\n",
              "    </tr>\n",
              "  </thead>\n",
              "  <tbody>\n",
              "    <tr>\n",
              "      <th>0</th>\n",
              "      <td>2019-08-01</td>\n",
              "      <td>A</td>\n",
              "      <td>19</td>\n",
              "      <td>23</td>\n",
              "      <td>142779</td>\n",
              "      <td>719</td>\n",
              "    </tr>\n",
              "    <tr>\n",
              "      <th>1</th>\n",
              "      <td>2019-08-01</td>\n",
              "      <td>B</td>\n",
              "      <td>17</td>\n",
              "      <td>17</td>\n",
              "      <td>59758</td>\n",
              "      <td>713</td>\n",
              "    </tr>\n",
              "    <tr>\n",
              "      <th>2</th>\n",
              "      <td>2019-08-02</td>\n",
              "      <td>A</td>\n",
              "      <td>36</td>\n",
              "      <td>42</td>\n",
              "      <td>234381</td>\n",
              "      <td>1338</td>\n",
              "    </tr>\n",
              "    <tr>\n",
              "      <th>3</th>\n",
              "      <td>2019-08-02</td>\n",
              "      <td>B</td>\n",
              "      <td>39</td>\n",
              "      <td>40</td>\n",
              "      <td>221801</td>\n",
              "      <td>1294</td>\n",
              "    </tr>\n",
              "    <tr>\n",
              "      <th>4</th>\n",
              "      <td>2019-08-03</td>\n",
              "      <td>A</td>\n",
              "      <td>60</td>\n",
              "      <td>66</td>\n",
              "      <td>346854</td>\n",
              "      <td>1845</td>\n",
              "    </tr>\n",
              "  </tbody>\n",
              "</table>\n",
              "</div>\n",
              "      <button class=\"colab-df-convert\" onclick=\"convertToInteractive('df-22500f62-1574-4677-ba7f-15d35708f387')\"\n",
              "              title=\"Convert this dataframe to an interactive table.\"\n",
              "              style=\"display:none;\">\n",
              "        \n",
              "  <svg xmlns=\"http://www.w3.org/2000/svg\" height=\"24px\"viewBox=\"0 0 24 24\"\n",
              "       width=\"24px\">\n",
              "    <path d=\"M0 0h24v24H0V0z\" fill=\"none\"/>\n",
              "    <path d=\"M18.56 5.44l.94 2.06.94-2.06 2.06-.94-2.06-.94-.94-2.06-.94 2.06-2.06.94zm-11 1L8.5 8.5l.94-2.06 2.06-.94-2.06-.94L8.5 2.5l-.94 2.06-2.06.94zm10 10l.94 2.06.94-2.06 2.06-.94-2.06-.94-.94-2.06-.94 2.06-2.06.94z\"/><path d=\"M17.41 7.96l-1.37-1.37c-.4-.4-.92-.59-1.43-.59-.52 0-1.04.2-1.43.59L10.3 9.45l-7.72 7.72c-.78.78-.78 2.05 0 2.83L4 21.41c.39.39.9.59 1.41.59.51 0 1.02-.2 1.41-.59l7.78-7.78 2.81-2.81c.8-.78.8-2.07 0-2.86zM5.41 20L4 18.59l7.72-7.72 1.47 1.35L5.41 20z\"/>\n",
              "  </svg>\n",
              "      </button>\n",
              "      \n",
              "  <style>\n",
              "    .colab-df-container {\n",
              "      display:flex;\n",
              "      flex-wrap:wrap;\n",
              "      gap: 12px;\n",
              "    }\n",
              "\n",
              "    .colab-df-convert {\n",
              "      background-color: #E8F0FE;\n",
              "      border: none;\n",
              "      border-radius: 50%;\n",
              "      cursor: pointer;\n",
              "      display: none;\n",
              "      fill: #1967D2;\n",
              "      height: 32px;\n",
              "      padding: 0 0 0 0;\n",
              "      width: 32px;\n",
              "    }\n",
              "\n",
              "    .colab-df-convert:hover {\n",
              "      background-color: #E2EBFA;\n",
              "      box-shadow: 0px 1px 2px rgba(60, 64, 67, 0.3), 0px 1px 3px 1px rgba(60, 64, 67, 0.15);\n",
              "      fill: #174EA6;\n",
              "    }\n",
              "\n",
              "    [theme=dark] .colab-df-convert {\n",
              "      background-color: #3B4455;\n",
              "      fill: #D2E3FC;\n",
              "    }\n",
              "\n",
              "    [theme=dark] .colab-df-convert:hover {\n",
              "      background-color: #434B5C;\n",
              "      box-shadow: 0px 1px 3px 1px rgba(0, 0, 0, 0.15);\n",
              "      filter: drop-shadow(0px 1px 2px rgba(0, 0, 0, 0.3));\n",
              "      fill: #FFFFFF;\n",
              "    }\n",
              "  </style>\n",
              "\n",
              "      <script>\n",
              "        const buttonEl =\n",
              "          document.querySelector('#df-22500f62-1574-4677-ba7f-15d35708f387 button.colab-df-convert');\n",
              "        buttonEl.style.display =\n",
              "          google.colab.kernel.accessAllowed ? 'block' : 'none';\n",
              "\n",
              "        async function convertToInteractive(key) {\n",
              "          const element = document.querySelector('#df-22500f62-1574-4677-ba7f-15d35708f387');\n",
              "          const dataTable =\n",
              "            await google.colab.kernel.invokeFunction('convertToInteractive',\n",
              "                                                     [key], {});\n",
              "          if (!dataTable) return;\n",
              "\n",
              "          const docLinkHtml = 'Like what you see? Visit the ' +\n",
              "            '<a target=\"_blank\" href=https://colab.research.google.com/notebooks/data_table.ipynb>data table notebook</a>'\n",
              "            + ' to learn more about interactive tables.';\n",
              "          element.innerHTML = '';\n",
              "          dataTable['output_type'] = 'display_data';\n",
              "          await google.colab.output.renderOutput(dataTable, element);\n",
              "          const docLink = document.createElement('div');\n",
              "          docLink.innerHTML = docLinkHtml;\n",
              "          element.appendChild(docLink);\n",
              "        }\n",
              "      </script>\n",
              "    </div>\n",
              "  </div>\n",
              "  "
            ]
          },
          "metadata": {},
          "execution_count": 171
        }
      ],
      "source": [
        "# уникальные пары значений дат и групп\n",
        "group_date = orders[['date', 'group']].drop_duplicates()\n",
        "\n",
        "# агрегированные кумулятивные по дням данные о заказах\n",
        "agg_orders = group_date.apply(lambda x: orders[np.logical_and(orders['date'] <= x['date'], orders['group'] == x['group'])]\\\n",
        "                       .agg({'date': 'max', 'group': 'max', 'visitor_id': 'nunique', 'transaction_id': 'nunique',\n",
        "                             'revenue': 'sum'}), axis=1).sort_values(by=['date', 'group'])\n",
        "\n",
        "# агрегированные кумулятивные по дням данные о посетителях интернет-магазина \n",
        "agg_visitors = group_date.apply(lambda x: visitors[np.logical_and(visitors['date'] <= x['date'], \n",
        "                                                                  visitors['group'] == x['group'])]\\\n",
        "                         .agg({'date': 'max', 'group': 'max', 'visitors': 'sum'}), axis=1).sort_values(by=['date', 'group'])\n",
        "\n",
        "# объединим данные, дадим столбцам названия\n",
        "cum_data = agg_orders.merge(agg_visitors, left_on = ['date', 'group'], right_on = ['date', 'group'])\n",
        "cum_data.columns = ['date', 'group', 'orders', 'buyers', 'revenue', 'visitors']\n",
        "cum_data.head()"
      ]
    },
    {
      "cell_type": "markdown",
      "metadata": {
        "id": "IPvEKQLlLo78"
      },
      "source": [
        "Построим график кумулятивной выручки по группам"
      ]
    },
    {
      "cell_type": "code",
      "execution_count": 173,
      "metadata": {
        "colab": {
          "base_uri": "https://localhost:8080/",
          "height": 404
        },
        "id": "lpHtzsfcLo78",
        "outputId": "b38d7cdb-6904-4a53-d613-20e61fa65710"
      },
      "outputs": [
        {
          "output_type": "display_data",
          "data": {
            "text/plain": [
              "<Figure size 864x432 with 1 Axes>"
            ],
            "image/png": "[encoded data removed]"
          },
          "metadata": {
            "needs_background": "light"
          }
        }
      ],
      "source": [
        "a_cum_revenue = cum_data[cum_data['group'] == 'A'][['date', 'revenue', 'orders']]\n",
        "b_cum_revenue = cum_data[cum_data['group'] == 'B'][['date', 'revenue', 'orders']]\n",
        "\n",
        "plt.figure(figsize=(12,6))\n",
        "plt.plot(a_cum_revenue['date'], a_cum_revenue['revenue'], label='группа A')\n",
        "plt.plot(b_cum_revenue['date'], b_cum_revenue['revenue'], label='группа B')\n",
        "plt.title('Кумулятивная выручка по группам')\n",
        "plt.xlabel('Даты')\n",
        "plt.ylabel('Выручка, млн')\n",
        "\n",
        "plt.legend();"
      ]
    },
    {
      "cell_type": "markdown",
      "metadata": {
        "id": "xzG4JJntLo7-"
      },
      "source": [
        "Выручка растет на протяжении всего теста в обеих группах, но в группе А она меньше. В группе В наблюдается резкий скачок после 17 августа, это может означать либо очень дорогие заказы, либо о резком увеличении числа заказов\n",
        "\n",
        "Построим график среднего чека по группам"
      ]
    },
    {
      "cell_type": "code",
      "execution_count": 175,
      "metadata": {
        "colab": {
          "base_uri": "https://localhost:8080/",
          "height": 404
        },
        "id": "PS7IjUg7Lo7_",
        "outputId": "62163105-9238-4849-e341-5601fc019ffa"
      },
      "outputs": [
        {
          "output_type": "display_data",
          "data": {
            "text/plain": [
              "<Figure size 864x432 with 1 Axes>"
            ],
            "image/png": "[encoded data removed]"
          },
          "metadata": {
            "needs_background": "light"
          }
        }
      ],
      "source": [
        "plt.figure(figsize=(12,6))\n",
        "plt.plot(a_cum_revenue['date'], a_cum_revenue['revenue']/a_cum_revenue['orders'], label='группа A')\n",
        "plt.plot(b_cum_revenue['date'], b_cum_revenue['revenue']/b_cum_revenue['orders'], label='группа B')\n",
        "plt.title('Средний чек по группам')\n",
        "plt.xlabel('Даты')\n",
        "plt.ylabel('Кумулятивный средний чек')\n",
        "plt.legend();"
      ]
    },
    {
      "cell_type": "markdown",
      "metadata": {
        "id": "5aJwPVZcLo7_"
      },
      "source": [
        "В группе В также наблюдается скачок в той же дате, скорее всего здесь произошли крупные покупки. Средний чек для группы А к концу теста стабилизировался\n",
        "\n",
        "Построим график относительного различия для среднего чека"
      ]
    },
    {
      "cell_type": "code",
      "execution_count": 176,
      "metadata": {
        "colab": {
          "base_uri": "https://localhost:8080/",
          "height": 404
        },
        "id": "nQLsQ0iLLo8A",
        "outputId": "08e7e610-1ff8-4921-8c1b-7e0cb157c665"
      },
      "outputs": [
        {
          "output_type": "display_data",
          "data": {
            "text/plain": [
              "<Figure size 864x432 with 1 Axes>"
            ],
            "image/png": "[encoded data removed]"
          },
          "metadata": {
            "needs_background": "light"
          }
        }
      ],
      "source": [
        "cum_revenue = a_cum_revenue.merge(b_cum_revenue, left_on='date', right_on='date', how='left', suffixes=['_a', '_b'])\n",
        "plt.figure(figsize=(12,6))\n",
        "plt.plot(cum_revenue['date'], (cum_revenue['revenue_b']/cum_revenue['orders_b']) / \n",
        "         (cum_revenue['revenue_a']/cum_revenue['orders_a']) - 1)\n",
        "plt.title('Изменение среднего чека группы B к группе A')\n",
        "plt.xlabel('Даты')\n",
        "plt.ylabel('Соотношение группы В к группе А')\n",
        "plt.axhline(y=0, color='black', linestyle='--');"
      ]
    },
    {
      "cell_type": "markdown",
      "metadata": {
        "id": "NLrzmeNSLo8A"
      },
      "source": [
        "На графике имееются скачки, необходимо проанализировать на наличие крупных заказов и выбросов\n",
        "\n",
        "Построим график среднего количества заказов на посетителя по группам"
      ]
    },
    {
      "cell_type": "code",
      "execution_count": 177,
      "metadata": {
        "colab": {
          "base_uri": "https://localhost:8080/",
          "height": 404
        },
        "id": "-YDC6-U2Lo8B",
        "outputId": "1e7ce8b3-2bf0-4e58-bd78-acfedc05c7ec"
      },
      "outputs": [
        {
          "output_type": "display_data",
          "data": {
            "text/plain": [
              "<Figure size 864x432 with 1 Axes>"
            ],
            "image/png": "[encoded data removed]"
          },
          "metadata": {
            "needs_background": "light"
          }
        }
      ],
      "source": [
        "cum_data['conversion'] = cum_data['orders']/cum_data['visitors']\n",
        "a_cum_data = cum_data[cum_data['group'] == 'A']\n",
        "b_cum_data = cum_data[cum_data['group'] == 'B']\n",
        "\n",
        "plt.figure(figsize=(12,6))\n",
        "plt.plot(a_cum_data['date'], a_cum_data['conversion'], label='группа A')\n",
        "plt.plot(b_cum_data['date'], b_cum_data['conversion'], label='группа B')\n",
        "plt.title('Среднее количество заказов на посетителя по группам')\n",
        "plt.xlabel('Даты')\n",
        "plt.ylabel('Соотношение среднего количества заказов на посетителя')\n",
        "plt.grid(True)\n",
        "plt.legend();"
      ]
    },
    {
      "cell_type": "markdown",
      "metadata": {
        "id": "k3NM-c7ELo8C"
      },
      "source": [
        "Среднее количество заказов на посетителя группы В значительно выше и к концу тестирования имеет небольшое колебание\n",
        "\n",
        "Построим график относительного изменения кумулятивного среднего количества заказов на посетителя группы B к группе A"
      ]
    },
    {
      "cell_type": "code",
      "execution_count": 178,
      "metadata": {
        "colab": {
          "base_uri": "https://localhost:8080/",
          "height": 404
        },
        "id": "PjOfB5ypLo8D",
        "outputId": "67d639ba-3152-4e26-f67d-28a53034a1e7"
      },
      "outputs": [
        {
          "output_type": "display_data",
          "data": {
            "text/plain": [
              "<Figure size 864x432 with 1 Axes>"
            ],
            "image/png": "[encoded data removed]"
          },
          "metadata": {
            "needs_background": "light"
          }
        }
      ],
      "source": [
        "cum_conversions = a_cum_data[['date', 'conversion']].merge(b_cum_data[['date', 'conversion']], \n",
        "                                                           left_on='date', right_on='date', how='left', suffixes=['_a', '_b'])\n",
        "plt.figure(figsize=(12,6))\n",
        "plt.plot(cum_conversions['date'], cum_conversions['conversion_b']/cum_conversions['conversion_a'] - 1)\n",
        "plt.title('Относительное изменение кумулятивного среднего количества заказов на посетителя группы B к группе A')\n",
        "plt.xlabel('Даты')\n",
        "plt.ylabel('Соотношение группы В к группе А')\n",
        "plt.axhline(y=0, color='red', linestyle='--')\n",
        "plt.axhline(y=0.2, color='black', linestyle='--');"
      ]
    },
    {
      "cell_type": "markdown",
      "metadata": {
        "id": "NE1bLj3wLo8E"
      },
      "source": [
        "В группе В наблюдается прирост среднего количества заказов на посетителя, но примерно в 20 числах августа количество заказов на посетителя начало снижаться, а концу теста опять начало расти. Нужно рассмотреть аномалии\n",
        "\n",
        "Посмотрим количество заказов по пользователям"
      ]
    },
    {
      "cell_type": "code",
      "execution_count": 179,
      "metadata": {
        "colab": {
          "base_uri": "https://localhost:8080/",
          "height": 295
        },
        "id": "NEAfz-7mLo8F",
        "outputId": "cc658fc0-1ad6-4c16-a559-45b49686a560"
      },
      "outputs": [
        {
          "output_type": "display_data",
          "data": {
            "text/plain": [
              "<Figure size 432x288 with 1 Axes>"
            ],
            "image/png": "[encoded data removed]"
          },
          "metadata": {
            "needs_background": "light"
          }
        }
      ],
      "source": [
        "orders_users = orders.groupby('visitor_id', as_index=False).agg({'transaction_id': 'nunique'})\n",
        "orders_users.columns = ['user_id', 'orders']\n",
        "plt.hist(orders_users['orders'])\n",
        "plt.title('Распределение количества заказов')\n",
        "plt.xlabel('Количество заказов')\n",
        "plt.ylabel('Количество пользователей');"
      ]
    },
    {
      "cell_type": "code",
      "execution_count": 180,
      "metadata": {
        "colab": {
          "base_uri": "https://localhost:8080/",
          "height": 350
        },
        "id": "nqmIpbqmLo8G",
        "outputId": "905c23ee-2cf6-407b-9f65-8de4b3fe701b"
      },
      "outputs": [
        {
          "output_type": "display_data",
          "data": {
            "text/plain": [
              "<Figure size 720x360 with 1 Axes>"
            ],
            "image/png": "[encoded data removed]"
          },
          "metadata": {
            "needs_background": "light"
          }
        }
      ],
      "source": [
        "x = pd.Series(range(0,len(orders_users)))\n",
        "plt.figure(figsize=(10,5))\n",
        "plt.scatter(x, orders_users['orders'])\n",
        "plt.title('Количество заказов')\n",
        "plt.xlabel('Номер заказа')\n",
        "plt.ylabel('Количество заказов'); "
      ]
    },
    {
      "cell_type": "markdown",
      "metadata": {
        "id": "7vtOUmuLLo8G"
      },
      "source": [
        "Пользователей, совершивших больше двух заказов достаточно мало. Рассчитаем 95 и 99 перцентили и определим границу аномальных пользователей"
      ]
    },
    {
      "cell_type": "code",
      "execution_count": 181,
      "metadata": {
        "colab": {
          "base_uri": "https://localhost:8080/"
        },
        "id": "1yIqAUqYLo8H",
        "outputId": "2335c79a-e30a-407e-cd46-16d98d58eddf"
      },
      "outputs": [
        {
          "output_type": "execute_result",
          "data": {
            "text/plain": [
              "array([1., 2.])"
            ]
          },
          "metadata": {},
          "execution_count": 181
        }
      ],
      "source": [
        "np.percentile(orders_users['orders'], [95, 99])"
      ]
    },
    {
      "cell_type": "markdown",
      "metadata": {
        "id": "UwPWtShfLo8I"
      },
      "source": [
        "Не более 5% пользователей совершили больше 1 заказов. И не более 1% совершили болеше 2 заказов. Пользователей, совершивших более  2 заказов будем считать аномальными"
      ]
    },
    {
      "cell_type": "markdown",
      "metadata": {
        "id": "kJeKGVJULo8J"
      },
      "source": [
        "Построим график стоимостей заказов"
      ]
    },
    {
      "cell_type": "code",
      "execution_count": 182,
      "metadata": {
        "colab": {
          "base_uri": "https://localhost:8080/",
          "height": 621
        },
        "id": "19WcBImBLo8J",
        "outputId": "6f47e4b3-61c7-4167-8557-89921468ac5a"
      },
      "outputs": [
        {
          "output_type": "display_data",
          "data": {
            "text/plain": [
              "<Figure size 1440x720 with 1 Axes>"
            ],
            "image/png": "[encoded data removed]"
          },
          "metadata": {
            "needs_background": "light"
          }
        }
      ],
      "source": [
        "plt.figure(figsize=(20,10))\n",
        "plt.hist(orders['revenue'])\n",
        "plt.title('Стоимость заказов')\n",
        "plt.xlabel('Стоимость заказа')\n",
        "plt.ylabel('Количество заказов');"
      ]
    },
    {
      "cell_type": "code",
      "execution_count": 183,
      "metadata": {
        "colab": {
          "base_uri": "https://localhost:8080/",
          "height": 350
        },
        "id": "uIoiP3aaLo8J",
        "outputId": "79659889-8fd2-4074-f2fa-8dd242ab1b0f"
      },
      "outputs": [
        {
          "output_type": "display_data",
          "data": {
            "text/plain": [
              "<Figure size 720x360 with 1 Axes>"
            ],
            "image/png": "[encoded data removed]"
          },
          "metadata": {
            "needs_background": "light"
          }
        }
      ],
      "source": [
        "x = pd.Series(range(0,len(orders['revenue'])))\n",
        "plt.figure(figsize=(10,5))\n",
        "plt.scatter(x, orders['revenue']) \n",
        "plt.title('Стоимость заказов')\n",
        "plt.xlabel('Номер заказа')\n",
        "plt.ylabel('Стоимость заказа'); "
      ]
    },
    {
      "cell_type": "markdown",
      "metadata": {
        "id": "oeVZFqcTLo8K"
      },
      "source": [
        "По графику точно видны 2 выброса: заказ на сумму около 200 тысяч и заказ на сумму более 1.2 млн, которые и повлияли на графики кумулятивных метрик. Ограничим график, и посмотрим распределение без явных выбросов"
      ]
    },
    {
      "cell_type": "code",
      "source": [
        "x = pd.Series(range(0,len(orders['revenue'])))\n",
        "plt.figure(figsize=(10,5))\n",
        "plt.ylim(0, 100000)\n",
        "plt.scatter(x, orders['revenue']) \n",
        "plt.title('Стоимость заказов')\n",
        "plt.xlabel('Номер заказа')\n",
        "plt.ylabel('Стоимость заказа'); "
      ],
      "metadata": {
        "colab": {
          "base_uri": "https://localhost:8080/",
          "height": 350
        },
        "id": "ZNWRB5mVOxa7",
        "outputId": "07554e53-fcc7-49a3-a3a9-0e90a41494dc"
      },
      "execution_count": 184,
      "outputs": [
        {
          "output_type": "display_data",
          "data": {
            "text/plain": [
              "<Figure size 720x360 with 1 Axes>"
            ],
            "image/png": "[encoded data removed]"
          },
          "metadata": {
            "needs_background": "light"
          }
        }
      ]
    },
    {
      "cell_type": "markdown",
      "source": [
        "Видно, что заказов, дороже 60000 остаточно мало. Рассчитаем 95 и 99 перцентили, чтобы определить границу аномальных заказов"
      ],
      "metadata": {
        "id": "PUWOxXlBPlPV"
      }
    },
    {
      "cell_type": "code",
      "execution_count": 185,
      "metadata": {
        "colab": {
          "base_uri": "https://localhost:8080/"
        },
        "id": "FT8vMl2LLo8M",
        "outputId": "ccd9a2f3-c496-41c7-bebf-0494a95ed12a"
      },
      "outputs": [
        {
          "output_type": "execute_result",
          "data": {
            "text/plain": [
              "array([26785., 53904.])"
            ]
          },
          "metadata": {},
          "execution_count": 185
        }
      ],
      "source": [
        "np.percentile(orders['revenue'], [95, 99])"
      ]
    },
    {
      "cell_type": "markdown",
      "metadata": {
        "id": "aXSrqk2uLo8N"
      },
      "source": [
        "За аномальные заказы примем заказы стоимостью более 53904\n",
        "\n",
        "Подготовим данные для определения статистической значимости различий между группами"
      ]
    },
    {
      "cell_type": "code",
      "execution_count": 186,
      "metadata": {
        "id": "1CFFI32dLo8Q"
      },
      "outputs": [],
      "source": [
        "# для пользователей, совершивших хотя бы один заказ укажем количество заказов\n",
        "a_orders_users = orders[orders['group'] == 'A'].groupby('visitor_id', as_index=False)\\\n",
        "                                               .agg({'transaction_id': pd.Series.nunique})\n",
        "a_orders_users.columns = ['user_id', 'orders']\n",
        "\n",
        "b_orders_users = orders[orders['group'] == 'B'].groupby('visitor_id', as_index=False)\\\n",
        "                                               .agg({'transaction_id': pd.Series.nunique})\n",
        "b_orders_users.columns = ['user_id', 'orders']\n",
        "\n",
        "# добавим нули для пользователей, которые ничего не заказали\n",
        "a_sample = pd.concat([a_orders_users['orders'],\\\n",
        "                    pd.Series(0, index=np.arange(visitors[visitors['group'] == 'A']['visitors'].sum() - len(a_orders_users['orders'])),\\\n",
        "                              name='orders')],axis=0)\n",
        "\n",
        "b_sample = pd.concat([b_orders_users['orders'],\\\n",
        "                    pd.Series(0, index=np.arange(visitors[visitors['group'] == 'B']['visitors'].sum() - len(b_orders_users['orders'])),\\\n",
        "                              name='orders')],axis=0)"
      ]
    },
    {
      "cell_type": "markdown",
      "metadata": {
        "id": "pE2Wr1wiLo8Q"
      },
      "source": [
        "В наших данных есть выбросы, а значит распределение будет не нормальным, поэтому будем использовать непараметрический тест Уилкоксона-Манна-Уитни. "
      ]
    },
    {
      "cell_type": "markdown",
      "metadata": {
        "id": "9uuDJ0wALo8R"
      },
      "source": [
        "Сформулируем гипотезы:\n",
        "* Нулевая: различий между группами нет. \n",
        "* Альтернативная: различия между группами есть."
      ]
    },
    {
      "cell_type": "code",
      "execution_count": 187,
      "metadata": {
        "id": "cudGKUTHLo8T"
      },
      "outputs": [],
      "source": [
        "def test_mnw(a , b):\n",
        "    alpha = .05\n",
        "    pvalue = stats.mannwhitneyu(a, b)[1]\n",
        "    print(f'pvalue = {round(pvalue, 3)}')\n",
        "    print('Прирост группы В составляет: {0:.2%}'.format(b.mean() / a.mean() - 1))\n",
        "    if pvalue < alpha:\n",
        "        print('Отвергаем нулевую гипотезу, различия между группами есть')\n",
        "    else:\n",
        "        print('Нет оснований отвергнуть нулевую гипотезу, различий между группами нет')"
      ]
    },
    {
      "cell_type": "markdown",
      "metadata": {
        "id": "HrrLQeNILo8T"
      },
      "source": [
        "Посчитаем статистическую значимость различий в среднем количестве заказов на посетителя между группами по «сырым» данным\n",
        "\n",
        "Сформулируем гипотезы:\n",
        "* Нулевая: различий в среднем количестве заказов на посетителя между группами по «сырым» данным нет. \n",
        "* Альтернативная: различия в среднем количестве заказов на посетителя между группами по «сырым» данным есть."
      ]
    },
    {
      "cell_type": "code",
      "execution_count": 188,
      "metadata": {
        "colab": {
          "base_uri": "https://localhost:8080/"
        },
        "id": "MYjFbNeELo8U",
        "outputId": "030216e3-5165-4eeb-ca5c-d7f8873e4c7d"
      },
      "outputs": [
        {
          "output_type": "stream",
          "name": "stdout",
          "text": [
            "pvalue = 0.011\n",
            "Прирост группы В составляет: 15.98%\n",
            "Отвергаем нулевую гипотезу, различия между группами есть\n"
          ]
        }
      ],
      "source": [
        "test_mnw(a_sample, b_sample)"
      ]
    },
    {
      "cell_type": "markdown",
      "metadata": {
        "id": "9_-BORmpLo8U"
      },
      "source": [
        "При анализе сырых данных тест Уилкоксона-Манна-Уитни показал, что есть различия в среднем числе заказов между группами, а относительный прирост среднего количества заказов группы В к А почти 16%"
      ]
    },
    {
      "cell_type": "markdown",
      "metadata": {
        "id": "PPtXauo9Lo8V"
      },
      "source": [
        "Посчитаем статистическую значимость различий в среднем чеке заказа между группами по «сырым» данным\n",
        "Сформулируем гипотезы:\n",
        "* Нулевая: различий в среднем чеке заказа между группами по «сырым» данным нет. \n",
        "* Альтернативная: различия в среднем чеке заказа между группами по «сырым» данным есть."
      ]
    },
    {
      "cell_type": "code",
      "execution_count": 189,
      "metadata": {
        "colab": {
          "base_uri": "https://localhost:8080/"
        },
        "id": "TTfYGi6ELo8V",
        "outputId": "fcb89250-5dd1-43ec-c946-4cbea9986cbc"
      },
      "outputs": [
        {
          "output_type": "stream",
          "name": "stdout",
          "text": [
            "pvalue = 0.829\n",
            "Прирост группы В составляет: 28.66%\n",
            "Нет оснований отвергнуть нулевую гипотезу, различий между группами нет\n"
          ]
        }
      ],
      "source": [
        "test_mnw(orders[orders['group']=='A']['revenue'], orders[orders['group']=='B']['revenue'])"
      ]
    },
    {
      "cell_type": "markdown",
      "metadata": {
        "id": "bVpNAYL8Lo8W"
      },
      "source": [
        "При анализе сырых данных тест Уилкоксона-Манна-Уитни показал, что статистически значимых различий в среднем чеке заказа между группами нет, но при этом средний чек группы В значительно больше группы А\n",
        "\n",
        "Подготовим очищенные данные"
      ]
    },
    {
      "cell_type": "code",
      "execution_count": 190,
      "metadata": {
        "colab": {
          "base_uri": "https://localhost:8080/"
        },
        "id": "VhaS1XBrLo8W",
        "outputId": "7685b4a1-266b-480f-a1d3-99fc14fd2d4a"
      },
      "outputs": [
        {
          "output_type": "execute_result",
          "data": {
            "text/plain": [
              "16"
            ]
          },
          "metadata": {},
          "execution_count": 190
        }
      ],
      "source": [
        "# определим количество аномальных пользователей, у которых количество и сумма заказа превышает 99 перцентиль\n",
        "many_orders = pd.concat([a_orders_users[a_orders_users['orders'] > np.percentile(orders_users['orders'], 99)]['user_id'],\\\n",
        "                         b_orders_users[b_orders_users['orders'] > np.percentile(orders_users['orders'], 99)]['user_id']],\\\n",
        "                        axis=0)\n",
        "exp_orders = orders[orders['revenue'] > np.percentile(orders['revenue'], 99)]['visitor_id']\n",
        "anomal_users = (pd.concat([many_orders, exp_orders], axis=0).drop_duplicates().sort_values())\n",
        "\n",
        "anomal_users.shape[0]"
      ]
    },
    {
      "cell_type": "code",
      "execution_count": 191,
      "metadata": {
        "colab": {
          "base_uri": "https://localhost:8080/"
        },
        "id": "ZloW-0pALo8X",
        "outputId": "bdda8055-bcdb-4545-a339-ffc908e2eb82"
      },
      "outputs": [
        {
          "output_type": "stream",
          "name": "stdout",
          "text": [
            "Относительные потери при фильтрации аномальных пользователей составят: 1.55%\n"
          ]
        }
      ],
      "source": [
        "print('''Относительные потери при фильтрации аномальных пользователей составят: {0:.2%}'''\\\n",
        "      .format(anomal_users.shape[0] / order['visitor_id'].nunique()))"
      ]
    },
    {
      "cell_type": "markdown",
      "metadata": {
        "id": "kG96Mm2jLo8a"
      },
      "source": [
        "Теперь отфильтруем аномалных пользователей, которые составили всего около 1.5%"
      ]
    },
    {
      "cell_type": "code",
      "execution_count": 192,
      "metadata": {
        "id": "uQNG03cDLo8b"
      },
      "outputs": [],
      "source": [
        "filtr_sample_a = pd.concat([a_orders_users[np.logical_not(a_orders_users['user_id'].isin(anomal_users))]['orders'],\\\n",
        "                 pd.Series(0, index=np.arange(visitors[visitors['group'] == 'A']['visitors'].sum() - len(a_orders_users['orders'])),\\\n",
        "                                              name='orders')], axis=0)\n",
        "\n",
        "filtr_sample_b = pd.concat([b_orders_users[np.logical_not(b_orders_users['user_id'].isin(anomal_users))]['orders'],\\\n",
        "                 pd.Series(0, index=np.arange(visitors[visitors['group'] == 'B']['visitors'].sum() - len(b_orders_users['orders'])),\\\n",
        "                                              name='orders')], axis=0) "
      ]
    },
    {
      "cell_type": "markdown",
      "metadata": {
        "id": "2q5_WQyILo8b"
      },
      "source": [
        "Посчитаем статистическую значимость различий в среднем количестве заказов на посетителя между группами по «очищенным» данным\n",
        "Сформулируем гипотезы:\n",
        "* Нулевая: различий в среднем количестве заказов на посетителя между группами по «очищенным» данным нет. \n",
        "* Альтернативная: различия в среднем количестве заказов на посетителя между группами по «очищенным» данным есть."
      ]
    },
    {
      "cell_type": "code",
      "execution_count": 193,
      "metadata": {
        "colab": {
          "base_uri": "https://localhost:8080/"
        },
        "id": "1PK2MG0oLo8b",
        "outputId": "d719a38d-78ec-4f1e-c982-c1f886886b6c"
      },
      "outputs": [
        {
          "output_type": "stream",
          "name": "stdout",
          "text": [
            "pvalue = 0.007\n",
            "Прирост группы В составляет: 18.92%\n",
            "Отвергаем нулевую гипотезу, различия между группами есть\n"
          ]
        }
      ],
      "source": [
        "test_mnw(filtr_sample_a, filtr_sample_b)"
      ]
    },
    {
      "cell_type": "markdown",
      "metadata": {
        "id": "PmpzP835Lo8c"
      },
      "source": [
        "При анализе очищенных данных относительный прирост среднего количества заказов группы В к А увеличился, и различия между группами, по-прежнему, есть"
      ]
    },
    {
      "cell_type": "markdown",
      "metadata": {
        "id": "EogW2z09Lo8d"
      },
      "source": [
        "Посчитаем статистическую значимость различий в среднем чеке заказа между группами по «очищенным» данным\n",
        "Сформулируем гипотезы:\n",
        "* Нулевая: различий в среднем чеке заказа между группами по «очищенным» данным нет. \n",
        "* Альтернативная: различия в среднем чеке заказа между группами по «очищенным» данным есть."
      ]
    },
    {
      "cell_type": "code",
      "execution_count": 194,
      "metadata": {
        "colab": {
          "base_uri": "https://localhost:8080/"
        },
        "id": "e2My8YJDLo8d",
        "outputId": "c61325ea-7c6c-4133-cb77-f7e96f9b8224"
      },
      "outputs": [
        {
          "output_type": "stream",
          "name": "stdout",
          "text": [
            "pvalue = 0.788\n",
            "Прирост группы В составляет: -3.23%\n",
            "Нет оснований отвергнуть нулевую гипотезу, различий между группами нет\n"
          ]
        }
      ],
      "source": [
        "test_mnw(orders[np.logical_and(orders['group'] == 'A', \\\n",
        "                               np.logical_not(orders['visitor_id'].isin(anomal_users)))]['revenue'],\\\n",
        "         orders[np.logical_and(orders['group'] == 'B', \\\n",
        "                               np.logical_not(orders['visitor_id'].isin(anomal_users)))]['revenue'])"
      ]
    },
    {
      "cell_type": "markdown",
      "metadata": {
        "id": "ifynpcAULo8e"
      },
      "source": [
        "Также как и при анализе \"сырых\" данных, на очищенных, тест показал, что статистических отличий между группами в среднем чеке заказа нет. При этом, когда исключили аномальных пользоватлей, оказалось, что разницы в среднем чеке почти нет"
      ]
    },
    {
      "cell_type": "markdown",
      "metadata": {
        "id": "w_0nnkMWLo8e"
      },
      "source": [
        "В ходе анализа выявили, что:\n",
        "* по среднему чеку статистических различий между группами нет, как по \"сырым\", так и по \"очищенным\" данным;\n",
        "* по среднему количеству заказов имеются статистические различия между группами и по \"сырым\" и по \"очищенным\" данным;\n",
        "* относительный прирост среднего количества заказов по \"сырым\" данным группы В к А составил около 16% и 19% по \"очищенным\" данным.\n",
        "\n",
        "На основании полученных результатов рекомендуется остановить тест и признать успех группы В"
      ]
    },
    {
      "cell_type": "markdown",
      "metadata": {
        "id": "R1E2RpTsLo8f"
      },
      "source": [
        "### Выводы\n",
        "В ходе работы изучили предоставленные датасеты и подготовили их дальнейшему анализу. Дубликатов и пропущенных значений в данных не обнаружили. \n",
        "\n",
        "На этапе приоритизации гипотез воспользовались двумя методами ICE, и его модификацией RICE, учитывающий количество пользователей, которых затронет вносимое изменение. Применяя метод RICE, наибольшее количество баллов набрала гипотеза \"Добавить форму подписки на все основные страницы, чтобы собрать базу клиентов для email-рассылок\".\n",
        "\n",
        "При анализе А/В-тестирования:\n",
        "* установили, что тест проводился на двух группах, с 1 по 31 августа 2019;\n",
        "* в целях получения более достоверных результатов, исключили из анализа пользователей, участвовавших в обеих группах, они составили 5.6 % данных\n",
        "* график изменения среднего чека группы А к группе В не показал стабильности;\n",
        "* график относительного прироста конверсии имеет незначительные колебания;\n",
        "* были выявлены выбросы, которые оказывали влияние на графики, они составили 1.5 % данных.\n",
        "\n",
        "Для определения статистической значимости различий между группами применили непараметрический тест Уилкоксона-Манна-Уитни. Получились следующие результаты:\n",
        "* по среднему чеку статистических различий между группами нет, как по \"сырым\", так и по \"очищенным\" данным;\n",
        "* по среднему количеству заказов имеются статистические различия между группами и по \"сырым\" и по \"очищенным\" данным;\n",
        "* относительный прирост среднего количества заказов по \"сырым\" данным группы В к А составил 16% и 19% по \"очищенным\" данным.\n",
        "\n",
        "Несмотря на отсутствие статистических различий между группами по среднему чеку, имеются статистически значимые различия между группами по среднему количеству заказов, и относительное увеличение среднего количества заказов группы В к группе А достаточно велико. Поэтому, рекомендуется остановить тест и сделать вывод, что успех за группой В, у нее более высокая конверсия по среднему количеству заказов."
      ]
    }
  ],
  "metadata": {
    "ExecuteTimeLog": [
      {
        "duration": 400,
        "start_time": "2023-02-14T07:25:43.455Z"
      },
      {
        "duration": 814,
        "start_time": "2023-02-14T07:29:05.104Z"
      },
      {
        "duration": 298,
        "start_time": "2023-02-14T07:32:50.846Z"
      },
      {
        "duration": 3,
        "start_time": "2023-02-14T07:37:41.868Z"
      },
      {
        "duration": 23,
        "start_time": "2023-02-14T07:38:25.629Z"
      },
      {
        "duration": 3,
        "start_time": "2023-02-14T07:39:31.096Z"
      },
      {
        "duration": 31,
        "start_time": "2023-02-14T07:39:32.535Z"
      },
      {
        "duration": 40,
        "start_time": "2023-02-14T07:40:04.229Z"
      },
      {
        "duration": 25,
        "start_time": "2023-02-14T07:40:25.092Z"
      },
      {
        "duration": 3,
        "start_time": "2023-02-14T07:40:42.707Z"
      },
      {
        "duration": 17,
        "start_time": "2023-02-14T07:40:44.462Z"
      },
      {
        "duration": 18,
        "start_time": "2023-02-14T07:40:45.369Z"
      },
      {
        "duration": 18,
        "start_time": "2023-02-14T07:40:45.973Z"
      },
      {
        "duration": 3,
        "start_time": "2023-02-14T08:11:46.936Z"
      },
      {
        "duration": 8,
        "start_time": "2023-02-14T08:12:01.982Z"
      },
      {
        "duration": 10,
        "start_time": "2023-02-14T08:12:11.175Z"
      },
      {
        "duration": 7,
        "start_time": "2023-02-14T08:12:26.690Z"
      },
      {
        "duration": 3,
        "start_time": "2023-02-14T08:13:38.604Z"
      },
      {
        "duration": 5,
        "start_time": "2023-02-14T08:13:44.956Z"
      },
      {
        "duration": 102,
        "start_time": "2023-02-14T08:15:31.307Z"
      },
      {
        "duration": 8,
        "start_time": "2023-02-14T08:15:48.572Z"
      },
      {
        "duration": 11,
        "start_time": "2023-02-14T08:16:02.648Z"
      },
      {
        "duration": 5,
        "start_time": "2023-02-14T08:17:30.127Z"
      },
      {
        "duration": 6,
        "start_time": "2023-02-14T08:23:16.654Z"
      },
      {
        "duration": 12,
        "start_time": "2023-02-14T08:23:17.291Z"
      },
      {
        "duration": 11,
        "start_time": "2023-02-14T08:23:25.813Z"
      },
      {
        "duration": 6,
        "start_time": "2023-02-14T08:23:56.141Z"
      },
      {
        "duration": 11,
        "start_time": "2023-02-14T08:40:21.794Z"
      },
      {
        "duration": 10,
        "start_time": "2023-02-14T08:41:58.780Z"
      },
      {
        "duration": 16,
        "start_time": "2023-02-14T08:42:44.990Z"
      },
      {
        "duration": 10,
        "start_time": "2023-02-14T08:42:50.716Z"
      },
      {
        "duration": 10,
        "start_time": "2023-02-14T08:42:59.115Z"
      },
      {
        "duration": 10,
        "start_time": "2023-02-14T08:43:20.462Z"
      },
      {
        "duration": 80,
        "start_time": "2023-02-14T09:31:15.656Z"
      },
      {
        "duration": 167,
        "start_time": "2023-02-14T09:31:24.787Z"
      },
      {
        "duration": 170,
        "start_time": "2023-02-14T09:32:07.046Z"
      },
      {
        "duration": 254,
        "start_time": "2023-02-14T09:32:38.443Z"
      },
      {
        "duration": 15,
        "start_time": "2023-02-14T09:40:19.619Z"
      },
      {
        "duration": 240,
        "start_time": "2023-02-14T09:40:29.476Z"
      },
      {
        "duration": 159,
        "start_time": "2023-02-14T09:41:11.252Z"
      },
      {
        "duration": 150,
        "start_time": "2023-02-14T09:41:23.038Z"
      },
      {
        "duration": 250,
        "start_time": "2023-02-14T09:42:17.108Z"
      },
      {
        "duration": 155,
        "start_time": "2023-02-14T09:42:36.431Z"
      },
      {
        "duration": 274,
        "start_time": "2023-02-14T09:42:42.630Z"
      },
      {
        "duration": 167,
        "start_time": "2023-02-14T09:42:49.945Z"
      },
      {
        "duration": 172,
        "start_time": "2023-02-14T09:43:01.639Z"
      },
      {
        "duration": 207,
        "start_time": "2023-02-14T09:43:21.767Z"
      },
      {
        "duration": 183,
        "start_time": "2023-02-14T09:43:27.916Z"
      },
      {
        "duration": 198,
        "start_time": "2023-02-14T09:43:34.168Z"
      },
      {
        "duration": 232,
        "start_time": "2023-02-14T12:05:47.333Z"
      },
      {
        "duration": 182,
        "start_time": "2023-02-14T12:06:02.102Z"
      },
      {
        "duration": 9,
        "start_time": "2023-02-14T12:24:50.203Z"
      },
      {
        "duration": 360,
        "start_time": "2023-02-14T12:25:15.603Z"
      },
      {
        "duration": 176,
        "start_time": "2023-02-14T12:25:56.368Z"
      },
      {
        "duration": 236,
        "start_time": "2023-02-14T12:26:34.398Z"
      },
      {
        "duration": 238,
        "start_time": "2023-02-14T12:40:05.284Z"
      },
      {
        "duration": 205,
        "start_time": "2023-02-14T12:41:40.367Z"
      },
      {
        "duration": 203,
        "start_time": "2023-02-14T12:42:07.082Z"
      },
      {
        "duration": 217,
        "start_time": "2023-02-14T12:44:32.386Z"
      },
      {
        "duration": 219,
        "start_time": "2023-02-14T12:44:44.795Z"
      },
      {
        "duration": 198,
        "start_time": "2023-02-14T12:46:51.030Z"
      },
      {
        "duration": 294,
        "start_time": "2023-02-14T12:47:35.274Z"
      },
      {
        "duration": 145,
        "start_time": "2023-02-14T13:05:00.197Z"
      },
      {
        "duration": 220,
        "start_time": "2023-02-14T13:05:09.963Z"
      },
      {
        "duration": 215,
        "start_time": "2023-02-14T13:13:02.350Z"
      },
      {
        "duration": 195,
        "start_time": "2023-02-14T13:14:21.687Z"
      },
      {
        "duration": 214,
        "start_time": "2023-02-14T13:14:37.073Z"
      },
      {
        "duration": 217,
        "start_time": "2023-02-14T13:16:52.167Z"
      },
      {
        "duration": 193,
        "start_time": "2023-02-14T13:17:08.059Z"
      },
      {
        "duration": 196,
        "start_time": "2023-02-14T13:17:27.962Z"
      },
      {
        "duration": 203,
        "start_time": "2023-02-14T13:18:17.470Z"
      },
      {
        "duration": 286,
        "start_time": "2023-02-14T13:31:11.633Z"
      },
      {
        "duration": 381,
        "start_time": "2023-02-14T13:32:15.556Z"
      },
      {
        "duration": 273,
        "start_time": "2023-02-14T13:32:44.519Z"
      },
      {
        "duration": 11,
        "start_time": "2023-02-14T13:46:40.011Z"
      },
      {
        "duration": 13,
        "start_time": "2023-02-14T13:47:20.377Z"
      },
      {
        "duration": 96,
        "start_time": "2023-02-14T13:47:26.767Z"
      },
      {
        "duration": 112,
        "start_time": "2023-02-14T13:47:59.471Z"
      },
      {
        "duration": 98,
        "start_time": "2023-02-14T13:49:59.498Z"
      },
      {
        "duration": 124,
        "start_time": "2023-02-14T13:50:25.671Z"
      },
      {
        "duration": 113,
        "start_time": "2023-02-14T13:50:35.626Z"
      },
      {
        "duration": 125,
        "start_time": "2023-02-14T13:52:14.110Z"
      },
      {
        "duration": 6,
        "start_time": "2023-02-14T14:02:06.477Z"
      },
      {
        "duration": 121,
        "start_time": "2023-02-14T14:07:49.791Z"
      },
      {
        "duration": 124,
        "start_time": "2023-02-14T14:11:32.180Z"
      },
      {
        "duration": 120,
        "start_time": "2023-02-14T14:11:36.856Z"
      },
      {
        "duration": 120,
        "start_time": "2023-02-14T14:11:46.044Z"
      },
      {
        "duration": 70,
        "start_time": "2023-02-14T14:12:53.359Z"
      },
      {
        "duration": 245,
        "start_time": "2023-02-14T14:12:59.978Z"
      },
      {
        "duration": 171,
        "start_time": "2023-02-14T14:14:04.761Z"
      },
      {
        "duration": 115,
        "start_time": "2023-02-14T14:14:42.219Z"
      },
      {
        "duration": 128,
        "start_time": "2023-02-14T14:15:18.193Z"
      },
      {
        "duration": 5,
        "start_time": "2023-02-14T14:17:45.285Z"
      },
      {
        "duration": 201,
        "start_time": "2023-02-14T15:35:39.300Z"
      },
      {
        "duration": 129,
        "start_time": "2023-02-14T16:07:39.409Z"
      },
      {
        "duration": 154,
        "start_time": "2023-02-14T16:08:14.791Z"
      },
      {
        "duration": 182,
        "start_time": "2023-02-14T16:17:57.213Z"
      },
      {
        "duration": 155,
        "start_time": "2023-02-14T16:23:45.910Z"
      },
      {
        "duration": 159,
        "start_time": "2023-02-14T16:23:52.118Z"
      },
      {
        "duration": 152,
        "start_time": "2023-02-14T16:24:07.966Z"
      },
      {
        "duration": 140,
        "start_time": "2023-02-14T16:24:21.511Z"
      },
      {
        "duration": 8,
        "start_time": "2023-02-14T16:32:58.731Z"
      },
      {
        "duration": 13,
        "start_time": "2023-02-14T16:33:16.932Z"
      },
      {
        "duration": 140,
        "start_time": "2023-02-14T16:38:07.972Z"
      },
      {
        "duration": 32,
        "start_time": "2023-02-14T16:46:35.344Z"
      },
      {
        "duration": 22,
        "start_time": "2023-02-14T16:47:02.990Z"
      },
      {
        "duration": 34,
        "start_time": "2023-02-14T16:47:26.311Z"
      },
      {
        "duration": 24,
        "start_time": "2023-02-14T16:47:51.855Z"
      },
      {
        "duration": 22,
        "start_time": "2023-02-14T16:48:12.306Z"
      },
      {
        "duration": 22,
        "start_time": "2023-02-14T16:48:19.939Z"
      },
      {
        "duration": 22,
        "start_time": "2023-02-14T16:48:43.072Z"
      },
      {
        "duration": 36,
        "start_time": "2023-02-14T16:49:37.510Z"
      },
      {
        "duration": 24,
        "start_time": "2023-02-14T16:50:07.008Z"
      },
      {
        "duration": 84,
        "start_time": "2023-02-14T17:03:25.267Z"
      },
      {
        "duration": 78,
        "start_time": "2023-02-14T17:03:31.513Z"
      },
      {
        "duration": 95,
        "start_time": "2023-02-14T17:03:43.547Z"
      },
      {
        "duration": 79,
        "start_time": "2023-02-14T17:04:29.838Z"
      },
      {
        "duration": 11,
        "start_time": "2023-02-14T17:06:50.566Z"
      },
      {
        "duration": 10,
        "start_time": "2023-02-14T17:08:09.344Z"
      },
      {
        "duration": 14,
        "start_time": "2023-02-14T17:08:19.996Z"
      },
      {
        "duration": 11,
        "start_time": "2023-02-14T17:08:32.584Z"
      },
      {
        "duration": 11,
        "start_time": "2023-02-14T17:08:56.451Z"
      },
      {
        "duration": 77,
        "start_time": "2023-02-14T17:10:05.635Z"
      },
      {
        "duration": 99,
        "start_time": "2023-02-14T17:12:00.951Z"
      },
      {
        "duration": 78,
        "start_time": "2023-02-14T17:12:12.279Z"
      },
      {
        "duration": 15,
        "start_time": "2023-02-14T17:12:22.477Z"
      },
      {
        "duration": 15,
        "start_time": "2023-02-14T17:12:27.646Z"
      },
      {
        "duration": 12,
        "start_time": "2023-02-14T17:12:42.277Z"
      },
      {
        "duration": 10,
        "start_time": "2023-02-14T17:12:56.622Z"
      },
      {
        "duration": 11,
        "start_time": "2023-02-14T17:13:03.713Z"
      },
      {
        "duration": 14,
        "start_time": "2023-02-14T17:14:30.778Z"
      },
      {
        "duration": 14,
        "start_time": "2023-02-14T17:14:50.209Z"
      },
      {
        "duration": 1199,
        "start_time": "2023-02-14T17:22:43.114Z"
      },
      {
        "duration": 138,
        "start_time": "2023-02-14T17:23:12.371Z"
      },
      {
        "duration": 1298,
        "start_time": "2023-02-14T17:23:16.413Z"
      },
      {
        "duration": 1162,
        "start_time": "2023-02-14T17:24:37.119Z"
      },
      {
        "duration": 1151,
        "start_time": "2023-02-14T17:25:53.014Z"
      },
      {
        "duration": 1200,
        "start_time": "2023-02-14T17:26:41.535Z"
      },
      {
        "duration": 1151,
        "start_time": "2023-02-14T17:26:53.455Z"
      },
      {
        "duration": 6,
        "start_time": "2023-02-14T17:28:52.298Z"
      },
      {
        "duration": 1077,
        "start_time": "2023-02-14T17:29:09.203Z"
      },
      {
        "duration": 4,
        "start_time": "2023-02-14T17:29:32.804Z"
      },
      {
        "duration": 86,
        "start_time": "2023-02-14T17:29:32.811Z"
      },
      {
        "duration": 5,
        "start_time": "2023-02-14T17:29:32.899Z"
      },
      {
        "duration": 33,
        "start_time": "2023-02-14T17:29:32.905Z"
      },
      {
        "duration": 19,
        "start_time": "2023-02-14T17:29:32.941Z"
      },
      {
        "duration": 18,
        "start_time": "2023-02-14T17:29:32.962Z"
      },
      {
        "duration": 8,
        "start_time": "2023-02-14T17:29:32.982Z"
      },
      {
        "duration": 9,
        "start_time": "2023-02-14T17:29:32.993Z"
      },
      {
        "duration": 11,
        "start_time": "2023-02-14T17:29:33.004Z"
      },
      {
        "duration": 8,
        "start_time": "2023-02-14T17:29:33.048Z"
      },
      {
        "duration": 18,
        "start_time": "2023-02-14T17:29:33.058Z"
      },
      {
        "duration": 16,
        "start_time": "2023-02-14T17:29:33.078Z"
      },
      {
        "duration": 305,
        "start_time": "2023-02-14T17:29:33.097Z"
      },
      {
        "duration": 207,
        "start_time": "2023-02-14T17:29:33.403Z"
      },
      {
        "duration": 211,
        "start_time": "2023-02-14T17:29:33.612Z"
      },
      {
        "duration": 344,
        "start_time": "2023-02-14T17:29:33.825Z"
      },
      {
        "duration": 246,
        "start_time": "2023-02-14T17:29:34.171Z"
      },
      {
        "duration": 324,
        "start_time": "2023-02-14T17:29:34.419Z"
      },
      {
        "duration": 120,
        "start_time": "2023-02-14T17:29:34.749Z"
      },
      {
        "duration": 137,
        "start_time": "2023-02-14T17:29:34.871Z"
      },
      {
        "duration": 6,
        "start_time": "2023-02-14T17:29:35.010Z"
      },
      {
        "duration": 215,
        "start_time": "2023-02-14T17:29:35.017Z"
      },
      {
        "duration": 285,
        "start_time": "2023-02-14T17:29:35.234Z"
      },
      {
        "duration": 6,
        "start_time": "2023-02-14T17:29:35.522Z"
      },
      {
        "duration": 296,
        "start_time": "2023-02-14T17:29:35.531Z"
      },
      {
        "duration": 162,
        "start_time": "2023-02-14T17:29:35.829Z"
      },
      {
        "duration": 6,
        "start_time": "2023-02-14T17:29:35.993Z"
      },
      {
        "duration": 28,
        "start_time": "2023-02-14T17:29:36.001Z"
      },
      {
        "duration": 25,
        "start_time": "2023-02-14T17:29:36.031Z"
      },
      {
        "duration": 1230,
        "start_time": "2023-02-14T17:29:36.058Z"
      },
      {
        "duration": 1676,
        "start_time": "2023-02-14T17:31:29.751Z"
      },
      {
        "duration": 1098,
        "start_time": "2023-02-14T17:33:09.873Z"
      },
      {
        "duration": 1136,
        "start_time": "2023-02-14T17:33:43.088Z"
      },
      {
        "duration": 20,
        "start_time": "2023-02-14T17:33:59.961Z"
      },
      {
        "duration": 1259,
        "start_time": "2023-02-14T17:34:26.415Z"
      },
      {
        "duration": 1149,
        "start_time": "2023-02-15T05:18:44.643Z"
      },
      {
        "duration": 283,
        "start_time": "2023-02-15T05:18:45.795Z"
      },
      {
        "duration": 3,
        "start_time": "2023-02-15T05:18:46.079Z"
      },
      {
        "duration": 26,
        "start_time": "2023-02-15T05:18:46.084Z"
      },
      {
        "duration": 18,
        "start_time": "2023-02-15T05:18:46.112Z"
      },
      {
        "duration": 14,
        "start_time": "2023-02-15T05:18:46.132Z"
      },
      {
        "duration": 6,
        "start_time": "2023-02-15T05:18:46.148Z"
      },
      {
        "duration": 37,
        "start_time": "2023-02-15T05:18:46.155Z"
      },
      {
        "duration": 9,
        "start_time": "2023-02-15T05:18:46.194Z"
      },
      {
        "duration": 10,
        "start_time": "2023-02-15T05:18:46.205Z"
      },
      {
        "duration": 27,
        "start_time": "2023-02-15T05:18:46.217Z"
      },
      {
        "duration": 13,
        "start_time": "2023-02-15T05:18:46.245Z"
      },
      {
        "duration": 294,
        "start_time": "2023-02-15T05:18:46.260Z"
      },
      {
        "duration": 322,
        "start_time": "2023-02-15T05:18:46.556Z"
      },
      {
        "duration": 201,
        "start_time": "2023-02-15T05:18:46.879Z"
      },
      {
        "duration": 354,
        "start_time": "2023-02-15T05:18:47.081Z"
      },
      {
        "duration": 210,
        "start_time": "2023-02-15T05:18:47.437Z"
      },
      {
        "duration": 273,
        "start_time": "2023-02-15T05:18:47.648Z"
      },
      {
        "duration": 117,
        "start_time": "2023-02-15T05:18:47.923Z"
      },
      {
        "duration": 118,
        "start_time": "2023-02-15T05:18:48.041Z"
      },
      {
        "duration": 5,
        "start_time": "2023-02-15T05:18:48.160Z"
      },
      {
        "duration": 182,
        "start_time": "2023-02-15T05:18:48.166Z"
      },
      {
        "duration": 136,
        "start_time": "2023-02-15T05:18:48.350Z"
      },
      {
        "duration": 5,
        "start_time": "2023-02-15T05:18:48.491Z"
      },
      {
        "duration": 287,
        "start_time": "2023-02-15T05:18:48.498Z"
      },
      {
        "duration": 159,
        "start_time": "2023-02-15T05:18:48.787Z"
      },
      {
        "duration": 7,
        "start_time": "2023-02-15T05:18:48.947Z"
      },
      {
        "duration": 35,
        "start_time": "2023-02-15T05:18:48.957Z"
      },
      {
        "duration": 11,
        "start_time": "2023-02-15T05:18:48.993Z"
      },
      {
        "duration": 1258,
        "start_time": "2023-02-15T05:18:49.006Z"
      },
      {
        "duration": 168,
        "start_time": "2023-02-15T05:33:16.468Z"
      },
      {
        "duration": 7,
        "start_time": "2023-02-15T05:33:17.472Z"
      },
      {
        "duration": 5,
        "start_time": "2023-02-15T05:33:52.802Z"
      },
      {
        "duration": 1261,
        "start_time": "2023-02-15T05:34:25.308Z"
      },
      {
        "duration": 1188,
        "start_time": "2023-02-15T05:34:54.954Z"
      },
      {
        "duration": 10,
        "start_time": "2023-02-15T05:36:37.173Z"
      },
      {
        "duration": 11,
        "start_time": "2023-02-15T05:37:15.251Z"
      },
      {
        "duration": 9,
        "start_time": "2023-02-15T05:37:26.076Z"
      },
      {
        "duration": 7,
        "start_time": "2023-02-15T06:08:08.023Z"
      },
      {
        "duration": 4,
        "start_time": "2023-02-15T06:08:12.431Z"
      },
      {
        "duration": 22,
        "start_time": "2023-02-15T06:08:13.944Z"
      },
      {
        "duration": 8,
        "start_time": "2023-02-15T06:20:09.103Z"
      },
      {
        "duration": 8,
        "start_time": "2023-02-15T06:21:57.544Z"
      },
      {
        "duration": 8,
        "start_time": "2023-02-15T06:22:04.759Z"
      },
      {
        "duration": 8,
        "start_time": "2023-02-15T06:22:08.037Z"
      },
      {
        "duration": 23,
        "start_time": "2023-02-15T06:22:09.968Z"
      },
      {
        "duration": 10,
        "start_time": "2023-02-15T06:40:42.877Z"
      },
      {
        "duration": 11,
        "start_time": "2023-02-15T06:41:25.885Z"
      },
      {
        "duration": 3,
        "start_time": "2023-02-15T07:02:03.853Z"
      },
      {
        "duration": 21,
        "start_time": "2023-02-15T07:02:05.279Z"
      },
      {
        "duration": 12,
        "start_time": "2023-02-15T07:02:06.287Z"
      },
      {
        "duration": 11,
        "start_time": "2023-02-15T07:02:09.112Z"
      },
      {
        "duration": 7,
        "start_time": "2023-02-15T07:02:18.867Z"
      },
      {
        "duration": 21,
        "start_time": "2023-02-15T07:02:20.270Z"
      },
      {
        "duration": 8,
        "start_time": "2023-02-15T07:02:24.255Z"
      },
      {
        "duration": 5,
        "start_time": "2023-02-15T07:22:00.538Z"
      },
      {
        "duration": 6,
        "start_time": "2023-02-15T07:22:18.530Z"
      },
      {
        "duration": 12,
        "start_time": "2023-02-15T07:23:39.361Z"
      },
      {
        "duration": 18,
        "start_time": "2023-02-15T07:26:58.051Z"
      },
      {
        "duration": 17,
        "start_time": "2023-02-15T07:27:32.358Z"
      },
      {
        "duration": 522,
        "start_time": "2023-02-15T07:28:18.911Z"
      },
      {
        "duration": 508,
        "start_time": "2023-02-15T07:28:27.687Z"
      },
      {
        "duration": 419,
        "start_time": "2023-02-15T07:28:46.441Z"
      },
      {
        "duration": 78,
        "start_time": "2023-02-15T07:40:15.170Z"
      },
      {
        "duration": 80,
        "start_time": "2023-02-15T07:40:19.096Z"
      },
      {
        "duration": 3,
        "start_time": "2023-02-15T07:40:34.012Z"
      },
      {
        "duration": 22,
        "start_time": "2023-02-15T07:40:40.443Z"
      },
      {
        "duration": 8,
        "start_time": "2023-02-15T07:40:55.972Z"
      },
      {
        "duration": 22,
        "start_time": "2023-02-15T07:41:10.791Z"
      },
      {
        "duration": 9,
        "start_time": "2023-02-15T07:41:19.203Z"
      },
      {
        "duration": 3,
        "start_time": "2023-02-15T07:45:00.778Z"
      },
      {
        "duration": 21,
        "start_time": "2023-02-15T07:45:04.563Z"
      },
      {
        "duration": 7,
        "start_time": "2023-02-15T07:45:10.242Z"
      },
      {
        "duration": 9,
        "start_time": "2023-02-15T07:45:12.257Z"
      },
      {
        "duration": 7,
        "start_time": "2023-02-15T07:45:14.273Z"
      },
      {
        "duration": 23,
        "start_time": "2023-02-15T07:45:17.627Z"
      },
      {
        "duration": 10,
        "start_time": "2023-02-15T07:45:19.993Z"
      },
      {
        "duration": 4,
        "start_time": "2023-02-15T07:45:34.434Z"
      },
      {
        "duration": 22,
        "start_time": "2023-02-15T07:45:35.593Z"
      },
      {
        "duration": 7,
        "start_time": "2023-02-15T07:45:39.244Z"
      },
      {
        "duration": 8,
        "start_time": "2023-02-15T07:45:41.162Z"
      },
      {
        "duration": 7,
        "start_time": "2023-02-15T07:45:42.736Z"
      },
      {
        "duration": 23,
        "start_time": "2023-02-15T07:45:43.968Z"
      },
      {
        "duration": 8,
        "start_time": "2023-02-15T07:45:48.082Z"
      },
      {
        "duration": 3,
        "start_time": "2023-02-15T08:27:34.427Z"
      },
      {
        "duration": 80,
        "start_time": "2023-02-15T08:27:34.432Z"
      },
      {
        "duration": 2,
        "start_time": "2023-02-15T08:27:34.514Z"
      },
      {
        "duration": 29,
        "start_time": "2023-02-15T08:27:34.518Z"
      },
      {
        "duration": 25,
        "start_time": "2023-02-15T08:27:34.548Z"
      },
      {
        "duration": 15,
        "start_time": "2023-02-15T08:27:34.574Z"
      },
      {
        "duration": 7,
        "start_time": "2023-02-15T08:27:34.590Z"
      },
      {
        "duration": 8,
        "start_time": "2023-02-15T08:27:34.598Z"
      },
      {
        "duration": 7,
        "start_time": "2023-02-15T08:27:34.607Z"
      },
      {
        "duration": 9,
        "start_time": "2023-02-15T08:27:34.616Z"
      },
      {
        "duration": 20,
        "start_time": "2023-02-15T08:27:34.628Z"
      },
      {
        "duration": 13,
        "start_time": "2023-02-15T08:27:34.650Z"
      },
      {
        "duration": 278,
        "start_time": "2023-02-15T08:27:34.776Z"
      },
      {
        "duration": 191,
        "start_time": "2023-02-15T08:27:35.055Z"
      },
      {
        "duration": 189,
        "start_time": "2023-02-15T08:27:35.247Z"
      },
      {
        "duration": 278,
        "start_time": "2023-02-15T08:27:35.437Z"
      },
      {
        "duration": 208,
        "start_time": "2023-02-15T08:27:35.717Z"
      },
      {
        "duration": 280,
        "start_time": "2023-02-15T08:27:35.927Z"
      },
      {
        "duration": 137,
        "start_time": "2023-02-15T08:27:36.209Z"
      },
      {
        "duration": 227,
        "start_time": "2023-02-15T08:27:36.348Z"
      },
      {
        "duration": 6,
        "start_time": "2023-02-15T08:27:36.577Z"
      },
      {
        "duration": 177,
        "start_time": "2023-02-15T08:27:36.592Z"
      },
      {
        "duration": 132,
        "start_time": "2023-02-15T08:27:36.771Z"
      },
      {
        "duration": 4,
        "start_time": "2023-02-15T08:27:36.905Z"
      },
      {
        "duration": 212,
        "start_time": "2023-02-15T08:27:36.910Z"
      },
      {
        "duration": 166,
        "start_time": "2023-02-15T08:27:37.125Z"
      },
      {
        "duration": 3,
        "start_time": "2023-02-15T08:27:37.293Z"
      },
      {
        "duration": 25,
        "start_time": "2023-02-15T08:27:37.297Z"
      },
      {
        "duration": 8,
        "start_time": "2023-02-15T08:27:37.324Z"
      },
      {
        "duration": 13,
        "start_time": "2023-02-15T08:27:37.334Z"
      },
      {
        "duration": 13,
        "start_time": "2023-02-15T08:27:37.348Z"
      },
      {
        "duration": 35,
        "start_time": "2023-02-15T08:27:37.362Z"
      },
      {
        "duration": 8,
        "start_time": "2023-02-15T08:27:37.399Z"
      },
      {
        "duration": 2,
        "start_time": "2023-02-15T08:52:33.452Z"
      },
      {
        "duration": 80,
        "start_time": "2023-02-15T08:52:33.457Z"
      },
      {
        "duration": 3,
        "start_time": "2023-02-15T08:52:33.538Z"
      },
      {
        "duration": 18,
        "start_time": "2023-02-15T08:52:33.543Z"
      },
      {
        "duration": 18,
        "start_time": "2023-02-15T08:52:33.563Z"
      },
      {
        "duration": 17,
        "start_time": "2023-02-15T08:52:33.583Z"
      },
      {
        "duration": 7,
        "start_time": "2023-02-15T08:52:33.601Z"
      },
      {
        "duration": 8,
        "start_time": "2023-02-15T08:52:33.609Z"
      },
      {
        "duration": 7,
        "start_time": "2023-02-15T08:52:33.619Z"
      },
      {
        "duration": 6,
        "start_time": "2023-02-15T08:52:33.627Z"
      },
      {
        "duration": 11,
        "start_time": "2023-02-15T08:52:33.635Z"
      },
      {
        "duration": 14,
        "start_time": "2023-02-15T08:52:33.647Z"
      },
      {
        "duration": 292,
        "start_time": "2023-02-15T08:52:33.662Z"
      },
      {
        "duration": 200,
        "start_time": "2023-02-15T08:52:33.955Z"
      },
      {
        "duration": 183,
        "start_time": "2023-02-15T08:52:34.158Z"
      },
      {
        "duration": 258,
        "start_time": "2023-02-15T08:52:34.343Z"
      },
      {
        "duration": 209,
        "start_time": "2023-02-15T08:52:34.602Z"
      },
      {
        "duration": 280,
        "start_time": "2023-02-15T08:52:34.813Z"
      },
      {
        "duration": 107,
        "start_time": "2023-02-15T08:52:35.095Z"
      },
      {
        "duration": 115,
        "start_time": "2023-02-15T08:52:35.204Z"
      },
      {
        "duration": 4,
        "start_time": "2023-02-15T08:52:35.321Z"
      },
      {
        "duration": 183,
        "start_time": "2023-02-15T08:52:35.327Z"
      },
      {
        "duration": 211,
        "start_time": "2023-02-15T08:52:35.511Z"
      },
      {
        "duration": 5,
        "start_time": "2023-02-15T08:52:35.723Z"
      },
      {
        "duration": 227,
        "start_time": "2023-02-15T08:52:35.729Z"
      },
      {
        "duration": 133,
        "start_time": "2023-02-15T08:52:35.958Z"
      },
      {
        "duration": 3,
        "start_time": "2023-02-15T08:52:36.093Z"
      },
      {
        "duration": 26,
        "start_time": "2023-02-15T08:52:36.097Z"
      },
      {
        "duration": 8,
        "start_time": "2023-02-15T08:52:36.124Z"
      },
      {
        "duration": 15,
        "start_time": "2023-02-15T08:52:36.133Z"
      },
      {
        "duration": 9,
        "start_time": "2023-02-15T08:52:36.151Z"
      },
      {
        "duration": 37,
        "start_time": "2023-02-15T08:52:36.161Z"
      },
      {
        "duration": 9,
        "start_time": "2023-02-15T08:52:36.199Z"
      },
      {
        "duration": 1040,
        "start_time": "2023-02-15T09:23:03.592Z"
      },
      {
        "duration": 271,
        "start_time": "2023-02-15T09:23:04.634Z"
      },
      {
        "duration": 4,
        "start_time": "2023-02-15T09:23:04.906Z"
      },
      {
        "duration": 30,
        "start_time": "2023-02-15T09:23:04.912Z"
      },
      {
        "duration": 20,
        "start_time": "2023-02-15T09:23:04.943Z"
      },
      {
        "duration": 47,
        "start_time": "2023-02-15T09:23:04.964Z"
      },
      {
        "duration": 11,
        "start_time": "2023-02-15T09:23:05.013Z"
      },
      {
        "duration": 14,
        "start_time": "2023-02-15T09:23:05.026Z"
      },
      {
        "duration": 13,
        "start_time": "2023-02-15T09:23:05.042Z"
      },
      {
        "duration": 21,
        "start_time": "2023-02-15T09:23:05.059Z"
      },
      {
        "duration": 20,
        "start_time": "2023-02-15T09:23:05.082Z"
      },
      {
        "duration": 14,
        "start_time": "2023-02-15T09:23:05.103Z"
      },
      {
        "duration": 315,
        "start_time": "2023-02-15T09:23:05.119Z"
      },
      {
        "duration": 280,
        "start_time": "2023-02-15T09:23:05.436Z"
      },
      {
        "duration": 214,
        "start_time": "2023-02-15T09:23:05.718Z"
      },
      {
        "duration": 290,
        "start_time": "2023-02-15T09:23:05.934Z"
      },
      {
        "duration": 217,
        "start_time": "2023-02-15T09:23:06.225Z"
      },
      {
        "duration": 323,
        "start_time": "2023-02-15T09:23:06.443Z"
      },
      {
        "duration": 150,
        "start_time": "2023-02-15T09:23:06.768Z"
      },
      {
        "duration": 127,
        "start_time": "2023-02-15T09:23:06.920Z"
      },
      {
        "duration": 5,
        "start_time": "2023-02-15T09:23:07.049Z"
      },
      {
        "duration": 201,
        "start_time": "2023-02-15T09:23:07.055Z"
      },
      {
        "duration": 154,
        "start_time": "2023-02-15T09:23:07.258Z"
      },
      {
        "duration": 4,
        "start_time": "2023-02-15T09:23:07.414Z"
      },
      {
        "duration": 323,
        "start_time": "2023-02-15T09:23:07.420Z"
      },
      {
        "duration": 162,
        "start_time": "2023-02-15T09:23:07.744Z"
      },
      {
        "duration": 4,
        "start_time": "2023-02-15T09:23:07.907Z"
      },
      {
        "duration": 31,
        "start_time": "2023-02-15T09:23:07.914Z"
      },
      {
        "duration": 8,
        "start_time": "2023-02-15T09:23:07.946Z"
      },
      {
        "duration": 8,
        "start_time": "2023-02-15T09:23:07.956Z"
      },
      {
        "duration": 40,
        "start_time": "2023-02-15T09:23:07.967Z"
      },
      {
        "duration": 23,
        "start_time": "2023-02-15T09:23:08.009Z"
      },
      {
        "duration": 9,
        "start_time": "2023-02-15T09:23:08.033Z"
      },
      {
        "duration": 3,
        "start_time": "2023-02-15T09:47:26.737Z"
      },
      {
        "duration": 85,
        "start_time": "2023-02-15T09:47:26.744Z"
      },
      {
        "duration": 4,
        "start_time": "2023-02-15T09:47:26.831Z"
      },
      {
        "duration": 27,
        "start_time": "2023-02-15T09:47:26.837Z"
      },
      {
        "duration": 23,
        "start_time": "2023-02-15T09:47:26.867Z"
      },
      {
        "duration": 19,
        "start_time": "2023-02-15T09:47:26.892Z"
      },
      {
        "duration": 12,
        "start_time": "2023-02-15T09:47:26.913Z"
      },
      {
        "duration": 11,
        "start_time": "2023-02-15T09:47:26.927Z"
      },
      {
        "duration": 6,
        "start_time": "2023-02-15T09:47:26.940Z"
      },
      {
        "duration": 7,
        "start_time": "2023-02-15T09:47:26.948Z"
      },
      {
        "duration": 41,
        "start_time": "2023-02-15T09:47:26.958Z"
      },
      {
        "duration": 18,
        "start_time": "2023-02-15T09:47:27.001Z"
      },
      {
        "duration": 271,
        "start_time": "2023-02-15T09:47:27.020Z"
      },
      {
        "duration": 188,
        "start_time": "2023-02-15T09:47:27.293Z"
      },
      {
        "duration": 183,
        "start_time": "2023-02-15T09:47:27.483Z"
      },
      {
        "duration": 325,
        "start_time": "2023-02-15T09:47:27.668Z"
      },
      {
        "duration": 205,
        "start_time": "2023-02-15T09:47:27.995Z"
      },
      {
        "duration": 278,
        "start_time": "2023-02-15T09:47:28.201Z"
      },
      {
        "duration": 128,
        "start_time": "2023-02-15T09:47:28.481Z"
      },
      {
        "duration": 123,
        "start_time": "2023-02-15T09:47:28.610Z"
      },
      {
        "duration": 6,
        "start_time": "2023-02-15T09:47:28.735Z"
      },
      {
        "duration": 183,
        "start_time": "2023-02-15T09:47:28.742Z"
      },
      {
        "duration": 135,
        "start_time": "2023-02-15T09:47:28.927Z"
      },
      {
        "duration": 5,
        "start_time": "2023-02-15T09:47:29.064Z"
      },
      {
        "duration": 224,
        "start_time": "2023-02-15T09:47:29.071Z"
      },
      {
        "duration": 139,
        "start_time": "2023-02-15T09:47:29.296Z"
      },
      {
        "duration": 4,
        "start_time": "2023-02-15T09:47:29.436Z"
      },
      {
        "duration": 45,
        "start_time": "2023-02-15T09:47:29.441Z"
      },
      {
        "duration": 8,
        "start_time": "2023-02-15T09:47:29.489Z"
      },
      {
        "duration": 28,
        "start_time": "2023-02-15T09:47:29.498Z"
      },
      {
        "duration": 22,
        "start_time": "2023-02-15T09:47:29.527Z"
      },
      {
        "duration": 32,
        "start_time": "2023-02-15T09:47:29.550Z"
      },
      {
        "duration": 7,
        "start_time": "2023-02-15T09:47:29.584Z"
      },
      {
        "duration": 197,
        "start_time": "2023-02-15T09:54:22.578Z"
      },
      {
        "duration": 263,
        "start_time": "2023-02-15T09:56:09.108Z"
      },
      {
        "duration": 294,
        "start_time": "2023-02-15T09:57:47.624Z"
      },
      {
        "duration": 213,
        "start_time": "2023-02-15T10:02:24.661Z"
      },
      {
        "duration": 278,
        "start_time": "2023-02-15T10:05:01.224Z"
      },
      {
        "duration": 216,
        "start_time": "2023-02-15T10:05:21.192Z"
      },
      {
        "duration": 304,
        "start_time": "2023-02-15T10:05:24.392Z"
      },
      {
        "duration": 308,
        "start_time": "2023-02-15T10:05:41.865Z"
      },
      {
        "duration": 138,
        "start_time": "2023-02-15T10:11:55.369Z"
      },
      {
        "duration": 121,
        "start_time": "2023-02-15T10:11:57.458Z"
      },
      {
        "duration": 186,
        "start_time": "2023-02-15T10:12:39.225Z"
      },
      {
        "duration": 146,
        "start_time": "2023-02-15T10:13:33.084Z"
      },
      {
        "duration": 128,
        "start_time": "2023-02-15T10:14:17.518Z"
      },
      {
        "duration": 221,
        "start_time": "2023-02-15T10:14:31.531Z"
      },
      {
        "duration": 287,
        "start_time": "2023-02-15T10:14:54.255Z"
      },
      {
        "duration": 167,
        "start_time": "2023-02-15T10:15:09.790Z"
      },
      {
        "duration": 14193,
        "start_time": "2023-02-15T10:16:36.069Z"
      },
      {
        "duration": 14067,
        "start_time": "2023-02-15T10:17:00.749Z"
      },
      {
        "duration": 185,
        "start_time": "2023-02-15T10:17:48.263Z"
      },
      {
        "duration": 196,
        "start_time": "2023-02-15T10:18:03.462Z"
      },
      {
        "duration": 382,
        "start_time": "2023-02-15T10:19:14.626Z"
      },
      {
        "duration": 169,
        "start_time": "2023-02-15T10:19:24.345Z"
      },
      {
        "duration": 132,
        "start_time": "2023-02-15T10:21:34.147Z"
      },
      {
        "duration": 142,
        "start_time": "2023-02-15T10:21:51.371Z"
      },
      {
        "duration": 157,
        "start_time": "2023-02-15T10:50:49.471Z"
      },
      {
        "duration": 167,
        "start_time": "2023-02-15T10:51:01.212Z"
      },
      {
        "duration": 163,
        "start_time": "2023-02-15T10:53:52.531Z"
      },
      {
        "duration": 181,
        "start_time": "2023-02-15T10:54:53.028Z"
      },
      {
        "duration": 192,
        "start_time": "2023-02-15T10:56:02.748Z"
      },
      {
        "duration": 173,
        "start_time": "2023-02-15T10:56:48.096Z"
      },
      {
        "duration": 217,
        "start_time": "2023-02-15T10:57:26.216Z"
      },
      {
        "duration": 188,
        "start_time": "2023-02-15T10:57:50.254Z"
      },
      {
        "duration": 187,
        "start_time": "2023-02-15T10:58:04.407Z"
      },
      {
        "duration": 142,
        "start_time": "2023-02-15T11:08:47.359Z"
      },
      {
        "duration": 3,
        "start_time": "2023-02-15T11:09:00.325Z"
      },
      {
        "duration": 25,
        "start_time": "2023-02-15T11:09:03.620Z"
      },
      {
        "duration": 3,
        "start_time": "2023-02-15T11:11:58.345Z"
      },
      {
        "duration": 78,
        "start_time": "2023-02-15T11:11:58.350Z"
      },
      {
        "duration": 3,
        "start_time": "2023-02-15T11:11:58.430Z"
      },
      {
        "duration": 25,
        "start_time": "2023-02-15T11:11:58.435Z"
      },
      {
        "duration": 19,
        "start_time": "2023-02-15T11:11:58.462Z"
      },
      {
        "duration": 27,
        "start_time": "2023-02-15T11:11:58.494Z"
      },
      {
        "duration": 8,
        "start_time": "2023-02-15T11:11:58.523Z"
      },
      {
        "duration": 7,
        "start_time": "2023-02-15T11:11:58.532Z"
      },
      {
        "duration": 9,
        "start_time": "2023-02-15T11:11:58.542Z"
      },
      {
        "duration": 9,
        "start_time": "2023-02-15T11:11:58.553Z"
      },
      {
        "duration": 17,
        "start_time": "2023-02-15T11:11:58.592Z"
      },
      {
        "duration": 17,
        "start_time": "2023-02-15T11:11:58.613Z"
      },
      {
        "duration": 337,
        "start_time": "2023-02-15T11:11:58.632Z"
      },
      {
        "duration": 235,
        "start_time": "2023-02-15T11:11:58.971Z"
      },
      {
        "duration": 226,
        "start_time": "2023-02-15T11:11:59.208Z"
      },
      {
        "duration": 306,
        "start_time": "2023-02-15T11:11:59.435Z"
      },
      {
        "duration": 253,
        "start_time": "2023-02-15T11:11:59.742Z"
      },
      {
        "duration": 336,
        "start_time": "2023-02-15T11:11:59.997Z"
      },
      {
        "duration": 145,
        "start_time": "2023-02-15T11:12:00.334Z"
      },
      {
        "duration": 151,
        "start_time": "2023-02-15T11:12:00.480Z"
      },
      {
        "duration": 5,
        "start_time": "2023-02-15T11:12:00.633Z"
      },
      {
        "duration": 245,
        "start_time": "2023-02-15T11:12:00.640Z"
      },
      {
        "duration": 186,
        "start_time": "2023-02-15T11:12:00.887Z"
      },
      {
        "duration": 5,
        "start_time": "2023-02-15T11:12:01.075Z"
      },
      {
        "duration": 171,
        "start_time": "2023-02-15T11:12:01.091Z"
      },
      {
        "duration": 3,
        "start_time": "2023-02-15T11:12:01.264Z"
      },
      {
        "duration": 51,
        "start_time": "2023-02-15T11:12:01.269Z"
      },
      {
        "duration": 10,
        "start_time": "2023-02-15T11:12:01.323Z"
      },
      {
        "duration": 48,
        "start_time": "2023-02-15T11:12:01.336Z"
      },
      {
        "duration": 39,
        "start_time": "2023-02-15T11:12:01.386Z"
      },
      {
        "duration": 59,
        "start_time": "2023-02-15T11:12:01.426Z"
      },
      {
        "duration": 14,
        "start_time": "2023-02-15T11:12:01.487Z"
      },
      {
        "duration": 77,
        "start_time": "2023-02-15T11:15:35.211Z"
      },
      {
        "duration": 87,
        "start_time": "2023-02-15T11:16:03.884Z"
      },
      {
        "duration": 85,
        "start_time": "2023-02-15T11:19:42.530Z"
      },
      {
        "duration": 10,
        "start_time": "2023-02-15T11:27:49.469Z"
      },
      {
        "duration": 10,
        "start_time": "2023-02-15T11:28:19.141Z"
      },
      {
        "duration": 5,
        "start_time": "2023-02-15T11:30:42.599Z"
      },
      {
        "duration": 4,
        "start_time": "2023-02-15T11:31:12.079Z"
      },
      {
        "duration": 4,
        "start_time": "2023-02-15T11:31:25.456Z"
      },
      {
        "duration": 4,
        "start_time": "2023-02-15T11:37:43.223Z"
      },
      {
        "duration": 4,
        "start_time": "2023-02-15T11:37:47.431Z"
      },
      {
        "duration": 4,
        "start_time": "2023-02-15T11:39:20.329Z"
      },
      {
        "duration": 93,
        "start_time": "2023-02-15T11:41:00.252Z"
      },
      {
        "duration": 4,
        "start_time": "2023-02-15T11:41:10.597Z"
      },
      {
        "duration": 4,
        "start_time": "2023-02-15T11:41:19.035Z"
      },
      {
        "duration": 5,
        "start_time": "2023-02-15T11:41:59.851Z"
      },
      {
        "duration": 68,
        "start_time": "2023-02-15T11:44:40.648Z"
      },
      {
        "duration": 3,
        "start_time": "2023-02-15T11:47:16.196Z"
      },
      {
        "duration": 26,
        "start_time": "2023-02-15T11:47:17.327Z"
      },
      {
        "duration": 74,
        "start_time": "2023-02-15T11:48:08.502Z"
      },
      {
        "duration": 3,
        "start_time": "2023-02-15T11:48:28.588Z"
      },
      {
        "duration": 21,
        "start_time": "2023-02-15T11:48:30.358Z"
      },
      {
        "duration": 4,
        "start_time": "2023-02-15T11:49:27.038Z"
      },
      {
        "duration": 21,
        "start_time": "2023-02-15T11:49:28.032Z"
      },
      {
        "duration": 3,
        "start_time": "2023-02-15T11:49:59.711Z"
      },
      {
        "duration": 21,
        "start_time": "2023-02-15T11:50:00.479Z"
      },
      {
        "duration": 4,
        "start_time": "2023-02-15T11:50:11.318Z"
      },
      {
        "duration": 24,
        "start_time": "2023-02-15T11:50:13.423Z"
      },
      {
        "duration": 3,
        "start_time": "2023-02-15T11:50:35.727Z"
      },
      {
        "duration": 22,
        "start_time": "2023-02-15T11:50:37.491Z"
      },
      {
        "duration": 20,
        "start_time": "2023-02-15T11:51:03.568Z"
      },
      {
        "duration": 21,
        "start_time": "2023-02-15T11:51:09.872Z"
      },
      {
        "duration": 19,
        "start_time": "2023-02-15T12:00:38.742Z"
      },
      {
        "duration": 8,
        "start_time": "2023-02-15T12:02:17.013Z"
      },
      {
        "duration": 18,
        "start_time": "2023-02-15T12:02:39.005Z"
      },
      {
        "duration": 5,
        "start_time": "2023-02-15T12:12:37.353Z"
      },
      {
        "duration": 5,
        "start_time": "2023-02-15T12:13:11.968Z"
      },
      {
        "duration": 13,
        "start_time": "2023-02-15T12:14:12.491Z"
      },
      {
        "duration": 12,
        "start_time": "2023-02-15T12:15:06.788Z"
      },
      {
        "duration": 19,
        "start_time": "2023-02-15T12:17:11.007Z"
      },
      {
        "duration": 8,
        "start_time": "2023-02-15T12:17:14.302Z"
      },
      {
        "duration": 14,
        "start_time": "2023-02-15T12:17:18.215Z"
      },
      {
        "duration": 3,
        "start_time": "2023-02-15T12:17:28.947Z"
      },
      {
        "duration": 78,
        "start_time": "2023-02-15T12:17:28.958Z"
      },
      {
        "duration": 3,
        "start_time": "2023-02-15T12:17:29.038Z"
      },
      {
        "duration": 35,
        "start_time": "2023-02-15T12:17:29.043Z"
      },
      {
        "duration": 25,
        "start_time": "2023-02-15T12:17:29.080Z"
      },
      {
        "duration": 26,
        "start_time": "2023-02-15T12:17:29.107Z"
      },
      {
        "duration": 8,
        "start_time": "2023-02-15T12:17:29.134Z"
      },
      {
        "duration": 20,
        "start_time": "2023-02-15T12:17:29.144Z"
      },
      {
        "duration": 15,
        "start_time": "2023-02-15T12:17:29.166Z"
      },
      {
        "duration": 6,
        "start_time": "2023-02-15T12:17:29.191Z"
      },
      {
        "duration": 24,
        "start_time": "2023-02-15T12:17:29.199Z"
      },
      {
        "duration": 22,
        "start_time": "2023-02-15T12:17:29.225Z"
      },
      {
        "duration": 27,
        "start_time": "2023-02-15T12:17:29.248Z"
      },
      {
        "duration": 4,
        "start_time": "2023-02-15T12:17:29.277Z"
      },
      {
        "duration": 18,
        "start_time": "2023-02-15T12:17:29.284Z"
      },
      {
        "duration": 298,
        "start_time": "2023-02-15T12:17:29.303Z"
      },
      {
        "duration": 209,
        "start_time": "2023-02-15T12:17:29.603Z"
      },
      {
        "duration": 221,
        "start_time": "2023-02-15T12:17:29.814Z"
      },
      {
        "duration": 264,
        "start_time": "2023-02-15T12:17:30.037Z"
      },
      {
        "duration": 231,
        "start_time": "2023-02-15T12:17:30.303Z"
      },
      {
        "duration": 326,
        "start_time": "2023-02-15T12:17:30.536Z"
      },
      {
        "duration": 150,
        "start_time": "2023-02-15T12:17:30.864Z"
      },
      {
        "duration": 156,
        "start_time": "2023-02-15T12:17:31.015Z"
      },
      {
        "duration": 6,
        "start_time": "2023-02-15T12:17:31.173Z"
      },
      {
        "duration": 492,
        "start_time": "2023-02-15T12:17:31.192Z"
      },
      {
        "duration": 147,
        "start_time": "2023-02-15T12:17:31.686Z"
      },
      {
        "duration": 5,
        "start_time": "2023-02-15T12:17:31.835Z"
      },
      {
        "duration": 135,
        "start_time": "2023-02-15T12:17:31.841Z"
      },
      {
        "duration": 4,
        "start_time": "2023-02-15T12:17:31.978Z"
      },
      {
        "duration": 41,
        "start_time": "2023-02-15T12:17:31.991Z"
      },
      {
        "duration": 25,
        "start_time": "2023-02-15T12:17:32.034Z"
      },
      {
        "duration": 20,
        "start_time": "2023-02-15T12:17:32.061Z"
      },
      {
        "duration": 18,
        "start_time": "2023-02-15T12:17:32.082Z"
      },
      {
        "duration": 27,
        "start_time": "2023-02-15T12:17:32.101Z"
      },
      {
        "duration": 26,
        "start_time": "2023-02-15T12:17:32.130Z"
      },
      {
        "duration": 9,
        "start_time": "2023-02-15T12:17:32.158Z"
      },
      {
        "duration": 5,
        "start_time": "2023-02-15T12:27:39.620Z"
      },
      {
        "duration": 5,
        "start_time": "2023-02-15T12:27:50.493Z"
      },
      {
        "duration": 14,
        "start_time": "2023-02-15T12:28:51.222Z"
      },
      {
        "duration": 4,
        "start_time": "2023-02-15T12:29:39.558Z"
      },
      {
        "duration": 5,
        "start_time": "2023-02-15T12:29:55.750Z"
      },
      {
        "duration": 4,
        "start_time": "2023-02-15T12:30:37.335Z"
      },
      {
        "duration": 8,
        "start_time": "2023-02-15T12:30:44.553Z"
      },
      {
        "duration": 115,
        "start_time": "2023-02-15T12:37:42.087Z"
      },
      {
        "duration": 7,
        "start_time": "2023-02-15T12:37:49.738Z"
      },
      {
        "duration": 4,
        "start_time": "2023-02-15T12:41:35.976Z"
      },
      {
        "duration": 85,
        "start_time": "2023-02-15T12:41:35.983Z"
      },
      {
        "duration": 4,
        "start_time": "2023-02-15T12:41:36.071Z"
      },
      {
        "duration": 49,
        "start_time": "2023-02-15T12:41:36.076Z"
      },
      {
        "duration": 24,
        "start_time": "2023-02-15T12:41:36.128Z"
      },
      {
        "duration": 38,
        "start_time": "2023-02-15T12:41:36.154Z"
      },
      {
        "duration": 7,
        "start_time": "2023-02-15T12:41:36.194Z"
      },
      {
        "duration": 13,
        "start_time": "2023-02-15T12:41:36.202Z"
      },
      {
        "duration": 14,
        "start_time": "2023-02-15T12:41:36.217Z"
      },
      {
        "duration": 14,
        "start_time": "2023-02-15T12:41:36.233Z"
      },
      {
        "duration": 13,
        "start_time": "2023-02-15T12:41:36.249Z"
      },
      {
        "duration": 38,
        "start_time": "2023-02-15T12:41:36.264Z"
      },
      {
        "duration": 80,
        "start_time": "2023-02-15T12:41:36.307Z"
      },
      {
        "duration": 0,
        "start_time": "2023-02-15T12:41:36.391Z"
      },
      {
        "duration": 0,
        "start_time": "2023-02-15T12:41:36.392Z"
      },
      {
        "duration": 0,
        "start_time": "2023-02-15T12:41:36.394Z"
      },
      {
        "duration": 0,
        "start_time": "2023-02-15T12:41:36.395Z"
      },
      {
        "duration": 0,
        "start_time": "2023-02-15T12:41:36.397Z"
      },
      {
        "duration": 0,
        "start_time": "2023-02-15T12:41:36.398Z"
      },
      {
        "duration": 0,
        "start_time": "2023-02-15T12:41:36.400Z"
      },
      {
        "duration": 0,
        "start_time": "2023-02-15T12:41:36.401Z"
      },
      {
        "duration": 1,
        "start_time": "2023-02-15T12:41:36.402Z"
      },
      {
        "duration": 0,
        "start_time": "2023-02-15T12:41:36.404Z"
      },
      {
        "duration": 0,
        "start_time": "2023-02-15T12:41:36.406Z"
      },
      {
        "duration": 0,
        "start_time": "2023-02-15T12:41:36.407Z"
      },
      {
        "duration": 0,
        "start_time": "2023-02-15T12:41:36.409Z"
      },
      {
        "duration": 0,
        "start_time": "2023-02-15T12:41:36.410Z"
      },
      {
        "duration": 0,
        "start_time": "2023-02-15T12:41:36.412Z"
      },
      {
        "duration": 0,
        "start_time": "2023-02-15T12:41:36.414Z"
      },
      {
        "duration": 0,
        "start_time": "2023-02-15T12:41:36.416Z"
      },
      {
        "duration": 0,
        "start_time": "2023-02-15T12:41:36.417Z"
      },
      {
        "duration": 0,
        "start_time": "2023-02-15T12:41:36.419Z"
      },
      {
        "duration": 0,
        "start_time": "2023-02-15T12:41:36.420Z"
      },
      {
        "duration": 0,
        "start_time": "2023-02-15T12:41:36.421Z"
      },
      {
        "duration": 0,
        "start_time": "2023-02-15T12:41:36.422Z"
      },
      {
        "duration": 0,
        "start_time": "2023-02-15T12:41:36.424Z"
      },
      {
        "duration": 0,
        "start_time": "2023-02-15T12:41:36.425Z"
      },
      {
        "duration": 0,
        "start_time": "2023-02-15T12:41:36.426Z"
      },
      {
        "duration": 0,
        "start_time": "2023-02-15T12:41:36.428Z"
      },
      {
        "duration": 0,
        "start_time": "2023-02-15T12:41:36.430Z"
      },
      {
        "duration": 3,
        "start_time": "2023-02-15T12:42:03.603Z"
      },
      {
        "duration": 79,
        "start_time": "2023-02-15T12:42:03.609Z"
      },
      {
        "duration": 4,
        "start_time": "2023-02-15T12:42:03.690Z"
      },
      {
        "duration": 32,
        "start_time": "2023-02-15T12:42:03.697Z"
      },
      {
        "duration": 23,
        "start_time": "2023-02-15T12:42:03.731Z"
      },
      {
        "duration": 19,
        "start_time": "2023-02-15T12:42:03.792Z"
      },
      {
        "duration": 8,
        "start_time": "2023-02-15T12:42:03.813Z"
      },
      {
        "duration": 13,
        "start_time": "2023-02-15T12:42:03.823Z"
      },
      {
        "duration": 8,
        "start_time": "2023-02-15T12:42:03.839Z"
      },
      {
        "duration": 42,
        "start_time": "2023-02-15T12:42:03.849Z"
      },
      {
        "duration": 17,
        "start_time": "2023-02-15T12:42:03.893Z"
      },
      {
        "duration": 16,
        "start_time": "2023-02-15T12:42:03.911Z"
      },
      {
        "duration": 7,
        "start_time": "2023-02-15T12:42:03.929Z"
      },
      {
        "duration": 10,
        "start_time": "2023-02-15T12:42:03.937Z"
      },
      {
        "duration": 17,
        "start_time": "2023-02-15T12:42:03.948Z"
      },
      {
        "duration": 19,
        "start_time": "2023-02-15T12:42:03.991Z"
      },
      {
        "duration": 4,
        "start_time": "2023-02-15T12:42:04.012Z"
      },
      {
        "duration": 19,
        "start_time": "2023-02-15T12:42:04.018Z"
      },
      {
        "duration": 337,
        "start_time": "2023-02-15T12:42:04.039Z"
      },
      {
        "duration": 221,
        "start_time": "2023-02-15T12:42:04.378Z"
      },
      {
        "duration": 236,
        "start_time": "2023-02-15T12:42:04.601Z"
      },
      {
        "duration": 318,
        "start_time": "2023-02-15T12:42:04.839Z"
      },
      {
        "duration": 292,
        "start_time": "2023-02-15T12:42:05.159Z"
      },
      {
        "duration": 370,
        "start_time": "2023-02-15T12:42:05.455Z"
      },
      {
        "duration": 158,
        "start_time": "2023-02-15T12:42:05.827Z"
      },
      {
        "duration": 153,
        "start_time": "2023-02-15T12:42:05.992Z"
      },
      {
        "duration": 5,
        "start_time": "2023-02-15T12:42:06.147Z"
      },
      {
        "duration": 222,
        "start_time": "2023-02-15T12:42:06.154Z"
      },
      {
        "duration": 217,
        "start_time": "2023-02-15T12:42:06.378Z"
      },
      {
        "duration": 11,
        "start_time": "2023-02-15T12:42:06.599Z"
      },
      {
        "duration": 251,
        "start_time": "2023-02-15T12:42:06.612Z"
      },
      {
        "duration": 4,
        "start_time": "2023-02-15T12:42:06.865Z"
      },
      {
        "duration": 53,
        "start_time": "2023-02-15T12:42:06.871Z"
      },
      {
        "duration": 12,
        "start_time": "2023-02-15T12:42:06.928Z"
      },
      {
        "duration": 12,
        "start_time": "2023-02-15T12:42:06.942Z"
      },
      {
        "duration": 10,
        "start_time": "2023-02-15T12:42:06.956Z"
      },
      {
        "duration": 12,
        "start_time": "2023-02-15T12:42:06.992Z"
      },
      {
        "duration": 64,
        "start_time": "2023-02-15T12:42:07.011Z"
      },
      {
        "duration": 14,
        "start_time": "2023-02-15T12:42:07.077Z"
      },
      {
        "duration": 5,
        "start_time": "2023-02-15T12:42:31.137Z"
      },
      {
        "duration": 7,
        "start_time": "2023-02-15T12:43:57.974Z"
      },
      {
        "duration": 5,
        "start_time": "2023-02-15T12:44:44.176Z"
      },
      {
        "duration": 4,
        "start_time": "2023-02-15T12:45:48.922Z"
      },
      {
        "duration": 3,
        "start_time": "2023-02-15T12:46:01.068Z"
      },
      {
        "duration": 93,
        "start_time": "2023-02-15T12:46:01.073Z"
      },
      {
        "duration": 4,
        "start_time": "2023-02-15T12:46:01.168Z"
      },
      {
        "duration": 37,
        "start_time": "2023-02-15T12:46:01.174Z"
      },
      {
        "duration": 20,
        "start_time": "2023-02-15T12:46:01.214Z"
      },
      {
        "duration": 22,
        "start_time": "2023-02-15T12:46:01.236Z"
      },
      {
        "duration": 36,
        "start_time": "2023-02-15T12:46:01.259Z"
      },
      {
        "duration": 29,
        "start_time": "2023-02-15T12:46:01.297Z"
      },
      {
        "duration": 54,
        "start_time": "2023-02-15T12:46:01.328Z"
      },
      {
        "duration": 42,
        "start_time": "2023-02-15T12:46:01.383Z"
      },
      {
        "duration": 44,
        "start_time": "2023-02-15T12:46:01.427Z"
      },
      {
        "duration": 36,
        "start_time": "2023-02-15T12:46:01.472Z"
      },
      {
        "duration": 46,
        "start_time": "2023-02-15T12:46:01.510Z"
      },
      {
        "duration": 30,
        "start_time": "2023-02-15T12:46:01.561Z"
      },
      {
        "duration": 16,
        "start_time": "2023-02-15T12:46:01.593Z"
      },
      {
        "duration": 47,
        "start_time": "2023-02-15T12:46:01.611Z"
      },
      {
        "duration": 41,
        "start_time": "2023-02-15T12:46:01.660Z"
      },
      {
        "duration": 21,
        "start_time": "2023-02-15T12:46:01.704Z"
      },
      {
        "duration": 0,
        "start_time": "2023-02-15T12:46:01.728Z"
      },
      {
        "duration": 0,
        "start_time": "2023-02-15T12:46:01.730Z"
      },
      {
        "duration": 1,
        "start_time": "2023-02-15T12:46:01.731Z"
      },
      {
        "duration": 0,
        "start_time": "2023-02-15T12:46:01.733Z"
      },
      {
        "duration": 0,
        "start_time": "2023-02-15T12:46:01.734Z"
      },
      {
        "duration": 0,
        "start_time": "2023-02-15T12:46:01.735Z"
      },
      {
        "duration": 0,
        "start_time": "2023-02-15T12:46:01.736Z"
      },
      {
        "duration": 0,
        "start_time": "2023-02-15T12:46:01.738Z"
      },
      {
        "duration": 0,
        "start_time": "2023-02-15T12:46:01.738Z"
      },
      {
        "duration": 0,
        "start_time": "2023-02-15T12:46:01.739Z"
      },
      {
        "duration": 0,
        "start_time": "2023-02-15T12:46:01.741Z"
      },
      {
        "duration": 0,
        "start_time": "2023-02-15T12:46:01.742Z"
      },
      {
        "duration": 0,
        "start_time": "2023-02-15T12:46:01.742Z"
      },
      {
        "duration": 0,
        "start_time": "2023-02-15T12:46:01.744Z"
      },
      {
        "duration": 0,
        "start_time": "2023-02-15T12:46:01.744Z"
      },
      {
        "duration": 0,
        "start_time": "2023-02-15T12:46:01.745Z"
      },
      {
        "duration": 0,
        "start_time": "2023-02-15T12:46:01.746Z"
      },
      {
        "duration": 0,
        "start_time": "2023-02-15T12:46:01.747Z"
      },
      {
        "duration": 0,
        "start_time": "2023-02-15T12:46:01.748Z"
      },
      {
        "duration": 0,
        "start_time": "2023-02-15T12:46:01.750Z"
      },
      {
        "duration": 0,
        "start_time": "2023-02-15T12:46:01.751Z"
      },
      {
        "duration": 0,
        "start_time": "2023-02-15T12:46:01.752Z"
      },
      {
        "duration": 0,
        "start_time": "2023-02-15T12:46:01.753Z"
      },
      {
        "duration": 0,
        "start_time": "2023-02-15T12:46:01.754Z"
      },
      {
        "duration": 0,
        "start_time": "2023-02-15T12:46:01.755Z"
      },
      {
        "duration": 3,
        "start_time": "2023-02-15T12:46:27.700Z"
      },
      {
        "duration": 77,
        "start_time": "2023-02-15T12:46:27.706Z"
      },
      {
        "duration": 4,
        "start_time": "2023-02-15T12:46:27.785Z"
      },
      {
        "duration": 28,
        "start_time": "2023-02-15T12:46:27.791Z"
      },
      {
        "duration": 24,
        "start_time": "2023-02-15T12:46:27.822Z"
      },
      {
        "duration": 48,
        "start_time": "2023-02-15T12:46:27.848Z"
      },
      {
        "duration": 8,
        "start_time": "2023-02-15T12:46:27.898Z"
      },
      {
        "duration": 14,
        "start_time": "2023-02-15T12:46:27.908Z"
      },
      {
        "duration": 14,
        "start_time": "2023-02-15T12:46:27.924Z"
      },
      {
        "duration": 17,
        "start_time": "2023-02-15T12:46:27.939Z"
      },
      {
        "duration": 14,
        "start_time": "2023-02-15T12:46:27.959Z"
      },
      {
        "duration": 22,
        "start_time": "2023-02-15T12:46:27.975Z"
      },
      {
        "duration": 14,
        "start_time": "2023-02-15T12:46:27.999Z"
      },
      {
        "duration": 12,
        "start_time": "2023-02-15T12:46:28.015Z"
      },
      {
        "duration": 27,
        "start_time": "2023-02-15T12:46:28.028Z"
      },
      {
        "duration": 17,
        "start_time": "2023-02-15T12:46:28.056Z"
      },
      {
        "duration": 4,
        "start_time": "2023-02-15T12:46:28.074Z"
      },
      {
        "duration": 19,
        "start_time": "2023-02-15T12:46:28.080Z"
      },
      {
        "duration": 10,
        "start_time": "2023-02-15T12:46:28.100Z"
      },
      {
        "duration": 13,
        "start_time": "2023-02-15T12:46:28.111Z"
      },
      {
        "duration": 21,
        "start_time": "2023-02-15T12:46:28.125Z"
      },
      {
        "duration": 271,
        "start_time": "2023-02-15T12:46:28.148Z"
      },
      {
        "duration": 235,
        "start_time": "2023-02-15T12:46:28.420Z"
      },
      {
        "duration": 216,
        "start_time": "2023-02-15T12:46:28.657Z"
      },
      {
        "duration": 326,
        "start_time": "2023-02-15T12:46:28.875Z"
      },
      {
        "duration": 219,
        "start_time": "2023-02-15T12:46:29.202Z"
      },
      {
        "duration": 317,
        "start_time": "2023-02-15T12:46:29.422Z"
      },
      {
        "duration": 158,
        "start_time": "2023-02-15T12:46:29.741Z"
      },
      {
        "duration": 160,
        "start_time": "2023-02-15T12:46:29.903Z"
      },
      {
        "duration": 6,
        "start_time": "2023-02-15T12:46:30.065Z"
      },
      {
        "duration": 203,
        "start_time": "2023-02-15T12:46:30.072Z"
      },
      {
        "duration": 153,
        "start_time": "2023-02-15T12:46:30.276Z"
      },
      {
        "duration": 5,
        "start_time": "2023-02-15T12:46:30.431Z"
      },
      {
        "duration": 162,
        "start_time": "2023-02-15T12:46:30.438Z"
      },
      {
        "duration": 4,
        "start_time": "2023-02-15T12:46:30.601Z"
      },
      {
        "duration": 34,
        "start_time": "2023-02-15T12:46:30.607Z"
      },
      {
        "duration": 8,
        "start_time": "2023-02-15T12:46:30.643Z"
      },
      {
        "duration": 21,
        "start_time": "2023-02-15T12:46:30.653Z"
      },
      {
        "duration": 23,
        "start_time": "2023-02-15T12:46:30.676Z"
      },
      {
        "duration": 27,
        "start_time": "2023-02-15T12:46:30.701Z"
      },
      {
        "duration": 47,
        "start_time": "2023-02-15T12:46:30.730Z"
      },
      {
        "duration": 9,
        "start_time": "2023-02-15T12:46:30.780Z"
      },
      {
        "duration": 13,
        "start_time": "2023-02-15T12:47:38.549Z"
      },
      {
        "duration": 6,
        "start_time": "2023-02-15T12:49:03.512Z"
      },
      {
        "duration": 93,
        "start_time": "2023-02-15T12:50:59.766Z"
      },
      {
        "duration": 4,
        "start_time": "2023-02-15T12:51:24.776Z"
      },
      {
        "duration": 18,
        "start_time": "2023-02-15T12:54:30.169Z"
      },
      {
        "duration": 5,
        "start_time": "2023-02-15T12:54:33.416Z"
      },
      {
        "duration": 196,
        "start_time": "2023-02-15T13:15:41.128Z"
      },
      {
        "duration": 120,
        "start_time": "2023-02-15T13:16:00.885Z"
      },
      {
        "duration": 142,
        "start_time": "2023-02-15T13:17:30.494Z"
      },
      {
        "duration": 115,
        "start_time": "2023-02-15T13:17:42.200Z"
      },
      {
        "duration": 104,
        "start_time": "2023-02-15T13:21:42.157Z"
      },
      {
        "duration": 438,
        "start_time": "2023-02-15T13:22:48.841Z"
      },
      {
        "duration": 81,
        "start_time": "2023-02-15T13:23:03.223Z"
      },
      {
        "duration": 3,
        "start_time": "2023-02-15T13:24:04.145Z"
      },
      {
        "duration": 79,
        "start_time": "2023-02-15T13:24:04.153Z"
      },
      {
        "duration": 3,
        "start_time": "2023-02-15T13:24:04.234Z"
      },
      {
        "duration": 34,
        "start_time": "2023-02-15T13:24:04.239Z"
      },
      {
        "duration": 33,
        "start_time": "2023-02-15T13:24:04.275Z"
      },
      {
        "duration": 29,
        "start_time": "2023-02-15T13:24:04.310Z"
      },
      {
        "duration": 11,
        "start_time": "2023-02-15T13:24:04.341Z"
      },
      {
        "duration": 39,
        "start_time": "2023-02-15T13:24:04.354Z"
      },
      {
        "duration": 5,
        "start_time": "2023-02-15T13:24:04.395Z"
      },
      {
        "duration": 9,
        "start_time": "2023-02-15T13:24:04.402Z"
      },
      {
        "duration": 21,
        "start_time": "2023-02-15T13:24:04.416Z"
      },
      {
        "duration": 14,
        "start_time": "2023-02-15T13:24:04.440Z"
      },
      {
        "duration": 8,
        "start_time": "2023-02-15T13:24:04.455Z"
      },
      {
        "duration": 29,
        "start_time": "2023-02-15T13:24:04.465Z"
      },
      {
        "duration": 6,
        "start_time": "2023-02-15T13:24:04.496Z"
      },
      {
        "duration": 23,
        "start_time": "2023-02-15T13:24:04.504Z"
      },
      {
        "duration": 9,
        "start_time": "2023-02-15T13:24:04.528Z"
      },
      {
        "duration": 9,
        "start_time": "2023-02-15T13:24:04.538Z"
      },
      {
        "duration": 329,
        "start_time": "2023-02-15T13:24:04.549Z"
      },
      {
        "duration": 241,
        "start_time": "2023-02-15T13:24:04.879Z"
      },
      {
        "duration": 208,
        "start_time": "2023-02-15T13:24:05.122Z"
      },
      {
        "duration": 323,
        "start_time": "2023-02-15T13:24:05.332Z"
      },
      {
        "duration": 236,
        "start_time": "2023-02-15T13:24:05.657Z"
      },
      {
        "duration": 345,
        "start_time": "2023-02-15T13:24:05.895Z"
      },
      {
        "duration": 442,
        "start_time": "2023-02-15T13:24:06.242Z"
      },
      {
        "duration": 182,
        "start_time": "2023-02-15T13:24:06.687Z"
      },
      {
        "duration": 5,
        "start_time": "2023-02-15T13:24:06.872Z"
      },
      {
        "duration": 180,
        "start_time": "2023-02-15T13:24:06.892Z"
      },
      {
        "duration": 153,
        "start_time": "2023-02-15T13:24:07.076Z"
      },
      {
        "duration": 121,
        "start_time": "2023-02-15T13:24:07.231Z"
      },
      {
        "duration": 4,
        "start_time": "2023-02-15T13:24:07.354Z"
      },
      {
        "duration": 146,
        "start_time": "2023-02-15T13:24:07.360Z"
      },
      {
        "duration": 5,
        "start_time": "2023-02-15T13:24:07.507Z"
      },
      {
        "duration": 24,
        "start_time": "2023-02-15T13:24:07.513Z"
      },
      {
        "duration": 7,
        "start_time": "2023-02-15T13:24:07.539Z"
      },
      {
        "duration": 12,
        "start_time": "2023-02-15T13:24:07.548Z"
      },
      {
        "duration": 33,
        "start_time": "2023-02-15T13:24:07.562Z"
      },
      {
        "duration": 10,
        "start_time": "2023-02-15T13:24:07.596Z"
      },
      {
        "duration": 27,
        "start_time": "2023-02-15T13:24:07.607Z"
      },
      {
        "duration": 9,
        "start_time": "2023-02-15T13:24:07.635Z"
      }
    ],
    "kernelspec": {
      "display_name": "Python 3 (ipykernel)",
      "language": "python",
      "name": "python3"
    },
    "language_info": {
      "codemirror_mode": {
        "name": "ipython",
        "version": 3
      },
      "file_extension": ".py",
      "mimetype": "text/x-python",
      "name": "python",
      "nbconvert_exporter": "python",
      "pygments_lexer": "ipython3",
      "version": "3.9.5"
    },
    "toc": {
      "base_numbering": 1,
      "nav_menu": {},
      "number_sections": true,
      "sideBar": true,
      "skip_h1_title": true,
      "title_cell": "Table of Contents",
      "title_sidebar": "Contents",
      "toc_cell": false,
      "toc_position": {
        "height": "calc(100% - 180px)",
        "left": "10px",
        "top": "150px",
        "width": "165px"
      },
      "toc_section_display": true,
      "toc_window_display": true
    },
    "colab": {
      "provenance": [],
      "include_colab_link": true
    }
  },
  "nbformat": 4,
  "nbformat_minor": 0
}