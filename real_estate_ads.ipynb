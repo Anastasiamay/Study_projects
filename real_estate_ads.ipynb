{
  "cells": [
    {
      "cell_type": "markdown",
      "metadata": {
        "id": "view-in-github",
        "colab_type": "text"
      },
      "source": [
        "<a href=\"https://colab.research.google.com/github/Anastasiamay/Study_projects/blob/main/real_estate_ads.ipynb\" target=\"_parent\"><img src=\"https://colab.research.google.com/assets/colab-badge.svg\" alt=\"Open In Colab\"/></a>"
      ]
    },
    {
      "cell_type": "markdown",
      "metadata": {
        "id": "qpudtVhPGcSb"
      },
      "source": [
        "# Исследование объявлений о продаже квартир\n"
      ]
    },
    {
      "cell_type": "markdown",
      "metadata": {
        "id": "4WzwpEH7GcSc"
      },
      "source": [
        "### Откройте файл с данными и изучите общую информацию. "
      ]
    },
    {
      "cell_type": "code",
      "execution_count": null,
      "metadata": {
        "id": "N3VIUBZYGcSd"
      },
      "outputs": [],
      "source": [
        "import pandas as pd\n",
        "import matplotlib.pyplot as plt"
      ]
    },
    {
      "cell_type": "code",
      "source": [
        "! gdown --id 1yjkwD0Zrtwm8AhHipQaTnQxESO3eCTkV"
      ],
      "metadata": {
        "colab": {
          "base_uri": "https://localhost:8080/"
        },
        "id": "rA01tS6LHXoy",
        "outputId": "36184c72-37c1-4496-b795-191acaf336a4"
      },
      "execution_count": null,
      "outputs": [
        {
          "output_type": "stream",
          "name": "stdout",
          "text": [
            "/usr/local/lib/python3.7/dist-packages/gdown/cli.py:131: FutureWarning: Option `--id` was deprecated in version 4.3.1 and will be removed in 5.0. You don't need to pass it anymore to use a file ID.\n",
            "  category=FutureWarning,\n",
            "Downloading...\n",
            "From: https://drive.google.com/uc?id=1yjkwD0Zrtwm8AhHipQaTnQxESO3eCTkV\n",
            "To: /content/real_estate_data.csv\n",
            "100% 3.21M/3.21M [00:00<00:00, 195MB/s]\n"
          ]
        }
      ]
    },
    {
      "cell_type": "code",
      "execution_count": null,
      "metadata": {
        "scrolled": true,
        "colab": {
          "base_uri": "https://localhost:8080/",
          "height": 618
        },
        "id": "9QHvdsUnGcSg",
        "outputId": "e08fe224-c14b-4ef4-bc29-082b6cd01190"
      },
      "outputs": [
        {
          "output_type": "execute_result",
          "data": {
            "text/plain": [
              "   total_images  last_price  total_area first_day_exposition  rooms  \\\n",
              "0            20  13000000.0      108.00  2019-03-07T00:00:00      3   \n",
              "1             7   3350000.0       40.40  2018-12-04T00:00:00      1   \n",
              "2            10   5196000.0       56.00  2015-08-20T00:00:00      2   \n",
              "3             0  64900000.0      159.00  2015-07-24T00:00:00      3   \n",
              "4             2  10000000.0      100.00  2018-06-19T00:00:00      2   \n",
              "5            10   2890000.0       30.40  2018-09-10T00:00:00      1   \n",
              "6             6   3700000.0       37.30  2017-11-02T00:00:00      1   \n",
              "7             5   7915000.0       71.60  2019-04-18T00:00:00      2   \n",
              "8            20   2900000.0       33.16  2018-05-23T00:00:00      1   \n",
              "9            18   5400000.0       61.00  2017-02-26T00:00:00      3   \n",
              "\n",
              "   ceiling_height  floors_total  living_area  floor is_apartment  studio  \\\n",
              "0            2.70          16.0        51.00      8          NaN   False   \n",
              "1             NaN          11.0        18.60      1          NaN   False   \n",
              "2             NaN           5.0        34.30      4          NaN   False   \n",
              "3             NaN          14.0          NaN      9          NaN   False   \n",
              "4            3.03          14.0        32.00     13          NaN   False   \n",
              "5             NaN          12.0        14.40      5          NaN   False   \n",
              "6             NaN          26.0        10.60      6          NaN   False   \n",
              "7             NaN          24.0          NaN     22          NaN   False   \n",
              "8             NaN          27.0        15.43     26          NaN   False   \n",
              "9            2.50           9.0        43.60      7          NaN   False   \n",
              "\n",
              "   open_plan  kitchen_area  balcony              locality_name  \\\n",
              "0      False         25.00      NaN            Санкт-Петербург   \n",
              "1      False         11.00      2.0             посёлок Шушары   \n",
              "2      False          8.30      0.0            Санкт-Петербург   \n",
              "3      False           NaN      0.0            Санкт-Петербург   \n",
              "4      False         41.00      NaN            Санкт-Петербург   \n",
              "5      False          9.10      NaN  городской посёлок Янино-1   \n",
              "6      False         14.40      1.0          посёлок Парголово   \n",
              "7      False         18.90      2.0            Санкт-Петербург   \n",
              "8      False          8.81      NaN             посёлок Мурино   \n",
              "9      False          6.50      2.0            Санкт-Петербург   \n",
              "\n",
              "   airports_nearest  cityCenters_nearest  parks_around3000  parks_nearest  \\\n",
              "0           18863.0              16028.0               1.0          482.0   \n",
              "1           12817.0              18603.0               0.0            NaN   \n",
              "2           21741.0              13933.0               1.0           90.0   \n",
              "3           28098.0               6800.0               2.0           84.0   \n",
              "4           31856.0               8098.0               2.0          112.0   \n",
              "5               NaN                  NaN               NaN            NaN   \n",
              "6           52996.0              19143.0               0.0            NaN   \n",
              "7           23982.0              11634.0               0.0            NaN   \n",
              "8               NaN                  NaN               NaN            NaN   \n",
              "9           50898.0              15008.0               0.0            NaN   \n",
              "\n",
              "   ponds_around3000  ponds_nearest  days_exposition  \n",
              "0               2.0          755.0              NaN  \n",
              "1               0.0            NaN             81.0  \n",
              "2               2.0          574.0            558.0  \n",
              "3               3.0          234.0            424.0  \n",
              "4               1.0           48.0            121.0  \n",
              "5               NaN            NaN             55.0  \n",
              "6               0.0            NaN            155.0  \n",
              "7               0.0            NaN              NaN  \n",
              "8               NaN            NaN            189.0  \n",
              "9               0.0            NaN            289.0  "
            ],
            "text/html": [
              "\n",
              "  <div id=\"df-88c2a04f-07aa-43ec-944a-91f9427b50cb\">\n",
              "    <div class=\"colab-df-container\">\n",
              "      <div>\n",
              "<style scoped>\n",
              "    .dataframe tbody tr th:only-of-type {\n",
              "        vertical-align: middle;\n",
              "    }\n",
              "\n",
              "    .dataframe tbody tr th {\n",
              "        vertical-align: top;\n",
              "    }\n",
              "\n",
              "    .dataframe thead th {\n",
              "        text-align: right;\n",
              "    }\n",
              "</style>\n",
              "<table border=\"1\" class=\"dataframe\">\n",
              "  <thead>\n",
              "    <tr style=\"text-align: right;\">\n",
              "      <th></th>\n",
              "      <th>total_images</th>\n",
              "      <th>last_price</th>\n",
              "      <th>total_area</th>\n",
              "      <th>first_day_exposition</th>\n",
              "      <th>rooms</th>\n",
              "      <th>ceiling_height</th>\n",
              "      <th>floors_total</th>\n",
              "      <th>living_area</th>\n",
              "      <th>floor</th>\n",
              "      <th>is_apartment</th>\n",
              "      <th>studio</th>\n",
              "      <th>open_plan</th>\n",
              "      <th>kitchen_area</th>\n",
              "      <th>balcony</th>\n",
              "      <th>locality_name</th>\n",
              "      <th>airports_nearest</th>\n",
              "      <th>cityCenters_nearest</th>\n",
              "      <th>parks_around3000</th>\n",
              "      <th>parks_nearest</th>\n",
              "      <th>ponds_around3000</th>\n",
              "      <th>ponds_nearest</th>\n",
              "      <th>days_exposition</th>\n",
              "    </tr>\n",
              "  </thead>\n",
              "  <tbody>\n",
              "    <tr>\n",
              "      <th>0</th>\n",
              "      <td>20</td>\n",
              "      <td>13000000.0</td>\n",
              "      <td>108.00</td>\n",
              "      <td>2019-03-07T00:00:00</td>\n",
              "      <td>3</td>\n",
              "      <td>2.70</td>\n",
              "      <td>16.0</td>\n",
              "      <td>51.00</td>\n",
              "      <td>8</td>\n",
              "      <td>NaN</td>\n",
              "      <td>False</td>\n",
              "      <td>False</td>\n",
              "      <td>25.00</td>\n",
              "      <td>NaN</td>\n",
              "      <td>Санкт-Петербург</td>\n",
              "      <td>18863.0</td>\n",
              "      <td>16028.0</td>\n",
              "      <td>1.0</td>\n",
              "      <td>482.0</td>\n",
              "      <td>2.0</td>\n",
              "      <td>755.0</td>\n",
              "      <td>NaN</td>\n",
              "    </tr>\n",
              "    <tr>\n",
              "      <th>1</th>\n",
              "      <td>7</td>\n",
              "      <td>3350000.0</td>\n",
              "      <td>40.40</td>\n",
              "      <td>2018-12-04T00:00:00</td>\n",
              "      <td>1</td>\n",
              "      <td>NaN</td>\n",
              "      <td>11.0</td>\n",
              "      <td>18.60</td>\n",
              "      <td>1</td>\n",
              "      <td>NaN</td>\n",
              "      <td>False</td>\n",
              "      <td>False</td>\n",
              "      <td>11.00</td>\n",
              "      <td>2.0</td>\n",
              "      <td>посёлок Шушары</td>\n",
              "      <td>12817.0</td>\n",
              "      <td>18603.0</td>\n",
              "      <td>0.0</td>\n",
              "      <td>NaN</td>\n",
              "      <td>0.0</td>\n",
              "      <td>NaN</td>\n",
              "      <td>81.0</td>\n",
              "    </tr>\n",
              "    <tr>\n",
              "      <th>2</th>\n",
              "      <td>10</td>\n",
              "      <td>5196000.0</td>\n",
              "      <td>56.00</td>\n",
              "      <td>2015-08-20T00:00:00</td>\n",
              "      <td>2</td>\n",
              "      <td>NaN</td>\n",
              "      <td>5.0</td>\n",
              "      <td>34.30</td>\n",
              "      <td>4</td>\n",
              "      <td>NaN</td>\n",
              "      <td>False</td>\n",
              "      <td>False</td>\n",
              "      <td>8.30</td>\n",
              "      <td>0.0</td>\n",
              "      <td>Санкт-Петербург</td>\n",
              "      <td>21741.0</td>\n",
              "      <td>13933.0</td>\n",
              "      <td>1.0</td>\n",
              "      <td>90.0</td>\n",
              "      <td>2.0</td>\n",
              "      <td>574.0</td>\n",
              "      <td>558.0</td>\n",
              "    </tr>\n",
              "    <tr>\n",
              "      <th>3</th>\n",
              "      <td>0</td>\n",
              "      <td>64900000.0</td>\n",
              "      <td>159.00</td>\n",
              "      <td>2015-07-24T00:00:00</td>\n",
              "      <td>3</td>\n",
              "      <td>NaN</td>\n",
              "      <td>14.0</td>\n",
              "      <td>NaN</td>\n",
              "      <td>9</td>\n",
              "      <td>NaN</td>\n",
              "      <td>False</td>\n",
              "      <td>False</td>\n",
              "      <td>NaN</td>\n",
              "      <td>0.0</td>\n",
              "      <td>Санкт-Петербург</td>\n",
              "      <td>28098.0</td>\n",
              "      <td>6800.0</td>\n",
              "      <td>2.0</td>\n",
              "      <td>84.0</td>\n",
              "      <td>3.0</td>\n",
              "      <td>234.0</td>\n",
              "      <td>424.0</td>\n",
              "    </tr>\n",
              "    <tr>\n",
              "      <th>4</th>\n",
              "      <td>2</td>\n",
              "      <td>10000000.0</td>\n",
              "      <td>100.00</td>\n",
              "      <td>2018-06-19T00:00:00</td>\n",
              "      <td>2</td>\n",
              "      <td>3.03</td>\n",
              "      <td>14.0</td>\n",
              "      <td>32.00</td>\n",
              "      <td>13</td>\n",
              "      <td>NaN</td>\n",
              "      <td>False</td>\n",
              "      <td>False</td>\n",
              "      <td>41.00</td>\n",
              "      <td>NaN</td>\n",
              "      <td>Санкт-Петербург</td>\n",
              "      <td>31856.0</td>\n",
              "      <td>8098.0</td>\n",
              "      <td>2.0</td>\n",
              "      <td>112.0</td>\n",
              "      <td>1.0</td>\n",
              "      <td>48.0</td>\n",
              "      <td>121.0</td>\n",
              "    </tr>\n",
              "    <tr>\n",
              "      <th>5</th>\n",
              "      <td>10</td>\n",
              "      <td>2890000.0</td>\n",
              "      <td>30.40</td>\n",
              "      <td>2018-09-10T00:00:00</td>\n",
              "      <td>1</td>\n",
              "      <td>NaN</td>\n",
              "      <td>12.0</td>\n",
              "      <td>14.40</td>\n",
              "      <td>5</td>\n",
              "      <td>NaN</td>\n",
              "      <td>False</td>\n",
              "      <td>False</td>\n",
              "      <td>9.10</td>\n",
              "      <td>NaN</td>\n",
              "      <td>городской посёлок Янино-1</td>\n",
              "      <td>NaN</td>\n",
              "      <td>NaN</td>\n",
              "      <td>NaN</td>\n",
              "      <td>NaN</td>\n",
              "      <td>NaN</td>\n",
              "      <td>NaN</td>\n",
              "      <td>55.0</td>\n",
              "    </tr>\n",
              "    <tr>\n",
              "      <th>6</th>\n",
              "      <td>6</td>\n",
              "      <td>3700000.0</td>\n",
              "      <td>37.30</td>\n",
              "      <td>2017-11-02T00:00:00</td>\n",
              "      <td>1</td>\n",
              "      <td>NaN</td>\n",
              "      <td>26.0</td>\n",
              "      <td>10.60</td>\n",
              "      <td>6</td>\n",
              "      <td>NaN</td>\n",
              "      <td>False</td>\n",
              "      <td>False</td>\n",
              "      <td>14.40</td>\n",
              "      <td>1.0</td>\n",
              "      <td>посёлок Парголово</td>\n",
              "      <td>52996.0</td>\n",
              "      <td>19143.0</td>\n",
              "      <td>0.0</td>\n",
              "      <td>NaN</td>\n",
              "      <td>0.0</td>\n",
              "      <td>NaN</td>\n",
              "      <td>155.0</td>\n",
              "    </tr>\n",
              "    <tr>\n",
              "      <th>7</th>\n",
              "      <td>5</td>\n",
              "      <td>7915000.0</td>\n",
              "      <td>71.60</td>\n",
              "      <td>2019-04-18T00:00:00</td>\n",
              "      <td>2</td>\n",
              "      <td>NaN</td>\n",
              "      <td>24.0</td>\n",
              "      <td>NaN</td>\n",
              "      <td>22</td>\n",
              "      <td>NaN</td>\n",
              "      <td>False</td>\n",
              "      <td>False</td>\n",
              "      <td>18.90</td>\n",
              "      <td>2.0</td>\n",
              "      <td>Санкт-Петербург</td>\n",
              "      <td>23982.0</td>\n",
              "      <td>11634.0</td>\n",
              "      <td>0.0</td>\n",
              "      <td>NaN</td>\n",
              "      <td>0.0</td>\n",
              "      <td>NaN</td>\n",
              "      <td>NaN</td>\n",
              "    </tr>\n",
              "    <tr>\n",
              "      <th>8</th>\n",
              "      <td>20</td>\n",
              "      <td>2900000.0</td>\n",
              "      <td>33.16</td>\n",
              "      <td>2018-05-23T00:00:00</td>\n",
              "      <td>1</td>\n",
              "      <td>NaN</td>\n",
              "      <td>27.0</td>\n",
              "      <td>15.43</td>\n",
              "      <td>26</td>\n",
              "      <td>NaN</td>\n",
              "      <td>False</td>\n",
              "      <td>False</td>\n",
              "      <td>8.81</td>\n",
              "      <td>NaN</td>\n",
              "      <td>посёлок Мурино</td>\n",
              "      <td>NaN</td>\n",
              "      <td>NaN</td>\n",
              "      <td>NaN</td>\n",
              "      <td>NaN</td>\n",
              "      <td>NaN</td>\n",
              "      <td>NaN</td>\n",
              "      <td>189.0</td>\n",
              "    </tr>\n",
              "    <tr>\n",
              "      <th>9</th>\n",
              "      <td>18</td>\n",
              "      <td>5400000.0</td>\n",
              "      <td>61.00</td>\n",
              "      <td>2017-02-26T00:00:00</td>\n",
              "      <td>3</td>\n",
              "      <td>2.50</td>\n",
              "      <td>9.0</td>\n",
              "      <td>43.60</td>\n",
              "      <td>7</td>\n",
              "      <td>NaN</td>\n",
              "      <td>False</td>\n",
              "      <td>False</td>\n",
              "      <td>6.50</td>\n",
              "      <td>2.0</td>\n",
              "      <td>Санкт-Петербург</td>\n",
              "      <td>50898.0</td>\n",
              "      <td>15008.0</td>\n",
              "      <td>0.0</td>\n",
              "      <td>NaN</td>\n",
              "      <td>0.0</td>\n",
              "      <td>NaN</td>\n",
              "      <td>289.0</td>\n",
              "    </tr>\n",
              "  </tbody>\n",
              "</table>\n",
              "</div>\n",
              "      <button class=\"colab-df-convert\" onclick=\"convertToInteractive('df-88c2a04f-07aa-43ec-944a-91f9427b50cb')\"\n",
              "              title=\"Convert this dataframe to an interactive table.\"\n",
              "              style=\"display:none;\">\n",
              "        \n",
              "  <svg xmlns=\"http://www.w3.org/2000/svg\" height=\"24px\"viewBox=\"0 0 24 24\"\n",
              "       width=\"24px\">\n",
              "    <path d=\"M0 0h24v24H0V0z\" fill=\"none\"/>\n",
              "    <path d=\"M18.56 5.44l.94 2.06.94-2.06 2.06-.94-2.06-.94-.94-2.06-.94 2.06-2.06.94zm-11 1L8.5 8.5l.94-2.06 2.06-.94-2.06-.94L8.5 2.5l-.94 2.06-2.06.94zm10 10l.94 2.06.94-2.06 2.06-.94-2.06-.94-.94-2.06-.94 2.06-2.06.94z\"/><path d=\"M17.41 7.96l-1.37-1.37c-.4-.4-.92-.59-1.43-.59-.52 0-1.04.2-1.43.59L10.3 9.45l-7.72 7.72c-.78.78-.78 2.05 0 2.83L4 21.41c.39.39.9.59 1.41.59.51 0 1.02-.2 1.41-.59l7.78-7.78 2.81-2.81c.8-.78.8-2.07 0-2.86zM5.41 20L4 18.59l7.72-7.72 1.47 1.35L5.41 20z\"/>\n",
              "  </svg>\n",
              "      </button>\n",
              "      \n",
              "  <style>\n",
              "    .colab-df-container {\n",
              "      display:flex;\n",
              "      flex-wrap:wrap;\n",
              "      gap: 12px;\n",
              "    }\n",
              "\n",
              "    .colab-df-convert {\n",
              "      background-color: #E8F0FE;\n",
              "      border: none;\n",
              "      border-radius: 50%;\n",
              "      cursor: pointer;\n",
              "      display: none;\n",
              "      fill: #1967D2;\n",
              "      height: 32px;\n",
              "      padding: 0 0 0 0;\n",
              "      width: 32px;\n",
              "    }\n",
              "\n",
              "    .colab-df-convert:hover {\n",
              "      background-color: #E2EBFA;\n",
              "      box-shadow: 0px 1px 2px rgba(60, 64, 67, 0.3), 0px 1px 3px 1px rgba(60, 64, 67, 0.15);\n",
              "      fill: #174EA6;\n",
              "    }\n",
              "\n",
              "    [theme=dark] .colab-df-convert {\n",
              "      background-color: #3B4455;\n",
              "      fill: #D2E3FC;\n",
              "    }\n",
              "\n",
              "    [theme=dark] .colab-df-convert:hover {\n",
              "      background-color: #434B5C;\n",
              "      box-shadow: 0px 1px 3px 1px rgba(0, 0, 0, 0.15);\n",
              "      filter: drop-shadow(0px 1px 2px rgba(0, 0, 0, 0.3));\n",
              "      fill: #FFFFFF;\n",
              "    }\n",
              "  </style>\n",
              "\n",
              "      <script>\n",
              "        const buttonEl =\n",
              "          document.querySelector('#df-88c2a04f-07aa-43ec-944a-91f9427b50cb button.colab-df-convert');\n",
              "        buttonEl.style.display =\n",
              "          google.colab.kernel.accessAllowed ? 'block' : 'none';\n",
              "\n",
              "        async function convertToInteractive(key) {\n",
              "          const element = document.querySelector('#df-88c2a04f-07aa-43ec-944a-91f9427b50cb');\n",
              "          const dataTable =\n",
              "            await google.colab.kernel.invokeFunction('convertToInteractive',\n",
              "                                                     [key], {});\n",
              "          if (!dataTable) return;\n",
              "\n",
              "          const docLinkHtml = 'Like what you see? Visit the ' +\n",
              "            '<a target=\"_blank\" href=https://colab.research.google.com/notebooks/data_table.ipynb>data table notebook</a>'\n",
              "            + ' to learn more about interactive tables.';\n",
              "          element.innerHTML = '';\n",
              "          dataTable['output_type'] = 'display_data';\n",
              "          await google.colab.output.renderOutput(dataTable, element);\n",
              "          const docLink = document.createElement('div');\n",
              "          docLink.innerHTML = docLinkHtml;\n",
              "          element.appendChild(docLink);\n",
              "        }\n",
              "      </script>\n",
              "    </div>\n",
              "  </div>\n",
              "  "
            ]
          },
          "metadata": {},
          "execution_count": 3
        }
      ],
      "source": [
        "!pip install -q xlrd\n",
        "data = pd.read_csv('real_estate_data.csv', sep='\\t')\n",
        "pd.set_option('display.max_columns', None)\n",
        "data.head(10)"
      ]
    },
    {
      "cell_type": "markdown",
      "metadata": {
        "id": "Az3ibEMEGcSj"
      },
      "source": [
        "Описание данных\n",
        "* airports_nearest — расстояние до ближайшего аэропорта в метрах (м)\n",
        "* balcony — число балконов\n",
        "* ceiling_height — высота потолков (м)\n",
        "* cityCenters_nearest — расстояние до центра города (м)\n",
        "* days_exposition — сколько дней было размещено объявление (от публикации до снятия)\n",
        "* first_day_exposition — дата публикации\n",
        "* floor — этаж\n",
        "* floors_total — всего этажей в доме\n",
        "* is_apartment — апартаменты (булев тип)\n",
        "* kitchen_area — площадь кухни в квадратных метрах (м²)\n",
        "* last_price — цена на момент снятия с публикации\n",
        "* living_area — жилая площадь в квадратных метрах (м²)\n",
        "* locality_name — название населённого пункта\n",
        "* open_plan — свободная планировка (булев тип)\n",
        "* parks_around3000 — число парков в радиусе 3 км\n",
        "* parks_nearest — расстояние до ближайшего парка (м)\n",
        "* ponds_around3000 — число водоёмов в радиусе 3 км\n",
        "* ponds_nearest — расстояние до ближайшего водоёма (м)\n",
        "* rooms — число комнат\n",
        "* studio — квартира-студия (булев тип)\n",
        "* total_area — общая площадь квартиры в квадратных метрах (м²)\n",
        "* total_images — число фотографий квартиры в объявлении"
      ]
    },
    {
      "cell_type": "code",
      "execution_count": null,
      "metadata": {
        "colab": {
          "base_uri": "https://localhost:8080/"
        },
        "id": "TmQe-hYKGcSk",
        "outputId": "8e2284f7-905f-4d67-fdeb-9af560b64391"
      },
      "outputs": [
        {
          "output_type": "stream",
          "name": "stdout",
          "text": [
            "<class 'pandas.core.frame.DataFrame'>\n",
            "RangeIndex: 23699 entries, 0 to 23698\n",
            "Data columns (total 22 columns):\n",
            " #   Column                Non-Null Count  Dtype  \n",
            "---  ------                --------------  -----  \n",
            " 0   total_images          23699 non-null  int64  \n",
            " 1   last_price            23699 non-null  float64\n",
            " 2   total_area            23699 non-null  float64\n",
            " 3   first_day_exposition  23699 non-null  object \n",
            " 4   rooms                 23699 non-null  int64  \n",
            " 5   ceiling_height        14504 non-null  float64\n",
            " 6   floors_total          23613 non-null  float64\n",
            " 7   living_area           21796 non-null  float64\n",
            " 8   floor                 23699 non-null  int64  \n",
            " 9   is_apartment          2775 non-null   object \n",
            " 10  studio                23699 non-null  bool   \n",
            " 11  open_plan             23699 non-null  bool   \n",
            " 12  kitchen_area          21421 non-null  float64\n",
            " 13  balcony               12180 non-null  float64\n",
            " 14  locality_name         23650 non-null  object \n",
            " 15  airports_nearest      18157 non-null  float64\n",
            " 16  cityCenters_nearest   18180 non-null  float64\n",
            " 17  parks_around3000      18181 non-null  float64\n",
            " 18  parks_nearest         8079 non-null   float64\n",
            " 19  ponds_around3000      18181 non-null  float64\n",
            " 20  ponds_nearest         9110 non-null   float64\n",
            " 21  days_exposition       20518 non-null  float64\n",
            "dtypes: bool(2), float64(14), int64(3), object(3)\n",
            "memory usage: 3.7+ MB\n"
          ]
        }
      ],
      "source": [
        "data.info()"
      ]
    },
    {
      "cell_type": "code",
      "execution_count": null,
      "metadata": {
        "colab": {
          "base_uri": "https://localhost:8080/",
          "height": 1000
        },
        "id": "vCrCqUQwGcSm",
        "outputId": "c68a1f78-8525-4afb-cbf6-7588e57deb74"
      },
      "outputs": [
        {
          "output_type": "display_data",
          "data": {
            "text/plain": [
              "<Figure size 1080x1440 with 20 Axes>"
            ],
            "image/png": "[encoded data removed]"
          },
          "metadata": {
            "needs_background": "light"
          }
        }
      ],
      "source": [
        "data.hist(figsize=(15, 20));"
      ]
    },
    {
      "cell_type": "markdown",
      "metadata": {
        "id": "rwAM4owmGcSo"
      },
      "source": [
        "**Вывод:** Изучили данные, посмотрели на распределние числовых колонок. В датасете 23699 строк и 22 колонки. Видим, что в датасете достаточно много пропусков, а также у некоторых столбцов неверный тип данных."
      ]
    },
    {
      "cell_type": "markdown",
      "metadata": {
        "id": "RICB-lWGGcSp"
      },
      "source": [
        "### Предобработка данных"
      ]
    },
    {
      "cell_type": "code",
      "execution_count": null,
      "metadata": {
        "colab": {
          "base_uri": "https://localhost:8080/"
        },
        "id": "BDai4uO4GcSp",
        "outputId": "48873445-53bd-4796-df60-7f822a92ac69"
      },
      "outputs": [
        {
          "output_type": "execute_result",
          "data": {
            "text/plain": [
              "0"
            ]
          },
          "metadata": {},
          "execution_count": 6
        }
      ],
      "source": [
        "data.duplicated().sum()"
      ]
    },
    {
      "cell_type": "markdown",
      "metadata": {
        "id": "30c9qdKWGcSq"
      },
      "source": [
        "Явных дубликатов нет"
      ]
    },
    {
      "cell_type": "markdown",
      "metadata": {
        "id": "_FT6Rj1kGcSr"
      },
      "source": [
        "Определим колонки с пропусками"
      ]
    },
    {
      "cell_type": "code",
      "execution_count": null,
      "metadata": {
        "colab": {
          "base_uri": "https://localhost:8080/"
        },
        "id": "QpInwFULGcSr",
        "outputId": "6694c822-0d14-40cc-eec8-acb2c56f655b"
      },
      "outputs": [
        {
          "output_type": "execute_result",
          "data": {
            "text/plain": [
              "total_images                0\n",
              "last_price                  0\n",
              "total_area                  0\n",
              "first_day_exposition        0\n",
              "rooms                       0\n",
              "ceiling_height           9195\n",
              "floors_total               86\n",
              "living_area              1903\n",
              "floor                       0\n",
              "is_apartment            20924\n",
              "studio                      0\n",
              "open_plan                   0\n",
              "kitchen_area             2278\n",
              "balcony                 11519\n",
              "locality_name              49\n",
              "airports_nearest         5542\n",
              "cityCenters_nearest      5519\n",
              "parks_around3000         5518\n",
              "parks_nearest           15620\n",
              "ponds_around3000         5518\n",
              "ponds_nearest           14589\n",
              "days_exposition          3181\n",
              "dtype: int64"
            ]
          },
          "metadata": {},
          "execution_count": 7
        }
      ],
      "source": [
        "data.isna().sum()"
      ]
    },
    {
      "cell_type": "markdown",
      "metadata": {
        "id": "r9FajofJGcSs"
      },
      "source": [
        "Возможные причины возникновения пропусков:\n",
        "`airports_nearest`, `cityCenters_nearest`, `parks_around3000`, `parks_nearest`, `ponds_around3000`, `ponds_nearest` - картографические данные, можно отнести к технической ошибке. Возможно проблема с адресом, например, возникла ошибка при его определении, в результате чего значения не проставились автоматически; также могла произойти ошибка при выгрузке данных;\n",
        "\n",
        "`days_exposition` - вероятно объявление не было размещено, либо сделка состоялась не на платформе создания объявления или забыли закрыть;\n",
        "\n",
        "`ceiling_height`, `floors_total`, `is_apartment`, `kitchen_area`, `living_area`, `locality_name` - данные заполняются продавцом и вероятно, на момент формирования объявления продавец не обладал необходимой информацией;\n",
        "\n",
        "`ceiling_height` - восстановим пустые строки медианными значениями;\n",
        "\n",
        "`balcony` - скорее всего продавец имел ввиду отсутствие балконов, заменим на 0."
      ]
    },
    {
      "cell_type": "code",
      "execution_count": null,
      "metadata": {
        "colab": {
          "base_uri": "https://localhost:8080/"
        },
        "id": "ADcSykjvGcSs",
        "outputId": "47a3a6c3-0ebd-4940-f724-308d9e2d9ad9"
      },
      "outputs": [
        {
          "output_type": "execute_result",
          "data": {
            "text/plain": [
              "0"
            ]
          },
          "metadata": {},
          "execution_count": 8
        }
      ],
      "source": [
        "data['balcony'] = data['balcony'].fillna(0)\n",
        "data['balcony'].isna().sum()"
      ]
    },
    {
      "cell_type": "code",
      "execution_count": null,
      "metadata": {
        "colab": {
          "base_uri": "https://localhost:8080/"
        },
        "id": "38agDu_HGcSt",
        "outputId": "35306be1-e54e-4c3b-f888-dd418422bb5d"
      },
      "outputs": [
        {
          "output_type": "execute_result",
          "data": {
            "text/plain": [
              "0"
            ]
          },
          "metadata": {},
          "execution_count": 9
        }
      ],
      "source": [
        "data['ceiling_height'] = data['ceiling_height'].fillna(data['ceiling_height'].median())\n",
        "data['ceiling_height'].isna().sum()"
      ]
    },
    {
      "cell_type": "markdown",
      "metadata": {
        "id": "X8qfmr4VGcSv"
      },
      "source": [
        "Приведем колонку `first_day_exposition` к типу datetime, т.к для дальнейшего анализа потребуются отдельно год, месяц и день публикации объявления. Колонки `balcony`, `last_price` для удобства приведем к целочисленному типу"
      ]
    },
    {
      "cell_type": "code",
      "execution_count": null,
      "metadata": {
        "colab": {
          "base_uri": "https://localhost:8080/",
          "height": 340
        },
        "id": "_A5VEN_7GcSv",
        "outputId": "663b0150-6da7-48b9-8001-522f0c203f42"
      },
      "outputs": [
        {
          "output_type": "execute_result",
          "data": {
            "text/plain": [
              "       total_images  last_price  total_area first_day_exposition  rooms  \\\n",
              "23694             9   9700000.0      133.81           2017-03-21      3   \n",
              "23695            14   3100000.0       59.00           2018-01-15      3   \n",
              "23696            18   2500000.0       56.70           2018-02-11      2   \n",
              "23697            13  11475000.0       76.75           2017-03-28      2   \n",
              "23698             4   1350000.0       32.30           2017-07-21      1   \n",
              "\n",
              "       ceiling_height  floors_total  living_area  floor is_apartment  studio  \\\n",
              "23694            3.70           5.0         73.3      3          NaN   False   \n",
              "23695            2.65           5.0         38.0      4          NaN   False   \n",
              "23696            2.65           3.0         29.7      1          NaN   False   \n",
              "23697            3.00          17.0          NaN     12          NaN   False   \n",
              "23698            2.50           5.0         12.3      1          NaN   False   \n",
              "\n",
              "       open_plan  kitchen_area  balcony        locality_name  \\\n",
              "23694      False         13.83      0.0      Санкт-Петербург   \n",
              "23695      False          8.50      0.0                Тосно   \n",
              "23696      False           NaN      0.0     село Рождествено   \n",
              "23697      False         23.30      2.0      Санкт-Петербург   \n",
              "23698      False          9.00      0.0  поселок Новый Учхоз   \n",
              "\n",
              "       airports_nearest  cityCenters_nearest  parks_around3000  parks_nearest  \\\n",
              "23694           24665.0               4232.0               1.0          796.0   \n",
              "23695               NaN                  NaN               NaN            NaN   \n",
              "23696               NaN                  NaN               NaN            NaN   \n",
              "23697           39140.0              10364.0               2.0          173.0   \n",
              "23698               NaN                  NaN               NaN            NaN   \n",
              "\n",
              "       ponds_around3000  ponds_nearest  days_exposition  \n",
              "23694               3.0          381.0              NaN  \n",
              "23695               NaN            NaN             45.0  \n",
              "23696               NaN            NaN              NaN  \n",
              "23697               3.0          196.0            602.0  \n",
              "23698               NaN            NaN              NaN  "
            ],
            "text/html": [
              "\n",
              "  <div id=\"df-a79c06c5-a7df-4334-b4ca-f928db86e5e2\">\n",
              "    <div class=\"colab-df-container\">\n",
              "      <div>\n",
              "<style scoped>\n",
              "    .dataframe tbody tr th:only-of-type {\n",
              "        vertical-align: middle;\n",
              "    }\n",
              "\n",
              "    .dataframe tbody tr th {\n",
              "        vertical-align: top;\n",
              "    }\n",
              "\n",
              "    .dataframe thead th {\n",
              "        text-align: right;\n",
              "    }\n",
              "</style>\n",
              "<table border=\"1\" class=\"dataframe\">\n",
              "  <thead>\n",
              "    <tr style=\"text-align: right;\">\n",
              "      <th></th>\n",
              "      <th>total_images</th>\n",
              "      <th>last_price</th>\n",
              "      <th>total_area</th>\n",
              "      <th>first_day_exposition</th>\n",
              "      <th>rooms</th>\n",
              "      <th>ceiling_height</th>\n",
              "      <th>floors_total</th>\n",
              "      <th>living_area</th>\n",
              "      <th>floor</th>\n",
              "      <th>is_apartment</th>\n",
              "      <th>studio</th>\n",
              "      <th>open_plan</th>\n",
              "      <th>kitchen_area</th>\n",
              "      <th>balcony</th>\n",
              "      <th>locality_name</th>\n",
              "      <th>airports_nearest</th>\n",
              "      <th>cityCenters_nearest</th>\n",
              "      <th>parks_around3000</th>\n",
              "      <th>parks_nearest</th>\n",
              "      <th>ponds_around3000</th>\n",
              "      <th>ponds_nearest</th>\n",
              "      <th>days_exposition</th>\n",
              "    </tr>\n",
              "  </thead>\n",
              "  <tbody>\n",
              "    <tr>\n",
              "      <th>23694</th>\n",
              "      <td>9</td>\n",
              "      <td>9700000.0</td>\n",
              "      <td>133.81</td>\n",
              "      <td>2017-03-21</td>\n",
              "      <td>3</td>\n",
              "      <td>3.70</td>\n",
              "      <td>5.0</td>\n",
              "      <td>73.3</td>\n",
              "      <td>3</td>\n",
              "      <td>NaN</td>\n",
              "      <td>False</td>\n",
              "      <td>False</td>\n",
              "      <td>13.83</td>\n",
              "      <td>0.0</td>\n",
              "      <td>Санкт-Петербург</td>\n",
              "      <td>24665.0</td>\n",
              "      <td>4232.0</td>\n",
              "      <td>1.0</td>\n",
              "      <td>796.0</td>\n",
              "      <td>3.0</td>\n",
              "      <td>381.0</td>\n",
              "      <td>NaN</td>\n",
              "    </tr>\n",
              "    <tr>\n",
              "      <th>23695</th>\n",
              "      <td>14</td>\n",
              "      <td>3100000.0</td>\n",
              "      <td>59.00</td>\n",
              "      <td>2018-01-15</td>\n",
              "      <td>3</td>\n",
              "      <td>2.65</td>\n",
              "      <td>5.0</td>\n",
              "      <td>38.0</td>\n",
              "      <td>4</td>\n",
              "      <td>NaN</td>\n",
              "      <td>False</td>\n",
              "      <td>False</td>\n",
              "      <td>8.50</td>\n",
              "      <td>0.0</td>\n",
              "      <td>Тосно</td>\n",
              "      <td>NaN</td>\n",
              "      <td>NaN</td>\n",
              "      <td>NaN</td>\n",
              "      <td>NaN</td>\n",
              "      <td>NaN</td>\n",
              "      <td>NaN</td>\n",
              "      <td>45.0</td>\n",
              "    </tr>\n",
              "    <tr>\n",
              "      <th>23696</th>\n",
              "      <td>18</td>\n",
              "      <td>2500000.0</td>\n",
              "      <td>56.70</td>\n",
              "      <td>2018-02-11</td>\n",
              "      <td>2</td>\n",
              "      <td>2.65</td>\n",
              "      <td>3.0</td>\n",
              "      <td>29.7</td>\n",
              "      <td>1</td>\n",
              "      <td>NaN</td>\n",
              "      <td>False</td>\n",
              "      <td>False</td>\n",
              "      <td>NaN</td>\n",
              "      <td>0.0</td>\n",
              "      <td>село Рождествено</td>\n",
              "      <td>NaN</td>\n",
              "      <td>NaN</td>\n",
              "      <td>NaN</td>\n",
              "      <td>NaN</td>\n",
              "      <td>NaN</td>\n",
              "      <td>NaN</td>\n",
              "      <td>NaN</td>\n",
              "    </tr>\n",
              "    <tr>\n",
              "      <th>23697</th>\n",
              "      <td>13</td>\n",
              "      <td>11475000.0</td>\n",
              "      <td>76.75</td>\n",
              "      <td>2017-03-28</td>\n",
              "      <td>2</td>\n",
              "      <td>3.00</td>\n",
              "      <td>17.0</td>\n",
              "      <td>NaN</td>\n",
              "      <td>12</td>\n",
              "      <td>NaN</td>\n",
              "      <td>False</td>\n",
              "      <td>False</td>\n",
              "      <td>23.30</td>\n",
              "      <td>2.0</td>\n",
              "      <td>Санкт-Петербург</td>\n",
              "      <td>39140.0</td>\n",
              "      <td>10364.0</td>\n",
              "      <td>2.0</td>\n",
              "      <td>173.0</td>\n",
              "      <td>3.0</td>\n",
              "      <td>196.0</td>\n",
              "      <td>602.0</td>\n",
              "    </tr>\n",
              "    <tr>\n",
              "      <th>23698</th>\n",
              "      <td>4</td>\n",
              "      <td>1350000.0</td>\n",
              "      <td>32.30</td>\n",
              "      <td>2017-07-21</td>\n",
              "      <td>1</td>\n",
              "      <td>2.50</td>\n",
              "      <td>5.0</td>\n",
              "      <td>12.3</td>\n",
              "      <td>1</td>\n",
              "      <td>NaN</td>\n",
              "      <td>False</td>\n",
              "      <td>False</td>\n",
              "      <td>9.00</td>\n",
              "      <td>0.0</td>\n",
              "      <td>поселок Новый Учхоз</td>\n",
              "      <td>NaN</td>\n",
              "      <td>NaN</td>\n",
              "      <td>NaN</td>\n",
              "      <td>NaN</td>\n",
              "      <td>NaN</td>\n",
              "      <td>NaN</td>\n",
              "      <td>NaN</td>\n",
              "    </tr>\n",
              "  </tbody>\n",
              "</table>\n",
              "</div>\n",
              "      <button class=\"colab-df-convert\" onclick=\"convertToInteractive('df-a79c06c5-a7df-4334-b4ca-f928db86e5e2')\"\n",
              "              title=\"Convert this dataframe to an interactive table.\"\n",
              "              style=\"display:none;\">\n",
              "        \n",
              "  <svg xmlns=\"http://www.w3.org/2000/svg\" height=\"24px\"viewBox=\"0 0 24 24\"\n",
              "       width=\"24px\">\n",
              "    <path d=\"M0 0h24v24H0V0z\" fill=\"none\"/>\n",
              "    <path d=\"M18.56 5.44l.94 2.06.94-2.06 2.06-.94-2.06-.94-.94-2.06-.94 2.06-2.06.94zm-11 1L8.5 8.5l.94-2.06 2.06-.94-2.06-.94L8.5 2.5l-.94 2.06-2.06.94zm10 10l.94 2.06.94-2.06 2.06-.94-2.06-.94-.94-2.06-.94 2.06-2.06.94z\"/><path d=\"M17.41 7.96l-1.37-1.37c-.4-.4-.92-.59-1.43-.59-.52 0-1.04.2-1.43.59L10.3 9.45l-7.72 7.72c-.78.78-.78 2.05 0 2.83L4 21.41c.39.39.9.59 1.41.59.51 0 1.02-.2 1.41-.59l7.78-7.78 2.81-2.81c.8-.78.8-2.07 0-2.86zM5.41 20L4 18.59l7.72-7.72 1.47 1.35L5.41 20z\"/>\n",
              "  </svg>\n",
              "      </button>\n",
              "      \n",
              "  <style>\n",
              "    .colab-df-container {\n",
              "      display:flex;\n",
              "      flex-wrap:wrap;\n",
              "      gap: 12px;\n",
              "    }\n",
              "\n",
              "    .colab-df-convert {\n",
              "      background-color: #E8F0FE;\n",
              "      border: none;\n",
              "      border-radius: 50%;\n",
              "      cursor: pointer;\n",
              "      display: none;\n",
              "      fill: #1967D2;\n",
              "      height: 32px;\n",
              "      padding: 0 0 0 0;\n",
              "      width: 32px;\n",
              "    }\n",
              "\n",
              "    .colab-df-convert:hover {\n",
              "      background-color: #E2EBFA;\n",
              "      box-shadow: 0px 1px 2px rgba(60, 64, 67, 0.3), 0px 1px 3px 1px rgba(60, 64, 67, 0.15);\n",
              "      fill: #174EA6;\n",
              "    }\n",
              "\n",
              "    [theme=dark] .colab-df-convert {\n",
              "      background-color: #3B4455;\n",
              "      fill: #D2E3FC;\n",
              "    }\n",
              "\n",
              "    [theme=dark] .colab-df-convert:hover {\n",
              "      background-color: #434B5C;\n",
              "      box-shadow: 0px 1px 3px 1px rgba(0, 0, 0, 0.15);\n",
              "      filter: drop-shadow(0px 1px 2px rgba(0, 0, 0, 0.3));\n",
              "      fill: #FFFFFF;\n",
              "    }\n",
              "  </style>\n",
              "\n",
              "      <script>\n",
              "        const buttonEl =\n",
              "          document.querySelector('#df-a79c06c5-a7df-4334-b4ca-f928db86e5e2 button.colab-df-convert');\n",
              "        buttonEl.style.display =\n",
              "          google.colab.kernel.accessAllowed ? 'block' : 'none';\n",
              "\n",
              "        async function convertToInteractive(key) {\n",
              "          const element = document.querySelector('#df-a79c06c5-a7df-4334-b4ca-f928db86e5e2');\n",
              "          const dataTable =\n",
              "            await google.colab.kernel.invokeFunction('convertToInteractive',\n",
              "                                                     [key], {});\n",
              "          if (!dataTable) return;\n",
              "\n",
              "          const docLinkHtml = 'Like what you see? Visit the ' +\n",
              "            '<a target=\"_blank\" href=https://colab.research.google.com/notebooks/data_table.ipynb>data table notebook</a>'\n",
              "            + ' to learn more about interactive tables.';\n",
              "          element.innerHTML = '';\n",
              "          dataTable['output_type'] = 'display_data';\n",
              "          await google.colab.output.renderOutput(dataTable, element);\n",
              "          const docLink = document.createElement('div');\n",
              "          docLink.innerHTML = docLinkHtml;\n",
              "          element.appendChild(docLink);\n",
              "        }\n",
              "      </script>\n",
              "    </div>\n",
              "  </div>\n",
              "  "
            ]
          },
          "metadata": {},
          "execution_count": 10
        }
      ],
      "source": [
        "data['first_day_exposition'] = pd.to_datetime(data['first_day_exposition'], format= '%Y-%m-%d %H:%M')\n",
        "data.astype({'balcony': 'int64', 'last_price': 'int64'})\n",
        "data.tail()"
      ]
    },
    {
      "cell_type": "markdown",
      "metadata": {
        "id": "1AgXv3yyGcSw"
      },
      "source": [
        "Посмотрим как записаны населенные пункты"
      ]
    },
    {
      "cell_type": "code",
      "execution_count": null,
      "metadata": {
        "colab": {
          "base_uri": "https://localhost:8080/"
        },
        "id": "aJMER5L8GcSw",
        "outputId": "440ba25d-ff86-437c-875c-eed19ff5ee1e"
      },
      "outputs": [
        {
          "output_type": "execute_result",
          "data": {
            "text/plain": [
              "array(['Санкт-Петербург', 'посёлок Шушары', 'городской посёлок Янино-1',\n",
              "       'посёлок Парголово', 'посёлок Мурино', 'Ломоносов', 'Сертолово',\n",
              "       'Петергоф', 'Пушкин', 'деревня Кудрово', 'Коммунар', 'Колпино',\n",
              "       'поселок городского типа Красный Бор', 'Гатчина', 'поселок Мурино',\n",
              "       'деревня Фёдоровское', 'Выборг', 'Кронштадт', 'Кировск',\n",
              "       'деревня Новое Девяткино', 'посёлок Металлострой',\n",
              "       'посёлок городского типа Лебяжье',\n",
              "       'посёлок городского типа Сиверский', 'поселок Молодцово',\n",
              "       'поселок городского типа Кузьмоловский',\n",
              "       'садовое товарищество Новая Ропша', 'Павловск',\n",
              "       'деревня Пикколово', 'Всеволожск', 'Волхов', 'Кингисепп',\n",
              "       'Приозерск', 'Сестрорецк', 'деревня Куттузи', 'посёлок Аннино',\n",
              "       'поселок городского типа Ефимовский', 'посёлок Плодовое',\n",
              "       'деревня Заклинье', 'поселок Торковичи', 'поселок Первомайское',\n",
              "       'Красное Село', 'посёлок Понтонный', 'Сясьстрой', 'деревня Старая',\n",
              "       'деревня Лесколово', 'посёлок Новый Свет', 'Сланцы',\n",
              "       'село Путилово', 'Ивангород', 'Мурино', 'Шлиссельбург',\n",
              "       'Никольское', 'Зеленогорск', 'Сосновый Бор', 'поселок Новый Свет',\n",
              "       'деревня Оржицы', 'деревня Кальтино', 'Кудрово',\n",
              "       'поселок Романовка', 'посёлок Бугры', 'поселок Бугры',\n",
              "       'поселок городского типа Рощино', 'Кириши', 'Луга', 'Волосово',\n",
              "       'Отрадное', 'село Павлово', 'поселок Оредеж', 'село Копорье',\n",
              "       'посёлок городского типа Красный Бор', 'посёлок Молодёжное',\n",
              "       'Тихвин', 'посёлок Победа', 'деревня Нурма',\n",
              "       'поселок городского типа Синявино', 'Тосно',\n",
              "       'посёлок городского типа Кузьмоловский', 'посёлок Стрельна',\n",
              "       'Бокситогорск', 'посёлок Александровская', 'деревня Лопухинка',\n",
              "       'Пикалёво', 'поселок Терволово',\n",
              "       'поселок городского типа Советский', 'Подпорожье',\n",
              "       'посёлок Петровское', 'посёлок городского типа Токсово',\n",
              "       'поселок Сельцо', 'посёлок городского типа Вырица',\n",
              "       'деревня Кипень', 'деревня Келози', 'деревня Вартемяги',\n",
              "       'посёлок Тельмана', 'поселок Севастьяново',\n",
              "       'городской поселок Большая Ижора', nan,\n",
              "       'городской посёлок Павлово', 'деревня Агалатово',\n",
              "       'посёлок Новогорелово', 'городской посёлок Лесогорский',\n",
              "       'деревня Лаголово', 'поселок Цвелодубово',\n",
              "       'поселок городского типа Рахья', 'поселок городского типа Вырица',\n",
              "       'деревня Белогорка', 'поселок Заводской',\n",
              "       'городской посёлок Новоселье', 'деревня Большие Колпаны',\n",
              "       'деревня Горбунки', 'деревня Батово', 'деревня Заневка',\n",
              "       'деревня Иссад', 'Приморск', 'городской посёлок Фёдоровское',\n",
              "       'деревня Мистолово', 'Новая Ладога', 'поселок Зимитицы',\n",
              "       'поселок Барышево', 'деревня Разметелево',\n",
              "       'поселок городского типа имени Свердлова', 'деревня Пеники',\n",
              "       'поселок Рябово', 'деревня Пудомяги', 'поселок станции Корнево',\n",
              "       'деревня Низино', 'деревня Бегуницы', 'посёлок Поляны',\n",
              "       'городской посёлок Мга', 'поселок Елизаветино',\n",
              "       'посёлок городского типа Кузнечное', 'деревня Колтуши',\n",
              "       'поселок Запорожское', 'посёлок городского типа Рощино',\n",
              "       'деревня Гостилицы', 'деревня Малое Карлино',\n",
              "       'посёлок Мичуринское', 'посёлок городского типа имени Морозова',\n",
              "       'посёлок Песочный', 'посёлок Сосново', 'деревня Аро',\n",
              "       'поселок Ильичёво', 'посёлок городского типа Тайцы',\n",
              "       'деревня Малое Верево', 'деревня Извара', 'поселок станции Вещево',\n",
              "       'село Паша', 'деревня Калитино',\n",
              "       'посёлок городского типа Ульяновка', 'деревня Чудской Бор',\n",
              "       'поселок городского типа Дубровка', 'деревня Мины',\n",
              "       'поселок Войсковицы', 'посёлок городского типа имени Свердлова',\n",
              "       'деревня Коркино', 'посёлок Ропша',\n",
              "       'поселок городского типа Приладожский', 'посёлок Щеглово',\n",
              "       'посёлок Гаврилово', 'Лодейное Поле', 'деревня Рабитицы',\n",
              "       'поселок городского типа Никольский', 'деревня Кузьмолово',\n",
              "       'деревня Малые Колпаны', 'поселок Тельмана',\n",
              "       'посёлок Петро-Славянка', 'городской посёлок Назия',\n",
              "       'посёлок Репино', 'посёлок Ильичёво', 'поселок Углово',\n",
              "       'поселок Старая Малукса', 'садовое товарищество Рахья',\n",
              "       'поселок Аннино', 'поселок Победа', 'деревня Меньково',\n",
              "       'деревня Старые Бегуницы', 'посёлок Сапёрный', 'поселок Семрино',\n",
              "       'поселок Гаврилово', 'поселок Глажево', 'поселок Кобринское',\n",
              "       'деревня Гарболово', 'деревня Юкки',\n",
              "       'поселок станции Приветнинское', 'деревня Мануйлово',\n",
              "       'деревня Пчева', 'поселок Поляны', 'поселок Цвылёво',\n",
              "       'поселок Мельниково', 'посёлок Пудость', 'посёлок Усть-Луга',\n",
              "       'Светогорск', 'Любань', 'поселок Селезнёво',\n",
              "       'поселок городского типа Рябово', 'Каменногорск', 'деревня Кривко',\n",
              "       'поселок Глебычево', 'деревня Парицы', 'поселок Жилпосёлок',\n",
              "       'посёлок городского типа Мга', 'городской поселок Янино-1',\n",
              "       'посёлок Войскорово', 'село Никольское', 'посёлок Терволово',\n",
              "       'поселок Стеклянный', 'посёлок городского типа Важины',\n",
              "       'посёлок Мыза-Ивановка', 'село Русско-Высоцкое',\n",
              "       'поселок городского типа Лебяжье',\n",
              "       'поселок городского типа Форносово', 'село Старая Ладога',\n",
              "       'поселок Житково', 'городской посёлок Виллози', 'деревня Лампово',\n",
              "       'деревня Шпаньково', 'деревня Лаврики', 'посёлок Сумино',\n",
              "       'посёлок Возрождение', 'деревня Старосиверская',\n",
              "       'посёлок Кикерино', 'поселок Возрождение',\n",
              "       'деревня Старое Хинколово', 'посёлок Пригородный',\n",
              "       'посёлок Торфяное', 'городской посёлок Будогощь',\n",
              "       'поселок Суходолье', 'поселок Красная Долина', 'деревня Хапо-Ое',\n",
              "       'поселок городского типа Дружная Горка', 'поселок Лисий Нос',\n",
              "       'деревня Яльгелево', 'посёлок Стеклянный', 'село Рождествено',\n",
              "       'деревня Старополье', 'посёлок Левашово', 'деревня Сяськелево',\n",
              "       'деревня Камышовка',\n",
              "       'садоводческое некоммерческое товарищество Лесная Поляна',\n",
              "       'деревня Хязельки', 'поселок Жилгородок',\n",
              "       'посёлок городского типа Павлово', 'деревня Ялгино',\n",
              "       'поселок Новый Учхоз', 'городской посёлок Рощино',\n",
              "       'поселок Гончарово', 'поселок Почап', 'посёлок Сапёрное',\n",
              "       'посёлок Платформа 69-й километр', 'поселок Каложицы',\n",
              "       'деревня Фалилеево', 'деревня Пельгора',\n",
              "       'поселок городского типа Лесогорский', 'деревня Торошковичи',\n",
              "       'посёлок Белоостров', 'посёлок Алексеевка', 'поселок Серебрянский',\n",
              "       'поселок Лукаши', 'поселок Петровское', 'деревня Щеглово',\n",
              "       'поселок Мичуринское', 'деревня Тарасово', 'поселок Кингисеппский',\n",
              "       'посёлок при железнодорожной станции Вещево', 'поселок Ушаки',\n",
              "       'деревня Котлы', 'деревня Сижно', 'деревня Торосово',\n",
              "       'посёлок Форт Красная Горка', 'поселок городского типа Токсово',\n",
              "       'деревня Новолисино', 'посёлок станции Громово', 'деревня Глинка',\n",
              "       'посёлок Мельниково', 'поселок городского типа Назия',\n",
              "       'деревня Старая Пустошь', 'поселок Коммунары', 'поселок Починок',\n",
              "       'посёлок городского типа Вознесенье', 'деревня Разбегаево',\n",
              "       'посёлок городского типа Рябово', 'поселок Гладкое',\n",
              "       'посёлок при железнодорожной станции Приветнинское',\n",
              "       'поселок Тёсово-4', 'посёлок Жилгородок', 'деревня Бор',\n",
              "       'посёлок Коробицыно', 'деревня Большая Вруда', 'деревня Курковицы',\n",
              "       'посёлок Лисий Нос', 'городской посёлок Советский',\n",
              "       'посёлок Кобралово', 'деревня Суоранда', 'поселок Кобралово',\n",
              "       'поселок городского типа Кондратьево',\n",
              "       'коттеджный поселок Счастье', 'поселок Любань', 'деревня Реброво',\n",
              "       'деревня Зимитицы', 'деревня Тойворово', 'поселок Семиозерье',\n",
              "       'поселок Лесное', 'поселок Совхозный', 'поселок Усть-Луга',\n",
              "       'посёлок Ленинское', 'посёлок Суйда',\n",
              "       'посёлок городского типа Форносово', 'деревня Нижние Осельки',\n",
              "       'посёлок станции Свирь', 'поселок Перово', 'Высоцк',\n",
              "       'поселок Гарболово', 'село Шум', 'поселок Котельский',\n",
              "       'поселок станции Лужайка', 'деревня Большая Пустомержа',\n",
              "       'поселок Красносельское', 'деревня Вахнова Кара', 'деревня Пижма',\n",
              "       'коттеджный поселок Кивеннапа Север', 'поселок Коробицыно',\n",
              "       'поселок Ромашки', 'посёлок Перово', 'деревня Каськово',\n",
              "       'деревня Куровицы', 'посёлок Плоское', 'поселок Сумино',\n",
              "       'поселок городского типа Большая Ижора', 'поселок Кирпичное',\n",
              "       'деревня Ям-Тесово', 'деревня Раздолье', 'деревня Терпилицы',\n",
              "       'посёлок Шугозеро', 'деревня Ваганово', 'поселок Пушное',\n",
              "       'садовое товарищество Садко', 'посёлок Усть-Ижора',\n",
              "       'деревня Выскатка', 'городской посёлок Свирьстрой',\n",
              "       'поселок Громово', 'деревня Кисельня', 'посёлок Старая Малукса',\n",
              "       'деревня Трубников Бор', 'поселок Калитино',\n",
              "       'посёлок Высокоключевой', 'садовое товарищество Приладожский',\n",
              "       'посёлок Пансионат Зелёный Бор', 'деревня Ненимяки',\n",
              "       'поселок Пансионат Зелёный Бор', 'деревня Снегирёвка',\n",
              "       'деревня Рапполово', 'деревня Пустынка', 'поселок Рабитицы',\n",
              "       'деревня Большой Сабск', 'деревня Русско', 'деревня Лупполово',\n",
              "       'деревня Большое Рейзино', 'деревня Малая Романовка',\n",
              "       'поселок Дружноселье', 'поселок Пчевжа', 'поселок Володарское',\n",
              "       'деревня Нижняя', 'коттеджный посёлок Лесное', 'деревня Тихковицы',\n",
              "       'деревня Борисова Грива', 'посёлок Дзержинского'], dtype=object)"
            ]
          },
          "metadata": {},
          "execution_count": 11
        }
      ],
      "source": [
        "data['locality_name'].unique()"
      ]
    },
    {
      "cell_type": "markdown",
      "metadata": {
        "id": "kDoCo4JuGcSx"
      },
      "source": [
        "Заметили проблему с буквой е/ё, а также одинаковые названия поселок/поселок городского типа, заменим эти неявные дубликаты"
      ]
    },
    {
      "cell_type": "code",
      "execution_count": null,
      "metadata": {
        "colab": {
          "base_uri": "https://localhost:8080/"
        },
        "id": "gwicJUSTGcSy",
        "outputId": "f6c66b86-d353-4f4e-fda8-705ef06b2a69"
      },
      "outputs": [
        {
          "output_type": "execute_result",
          "data": {
            "text/plain": [
              "365"
            ]
          },
          "metadata": {},
          "execution_count": 12
        }
      ],
      "source": [
        "len(data['locality_name'].unique())"
      ]
    },
    {
      "cell_type": "code",
      "execution_count": null,
      "metadata": {
        "colab": {
          "base_uri": "https://localhost:8080/"
        },
        "id": "664oDSefGcSy",
        "outputId": "8bcf11f9-93ae-48db-9b95-9a4fb14ecec2"
      },
      "outputs": [
        {
          "output_type": "execute_result",
          "data": {
            "text/plain": [
              "330"
            ]
          },
          "metadata": {},
          "execution_count": 13
        }
      ],
      "source": [
        "data['locality_name'] = data['locality_name'].str.replace('ё', 'е')\n",
        "data['locality_name'] = data['locality_name'].str.replace('поселок городского типа', 'поселок')\n",
        "len(data['locality_name'].unique())"
      ]
    },
    {
      "cell_type": "markdown",
      "metadata": {
        "id": "49sqQua8GcS2"
      },
      "source": [
        "Посмотрим на редкие значения, не являются ли они ошибками"
      ]
    },
    {
      "cell_type": "code",
      "execution_count": null,
      "metadata": {
        "colab": {
          "base_uri": "https://localhost:8080/",
          "height": 364
        },
        "id": "ca2pKJKaGcS3",
        "outputId": "f0fb0c86-1c6f-40ea-d605-e29c3e828659"
      },
      "outputs": [
        {
          "output_type": "execute_result",
          "data": {
            "text/plain": [
              "       total_images    last_price    total_area         rooms  ceiling_height  \\\n",
              "count  23699.000000  2.369900e+04  23699.000000  23699.000000    23699.000000   \n",
              "mean       9.858475  6.541549e+06     60.348651      2.070636        2.724358   \n",
              "std        5.682529  1.088701e+07     35.654083      1.078405        0.988298   \n",
              "min        0.000000  1.219000e+04     12.000000      0.000000        1.000000   \n",
              "25%        6.000000  3.400000e+06     40.000000      1.000000        2.600000   \n",
              "50%        9.000000  4.650000e+06     52.000000      2.000000        2.650000   \n",
              "75%       14.000000  6.800000e+06     69.900000      3.000000        2.700000   \n",
              "max       50.000000  7.630000e+08    900.000000     19.000000      100.000000   \n",
              "\n",
              "       floors_total   living_area         floor  kitchen_area       balcony  \\\n",
              "count  23613.000000  21796.000000  23699.000000  21421.000000  23699.000000   \n",
              "mean      10.673824     34.457852      5.892358     10.569807      0.591080   \n",
              "std        6.597173     22.030445      4.885249      5.905438      0.959298   \n",
              "min        1.000000      2.000000      1.000000      1.300000      0.000000   \n",
              "25%        5.000000     18.600000      2.000000      7.000000      0.000000   \n",
              "50%        9.000000     30.000000      4.000000      9.100000      0.000000   \n",
              "75%       16.000000     42.300000      8.000000     12.000000      1.000000   \n",
              "max       60.000000    409.700000     33.000000    112.000000      5.000000   \n",
              "\n",
              "       airports_nearest  cityCenters_nearest  parks_around3000  parks_nearest  \\\n",
              "count      18157.000000         18180.000000      18181.000000    8079.000000   \n",
              "mean       28793.672193         14191.277833          0.611408     490.804555   \n",
              "std        12630.880622          8608.386210          0.802074     342.317995   \n",
              "min            0.000000           181.000000          0.000000       1.000000   \n",
              "25%        18585.000000          9238.000000          0.000000     288.000000   \n",
              "50%        26726.000000         13098.500000          0.000000     455.000000   \n",
              "75%        37273.000000         16293.000000          1.000000     612.000000   \n",
              "max        84869.000000         65968.000000          3.000000    3190.000000   \n",
              "\n",
              "       ponds_around3000  ponds_nearest  days_exposition  \n",
              "count      18181.000000    9110.000000     20518.000000  \n",
              "mean           0.770255     517.980900       180.888634  \n",
              "std            0.938346     277.720643       219.727988  \n",
              "min            0.000000      13.000000         1.000000  \n",
              "25%            0.000000     294.000000        45.000000  \n",
              "50%            1.000000     502.000000        95.000000  \n",
              "75%            1.000000     729.000000       232.000000  \n",
              "max            3.000000    1344.000000      1580.000000  "
            ],
            "text/html": [
              "\n",
              "  <div id=\"df-04c2d253-3d04-422f-a18e-93c66c798d0a\">\n",
              "    <div class=\"colab-df-container\">\n",
              "      <div>\n",
              "<style scoped>\n",
              "    .dataframe tbody tr th:only-of-type {\n",
              "        vertical-align: middle;\n",
              "    }\n",
              "\n",
              "    .dataframe tbody tr th {\n",
              "        vertical-align: top;\n",
              "    }\n",
              "\n",
              "    .dataframe thead th {\n",
              "        text-align: right;\n",
              "    }\n",
              "</style>\n",
              "<table border=\"1\" class=\"dataframe\">\n",
              "  <thead>\n",
              "    <tr style=\"text-align: right;\">\n",
              "      <th></th>\n",
              "      <th>total_images</th>\n",
              "      <th>last_price</th>\n",
              "      <th>total_area</th>\n",
              "      <th>rooms</th>\n",
              "      <th>ceiling_height</th>\n",
              "      <th>floors_total</th>\n",
              "      <th>living_area</th>\n",
              "      <th>floor</th>\n",
              "      <th>kitchen_area</th>\n",
              "      <th>balcony</th>\n",
              "      <th>airports_nearest</th>\n",
              "      <th>cityCenters_nearest</th>\n",
              "      <th>parks_around3000</th>\n",
              "      <th>parks_nearest</th>\n",
              "      <th>ponds_around3000</th>\n",
              "      <th>ponds_nearest</th>\n",
              "      <th>days_exposition</th>\n",
              "    </tr>\n",
              "  </thead>\n",
              "  <tbody>\n",
              "    <tr>\n",
              "      <th>count</th>\n",
              "      <td>23699.000000</td>\n",
              "      <td>2.369900e+04</td>\n",
              "      <td>23699.000000</td>\n",
              "      <td>23699.000000</td>\n",
              "      <td>23699.000000</td>\n",
              "      <td>23613.000000</td>\n",
              "      <td>21796.000000</td>\n",
              "      <td>23699.000000</td>\n",
              "      <td>21421.000000</td>\n",
              "      <td>23699.000000</td>\n",
              "      <td>18157.000000</td>\n",
              "      <td>18180.000000</td>\n",
              "      <td>18181.000000</td>\n",
              "      <td>8079.000000</td>\n",
              "      <td>18181.000000</td>\n",
              "      <td>9110.000000</td>\n",
              "      <td>20518.000000</td>\n",
              "    </tr>\n",
              "    <tr>\n",
              "      <th>mean</th>\n",
              "      <td>9.858475</td>\n",
              "      <td>6.541549e+06</td>\n",
              "      <td>60.348651</td>\n",
              "      <td>2.070636</td>\n",
              "      <td>2.724358</td>\n",
              "      <td>10.673824</td>\n",
              "      <td>34.457852</td>\n",
              "      <td>5.892358</td>\n",
              "      <td>10.569807</td>\n",
              "      <td>0.591080</td>\n",
              "      <td>28793.672193</td>\n",
              "      <td>14191.277833</td>\n",
              "      <td>0.611408</td>\n",
              "      <td>490.804555</td>\n",
              "      <td>0.770255</td>\n",
              "      <td>517.980900</td>\n",
              "      <td>180.888634</td>\n",
              "    </tr>\n",
              "    <tr>\n",
              "      <th>std</th>\n",
              "      <td>5.682529</td>\n",
              "      <td>1.088701e+07</td>\n",
              "      <td>35.654083</td>\n",
              "      <td>1.078405</td>\n",
              "      <td>0.988298</td>\n",
              "      <td>6.597173</td>\n",
              "      <td>22.030445</td>\n",
              "      <td>4.885249</td>\n",
              "      <td>5.905438</td>\n",
              "      <td>0.959298</td>\n",
              "      <td>12630.880622</td>\n",
              "      <td>8608.386210</td>\n",
              "      <td>0.802074</td>\n",
              "      <td>342.317995</td>\n",
              "      <td>0.938346</td>\n",
              "      <td>277.720643</td>\n",
              "      <td>219.727988</td>\n",
              "    </tr>\n",
              "    <tr>\n",
              "      <th>min</th>\n",
              "      <td>0.000000</td>\n",
              "      <td>1.219000e+04</td>\n",
              "      <td>12.000000</td>\n",
              "      <td>0.000000</td>\n",
              "      <td>1.000000</td>\n",
              "      <td>1.000000</td>\n",
              "      <td>2.000000</td>\n",
              "      <td>1.000000</td>\n",
              "      <td>1.300000</td>\n",
              "      <td>0.000000</td>\n",
              "      <td>0.000000</td>\n",
              "      <td>181.000000</td>\n",
              "      <td>0.000000</td>\n",
              "      <td>1.000000</td>\n",
              "      <td>0.000000</td>\n",
              "      <td>13.000000</td>\n",
              "      <td>1.000000</td>\n",
              "    </tr>\n",
              "    <tr>\n",
              "      <th>25%</th>\n",
              "      <td>6.000000</td>\n",
              "      <td>3.400000e+06</td>\n",
              "      <td>40.000000</td>\n",
              "      <td>1.000000</td>\n",
              "      <td>2.600000</td>\n",
              "      <td>5.000000</td>\n",
              "      <td>18.600000</td>\n",
              "      <td>2.000000</td>\n",
              "      <td>7.000000</td>\n",
              "      <td>0.000000</td>\n",
              "      <td>18585.000000</td>\n",
              "      <td>9238.000000</td>\n",
              "      <td>0.000000</td>\n",
              "      <td>288.000000</td>\n",
              "      <td>0.000000</td>\n",
              "      <td>294.000000</td>\n",
              "      <td>45.000000</td>\n",
              "    </tr>\n",
              "    <tr>\n",
              "      <th>50%</th>\n",
              "      <td>9.000000</td>\n",
              "      <td>4.650000e+06</td>\n",
              "      <td>52.000000</td>\n",
              "      <td>2.000000</td>\n",
              "      <td>2.650000</td>\n",
              "      <td>9.000000</td>\n",
              "      <td>30.000000</td>\n",
              "      <td>4.000000</td>\n",
              "      <td>9.100000</td>\n",
              "      <td>0.000000</td>\n",
              "      <td>26726.000000</td>\n",
              "      <td>13098.500000</td>\n",
              "      <td>0.000000</td>\n",
              "      <td>455.000000</td>\n",
              "      <td>1.000000</td>\n",
              "      <td>502.000000</td>\n",
              "      <td>95.000000</td>\n",
              "    </tr>\n",
              "    <tr>\n",
              "      <th>75%</th>\n",
              "      <td>14.000000</td>\n",
              "      <td>6.800000e+06</td>\n",
              "      <td>69.900000</td>\n",
              "      <td>3.000000</td>\n",
              "      <td>2.700000</td>\n",
              "      <td>16.000000</td>\n",
              "      <td>42.300000</td>\n",
              "      <td>8.000000</td>\n",
              "      <td>12.000000</td>\n",
              "      <td>1.000000</td>\n",
              "      <td>37273.000000</td>\n",
              "      <td>16293.000000</td>\n",
              "      <td>1.000000</td>\n",
              "      <td>612.000000</td>\n",
              "      <td>1.000000</td>\n",
              "      <td>729.000000</td>\n",
              "      <td>232.000000</td>\n",
              "    </tr>\n",
              "    <tr>\n",
              "      <th>max</th>\n",
              "      <td>50.000000</td>\n",
              "      <td>7.630000e+08</td>\n",
              "      <td>900.000000</td>\n",
              "      <td>19.000000</td>\n",
              "      <td>100.000000</td>\n",
              "      <td>60.000000</td>\n",
              "      <td>409.700000</td>\n",
              "      <td>33.000000</td>\n",
              "      <td>112.000000</td>\n",
              "      <td>5.000000</td>\n",
              "      <td>84869.000000</td>\n",
              "      <td>65968.000000</td>\n",
              "      <td>3.000000</td>\n",
              "      <td>3190.000000</td>\n",
              "      <td>3.000000</td>\n",
              "      <td>1344.000000</td>\n",
              "      <td>1580.000000</td>\n",
              "    </tr>\n",
              "  </tbody>\n",
              "</table>\n",
              "</div>\n",
              "      <button class=\"colab-df-convert\" onclick=\"convertToInteractive('df-04c2d253-3d04-422f-a18e-93c66c798d0a')\"\n",
              "              title=\"Convert this dataframe to an interactive table.\"\n",
              "              style=\"display:none;\">\n",
              "        \n",
              "  <svg xmlns=\"http://www.w3.org/2000/svg\" height=\"24px\"viewBox=\"0 0 24 24\"\n",
              "       width=\"24px\">\n",
              "    <path d=\"M0 0h24v24H0V0z\" fill=\"none\"/>\n",
              "    <path d=\"M18.56 5.44l.94 2.06.94-2.06 2.06-.94-2.06-.94-.94-2.06-.94 2.06-2.06.94zm-11 1L8.5 8.5l.94-2.06 2.06-.94-2.06-.94L8.5 2.5l-.94 2.06-2.06.94zm10 10l.94 2.06.94-2.06 2.06-.94-2.06-.94-.94-2.06-.94 2.06-2.06.94z\"/><path d=\"M17.41 7.96l-1.37-1.37c-.4-.4-.92-.59-1.43-.59-.52 0-1.04.2-1.43.59L10.3 9.45l-7.72 7.72c-.78.78-.78 2.05 0 2.83L4 21.41c.39.39.9.59 1.41.59.51 0 1.02-.2 1.41-.59l7.78-7.78 2.81-2.81c.8-.78.8-2.07 0-2.86zM5.41 20L4 18.59l7.72-7.72 1.47 1.35L5.41 20z\"/>\n",
              "  </svg>\n",
              "      </button>\n",
              "      \n",
              "  <style>\n",
              "    .colab-df-container {\n",
              "      display:flex;\n",
              "      flex-wrap:wrap;\n",
              "      gap: 12px;\n",
              "    }\n",
              "\n",
              "    .colab-df-convert {\n",
              "      background-color: #E8F0FE;\n",
              "      border: none;\n",
              "      border-radius: 50%;\n",
              "      cursor: pointer;\n",
              "      display: none;\n",
              "      fill: #1967D2;\n",
              "      height: 32px;\n",
              "      padding: 0 0 0 0;\n",
              "      width: 32px;\n",
              "    }\n",
              "\n",
              "    .colab-df-convert:hover {\n",
              "      background-color: #E2EBFA;\n",
              "      box-shadow: 0px 1px 2px rgba(60, 64, 67, 0.3), 0px 1px 3px 1px rgba(60, 64, 67, 0.15);\n",
              "      fill: #174EA6;\n",
              "    }\n",
              "\n",
              "    [theme=dark] .colab-df-convert {\n",
              "      background-color: #3B4455;\n",
              "      fill: #D2E3FC;\n",
              "    }\n",
              "\n",
              "    [theme=dark] .colab-df-convert:hover {\n",
              "      background-color: #434B5C;\n",
              "      box-shadow: 0px 1px 3px 1px rgba(0, 0, 0, 0.15);\n",
              "      filter: drop-shadow(0px 1px 2px rgba(0, 0, 0, 0.3));\n",
              "      fill: #FFFFFF;\n",
              "    }\n",
              "  </style>\n",
              "\n",
              "      <script>\n",
              "        const buttonEl =\n",
              "          document.querySelector('#df-04c2d253-3d04-422f-a18e-93c66c798d0a button.colab-df-convert');\n",
              "        buttonEl.style.display =\n",
              "          google.colab.kernel.accessAllowed ? 'block' : 'none';\n",
              "\n",
              "        async function convertToInteractive(key) {\n",
              "          const element = document.querySelector('#df-04c2d253-3d04-422f-a18e-93c66c798d0a');\n",
              "          const dataTable =\n",
              "            await google.colab.kernel.invokeFunction('convertToInteractive',\n",
              "                                                     [key], {});\n",
              "          if (!dataTable) return;\n",
              "\n",
              "          const docLinkHtml = 'Like what you see? Visit the ' +\n",
              "            '<a target=\"_blank\" href=https://colab.research.google.com/notebooks/data_table.ipynb>data table notebook</a>'\n",
              "            + ' to learn more about interactive tables.';\n",
              "          element.innerHTML = '';\n",
              "          dataTable['output_type'] = 'display_data';\n",
              "          await google.colab.output.renderOutput(dataTable, element);\n",
              "          const docLink = document.createElement('div');\n",
              "          docLink.innerHTML = docLinkHtml;\n",
              "          element.appendChild(docLink);\n",
              "        }\n",
              "      </script>\n",
              "    </div>\n",
              "  </div>\n",
              "  "
            ]
          },
          "metadata": {},
          "execution_count": 14
        }
      ],
      "source": [
        "data.describe()"
      ]
    },
    {
      "cell_type": "markdown",
      "source": [
        "Удалим строки в которых общая, жилая и площади кухни равны друг другу, это явная ошибка"
      ],
      "metadata": {
        "id": "_9M55VJidtKy"
      }
    },
    {
      "cell_type": "code",
      "source": [
        "data = data.query('living_area != total_area')\n",
        "data = data.query('living_area != kitchen_area')\n",
        "data = data.query('total_area != kitchen_area')\n",
        "data"
      ],
      "metadata": {
        "colab": {
          "base_uri": "https://localhost:8080/",
          "height": 644
        },
        "id": "rDMvEgquhlyp",
        "outputId": "01476030-8ab9-406f-beb5-6815607d895d"
      },
      "execution_count": null,
      "outputs": [
        {
          "output_type": "execute_result",
          "data": {
            "text/plain": [
              "       total_images  last_price  total_area first_day_exposition  rooms  \\\n",
              "0                20  13000000.0      108.00           2019-03-07      3   \n",
              "1                 7   3350000.0       40.40           2018-12-04      1   \n",
              "2                10   5196000.0       56.00           2015-08-20      2   \n",
              "3                 0  64900000.0      159.00           2015-07-24      3   \n",
              "4                 2  10000000.0      100.00           2018-06-19      2   \n",
              "...             ...         ...         ...                  ...    ...   \n",
              "23694             9   9700000.0      133.81           2017-03-21      3   \n",
              "23695            14   3100000.0       59.00           2018-01-15      3   \n",
              "23696            18   2500000.0       56.70           2018-02-11      2   \n",
              "23697            13  11475000.0       76.75           2017-03-28      2   \n",
              "23698             4   1350000.0       32.30           2017-07-21      1   \n",
              "\n",
              "       ceiling_height  floors_total  living_area  floor is_apartment  studio  \\\n",
              "0                2.70          16.0         51.0      8          NaN   False   \n",
              "1                2.65          11.0         18.6      1          NaN   False   \n",
              "2                2.65           5.0         34.3      4          NaN   False   \n",
              "3                2.65          14.0          NaN      9          NaN   False   \n",
              "4                3.03          14.0         32.0     13          NaN   False   \n",
              "...               ...           ...          ...    ...          ...     ...   \n",
              "23694            3.70           5.0         73.3      3          NaN   False   \n",
              "23695            2.65           5.0         38.0      4          NaN   False   \n",
              "23696            2.65           3.0         29.7      1          NaN   False   \n",
              "23697            3.00          17.0          NaN     12          NaN   False   \n",
              "23698            2.50           5.0         12.3      1          NaN   False   \n",
              "\n",
              "       open_plan  kitchen_area  balcony        locality_name  \\\n",
              "0          False         25.00      0.0      Санкт-Петербург   \n",
              "1          False         11.00      2.0       поселок Шушары   \n",
              "2          False          8.30      0.0      Санкт-Петербург   \n",
              "3          False           NaN      0.0      Санкт-Петербург   \n",
              "4          False         41.00      0.0      Санкт-Петербург   \n",
              "...          ...           ...      ...                  ...   \n",
              "23694      False         13.83      0.0      Санкт-Петербург   \n",
              "23695      False          8.50      0.0                Тосно   \n",
              "23696      False           NaN      0.0     село Рождествено   \n",
              "23697      False         23.30      2.0      Санкт-Петербург   \n",
              "23698      False          9.00      0.0  поселок Новый Учхоз   \n",
              "\n",
              "       airports_nearest  cityCenters_nearest  parks_around3000  parks_nearest  \\\n",
              "0               18863.0              16028.0               1.0          482.0   \n",
              "1               12817.0              18603.0               0.0            NaN   \n",
              "2               21741.0              13933.0               1.0           90.0   \n",
              "3               28098.0               6800.0               2.0           84.0   \n",
              "4               31856.0               8098.0               2.0          112.0   \n",
              "...                 ...                  ...               ...            ...   \n",
              "23694           24665.0               4232.0               1.0          796.0   \n",
              "23695               NaN                  NaN               NaN            NaN   \n",
              "23696               NaN                  NaN               NaN            NaN   \n",
              "23697           39140.0              10364.0               2.0          173.0   \n",
              "23698               NaN                  NaN               NaN            NaN   \n",
              "\n",
              "       ponds_around3000  ponds_nearest  days_exposition  \n",
              "0                   2.0          755.0              NaN  \n",
              "1                   0.0            NaN             81.0  \n",
              "2                   2.0          574.0            558.0  \n",
              "3                   3.0          234.0            424.0  \n",
              "4                   1.0           48.0            121.0  \n",
              "...                 ...            ...              ...  \n",
              "23694               3.0          381.0              NaN  \n",
              "23695               NaN            NaN             45.0  \n",
              "23696               NaN            NaN              NaN  \n",
              "23697               3.0          196.0            602.0  \n",
              "23698               NaN            NaN              NaN  \n",
              "\n",
              "[23657 rows x 22 columns]"
            ],
            "text/html": [
              "\n",
              "  <div id=\"df-9851551c-a841-422c-9719-07a4d67e19d5\">\n",
              "    <div class=\"colab-df-container\">\n",
              "      <div>\n",
              "<style scoped>\n",
              "    .dataframe tbody tr th:only-of-type {\n",
              "        vertical-align: middle;\n",
              "    }\n",
              "\n",
              "    .dataframe tbody tr th {\n",
              "        vertical-align: top;\n",
              "    }\n",
              "\n",
              "    .dataframe thead th {\n",
              "        text-align: right;\n",
              "    }\n",
              "</style>\n",
              "<table border=\"1\" class=\"dataframe\">\n",
              "  <thead>\n",
              "    <tr style=\"text-align: right;\">\n",
              "      <th></th>\n",
              "      <th>total_images</th>\n",
              "      <th>last_price</th>\n",
              "      <th>total_area</th>\n",
              "      <th>first_day_exposition</th>\n",
              "      <th>rooms</th>\n",
              "      <th>ceiling_height</th>\n",
              "      <th>floors_total</th>\n",
              "      <th>living_area</th>\n",
              "      <th>floor</th>\n",
              "      <th>is_apartment</th>\n",
              "      <th>studio</th>\n",
              "      <th>open_plan</th>\n",
              "      <th>kitchen_area</th>\n",
              "      <th>balcony</th>\n",
              "      <th>locality_name</th>\n",
              "      <th>airports_nearest</th>\n",
              "      <th>cityCenters_nearest</th>\n",
              "      <th>parks_around3000</th>\n",
              "      <th>parks_nearest</th>\n",
              "      <th>ponds_around3000</th>\n",
              "      <th>ponds_nearest</th>\n",
              "      <th>days_exposition</th>\n",
              "    </tr>\n",
              "  </thead>\n",
              "  <tbody>\n",
              "    <tr>\n",
              "      <th>0</th>\n",
              "      <td>20</td>\n",
              "      <td>13000000.0</td>\n",
              "      <td>108.00</td>\n",
              "      <td>2019-03-07</td>\n",
              "      <td>3</td>\n",
              "      <td>2.70</td>\n",
              "      <td>16.0</td>\n",
              "      <td>51.0</td>\n",
              "      <td>8</td>\n",
              "      <td>NaN</td>\n",
              "      <td>False</td>\n",
              "      <td>False</td>\n",
              "      <td>25.00</td>\n",
              "      <td>0.0</td>\n",
              "      <td>Санкт-Петербург</td>\n",
              "      <td>18863.0</td>\n",
              "      <td>16028.0</td>\n",
              "      <td>1.0</td>\n",
              "      <td>482.0</td>\n",
              "      <td>2.0</td>\n",
              "      <td>755.0</td>\n",
              "      <td>NaN</td>\n",
              "    </tr>\n",
              "    <tr>\n",
              "      <th>1</th>\n",
              "      <td>7</td>\n",
              "      <td>3350000.0</td>\n",
              "      <td>40.40</td>\n",
              "      <td>2018-12-04</td>\n",
              "      <td>1</td>\n",
              "      <td>2.65</td>\n",
              "      <td>11.0</td>\n",
              "      <td>18.6</td>\n",
              "      <td>1</td>\n",
              "      <td>NaN</td>\n",
              "      <td>False</td>\n",
              "      <td>False</td>\n",
              "      <td>11.00</td>\n",
              "      <td>2.0</td>\n",
              "      <td>поселок Шушары</td>\n",
              "      <td>12817.0</td>\n",
              "      <td>18603.0</td>\n",
              "      <td>0.0</td>\n",
              "      <td>NaN</td>\n",
              "      <td>0.0</td>\n",
              "      <td>NaN</td>\n",
              "      <td>81.0</td>\n",
              "    </tr>\n",
              "    <tr>\n",
              "      <th>2</th>\n",
              "      <td>10</td>\n",
              "      <td>5196000.0</td>\n",
              "      <td>56.00</td>\n",
              "      <td>2015-08-20</td>\n",
              "      <td>2</td>\n",
              "      <td>2.65</td>\n",
              "      <td>5.0</td>\n",
              "      <td>34.3</td>\n",
              "      <td>4</td>\n",
              "      <td>NaN</td>\n",
              "      <td>False</td>\n",
              "      <td>False</td>\n",
              "      <td>8.30</td>\n",
              "      <td>0.0</td>\n",
              "      <td>Санкт-Петербург</td>\n",
              "      <td>21741.0</td>\n",
              "      <td>13933.0</td>\n",
              "      <td>1.0</td>\n",
              "      <td>90.0</td>\n",
              "      <td>2.0</td>\n",
              "      <td>574.0</td>\n",
              "      <td>558.0</td>\n",
              "    </tr>\n",
              "    <tr>\n",
              "      <th>3</th>\n",
              "      <td>0</td>\n",
              "      <td>64900000.0</td>\n",
              "      <td>159.00</td>\n",
              "      <td>2015-07-24</td>\n",
              "      <td>3</td>\n",
              "      <td>2.65</td>\n",
              "      <td>14.0</td>\n",
              "      <td>NaN</td>\n",
              "      <td>9</td>\n",
              "      <td>NaN</td>\n",
              "      <td>False</td>\n",
              "      <td>False</td>\n",
              "      <td>NaN</td>\n",
              "      <td>0.0</td>\n",
              "      <td>Санкт-Петербург</td>\n",
              "      <td>28098.0</td>\n",
              "      <td>6800.0</td>\n",
              "      <td>2.0</td>\n",
              "      <td>84.0</td>\n",
              "      <td>3.0</td>\n",
              "      <td>234.0</td>\n",
              "      <td>424.0</td>\n",
              "    </tr>\n",
              "    <tr>\n",
              "      <th>4</th>\n",
              "      <td>2</td>\n",
              "      <td>10000000.0</td>\n",
              "      <td>100.00</td>\n",
              "      <td>2018-06-19</td>\n",
              "      <td>2</td>\n",
              "      <td>3.03</td>\n",
              "      <td>14.0</td>\n",
              "      <td>32.0</td>\n",
              "      <td>13</td>\n",
              "      <td>NaN</td>\n",
              "      <td>False</td>\n",
              "      <td>False</td>\n",
              "      <td>41.00</td>\n",
              "      <td>0.0</td>\n",
              "      <td>Санкт-Петербург</td>\n",
              "      <td>31856.0</td>\n",
              "      <td>8098.0</td>\n",
              "      <td>2.0</td>\n",
              "      <td>112.0</td>\n",
              "      <td>1.0</td>\n",
              "      <td>48.0</td>\n",
              "      <td>121.0</td>\n",
              "    </tr>\n",
              "    <tr>\n",
              "      <th>...</th>\n",
              "      <td>...</td>\n",
              "      <td>...</td>\n",
              "      <td>...</td>\n",
              "      <td>...</td>\n",
              "      <td>...</td>\n",
              "      <td>...</td>\n",
              "      <td>...</td>\n",
              "      <td>...</td>\n",
              "      <td>...</td>\n",
              "      <td>...</td>\n",
              "      <td>...</td>\n",
              "      <td>...</td>\n",
              "      <td>...</td>\n",
              "      <td>...</td>\n",
              "      <td>...</td>\n",
              "      <td>...</td>\n",
              "      <td>...</td>\n",
              "      <td>...</td>\n",
              "      <td>...</td>\n",
              "      <td>...</td>\n",
              "      <td>...</td>\n",
              "      <td>...</td>\n",
              "    </tr>\n",
              "    <tr>\n",
              "      <th>23694</th>\n",
              "      <td>9</td>\n",
              "      <td>9700000.0</td>\n",
              "      <td>133.81</td>\n",
              "      <td>2017-03-21</td>\n",
              "      <td>3</td>\n",
              "      <td>3.70</td>\n",
              "      <td>5.0</td>\n",
              "      <td>73.3</td>\n",
              "      <td>3</td>\n",
              "      <td>NaN</td>\n",
              "      <td>False</td>\n",
              "      <td>False</td>\n",
              "      <td>13.83</td>\n",
              "      <td>0.0</td>\n",
              "      <td>Санкт-Петербург</td>\n",
              "      <td>24665.0</td>\n",
              "      <td>4232.0</td>\n",
              "      <td>1.0</td>\n",
              "      <td>796.0</td>\n",
              "      <td>3.0</td>\n",
              "      <td>381.0</td>\n",
              "      <td>NaN</td>\n",
              "    </tr>\n",
              "    <tr>\n",
              "      <th>23695</th>\n",
              "      <td>14</td>\n",
              "      <td>3100000.0</td>\n",
              "      <td>59.00</td>\n",
              "      <td>2018-01-15</td>\n",
              "      <td>3</td>\n",
              "      <td>2.65</td>\n",
              "      <td>5.0</td>\n",
              "      <td>38.0</td>\n",
              "      <td>4</td>\n",
              "      <td>NaN</td>\n",
              "      <td>False</td>\n",
              "      <td>False</td>\n",
              "      <td>8.50</td>\n",
              "      <td>0.0</td>\n",
              "      <td>Тосно</td>\n",
              "      <td>NaN</td>\n",
              "      <td>NaN</td>\n",
              "      <td>NaN</td>\n",
              "      <td>NaN</td>\n",
              "      <td>NaN</td>\n",
              "      <td>NaN</td>\n",
              "      <td>45.0</td>\n",
              "    </tr>\n",
              "    <tr>\n",
              "      <th>23696</th>\n",
              "      <td>18</td>\n",
              "      <td>2500000.0</td>\n",
              "      <td>56.70</td>\n",
              "      <td>2018-02-11</td>\n",
              "      <td>2</td>\n",
              "      <td>2.65</td>\n",
              "      <td>3.0</td>\n",
              "      <td>29.7</td>\n",
              "      <td>1</td>\n",
              "      <td>NaN</td>\n",
              "      <td>False</td>\n",
              "      <td>False</td>\n",
              "      <td>NaN</td>\n",
              "      <td>0.0</td>\n",
              "      <td>село Рождествено</td>\n",
              "      <td>NaN</td>\n",
              "      <td>NaN</td>\n",
              "      <td>NaN</td>\n",
              "      <td>NaN</td>\n",
              "      <td>NaN</td>\n",
              "      <td>NaN</td>\n",
              "      <td>NaN</td>\n",
              "    </tr>\n",
              "    <tr>\n",
              "      <th>23697</th>\n",
              "      <td>13</td>\n",
              "      <td>11475000.0</td>\n",
              "      <td>76.75</td>\n",
              "      <td>2017-03-28</td>\n",
              "      <td>2</td>\n",
              "      <td>3.00</td>\n",
              "      <td>17.0</td>\n",
              "      <td>NaN</td>\n",
              "      <td>12</td>\n",
              "      <td>NaN</td>\n",
              "      <td>False</td>\n",
              "      <td>False</td>\n",
              "      <td>23.30</td>\n",
              "      <td>2.0</td>\n",
              "      <td>Санкт-Петербург</td>\n",
              "      <td>39140.0</td>\n",
              "      <td>10364.0</td>\n",
              "      <td>2.0</td>\n",
              "      <td>173.0</td>\n",
              "      <td>3.0</td>\n",
              "      <td>196.0</td>\n",
              "      <td>602.0</td>\n",
              "    </tr>\n",
              "    <tr>\n",
              "      <th>23698</th>\n",
              "      <td>4</td>\n",
              "      <td>1350000.0</td>\n",
              "      <td>32.30</td>\n",
              "      <td>2017-07-21</td>\n",
              "      <td>1</td>\n",
              "      <td>2.50</td>\n",
              "      <td>5.0</td>\n",
              "      <td>12.3</td>\n",
              "      <td>1</td>\n",
              "      <td>NaN</td>\n",
              "      <td>False</td>\n",
              "      <td>False</td>\n",
              "      <td>9.00</td>\n",
              "      <td>0.0</td>\n",
              "      <td>поселок Новый Учхоз</td>\n",
              "      <td>NaN</td>\n",
              "      <td>NaN</td>\n",
              "      <td>NaN</td>\n",
              "      <td>NaN</td>\n",
              "      <td>NaN</td>\n",
              "      <td>NaN</td>\n",
              "      <td>NaN</td>\n",
              "    </tr>\n",
              "  </tbody>\n",
              "</table>\n",
              "<p>23657 rows × 22 columns</p>\n",
              "</div>\n",
              "      <button class=\"colab-df-convert\" onclick=\"convertToInteractive('df-9851551c-a841-422c-9719-07a4d67e19d5')\"\n",
              "              title=\"Convert this dataframe to an interactive table.\"\n",
              "              style=\"display:none;\">\n",
              "        \n",
              "  <svg xmlns=\"http://www.w3.org/2000/svg\" height=\"24px\"viewBox=\"0 0 24 24\"\n",
              "       width=\"24px\">\n",
              "    <path d=\"M0 0h24v24H0V0z\" fill=\"none\"/>\n",
              "    <path d=\"M18.56 5.44l.94 2.06.94-2.06 2.06-.94-2.06-.94-.94-2.06-.94 2.06-2.06.94zm-11 1L8.5 8.5l.94-2.06 2.06-.94-2.06-.94L8.5 2.5l-.94 2.06-2.06.94zm10 10l.94 2.06.94-2.06 2.06-.94-2.06-.94-.94-2.06-.94 2.06-2.06.94z\"/><path d=\"M17.41 7.96l-1.37-1.37c-.4-.4-.92-.59-1.43-.59-.52 0-1.04.2-1.43.59L10.3 9.45l-7.72 7.72c-.78.78-.78 2.05 0 2.83L4 21.41c.39.39.9.59 1.41.59.51 0 1.02-.2 1.41-.59l7.78-7.78 2.81-2.81c.8-.78.8-2.07 0-2.86zM5.41 20L4 18.59l7.72-7.72 1.47 1.35L5.41 20z\"/>\n",
              "  </svg>\n",
              "      </button>\n",
              "      \n",
              "  <style>\n",
              "    .colab-df-container {\n",
              "      display:flex;\n",
              "      flex-wrap:wrap;\n",
              "      gap: 12px;\n",
              "    }\n",
              "\n",
              "    .colab-df-convert {\n",
              "      background-color: #E8F0FE;\n",
              "      border: none;\n",
              "      border-radius: 50%;\n",
              "      cursor: pointer;\n",
              "      display: none;\n",
              "      fill: #1967D2;\n",
              "      height: 32px;\n",
              "      padding: 0 0 0 0;\n",
              "      width: 32px;\n",
              "    }\n",
              "\n",
              "    .colab-df-convert:hover {\n",
              "      background-color: #E2EBFA;\n",
              "      box-shadow: 0px 1px 2px rgba(60, 64, 67, 0.3), 0px 1px 3px 1px rgba(60, 64, 67, 0.15);\n",
              "      fill: #174EA6;\n",
              "    }\n",
              "\n",
              "    [theme=dark] .colab-df-convert {\n",
              "      background-color: #3B4455;\n",
              "      fill: #D2E3FC;\n",
              "    }\n",
              "\n",
              "    [theme=dark] .colab-df-convert:hover {\n",
              "      background-color: #434B5C;\n",
              "      box-shadow: 0px 1px 3px 1px rgba(0, 0, 0, 0.15);\n",
              "      filter: drop-shadow(0px 1px 2px rgba(0, 0, 0, 0.3));\n",
              "      fill: #FFFFFF;\n",
              "    }\n",
              "  </style>\n",
              "\n",
              "      <script>\n",
              "        const buttonEl =\n",
              "          document.querySelector('#df-9851551c-a841-422c-9719-07a4d67e19d5 button.colab-df-convert');\n",
              "        buttonEl.style.display =\n",
              "          google.colab.kernel.accessAllowed ? 'block' : 'none';\n",
              "\n",
              "        async function convertToInteractive(key) {\n",
              "          const element = document.querySelector('#df-9851551c-a841-422c-9719-07a4d67e19d5');\n",
              "          const dataTable =\n",
              "            await google.colab.kernel.invokeFunction('convertToInteractive',\n",
              "                                                     [key], {});\n",
              "          if (!dataTable) return;\n",
              "\n",
              "          const docLinkHtml = 'Like what you see? Visit the ' +\n",
              "            '<a target=\"_blank\" href=https://colab.research.google.com/notebooks/data_table.ipynb>data table notebook</a>'\n",
              "            + ' to learn more about interactive tables.';\n",
              "          element.innerHTML = '';\n",
              "          dataTable['output_type'] = 'display_data';\n",
              "          await google.colab.output.renderOutput(dataTable, element);\n",
              "          const docLink = document.createElement('div');\n",
              "          docLink.innerHTML = docLinkHtml;\n",
              "          element.appendChild(docLink);\n",
              "        }\n",
              "      </script>\n",
              "    </div>\n",
              "  </div>\n",
              "  "
            ]
          },
          "metadata": {},
          "execution_count": 15
        }
      ]
    },
    {
      "cell_type": "markdown",
      "source": [
        "По нормам СНиП минимальная площадь кухни состаляет 5 м², веоятно, в измерениях была допущена ошибка, чтобы не потерять данные, заменим площадь кухни в этих строках на 5 м²"
      ],
      "metadata": {
        "id": "pMufiPj2bANm"
      }
    },
    {
      "cell_type": "code",
      "source": [
        "def kitchen(area):\n",
        "    if area < 5:\n",
        "      return 5\n",
        "    else:\n",
        "      return area  \n",
        "data['kitchen_area'] = data['kitchen_area'].apply(kitchen)  "
      ],
      "metadata": {
        "id": "c6ZVlrPTdP85"
      },
      "execution_count": null,
      "outputs": []
    },
    {
      "cell_type": "markdown",
      "metadata": {
        "id": "J2iNrdmDGcS3"
      },
      "source": [
        "Посмотрим на количество комнат"
      ]
    },
    {
      "cell_type": "code",
      "execution_count": null,
      "metadata": {
        "scrolled": true,
        "colab": {
          "base_uri": "https://localhost:8080/"
        },
        "id": "uvl5pkodGcS4",
        "outputId": "6e97b8f4-10c7-4408-913f-12bf503b0a62"
      },
      "outputs": [
        {
          "output_type": "execute_result",
          "data": {
            "text/plain": [
              "1     8021\n",
              "2     7932\n",
              "3     5808\n",
              "4     1180\n",
              "5      326\n",
              "0      195\n",
              "6      105\n",
              "7       59\n",
              "8       12\n",
              "9        8\n",
              "10       3\n",
              "11       2\n",
              "14       2\n",
              "15       1\n",
              "19       1\n",
              "16       1\n",
              "12       1\n",
              "Name: rooms, dtype: int64"
            ]
          },
          "metadata": {},
          "execution_count": 17
        }
      ],
      "source": [
        "data['rooms'].value_counts()"
      ]
    },
    {
      "cell_type": "markdown",
      "metadata": {
        "id": "KTqv3_CdGcS4"
      },
      "source": [
        "Минимальное количество комнат 0, вероятно, предполагается, что это квартиры-студии. Очень малая доля квартир имеет более 6 комнат, удалим их"
      ]
    },
    {
      "cell_type": "code",
      "execution_count": null,
      "metadata": {
        "colab": {
          "base_uri": "https://localhost:8080/"
        },
        "id": "V4MShhV-GcS5",
        "outputId": "bcc273e0-1f32-4cda-dd12-944a4943b6aa"
      },
      "outputs": [
        {
          "output_type": "execute_result",
          "data": {
            "text/plain": [
              "1    8021\n",
              "2    7932\n",
              "3    5808\n",
              "4    1180\n",
              "5     326\n",
              "0     195\n",
              "6     105\n",
              "Name: rooms, dtype: int64"
            ]
          },
          "metadata": {},
          "execution_count": 18
        }
      ],
      "source": [
        "data = data[~(data['rooms'] > 6)]\n",
        "data['rooms'].value_counts()"
      ]
    },
    {
      "cell_type": "markdown",
      "metadata": {
        "id": "_MuZilszGcS5"
      },
      "source": [
        "Посмотрим на количество этажей"
      ]
    },
    {
      "cell_type": "code",
      "execution_count": null,
      "metadata": {
        "colab": {
          "base_uri": "https://localhost:8080/"
        },
        "id": "Db55W6OkGcS6",
        "outputId": "9875f640-8b63-4dd0-bd9c-9ee0b3ff04f1"
      },
      "outputs": [
        {
          "output_type": "execute_result",
          "data": {
            "text/plain": [
              "37.0       1\n",
              "34.0       1\n",
              "60.0       1\n",
              "52.0       1\n",
              "33.0       1\n",
              "29.0       1\n",
              "36.0       3\n",
              "28.0      21\n",
              "35.0      24\n",
              "1.0       25\n",
              "26.0     123\n",
              "21.0     158\n",
              "27.0     164\n",
              "11.0     202\n",
              "13.0     227\n",
              "20.0     270\n",
              "22.0     284\n",
              "19.0     337\n",
              "23.0     350\n",
              "15.0     365\n",
              "2.0      378\n",
              "8.0      386\n",
              "24.0     467\n",
              "18.0     501\n",
              "14.0     552\n",
              "7.0      582\n",
              "3.0      666\n",
              "17.0     832\n",
              "6.0      884\n",
              "25.0    1072\n",
              "10.0    1172\n",
              "4.0     1185\n",
              "12.0    1360\n",
              "16.0    1373\n",
              "9.0     3756\n",
              "5.0     5756\n",
              "Name: floors_total, dtype: int64"
            ]
          },
          "metadata": {},
          "execution_count": 19
        }
      ],
      "source": [
        "data['floors_total'].value_counts().sort_values()"
      ]
    },
    {
      "cell_type": "markdown",
      "metadata": {
        "id": "CPxG3CMiGcS6"
      },
      "source": [
        "Видим, что в выборке здания выше 28 этажей являются достаточно редкими, удалим их"
      ]
    },
    {
      "cell_type": "code",
      "execution_count": null,
      "metadata": {
        "id": "O4tQm0d_GcS7"
      },
      "outputs": [],
      "source": [
        "data = data[~(data['floors_total'] > 28)]"
      ]
    },
    {
      "cell_type": "markdown",
      "metadata": {
        "id": "w5FQp5h4GcS7"
      },
      "source": [
        "Посмотрим на высоту потолков"
      ]
    },
    {
      "cell_type": "code",
      "execution_count": null,
      "metadata": {
        "colab": {
          "base_uri": "https://localhost:8080/"
        },
        "id": "oTzlbEfNGcS7",
        "outputId": "98b412c6-62e2-4358-f0e7-d4d2fff47879"
      },
      "outputs": [
        {
          "output_type": "execute_result",
          "data": {
            "text/plain": [
              "[2.4,\n",
              " 2.45,\n",
              " 2.46,\n",
              " 2.47,\n",
              " 2.48,\n",
              " 2.49,\n",
              " 2.5,\n",
              " 2.51,\n",
              " 2.52,\n",
              " 2.53,\n",
              " 2.54,\n",
              " 2.55,\n",
              " 2.56,\n",
              " 2.57,\n",
              " 2.58,\n",
              " 2.59,\n",
              " 2.6,\n",
              " 2.61,\n",
              " 2.62,\n",
              " 2.63,\n",
              " 2.64,\n",
              " 2.65,\n",
              " 2.66,\n",
              " 2.67,\n",
              " 2.68,\n",
              " 2.69,\n",
              " 2.7,\n",
              " 2.71,\n",
              " 2.72,\n",
              " 2.73,\n",
              " 2.74,\n",
              " 2.75,\n",
              " 2.76,\n",
              " 2.77,\n",
              " 2.78,\n",
              " 2.79,\n",
              " 2.8,\n",
              " 2.81,\n",
              " 2.82,\n",
              " 2.83,\n",
              " 2.84,\n",
              " 2.85,\n",
              " 2.86,\n",
              " 2.87,\n",
              " 2.88,\n",
              " 2.89,\n",
              " 2.9,\n",
              " 2.91,\n",
              " 2.92,\n",
              " 2.93,\n",
              " 2.94,\n",
              " 2.95,\n",
              " 2.96,\n",
              " 2.97,\n",
              " 2.98,\n",
              " 2.99,\n",
              " 3.0,\n",
              " 3.01,\n",
              " 3.02,\n",
              " 3.03,\n",
              " 3.04,\n",
              " 3.05,\n",
              " 3.06,\n",
              " 3.07,\n",
              " 3.08,\n",
              " 3.09,\n",
              " 3.1,\n",
              " 3.11,\n",
              " 3.12,\n",
              " 3.13,\n",
              " 3.14,\n",
              " 3.15,\n",
              " 3.16,\n",
              " 3.17,\n",
              " 3.18,\n",
              " 3.2,\n",
              " 3.21,\n",
              " 3.22,\n",
              " 3.23,\n",
              " 3.24,\n",
              " 3.25,\n",
              " 3.26,\n",
              " 3.27,\n",
              " 3.28,\n",
              " 3.3,\n",
              " 3.31,\n",
              " 3.32,\n",
              " 3.33,\n",
              " 3.34,\n",
              " 3.35,\n",
              " 3.36,\n",
              " 3.37,\n",
              " 3.38,\n",
              " 3.39,\n",
              " 3.4,\n",
              " 3.42,\n",
              " 3.44,\n",
              " 3.45,\n",
              " 3.46,\n",
              " 3.47,\n",
              " 3.48,\n",
              " 3.49,\n",
              " 3.5,\n",
              " 3.51,\n",
              " 3.52,\n",
              " 3.53,\n",
              " 3.54,\n",
              " 3.55,\n",
              " 3.56,\n",
              " 3.57,\n",
              " 3.58,\n",
              " 3.59,\n",
              " 3.6,\n",
              " 3.62,\n",
              " 3.63,\n",
              " 3.65,\n",
              " 3.66,\n",
              " 3.67,\n",
              " 3.68,\n",
              " 3.69,\n",
              " 3.7,\n",
              " 3.75,\n",
              " 3.76,\n",
              " 3.78,\n",
              " 3.8,\n",
              " 3.82,\n",
              " 3.83,\n",
              " 3.84,\n",
              " 3.85,\n",
              " 3.86,\n",
              " 3.87,\n",
              " 3.88,\n",
              " 3.9,\n",
              " 3.93,\n",
              " 3.95,\n",
              " 3.98,\n",
              " 4.0,\n",
              " 4.06,\n",
              " 4.1,\n",
              " 4.14,\n",
              " 4.15,\n",
              " 4.19,\n",
              " 4.2,\n",
              " 4.25,\n",
              " 4.3,\n",
              " 4.37,\n",
              " 4.4,\n",
              " 4.45,\n",
              " 4.5,\n",
              " 4.7,\n",
              " 4.8,\n",
              " 4.9,\n",
              " 5.0]"
            ]
          },
          "metadata": {},
          "execution_count": 59
        }
      ],
      "source": [
        "sorted(data['ceiling_height'].unique())"
      ]
    },
    {
      "cell_type": "markdown",
      "metadata": {
        "id": "nztq_DYbGcS8"
      },
      "source": [
        "Скорее всего, при значении 24 допустили опечатку и имели ввиду высоту потолка 2.4 метра, также и в других значениях больше 24. Избавимся от этой опечатки"
      ]
    },
    {
      "cell_type": "code",
      "execution_count": null,
      "metadata": {
        "id": "h8wVtOJcGcS8",
        "colab": {
          "base_uri": "https://localhost:8080/"
        },
        "outputId": "0fb63a4c-57db-47d6-8ed6-a1fa1dc4c14d"
      },
      "outputs": [
        {
          "output_type": "stream",
          "name": "stderr",
          "text": [
            "/usr/local/lib/python3.7/dist-packages/ipykernel_launcher.py:6: SettingWithCopyWarning: \n",
            "A value is trying to be set on a copy of a slice from a DataFrame.\n",
            "Try using .loc[row_indexer,col_indexer] = value instead\n",
            "\n",
            "See the caveats in the documentation: https://pandas.pydata.org/pandas-docs/stable/user_guide/indexing.html#returning-a-view-versus-a-copy\n",
            "  \n"
          ]
        }
      ],
      "source": [
        "def height(number):\n",
        "    if number >= 24.0:\n",
        "      return number/10\n",
        "    else:\n",
        "      return number  \n",
        "data['ceiling_height'] = data['ceiling_height'].apply(height)  "
      ]
    },
    {
      "cell_type": "markdown",
      "metadata": {
        "id": "6yNF2dORGcS9"
      },
      "source": [
        "По нормам СНиП минимальная высота потолка составляет 2.4 метра. Выше 5 метров высота потолка тоже не может быть, даже с учетом двухэтажной квартиры. Скорее всего это ошибка замеров, либо опечатки, но что точно подразумевалось нам не известно, и мы не можем заменить на какое-то значение, поэтому избавимся от этих аномальных значений"
      ]
    },
    {
      "cell_type": "code",
      "execution_count": null,
      "metadata": {
        "colab": {
          "base_uri": "https://localhost:8080/",
          "height": 644
        },
        "id": "NPb13V8uGcS9",
        "outputId": "aea5e9c1-1c58-4c80-eb63-a522bf3c9fb2"
      },
      "outputs": [
        {
          "output_type": "execute_result",
          "data": {
            "text/plain": [
              "       total_images  last_price  total_area first_day_exposition  rooms  \\\n",
              "0                20  13000000.0      108.00           2019-03-07      3   \n",
              "1                 7   3350000.0       40.40           2018-12-04      1   \n",
              "2                10   5196000.0       56.00           2015-08-20      2   \n",
              "3                 0  64900000.0      159.00           2015-07-24      3   \n",
              "4                 2  10000000.0      100.00           2018-06-19      2   \n",
              "...             ...         ...         ...                  ...    ...   \n",
              "23694             9   9700000.0      133.81           2017-03-21      3   \n",
              "23695            14   3100000.0       59.00           2018-01-15      3   \n",
              "23696            18   2500000.0       56.70           2018-02-11      2   \n",
              "23697            13  11475000.0       76.75           2017-03-28      2   \n",
              "23698             4   1350000.0       32.30           2017-07-21      1   \n",
              "\n",
              "       ceiling_height  floors_total  living_area  floor is_apartment  studio  \\\n",
              "0                2.70          16.0         51.0      8          NaN   False   \n",
              "1                2.65          11.0         18.6      1          NaN   False   \n",
              "2                2.65           5.0         34.3      4          NaN   False   \n",
              "3                2.65          14.0          NaN      9          NaN   False   \n",
              "4                3.03          14.0         32.0     13          NaN   False   \n",
              "...               ...           ...          ...    ...          ...     ...   \n",
              "23694            3.70           5.0         73.3      3          NaN   False   \n",
              "23695            2.65           5.0         38.0      4          NaN   False   \n",
              "23696            2.65           3.0         29.7      1          NaN   False   \n",
              "23697            3.00          17.0          NaN     12          NaN   False   \n",
              "23698            2.50           5.0         12.3      1          NaN   False   \n",
              "\n",
              "       open_plan  kitchen_area  balcony        locality_name  \\\n",
              "0          False         25.00      0.0      Санкт-Петербург   \n",
              "1          False         11.00      2.0       поселок Шушары   \n",
              "2          False          8.30      0.0      Санкт-Петербург   \n",
              "3          False           NaN      0.0      Санкт-Петербург   \n",
              "4          False         41.00      0.0      Санкт-Петербург   \n",
              "...          ...           ...      ...                  ...   \n",
              "23694      False         13.83      0.0      Санкт-Петербург   \n",
              "23695      False          8.50      0.0                Тосно   \n",
              "23696      False           NaN      0.0     село Рождествено   \n",
              "23697      False         23.30      2.0      Санкт-Петербург   \n",
              "23698      False          9.00      0.0  поселок Новый Учхоз   \n",
              "\n",
              "       airports_nearest  cityCenters_nearest  parks_around3000  parks_nearest  \\\n",
              "0               18863.0              16028.0               1.0          482.0   \n",
              "1               12817.0              18603.0               0.0            NaN   \n",
              "2               21741.0              13933.0               1.0           90.0   \n",
              "3               28098.0               6800.0               2.0           84.0   \n",
              "4               31856.0               8098.0               2.0          112.0   \n",
              "...                 ...                  ...               ...            ...   \n",
              "23694           24665.0               4232.0               1.0          796.0   \n",
              "23695               NaN                  NaN               NaN            NaN   \n",
              "23696               NaN                  NaN               NaN            NaN   \n",
              "23697           39140.0              10364.0               2.0          173.0   \n",
              "23698               NaN                  NaN               NaN            NaN   \n",
              "\n",
              "       ponds_around3000  ponds_nearest  days_exposition  \n",
              "0                   2.0          755.0              NaN  \n",
              "1                   0.0            NaN             81.0  \n",
              "2                   2.0          574.0            558.0  \n",
              "3                   3.0          234.0            424.0  \n",
              "4                   1.0           48.0            121.0  \n",
              "...                 ...            ...              ...  \n",
              "23694               3.0          381.0              NaN  \n",
              "23695               NaN            NaN             45.0  \n",
              "23696               NaN            NaN              NaN  \n",
              "23697               3.0          196.0            602.0  \n",
              "23698               NaN            NaN              NaN  \n",
              "\n",
              "[23498 rows x 22 columns]"
            ],
            "text/html": [
              "\n",
              "  <div id=\"df-5feb539b-5e58-4c2e-917b-fd1360fbcfda\">\n",
              "    <div class=\"colab-df-container\">\n",
              "      <div>\n",
              "<style scoped>\n",
              "    .dataframe tbody tr th:only-of-type {\n",
              "        vertical-align: middle;\n",
              "    }\n",
              "\n",
              "    .dataframe tbody tr th {\n",
              "        vertical-align: top;\n",
              "    }\n",
              "\n",
              "    .dataframe thead th {\n",
              "        text-align: right;\n",
              "    }\n",
              "</style>\n",
              "<table border=\"1\" class=\"dataframe\">\n",
              "  <thead>\n",
              "    <tr style=\"text-align: right;\">\n",
              "      <th></th>\n",
              "      <th>total_images</th>\n",
              "      <th>last_price</th>\n",
              "      <th>total_area</th>\n",
              "      <th>first_day_exposition</th>\n",
              "      <th>rooms</th>\n",
              "      <th>ceiling_height</th>\n",
              "      <th>floors_total</th>\n",
              "      <th>living_area</th>\n",
              "      <th>floor</th>\n",
              "      <th>is_apartment</th>\n",
              "      <th>studio</th>\n",
              "      <th>open_plan</th>\n",
              "      <th>kitchen_area</th>\n",
              "      <th>balcony</th>\n",
              "      <th>locality_name</th>\n",
              "      <th>airports_nearest</th>\n",
              "      <th>cityCenters_nearest</th>\n",
              "      <th>parks_around3000</th>\n",
              "      <th>parks_nearest</th>\n",
              "      <th>ponds_around3000</th>\n",
              "      <th>ponds_nearest</th>\n",
              "      <th>days_exposition</th>\n",
              "    </tr>\n",
              "  </thead>\n",
              "  <tbody>\n",
              "    <tr>\n",
              "      <th>0</th>\n",
              "      <td>20</td>\n",
              "      <td>13000000.0</td>\n",
              "      <td>108.00</td>\n",
              "      <td>2019-03-07</td>\n",
              "      <td>3</td>\n",
              "      <td>2.70</td>\n",
              "      <td>16.0</td>\n",
              "      <td>51.0</td>\n",
              "      <td>8</td>\n",
              "      <td>NaN</td>\n",
              "      <td>False</td>\n",
              "      <td>False</td>\n",
              "      <td>25.00</td>\n",
              "      <td>0.0</td>\n",
              "      <td>Санкт-Петербург</td>\n",
              "      <td>18863.0</td>\n",
              "      <td>16028.0</td>\n",
              "      <td>1.0</td>\n",
              "      <td>482.0</td>\n",
              "      <td>2.0</td>\n",
              "      <td>755.0</td>\n",
              "      <td>NaN</td>\n",
              "    </tr>\n",
              "    <tr>\n",
              "      <th>1</th>\n",
              "      <td>7</td>\n",
              "      <td>3350000.0</td>\n",
              "      <td>40.40</td>\n",
              "      <td>2018-12-04</td>\n",
              "      <td>1</td>\n",
              "      <td>2.65</td>\n",
              "      <td>11.0</td>\n",
              "      <td>18.6</td>\n",
              "      <td>1</td>\n",
              "      <td>NaN</td>\n",
              "      <td>False</td>\n",
              "      <td>False</td>\n",
              "      <td>11.00</td>\n",
              "      <td>2.0</td>\n",
              "      <td>поселок Шушары</td>\n",
              "      <td>12817.0</td>\n",
              "      <td>18603.0</td>\n",
              "      <td>0.0</td>\n",
              "      <td>NaN</td>\n",
              "      <td>0.0</td>\n",
              "      <td>NaN</td>\n",
              "      <td>81.0</td>\n",
              "    </tr>\n",
              "    <tr>\n",
              "      <th>2</th>\n",
              "      <td>10</td>\n",
              "      <td>5196000.0</td>\n",
              "      <td>56.00</td>\n",
              "      <td>2015-08-20</td>\n",
              "      <td>2</td>\n",
              "      <td>2.65</td>\n",
              "      <td>5.0</td>\n",
              "      <td>34.3</td>\n",
              "      <td>4</td>\n",
              "      <td>NaN</td>\n",
              "      <td>False</td>\n",
              "      <td>False</td>\n",
              "      <td>8.30</td>\n",
              "      <td>0.0</td>\n",
              "      <td>Санкт-Петербург</td>\n",
              "      <td>21741.0</td>\n",
              "      <td>13933.0</td>\n",
              "      <td>1.0</td>\n",
              "      <td>90.0</td>\n",
              "      <td>2.0</td>\n",
              "      <td>574.0</td>\n",
              "      <td>558.0</td>\n",
              "    </tr>\n",
              "    <tr>\n",
              "      <th>3</th>\n",
              "      <td>0</td>\n",
              "      <td>64900000.0</td>\n",
              "      <td>159.00</td>\n",
              "      <td>2015-07-24</td>\n",
              "      <td>3</td>\n",
              "      <td>2.65</td>\n",
              "      <td>14.0</td>\n",
              "      <td>NaN</td>\n",
              "      <td>9</td>\n",
              "      <td>NaN</td>\n",
              "      <td>False</td>\n",
              "      <td>False</td>\n",
              "      <td>NaN</td>\n",
              "      <td>0.0</td>\n",
              "      <td>Санкт-Петербург</td>\n",
              "      <td>28098.0</td>\n",
              "      <td>6800.0</td>\n",
              "      <td>2.0</td>\n",
              "      <td>84.0</td>\n",
              "      <td>3.0</td>\n",
              "      <td>234.0</td>\n",
              "      <td>424.0</td>\n",
              "    </tr>\n",
              "    <tr>\n",
              "      <th>4</th>\n",
              "      <td>2</td>\n",
              "      <td>10000000.0</td>\n",
              "      <td>100.00</td>\n",
              "      <td>2018-06-19</td>\n",
              "      <td>2</td>\n",
              "      <td>3.03</td>\n",
              "      <td>14.0</td>\n",
              "      <td>32.0</td>\n",
              "      <td>13</td>\n",
              "      <td>NaN</td>\n",
              "      <td>False</td>\n",
              "      <td>False</td>\n",
              "      <td>41.00</td>\n",
              "      <td>0.0</td>\n",
              "      <td>Санкт-Петербург</td>\n",
              "      <td>31856.0</td>\n",
              "      <td>8098.0</td>\n",
              "      <td>2.0</td>\n",
              "      <td>112.0</td>\n",
              "      <td>1.0</td>\n",
              "      <td>48.0</td>\n",
              "      <td>121.0</td>\n",
              "    </tr>\n",
              "    <tr>\n",
              "      <th>...</th>\n",
              "      <td>...</td>\n",
              "      <td>...</td>\n",
              "      <td>...</td>\n",
              "      <td>...</td>\n",
              "      <td>...</td>\n",
              "      <td>...</td>\n",
              "      <td>...</td>\n",
              "      <td>...</td>\n",
              "      <td>...</td>\n",
              "      <td>...</td>\n",
              "      <td>...</td>\n",
              "      <td>...</td>\n",
              "      <td>...</td>\n",
              "      <td>...</td>\n",
              "      <td>...</td>\n",
              "      <td>...</td>\n",
              "      <td>...</td>\n",
              "      <td>...</td>\n",
              "      <td>...</td>\n",
              "      <td>...</td>\n",
              "      <td>...</td>\n",
              "      <td>...</td>\n",
              "    </tr>\n",
              "    <tr>\n",
              "      <th>23694</th>\n",
              "      <td>9</td>\n",
              "      <td>9700000.0</td>\n",
              "      <td>133.81</td>\n",
              "      <td>2017-03-21</td>\n",
              "      <td>3</td>\n",
              "      <td>3.70</td>\n",
              "      <td>5.0</td>\n",
              "      <td>73.3</td>\n",
              "      <td>3</td>\n",
              "      <td>NaN</td>\n",
              "      <td>False</td>\n",
              "      <td>False</td>\n",
              "      <td>13.83</td>\n",
              "      <td>0.0</td>\n",
              "      <td>Санкт-Петербург</td>\n",
              "      <td>24665.0</td>\n",
              "      <td>4232.0</td>\n",
              "      <td>1.0</td>\n",
              "      <td>796.0</td>\n",
              "      <td>3.0</td>\n",
              "      <td>381.0</td>\n",
              "      <td>NaN</td>\n",
              "    </tr>\n",
              "    <tr>\n",
              "      <th>23695</th>\n",
              "      <td>14</td>\n",
              "      <td>3100000.0</td>\n",
              "      <td>59.00</td>\n",
              "      <td>2018-01-15</td>\n",
              "      <td>3</td>\n",
              "      <td>2.65</td>\n",
              "      <td>5.0</td>\n",
              "      <td>38.0</td>\n",
              "      <td>4</td>\n",
              "      <td>NaN</td>\n",
              "      <td>False</td>\n",
              "      <td>False</td>\n",
              "      <td>8.50</td>\n",
              "      <td>0.0</td>\n",
              "      <td>Тосно</td>\n",
              "      <td>NaN</td>\n",
              "      <td>NaN</td>\n",
              "      <td>NaN</td>\n",
              "      <td>NaN</td>\n",
              "      <td>NaN</td>\n",
              "      <td>NaN</td>\n",
              "      <td>45.0</td>\n",
              "    </tr>\n",
              "    <tr>\n",
              "      <th>23696</th>\n",
              "      <td>18</td>\n",
              "      <td>2500000.0</td>\n",
              "      <td>56.70</td>\n",
              "      <td>2018-02-11</td>\n",
              "      <td>2</td>\n",
              "      <td>2.65</td>\n",
              "      <td>3.0</td>\n",
              "      <td>29.7</td>\n",
              "      <td>1</td>\n",
              "      <td>NaN</td>\n",
              "      <td>False</td>\n",
              "      <td>False</td>\n",
              "      <td>NaN</td>\n",
              "      <td>0.0</td>\n",
              "      <td>село Рождествено</td>\n",
              "      <td>NaN</td>\n",
              "      <td>NaN</td>\n",
              "      <td>NaN</td>\n",
              "      <td>NaN</td>\n",
              "      <td>NaN</td>\n",
              "      <td>NaN</td>\n",
              "      <td>NaN</td>\n",
              "    </tr>\n",
              "    <tr>\n",
              "      <th>23697</th>\n",
              "      <td>13</td>\n",
              "      <td>11475000.0</td>\n",
              "      <td>76.75</td>\n",
              "      <td>2017-03-28</td>\n",
              "      <td>2</td>\n",
              "      <td>3.00</td>\n",
              "      <td>17.0</td>\n",
              "      <td>NaN</td>\n",
              "      <td>12</td>\n",
              "      <td>NaN</td>\n",
              "      <td>False</td>\n",
              "      <td>False</td>\n",
              "      <td>23.30</td>\n",
              "      <td>2.0</td>\n",
              "      <td>Санкт-Петербург</td>\n",
              "      <td>39140.0</td>\n",
              "      <td>10364.0</td>\n",
              "      <td>2.0</td>\n",
              "      <td>173.0</td>\n",
              "      <td>3.0</td>\n",
              "      <td>196.0</td>\n",
              "      <td>602.0</td>\n",
              "    </tr>\n",
              "    <tr>\n",
              "      <th>23698</th>\n",
              "      <td>4</td>\n",
              "      <td>1350000.0</td>\n",
              "      <td>32.30</td>\n",
              "      <td>2017-07-21</td>\n",
              "      <td>1</td>\n",
              "      <td>2.50</td>\n",
              "      <td>5.0</td>\n",
              "      <td>12.3</td>\n",
              "      <td>1</td>\n",
              "      <td>NaN</td>\n",
              "      <td>False</td>\n",
              "      <td>False</td>\n",
              "      <td>9.00</td>\n",
              "      <td>0.0</td>\n",
              "      <td>поселок Новый Учхоз</td>\n",
              "      <td>NaN</td>\n",
              "      <td>NaN</td>\n",
              "      <td>NaN</td>\n",
              "      <td>NaN</td>\n",
              "      <td>NaN</td>\n",
              "      <td>NaN</td>\n",
              "      <td>NaN</td>\n",
              "    </tr>\n",
              "  </tbody>\n",
              "</table>\n",
              "<p>23498 rows × 22 columns</p>\n",
              "</div>\n",
              "      <button class=\"colab-df-convert\" onclick=\"convertToInteractive('df-5feb539b-5e58-4c2e-917b-fd1360fbcfda')\"\n",
              "              title=\"Convert this dataframe to an interactive table.\"\n",
              "              style=\"display:none;\">\n",
              "        \n",
              "  <svg xmlns=\"http://www.w3.org/2000/svg\" height=\"24px\"viewBox=\"0 0 24 24\"\n",
              "       width=\"24px\">\n",
              "    <path d=\"M0 0h24v24H0V0z\" fill=\"none\"/>\n",
              "    <path d=\"M18.56 5.44l.94 2.06.94-2.06 2.06-.94-2.06-.94-.94-2.06-.94 2.06-2.06.94zm-11 1L8.5 8.5l.94-2.06 2.06-.94-2.06-.94L8.5 2.5l-.94 2.06-2.06.94zm10 10l.94 2.06.94-2.06 2.06-.94-2.06-.94-.94-2.06-.94 2.06-2.06.94z\"/><path d=\"M17.41 7.96l-1.37-1.37c-.4-.4-.92-.59-1.43-.59-.52 0-1.04.2-1.43.59L10.3 9.45l-7.72 7.72c-.78.78-.78 2.05 0 2.83L4 21.41c.39.39.9.59 1.41.59.51 0 1.02-.2 1.41-.59l7.78-7.78 2.81-2.81c.8-.78.8-2.07 0-2.86zM5.41 20L4 18.59l7.72-7.72 1.47 1.35L5.41 20z\"/>\n",
              "  </svg>\n",
              "      </button>\n",
              "      \n",
              "  <style>\n",
              "    .colab-df-container {\n",
              "      display:flex;\n",
              "      flex-wrap:wrap;\n",
              "      gap: 12px;\n",
              "    }\n",
              "\n",
              "    .colab-df-convert {\n",
              "      background-color: #E8F0FE;\n",
              "      border: none;\n",
              "      border-radius: 50%;\n",
              "      cursor: pointer;\n",
              "      display: none;\n",
              "      fill: #1967D2;\n",
              "      height: 32px;\n",
              "      padding: 0 0 0 0;\n",
              "      width: 32px;\n",
              "    }\n",
              "\n",
              "    .colab-df-convert:hover {\n",
              "      background-color: #E2EBFA;\n",
              "      box-shadow: 0px 1px 2px rgba(60, 64, 67, 0.3), 0px 1px 3px 1px rgba(60, 64, 67, 0.15);\n",
              "      fill: #174EA6;\n",
              "    }\n",
              "\n",
              "    [theme=dark] .colab-df-convert {\n",
              "      background-color: #3B4455;\n",
              "      fill: #D2E3FC;\n",
              "    }\n",
              "\n",
              "    [theme=dark] .colab-df-convert:hover {\n",
              "      background-color: #434B5C;\n",
              "      box-shadow: 0px 1px 3px 1px rgba(0, 0, 0, 0.15);\n",
              "      filter: drop-shadow(0px 1px 2px rgba(0, 0, 0, 0.3));\n",
              "      fill: #FFFFFF;\n",
              "    }\n",
              "  </style>\n",
              "\n",
              "      <script>\n",
              "        const buttonEl =\n",
              "          document.querySelector('#df-5feb539b-5e58-4c2e-917b-fd1360fbcfda button.colab-df-convert');\n",
              "        buttonEl.style.display =\n",
              "          google.colab.kernel.accessAllowed ? 'block' : 'none';\n",
              "\n",
              "        async function convertToInteractive(key) {\n",
              "          const element = document.querySelector('#df-5feb539b-5e58-4c2e-917b-fd1360fbcfda');\n",
              "          const dataTable =\n",
              "            await google.colab.kernel.invokeFunction('convertToInteractive',\n",
              "                                                     [key], {});\n",
              "          if (!dataTable) return;\n",
              "\n",
              "          const docLinkHtml = 'Like what you see? Visit the ' +\n",
              "            '<a target=\"_blank\" href=https://colab.research.google.com/notebooks/data_table.ipynb>data table notebook</a>'\n",
              "            + ' to learn more about interactive tables.';\n",
              "          element.innerHTML = '';\n",
              "          dataTable['output_type'] = 'display_data';\n",
              "          await google.colab.output.renderOutput(dataTable, element);\n",
              "          const docLink = document.createElement('div');\n",
              "          docLink.innerHTML = docLinkHtml;\n",
              "          element.appendChild(docLink);\n",
              "        }\n",
              "      </script>\n",
              "    </div>\n",
              "  </div>\n",
              "  "
            ]
          },
          "metadata": {},
          "execution_count": 23
        }
      ],
      "source": [
        "data = data[~((data['ceiling_height'] < 2.4) | (data['ceiling_height'] > 5))]\n",
        "data"
      ]
    },
    {
      "cell_type": "markdown",
      "metadata": {
        "id": "LUL_AcA3GcS9"
      },
      "source": [
        "**Вывод:** Определили и заменили пропуски, там где это было возможно. Преобразовали данные к нужному типу. Избавились от неявных дубликатов, удалили редкие значения по количеству комнат, этажности дома и высоте потолков."
      ]
    },
    {
      "cell_type": "markdown",
      "metadata": {
        "id": "vl04ZiN0GcS_"
      },
      "source": [
        "### Посчитайте и добавьте в таблицу новые столбцы"
      ]
    },
    {
      "cell_type": "markdown",
      "metadata": {
        "id": "fayrGs49GcS_"
      },
      "source": [
        "Добавим столбцы с ценой за 1 квадратный метр, с днем недели, месяцем и годом публикации, с расстоянием до центра города в км"
      ]
    },
    {
      "cell_type": "code",
      "execution_count": null,
      "metadata": {
        "id": "HzBeq-w7GcS_"
      },
      "outputs": [],
      "source": [
        "data['cost_per_meter'] = round((data['last_price']/data['total_area']), 2)\n",
        "data['weekday'] = data['first_day_exposition'].dt.weekday \n",
        "data['month'] = data['first_day_exposition'].dt.month\n",
        "data['year'] = data['first_day_exposition'].dt.year\n",
        "data['city_center_km'] = round(data['cityCenters_nearest']/1000)\n",
        "data['last_price'] = data['last_price']/1000000"
      ]
    },
    {
      "cell_type": "markdown",
      "metadata": {
        "id": "zoVrDrp0GcTA"
      },
      "source": [
        "Создадим функцию для категоризации этажа"
      ]
    },
    {
      "cell_type": "code",
      "execution_count": null,
      "metadata": {
        "id": "Qn-DFG6yGcTA"
      },
      "outputs": [],
      "source": [
        "def floor(number):\n",
        "      if number['floor'] == 1:\n",
        "        return \"Первый\"\n",
        "      elif number['floor'] == number['floors_total']:\n",
        "        return \"Последний\"\n",
        "      else:\n",
        "        return \"Другой\"  "
      ]
    },
    {
      "cell_type": "code",
      "execution_count": null,
      "metadata": {
        "colab": {
          "base_uri": "https://localhost:8080/"
        },
        "id": "Tbu7e3NFGcTA",
        "outputId": "06e06fdc-7a5a-41bb-f1b8-fcea225e24fc"
      },
      "outputs": [
        {
          "output_type": "execute_result",
          "data": {
            "text/plain": [
              "       total_images  last_price  total_area first_day_exposition  rooms  \\\n",
              "23684            20      21.400      145.00           2018-11-02      4   \n",
              "23685            15       2.490       31.00           2019-01-24      1   \n",
              "23686             8       3.300       31.00           2017-04-29      1   \n",
              "23687             6       3.200       39.00           2017-12-16      1   \n",
              "23688            19       9.200      101.00           2019-04-01      3   \n",
              "23689            13       3.550       35.30           2018-02-28      1   \n",
              "23690             3       5.500       52.00           2018-07-19      2   \n",
              "23691            11       9.470       72.90           2016-10-13      2   \n",
              "23692             2       1.350       30.00           2017-07-07      1   \n",
              "23693             9       4.600       62.40           2016-08-05      3   \n",
              "23694             9       9.700      133.81           2017-03-21      3   \n",
              "23695            14       3.100       59.00           2018-01-15      3   \n",
              "23696            18       2.500       56.70           2018-02-11      2   \n",
              "23697            13      11.475       76.75           2017-03-28      2   \n",
              "23698             4       1.350       32.30           2017-07-21      1   \n",
              "\n",
              "       ceiling_height  floors_total  living_area  floor is_apartment  studio  \\\n",
              "23684            3.00          26.0         71.4     17          NaN   False   \n",
              "23685            2.50           5.0         17.3      5          NaN   False   \n",
              "23686            2.55           9.0         18.0      6          NaN   False   \n",
              "23687            2.65           9.0         20.0      6          NaN   False   \n",
              "23688            3.05          15.0         63.0     12          NaN   False   \n",
              "23689            2.86          15.0         16.3      4          NaN   False   \n",
              "23690            2.65           5.0         31.0      2          NaN   False   \n",
              "23691            2.75          25.0         40.3      7          NaN   False   \n",
              "23692            2.65           5.0         17.5      4          NaN   False   \n",
              "23693            2.60           9.0         40.0      8          NaN   False   \n",
              "23694            3.70           5.0         73.3      3          NaN   False   \n",
              "23695            2.65           5.0         38.0      4          NaN   False   \n",
              "23696            2.65           3.0         29.7      1          NaN   False   \n",
              "23697            3.00          17.0          NaN     12          NaN   False   \n",
              "23698            2.50           5.0         12.3      1          NaN   False   \n",
              "\n",
              "       open_plan  kitchen_area  balcony        locality_name  \\\n",
              "23684      False         15.60      0.0      Санкт-Петербург   \n",
              "23685      False          5.60      1.0            Ломоносов   \n",
              "23686      False          6.50      0.0      Санкт-Петербург   \n",
              "23687      False         11.00      2.0      Санкт-Петербург   \n",
              "23688      False         15.00      0.0      Санкт-Петербург   \n",
              "23689      False          9.10      2.0      Санкт-Петербург   \n",
              "23690      False          6.00      0.0      Санкт-Петербург   \n",
              "23691      False         10.60      1.0      Санкт-Петербург   \n",
              "23692      False          6.00      0.0               Тихвин   \n",
              "23693      False          8.00      0.0             Петергоф   \n",
              "23694      False         13.83      0.0      Санкт-Петербург   \n",
              "23695      False          8.50      0.0                Тосно   \n",
              "23696      False           NaN      0.0     село Рождествено   \n",
              "23697      False         23.30      2.0      Санкт-Петербург   \n",
              "23698      False          9.00      0.0  поселок Новый Учхоз   \n",
              "\n",
              "       airports_nearest  cityCenters_nearest  parks_around3000  parks_nearest  \\\n",
              "23684           11827.0              11459.0               0.0            NaN   \n",
              "23685           48393.0              51818.0               0.0            NaN   \n",
              "23686           11751.0              11602.0               1.0          140.0   \n",
              "23687           40837.0              16704.0               0.0            NaN   \n",
              "23688           15632.0              14428.0               0.0            NaN   \n",
              "23689           17284.0              16081.0               1.0          353.0   \n",
              "23690           20151.0               6263.0               1.0          300.0   \n",
              "23691           19424.0               4489.0               0.0            NaN   \n",
              "23692               NaN                  NaN               NaN            NaN   \n",
              "23693           45602.0              34104.0               1.0          352.0   \n",
              "23694           24665.0               4232.0               1.0          796.0   \n",
              "23695               NaN                  NaN               NaN            NaN   \n",
              "23696               NaN                  NaN               NaN            NaN   \n",
              "23697           39140.0              10364.0               2.0          173.0   \n",
              "23698               NaN                  NaN               NaN            NaN   \n",
              "\n",
              "       ponds_around3000  ponds_nearest  days_exposition  cost_per_meter  \\\n",
              "23684               0.0            NaN              NaN       147586.21   \n",
              "23685               0.0            NaN              NaN        80322.58   \n",
              "23686               1.0          317.0            193.0       106451.61   \n",
              "23687               0.0            NaN             38.0        82051.28   \n",
              "23688               0.0            NaN             23.0        91089.11   \n",
              "23689               2.0          652.0             29.0       100566.57   \n",
              "23690               0.0            NaN             15.0       105769.23   \n",
              "23691               1.0          806.0            519.0       129903.98   \n",
              "23692               NaN            NaN            413.0        45000.00   \n",
              "23693               1.0          675.0            239.0        73717.95   \n",
              "23694               3.0          381.0              NaN        72490.85   \n",
              "23695               NaN            NaN             45.0        52542.37   \n",
              "23696               NaN            NaN              NaN        44091.71   \n",
              "23697               3.0          196.0            602.0       149511.40   \n",
              "23698               NaN            NaN              NaN        41795.67   \n",
              "\n",
              "       weekday  month  year  city_center_km floor_category  \n",
              "23684        4     11  2018            11.0         Другой  \n",
              "23685        3      1  2019            52.0      Последний  \n",
              "23686        5      4  2017            12.0         Другой  \n",
              "23687        5     12  2017            17.0         Другой  \n",
              "23688        0      4  2019            14.0         Другой  \n",
              "23689        2      2  2018            16.0         Другой  \n",
              "23690        3      7  2018             6.0         Другой  \n",
              "23691        3     10  2016             4.0         Другой  \n",
              "23692        4      7  2017             NaN         Другой  \n",
              "23693        4      8  2016            34.0         Другой  \n",
              "23694        1      3  2017             4.0         Другой  \n",
              "23695        0      1  2018             NaN         Другой  \n",
              "23696        6      2  2018             NaN         Первый  \n",
              "23697        1      3  2017            10.0         Другой  \n",
              "23698        4      7  2017             NaN         Первый  "
            ],
            "text/html": [
              "\n",
              "  <div id=\"df-da8b8b12-6bb4-42a9-a42d-84a8175798a9\">\n",
              "    <div class=\"colab-df-container\">\n",
              "      <div>\n",
              "<style scoped>\n",
              "    .dataframe tbody tr th:only-of-type {\n",
              "        vertical-align: middle;\n",
              "    }\n",
              "\n",
              "    .dataframe tbody tr th {\n",
              "        vertical-align: top;\n",
              "    }\n",
              "\n",
              "    .dataframe thead th {\n",
              "        text-align: right;\n",
              "    }\n",
              "</style>\n",
              "<table border=\"1\" class=\"dataframe\">\n",
              "  <thead>\n",
              "    <tr style=\"text-align: right;\">\n",
              "      <th></th>\n",
              "      <th>total_images</th>\n",
              "      <th>last_price</th>\n",
              "      <th>total_area</th>\n",
              "      <th>first_day_exposition</th>\n",
              "      <th>rooms</th>\n",
              "      <th>ceiling_height</th>\n",
              "      <th>floors_total</th>\n",
              "      <th>living_area</th>\n",
              "      <th>floor</th>\n",
              "      <th>is_apartment</th>\n",
              "      <th>studio</th>\n",
              "      <th>open_plan</th>\n",
              "      <th>kitchen_area</th>\n",
              "      <th>balcony</th>\n",
              "      <th>locality_name</th>\n",
              "      <th>airports_nearest</th>\n",
              "      <th>cityCenters_nearest</th>\n",
              "      <th>parks_around3000</th>\n",
              "      <th>parks_nearest</th>\n",
              "      <th>ponds_around3000</th>\n",
              "      <th>ponds_nearest</th>\n",
              "      <th>days_exposition</th>\n",
              "      <th>cost_per_meter</th>\n",
              "      <th>weekday</th>\n",
              "      <th>month</th>\n",
              "      <th>year</th>\n",
              "      <th>city_center_km</th>\n",
              "      <th>floor_category</th>\n",
              "    </tr>\n",
              "  </thead>\n",
              "  <tbody>\n",
              "    <tr>\n",
              "      <th>23684</th>\n",
              "      <td>20</td>\n",
              "      <td>21.400</td>\n",
              "      <td>145.00</td>\n",
              "      <td>2018-11-02</td>\n",
              "      <td>4</td>\n",
              "      <td>3.00</td>\n",
              "      <td>26.0</td>\n",
              "      <td>71.4</td>\n",
              "      <td>17</td>\n",
              "      <td>NaN</td>\n",
              "      <td>False</td>\n",
              "      <td>False</td>\n",
              "      <td>15.60</td>\n",
              "      <td>0.0</td>\n",
              "      <td>Санкт-Петербург</td>\n",
              "      <td>11827.0</td>\n",
              "      <td>11459.0</td>\n",
              "      <td>0.0</td>\n",
              "      <td>NaN</td>\n",
              "      <td>0.0</td>\n",
              "      <td>NaN</td>\n",
              "      <td>NaN</td>\n",
              "      <td>147586.21</td>\n",
              "      <td>4</td>\n",
              "      <td>11</td>\n",
              "      <td>2018</td>\n",
              "      <td>11.0</td>\n",
              "      <td>Другой</td>\n",
              "    </tr>\n",
              "    <tr>\n",
              "      <th>23685</th>\n",
              "      <td>15</td>\n",
              "      <td>2.490</td>\n",
              "      <td>31.00</td>\n",
              "      <td>2019-01-24</td>\n",
              "      <td>1</td>\n",
              "      <td>2.50</td>\n",
              "      <td>5.0</td>\n",
              "      <td>17.3</td>\n",
              "      <td>5</td>\n",
              "      <td>NaN</td>\n",
              "      <td>False</td>\n",
              "      <td>False</td>\n",
              "      <td>5.60</td>\n",
              "      <td>1.0</td>\n",
              "      <td>Ломоносов</td>\n",
              "      <td>48393.0</td>\n",
              "      <td>51818.0</td>\n",
              "      <td>0.0</td>\n",
              "      <td>NaN</td>\n",
              "      <td>0.0</td>\n",
              "      <td>NaN</td>\n",
              "      <td>NaN</td>\n",
              "      <td>80322.58</td>\n",
              "      <td>3</td>\n",
              "      <td>1</td>\n",
              "      <td>2019</td>\n",
              "      <td>52.0</td>\n",
              "      <td>Последний</td>\n",
              "    </tr>\n",
              "    <tr>\n",
              "      <th>23686</th>\n",
              "      <td>8</td>\n",
              "      <td>3.300</td>\n",
              "      <td>31.00</td>\n",
              "      <td>2017-04-29</td>\n",
              "      <td>1</td>\n",
              "      <td>2.55</td>\n",
              "      <td>9.0</td>\n",
              "      <td>18.0</td>\n",
              "      <td>6</td>\n",
              "      <td>NaN</td>\n",
              "      <td>False</td>\n",
              "      <td>False</td>\n",
              "      <td>6.50</td>\n",
              "      <td>0.0</td>\n",
              "      <td>Санкт-Петербург</td>\n",
              "      <td>11751.0</td>\n",
              "      <td>11602.0</td>\n",
              "      <td>1.0</td>\n",
              "      <td>140.0</td>\n",
              "      <td>1.0</td>\n",
              "      <td>317.0</td>\n",
              "      <td>193.0</td>\n",
              "      <td>106451.61</td>\n",
              "      <td>5</td>\n",
              "      <td>4</td>\n",
              "      <td>2017</td>\n",
              "      <td>12.0</td>\n",
              "      <td>Другой</td>\n",
              "    </tr>\n",
              "    <tr>\n",
              "      <th>23687</th>\n",
              "      <td>6</td>\n",
              "      <td>3.200</td>\n",
              "      <td>39.00</td>\n",
              "      <td>2017-12-16</td>\n",
              "      <td>1</td>\n",
              "      <td>2.65</td>\n",
              "      <td>9.0</td>\n",
              "      <td>20.0</td>\n",
              "      <td>6</td>\n",
              "      <td>NaN</td>\n",
              "      <td>False</td>\n",
              "      <td>False</td>\n",
              "      <td>11.00</td>\n",
              "      <td>2.0</td>\n",
              "      <td>Санкт-Петербург</td>\n",
              "      <td>40837.0</td>\n",
              "      <td>16704.0</td>\n",
              "      <td>0.0</td>\n",
              "      <td>NaN</td>\n",
              "      <td>0.0</td>\n",
              "      <td>NaN</td>\n",
              "      <td>38.0</td>\n",
              "      <td>82051.28</td>\n",
              "      <td>5</td>\n",
              "      <td>12</td>\n",
              "      <td>2017</td>\n",
              "      <td>17.0</td>\n",
              "      <td>Другой</td>\n",
              "    </tr>\n",
              "    <tr>\n",
              "      <th>23688</th>\n",
              "      <td>19</td>\n",
              "      <td>9.200</td>\n",
              "      <td>101.00</td>\n",
              "      <td>2019-04-01</td>\n",
              "      <td>3</td>\n",
              "      <td>3.05</td>\n",
              "      <td>15.0</td>\n",
              "      <td>63.0</td>\n",
              "      <td>12</td>\n",
              "      <td>NaN</td>\n",
              "      <td>False</td>\n",
              "      <td>False</td>\n",
              "      <td>15.00</td>\n",
              "      <td>0.0</td>\n",
              "      <td>Санкт-Петербург</td>\n",
              "      <td>15632.0</td>\n",
              "      <td>14428.0</td>\n",
              "      <td>0.0</td>\n",
              "      <td>NaN</td>\n",
              "      <td>0.0</td>\n",
              "      <td>NaN</td>\n",
              "      <td>23.0</td>\n",
              "      <td>91089.11</td>\n",
              "      <td>0</td>\n",
              "      <td>4</td>\n",
              "      <td>2019</td>\n",
              "      <td>14.0</td>\n",
              "      <td>Другой</td>\n",
              "    </tr>\n",
              "    <tr>\n",
              "      <th>23689</th>\n",
              "      <td>13</td>\n",
              "      <td>3.550</td>\n",
              "      <td>35.30</td>\n",
              "      <td>2018-02-28</td>\n",
              "      <td>1</td>\n",
              "      <td>2.86</td>\n",
              "      <td>15.0</td>\n",
              "      <td>16.3</td>\n",
              "      <td>4</td>\n",
              "      <td>NaN</td>\n",
              "      <td>False</td>\n",
              "      <td>False</td>\n",
              "      <td>9.10</td>\n",
              "      <td>2.0</td>\n",
              "      <td>Санкт-Петербург</td>\n",
              "      <td>17284.0</td>\n",
              "      <td>16081.0</td>\n",
              "      <td>1.0</td>\n",
              "      <td>353.0</td>\n",
              "      <td>2.0</td>\n",
              "      <td>652.0</td>\n",
              "      <td>29.0</td>\n",
              "      <td>100566.57</td>\n",
              "      <td>2</td>\n",
              "      <td>2</td>\n",
              "      <td>2018</td>\n",
              "      <td>16.0</td>\n",
              "      <td>Другой</td>\n",
              "    </tr>\n",
              "    <tr>\n",
              "      <th>23690</th>\n",
              "      <td>3</td>\n",
              "      <td>5.500</td>\n",
              "      <td>52.00</td>\n",
              "      <td>2018-07-19</td>\n",
              "      <td>2</td>\n",
              "      <td>2.65</td>\n",
              "      <td>5.0</td>\n",
              "      <td>31.0</td>\n",
              "      <td>2</td>\n",
              "      <td>NaN</td>\n",
              "      <td>False</td>\n",
              "      <td>False</td>\n",
              "      <td>6.00</td>\n",
              "      <td>0.0</td>\n",
              "      <td>Санкт-Петербург</td>\n",
              "      <td>20151.0</td>\n",
              "      <td>6263.0</td>\n",
              "      <td>1.0</td>\n",
              "      <td>300.0</td>\n",
              "      <td>0.0</td>\n",
              "      <td>NaN</td>\n",
              "      <td>15.0</td>\n",
              "      <td>105769.23</td>\n",
              "      <td>3</td>\n",
              "      <td>7</td>\n",
              "      <td>2018</td>\n",
              "      <td>6.0</td>\n",
              "      <td>Другой</td>\n",
              "    </tr>\n",
              "    <tr>\n",
              "      <th>23691</th>\n",
              "      <td>11</td>\n",
              "      <td>9.470</td>\n",
              "      <td>72.90</td>\n",
              "      <td>2016-10-13</td>\n",
              "      <td>2</td>\n",
              "      <td>2.75</td>\n",
              "      <td>25.0</td>\n",
              "      <td>40.3</td>\n",
              "      <td>7</td>\n",
              "      <td>NaN</td>\n",
              "      <td>False</td>\n",
              "      <td>False</td>\n",
              "      <td>10.60</td>\n",
              "      <td>1.0</td>\n",
              "      <td>Санкт-Петербург</td>\n",
              "      <td>19424.0</td>\n",
              "      <td>4489.0</td>\n",
              "      <td>0.0</td>\n",
              "      <td>NaN</td>\n",
              "      <td>1.0</td>\n",
              "      <td>806.0</td>\n",
              "      <td>519.0</td>\n",
              "      <td>129903.98</td>\n",
              "      <td>3</td>\n",
              "      <td>10</td>\n",
              "      <td>2016</td>\n",
              "      <td>4.0</td>\n",
              "      <td>Другой</td>\n",
              "    </tr>\n",
              "    <tr>\n",
              "      <th>23692</th>\n",
              "      <td>2</td>\n",
              "      <td>1.350</td>\n",
              "      <td>30.00</td>\n",
              "      <td>2017-07-07</td>\n",
              "      <td>1</td>\n",
              "      <td>2.65</td>\n",
              "      <td>5.0</td>\n",
              "      <td>17.5</td>\n",
              "      <td>4</td>\n",
              "      <td>NaN</td>\n",
              "      <td>False</td>\n",
              "      <td>False</td>\n",
              "      <td>6.00</td>\n",
              "      <td>0.0</td>\n",
              "      <td>Тихвин</td>\n",
              "      <td>NaN</td>\n",
              "      <td>NaN</td>\n",
              "      <td>NaN</td>\n",
              "      <td>NaN</td>\n",
              "      <td>NaN</td>\n",
              "      <td>NaN</td>\n",
              "      <td>413.0</td>\n",
              "      <td>45000.00</td>\n",
              "      <td>4</td>\n",
              "      <td>7</td>\n",
              "      <td>2017</td>\n",
              "      <td>NaN</td>\n",
              "      <td>Другой</td>\n",
              "    </tr>\n",
              "    <tr>\n",
              "      <th>23693</th>\n",
              "      <td>9</td>\n",
              "      <td>4.600</td>\n",
              "      <td>62.40</td>\n",
              "      <td>2016-08-05</td>\n",
              "      <td>3</td>\n",
              "      <td>2.60</td>\n",
              "      <td>9.0</td>\n",
              "      <td>40.0</td>\n",
              "      <td>8</td>\n",
              "      <td>NaN</td>\n",
              "      <td>False</td>\n",
              "      <td>False</td>\n",
              "      <td>8.00</td>\n",
              "      <td>0.0</td>\n",
              "      <td>Петергоф</td>\n",
              "      <td>45602.0</td>\n",
              "      <td>34104.0</td>\n",
              "      <td>1.0</td>\n",
              "      <td>352.0</td>\n",
              "      <td>1.0</td>\n",
              "      <td>675.0</td>\n",
              "      <td>239.0</td>\n",
              "      <td>73717.95</td>\n",
              "      <td>4</td>\n",
              "      <td>8</td>\n",
              "      <td>2016</td>\n",
              "      <td>34.0</td>\n",
              "      <td>Другой</td>\n",
              "    </tr>\n",
              "    <tr>\n",
              "      <th>23694</th>\n",
              "      <td>9</td>\n",
              "      <td>9.700</td>\n",
              "      <td>133.81</td>\n",
              "      <td>2017-03-21</td>\n",
              "      <td>3</td>\n",
              "      <td>3.70</td>\n",
              "      <td>5.0</td>\n",
              "      <td>73.3</td>\n",
              "      <td>3</td>\n",
              "      <td>NaN</td>\n",
              "      <td>False</td>\n",
              "      <td>False</td>\n",
              "      <td>13.83</td>\n",
              "      <td>0.0</td>\n",
              "      <td>Санкт-Петербург</td>\n",
              "      <td>24665.0</td>\n",
              "      <td>4232.0</td>\n",
              "      <td>1.0</td>\n",
              "      <td>796.0</td>\n",
              "      <td>3.0</td>\n",
              "      <td>381.0</td>\n",
              "      <td>NaN</td>\n",
              "      <td>72490.85</td>\n",
              "      <td>1</td>\n",
              "      <td>3</td>\n",
              "      <td>2017</td>\n",
              "      <td>4.0</td>\n",
              "      <td>Другой</td>\n",
              "    </tr>\n",
              "    <tr>\n",
              "      <th>23695</th>\n",
              "      <td>14</td>\n",
              "      <td>3.100</td>\n",
              "      <td>59.00</td>\n",
              "      <td>2018-01-15</td>\n",
              "      <td>3</td>\n",
              "      <td>2.65</td>\n",
              "      <td>5.0</td>\n",
              "      <td>38.0</td>\n",
              "      <td>4</td>\n",
              "      <td>NaN</td>\n",
              "      <td>False</td>\n",
              "      <td>False</td>\n",
              "      <td>8.50</td>\n",
              "      <td>0.0</td>\n",
              "      <td>Тосно</td>\n",
              "      <td>NaN</td>\n",
              "      <td>NaN</td>\n",
              "      <td>NaN</td>\n",
              "      <td>NaN</td>\n",
              "      <td>NaN</td>\n",
              "      <td>NaN</td>\n",
              "      <td>45.0</td>\n",
              "      <td>52542.37</td>\n",
              "      <td>0</td>\n",
              "      <td>1</td>\n",
              "      <td>2018</td>\n",
              "      <td>NaN</td>\n",
              "      <td>Другой</td>\n",
              "    </tr>\n",
              "    <tr>\n",
              "      <th>23696</th>\n",
              "      <td>18</td>\n",
              "      <td>2.500</td>\n",
              "      <td>56.70</td>\n",
              "      <td>2018-02-11</td>\n",
              "      <td>2</td>\n",
              "      <td>2.65</td>\n",
              "      <td>3.0</td>\n",
              "      <td>29.7</td>\n",
              "      <td>1</td>\n",
              "      <td>NaN</td>\n",
              "      <td>False</td>\n",
              "      <td>False</td>\n",
              "      <td>NaN</td>\n",
              "      <td>0.0</td>\n",
              "      <td>село Рождествено</td>\n",
              "      <td>NaN</td>\n",
              "      <td>NaN</td>\n",
              "      <td>NaN</td>\n",
              "      <td>NaN</td>\n",
              "      <td>NaN</td>\n",
              "      <td>NaN</td>\n",
              "      <td>NaN</td>\n",
              "      <td>44091.71</td>\n",
              "      <td>6</td>\n",
              "      <td>2</td>\n",
              "      <td>2018</td>\n",
              "      <td>NaN</td>\n",
              "      <td>Первый</td>\n",
              "    </tr>\n",
              "    <tr>\n",
              "      <th>23697</th>\n",
              "      <td>13</td>\n",
              "      <td>11.475</td>\n",
              "      <td>76.75</td>\n",
              "      <td>2017-03-28</td>\n",
              "      <td>2</td>\n",
              "      <td>3.00</td>\n",
              "      <td>17.0</td>\n",
              "      <td>NaN</td>\n",
              "      <td>12</td>\n",
              "      <td>NaN</td>\n",
              "      <td>False</td>\n",
              "      <td>False</td>\n",
              "      <td>23.30</td>\n",
              "      <td>2.0</td>\n",
              "      <td>Санкт-Петербург</td>\n",
              "      <td>39140.0</td>\n",
              "      <td>10364.0</td>\n",
              "      <td>2.0</td>\n",
              "      <td>173.0</td>\n",
              "      <td>3.0</td>\n",
              "      <td>196.0</td>\n",
              "      <td>602.0</td>\n",
              "      <td>149511.40</td>\n",
              "      <td>1</td>\n",
              "      <td>3</td>\n",
              "      <td>2017</td>\n",
              "      <td>10.0</td>\n",
              "      <td>Другой</td>\n",
              "    </tr>\n",
              "    <tr>\n",
              "      <th>23698</th>\n",
              "      <td>4</td>\n",
              "      <td>1.350</td>\n",
              "      <td>32.30</td>\n",
              "      <td>2017-07-21</td>\n",
              "      <td>1</td>\n",
              "      <td>2.50</td>\n",
              "      <td>5.0</td>\n",
              "      <td>12.3</td>\n",
              "      <td>1</td>\n",
              "      <td>NaN</td>\n",
              "      <td>False</td>\n",
              "      <td>False</td>\n",
              "      <td>9.00</td>\n",
              "      <td>0.0</td>\n",
              "      <td>поселок Новый Учхоз</td>\n",
              "      <td>NaN</td>\n",
              "      <td>NaN</td>\n",
              "      <td>NaN</td>\n",
              "      <td>NaN</td>\n",
              "      <td>NaN</td>\n",
              "      <td>NaN</td>\n",
              "      <td>NaN</td>\n",
              "      <td>41795.67</td>\n",
              "      <td>4</td>\n",
              "      <td>7</td>\n",
              "      <td>2017</td>\n",
              "      <td>NaN</td>\n",
              "      <td>Первый</td>\n",
              "    </tr>\n",
              "  </tbody>\n",
              "</table>\n",
              "</div>\n",
              "      <button class=\"colab-df-convert\" onclick=\"convertToInteractive('df-da8b8b12-6bb4-42a9-a42d-84a8175798a9')\"\n",
              "              title=\"Convert this dataframe to an interactive table.\"\n",
              "              style=\"display:none;\">\n",
              "        \n",
              "  <svg xmlns=\"http://www.w3.org/2000/svg\" height=\"24px\"viewBox=\"0 0 24 24\"\n",
              "       width=\"24px\">\n",
              "    <path d=\"M0 0h24v24H0V0z\" fill=\"none\"/>\n",
              "    <path d=\"M18.56 5.44l.94 2.06.94-2.06 2.06-.94-2.06-.94-.94-2.06-.94 2.06-2.06.94zm-11 1L8.5 8.5l.94-2.06 2.06-.94-2.06-.94L8.5 2.5l-.94 2.06-2.06.94zm10 10l.94 2.06.94-2.06 2.06-.94-2.06-.94-.94-2.06-.94 2.06-2.06.94z\"/><path d=\"M17.41 7.96l-1.37-1.37c-.4-.4-.92-.59-1.43-.59-.52 0-1.04.2-1.43.59L10.3 9.45l-7.72 7.72c-.78.78-.78 2.05 0 2.83L4 21.41c.39.39.9.59 1.41.59.51 0 1.02-.2 1.41-.59l7.78-7.78 2.81-2.81c.8-.78.8-2.07 0-2.86zM5.41 20L4 18.59l7.72-7.72 1.47 1.35L5.41 20z\"/>\n",
              "  </svg>\n",
              "      </button>\n",
              "      \n",
              "  <style>\n",
              "    .colab-df-container {\n",
              "      display:flex;\n",
              "      flex-wrap:wrap;\n",
              "      gap: 12px;\n",
              "    }\n",
              "\n",
              "    .colab-df-convert {\n",
              "      background-color: #E8F0FE;\n",
              "      border: none;\n",
              "      border-radius: 50%;\n",
              "      cursor: pointer;\n",
              "      display: none;\n",
              "      fill: #1967D2;\n",
              "      height: 32px;\n",
              "      padding: 0 0 0 0;\n",
              "      width: 32px;\n",
              "    }\n",
              "\n",
              "    .colab-df-convert:hover {\n",
              "      background-color: #E2EBFA;\n",
              "      box-shadow: 0px 1px 2px rgba(60, 64, 67, 0.3), 0px 1px 3px 1px rgba(60, 64, 67, 0.15);\n",
              "      fill: #174EA6;\n",
              "    }\n",
              "\n",
              "    [theme=dark] .colab-df-convert {\n",
              "      background-color: #3B4455;\n",
              "      fill: #D2E3FC;\n",
              "    }\n",
              "\n",
              "    [theme=dark] .colab-df-convert:hover {\n",
              "      background-color: #434B5C;\n",
              "      box-shadow: 0px 1px 3px 1px rgba(0, 0, 0, 0.15);\n",
              "      filter: drop-shadow(0px 1px 2px rgba(0, 0, 0, 0.3));\n",
              "      fill: #FFFFFF;\n",
              "    }\n",
              "  </style>\n",
              "\n",
              "      <script>\n",
              "        const buttonEl =\n",
              "          document.querySelector('#df-da8b8b12-6bb4-42a9-a42d-84a8175798a9 button.colab-df-convert');\n",
              "        buttonEl.style.display =\n",
              "          google.colab.kernel.accessAllowed ? 'block' : 'none';\n",
              "\n",
              "        async function convertToInteractive(key) {\n",
              "          const element = document.querySelector('#df-da8b8b12-6bb4-42a9-a42d-84a8175798a9');\n",
              "          const dataTable =\n",
              "            await google.colab.kernel.invokeFunction('convertToInteractive',\n",
              "                                                     [key], {});\n",
              "          if (!dataTable) return;\n",
              "\n",
              "          const docLinkHtml = 'Like what you see? Visit the ' +\n",
              "            '<a target=\"_blank\" href=https://colab.research.google.com/notebooks/data_table.ipynb>data table notebook</a>'\n",
              "            + ' to learn more about interactive tables.';\n",
              "          element.innerHTML = '';\n",
              "          dataTable['output_type'] = 'display_data';\n",
              "          await google.colab.output.renderOutput(dataTable, element);\n",
              "          const docLink = document.createElement('div');\n",
              "          docLink.innerHTML = docLinkHtml;\n",
              "          element.appendChild(docLink);\n",
              "        }\n",
              "      </script>\n",
              "    </div>\n",
              "  </div>\n",
              "  "
            ]
          },
          "metadata": {},
          "execution_count": 26
        }
      ],
      "source": [
        "data['floor_category'] = data.apply(floor, axis=1)\n",
        "data.tail(15)"
      ]
    },
    {
      "cell_type": "markdown",
      "metadata": {
        "id": "P-3retlAGcTB"
      },
      "source": [
        "**Вывод:** для дальнейшего исследования в таблицу были добавлены новые столбцы "
      ]
    },
    {
      "cell_type": "markdown",
      "metadata": {
        "id": "kEHBUHglGcTC"
      },
      "source": [
        "### Проведите исследовательский анализ данных"
      ]
    },
    {
      "cell_type": "markdown",
      "metadata": {
        "id": "O_-P7ZJDGcTC"
      },
      "source": [
        "Подробнее изучим распределение параметров данных"
      ]
    },
    {
      "cell_type": "code",
      "execution_count": null,
      "metadata": {
        "colab": {
          "base_uri": "https://localhost:8080/"
        },
        "id": "hzaWKsjiGcTF",
        "outputId": "ea7d655a-8f69-4384-b88e-94476c0008b4"
      },
      "outputs": [
        {
          "output_type": "display_data",
          "data": {
            "text/plain": [
              "<Figure size 432x288 with 1 Axes>"
            ],
            "image/png": "[encoded data removed]"
          },
          "metadata": {
            "needs_background": "light"
          }
        }
      ],
      "source": [
        "data.hist('total_area', grid=True, bins=100, range=(10,200))\n",
        "plt.title('Общая площадь')\n",
        "plt.xlabel('Общая площадь квартир, м²')\n",
        "plt.ylabel('Количество объявлений');"
      ]
    },
    {
      "cell_type": "markdown",
      "metadata": {
        "id": "OB7uaHDiGcTF"
      },
      "source": [
        "Очень малое количество квартир площадью до 30 м², большинство квартир имеют площадь до 45 м². После 65 м² количество квартир снижается"
      ]
    },
    {
      "cell_type": "code",
      "execution_count": null,
      "metadata": {
        "colab": {
          "base_uri": "https://localhost:8080/"
        },
        "id": "fhmtCYVKGcTI",
        "outputId": "8656a5cb-106a-4e30-f559-1756b858fa98"
      },
      "outputs": [
        {
          "output_type": "display_data",
          "data": {
            "text/plain": [
              "<Figure size 432x288 with 1 Axes>"
            ],
            "image/png": "[encoded data removed]"
          },
          "metadata": {
            "needs_background": "light"
          }
        }
      ],
      "source": [
        "data.hist('living_area', grid=True, bins=100, range=(0,100))\n",
        "plt.title('Жилая площадь')\n",
        "plt.xlabel('Жилая площадь квартир, м²')\n",
        "plt.ylabel('Количество объявлений');"
      ]
    },
    {
      "cell_type": "markdown",
      "metadata": {
        "id": "Kfs6pNxgGcTJ"
      },
      "source": [
        "Преобладают квартиры жилой площадью 18-20 м², достаточно много квартир жилой площадью около 30 м²"
      ]
    },
    {
      "cell_type": "code",
      "execution_count": null,
      "metadata": {
        "colab": {
          "base_uri": "https://localhost:8080/"
        },
        "id": "2rIMhu9GGcTJ",
        "outputId": "c0b3a9c5-d54d-42d0-dd08-4d77b58f5994"
      },
      "outputs": [
        {
          "output_type": "display_data",
          "data": {
            "text/plain": [
              "<Figure size 432x288 with 1 Axes>"
            ],
            "image/png": "[encoded data removed]"
          },
          "metadata": {
            "needs_background": "light"
          }
        }
      ],
      "source": [
        "data.hist('kitchen_area', grid=True, bins=50, range=(0, 40))\n",
        "plt.title('Площадь кухни')\n",
        "plt.xlabel('Площадь кухни, м²')\n",
        "plt.ylabel('Количество объявлений');"
      ]
    },
    {
      "cell_type": "markdown",
      "metadata": {
        "id": "DPFxIVb2GcTK"
      },
      "source": [
        "Преобладают кухни, площадью около 7 м²"
      ]
    },
    {
      "cell_type": "code",
      "execution_count": null,
      "metadata": {
        "colab": {
          "base_uri": "https://localhost:8080/"
        },
        "id": "eAOgZFlyGcTK",
        "outputId": "c98b5f3f-61e7-4ff2-9bda-e7b07a37919b"
      },
      "outputs": [
        {
          "output_type": "display_data",
          "data": {
            "text/plain": [
              "<Figure size 432x288 with 1 Axes>"
            ],
            "image/png": "[encoded data removed]"
          },
          "metadata": {
            "needs_background": "light"
          }
        }
      ],
      "source": [
        "data.hist('last_price', grid=True, bins=100, range=(0,15))\n",
        "plt.title('Цена на момент снятия с публикации')\n",
        "plt.xlabel('Цена, млн.')\n",
        "plt.ylabel('Количество объявлений');"
      ]
    },
    {
      "cell_type": "markdown",
      "metadata": {
        "id": "MaqGUNTcGcTL"
      },
      "source": [
        "Пик стоимости квартир наблюдается в районе 4 млн., затем идет спад"
      ]
    },
    {
      "cell_type": "code",
      "execution_count": null,
      "metadata": {
        "colab": {
          "base_uri": "https://localhost:8080/"
        },
        "id": "N0sZjPv0GcTL",
        "outputId": "d042a94f-5179-4d93-dc82-9a8ab552e2df"
      },
      "outputs": [
        {
          "output_type": "display_data",
          "data": {
            "text/plain": [
              "<Figure size 432x288 with 1 Axes>"
            ],
            "image/png": "[encoded data removed]"
          },
          "metadata": {
            "needs_background": "light"
          }
        }
      ],
      "source": [
        "plt.bar(data['rooms'].value_counts().index, data['rooms'].value_counts().values)\n",
        "plt.title('Количество комнат')\n",
        "plt.xlabel('Количество комнат')\n",
        "plt.ylabel('Количество объявлений');"
      ]
    },
    {
      "cell_type": "markdown",
      "metadata": {
        "id": "XxHVbwolGcTM"
      },
      "source": [
        "У большинства квартир 1, 2 или 3 комнаты"
      ]
    },
    {
      "cell_type": "code",
      "execution_count": null,
      "metadata": {
        "colab": {
          "base_uri": "https://localhost:8080/"
        },
        "id": "a5KE0qZbGcTM",
        "outputId": "2b1f63d6-8e16-4860-8d3a-f2c1a79ac5dc"
      },
      "outputs": [
        {
          "output_type": "display_data",
          "data": {
            "text/plain": [
              "<Figure size 432x288 with 1 Axes>"
            ],
            "image/png": "[encoded data removed]"
          },
          "metadata": {
            "needs_background": "light"
          }
        }
      ],
      "source": [
        "data.hist('ceiling_height', grid=True, bins=30)\n",
        "plt.title('Высота потолка')\n",
        "plt.xlabel('Высота потолка, м')\n",
        "plt.ylabel('Количество объявлений');"
      ]
    },
    {
      "cell_type": "markdown",
      "metadata": {
        "id": "k15p7WrYGcTM"
      },
      "source": [
        "В квартирах преобладает высота потолков в 2.65 м"
      ]
    },
    {
      "cell_type": "code",
      "execution_count": null,
      "metadata": {
        "colab": {
          "base_uri": "https://localhost:8080/"
        },
        "id": "icZ_p8a0GcTN",
        "outputId": "381ff31c-14fa-4ec6-b38e-47165857914f"
      },
      "outputs": [
        {
          "output_type": "display_data",
          "data": {
            "text/plain": [
              "<Figure size 432x288 with 1 Axes>"
            ],
            "image/png": "[encoded data removed]"
          },
          "metadata": {
            "needs_background": "light"
          }
        }
      ],
      "source": [
        "data.hist('floor', grid=True, bins=50, range=(1,25))\n",
        "plt.title('Этаж квартиры')\n",
        "plt.xlabel('Этаж')\n",
        "plt.ylabel('Количество объявлений');"
      ]
    },
    {
      "cell_type": "markdown",
      "metadata": {
        "id": "ucwOZ9TTGcTN"
      },
      "source": [
        "Наибольшее количество квартир расположено на 2 и 3 этажах"
      ]
    },
    {
      "cell_type": "code",
      "execution_count": null,
      "metadata": {
        "colab": {
          "base_uri": "https://localhost:8080/"
        },
        "id": "4DW3jCgDGcTN",
        "outputId": "0dd71bbe-99ec-4157-8ace-bfd130af7f33"
      },
      "outputs": [
        {
          "output_type": "display_data",
          "data": {
            "text/plain": [
              "<Figure size 432x288 with 1 Axes>"
            ],
            "image/png": "[encoded data removed]"
          },
          "metadata": {
            "needs_background": "light"
          }
        }
      ],
      "source": [
        "plt.bar(data['floor_category'].value_counts().index, data['floor_category'].value_counts().values)\n",
        "plt.title('Тип этажа')\n",
        "plt.ylabel('Количество объявлений');"
      ]
    },
    {
      "cell_type": "markdown",
      "metadata": {
        "id": "Sw2ZWgiiGcTO"
      },
      "source": [
        "Количество квартир на первом и на последнем этаже примерно одинаковое, но основная доля квартир на других этажах"
      ]
    },
    {
      "cell_type": "code",
      "execution_count": null,
      "metadata": {
        "colab": {
          "base_uri": "https://localhost:8080/"
        },
        "id": "3vQVxZCzGcTO",
        "outputId": "63068871-d364-43d8-cba0-4c9d25837b2b"
      },
      "outputs": [
        {
          "output_type": "display_data",
          "data": {
            "text/plain": [
              "<Figure size 432x288 with 1 Axes>"
            ],
            "image/png": "[encoded data removed]"
          },
          "metadata": {
            "needs_background": "light"
          }
        }
      ],
      "source": [
        "data.hist('floors_total', grid=True, bins=50, range=(1,25))\n",
        "plt.title('Этажность дома')\n",
        "plt.xlabel('Количество этажей в доме')\n",
        "plt.ylabel('Количество объявлений');"
      ]
    },
    {
      "cell_type": "markdown",
      "metadata": {
        "id": "jerp85YeGcTP"
      },
      "source": [
        "В объявлениях преобладают квартиры в 5-ти и 9-ти этажных зданиях"
      ]
    },
    {
      "cell_type": "code",
      "execution_count": null,
      "metadata": {
        "colab": {
          "base_uri": "https://localhost:8080/"
        },
        "id": "R6a7SoVzGcTQ",
        "outputId": "9fd16dc4-effe-4e74-f6d0-699fb2110100"
      },
      "outputs": [
        {
          "output_type": "display_data",
          "data": {
            "text/plain": [
              "<Figure size 432x288 with 1 Axes>"
            ],
            "image/png": "[encoded data removed]"
          },
          "metadata": {
            "needs_background": "light"
          }
        }
      ],
      "source": [
        "data.hist('city_center_km', grid=True, bins=100)\n",
        "plt.title('Расстояние до центра города')\n",
        "plt.xlabel('Расстояние, км')\n",
        "plt.ylabel('Количество объявлений');"
      ]
    },
    {
      "cell_type": "markdown",
      "metadata": {
        "id": "mgWxKj2_GcTQ"
      },
      "source": [
        "Большинство квартир расположены в 10-16 км от центра города"
      ]
    },
    {
      "cell_type": "code",
      "execution_count": null,
      "metadata": {
        "colab": {
          "base_uri": "https://localhost:8080/"
        },
        "id": "_oUtuVvoGcTR",
        "outputId": "882e7246-e0b1-406a-9833-cf214f9d4aef"
      },
      "outputs": [
        {
          "output_type": "display_data",
          "data": {
            "text/plain": [
              "<Figure size 432x288 with 1 Axes>"
            ],
            "image/png": "[encoded data removed]"
          },
          "metadata": {
            "needs_background": "light"
          }
        }
      ],
      "source": [
        "data.hist('airports_nearest', grid=True, bins=50)\n",
        "plt.title('Расстояние до аэропорта')\n",
        "plt.xlabel('Расстояние, м')\n",
        "plt.ylabel('Количество объявлений');"
      ]
    },
    {
      "cell_type": "markdown",
      "metadata": {
        "id": "PN0o6Ro5GcTR"
      },
      "source": [
        "Большинство квартир удалены от аэропорта примерно на 25 км"
      ]
    },
    {
      "cell_type": "code",
      "execution_count": null,
      "metadata": {
        "colab": {
          "base_uri": "https://localhost:8080/"
        },
        "id": "N2bReEwRGcTR",
        "outputId": "d6cdf602-eb9e-47ad-fa4d-151be4c4e1df"
      },
      "outputs": [
        {
          "output_type": "display_data",
          "data": {
            "text/plain": [
              "<Figure size 432x288 with 1 Axes>"
            ],
            "image/png": "[encoded data removed]"
          },
          "metadata": {
            "needs_background": "light"
          }
        }
      ],
      "source": [
        "data.hist('parks_nearest', grid=True, bins=100)\n",
        "plt.title('Расстояние до ближайшего парка')\n",
        "plt.xlabel('Расстояние, м')\n",
        "plt.ylabel('Количество объявлений');"
      ]
    },
    {
      "cell_type": "markdown",
      "metadata": {
        "id": "V7w4B4zjGcTS"
      },
      "source": [
        "Растояние до ближайших парков у большинства квартир около 500 м"
      ]
    },
    {
      "cell_type": "code",
      "execution_count": null,
      "metadata": {
        "colab": {
          "base_uri": "https://localhost:8080/"
        },
        "id": "WDMPEWtDGcTS",
        "outputId": "5ec39934-3163-46e4-8913-76298f60fbc3"
      },
      "outputs": [
        {
          "output_type": "display_data",
          "data": {
            "text/plain": [
              "<Figure size 432x288 with 1 Axes>"
            ],
            "image/png": "[encoded data removed]"
          },
          "metadata": {
            "needs_background": "light"
          }
        }
      ],
      "source": [
        "plt.bar(data['weekday'].value_counts().index, data['weekday'].value_counts().values)\n",
        "plt.title('День публикации объявления')\n",
        "plt.xlabel('Дни недели')\n",
        "plt.ylabel('Количество объявлений');"
      ]
    },
    {
      "cell_type": "markdown",
      "metadata": {
        "id": "ZJPPKOwTGcTS"
      },
      "source": [
        "Видим, что в выходные дни было опубликовано гораздо меньше объявлений, чем в будни"
      ]
    },
    {
      "cell_type": "code",
      "execution_count": null,
      "metadata": {
        "colab": {
          "base_uri": "https://localhost:8080/"
        },
        "id": "hbKqA7uSGcTT",
        "outputId": "b9e18f9f-60d8-4696-ef65-99ec8d57ba5a"
      },
      "outputs": [
        {
          "output_type": "display_data",
          "data": {
            "text/plain": [
              "<Figure size 432x288 with 1 Axes>"
            ],
            "image/png": "[encoded data removed]"
          },
          "metadata": {
            "needs_background": "light"
          }
        }
      ],
      "source": [
        "plt.bar(data['month'].value_counts().index, data['month'].value_counts().values)\n",
        "plt.title('Месяц публикации объявления')\n",
        "plt.xlabel('Месяцы')\n",
        "plt.ylabel('Количество объявлений');"
      ]
    },
    {
      "cell_type": "markdown",
      "metadata": {
        "id": "QUqhbaosGcTT"
      },
      "source": [
        "Наблюдается снижение публикации объявлений в январе и в мае, скорее всего, это связвно с праздниками (в эти месяцы самые длинные выходные дни, а как мы видели ранее, в выходные дни публикуется гораздо меньше объявлений)"
      ]
    },
    {
      "cell_type": "markdown",
      "metadata": {
        "id": "XnEDIbSZGcTX"
      },
      "source": [
        "Изучим время продажи квартир"
      ]
    },
    {
      "cell_type": "code",
      "execution_count": null,
      "metadata": {
        "colab": {
          "base_uri": "https://localhost:8080/"
        },
        "id": "W70NJtsjGcTX",
        "outputId": "15ef6224-1c94-461d-f8ee-fc78e02a3872"
      },
      "outputs": [
        {
          "output_type": "display_data",
          "data": {
            "text/plain": [
              "<Figure size 432x288 with 1 Axes>"
            ],
            "image/png": "[encoded data removed]"
          },
          "metadata": {
            "needs_background": "light"
          }
        }
      ],
      "source": [
        "data.hist('days_exposition', grid=True, bins=200)\n",
        "plt.title('Количество дней размещения объявлений')\n",
        "plt.xlabel('Количество дней')\n",
        "plt.ylabel('Количество объявлений');"
      ]
    },
    {
      "cell_type": "code",
      "execution_count": null,
      "metadata": {
        "colab": {
          "base_uri": "https://localhost:8080/"
        },
        "id": "u9rJlAssGcTY",
        "outputId": "e4869144-84fb-4273-e721-4954c812c679"
      },
      "outputs": [
        {
          "output_type": "display_data",
          "data": {
            "text/plain": [
              "<Figure size 432x288 with 1 Axes>"
            ],
            "image/png": "[encoded data removed]"
          },
          "metadata": {
            "needs_background": "light"
          }
        }
      ],
      "source": [
        "data.boxplot('days_exposition')\n",
        "plt.title('Количество дней размещения объявлений')\n",
        "plt.ylabel('Количество дней');"
      ]
    },
    {
      "cell_type": "code",
      "execution_count": null,
      "metadata": {
        "colab": {
          "base_uri": "https://localhost:8080/"
        },
        "id": "3G1r6X3TGcTY",
        "outputId": "474c52d3-aa90-4444-8948-cc3830b5b0a9"
      },
      "outputs": [
        {
          "output_type": "execute_result",
          "data": {
            "text/plain": [
              "count    20369.000000\n",
              "mean       180.652413\n",
              "std        219.522475\n",
              "min          1.000000\n",
              "25%         45.000000\n",
              "50%         95.000000\n",
              "75%        231.000000\n",
              "max       1580.000000\n",
              "Name: days_exposition, dtype: float64"
            ]
          },
          "metadata": {},
          "execution_count": 43
        }
      ],
      "source": [
        "data['days_exposition'].describe()"
      ]
    },
    {
      "cell_type": "markdown",
      "metadata": {
        "id": "zwgCvKrKGcTY"
      },
      "source": [
        "Медианное количество дней продажи составляет 95, но в среднем, квартиру продают за 180 дней, так происходит из-за большого количества выбросов в выборке. Достаточно быстрыми сделками млжно считать продажи, совершенные менее, чем за 45 дней (за это время продаются менее 25% выборки). Согласно диаграме размаха, сделки, совершенные более чем за 510 дней, выходят за пределы нормальных значений и их можно считать очень долгими (3 квартиль + 1.5 межквартильных размаха = 231 + 1.5х(231-45) = 510)\n",
        "\n",
        "На гисторамме заметны пиковые значения, рассмотрим их подробнее"
      ]
    },
    {
      "cell_type": "code",
      "execution_count": null,
      "metadata": {
        "colab": {
          "base_uri": "https://localhost:8080/"
        },
        "id": "tTw1o_djGcTZ",
        "outputId": "c3553492-cd6a-4dac-bb41-8cc9af750034"
      },
      "outputs": [
        {
          "output_type": "display_data",
          "data": {
            "text/plain": [
              "<Figure size 432x288 with 1 Axes>"
            ],
            "image/png": "[encoded data removed]"
          },
          "metadata": {
            "needs_background": "light"
          }
        }
      ],
      "source": [
        "data.hist('days_exposition', grid=True, bins=100, range=(0,100))\n",
        "plt.title('Количество дней размещения объявлений')\n",
        "plt.xlabel('Количество дней')\n",
        "plt.ylabel('Количество объявлений');"
      ]
    },
    {
      "cell_type": "markdown",
      "metadata": {
        "id": "ypti4MwoGcTi"
      },
      "source": [
        "Пики наблюдаются на 45, 60 , 90, 7 и 30 днях. Скорее всего, это техические настройки сервиса размещения объявления, т.е после этих дней, если пользователь не продлеал объявление, оно автоматически закрывалось."
      ]
    },
    {
      "cell_type": "markdown",
      "metadata": {
        "id": "iLzN4SJlGcTj"
      },
      "source": [
        "Рассмотрим от чего зависит стоимость квартир"
      ]
    },
    {
      "cell_type": "code",
      "execution_count": null,
      "metadata": {
        "colab": {
          "base_uri": "https://localhost:8080/"
        },
        "id": "AbdhzBdcGcTk",
        "outputId": "55b6035a-7432-4c5c-97d5-9cbbdb5c98d2"
      },
      "outputs": [
        {
          "output_type": "stream",
          "name": "stdout",
          "text": [
            "0.68\n"
          ]
        },
        {
          "output_type": "display_data",
          "data": {
            "text/plain": [
              "<Figure size 432x288 with 1 Axes>"
            ],
            "image/png": "[encoded data removed]"
          },
          "metadata": {
            "needs_background": "light"
          }
        }
      ],
      "source": [
        "print(data['last_price'].corr(data['total_area']).round(2))\n",
        "data.plot(x='total_area', y='last_price', kind='scatter', grid=True, alpha=0.3)\n",
        "plt.title('Зависимость цены от общей площади');"
      ]
    },
    {
      "cell_type": "code",
      "execution_count": null,
      "metadata": {
        "colab": {
          "base_uri": "https://localhost:8080/"
        },
        "id": "z71GNTIhGcTk",
        "outputId": "d8fa8181-0ff7-4e6d-9ca5-1188dbbc9d68"
      },
      "outputs": [
        {
          "output_type": "stream",
          "name": "stdout",
          "text": [
            "0.58\n"
          ]
        },
        {
          "output_type": "display_data",
          "data": {
            "text/plain": [
              "<Figure size 432x288 with 1 Axes>"
            ],
            "image/png": "[encoded data removed]"
          },
          "metadata": {
            "needs_background": "light"
          }
        }
      ],
      "source": [
        "print(data['last_price'].corr(data['living_area']).round(2))\n",
        "data.plot(x='living_area', y='last_price', kind='scatter', grid=True, alpha=0.3)\n",
        "plt.title('Зависимость цены от жилой площади');"
      ]
    },
    {
      "cell_type": "code",
      "execution_count": null,
      "metadata": {
        "colab": {
          "base_uri": "https://localhost:8080/"
        },
        "id": "E_3DuT4zGcTl",
        "outputId": "8ba64ecf-bb68-474a-912b-c61515904e8f"
      },
      "outputs": [
        {
          "output_type": "stream",
          "name": "stdout",
          "text": [
            "0.5\n"
          ]
        },
        {
          "output_type": "display_data",
          "data": {
            "text/plain": [
              "<Figure size 432x288 with 1 Axes>"
            ],
            "image/png": "[encoded data removed]"
          },
          "metadata": {
            "needs_background": "light"
          }
        }
      ],
      "source": [
        "print(data['last_price'].corr(data['kitchen_area']).round(2))\n",
        "data.plot(x='kitchen_area', y='last_price', kind='scatter', grid=True, alpha=0.3)\n",
        "plt.title('Зависимость цены от площади кухни');"
      ]
    },
    {
      "cell_type": "markdown",
      "metadata": {
        "id": "KNNM2xqhGcTl"
      },
      "source": [
        "Видим, что зависимость цены от площадей схожая, и коэффициент корреляции составляет 0.68, 0.58 и 0.5 для общей, жилой и площади кухни соответственно"
      ]
    },
    {
      "cell_type": "code",
      "execution_count": null,
      "metadata": {
        "colab": {
          "base_uri": "https://localhost:8080/"
        },
        "id": "Vh09XRBOGcTl",
        "outputId": "dda9ebe3-6025-4c89-d355-668da51205a3"
      },
      "outputs": [
        {
          "output_type": "stream",
          "name": "stdout",
          "text": [
            "0.37\n"
          ]
        },
        {
          "output_type": "display_data",
          "data": {
            "text/plain": [
              "<Figure size 432x288 with 1 Axes>"
            ],
            "image/png": "[encoded data removed]"
          },
          "metadata": {
            "needs_background": "light"
          }
        }
      ],
      "source": [
        "print(data['last_price'].corr(data['rooms']).round(2))\n",
        "data.plot(x='rooms', y='last_price', kind='scatter', grid=True, alpha=0.3)\n",
        "plt.title('Зависимость цены от количества комнат');"
      ]
    },
    {
      "cell_type": "markdown",
      "metadata": {
        "id": "Rc7PkmEbGcTm"
      },
      "source": [
        "Чем больше комнат в квартире, тем больше ее стоимость, ранее мы видели, что с увеличением площади увеличивается стоимость квартиры. Логично, что с увеличением площади увеличивается и количество комнат, но коэффициент корреляции уже меньше."
      ]
    },
    {
      "cell_type": "code",
      "execution_count": null,
      "metadata": {
        "colab": {
          "base_uri": "https://localhost:8080/"
        },
        "id": "I9KsOB3tGcTm",
        "outputId": "c45f267d-ef23-42b7-a146-6a21c0aa70ae"
      },
      "outputs": [
        {
          "output_type": "display_data",
          "data": {
            "text/plain": [
              "<Figure size 432x288 with 1 Axes>"
            ],
            "image/png": "[encoded data removed]"
          },
          "metadata": {
            "needs_background": "light"
          }
        }
      ],
      "source": [
        "data.pivot_table(index='floor_category', values='last_price', aggfunc='median').plot(kind='bar', grid=True)\n",
        "plt.title('Зависимость цены от типа этажа');"
      ]
    },
    {
      "cell_type": "markdown",
      "metadata": {
        "id": "ZNn8LG_2GcTm"
      },
      "source": [
        "Квартиры, расположенные на первом этаже самые дешевые, на последнем этаже квартиры дороже, и самые дорогие квартиры на других этажах"
      ]
    },
    {
      "cell_type": "code",
      "execution_count": null,
      "metadata": {
        "scrolled": true,
        "colab": {
          "base_uri": "https://localhost:8080/"
        },
        "id": "iEDyh2NsGcTn",
        "outputId": "da58ac10-77d1-4bc6-bdb6-f45a78e4e67e"
      },
      "outputs": [
        {
          "output_type": "display_data",
          "data": {
            "text/plain": [
              "<Figure size 432x288 with 1 Axes>"
            ],
            "image/png": "[encoded data removed]"
          },
          "metadata": {
            "needs_background": "light"
          }
        }
      ],
      "source": [
        "data.pivot_table(index='weekday', values='last_price', aggfunc=['median']).plot(kind='bar', legend=False, grid=True)\n",
        "plt.title('Стоимость квартир в зависимости от дня размещения объявления')\n",
        "plt.xlabel('День недели')\n",
        "plt.ylabel('Стоимость, млн');"
      ]
    },
    {
      "cell_type": "code",
      "execution_count": null,
      "metadata": {
        "scrolled": true,
        "colab": {
          "base_uri": "https://localhost:8080/"
        },
        "id": "vGuq4P0VGcTn",
        "outputId": "046bc420-1bfb-443b-9542-2ae2e34a55f4"
      },
      "outputs": [
        {
          "output_type": "display_data",
          "data": {
            "text/plain": [
              "<Figure size 432x288 with 1 Axes>"
            ],
            "image/png": "[encoded data removed]"
          },
          "metadata": {
            "needs_background": "light"
          }
        }
      ],
      "source": [
        "data.pivot_table(index='month', values='last_price', aggfunc=['median']).plot(kind='barh', legend=False, grid=True)\n",
        "plt.title('Стоимость квартир в зависимости от месяца размещения объявления')\n",
        "plt.xlabel('Стоимость, млн')\n",
        "plt.ylabel('Месяц');"
      ]
    },
    {
      "cell_type": "code",
      "execution_count": null,
      "metadata": {
        "scrolled": true,
        "colab": {
          "base_uri": "https://localhost:8080/"
        },
        "id": "CiC4a_m6GcTn",
        "outputId": "34e820e9-a8cb-43ee-bc19-06baed2f7b68"
      },
      "outputs": [
        {
          "output_type": "display_data",
          "data": {
            "text/plain": [
              "<Figure size 432x288 with 1 Axes>"
            ],
            "image/png": "[encoded data removed]"
          },
          "metadata": {
            "needs_background": "light"
          }
        }
      ],
      "source": [
        "data.pivot_table(index='year', values='last_price', aggfunc=['median']).plot(kind='barh', legend=False, grid=True)\n",
        "plt.title('Стоимость квартир в зависимости от года размещения объявления')\n",
        "plt.xlabel('Стоимость, млн')\n",
        "plt.ylabel('Год');"
      ]
    },
    {
      "cell_type": "markdown",
      "metadata": {
        "id": "MFrDD77sGcTo"
      },
      "source": [
        "День публикации объявления никак не влияет на стоимость квартиры. По месяцу есть незначительные колебания, в июне видим снижение цен, вероятно, это обуславливается началом отпусков, многие уезжают из города, спрос падает, цены снижаются. По году размещения замечаем снижение цен после 2014 года, однако с 2018 года цены начинают повышаться."
      ]
    },
    {
      "cell_type": "markdown",
      "metadata": {
        "id": "fYA4sO8bGcTp"
      },
      "source": [
        "Определим 10 населенных пунктов с наибольшим количеством объявлений и посчитаем стреднюю стоимость квадратного метра"
      ]
    },
    {
      "cell_type": "code",
      "execution_count": null,
      "metadata": {
        "colab": {
          "base_uri": "https://localhost:8080/"
        },
        "id": "v43ETo_0GcTp",
        "outputId": "b7a1932c-f1ca-4f17-e929-91e4affc2834"
      },
      "outputs": [
        {
          "output_type": "execute_result",
          "data": {
            "text/plain": [
              "                   mean_cost_per_meter  count_of_ads\n",
              "locality_name                                       \n",
              "Санкт-Петербург          114461.828703         15554\n",
              "поселок Мурино            85615.599112           552\n",
              "поселок Шушары            78677.605626           439\n",
              "Всеволожск                68719.320378           397\n",
              "Пушкин                   102948.577330           367\n",
              "Колпино                   75333.295816           337\n",
              "поселок Парголово         90237.614118           323\n",
              "Гатчина                   68746.146515           307\n",
              "деревня Кудрово           92473.547559           299\n",
              "Выборг                    58238.143277           235"
            ],
            "text/html": [
              "\n",
              "  <div id=\"df-60bea2d9-15d6-4dde-bcfa-9a8c808933ca\">\n",
              "    <div class=\"colab-df-container\">\n",
              "      <div>\n",
              "<style scoped>\n",
              "    .dataframe tbody tr th:only-of-type {\n",
              "        vertical-align: middle;\n",
              "    }\n",
              "\n",
              "    .dataframe tbody tr th {\n",
              "        vertical-align: top;\n",
              "    }\n",
              "\n",
              "    .dataframe thead th {\n",
              "        text-align: right;\n",
              "    }\n",
              "</style>\n",
              "<table border=\"1\" class=\"dataframe\">\n",
              "  <thead>\n",
              "    <tr style=\"text-align: right;\">\n",
              "      <th></th>\n",
              "      <th>mean_cost_per_meter</th>\n",
              "      <th>count_of_ads</th>\n",
              "    </tr>\n",
              "    <tr>\n",
              "      <th>locality_name</th>\n",
              "      <th></th>\n",
              "      <th></th>\n",
              "    </tr>\n",
              "  </thead>\n",
              "  <tbody>\n",
              "    <tr>\n",
              "      <th>Санкт-Петербург</th>\n",
              "      <td>114461.828703</td>\n",
              "      <td>15554</td>\n",
              "    </tr>\n",
              "    <tr>\n",
              "      <th>поселок Мурино</th>\n",
              "      <td>85615.599112</td>\n",
              "      <td>552</td>\n",
              "    </tr>\n",
              "    <tr>\n",
              "      <th>поселок Шушары</th>\n",
              "      <td>78677.605626</td>\n",
              "      <td>439</td>\n",
              "    </tr>\n",
              "    <tr>\n",
              "      <th>Всеволожск</th>\n",
              "      <td>68719.320378</td>\n",
              "      <td>397</td>\n",
              "    </tr>\n",
              "    <tr>\n",
              "      <th>Пушкин</th>\n",
              "      <td>102948.577330</td>\n",
              "      <td>367</td>\n",
              "    </tr>\n",
              "    <tr>\n",
              "      <th>Колпино</th>\n",
              "      <td>75333.295816</td>\n",
              "      <td>337</td>\n",
              "    </tr>\n",
              "    <tr>\n",
              "      <th>поселок Парголово</th>\n",
              "      <td>90237.614118</td>\n",
              "      <td>323</td>\n",
              "    </tr>\n",
              "    <tr>\n",
              "      <th>Гатчина</th>\n",
              "      <td>68746.146515</td>\n",
              "      <td>307</td>\n",
              "    </tr>\n",
              "    <tr>\n",
              "      <th>деревня Кудрово</th>\n",
              "      <td>92473.547559</td>\n",
              "      <td>299</td>\n",
              "    </tr>\n",
              "    <tr>\n",
              "      <th>Выборг</th>\n",
              "      <td>58238.143277</td>\n",
              "      <td>235</td>\n",
              "    </tr>\n",
              "  </tbody>\n",
              "</table>\n",
              "</div>\n",
              "      <button class=\"colab-df-convert\" onclick=\"convertToInteractive('df-60bea2d9-15d6-4dde-bcfa-9a8c808933ca')\"\n",
              "              title=\"Convert this dataframe to an interactive table.\"\n",
              "              style=\"display:none;\">\n",
              "        \n",
              "  <svg xmlns=\"http://www.w3.org/2000/svg\" height=\"24px\"viewBox=\"0 0 24 24\"\n",
              "       width=\"24px\">\n",
              "    <path d=\"M0 0h24v24H0V0z\" fill=\"none\"/>\n",
              "    <path d=\"M18.56 5.44l.94 2.06.94-2.06 2.06-.94-2.06-.94-.94-2.06-.94 2.06-2.06.94zm-11 1L8.5 8.5l.94-2.06 2.06-.94-2.06-.94L8.5 2.5l-.94 2.06-2.06.94zm10 10l.94 2.06.94-2.06 2.06-.94-2.06-.94-.94-2.06-.94 2.06-2.06.94z\"/><path d=\"M17.41 7.96l-1.37-1.37c-.4-.4-.92-.59-1.43-.59-.52 0-1.04.2-1.43.59L10.3 9.45l-7.72 7.72c-.78.78-.78 2.05 0 2.83L4 21.41c.39.39.9.59 1.41.59.51 0 1.02-.2 1.41-.59l7.78-7.78 2.81-2.81c.8-.78.8-2.07 0-2.86zM5.41 20L4 18.59l7.72-7.72 1.47 1.35L5.41 20z\"/>\n",
              "  </svg>\n",
              "      </button>\n",
              "      \n",
              "  <style>\n",
              "    .colab-df-container {\n",
              "      display:flex;\n",
              "      flex-wrap:wrap;\n",
              "      gap: 12px;\n",
              "    }\n",
              "\n",
              "    .colab-df-convert {\n",
              "      background-color: #E8F0FE;\n",
              "      border: none;\n",
              "      border-radius: 50%;\n",
              "      cursor: pointer;\n",
              "      display: none;\n",
              "      fill: #1967D2;\n",
              "      height: 32px;\n",
              "      padding: 0 0 0 0;\n",
              "      width: 32px;\n",
              "    }\n",
              "\n",
              "    .colab-df-convert:hover {\n",
              "      background-color: #E2EBFA;\n",
              "      box-shadow: 0px 1px 2px rgba(60, 64, 67, 0.3), 0px 1px 3px 1px rgba(60, 64, 67, 0.15);\n",
              "      fill: #174EA6;\n",
              "    }\n",
              "\n",
              "    [theme=dark] .colab-df-convert {\n",
              "      background-color: #3B4455;\n",
              "      fill: #D2E3FC;\n",
              "    }\n",
              "\n",
              "    [theme=dark] .colab-df-convert:hover {\n",
              "      background-color: #434B5C;\n",
              "      box-shadow: 0px 1px 3px 1px rgba(0, 0, 0, 0.15);\n",
              "      filter: drop-shadow(0px 1px 2px rgba(0, 0, 0, 0.3));\n",
              "      fill: #FFFFFF;\n",
              "    }\n",
              "  </style>\n",
              "\n",
              "      <script>\n",
              "        const buttonEl =\n",
              "          document.querySelector('#df-60bea2d9-15d6-4dde-bcfa-9a8c808933ca button.colab-df-convert');\n",
              "        buttonEl.style.display =\n",
              "          google.colab.kernel.accessAllowed ? 'block' : 'none';\n",
              "\n",
              "        async function convertToInteractive(key) {\n",
              "          const element = document.querySelector('#df-60bea2d9-15d6-4dde-bcfa-9a8c808933ca');\n",
              "          const dataTable =\n",
              "            await google.colab.kernel.invokeFunction('convertToInteractive',\n",
              "                                                     [key], {});\n",
              "          if (!dataTable) return;\n",
              "\n",
              "          const docLinkHtml = 'Like what you see? Visit the ' +\n",
              "            '<a target=\"_blank\" href=https://colab.research.google.com/notebooks/data_table.ipynb>data table notebook</a>'\n",
              "            + ' to learn more about interactive tables.';\n",
              "          element.innerHTML = '';\n",
              "          dataTable['output_type'] = 'display_data';\n",
              "          await google.colab.output.renderOutput(dataTable, element);\n",
              "          const docLink = document.createElement('div');\n",
              "          docLink.innerHTML = docLinkHtml;\n",
              "          element.appendChild(docLink);\n",
              "        }\n",
              "      </script>\n",
              "    </div>\n",
              "  </div>\n",
              "  "
            ]
          },
          "metadata": {},
          "execution_count": 53
        }
      ],
      "source": [
        "cost_per_meter = data.pivot_table(index='locality_name', values='cost_per_meter', aggfunc=['mean', 'count'])\n",
        "cost_per_meter.columns = ['mean_cost_per_meter', 'count_of_ads']\n",
        "cost_per_meter = cost_per_meter.sort_values(by='count_of_ads', ascending=False).head(10)\n",
        "cost_per_meter"
      ]
    },
    {
      "cell_type": "code",
      "execution_count": null,
      "metadata": {
        "colab": {
          "base_uri": "https://localhost:8080/"
        },
        "id": "eVyDgGFEGcTq",
        "outputId": "a242c675-0f03-40ea-d097-3db579f76191"
      },
      "outputs": [
        {
          "output_type": "display_data",
          "data": {
            "text/plain": [
              "<Figure size 432x288 with 1 Axes>"
            ],
            "image/png": "[encoded data removed]"
          },
          "metadata": {
            "needs_background": "light"
          }
        }
      ],
      "source": [
        "cost_per_meter.drop('count_of_ads', axis=1).sort_values(by='mean_cost_per_meter').plot(kind='barh', legend=False, grid=True)\n",
        "plt.title('Средняя стоимость квадратного метра в 10 населенных пунктах')\n",
        "plt.xlabel('Стоимость, тыс.')\n",
        "plt.ylabel('Населенный пункт');"
      ]
    },
    {
      "cell_type": "markdown",
      "metadata": {
        "id": "0i9cw-ALGcTq"
      },
      "source": [
        "Самая высокая стоимость за квадратный метр в Санкт-Петербурге, чуть дешевле в Пушкине. Наиболее низкая стоимость квадратного метра из населенных пунктов с наибольшим количеством объявлений - в Выборге"
      ]
    },
    {
      "cell_type": "markdown",
      "metadata": {
        "id": "laKWRpPUGcTr"
      },
      "source": [
        "Посмотим как влияет расстояние до центра города на стоимость квартир"
      ]
    },
    {
      "cell_type": "code",
      "execution_count": null,
      "metadata": {
        "colab": {
          "base_uri": "https://localhost:8080/"
        },
        "id": "-IL-TRncGcTr",
        "outputId": "bf2f296c-7f96-4c1d-be81-1ad78ea416e6"
      },
      "outputs": [
        {
          "output_type": "execute_result",
          "data": {
            "text/plain": [
              "                         mean         median\n",
              "               cost_per_meter cost_per_meter\n",
              "city_center_km                              \n",
              "0.0             245163.431600     155529.950\n",
              "1.0             177834.666902     128485.110\n",
              "2.0             158927.171225     123675.430\n",
              "3.0             121434.290089     108401.640\n",
              "4.0             130352.095356     118079.505\n",
              "5.0             140345.051723     127700.670\n",
              "6.0             150035.537917     131905.240\n",
              "7.0             155889.254351     126226.360\n",
              "8.0             124233.659746     122580.650\n",
              "9.0             113114.332111     105764.120\n",
              "10.0            112889.986311     106741.570\n",
              "11.0            108649.268390     103552.585\n",
              "12.0            107481.158105     103988.600\n",
              "13.0            108127.539470     104081.630\n",
              "14.0            104260.502798     101894.110\n",
              "15.0            104248.693024     101315.790\n",
              "16.0            100517.151384      97500.000\n",
              "17.0             96483.670342      94184.785\n",
              "18.0             96154.591269      95000.000\n",
              "19.0             98652.735732      97241.380\n",
              "20.0             87214.901053      87537.090\n",
              "21.0             94469.584444      89705.880\n",
              "22.0             91330.425099      88781.475\n",
              "23.0             92002.263929      90316.035\n",
              "24.0             85736.904615      86353.290\n",
              "25.0             91531.371154      93612.160\n",
              "26.0             89285.877170      89393.940\n",
              "27.0            132115.710000     132115.710\n",
              "28.0             81161.914286      79372.090\n",
              "29.0             72953.365000      76084.735"
            ],
            "text/html": [
              "\n",
              "  <div id=\"df-1f0fe84b-e8cd-4f00-b423-def06d4502c1\">\n",
              "    <div class=\"colab-df-container\">\n",
              "      <div>\n",
              "<style scoped>\n",
              "    .dataframe tbody tr th:only-of-type {\n",
              "        vertical-align: middle;\n",
              "    }\n",
              "\n",
              "    .dataframe tbody tr th {\n",
              "        vertical-align: top;\n",
              "    }\n",
              "\n",
              "    .dataframe thead tr th {\n",
              "        text-align: left;\n",
              "    }\n",
              "\n",
              "    .dataframe thead tr:last-of-type th {\n",
              "        text-align: right;\n",
              "    }\n",
              "</style>\n",
              "<table border=\"1\" class=\"dataframe\">\n",
              "  <thead>\n",
              "    <tr>\n",
              "      <th></th>\n",
              "      <th>mean</th>\n",
              "      <th>median</th>\n",
              "    </tr>\n",
              "    <tr>\n",
              "      <th></th>\n",
              "      <th>cost_per_meter</th>\n",
              "      <th>cost_per_meter</th>\n",
              "    </tr>\n",
              "    <tr>\n",
              "      <th>city_center_km</th>\n",
              "      <th></th>\n",
              "      <th></th>\n",
              "    </tr>\n",
              "  </thead>\n",
              "  <tbody>\n",
              "    <tr>\n",
              "      <th>0.0</th>\n",
              "      <td>245163.431600</td>\n",
              "      <td>155529.950</td>\n",
              "    </tr>\n",
              "    <tr>\n",
              "      <th>1.0</th>\n",
              "      <td>177834.666902</td>\n",
              "      <td>128485.110</td>\n",
              "    </tr>\n",
              "    <tr>\n",
              "      <th>2.0</th>\n",
              "      <td>158927.171225</td>\n",
              "      <td>123675.430</td>\n",
              "    </tr>\n",
              "    <tr>\n",
              "      <th>3.0</th>\n",
              "      <td>121434.290089</td>\n",
              "      <td>108401.640</td>\n",
              "    </tr>\n",
              "    <tr>\n",
              "      <th>4.0</th>\n",
              "      <td>130352.095356</td>\n",
              "      <td>118079.505</td>\n",
              "    </tr>\n",
              "    <tr>\n",
              "      <th>5.0</th>\n",
              "      <td>140345.051723</td>\n",
              "      <td>127700.670</td>\n",
              "    </tr>\n",
              "    <tr>\n",
              "      <th>6.0</th>\n",
              "      <td>150035.537917</td>\n",
              "      <td>131905.240</td>\n",
              "    </tr>\n",
              "    <tr>\n",
              "      <th>7.0</th>\n",
              "      <td>155889.254351</td>\n",
              "      <td>126226.360</td>\n",
              "    </tr>\n",
              "    <tr>\n",
              "      <th>8.0</th>\n",
              "      <td>124233.659746</td>\n",
              "      <td>122580.650</td>\n",
              "    </tr>\n",
              "    <tr>\n",
              "      <th>9.0</th>\n",
              "      <td>113114.332111</td>\n",
              "      <td>105764.120</td>\n",
              "    </tr>\n",
              "    <tr>\n",
              "      <th>10.0</th>\n",
              "      <td>112889.986311</td>\n",
              "      <td>106741.570</td>\n",
              "    </tr>\n",
              "    <tr>\n",
              "      <th>11.0</th>\n",
              "      <td>108649.268390</td>\n",
              "      <td>103552.585</td>\n",
              "    </tr>\n",
              "    <tr>\n",
              "      <th>12.0</th>\n",
              "      <td>107481.158105</td>\n",
              "      <td>103988.600</td>\n",
              "    </tr>\n",
              "    <tr>\n",
              "      <th>13.0</th>\n",
              "      <td>108127.539470</td>\n",
              "      <td>104081.630</td>\n",
              "    </tr>\n",
              "    <tr>\n",
              "      <th>14.0</th>\n",
              "      <td>104260.502798</td>\n",
              "      <td>101894.110</td>\n",
              "    </tr>\n",
              "    <tr>\n",
              "      <th>15.0</th>\n",
              "      <td>104248.693024</td>\n",
              "      <td>101315.790</td>\n",
              "    </tr>\n",
              "    <tr>\n",
              "      <th>16.0</th>\n",
              "      <td>100517.151384</td>\n",
              "      <td>97500.000</td>\n",
              "    </tr>\n",
              "    <tr>\n",
              "      <th>17.0</th>\n",
              "      <td>96483.670342</td>\n",
              "      <td>94184.785</td>\n",
              "    </tr>\n",
              "    <tr>\n",
              "      <th>18.0</th>\n",
              "      <td>96154.591269</td>\n",
              "      <td>95000.000</td>\n",
              "    </tr>\n",
              "    <tr>\n",
              "      <th>19.0</th>\n",
              "      <td>98652.735732</td>\n",
              "      <td>97241.380</td>\n",
              "    </tr>\n",
              "    <tr>\n",
              "      <th>20.0</th>\n",
              "      <td>87214.901053</td>\n",
              "      <td>87537.090</td>\n",
              "    </tr>\n",
              "    <tr>\n",
              "      <th>21.0</th>\n",
              "      <td>94469.584444</td>\n",
              "      <td>89705.880</td>\n",
              "    </tr>\n",
              "    <tr>\n",
              "      <th>22.0</th>\n",
              "      <td>91330.425099</td>\n",
              "      <td>88781.475</td>\n",
              "    </tr>\n",
              "    <tr>\n",
              "      <th>23.0</th>\n",
              "      <td>92002.263929</td>\n",
              "      <td>90316.035</td>\n",
              "    </tr>\n",
              "    <tr>\n",
              "      <th>24.0</th>\n",
              "      <td>85736.904615</td>\n",
              "      <td>86353.290</td>\n",
              "    </tr>\n",
              "    <tr>\n",
              "      <th>25.0</th>\n",
              "      <td>91531.371154</td>\n",
              "      <td>93612.160</td>\n",
              "    </tr>\n",
              "    <tr>\n",
              "      <th>26.0</th>\n",
              "      <td>89285.877170</td>\n",
              "      <td>89393.940</td>\n",
              "    </tr>\n",
              "    <tr>\n",
              "      <th>27.0</th>\n",
              "      <td>132115.710000</td>\n",
              "      <td>132115.710</td>\n",
              "    </tr>\n",
              "    <tr>\n",
              "      <th>28.0</th>\n",
              "      <td>81161.914286</td>\n",
              "      <td>79372.090</td>\n",
              "    </tr>\n",
              "    <tr>\n",
              "      <th>29.0</th>\n",
              "      <td>72953.365000</td>\n",
              "      <td>76084.735</td>\n",
              "    </tr>\n",
              "  </tbody>\n",
              "</table>\n",
              "</div>\n",
              "      <button class=\"colab-df-convert\" onclick=\"convertToInteractive('df-1f0fe84b-e8cd-4f00-b423-def06d4502c1')\"\n",
              "              title=\"Convert this dataframe to an interactive table.\"\n",
              "              style=\"display:none;\">\n",
              "        \n",
              "  <svg xmlns=\"http://www.w3.org/2000/svg\" height=\"24px\"viewBox=\"0 0 24 24\"\n",
              "       width=\"24px\">\n",
              "    <path d=\"M0 0h24v24H0V0z\" fill=\"none\"/>\n",
              "    <path d=\"M18.56 5.44l.94 2.06.94-2.06 2.06-.94-2.06-.94-.94-2.06-.94 2.06-2.06.94zm-11 1L8.5 8.5l.94-2.06 2.06-.94-2.06-.94L8.5 2.5l-.94 2.06-2.06.94zm10 10l.94 2.06.94-2.06 2.06-.94-2.06-.94-.94-2.06-.94 2.06-2.06.94z\"/><path d=\"M17.41 7.96l-1.37-1.37c-.4-.4-.92-.59-1.43-.59-.52 0-1.04.2-1.43.59L10.3 9.45l-7.72 7.72c-.78.78-.78 2.05 0 2.83L4 21.41c.39.39.9.59 1.41.59.51 0 1.02-.2 1.41-.59l7.78-7.78 2.81-2.81c.8-.78.8-2.07 0-2.86zM5.41 20L4 18.59l7.72-7.72 1.47 1.35L5.41 20z\"/>\n",
              "  </svg>\n",
              "      </button>\n",
              "      \n",
              "  <style>\n",
              "    .colab-df-container {\n",
              "      display:flex;\n",
              "      flex-wrap:wrap;\n",
              "      gap: 12px;\n",
              "    }\n",
              "\n",
              "    .colab-df-convert {\n",
              "      background-color: #E8F0FE;\n",
              "      border: none;\n",
              "      border-radius: 50%;\n",
              "      cursor: pointer;\n",
              "      display: none;\n",
              "      fill: #1967D2;\n",
              "      height: 32px;\n",
              "      padding: 0 0 0 0;\n",
              "      width: 32px;\n",
              "    }\n",
              "\n",
              "    .colab-df-convert:hover {\n",
              "      background-color: #E2EBFA;\n",
              "      box-shadow: 0px 1px 2px rgba(60, 64, 67, 0.3), 0px 1px 3px 1px rgba(60, 64, 67, 0.15);\n",
              "      fill: #174EA6;\n",
              "    }\n",
              "\n",
              "    [theme=dark] .colab-df-convert {\n",
              "      background-color: #3B4455;\n",
              "      fill: #D2E3FC;\n",
              "    }\n",
              "\n",
              "    [theme=dark] .colab-df-convert:hover {\n",
              "      background-color: #434B5C;\n",
              "      box-shadow: 0px 1px 3px 1px rgba(0, 0, 0, 0.15);\n",
              "      filter: drop-shadow(0px 1px 2px rgba(0, 0, 0, 0.3));\n",
              "      fill: #FFFFFF;\n",
              "    }\n",
              "  </style>\n",
              "\n",
              "      <script>\n",
              "        const buttonEl =\n",
              "          document.querySelector('#df-1f0fe84b-e8cd-4f00-b423-def06d4502c1 button.colab-df-convert');\n",
              "        buttonEl.style.display =\n",
              "          google.colab.kernel.accessAllowed ? 'block' : 'none';\n",
              "\n",
              "        async function convertToInteractive(key) {\n",
              "          const element = document.querySelector('#df-1f0fe84b-e8cd-4f00-b423-def06d4502c1');\n",
              "          const dataTable =\n",
              "            await google.colab.kernel.invokeFunction('convertToInteractive',\n",
              "                                                     [key], {});\n",
              "          if (!dataTable) return;\n",
              "\n",
              "          const docLinkHtml = 'Like what you see? Visit the ' +\n",
              "            '<a target=\"_blank\" href=https://colab.research.google.com/notebooks/data_table.ipynb>data table notebook</a>'\n",
              "            + ' to learn more about interactive tables.';\n",
              "          element.innerHTML = '';\n",
              "          dataTable['output_type'] = 'display_data';\n",
              "          await google.colab.output.renderOutput(dataTable, element);\n",
              "          const docLink = document.createElement('div');\n",
              "          docLink.innerHTML = docLinkHtml;\n",
              "          element.appendChild(docLink);\n",
              "        }\n",
              "      </script>\n",
              "    </div>\n",
              "  </div>\n",
              "  "
            ]
          },
          "metadata": {},
          "execution_count": 55
        }
      ],
      "source": [
        "spb_center = data[data['locality_name'] == 'Санкт-Петербург']\n",
        "pivot_spb_center = spb_center.pivot_table(index='city_center_km', values='cost_per_meter', aggfunc=['mean', 'median'])\n",
        "pivot_spb_center"
      ]
    },
    {
      "cell_type": "code",
      "execution_count": null,
      "metadata": {
        "colab": {
          "base_uri": "https://localhost:8080/"
        },
        "id": "WrdJ-xLIGcTs",
        "outputId": "a4a73e08-6d80-434e-9b33-cde5021d027e"
      },
      "outputs": [
        {
          "output_type": "stream",
          "name": "stdout",
          "text": [
            "-0.3\n"
          ]
        },
        {
          "output_type": "display_data",
          "data": {
            "text/plain": [
              "<Figure size 504x504 with 1 Axes>"
            ],
            "image/png": "[encoded data removed]"
          },
          "metadata": {
            "needs_background": "light"
          }
        }
      ],
      "source": [
        "print(spb_center['last_price'].corr(spb_center['city_center_km']).round(2))\n",
        "spb_center.plot(x='city_center_km', y='last_price', kind='scatter', grid=True, alpha=0.3, figsize=(7,7))\n",
        "plt.title('Зависимость цены от удаленности от центра');"
      ]
    },
    {
      "cell_type": "markdown",
      "metadata": {
        "id": "6rYjRk95GcTs"
      },
      "source": [
        "Видим, что есть небольшая отрицательная зависимость, это говорит о том, что чем больше километров от центра, тем дешевле стоимость квартиры. Так же как и стоимость квадратного метра уменьшается с отдаленностью от центра. Судя по диаграме, на 8 километре заканчивается центр города, т.к видно значительное снижение цены"
      ]
    },
    {
      "cell_type": "markdown",
      "metadata": {
        "id": "qRLrycV-GcTt"
      },
      "source": [
        "**Вывод:** в выборке преобладают квартиры с 1-3 комнатами, преимущественно находящиеся на 1-5 этажах, размещенные в 5-ти и 9-ти этажных зданиях. Заметили, что по выходным публикуется гораздо меньше объявлений. Половина квартир была продана менее чем за 95 дней. После 2014 года цены на квартиры снизились, но в 2018 начали повышаться. Самая высокая цена за квадратный метр в Санкт-Петербурге, наиболее низкая в Выборге. Выяснили, что при большем удалении от центра Санкт-Петербурга (после 8 км) стоимость квартиры уменьшается."
      ]
    },
    {
      "cell_type": "markdown",
      "metadata": {
        "id": "7AY3pZ7xGcTt"
      },
      "source": [
        "### Общий вывод"
      ]
    },
    {
      "cell_type": "markdown",
      "metadata": {
        "id": "VKp3StclGcTt"
      },
      "source": [
        "В работе был проанализирован предоставленный датасет сервиса Яндекс.Недвижимость. Датасет изучили, определили пропущенные значения, выяснили причины, по которым могли возникнуть пропуски в данных. Данные предварительно подготовили: удалили редкие значения и аномалии, выбивающиеся из общих данных, избавились от неявных дубликатов, преобразовали данные к нужному типу, где было возможно - заполнили пропущенные значения. Дополнительно было добавлено несколько колонок. Более подробно изучили параметры, посмотрели какие квартиры фигурируют в выборке, увидели, что большинство квартир:\n",
        "* имеют 1-3 комнаты;\n",
        "* стоимостью 3-5 млн. рублей;\n",
        "* расположены на 1-5 этажах;\n",
        "* находятся в 5-ти и 9-ти этажных домах;\n",
        "* удалены от центра на 9-16 км;\n",
        "* в среднем, продаются за 180 дней.\n",
        "\n",
        "Выяснили, влияние даты размещения объявления:\n",
        "* в выходные и праздничные дни публикуется меньше объявлений;\n",
        "* квартиры, размещенные в июне наиболее дешевые;\n",
        "* с 2014 года заметен спад стоимости квартир, но с 2018 года снова идет повышение цен;\n",
        "* в зависимости от дня недели размещения объявлений значительных колебаний нет.\n",
        "\n",
        "Выявили от каких параметров в той или иной степени зависит стоимость квартир:\n",
        "* увидели, что чем больше площадь (общая, жилая и кухни), тем выше стоимость квартиры, чуть меньшее влияние оказывет количество комнат;\n",
        "* на первом и последнем этажах квартиры дешевле, чем на других;\n",
        "* самые дорогие квартире в Санкт-Петербурге; \n",
        "* определили центр Санкт-Петербурга и уведели, что при удалении более чем на 8 км от центра, стоимость квартиры становится дешевле."
      ]
    }
  ],
  "metadata": {
    "ExecuteTimeLog": [
      {
        "duration": 393,
        "start_time": "2022-11-15T08:41:43.534Z"
      },
      {
        "duration": 2,
        "start_time": "2022-11-15T08:42:10.635Z"
      },
      {
        "duration": 314,
        "start_time": "2022-11-15T08:42:43.882Z"
      },
      {
        "duration": 94,
        "start_time": "2022-11-15T08:42:55.322Z"
      },
      {
        "duration": 112,
        "start_time": "2022-11-15T08:43:11.847Z"
      },
      {
        "duration": 14,
        "start_time": "2022-11-15T08:45:04.301Z"
      },
      {
        "duration": 2258,
        "start_time": "2022-11-15T08:48:56.906Z"
      },
      {
        "duration": 11,
        "start_time": "2022-11-15T09:52:11.523Z"
      },
      {
        "duration": 74,
        "start_time": "2022-11-15T10:29:27.370Z"
      },
      {
        "duration": 7,
        "start_time": "2022-11-15T10:41:16.572Z"
      },
      {
        "duration": 67,
        "start_time": "2022-11-15T10:41:28.245Z"
      },
      {
        "duration": 7,
        "start_time": "2022-11-15T10:55:20.759Z"
      },
      {
        "duration": 5,
        "start_time": "2022-11-15T10:55:32.027Z"
      },
      {
        "duration": 15,
        "start_time": "2022-11-15T10:56:10.452Z"
      },
      {
        "duration": 8,
        "start_time": "2022-11-15T11:03:32.353Z"
      },
      {
        "duration": 81,
        "start_time": "2022-11-15T11:04:16.561Z"
      },
      {
        "duration": 4,
        "start_time": "2022-11-15T11:05:30.391Z"
      },
      {
        "duration": 5,
        "start_time": "2022-11-15T11:05:45.991Z"
      },
      {
        "duration": 5,
        "start_time": "2022-11-15T11:06:49.758Z"
      },
      {
        "duration": 2,
        "start_time": "2022-11-15T11:07:32.739Z"
      },
      {
        "duration": 140,
        "start_time": "2022-11-15T11:07:32.743Z"
      },
      {
        "duration": 14,
        "start_time": "2022-11-15T11:07:32.884Z"
      },
      {
        "duration": 2063,
        "start_time": "2022-11-15T11:07:32.900Z"
      },
      {
        "duration": 10,
        "start_time": "2022-11-15T11:07:34.965Z"
      },
      {
        "duration": 8,
        "start_time": "2022-11-15T11:07:34.976Z"
      },
      {
        "duration": 13,
        "start_time": "2022-11-15T11:12:03.367Z"
      },
      {
        "duration": 12,
        "start_time": "2022-11-15T11:13:01.247Z"
      },
      {
        "duration": 15,
        "start_time": "2022-11-15T11:13:28.276Z"
      },
      {
        "duration": 40,
        "start_time": "2022-11-15T11:13:50.708Z"
      },
      {
        "duration": 44,
        "start_time": "2022-11-15T11:14:05.300Z"
      },
      {
        "duration": 8,
        "start_time": "2022-11-15T11:18:07.606Z"
      },
      {
        "duration": 8,
        "start_time": "2022-11-15T11:18:32.299Z"
      },
      {
        "duration": 8,
        "start_time": "2022-11-15T11:19:20.840Z"
      },
      {
        "duration": 10,
        "start_time": "2022-11-15T11:19:38.337Z"
      },
      {
        "duration": 8,
        "start_time": "2022-11-15T11:20:34.288Z"
      },
      {
        "duration": 10,
        "start_time": "2022-11-15T11:21:59.162Z"
      },
      {
        "duration": 13,
        "start_time": "2022-11-15T11:23:04.716Z"
      },
      {
        "duration": 6,
        "start_time": "2022-11-15T11:23:27.796Z"
      },
      {
        "duration": 9,
        "start_time": "2022-11-15T11:25:51.895Z"
      },
      {
        "duration": 13,
        "start_time": "2022-11-15T11:36:24.572Z"
      },
      {
        "duration": 11,
        "start_time": "2022-11-15T11:36:26.380Z"
      },
      {
        "duration": 18,
        "start_time": "2022-11-15T11:36:40.834Z"
      },
      {
        "duration": 19,
        "start_time": "2022-11-15T11:37:47.230Z"
      },
      {
        "duration": 3,
        "start_time": "2022-11-15T11:39:04.797Z"
      },
      {
        "duration": 134,
        "start_time": "2022-11-15T11:39:04.802Z"
      },
      {
        "duration": 15,
        "start_time": "2022-11-15T11:39:04.938Z"
      },
      {
        "duration": 2165,
        "start_time": "2022-11-15T11:39:04.955Z"
      },
      {
        "duration": 12,
        "start_time": "2022-11-15T11:39:07.123Z"
      },
      {
        "duration": 4,
        "start_time": "2022-11-15T11:39:07.137Z"
      },
      {
        "duration": 34,
        "start_time": "2022-11-15T11:39:07.143Z"
      },
      {
        "duration": 6,
        "start_time": "2022-11-15T11:39:07.179Z"
      },
      {
        "duration": 42,
        "start_time": "2022-11-15T11:39:07.187Z"
      },
      {
        "duration": 28,
        "start_time": "2022-11-15T11:39:07.232Z"
      },
      {
        "duration": 5,
        "start_time": "2022-11-15T11:39:20.543Z"
      },
      {
        "duration": 79,
        "start_time": "2022-11-15T11:41:34.095Z"
      },
      {
        "duration": 33,
        "start_time": "2022-11-15T11:43:09.348Z"
      },
      {
        "duration": 24,
        "start_time": "2022-11-15T11:56:25.355Z"
      },
      {
        "duration": 3,
        "start_time": "2022-11-15T11:57:32.134Z"
      },
      {
        "duration": 135,
        "start_time": "2022-11-15T11:57:32.139Z"
      },
      {
        "duration": 13,
        "start_time": "2022-11-15T11:57:32.276Z"
      },
      {
        "duration": 2131,
        "start_time": "2022-11-15T11:57:32.290Z"
      },
      {
        "duration": 23,
        "start_time": "2022-11-15T11:57:34.424Z"
      },
      {
        "duration": 49,
        "start_time": "2022-11-15T11:57:34.449Z"
      },
      {
        "duration": 0,
        "start_time": "2022-11-15T11:57:34.499Z"
      },
      {
        "duration": 0,
        "start_time": "2022-11-15T11:57:34.500Z"
      },
      {
        "duration": 0,
        "start_time": "2022-11-15T11:57:34.501Z"
      },
      {
        "duration": 0,
        "start_time": "2022-11-15T11:57:34.502Z"
      },
      {
        "duration": 0,
        "start_time": "2022-11-15T11:57:34.503Z"
      },
      {
        "duration": 0,
        "start_time": "2022-11-15T11:57:34.504Z"
      },
      {
        "duration": 0,
        "start_time": "2022-11-15T11:57:34.505Z"
      },
      {
        "duration": 3,
        "start_time": "2022-11-15T11:57:51.055Z"
      },
      {
        "duration": 157,
        "start_time": "2022-11-15T11:57:51.059Z"
      },
      {
        "duration": 20,
        "start_time": "2022-11-15T11:57:51.218Z"
      },
      {
        "duration": 2180,
        "start_time": "2022-11-15T11:57:51.239Z"
      },
      {
        "duration": 27,
        "start_time": "2022-11-15T11:57:53.422Z"
      },
      {
        "duration": 10,
        "start_time": "2022-11-15T11:57:53.451Z"
      },
      {
        "duration": 6,
        "start_time": "2022-11-15T11:57:53.463Z"
      },
      {
        "duration": 67,
        "start_time": "2022-11-15T11:57:53.471Z"
      },
      {
        "duration": 7,
        "start_time": "2022-11-15T11:57:53.540Z"
      },
      {
        "duration": 6,
        "start_time": "2022-11-15T11:57:53.549Z"
      },
      {
        "duration": 26,
        "start_time": "2022-11-15T11:57:53.557Z"
      },
      {
        "duration": 107,
        "start_time": "2022-11-15T11:57:53.584Z"
      },
      {
        "duration": 6,
        "start_time": "2022-11-15T11:58:44.031Z"
      },
      {
        "duration": 74,
        "start_time": "2022-11-15T11:58:55.999Z"
      },
      {
        "duration": 22,
        "start_time": "2022-11-15T11:59:51.351Z"
      },
      {
        "duration": 7,
        "start_time": "2022-11-15T12:07:06.080Z"
      },
      {
        "duration": 6,
        "start_time": "2022-11-15T12:07:25.904Z"
      },
      {
        "duration": 21,
        "start_time": "2022-11-15T12:15:29.290Z"
      },
      {
        "duration": 29,
        "start_time": "2022-11-15T12:16:56.411Z"
      },
      {
        "duration": 23,
        "start_time": "2022-11-15T12:17:11.636Z"
      },
      {
        "duration": 29,
        "start_time": "2022-11-15T12:17:58.039Z"
      },
      {
        "duration": 23,
        "start_time": "2022-11-15T12:19:47.864Z"
      },
      {
        "duration": 12,
        "start_time": "2022-11-15T12:20:52.329Z"
      },
      {
        "duration": 18,
        "start_time": "2022-11-15T12:21:14.037Z"
      },
      {
        "duration": 3,
        "start_time": "2022-11-15T12:21:21.372Z"
      },
      {
        "duration": 142,
        "start_time": "2022-11-15T12:21:21.377Z"
      },
      {
        "duration": 16,
        "start_time": "2022-11-15T12:21:21.522Z"
      },
      {
        "duration": 1956,
        "start_time": "2022-11-15T12:21:21.540Z"
      },
      {
        "duration": 33,
        "start_time": "2022-11-15T12:21:23.499Z"
      },
      {
        "duration": 15,
        "start_time": "2022-11-15T12:21:23.533Z"
      },
      {
        "duration": 7,
        "start_time": "2022-11-15T12:21:23.549Z"
      },
      {
        "duration": 36,
        "start_time": "2022-11-15T12:21:23.558Z"
      },
      {
        "duration": 6,
        "start_time": "2022-11-15T12:21:23.596Z"
      },
      {
        "duration": 20,
        "start_time": "2022-11-15T12:21:23.603Z"
      },
      {
        "duration": 45,
        "start_time": "2022-11-15T12:21:23.625Z"
      },
      {
        "duration": 239,
        "start_time": "2022-11-15T12:21:23.672Z"
      },
      {
        "duration": 23,
        "start_time": "2022-11-15T12:21:23.912Z"
      },
      {
        "duration": 22,
        "start_time": "2022-11-15T12:21:23.937Z"
      },
      {
        "duration": 5,
        "start_time": "2022-11-15T12:21:23.961Z"
      },
      {
        "duration": 22,
        "start_time": "2022-11-15T12:21:23.967Z"
      },
      {
        "duration": 5,
        "start_time": "2022-11-15T12:21:42.490Z"
      },
      {
        "duration": 3,
        "start_time": "2022-11-15T12:22:21.733Z"
      },
      {
        "duration": 170,
        "start_time": "2022-11-15T12:22:21.738Z"
      },
      {
        "duration": 14,
        "start_time": "2022-11-15T12:22:21.910Z"
      },
      {
        "duration": 1906,
        "start_time": "2022-11-15T12:22:21.926Z"
      },
      {
        "duration": 22,
        "start_time": "2022-11-15T12:22:23.833Z"
      },
      {
        "duration": 13,
        "start_time": "2022-11-15T12:22:23.857Z"
      },
      {
        "duration": 21,
        "start_time": "2022-11-15T12:22:23.872Z"
      },
      {
        "duration": 54,
        "start_time": "2022-11-15T12:22:23.894Z"
      },
      {
        "duration": 9,
        "start_time": "2022-11-15T12:22:23.951Z"
      },
      {
        "duration": 32,
        "start_time": "2022-11-15T12:22:23.962Z"
      },
      {
        "duration": 36,
        "start_time": "2022-11-15T12:22:23.995Z"
      },
      {
        "duration": 71,
        "start_time": "2022-11-15T12:22:24.033Z"
      },
      {
        "duration": 31,
        "start_time": "2022-11-15T12:22:24.105Z"
      },
      {
        "duration": 50,
        "start_time": "2022-11-15T12:22:24.138Z"
      },
      {
        "duration": 33,
        "start_time": "2022-11-15T12:22:24.190Z"
      },
      {
        "duration": 18,
        "start_time": "2022-11-15T12:22:24.225Z"
      },
      {
        "duration": 16,
        "start_time": "2022-11-15T12:22:24.245Z"
      },
      {
        "duration": 330,
        "start_time": "2022-11-15T13:38:46.590Z"
      },
      {
        "duration": 150,
        "start_time": "2022-11-15T13:38:46.922Z"
      },
      {
        "duration": 12,
        "start_time": "2022-11-15T13:38:47.074Z"
      },
      {
        "duration": 2071,
        "start_time": "2022-11-15T13:38:47.087Z"
      },
      {
        "duration": 22,
        "start_time": "2022-11-15T13:38:49.161Z"
      },
      {
        "duration": 9,
        "start_time": "2022-11-15T13:38:49.184Z"
      },
      {
        "duration": 6,
        "start_time": "2022-11-15T13:38:49.195Z"
      },
      {
        "duration": 33,
        "start_time": "2022-11-15T13:38:49.203Z"
      },
      {
        "duration": 16,
        "start_time": "2022-11-15T13:38:49.237Z"
      },
      {
        "duration": 12,
        "start_time": "2022-11-15T13:38:49.255Z"
      },
      {
        "duration": 25,
        "start_time": "2022-11-15T13:38:49.269Z"
      },
      {
        "duration": 86,
        "start_time": "2022-11-15T13:38:49.295Z"
      },
      {
        "duration": 19,
        "start_time": "2022-11-15T13:38:49.382Z"
      },
      {
        "duration": 21,
        "start_time": "2022-11-15T13:38:49.403Z"
      },
      {
        "duration": 7,
        "start_time": "2022-11-15T13:38:49.425Z"
      },
      {
        "duration": 10,
        "start_time": "2022-11-15T13:38:49.453Z"
      },
      {
        "duration": 8,
        "start_time": "2022-11-15T13:38:49.465Z"
      },
      {
        "duration": 391,
        "start_time": "2022-11-16T14:23:28.575Z"
      },
      {
        "duration": 165,
        "start_time": "2022-11-16T14:23:31.381Z"
      },
      {
        "duration": 2399,
        "start_time": "2022-11-16T14:23:45.585Z"
      },
      {
        "duration": 15,
        "start_time": "2022-11-16T14:33:30.710Z"
      },
      {
        "duration": 24,
        "start_time": "2022-11-16T14:33:33.741Z"
      },
      {
        "duration": 9,
        "start_time": "2022-11-16T14:33:35.845Z"
      },
      {
        "duration": 7,
        "start_time": "2022-11-16T14:33:38.984Z"
      },
      {
        "duration": 37,
        "start_time": "2022-11-16T14:33:44.818Z"
      },
      {
        "duration": 6,
        "start_time": "2022-11-16T14:33:50.694Z"
      },
      {
        "duration": 5,
        "start_time": "2022-11-16T14:33:53.118Z"
      },
      {
        "duration": 43,
        "start_time": "2022-11-16T14:33:55.313Z"
      },
      {
        "duration": 73,
        "start_time": "2022-11-16T14:34:00.181Z"
      },
      {
        "duration": 6,
        "start_time": "2022-11-16T14:34:12.886Z"
      },
      {
        "duration": 14,
        "start_time": "2022-11-16T14:36:30.498Z"
      },
      {
        "duration": 9,
        "start_time": "2022-11-16T14:37:20.652Z"
      },
      {
        "duration": 6,
        "start_time": "2022-11-16T14:38:06.516Z"
      },
      {
        "duration": 6,
        "start_time": "2022-11-16T14:38:33.617Z"
      },
      {
        "duration": 6,
        "start_time": "2022-11-16T14:38:45.987Z"
      },
      {
        "duration": 7,
        "start_time": "2022-11-16T14:39:03.237Z"
      },
      {
        "duration": 7,
        "start_time": "2022-11-16T14:46:23.280Z"
      },
      {
        "duration": 87,
        "start_time": "2022-11-16T14:46:29.710Z"
      },
      {
        "duration": 33,
        "start_time": "2022-11-16T14:46:53.149Z"
      },
      {
        "duration": 13,
        "start_time": "2022-11-16T14:47:39.535Z"
      },
      {
        "duration": 36,
        "start_time": "2022-11-16T14:49:02.572Z"
      },
      {
        "duration": 6,
        "start_time": "2022-11-16T14:49:17.020Z"
      },
      {
        "duration": 5,
        "start_time": "2022-11-16T14:49:26.129Z"
      },
      {
        "duration": 26,
        "start_time": "2022-11-16T14:49:26.817Z"
      },
      {
        "duration": 68,
        "start_time": "2022-11-16T14:49:29.193Z"
      },
      {
        "duration": 5,
        "start_time": "2022-11-16T14:49:32.867Z"
      },
      {
        "duration": 2,
        "start_time": "2022-11-16T14:49:54.877Z"
      },
      {
        "duration": 130,
        "start_time": "2022-11-16T14:49:54.883Z"
      },
      {
        "duration": 15,
        "start_time": "2022-11-16T14:49:55.015Z"
      },
      {
        "duration": 1987,
        "start_time": "2022-11-16T14:49:55.031Z"
      },
      {
        "duration": 20,
        "start_time": "2022-11-16T14:49:57.020Z"
      },
      {
        "duration": 9,
        "start_time": "2022-11-16T14:49:57.041Z"
      },
      {
        "duration": 6,
        "start_time": "2022-11-16T14:49:57.051Z"
      },
      {
        "duration": 33,
        "start_time": "2022-11-16T14:49:57.078Z"
      },
      {
        "duration": 7,
        "start_time": "2022-11-16T14:49:57.113Z"
      },
      {
        "duration": 10,
        "start_time": "2022-11-16T14:49:57.121Z"
      },
      {
        "duration": 48,
        "start_time": "2022-11-16T14:49:57.133Z"
      },
      {
        "duration": 72,
        "start_time": "2022-11-16T14:49:57.183Z"
      },
      {
        "duration": 23,
        "start_time": "2022-11-16T14:49:57.256Z"
      },
      {
        "duration": 9,
        "start_time": "2022-11-16T14:49:57.280Z"
      },
      {
        "duration": 11,
        "start_time": "2022-11-16T14:49:57.290Z"
      },
      {
        "duration": 24,
        "start_time": "2022-11-16T14:49:57.302Z"
      },
      {
        "duration": 19,
        "start_time": "2022-11-16T14:49:57.328Z"
      },
      {
        "duration": 10,
        "start_time": "2022-11-16T14:49:57.348Z"
      },
      {
        "duration": 5,
        "start_time": "2022-11-16T14:49:57.379Z"
      },
      {
        "duration": 28,
        "start_time": "2022-11-16T14:51:46.244Z"
      },
      {
        "duration": 46,
        "start_time": "2022-11-16T14:51:56.072Z"
      },
      {
        "duration": 6,
        "start_time": "2022-11-16T14:52:36.414Z"
      },
      {
        "duration": 6,
        "start_time": "2022-11-16T14:52:59.589Z"
      },
      {
        "duration": 3,
        "start_time": "2022-11-16T14:53:08.970Z"
      },
      {
        "duration": 143,
        "start_time": "2022-11-16T14:53:08.976Z"
      },
      {
        "duration": 17,
        "start_time": "2022-11-16T14:53:09.121Z"
      },
      {
        "duration": 2056,
        "start_time": "2022-11-16T14:53:09.140Z"
      },
      {
        "duration": 23,
        "start_time": "2022-11-16T14:53:11.198Z"
      },
      {
        "duration": 9,
        "start_time": "2022-11-16T14:53:11.223Z"
      },
      {
        "duration": 18,
        "start_time": "2022-11-16T14:53:11.234Z"
      },
      {
        "duration": 50,
        "start_time": "2022-11-16T14:53:11.253Z"
      },
      {
        "duration": 6,
        "start_time": "2022-11-16T14:53:11.305Z"
      },
      {
        "duration": 23,
        "start_time": "2022-11-16T14:53:11.312Z"
      },
      {
        "duration": 46,
        "start_time": "2022-11-16T14:53:11.337Z"
      },
      {
        "duration": 80,
        "start_time": "2022-11-16T14:53:11.384Z"
      },
      {
        "duration": 14,
        "start_time": "2022-11-16T14:53:11.465Z"
      },
      {
        "duration": 21,
        "start_time": "2022-11-16T14:53:11.481Z"
      },
      {
        "duration": 23,
        "start_time": "2022-11-16T14:53:11.504Z"
      },
      {
        "duration": 18,
        "start_time": "2022-11-16T14:53:11.528Z"
      },
      {
        "duration": 27,
        "start_time": "2022-11-16T14:53:11.548Z"
      },
      {
        "duration": 17,
        "start_time": "2022-11-16T14:53:11.577Z"
      },
      {
        "duration": 25,
        "start_time": "2022-11-16T14:53:11.595Z"
      },
      {
        "duration": 10,
        "start_time": "2022-11-16T14:54:07.402Z"
      },
      {
        "duration": 5,
        "start_time": "2022-11-16T14:55:03.746Z"
      },
      {
        "duration": 3,
        "start_time": "2022-11-16T14:55:09.707Z"
      },
      {
        "duration": 122,
        "start_time": "2022-11-16T14:55:09.712Z"
      },
      {
        "duration": 14,
        "start_time": "2022-11-16T14:55:09.836Z"
      },
      {
        "duration": 1945,
        "start_time": "2022-11-16T14:55:09.852Z"
      },
      {
        "duration": 23,
        "start_time": "2022-11-16T14:55:11.799Z"
      },
      {
        "duration": 10,
        "start_time": "2022-11-16T14:55:11.823Z"
      },
      {
        "duration": 10,
        "start_time": "2022-11-16T14:55:11.834Z"
      },
      {
        "duration": 54,
        "start_time": "2022-11-16T14:55:11.845Z"
      },
      {
        "duration": 6,
        "start_time": "2022-11-16T14:55:11.901Z"
      },
      {
        "duration": 20,
        "start_time": "2022-11-16T14:55:11.909Z"
      },
      {
        "duration": 28,
        "start_time": "2022-11-16T14:55:11.931Z"
      },
      {
        "duration": 75,
        "start_time": "2022-11-16T14:55:11.961Z"
      },
      {
        "duration": 5,
        "start_time": "2022-11-16T14:55:12.038Z"
      },
      {
        "duration": 9,
        "start_time": "2022-11-16T14:55:12.045Z"
      },
      {
        "duration": 25,
        "start_time": "2022-11-16T14:55:12.056Z"
      },
      {
        "duration": 8,
        "start_time": "2022-11-16T14:55:12.083Z"
      },
      {
        "duration": 11,
        "start_time": "2022-11-16T14:55:12.093Z"
      },
      {
        "duration": 15,
        "start_time": "2022-11-16T14:55:12.106Z"
      },
      {
        "duration": 9,
        "start_time": "2022-11-16T14:55:12.122Z"
      },
      {
        "duration": 41,
        "start_time": "2022-11-16T14:56:06.575Z"
      },
      {
        "duration": 17,
        "start_time": "2022-11-16T15:16:57.012Z"
      },
      {
        "duration": 4,
        "start_time": "2022-11-16T15:18:05.923Z"
      },
      {
        "duration": 4,
        "start_time": "2022-11-16T15:18:48.080Z"
      },
      {
        "duration": 328,
        "start_time": "2022-11-16T15:18:49.796Z"
      },
      {
        "duration": 295,
        "start_time": "2022-11-16T15:21:58.490Z"
      },
      {
        "duration": 3,
        "start_time": "2022-11-16T15:22:12.504Z"
      },
      {
        "duration": 279,
        "start_time": "2022-11-16T15:22:19.209Z"
      },
      {
        "duration": 310,
        "start_time": "2022-11-16T15:23:30.850Z"
      },
      {
        "duration": 365,
        "start_time": "2022-11-16T15:24:01.296Z"
      },
      {
        "duration": 295,
        "start_time": "2022-11-16T15:24:26.353Z"
      },
      {
        "duration": 138,
        "start_time": "2022-11-16T15:25:13.733Z"
      },
      {
        "duration": 181,
        "start_time": "2022-11-16T15:25:56.317Z"
      },
      {
        "duration": 194,
        "start_time": "2022-11-16T15:26:32.292Z"
      },
      {
        "duration": 105,
        "start_time": "2022-11-16T15:27:13.786Z"
      },
      {
        "duration": 217,
        "start_time": "2022-11-16T15:27:51.433Z"
      },
      {
        "duration": 255,
        "start_time": "2022-11-16T15:28:17.411Z"
      },
      {
        "duration": 186,
        "start_time": "2022-11-16T15:29:11.084Z"
      },
      {
        "duration": 232,
        "start_time": "2022-11-16T15:30:19.584Z"
      },
      {
        "duration": 147,
        "start_time": "2022-11-16T15:30:49.132Z"
      },
      {
        "duration": 147,
        "start_time": "2022-11-16T15:31:13.575Z"
      },
      {
        "duration": 588,
        "start_time": "2022-11-16T15:37:45.996Z"
      },
      {
        "duration": 152,
        "start_time": "2022-11-16T15:38:03.297Z"
      },
      {
        "duration": 11,
        "start_time": "2022-11-16T15:38:12.550Z"
      },
      {
        "duration": 199,
        "start_time": "2022-11-16T15:40:35.217Z"
      },
      {
        "duration": 238,
        "start_time": "2022-11-16T15:40:42.995Z"
      },
      {
        "duration": 194,
        "start_time": "2022-11-16T15:40:50.609Z"
      },
      {
        "duration": 230,
        "start_time": "2022-11-16T15:41:26.879Z"
      },
      {
        "duration": 15,
        "start_time": "2022-11-16T15:41:52.929Z"
      },
      {
        "duration": 126,
        "start_time": "2022-11-16T15:43:10.579Z"
      },
      {
        "duration": 193,
        "start_time": "2022-11-16T15:43:39.317Z"
      },
      {
        "duration": 218,
        "start_time": "2022-11-16T15:44:04.862Z"
      },
      {
        "duration": 221,
        "start_time": "2022-11-16T15:44:43.533Z"
      },
      {
        "duration": 22,
        "start_time": "2022-11-16T15:55:29.714Z"
      },
      {
        "duration": 161,
        "start_time": "2022-11-16T15:55:48.395Z"
      },
      {
        "duration": 286,
        "start_time": "2022-11-16T15:56:21.739Z"
      },
      {
        "duration": 25,
        "start_time": "2022-11-16T15:56:38.804Z"
      },
      {
        "duration": 187,
        "start_time": "2022-11-16T15:56:41.627Z"
      },
      {
        "duration": 26,
        "start_time": "2022-11-16T15:57:47.962Z"
      },
      {
        "duration": 220,
        "start_time": "2022-11-16T15:58:04.605Z"
      },
      {
        "duration": 201,
        "start_time": "2022-11-16T16:26:46.753Z"
      },
      {
        "duration": 570,
        "start_time": "2022-11-16T17:12:19.685Z"
      },
      {
        "duration": 115,
        "start_time": "2022-11-16T17:12:20.256Z"
      },
      {
        "duration": 15,
        "start_time": "2022-11-16T17:12:20.373Z"
      },
      {
        "duration": 1908,
        "start_time": "2022-11-16T17:12:20.389Z"
      },
      {
        "duration": 33,
        "start_time": "2022-11-16T17:12:22.299Z"
      },
      {
        "duration": 8,
        "start_time": "2022-11-16T17:12:22.334Z"
      },
      {
        "duration": 5,
        "start_time": "2022-11-16T17:12:22.343Z"
      },
      {
        "duration": 36,
        "start_time": "2022-11-16T17:12:22.350Z"
      },
      {
        "duration": 6,
        "start_time": "2022-11-16T17:12:22.388Z"
      },
      {
        "duration": 32,
        "start_time": "2022-11-16T17:12:22.396Z"
      },
      {
        "duration": 27,
        "start_time": "2022-11-16T17:12:22.429Z"
      },
      {
        "duration": 78,
        "start_time": "2022-11-16T17:12:22.457Z"
      },
      {
        "duration": 5,
        "start_time": "2022-11-16T17:12:22.536Z"
      },
      {
        "duration": 14,
        "start_time": "2022-11-16T17:12:22.544Z"
      },
      {
        "duration": 7,
        "start_time": "2022-11-16T17:12:22.560Z"
      },
      {
        "duration": 10,
        "start_time": "2022-11-16T17:12:22.568Z"
      },
      {
        "duration": 6,
        "start_time": "2022-11-16T17:12:22.580Z"
      },
      {
        "duration": 10,
        "start_time": "2022-11-16T17:12:22.587Z"
      },
      {
        "duration": 71,
        "start_time": "2022-11-16T17:12:22.598Z"
      },
      {
        "duration": 14,
        "start_time": "2022-11-16T17:12:22.671Z"
      },
      {
        "duration": 4,
        "start_time": "2022-11-16T17:12:22.686Z"
      },
      {
        "duration": 362,
        "start_time": "2022-11-16T17:12:22.691Z"
      },
      {
        "duration": 257,
        "start_time": "2022-11-16T17:12:23.054Z"
      },
      {
        "duration": 314,
        "start_time": "2022-11-16T17:12:23.312Z"
      },
      {
        "duration": 197,
        "start_time": "2022-11-16T17:12:23.628Z"
      },
      {
        "duration": 264,
        "start_time": "2022-11-16T17:12:23.827Z"
      },
      {
        "duration": 135,
        "start_time": "2022-11-16T17:12:24.093Z"
      },
      {
        "duration": 188,
        "start_time": "2022-11-16T17:12:24.229Z"
      },
      {
        "duration": 188,
        "start_time": "2022-11-16T17:12:24.418Z"
      },
      {
        "duration": 109,
        "start_time": "2022-11-16T17:12:24.607Z"
      },
      {
        "duration": 206,
        "start_time": "2022-11-16T17:12:24.717Z"
      },
      {
        "duration": 260,
        "start_time": "2022-11-16T17:12:24.927Z"
      },
      {
        "duration": 281,
        "start_time": "2022-11-16T17:12:25.189Z"
      },
      {
        "duration": 281,
        "start_time": "2022-11-16T17:12:25.472Z"
      },
      {
        "duration": 139,
        "start_time": "2022-11-16T17:12:25.755Z"
      },
      {
        "duration": 137,
        "start_time": "2022-11-16T17:12:25.895Z"
      },
      {
        "duration": 379,
        "start_time": "2022-11-16T17:12:26.033Z"
      },
      {
        "duration": 129,
        "start_time": "2022-11-16T17:12:26.414Z"
      },
      {
        "duration": 8,
        "start_time": "2022-11-16T17:12:26.545Z"
      },
      {
        "duration": 204,
        "start_time": "2022-11-16T17:12:26.555Z"
      },
      {
        "duration": 196,
        "start_time": "2022-11-16T17:12:26.763Z"
      },
      {
        "duration": 188,
        "start_time": "2022-11-16T17:12:26.961Z"
      },
      {
        "duration": 315,
        "start_time": "2022-11-16T17:12:27.151Z"
      },
      {
        "duration": 138,
        "start_time": "2022-11-16T17:12:27.468Z"
      },
      {
        "duration": 197,
        "start_time": "2022-11-16T17:12:27.608Z"
      },
      {
        "duration": 195,
        "start_time": "2022-11-16T17:12:27.806Z"
      },
      {
        "duration": 200,
        "start_time": "2022-11-16T17:12:28.003Z"
      },
      {
        "duration": 27,
        "start_time": "2022-11-16T17:12:28.205Z"
      },
      {
        "duration": 162,
        "start_time": "2022-11-16T17:12:28.234Z"
      },
      {
        "duration": 31,
        "start_time": "2022-11-16T17:12:28.397Z"
      },
      {
        "duration": 190,
        "start_time": "2022-11-16T17:12:28.430Z"
      },
      {
        "duration": 7,
        "start_time": "2022-11-16T17:13:27.134Z"
      },
      {
        "duration": 13,
        "start_time": "2022-11-16T17:13:48.893Z"
      },
      {
        "duration": 78,
        "start_time": "2022-11-16T17:13:52.436Z"
      },
      {
        "duration": 533,
        "start_time": "2022-11-16T17:13:57.583Z"
      },
      {
        "duration": 106,
        "start_time": "2022-11-16T17:13:58.118Z"
      },
      {
        "duration": 14,
        "start_time": "2022-11-16T17:13:58.226Z"
      },
      {
        "duration": 1666,
        "start_time": "2022-11-16T17:13:58.241Z"
      },
      {
        "duration": 28,
        "start_time": "2022-11-16T17:13:59.909Z"
      },
      {
        "duration": 7,
        "start_time": "2022-11-16T17:13:59.939Z"
      },
      {
        "duration": 4,
        "start_time": "2022-11-16T17:13:59.948Z"
      },
      {
        "duration": 30,
        "start_time": "2022-11-16T17:13:59.953Z"
      },
      {
        "duration": 6,
        "start_time": "2022-11-16T17:13:59.984Z"
      },
      {
        "duration": 6,
        "start_time": "2022-11-16T17:13:59.991Z"
      },
      {
        "duration": 49,
        "start_time": "2022-11-16T17:13:59.998Z"
      },
      {
        "duration": 65,
        "start_time": "2022-11-16T17:14:00.049Z"
      },
      {
        "duration": 16,
        "start_time": "2022-11-16T17:14:00.115Z"
      },
      {
        "duration": 9,
        "start_time": "2022-11-16T17:14:00.133Z"
      },
      {
        "duration": 6,
        "start_time": "2022-11-16T17:14:00.143Z"
      },
      {
        "duration": 11,
        "start_time": "2022-11-16T17:14:00.151Z"
      },
      {
        "duration": 9,
        "start_time": "2022-11-16T17:14:00.163Z"
      },
      {
        "duration": 9,
        "start_time": "2022-11-16T17:14:00.173Z"
      },
      {
        "duration": 69,
        "start_time": "2022-11-16T17:14:00.183Z"
      },
      {
        "duration": 62,
        "start_time": "2022-11-16T17:14:00.254Z"
      },
      {
        "duration": 20,
        "start_time": "2022-11-16T17:14:00.318Z"
      },
      {
        "duration": 14,
        "start_time": "2022-11-16T17:14:00.339Z"
      },
      {
        "duration": 342,
        "start_time": "2022-11-16T17:14:00.354Z"
      },
      {
        "duration": 228,
        "start_time": "2022-11-16T17:14:00.698Z"
      },
      {
        "duration": 290,
        "start_time": "2022-11-16T17:14:00.927Z"
      },
      {
        "duration": 178,
        "start_time": "2022-11-16T17:14:01.219Z"
      },
      {
        "duration": 266,
        "start_time": "2022-11-16T17:14:01.398Z"
      },
      {
        "duration": 129,
        "start_time": "2022-11-16T17:14:01.665Z"
      },
      {
        "duration": 177,
        "start_time": "2022-11-16T17:14:01.795Z"
      },
      {
        "duration": 171,
        "start_time": "2022-11-16T17:14:01.973Z"
      },
      {
        "duration": 108,
        "start_time": "2022-11-16T17:14:02.146Z"
      },
      {
        "duration": 170,
        "start_time": "2022-11-16T17:14:02.256Z"
      },
      {
        "duration": 227,
        "start_time": "2022-11-16T17:14:02.428Z"
      },
      {
        "duration": 252,
        "start_time": "2022-11-16T17:14:02.656Z"
      },
      {
        "duration": 217,
        "start_time": "2022-11-16T17:14:02.910Z"
      },
      {
        "duration": 124,
        "start_time": "2022-11-16T17:14:03.129Z"
      },
      {
        "duration": 111,
        "start_time": "2022-11-16T17:14:03.255Z"
      },
      {
        "duration": 343,
        "start_time": "2022-11-16T17:14:03.368Z"
      },
      {
        "duration": 121,
        "start_time": "2022-11-16T17:14:03.713Z"
      },
      {
        "duration": 9,
        "start_time": "2022-11-16T17:14:03.835Z"
      },
      {
        "duration": 198,
        "start_time": "2022-11-16T17:14:03.847Z"
      },
      {
        "duration": 196,
        "start_time": "2022-11-16T17:14:04.046Z"
      },
      {
        "duration": 199,
        "start_time": "2022-11-16T17:14:04.244Z"
      },
      {
        "duration": 323,
        "start_time": "2022-11-16T17:14:04.445Z"
      },
      {
        "duration": 130,
        "start_time": "2022-11-16T17:14:04.770Z"
      },
      {
        "duration": 202,
        "start_time": "2022-11-16T17:14:04.901Z"
      },
      {
        "duration": 189,
        "start_time": "2022-11-16T17:14:05.104Z"
      },
      {
        "duration": 215,
        "start_time": "2022-11-16T17:14:05.294Z"
      },
      {
        "duration": 32,
        "start_time": "2022-11-16T17:14:05.511Z"
      },
      {
        "duration": 165,
        "start_time": "2022-11-16T17:14:05.545Z"
      },
      {
        "duration": 33,
        "start_time": "2022-11-16T17:14:05.711Z"
      },
      {
        "duration": 194,
        "start_time": "2022-11-16T17:14:05.746Z"
      },
      {
        "duration": 7,
        "start_time": "2022-11-16T17:14:30.088Z"
      },
      {
        "duration": 3,
        "start_time": "2022-11-16T17:43:20.003Z"
      },
      {
        "duration": 137,
        "start_time": "2022-11-16T17:43:21.714Z"
      },
      {
        "duration": 15,
        "start_time": "2022-11-16T17:44:01.497Z"
      },
      {
        "duration": 2457,
        "start_time": "2022-11-16T17:44:02.832Z"
      },
      {
        "duration": 2038,
        "start_time": "2022-11-16T17:44:24.219Z"
      },
      {
        "duration": 26,
        "start_time": "2022-11-16T17:44:57.777Z"
      },
      {
        "duration": 10,
        "start_time": "2022-11-16T17:44:59.226Z"
      },
      {
        "duration": 10,
        "start_time": "2022-11-16T17:54:52.883Z"
      },
      {
        "duration": 1463,
        "start_time": "2022-11-16T17:55:22.651Z"
      },
      {
        "duration": 4,
        "start_time": "2022-11-16T18:08:58.781Z"
      },
      {
        "duration": 136,
        "start_time": "2022-11-16T18:08:59.339Z"
      },
      {
        "duration": 20,
        "start_time": "2022-11-16T18:09:02.942Z"
      },
      {
        "duration": 2565,
        "start_time": "2022-11-16T18:09:06.272Z"
      },
      {
        "duration": 32,
        "start_time": "2022-11-16T18:09:12.769Z"
      },
      {
        "duration": 14,
        "start_time": "2022-11-16T18:09:16.557Z"
      },
      {
        "duration": 7,
        "start_time": "2022-11-16T18:09:20.040Z"
      },
      {
        "duration": 15,
        "start_time": "2022-11-16T18:09:21.686Z"
      },
      {
        "duration": 19,
        "start_time": "2022-11-16T18:10:03.759Z"
      },
      {
        "duration": 40,
        "start_time": "2022-11-16T18:10:29.865Z"
      },
      {
        "duration": 357,
        "start_time": "2022-11-16T18:12:41.807Z"
      },
      {
        "duration": 60,
        "start_time": "2022-11-16T18:13:25.443Z"
      },
      {
        "duration": 40,
        "start_time": "2022-11-16T18:13:29.523Z"
      },
      {
        "duration": 24,
        "start_time": "2022-11-16T18:14:19.555Z"
      },
      {
        "duration": 91,
        "start_time": "2022-11-16T18:17:30.335Z"
      },
      {
        "duration": 40,
        "start_time": "2022-11-16T18:17:38.084Z"
      },
      {
        "duration": 6,
        "start_time": "2022-11-16T18:17:45.760Z"
      },
      {
        "duration": 110,
        "start_time": "2022-11-16T18:17:45.961Z"
      },
      {
        "duration": 14,
        "start_time": "2022-11-16T18:17:46.700Z"
      },
      {
        "duration": 1675,
        "start_time": "2022-11-16T18:17:46.855Z"
      },
      {
        "duration": 20,
        "start_time": "2022-11-16T18:17:48.573Z"
      },
      {
        "duration": 11,
        "start_time": "2022-11-16T18:17:49.504Z"
      },
      {
        "duration": 6,
        "start_time": "2022-11-16T18:17:51.112Z"
      },
      {
        "duration": 14,
        "start_time": "2022-11-16T18:17:52.029Z"
      },
      {
        "duration": 34,
        "start_time": "2022-11-16T18:17:56.208Z"
      },
      {
        "duration": 3,
        "start_time": "2022-11-16T18:20:01.230Z"
      },
      {
        "duration": 117,
        "start_time": "2022-11-16T18:20:01.396Z"
      },
      {
        "duration": 14,
        "start_time": "2022-11-16T18:20:02.410Z"
      },
      {
        "duration": 2586,
        "start_time": "2022-11-16T18:20:02.651Z"
      },
      {
        "duration": 24,
        "start_time": "2022-11-16T18:20:05.240Z"
      },
      {
        "duration": 10,
        "start_time": "2022-11-16T18:20:06.597Z"
      },
      {
        "duration": 5,
        "start_time": "2022-11-16T18:20:09.532Z"
      },
      {
        "duration": 7,
        "start_time": "2022-11-16T18:20:11.363Z"
      },
      {
        "duration": 41,
        "start_time": "2022-11-16T18:20:14.655Z"
      },
      {
        "duration": 6,
        "start_time": "2022-11-16T18:21:11.123Z"
      },
      {
        "duration": 5,
        "start_time": "2022-11-16T18:21:14.643Z"
      },
      {
        "duration": 22,
        "start_time": "2022-11-16T18:21:15.221Z"
      },
      {
        "duration": 81,
        "start_time": "2022-11-16T18:21:18.914Z"
      },
      {
        "duration": 13,
        "start_time": "2022-11-16T18:21:51.573Z"
      },
      {
        "duration": 9,
        "start_time": "2022-11-16T18:21:54.940Z"
      },
      {
        "duration": 7,
        "start_time": "2022-11-16T18:21:58.708Z"
      },
      {
        "duration": 6,
        "start_time": "2022-11-16T18:22:01.540Z"
      },
      {
        "duration": 6,
        "start_time": "2022-11-16T18:22:02.764Z"
      },
      {
        "duration": 9,
        "start_time": "2022-11-16T18:22:04.808Z"
      },
      {
        "duration": 43,
        "start_time": "2022-11-16T18:22:06.961Z"
      },
      {
        "duration": 103,
        "start_time": "2022-11-16T18:23:18.200Z"
      },
      {
        "duration": 14,
        "start_time": "2022-11-16T18:23:31.111Z"
      },
      {
        "duration": 1908,
        "start_time": "2022-11-16T18:23:36.404Z"
      },
      {
        "duration": 20,
        "start_time": "2022-11-16T18:23:40.103Z"
      },
      {
        "duration": 10,
        "start_time": "2022-11-16T18:23:44.744Z"
      },
      {
        "duration": 2,
        "start_time": "2022-11-16T18:24:23.670Z"
      },
      {
        "duration": 132,
        "start_time": "2022-11-16T18:24:23.676Z"
      },
      {
        "duration": 15,
        "start_time": "2022-11-16T18:24:23.810Z"
      },
      {
        "duration": 2211,
        "start_time": "2022-11-16T18:24:23.826Z"
      },
      {
        "duration": 23,
        "start_time": "2022-11-16T18:24:26.038Z"
      },
      {
        "duration": 28,
        "start_time": "2022-11-16T18:24:26.062Z"
      },
      {
        "duration": 12,
        "start_time": "2022-11-16T18:24:26.091Z"
      },
      {
        "duration": 7,
        "start_time": "2022-11-16T18:24:27.411Z"
      },
      {
        "duration": 42,
        "start_time": "2022-11-16T18:24:43.521Z"
      },
      {
        "duration": 7,
        "start_time": "2022-11-16T18:24:49.593Z"
      },
      {
        "duration": 5,
        "start_time": "2022-11-16T18:24:54.857Z"
      },
      {
        "duration": 37,
        "start_time": "2022-11-16T18:25:04.088Z"
      },
      {
        "duration": 69,
        "start_time": "2022-11-16T18:25:08.361Z"
      },
      {
        "duration": 5,
        "start_time": "2022-11-16T18:25:12.316Z"
      },
      {
        "duration": 9,
        "start_time": "2022-11-16T18:25:21.025Z"
      },
      {
        "duration": 7,
        "start_time": "2022-11-16T18:25:26.119Z"
      },
      {
        "duration": 8,
        "start_time": "2022-11-16T18:25:40.029Z"
      },
      {
        "duration": 6,
        "start_time": "2022-11-16T18:25:44.764Z"
      },
      {
        "duration": 8,
        "start_time": "2022-11-16T18:25:55.826Z"
      },
      {
        "duration": 36,
        "start_time": "2022-11-16T18:26:14.700Z"
      },
      {
        "duration": 4,
        "start_time": "2022-11-16T18:26:47.971Z"
      },
      {
        "duration": 4,
        "start_time": "2022-11-16T18:28:25.595Z"
      },
      {
        "duration": 16,
        "start_time": "2022-11-16T18:29:48.350Z"
      },
      {
        "duration": 3,
        "start_time": "2022-11-16T18:30:03.035Z"
      },
      {
        "duration": 332,
        "start_time": "2022-11-16T18:30:06.994Z"
      },
      {
        "duration": 254,
        "start_time": "2022-11-16T18:30:17.157Z"
      },
      {
        "duration": 247,
        "start_time": "2022-11-16T18:30:30.296Z"
      },
      {
        "duration": 272,
        "start_time": "2022-11-16T18:30:35.648Z"
      },
      {
        "duration": 183,
        "start_time": "2022-11-16T18:30:39.848Z"
      },
      {
        "duration": 276,
        "start_time": "2022-11-16T18:30:44.432Z"
      },
      {
        "duration": 3,
        "start_time": "2022-11-16T18:35:06.706Z"
      },
      {
        "duration": 128,
        "start_time": "2022-11-16T18:35:06.711Z"
      },
      {
        "duration": 18,
        "start_time": "2022-11-16T18:35:06.840Z"
      },
      {
        "duration": 2326,
        "start_time": "2022-11-16T18:35:06.879Z"
      },
      {
        "duration": 24,
        "start_time": "2022-11-16T18:35:09.208Z"
      },
      {
        "duration": 10,
        "start_time": "2022-11-16T18:35:09.235Z"
      },
      {
        "duration": 32,
        "start_time": "2022-11-16T18:35:09.247Z"
      },
      {
        "duration": 8,
        "start_time": "2022-11-16T18:35:09.281Z"
      },
      {
        "duration": 45,
        "start_time": "2022-11-16T18:35:09.290Z"
      },
      {
        "duration": 9,
        "start_time": "2022-11-16T18:35:09.336Z"
      },
      {
        "duration": 29,
        "start_time": "2022-11-16T18:35:09.349Z"
      },
      {
        "duration": 33,
        "start_time": "2022-11-16T18:35:09.380Z"
      },
      {
        "duration": 96,
        "start_time": "2022-11-16T18:35:09.414Z"
      },
      {
        "duration": 6,
        "start_time": "2022-11-16T18:35:09.512Z"
      },
      {
        "duration": 13,
        "start_time": "2022-11-16T18:35:09.520Z"
      },
      {
        "duration": 8,
        "start_time": "2022-11-16T18:35:09.535Z"
      },
      {
        "duration": 36,
        "start_time": "2022-11-16T18:35:09.545Z"
      },
      {
        "duration": 7,
        "start_time": "2022-11-16T18:35:09.583Z"
      },
      {
        "duration": 16,
        "start_time": "2022-11-16T18:35:09.592Z"
      },
      {
        "duration": 69,
        "start_time": "2022-11-16T18:35:09.610Z"
      },
      {
        "duration": 5,
        "start_time": "2022-11-16T18:35:09.681Z"
      },
      {
        "duration": 21,
        "start_time": "2022-11-16T18:35:09.688Z"
      },
      {
        "duration": 6,
        "start_time": "2022-11-16T18:35:09.711Z"
      },
      {
        "duration": 400,
        "start_time": "2022-11-16T18:35:09.719Z"
      },
      {
        "duration": 337,
        "start_time": "2022-11-16T18:35:10.122Z"
      },
      {
        "duration": 243,
        "start_time": "2022-11-16T18:35:10.461Z"
      },
      {
        "duration": 196,
        "start_time": "2022-11-16T18:35:10.705Z"
      },
      {
        "duration": 308,
        "start_time": "2022-11-16T18:35:10.903Z"
      },
      {
        "duration": 165,
        "start_time": "2022-11-16T18:35:11.215Z"
      },
      {
        "duration": 222,
        "start_time": "2022-11-16T18:35:11.382Z"
      },
      {
        "duration": 225,
        "start_time": "2022-11-16T18:35:11.605Z"
      },
      {
        "duration": 111,
        "start_time": "2022-11-16T18:35:11.832Z"
      },
      {
        "duration": 210,
        "start_time": "2022-11-16T18:35:11.945Z"
      },
      {
        "duration": 259,
        "start_time": "2022-11-16T18:35:12.157Z"
      },
      {
        "duration": 187,
        "start_time": "2022-11-16T18:35:12.418Z"
      },
      {
        "duration": 248,
        "start_time": "2022-11-16T18:35:12.607Z"
      },
      {
        "duration": 164,
        "start_time": "2022-11-16T18:35:12.857Z"
      },
      {
        "duration": 157,
        "start_time": "2022-11-16T18:35:13.023Z"
      },
      {
        "duration": 800,
        "start_time": "2022-11-16T18:35:13.182Z"
      },
      {
        "duration": 167,
        "start_time": "2022-11-16T18:35:13.984Z"
      },
      {
        "duration": 10,
        "start_time": "2022-11-16T18:35:14.154Z"
      },
      {
        "duration": 240,
        "start_time": "2022-11-16T18:35:14.178Z"
      },
      {
        "duration": 224,
        "start_time": "2022-11-16T18:35:14.420Z"
      },
      {
        "duration": 220,
        "start_time": "2022-11-16T18:35:14.646Z"
      },
      {
        "duration": 227,
        "start_time": "2022-11-16T18:35:14.868Z"
      },
      {
        "duration": 167,
        "start_time": "2022-11-16T18:35:15.097Z"
      },
      {
        "duration": 243,
        "start_time": "2022-11-16T18:35:15.265Z"
      },
      {
        "duration": 235,
        "start_time": "2022-11-16T18:35:15.510Z"
      },
      {
        "duration": 218,
        "start_time": "2022-11-16T18:35:15.748Z"
      },
      {
        "duration": 33,
        "start_time": "2022-11-16T18:35:15.968Z"
      },
      {
        "duration": 209,
        "start_time": "2022-11-16T18:35:16.003Z"
      },
      {
        "duration": 36,
        "start_time": "2022-11-16T18:35:16.214Z"
      },
      {
        "duration": 238,
        "start_time": "2022-11-16T18:35:16.252Z"
      },
      {
        "duration": 755,
        "start_time": "2022-11-17T04:44:48.826Z"
      },
      {
        "duration": 168,
        "start_time": "2022-11-17T04:44:52.697Z"
      },
      {
        "duration": 23,
        "start_time": "2022-11-17T04:52:31.712Z"
      },
      {
        "duration": 9,
        "start_time": "2022-11-17T04:52:33.112Z"
      },
      {
        "duration": 5,
        "start_time": "2022-11-17T04:52:38.627Z"
      },
      {
        "duration": 7,
        "start_time": "2022-11-17T04:52:38.799Z"
      },
      {
        "duration": 34,
        "start_time": "2022-11-17T04:52:39.249Z"
      },
      {
        "duration": 7,
        "start_time": "2022-11-17T04:52:39.686Z"
      },
      {
        "duration": 5,
        "start_time": "2022-11-17T04:52:39.967Z"
      },
      {
        "duration": 102,
        "start_time": "2022-11-17T04:52:40.183Z"
      },
      {
        "duration": 65,
        "start_time": "2022-11-17T04:52:41.624Z"
      },
      {
        "duration": 6,
        "start_time": "2022-11-17T04:52:42.134Z"
      },
      {
        "duration": 9,
        "start_time": "2022-11-17T04:52:42.447Z"
      },
      {
        "duration": 7,
        "start_time": "2022-11-17T04:52:42.873Z"
      },
      {
        "duration": 6,
        "start_time": "2022-11-17T04:52:43.134Z"
      },
      {
        "duration": 6,
        "start_time": "2022-11-17T04:52:43.421Z"
      },
      {
        "duration": 8,
        "start_time": "2022-11-17T04:52:43.749Z"
      },
      {
        "duration": 34,
        "start_time": "2022-11-17T04:52:46.343Z"
      },
      {
        "duration": 4,
        "start_time": "2022-11-17T04:52:47.256Z"
      },
      {
        "duration": 16,
        "start_time": "2022-11-17T04:52:51.073Z"
      },
      {
        "duration": 3,
        "start_time": "2022-11-17T04:53:15.663Z"
      },
      {
        "duration": 100,
        "start_time": "2022-11-17T04:53:16.271Z"
      },
      {
        "duration": 2,
        "start_time": "2022-11-17T04:55:54.025Z"
      },
      {
        "duration": 100,
        "start_time": "2022-11-17T04:55:54.030Z"
      },
      {
        "duration": 12,
        "start_time": "2022-11-17T04:55:54.132Z"
      },
      {
        "duration": 1888,
        "start_time": "2022-11-17T04:55:54.145Z"
      },
      {
        "duration": 21,
        "start_time": "2022-11-17T04:55:56.035Z"
      },
      {
        "duration": 8,
        "start_time": "2022-11-17T04:55:56.058Z"
      },
      {
        "duration": 5,
        "start_time": "2022-11-17T04:55:56.067Z"
      },
      {
        "duration": 6,
        "start_time": "2022-11-17T04:55:56.073Z"
      },
      {
        "duration": 42,
        "start_time": "2022-11-17T04:55:56.080Z"
      },
      {
        "duration": 6,
        "start_time": "2022-11-17T04:55:56.123Z"
      },
      {
        "duration": 6,
        "start_time": "2022-11-17T04:55:56.131Z"
      },
      {
        "duration": 24,
        "start_time": "2022-11-17T04:55:56.138Z"
      },
      {
        "duration": 84,
        "start_time": "2022-11-17T04:55:56.163Z"
      },
      {
        "duration": 5,
        "start_time": "2022-11-17T04:55:56.249Z"
      },
      {
        "duration": 11,
        "start_time": "2022-11-17T04:55:56.255Z"
      },
      {
        "duration": 6,
        "start_time": "2022-11-17T04:55:56.267Z"
      },
      {
        "duration": 7,
        "start_time": "2022-11-17T04:55:56.275Z"
      },
      {
        "duration": 32,
        "start_time": "2022-11-17T04:55:56.284Z"
      },
      {
        "duration": 8,
        "start_time": "2022-11-17T04:55:56.318Z"
      },
      {
        "duration": 36,
        "start_time": "2022-11-17T04:55:56.327Z"
      },
      {
        "duration": 4,
        "start_time": "2022-11-17T04:55:56.365Z"
      },
      {
        "duration": 15,
        "start_time": "2022-11-17T04:55:56.371Z"
      },
      {
        "duration": 4,
        "start_time": "2022-11-17T04:55:56.412Z"
      },
      {
        "duration": 331,
        "start_time": "2022-11-17T04:55:56.418Z"
      },
      {
        "duration": 254,
        "start_time": "2022-11-17T04:55:56.752Z"
      },
      {
        "duration": 307,
        "start_time": "2022-11-17T04:55:57.007Z"
      },
      {
        "duration": 178,
        "start_time": "2022-11-17T04:55:57.316Z"
      },
      {
        "duration": 244,
        "start_time": "2022-11-17T04:55:57.495Z"
      },
      {
        "duration": 127,
        "start_time": "2022-11-17T04:55:57.744Z"
      },
      {
        "duration": 182,
        "start_time": "2022-11-17T04:55:57.872Z"
      },
      {
        "duration": 195,
        "start_time": "2022-11-17T04:55:58.055Z"
      },
      {
        "duration": 110,
        "start_time": "2022-11-17T04:55:58.251Z"
      },
      {
        "duration": 183,
        "start_time": "2022-11-17T04:55:58.362Z"
      },
      {
        "duration": 252,
        "start_time": "2022-11-17T04:55:58.547Z"
      },
      {
        "duration": 249,
        "start_time": "2022-11-17T04:55:58.801Z"
      },
      {
        "duration": 232,
        "start_time": "2022-11-17T04:55:59.052Z"
      },
      {
        "duration": 136,
        "start_time": "2022-11-17T04:55:59.285Z"
      },
      {
        "duration": 134,
        "start_time": "2022-11-17T04:55:59.423Z"
      },
      {
        "duration": 369,
        "start_time": "2022-11-17T04:55:59.559Z"
      },
      {
        "duration": 124,
        "start_time": "2022-11-17T04:55:59.929Z"
      },
      {
        "duration": 8,
        "start_time": "2022-11-17T04:56:00.054Z"
      },
      {
        "duration": 204,
        "start_time": "2022-11-17T04:56:00.063Z"
      },
      {
        "duration": 359,
        "start_time": "2022-11-17T04:56:00.269Z"
      },
      {
        "duration": 283,
        "start_time": "2022-11-17T04:56:00.630Z"
      },
      {
        "duration": 208,
        "start_time": "2022-11-17T04:56:00.915Z"
      },
      {
        "duration": 137,
        "start_time": "2022-11-17T04:56:01.125Z"
      },
      {
        "duration": 216,
        "start_time": "2022-11-17T04:56:01.263Z"
      },
      {
        "duration": 211,
        "start_time": "2022-11-17T04:56:01.480Z"
      },
      {
        "duration": 227,
        "start_time": "2022-11-17T04:56:01.693Z"
      },
      {
        "duration": 26,
        "start_time": "2022-11-17T04:56:01.921Z"
      },
      {
        "duration": 165,
        "start_time": "2022-11-17T04:56:01.949Z"
      },
      {
        "duration": 29,
        "start_time": "2022-11-17T04:56:02.116Z"
      },
      {
        "duration": 202,
        "start_time": "2022-11-17T04:56:02.146Z"
      },
      {
        "duration": 4,
        "start_time": "2022-11-17T04:57:24.101Z"
      },
      {
        "duration": 40,
        "start_time": "2022-11-17T04:57:41.381Z"
      },
      {
        "duration": 4,
        "start_time": "2022-11-17T04:57:52.468Z"
      },
      {
        "duration": 3,
        "start_time": "2022-11-17T04:57:57.188Z"
      },
      {
        "duration": 109,
        "start_time": "2022-11-17T04:57:57.192Z"
      },
      {
        "duration": 21,
        "start_time": "2022-11-17T04:57:57.303Z"
      },
      {
        "duration": 1877,
        "start_time": "2022-11-17T04:57:57.325Z"
      },
      {
        "duration": 19,
        "start_time": "2022-11-17T04:57:59.204Z"
      },
      {
        "duration": 9,
        "start_time": "2022-11-17T04:57:59.225Z"
      },
      {
        "duration": 5,
        "start_time": "2022-11-17T04:57:59.235Z"
      },
      {
        "duration": 6,
        "start_time": "2022-11-17T04:57:59.242Z"
      },
      {
        "duration": 65,
        "start_time": "2022-11-17T04:57:59.249Z"
      },
      {
        "duration": 7,
        "start_time": "2022-11-17T04:57:59.316Z"
      },
      {
        "duration": 7,
        "start_time": "2022-11-17T04:57:59.326Z"
      },
      {
        "duration": 24,
        "start_time": "2022-11-17T04:57:59.335Z"
      },
      {
        "duration": 89,
        "start_time": "2022-11-17T04:57:59.361Z"
      },
      {
        "duration": 5,
        "start_time": "2022-11-17T04:57:59.451Z"
      },
      {
        "duration": 10,
        "start_time": "2022-11-17T04:57:59.457Z"
      },
      {
        "duration": 7,
        "start_time": "2022-11-17T04:57:59.468Z"
      },
      {
        "duration": 5,
        "start_time": "2022-11-17T04:57:59.476Z"
      },
      {
        "duration": 6,
        "start_time": "2022-11-17T04:57:59.482Z"
      },
      {
        "duration": 9,
        "start_time": "2022-11-17T04:57:59.512Z"
      },
      {
        "duration": 35,
        "start_time": "2022-11-17T04:57:59.523Z"
      },
      {
        "duration": 5,
        "start_time": "2022-11-17T04:57:59.560Z"
      },
      {
        "duration": 15,
        "start_time": "2022-11-17T04:57:59.566Z"
      },
      {
        "duration": 3,
        "start_time": "2022-11-17T04:57:59.583Z"
      },
      {
        "duration": 338,
        "start_time": "2022-11-17T04:57:59.613Z"
      },
      {
        "duration": 234,
        "start_time": "2022-11-17T04:57:59.953Z"
      },
      {
        "duration": 468,
        "start_time": "2022-11-17T04:58:00.189Z"
      },
      {
        "duration": 210,
        "start_time": "2022-11-17T04:58:00.659Z"
      },
      {
        "duration": 252,
        "start_time": "2022-11-17T04:58:00.870Z"
      },
      {
        "duration": 135,
        "start_time": "2022-11-17T04:58:01.126Z"
      },
      {
        "duration": 189,
        "start_time": "2022-11-17T04:58:01.263Z"
      },
      {
        "duration": 198,
        "start_time": "2022-11-17T04:58:01.454Z"
      },
      {
        "duration": 115,
        "start_time": "2022-11-17T04:58:01.654Z"
      },
      {
        "duration": 177,
        "start_time": "2022-11-17T04:58:01.770Z"
      },
      {
        "duration": 241,
        "start_time": "2022-11-17T04:58:01.948Z"
      },
      {
        "duration": 282,
        "start_time": "2022-11-17T04:58:02.190Z"
      },
      {
        "duration": 242,
        "start_time": "2022-11-17T04:58:02.474Z"
      },
      {
        "duration": 147,
        "start_time": "2022-11-17T04:58:02.718Z"
      },
      {
        "duration": 136,
        "start_time": "2022-11-17T04:58:02.867Z"
      },
      {
        "duration": 373,
        "start_time": "2022-11-17T04:58:03.005Z"
      },
      {
        "duration": 138,
        "start_time": "2022-11-17T04:58:03.380Z"
      },
      {
        "duration": 8,
        "start_time": "2022-11-17T04:58:03.520Z"
      },
      {
        "duration": 206,
        "start_time": "2022-11-17T04:58:03.529Z"
      },
      {
        "duration": 208,
        "start_time": "2022-11-17T04:58:03.737Z"
      },
      {
        "duration": 200,
        "start_time": "2022-11-17T04:58:03.947Z"
      },
      {
        "duration": 203,
        "start_time": "2022-11-17T04:58:04.149Z"
      },
      {
        "duration": 272,
        "start_time": "2022-11-17T04:58:04.354Z"
      },
      {
        "duration": 255,
        "start_time": "2022-11-17T04:58:04.628Z"
      },
      {
        "duration": 211,
        "start_time": "2022-11-17T04:58:04.884Z"
      },
      {
        "duration": 207,
        "start_time": "2022-11-17T04:58:05.097Z"
      },
      {
        "duration": 21,
        "start_time": "2022-11-17T04:58:05.306Z"
      },
      {
        "duration": 177,
        "start_time": "2022-11-17T04:58:05.329Z"
      },
      {
        "duration": 27,
        "start_time": "2022-11-17T04:58:05.507Z"
      },
      {
        "duration": 212,
        "start_time": "2022-11-17T04:58:05.535Z"
      },
      {
        "duration": 22,
        "start_time": "2022-11-17T04:58:40.268Z"
      },
      {
        "duration": 71,
        "start_time": "2022-11-17T05:00:53.665Z"
      },
      {
        "duration": 74,
        "start_time": "2022-11-17T05:00:56.482Z"
      },
      {
        "duration": 15,
        "start_time": "2022-11-17T05:04:07.790Z"
      },
      {
        "duration": 17,
        "start_time": "2022-11-17T05:09:55.094Z"
      },
      {
        "duration": 3,
        "start_time": "2022-11-17T05:10:07.286Z"
      },
      {
        "duration": 322,
        "start_time": "2022-11-17T05:10:07.816Z"
      },
      {
        "duration": 14,
        "start_time": "2022-11-17T05:12:50.672Z"
      },
      {
        "duration": 3,
        "start_time": "2022-11-17T05:12:52.689Z"
      },
      {
        "duration": 316,
        "start_time": "2022-11-17T05:12:52.894Z"
      },
      {
        "duration": 251,
        "start_time": "2022-11-17T05:12:55.375Z"
      },
      {
        "duration": 227,
        "start_time": "2022-11-17T05:12:57.006Z"
      },
      {
        "duration": 326,
        "start_time": "2022-11-17T05:13:06.855Z"
      },
      {
        "duration": 226,
        "start_time": "2022-11-17T05:13:11.362Z"
      },
      {
        "duration": 236,
        "start_time": "2022-11-17T05:14:01.306Z"
      },
      {
        "duration": 14,
        "start_time": "2022-11-17T05:14:30.034Z"
      },
      {
        "duration": 3,
        "start_time": "2022-11-17T05:14:31.345Z"
      },
      {
        "duration": 325,
        "start_time": "2022-11-17T05:14:31.516Z"
      },
      {
        "duration": 243,
        "start_time": "2022-11-17T05:14:32.222Z"
      },
      {
        "duration": 253,
        "start_time": "2022-11-17T05:14:32.889Z"
      },
      {
        "duration": 173,
        "start_time": "2022-11-17T05:14:33.609Z"
      },
      {
        "duration": 425,
        "start_time": "2022-11-17T05:14:36.105Z"
      },
      {
        "duration": 77,
        "start_time": "2022-11-17T05:15:04.426Z"
      },
      {
        "duration": 14,
        "start_time": "2022-11-17T05:15:11.694Z"
      },
      {
        "duration": 3,
        "start_time": "2022-11-17T05:15:12.529Z"
      },
      {
        "duration": 341,
        "start_time": "2022-11-17T05:15:12.661Z"
      },
      {
        "duration": 14,
        "start_time": "2022-11-17T05:15:21.787Z"
      },
      {
        "duration": 2,
        "start_time": "2022-11-17T05:15:22.859Z"
      },
      {
        "duration": 309,
        "start_time": "2022-11-17T05:15:23.037Z"
      },
      {
        "duration": 2,
        "start_time": "2022-11-17T05:15:27.500Z"
      },
      {
        "duration": 108,
        "start_time": "2022-11-17T05:15:27.507Z"
      },
      {
        "duration": 15,
        "start_time": "2022-11-17T05:15:27.617Z"
      },
      {
        "duration": 1943,
        "start_time": "2022-11-17T05:15:27.634Z"
      },
      {
        "duration": 20,
        "start_time": "2022-11-17T05:15:29.580Z"
      },
      {
        "duration": 17,
        "start_time": "2022-11-17T05:15:29.602Z"
      },
      {
        "duration": 4,
        "start_time": "2022-11-17T05:15:29.621Z"
      },
      {
        "duration": 6,
        "start_time": "2022-11-17T05:15:29.627Z"
      },
      {
        "duration": 30,
        "start_time": "2022-11-17T05:15:29.634Z"
      },
      {
        "duration": 6,
        "start_time": "2022-11-17T05:15:29.665Z"
      },
      {
        "duration": 38,
        "start_time": "2022-11-17T05:15:29.674Z"
      },
      {
        "duration": 23,
        "start_time": "2022-11-17T05:15:29.714Z"
      },
      {
        "duration": 76,
        "start_time": "2022-11-17T05:15:29.738Z"
      },
      {
        "duration": 5,
        "start_time": "2022-11-17T05:15:29.815Z"
      },
      {
        "duration": 9,
        "start_time": "2022-11-17T05:15:29.822Z"
      },
      {
        "duration": 7,
        "start_time": "2022-11-17T05:15:29.832Z"
      },
      {
        "duration": 5,
        "start_time": "2022-11-17T05:15:29.840Z"
      },
      {
        "duration": 4,
        "start_time": "2022-11-17T05:15:29.847Z"
      },
      {
        "duration": 7,
        "start_time": "2022-11-17T05:15:29.853Z"
      },
      {
        "duration": 70,
        "start_time": "2022-11-17T05:15:29.861Z"
      },
      {
        "duration": 15,
        "start_time": "2022-11-17T05:15:29.932Z"
      },
      {
        "duration": 3,
        "start_time": "2022-11-17T05:15:29.949Z"
      },
      {
        "duration": 358,
        "start_time": "2022-11-17T05:15:29.953Z"
      },
      {
        "duration": 308,
        "start_time": "2022-11-17T05:15:30.313Z"
      },
      {
        "duration": 249,
        "start_time": "2022-11-17T05:15:30.622Z"
      },
      {
        "duration": 217,
        "start_time": "2022-11-17T05:15:30.873Z"
      },
      {
        "duration": 252,
        "start_time": "2022-11-17T05:15:31.092Z"
      },
      {
        "duration": 146,
        "start_time": "2022-11-17T05:15:31.346Z"
      },
      {
        "duration": 384,
        "start_time": "2022-11-17T05:15:31.495Z"
      },
      {
        "duration": 244,
        "start_time": "2022-11-17T05:15:31.881Z"
      },
      {
        "duration": 111,
        "start_time": "2022-11-17T05:15:32.127Z"
      },
      {
        "duration": 179,
        "start_time": "2022-11-17T05:15:32.240Z"
      },
      {
        "duration": 244,
        "start_time": "2022-11-17T05:15:32.420Z"
      },
      {
        "duration": 182,
        "start_time": "2022-11-17T05:15:32.666Z"
      },
      {
        "duration": 230,
        "start_time": "2022-11-17T05:15:32.850Z"
      },
      {
        "duration": 140,
        "start_time": "2022-11-17T05:15:33.081Z"
      },
      {
        "duration": 120,
        "start_time": "2022-11-17T05:15:33.222Z"
      },
      {
        "duration": 362,
        "start_time": "2022-11-17T05:15:33.343Z"
      },
      {
        "duration": 291,
        "start_time": "2022-11-17T05:15:33.706Z"
      },
      {
        "duration": 21,
        "start_time": "2022-11-17T05:15:33.999Z"
      },
      {
        "duration": 202,
        "start_time": "2022-11-17T05:15:34.021Z"
      },
      {
        "duration": 212,
        "start_time": "2022-11-17T05:15:34.224Z"
      },
      {
        "duration": 202,
        "start_time": "2022-11-17T05:15:34.437Z"
      },
      {
        "duration": 239,
        "start_time": "2022-11-17T05:15:34.641Z"
      },
      {
        "duration": 136,
        "start_time": "2022-11-17T05:15:34.881Z"
      },
      {
        "duration": 208,
        "start_time": "2022-11-17T05:15:35.019Z"
      },
      {
        "duration": 210,
        "start_time": "2022-11-17T05:15:35.229Z"
      },
      {
        "duration": 208,
        "start_time": "2022-11-17T05:15:35.441Z"
      },
      {
        "duration": 23,
        "start_time": "2022-11-17T05:15:35.650Z"
      },
      {
        "duration": 182,
        "start_time": "2022-11-17T05:15:35.675Z"
      },
      {
        "duration": 26,
        "start_time": "2022-11-17T05:15:35.859Z"
      },
      {
        "duration": 200,
        "start_time": "2022-11-17T05:15:35.886Z"
      },
      {
        "duration": 117,
        "start_time": "2022-11-17T05:16:33.805Z"
      },
      {
        "duration": 167,
        "start_time": "2022-11-17T05:16:41.485Z"
      },
      {
        "duration": 122,
        "start_time": "2022-11-17T05:17:32.350Z"
      },
      {
        "duration": 145,
        "start_time": "2022-11-17T05:18:08.328Z"
      },
      {
        "duration": 3,
        "start_time": "2022-11-17T05:18:28.081Z"
      },
      {
        "duration": 103,
        "start_time": "2022-11-17T05:18:28.087Z"
      },
      {
        "duration": 29,
        "start_time": "2022-11-17T05:18:28.192Z"
      },
      {
        "duration": 1982,
        "start_time": "2022-11-17T05:18:28.224Z"
      },
      {
        "duration": 23,
        "start_time": "2022-11-17T05:18:30.208Z"
      },
      {
        "duration": 8,
        "start_time": "2022-11-17T05:18:30.233Z"
      },
      {
        "duration": 8,
        "start_time": "2022-11-17T05:18:30.242Z"
      },
      {
        "duration": 19,
        "start_time": "2022-11-17T05:18:30.252Z"
      },
      {
        "duration": 69,
        "start_time": "2022-11-17T05:18:30.272Z"
      },
      {
        "duration": 8,
        "start_time": "2022-11-17T05:18:30.343Z"
      },
      {
        "duration": 20,
        "start_time": "2022-11-17T05:18:30.354Z"
      },
      {
        "duration": 50,
        "start_time": "2022-11-17T05:18:30.376Z"
      },
      {
        "duration": 113,
        "start_time": "2022-11-17T05:18:30.428Z"
      },
      {
        "duration": 7,
        "start_time": "2022-11-17T05:18:30.542Z"
      },
      {
        "duration": 16,
        "start_time": "2022-11-17T05:18:30.551Z"
      },
      {
        "duration": 17,
        "start_time": "2022-11-17T05:18:30.569Z"
      },
      {
        "duration": 16,
        "start_time": "2022-11-17T05:18:30.588Z"
      },
      {
        "duration": 20,
        "start_time": "2022-11-17T05:18:30.606Z"
      },
      {
        "duration": 25,
        "start_time": "2022-11-17T05:18:30.627Z"
      },
      {
        "duration": 42,
        "start_time": "2022-11-17T05:18:30.654Z"
      },
      {
        "duration": 16,
        "start_time": "2022-11-17T05:18:30.698Z"
      },
      {
        "duration": 3,
        "start_time": "2022-11-17T05:18:30.716Z"
      },
      {
        "duration": 339,
        "start_time": "2022-11-17T05:18:30.720Z"
      },
      {
        "duration": 243,
        "start_time": "2022-11-17T05:18:31.061Z"
      },
      {
        "duration": 270,
        "start_time": "2022-11-17T05:18:31.306Z"
      },
      {
        "duration": 193,
        "start_time": "2022-11-17T05:18:31.577Z"
      },
      {
        "duration": 259,
        "start_time": "2022-11-17T05:18:31.772Z"
      },
      {
        "duration": 138,
        "start_time": "2022-11-17T05:18:32.032Z"
      },
      {
        "duration": 154,
        "start_time": "2022-11-17T05:18:32.173Z"
      },
      {
        "duration": 191,
        "start_time": "2022-11-17T05:18:32.329Z"
      },
      {
        "duration": 106,
        "start_time": "2022-11-17T05:18:32.522Z"
      },
      {
        "duration": 191,
        "start_time": "2022-11-17T05:18:32.630Z"
      },
      {
        "duration": 252,
        "start_time": "2022-11-17T05:18:32.823Z"
      },
      {
        "duration": 442,
        "start_time": "2022-11-17T05:18:33.077Z"
      },
      {
        "duration": 246,
        "start_time": "2022-11-17T05:18:33.521Z"
      },
      {
        "duration": 149,
        "start_time": "2022-11-17T05:18:33.769Z"
      },
      {
        "duration": 131,
        "start_time": "2022-11-17T05:18:33.920Z"
      },
      {
        "duration": 366,
        "start_time": "2022-11-17T05:18:34.053Z"
      },
      {
        "duration": 134,
        "start_time": "2022-11-17T05:18:34.423Z"
      },
      {
        "duration": 10,
        "start_time": "2022-11-17T05:18:34.558Z"
      },
      {
        "duration": 244,
        "start_time": "2022-11-17T05:18:34.569Z"
      },
      {
        "duration": 212,
        "start_time": "2022-11-17T05:18:34.814Z"
      },
      {
        "duration": 211,
        "start_time": "2022-11-17T05:18:35.029Z"
      },
      {
        "duration": 208,
        "start_time": "2022-11-17T05:18:35.242Z"
      },
      {
        "duration": 139,
        "start_time": "2022-11-17T05:18:35.452Z"
      },
      {
        "duration": 216,
        "start_time": "2022-11-17T05:18:35.593Z"
      },
      {
        "duration": 258,
        "start_time": "2022-11-17T05:18:35.811Z"
      },
      {
        "duration": 212,
        "start_time": "2022-11-17T05:18:36.071Z"
      },
      {
        "duration": 32,
        "start_time": "2022-11-17T05:18:36.285Z"
      },
      {
        "duration": 180,
        "start_time": "2022-11-17T05:18:36.319Z"
      },
      {
        "duration": 45,
        "start_time": "2022-11-17T05:18:36.501Z"
      },
      {
        "duration": 258,
        "start_time": "2022-11-17T05:18:36.549Z"
      },
      {
        "duration": 131,
        "start_time": "2022-11-17T05:19:26.104Z"
      },
      {
        "duration": 148,
        "start_time": "2022-11-17T05:19:33.407Z"
      },
      {
        "duration": 8,
        "start_time": "2022-11-17T05:20:02.385Z"
      },
      {
        "duration": 3,
        "start_time": "2022-11-17T05:20:26.291Z"
      },
      {
        "duration": 99,
        "start_time": "2022-11-17T05:20:27.090Z"
      },
      {
        "duration": 14,
        "start_time": "2022-11-17T05:20:31.065Z"
      },
      {
        "duration": 2007,
        "start_time": "2022-11-17T05:20:31.731Z"
      },
      {
        "duration": 25,
        "start_time": "2022-11-17T05:20:40.308Z"
      },
      {
        "duration": 8,
        "start_time": "2022-11-17T05:20:41.977Z"
      },
      {
        "duration": 5,
        "start_time": "2022-11-17T05:20:47.423Z"
      },
      {
        "duration": 7,
        "start_time": "2022-11-17T05:20:48.401Z"
      },
      {
        "duration": 35,
        "start_time": "2022-11-17T05:20:55.393Z"
      },
      {
        "duration": 8,
        "start_time": "2022-11-17T05:21:00.481Z"
      },
      {
        "duration": 7,
        "start_time": "2022-11-17T05:21:02.756Z"
      },
      {
        "duration": 37,
        "start_time": "2022-11-17T05:21:03.186Z"
      },
      {
        "duration": 71,
        "start_time": "2022-11-17T05:21:04.705Z"
      },
      {
        "duration": 6,
        "start_time": "2022-11-17T05:21:05.497Z"
      },
      {
        "duration": 8,
        "start_time": "2022-11-17T05:21:07.433Z"
      },
      {
        "duration": 7,
        "start_time": "2022-11-17T05:21:12.355Z"
      },
      {
        "duration": 6,
        "start_time": "2022-11-17T05:21:17.185Z"
      },
      {
        "duration": 8,
        "start_time": "2022-11-17T05:21:20.313Z"
      },
      {
        "duration": 9,
        "start_time": "2022-11-17T05:21:25.514Z"
      },
      {
        "duration": 35,
        "start_time": "2022-11-17T05:21:38.460Z"
      },
      {
        "duration": 16,
        "start_time": "2022-11-17T05:21:45.474Z"
      },
      {
        "duration": 3,
        "start_time": "2022-11-17T05:21:46.265Z"
      },
      {
        "duration": 340,
        "start_time": "2022-11-17T05:21:46.908Z"
      },
      {
        "duration": 235,
        "start_time": "2022-11-17T05:21:58.097Z"
      },
      {
        "duration": 254,
        "start_time": "2022-11-17T05:22:00.446Z"
      },
      {
        "duration": 175,
        "start_time": "2022-11-17T05:22:04.346Z"
      },
      {
        "duration": 248,
        "start_time": "2022-11-17T05:22:08.498Z"
      },
      {
        "duration": 117,
        "start_time": "2022-11-17T05:22:23.122Z"
      },
      {
        "duration": 356,
        "start_time": "2022-11-17T05:24:34.814Z"
      },
      {
        "duration": 384,
        "start_time": "2022-11-17T05:25:00.305Z"
      },
      {
        "duration": 597,
        "start_time": "2022-11-17T05:28:16.166Z"
      },
      {
        "duration": 307,
        "start_time": "2022-11-17T05:28:25.779Z"
      },
      {
        "duration": 261,
        "start_time": "2022-11-17T05:28:50.909Z"
      },
      {
        "duration": 209,
        "start_time": "2022-11-17T05:29:36.505Z"
      },
      {
        "duration": 233,
        "start_time": "2022-11-17T05:30:11.709Z"
      },
      {
        "duration": 125,
        "start_time": "2022-11-17T05:30:46.391Z"
      },
      {
        "duration": 150,
        "start_time": "2022-11-17T05:31:45.025Z"
      },
      {
        "duration": 175,
        "start_time": "2022-11-17T05:32:50.825Z"
      },
      {
        "duration": 101,
        "start_time": "2022-11-17T05:33:12.225Z"
      },
      {
        "duration": 197,
        "start_time": "2022-11-17T05:33:46.802Z"
      },
      {
        "duration": 240,
        "start_time": "2022-11-17T05:34:29.475Z"
      },
      {
        "duration": 15,
        "start_time": "2022-11-17T05:51:48.136Z"
      },
      {
        "duration": 3,
        "start_time": "2022-11-17T05:51:52.135Z"
      },
      {
        "duration": 314,
        "start_time": "2022-11-17T05:51:52.307Z"
      },
      {
        "duration": 174,
        "start_time": "2022-11-17T05:52:15.848Z"
      },
      {
        "duration": 15,
        "start_time": "2022-11-17T05:52:55.136Z"
      },
      {
        "duration": 3,
        "start_time": "2022-11-17T05:52:57.303Z"
      },
      {
        "duration": 667,
        "start_time": "2022-11-17T05:52:57.913Z"
      },
      {
        "duration": 15,
        "start_time": "2022-11-17T05:53:46.274Z"
      },
      {
        "duration": 3,
        "start_time": "2022-11-17T05:53:47.786Z"
      },
      {
        "duration": 318,
        "start_time": "2022-11-17T05:53:48.144Z"
      },
      {
        "duration": 14,
        "start_time": "2022-11-17T05:54:05.653Z"
      },
      {
        "duration": 3,
        "start_time": "2022-11-17T05:54:06.581Z"
      },
      {
        "duration": 318,
        "start_time": "2022-11-17T05:54:06.757Z"
      },
      {
        "duration": 314,
        "start_time": "2022-11-17T05:54:12.812Z"
      },
      {
        "duration": 14,
        "start_time": "2022-11-17T05:54:23.906Z"
      },
      {
        "duration": 4,
        "start_time": "2022-11-17T05:54:25.128Z"
      },
      {
        "duration": 325,
        "start_time": "2022-11-17T05:54:25.891Z"
      },
      {
        "duration": 2,
        "start_time": "2022-11-17T05:54:29.412Z"
      },
      {
        "duration": 100,
        "start_time": "2022-11-17T05:54:29.418Z"
      },
      {
        "duration": 13,
        "start_time": "2022-11-17T05:54:29.520Z"
      },
      {
        "duration": 1819,
        "start_time": "2022-11-17T05:54:29.534Z"
      },
      {
        "duration": 20,
        "start_time": "2022-11-17T05:54:31.355Z"
      },
      {
        "duration": 8,
        "start_time": "2022-11-17T05:54:31.377Z"
      },
      {
        "duration": 6,
        "start_time": "2022-11-17T05:54:31.386Z"
      },
      {
        "duration": 6,
        "start_time": "2022-11-17T05:54:31.413Z"
      },
      {
        "duration": 32,
        "start_time": "2022-11-17T05:54:31.420Z"
      },
      {
        "duration": 6,
        "start_time": "2022-11-17T05:54:31.453Z"
      },
      {
        "duration": 6,
        "start_time": "2022-11-17T05:54:31.461Z"
      },
      {
        "duration": 316,
        "start_time": "2022-11-17T05:54:31.469Z"
      },
      {
        "duration": 74,
        "start_time": "2022-11-17T05:54:31.786Z"
      },
      {
        "duration": 5,
        "start_time": "2022-11-17T05:54:31.862Z"
      },
      {
        "duration": 13,
        "start_time": "2022-11-17T05:54:31.868Z"
      },
      {
        "duration": 8,
        "start_time": "2022-11-17T05:54:31.883Z"
      },
      {
        "duration": 20,
        "start_time": "2022-11-17T05:54:31.893Z"
      },
      {
        "duration": 7,
        "start_time": "2022-11-17T05:54:31.914Z"
      },
      {
        "duration": 8,
        "start_time": "2022-11-17T05:54:31.922Z"
      },
      {
        "duration": 35,
        "start_time": "2022-11-17T05:54:31.932Z"
      },
      {
        "duration": 17,
        "start_time": "2022-11-17T05:54:31.968Z"
      },
      {
        "duration": 3,
        "start_time": "2022-11-17T05:54:31.987Z"
      },
      {
        "duration": 336,
        "start_time": "2022-11-17T05:54:32.013Z"
      },
      {
        "duration": 276,
        "start_time": "2022-11-17T05:54:32.351Z"
      },
      {
        "duration": 255,
        "start_time": "2022-11-17T05:54:32.629Z"
      },
      {
        "duration": 192,
        "start_time": "2022-11-17T05:54:32.885Z"
      },
      {
        "duration": 259,
        "start_time": "2022-11-17T05:54:33.078Z"
      },
      {
        "duration": 138,
        "start_time": "2022-11-17T05:54:33.339Z"
      },
      {
        "duration": 162,
        "start_time": "2022-11-17T05:54:33.480Z"
      },
      {
        "duration": 186,
        "start_time": "2022-11-17T05:54:33.644Z"
      },
      {
        "duration": 112,
        "start_time": "2022-11-17T05:54:33.832Z"
      },
      {
        "duration": 180,
        "start_time": "2022-11-17T05:54:33.946Z"
      },
      {
        "duration": 262,
        "start_time": "2022-11-17T05:54:34.128Z"
      },
      {
        "duration": 168,
        "start_time": "2022-11-17T05:54:34.392Z"
      },
      {
        "duration": 271,
        "start_time": "2022-11-17T05:54:34.562Z"
      },
      {
        "duration": 153,
        "start_time": "2022-11-17T05:54:34.835Z"
      },
      {
        "duration": 146,
        "start_time": "2022-11-17T05:54:34.990Z"
      },
      {
        "duration": 666,
        "start_time": "2022-11-17T05:54:35.138Z"
      },
      {
        "duration": 134,
        "start_time": "2022-11-17T05:54:35.806Z"
      },
      {
        "duration": 9,
        "start_time": "2022-11-17T05:54:35.942Z"
      },
      {
        "duration": 208,
        "start_time": "2022-11-17T05:54:35.952Z"
      },
      {
        "duration": 204,
        "start_time": "2022-11-17T05:54:36.162Z"
      },
      {
        "duration": 197,
        "start_time": "2022-11-17T05:54:36.368Z"
      },
      {
        "duration": 201,
        "start_time": "2022-11-17T05:54:36.567Z"
      },
      {
        "duration": 128,
        "start_time": "2022-11-17T05:54:36.770Z"
      },
      {
        "duration": 219,
        "start_time": "2022-11-17T05:54:36.900Z"
      },
      {
        "duration": 198,
        "start_time": "2022-11-17T05:54:37.121Z"
      },
      {
        "duration": 218,
        "start_time": "2022-11-17T05:54:37.321Z"
      },
      {
        "duration": 21,
        "start_time": "2022-11-17T05:54:37.541Z"
      },
      {
        "duration": 173,
        "start_time": "2022-11-17T05:54:37.564Z"
      },
      {
        "duration": 25,
        "start_time": "2022-11-17T05:54:37.739Z"
      },
      {
        "duration": 212,
        "start_time": "2022-11-17T05:54:37.766Z"
      },
      {
        "duration": 352,
        "start_time": "2022-11-17T05:55:53.916Z"
      },
      {
        "duration": 240,
        "start_time": "2022-11-17T05:55:57.101Z"
      },
      {
        "duration": 180,
        "start_time": "2022-11-17T05:56:02.308Z"
      },
      {
        "duration": 238,
        "start_time": "2022-11-17T05:56:09.877Z"
      },
      {
        "duration": 161,
        "start_time": "2022-11-17T05:56:55.645Z"
      },
      {
        "duration": 228,
        "start_time": "2022-11-17T05:57:26.622Z"
      },
      {
        "duration": 127,
        "start_time": "2022-11-17T05:57:57.690Z"
      },
      {
        "duration": 132,
        "start_time": "2022-11-17T05:58:05.733Z"
      },
      {
        "duration": 122,
        "start_time": "2022-11-17T05:58:21.962Z"
      },
      {
        "duration": 431,
        "start_time": "2022-11-17T05:59:28.335Z"
      },
      {
        "duration": 498,
        "start_time": "2022-11-17T05:59:46.856Z"
      },
      {
        "duration": 136,
        "start_time": "2022-11-17T06:00:44.091Z"
      },
      {
        "duration": 134,
        "start_time": "2022-11-17T06:00:50.122Z"
      },
      {
        "duration": 334,
        "start_time": "2022-11-17T06:03:11.676Z"
      },
      {
        "duration": 7,
        "start_time": "2022-11-17T06:04:18.070Z"
      },
      {
        "duration": 7,
        "start_time": "2022-11-17T06:04:31.117Z"
      },
      {
        "duration": 6,
        "start_time": "2022-11-17T06:05:07.658Z"
      },
      {
        "duration": 234,
        "start_time": "2022-11-17T06:12:01.673Z"
      },
      {
        "duration": 194,
        "start_time": "2022-11-17T06:20:07.619Z"
      },
      {
        "duration": 180,
        "start_time": "2022-11-17T06:20:12.730Z"
      },
      {
        "duration": 195,
        "start_time": "2022-11-17T06:20:18.282Z"
      },
      {
        "duration": 182,
        "start_time": "2022-11-17T06:20:23.253Z"
      },
      {
        "duration": 191,
        "start_time": "2022-11-17T06:20:28.577Z"
      },
      {
        "duration": 118,
        "start_time": "2022-11-17T06:20:38.798Z"
      },
      {
        "duration": 191,
        "start_time": "2022-11-17T06:20:52.233Z"
      },
      {
        "duration": 81,
        "start_time": "2022-11-17T06:24:08.829Z"
      },
      {
        "duration": 7,
        "start_time": "2022-11-17T06:25:26.031Z"
      },
      {
        "duration": 7,
        "start_time": "2022-11-17T06:26:12.725Z"
      },
      {
        "duration": 16,
        "start_time": "2022-11-17T06:26:27.368Z"
      },
      {
        "duration": 12,
        "start_time": "2022-11-17T06:26:47.627Z"
      },
      {
        "duration": 194,
        "start_time": "2022-11-17T06:26:57.094Z"
      },
      {
        "duration": 196,
        "start_time": "2022-11-17T06:27:34.850Z"
      },
      {
        "duration": 244,
        "start_time": "2022-11-17T06:27:45.505Z"
      },
      {
        "duration": 234,
        "start_time": "2022-11-17T06:28:25.410Z"
      },
      {
        "duration": 175,
        "start_time": "2022-11-17T06:28:36.868Z"
      },
      {
        "duration": 14,
        "start_time": "2022-11-17T06:30:13.174Z"
      },
      {
        "duration": 119,
        "start_time": "2022-11-17T06:31:06.918Z"
      },
      {
        "duration": 111,
        "start_time": "2022-11-17T06:31:15.590Z"
      },
      {
        "duration": 108,
        "start_time": "2022-11-17T06:32:14.052Z"
      },
      {
        "duration": 171,
        "start_time": "2022-11-17T06:32:19.390Z"
      },
      {
        "duration": 135,
        "start_time": "2022-11-17T06:32:55.687Z"
      },
      {
        "duration": 130,
        "start_time": "2022-11-17T06:33:06.967Z"
      },
      {
        "duration": 150,
        "start_time": "2022-11-17T06:34:40.322Z"
      },
      {
        "duration": 143,
        "start_time": "2022-11-17T06:36:39.292Z"
      },
      {
        "duration": 123,
        "start_time": "2022-11-17T06:38:02.174Z"
      },
      {
        "duration": 136,
        "start_time": "2022-11-17T06:39:26.863Z"
      },
      {
        "duration": 108,
        "start_time": "2022-11-17T06:39:46.777Z"
      },
      {
        "duration": 122,
        "start_time": "2022-11-17T06:39:52.520Z"
      },
      {
        "duration": 13,
        "start_time": "2022-11-17T06:40:09.203Z"
      },
      {
        "duration": 20,
        "start_time": "2022-11-17T06:40:17.745Z"
      },
      {
        "duration": 453,
        "start_time": "2022-11-17T06:40:28.897Z"
      },
      {
        "duration": 121,
        "start_time": "2022-11-17T06:40:41.125Z"
      },
      {
        "duration": 174,
        "start_time": "2022-11-17T06:53:27.234Z"
      },
      {
        "duration": 68,
        "start_time": "2022-11-17T06:57:32.422Z"
      },
      {
        "duration": 174,
        "start_time": "2022-11-17T06:57:43.194Z"
      },
      {
        "duration": 184,
        "start_time": "2022-11-17T06:58:49.706Z"
      },
      {
        "duration": 177,
        "start_time": "2022-11-17T07:23:37.606Z"
      },
      {
        "duration": 3,
        "start_time": "2022-11-17T08:52:51.314Z"
      },
      {
        "duration": 110,
        "start_time": "2022-11-17T08:52:51.319Z"
      },
      {
        "duration": 15,
        "start_time": "2022-11-17T08:52:51.431Z"
      },
      {
        "duration": 1786,
        "start_time": "2022-11-17T08:52:51.447Z"
      },
      {
        "duration": 19,
        "start_time": "2022-11-17T08:52:53.236Z"
      },
      {
        "duration": 7,
        "start_time": "2022-11-17T08:52:53.257Z"
      },
      {
        "duration": 5,
        "start_time": "2022-11-17T08:52:53.265Z"
      },
      {
        "duration": 8,
        "start_time": "2022-11-17T08:52:53.272Z"
      },
      {
        "duration": 56,
        "start_time": "2022-11-17T08:52:53.281Z"
      },
      {
        "duration": 6,
        "start_time": "2022-11-17T08:52:53.339Z"
      },
      {
        "duration": 6,
        "start_time": "2022-11-17T08:52:53.346Z"
      },
      {
        "duration": 24,
        "start_time": "2022-11-17T08:52:53.353Z"
      },
      {
        "duration": 92,
        "start_time": "2022-11-17T08:52:53.378Z"
      },
      {
        "duration": 6,
        "start_time": "2022-11-17T08:52:53.473Z"
      },
      {
        "duration": 10,
        "start_time": "2022-11-17T08:52:53.481Z"
      },
      {
        "duration": 25,
        "start_time": "2022-11-17T08:52:53.493Z"
      },
      {
        "duration": 6,
        "start_time": "2022-11-17T08:52:53.520Z"
      },
      {
        "duration": 6,
        "start_time": "2022-11-17T08:52:53.528Z"
      },
      {
        "duration": 9,
        "start_time": "2022-11-17T08:52:53.536Z"
      },
      {
        "duration": 35,
        "start_time": "2022-11-17T08:52:53.546Z"
      },
      {
        "duration": 42,
        "start_time": "2022-11-17T08:52:53.583Z"
      },
      {
        "duration": 3,
        "start_time": "2022-11-17T08:52:53.627Z"
      },
      {
        "duration": 346,
        "start_time": "2022-11-17T08:52:53.632Z"
      },
      {
        "duration": 315,
        "start_time": "2022-11-17T08:52:53.980Z"
      },
      {
        "duration": 272,
        "start_time": "2022-11-17T08:52:54.297Z"
      },
      {
        "duration": 224,
        "start_time": "2022-11-17T08:52:54.570Z"
      },
      {
        "duration": 275,
        "start_time": "2022-11-17T08:52:54.796Z"
      },
      {
        "duration": 147,
        "start_time": "2022-11-17T08:52:55.073Z"
      },
      {
        "duration": 521,
        "start_time": "2022-11-17T08:52:55.221Z"
      },
      {
        "duration": 211,
        "start_time": "2022-11-17T08:52:55.744Z"
      },
      {
        "duration": 144,
        "start_time": "2022-11-17T08:52:55.957Z"
      },
      {
        "duration": 178,
        "start_time": "2022-11-17T08:52:56.103Z"
      },
      {
        "duration": 248,
        "start_time": "2022-11-17T08:52:56.283Z"
      },
      {
        "duration": 182,
        "start_time": "2022-11-17T08:52:56.534Z"
      },
      {
        "duration": 240,
        "start_time": "2022-11-17T08:52:56.718Z"
      },
      {
        "duration": 144,
        "start_time": "2022-11-17T08:52:56.964Z"
      },
      {
        "duration": 132,
        "start_time": "2022-11-17T08:52:57.110Z"
      },
      {
        "duration": 383,
        "start_time": "2022-11-17T08:52:57.243Z"
      },
      {
        "duration": 124,
        "start_time": "2022-11-17T08:52:57.628Z"
      },
      {
        "duration": 10,
        "start_time": "2022-11-17T08:52:57.753Z"
      },
      {
        "duration": 243,
        "start_time": "2022-11-17T08:52:57.766Z"
      },
      {
        "duration": 180,
        "start_time": "2022-11-17T08:52:58.012Z"
      },
      {
        "duration": 206,
        "start_time": "2022-11-17T08:52:58.193Z"
      },
      {
        "duration": 191,
        "start_time": "2022-11-17T08:52:58.401Z"
      },
      {
        "duration": 202,
        "start_time": "2022-11-17T08:52:58.593Z"
      },
      {
        "duration": 133,
        "start_time": "2022-11-17T08:52:58.796Z"
      },
      {
        "duration": 113,
        "start_time": "2022-11-17T08:52:58.931Z"
      },
      {
        "duration": 148,
        "start_time": "2022-11-17T08:52:59.046Z"
      },
      {
        "duration": 126,
        "start_time": "2022-11-17T08:52:59.195Z"
      },
      {
        "duration": 20,
        "start_time": "2022-11-17T08:52:59.323Z"
      },
      {
        "duration": 178,
        "start_time": "2022-11-17T08:52:59.345Z"
      },
      {
        "duration": 25,
        "start_time": "2022-11-17T08:52:59.524Z"
      },
      {
        "duration": 209,
        "start_time": "2022-11-17T08:52:59.550Z"
      },
      {
        "duration": 3,
        "start_time": "2022-11-17T08:57:24.944Z"
      },
      {
        "duration": 106,
        "start_time": "2022-11-17T08:57:24.951Z"
      },
      {
        "duration": 14,
        "start_time": "2022-11-17T08:57:25.059Z"
      },
      {
        "duration": 2171,
        "start_time": "2022-11-17T08:57:25.075Z"
      },
      {
        "duration": 22,
        "start_time": "2022-11-17T08:57:27.248Z"
      },
      {
        "duration": 9,
        "start_time": "2022-11-17T08:57:27.271Z"
      },
      {
        "duration": 6,
        "start_time": "2022-11-17T08:57:27.281Z"
      },
      {
        "duration": 7,
        "start_time": "2022-11-17T08:57:27.313Z"
      },
      {
        "duration": 30,
        "start_time": "2022-11-17T08:57:27.321Z"
      },
      {
        "duration": 6,
        "start_time": "2022-11-17T08:57:27.353Z"
      },
      {
        "duration": 5,
        "start_time": "2022-11-17T08:57:27.361Z"
      },
      {
        "duration": 58,
        "start_time": "2022-11-17T08:57:27.368Z"
      },
      {
        "duration": 66,
        "start_time": "2022-11-17T08:57:27.427Z"
      },
      {
        "duration": 18,
        "start_time": "2022-11-17T08:57:27.495Z"
      },
      {
        "duration": 10,
        "start_time": "2022-11-17T08:57:27.515Z"
      },
      {
        "duration": 7,
        "start_time": "2022-11-17T08:57:27.526Z"
      },
      {
        "duration": 6,
        "start_time": "2022-11-17T08:57:27.534Z"
      },
      {
        "duration": 8,
        "start_time": "2022-11-17T08:57:27.541Z"
      },
      {
        "duration": 9,
        "start_time": "2022-11-17T08:57:27.551Z"
      },
      {
        "duration": 68,
        "start_time": "2022-11-17T08:57:27.562Z"
      },
      {
        "duration": 15,
        "start_time": "2022-11-17T08:57:27.632Z"
      },
      {
        "duration": 3,
        "start_time": "2022-11-17T08:57:27.649Z"
      },
      {
        "duration": 346,
        "start_time": "2022-11-17T08:57:27.653Z"
      },
      {
        "duration": 248,
        "start_time": "2022-11-17T08:57:28.001Z"
      },
      {
        "duration": 252,
        "start_time": "2022-11-17T08:57:28.251Z"
      },
      {
        "duration": 197,
        "start_time": "2022-11-17T08:57:28.505Z"
      },
      {
        "duration": 256,
        "start_time": "2022-11-17T08:57:28.703Z"
      },
      {
        "duration": 138,
        "start_time": "2022-11-17T08:57:28.961Z"
      },
      {
        "duration": 168,
        "start_time": "2022-11-17T08:57:29.103Z"
      },
      {
        "duration": 198,
        "start_time": "2022-11-17T08:57:29.272Z"
      },
      {
        "duration": 116,
        "start_time": "2022-11-17T08:57:29.472Z"
      },
      {
        "duration": 190,
        "start_time": "2022-11-17T08:57:29.589Z"
      },
      {
        "duration": 250,
        "start_time": "2022-11-17T08:57:29.781Z"
      },
      {
        "duration": 182,
        "start_time": "2022-11-17T08:57:30.033Z"
      },
      {
        "duration": 302,
        "start_time": "2022-11-17T08:57:30.216Z"
      },
      {
        "duration": 170,
        "start_time": "2022-11-17T08:57:30.519Z"
      },
      {
        "duration": 137,
        "start_time": "2022-11-17T08:57:30.690Z"
      },
      {
        "duration": 807,
        "start_time": "2022-11-17T08:57:30.829Z"
      },
      {
        "duration": 130,
        "start_time": "2022-11-17T08:57:31.638Z"
      },
      {
        "duration": 9,
        "start_time": "2022-11-17T08:57:31.770Z"
      },
      {
        "duration": 243,
        "start_time": "2022-11-17T08:57:31.781Z"
      },
      {
        "duration": 190,
        "start_time": "2022-11-17T08:57:32.025Z"
      },
      {
        "duration": 196,
        "start_time": "2022-11-17T08:57:32.217Z"
      },
      {
        "duration": 190,
        "start_time": "2022-11-17T08:57:32.415Z"
      },
      {
        "duration": 208,
        "start_time": "2022-11-17T08:57:32.607Z"
      },
      {
        "duration": 160,
        "start_time": "2022-11-17T08:57:32.817Z"
      },
      {
        "duration": 110,
        "start_time": "2022-11-17T08:57:32.979Z"
      },
      {
        "duration": 143,
        "start_time": "2022-11-17T08:57:33.091Z"
      },
      {
        "duration": 127,
        "start_time": "2022-11-17T08:57:33.235Z"
      },
      {
        "duration": 24,
        "start_time": "2022-11-17T08:57:33.364Z"
      },
      {
        "duration": 176,
        "start_time": "2022-11-17T08:57:33.389Z"
      },
      {
        "duration": 28,
        "start_time": "2022-11-17T08:57:33.567Z"
      },
      {
        "duration": 203,
        "start_time": "2022-11-17T08:57:33.596Z"
      },
      {
        "duration": 609,
        "start_time": "2022-11-17T17:59:46.912Z"
      },
      {
        "duration": 136,
        "start_time": "2022-11-17T17:59:47.523Z"
      },
      {
        "duration": 17,
        "start_time": "2022-11-17T17:59:47.661Z"
      },
      {
        "duration": 1951,
        "start_time": "2022-11-17T17:59:47.680Z"
      },
      {
        "duration": 24,
        "start_time": "2022-11-17T17:59:49.632Z"
      },
      {
        "duration": 83,
        "start_time": "2022-11-17T17:59:49.658Z"
      },
      {
        "duration": 0,
        "start_time": "2022-11-17T17:59:49.745Z"
      },
      {
        "duration": 0,
        "start_time": "2022-11-17T17:59:49.746Z"
      },
      {
        "duration": 0,
        "start_time": "2022-11-17T17:59:49.748Z"
      },
      {
        "duration": 0,
        "start_time": "2022-11-17T17:59:49.750Z"
      },
      {
        "duration": 0,
        "start_time": "2022-11-17T17:59:49.751Z"
      },
      {
        "duration": 0,
        "start_time": "2022-11-17T17:59:49.753Z"
      },
      {
        "duration": 0,
        "start_time": "2022-11-17T17:59:49.754Z"
      },
      {
        "duration": 0,
        "start_time": "2022-11-17T17:59:49.755Z"
      },
      {
        "duration": 0,
        "start_time": "2022-11-17T17:59:49.756Z"
      },
      {
        "duration": 0,
        "start_time": "2022-11-17T17:59:49.756Z"
      },
      {
        "duration": 0,
        "start_time": "2022-11-17T17:59:49.757Z"
      },
      {
        "duration": 0,
        "start_time": "2022-11-17T17:59:49.758Z"
      },
      {
        "duration": 0,
        "start_time": "2022-11-17T17:59:49.759Z"
      },
      {
        "duration": 0,
        "start_time": "2022-11-17T17:59:49.759Z"
      },
      {
        "duration": 0,
        "start_time": "2022-11-17T17:59:49.761Z"
      },
      {
        "duration": 0,
        "start_time": "2022-11-17T17:59:49.762Z"
      },
      {
        "duration": 0,
        "start_time": "2022-11-17T17:59:49.763Z"
      },
      {
        "duration": 0,
        "start_time": "2022-11-17T17:59:49.764Z"
      },
      {
        "duration": 0,
        "start_time": "2022-11-17T17:59:49.765Z"
      },
      {
        "duration": 0,
        "start_time": "2022-11-17T17:59:49.805Z"
      },
      {
        "duration": 0,
        "start_time": "2022-11-17T17:59:49.806Z"
      },
      {
        "duration": 0,
        "start_time": "2022-11-17T17:59:49.807Z"
      },
      {
        "duration": 0,
        "start_time": "2022-11-17T17:59:49.808Z"
      },
      {
        "duration": 0,
        "start_time": "2022-11-17T17:59:49.809Z"
      },
      {
        "duration": 0,
        "start_time": "2022-11-17T17:59:49.810Z"
      },
      {
        "duration": 0,
        "start_time": "2022-11-17T17:59:49.812Z"
      },
      {
        "duration": 0,
        "start_time": "2022-11-17T17:59:49.813Z"
      },
      {
        "duration": 0,
        "start_time": "2022-11-17T17:59:49.814Z"
      },
      {
        "duration": 0,
        "start_time": "2022-11-17T17:59:49.815Z"
      },
      {
        "duration": 0,
        "start_time": "2022-11-17T17:59:49.817Z"
      },
      {
        "duration": 0,
        "start_time": "2022-11-17T17:59:49.818Z"
      },
      {
        "duration": 0,
        "start_time": "2022-11-17T17:59:49.819Z"
      },
      {
        "duration": 0,
        "start_time": "2022-11-17T17:59:49.821Z"
      },
      {
        "duration": 0,
        "start_time": "2022-11-17T17:59:49.822Z"
      },
      {
        "duration": 0,
        "start_time": "2022-11-17T17:59:49.823Z"
      },
      {
        "duration": 0,
        "start_time": "2022-11-17T17:59:49.825Z"
      },
      {
        "duration": 0,
        "start_time": "2022-11-17T17:59:49.826Z"
      },
      {
        "duration": 0,
        "start_time": "2022-11-17T17:59:49.827Z"
      },
      {
        "duration": 0,
        "start_time": "2022-11-17T17:59:49.829Z"
      },
      {
        "duration": 0,
        "start_time": "2022-11-17T17:59:49.830Z"
      },
      {
        "duration": 0,
        "start_time": "2022-11-17T17:59:49.831Z"
      },
      {
        "duration": 0,
        "start_time": "2022-11-17T17:59:49.832Z"
      },
      {
        "duration": 0,
        "start_time": "2022-11-17T17:59:49.834Z"
      },
      {
        "duration": 0,
        "start_time": "2022-11-17T17:59:49.835Z"
      },
      {
        "duration": 0,
        "start_time": "2022-11-17T17:59:49.837Z"
      },
      {
        "duration": 0,
        "start_time": "2022-11-17T17:59:49.838Z"
      },
      {
        "duration": 0,
        "start_time": "2022-11-17T17:59:49.839Z"
      },
      {
        "duration": 44,
        "start_time": "2022-11-17T18:11:48.971Z"
      },
      {
        "duration": 727,
        "start_time": "2022-11-17T18:11:58.051Z"
      },
      {
        "duration": 340,
        "start_time": "2022-11-17T18:11:58.780Z"
      },
      {
        "duration": 16,
        "start_time": "2022-11-17T18:11:59.122Z"
      },
      {
        "duration": 1898,
        "start_time": "2022-11-17T18:11:59.140Z"
      },
      {
        "duration": 24,
        "start_time": "2022-11-17T18:12:01.040Z"
      },
      {
        "duration": 10,
        "start_time": "2022-11-17T18:12:01.066Z"
      },
      {
        "duration": 6,
        "start_time": "2022-11-17T18:12:01.078Z"
      },
      {
        "duration": 15,
        "start_time": "2022-11-17T18:12:01.086Z"
      },
      {
        "duration": 39,
        "start_time": "2022-11-17T18:12:01.102Z"
      },
      {
        "duration": 6,
        "start_time": "2022-11-17T18:12:01.143Z"
      },
      {
        "duration": 30,
        "start_time": "2022-11-17T18:12:01.150Z"
      },
      {
        "duration": 28,
        "start_time": "2022-11-17T18:12:01.182Z"
      },
      {
        "duration": 75,
        "start_time": "2022-11-17T18:12:01.212Z"
      },
      {
        "duration": 5,
        "start_time": "2022-11-17T18:12:01.289Z"
      },
      {
        "duration": 30,
        "start_time": "2022-11-17T18:12:01.298Z"
      },
      {
        "duration": 28,
        "start_time": "2022-11-17T18:12:01.330Z"
      },
      {
        "duration": 18,
        "start_time": "2022-11-17T18:12:01.359Z"
      },
      {
        "duration": 26,
        "start_time": "2022-11-17T18:12:01.379Z"
      },
      {
        "duration": 28,
        "start_time": "2022-11-17T18:12:01.407Z"
      },
      {
        "duration": 42,
        "start_time": "2022-11-17T18:12:01.437Z"
      },
      {
        "duration": 13,
        "start_time": "2022-11-17T18:12:01.481Z"
      },
      {
        "duration": 15,
        "start_time": "2022-11-17T18:12:01.496Z"
      },
      {
        "duration": 353,
        "start_time": "2022-11-17T18:12:01.512Z"
      },
      {
        "duration": 252,
        "start_time": "2022-11-17T18:12:01.867Z"
      },
      {
        "duration": 321,
        "start_time": "2022-11-17T18:12:02.120Z"
      },
      {
        "duration": 186,
        "start_time": "2022-11-17T18:12:02.442Z"
      },
      {
        "duration": 267,
        "start_time": "2022-11-17T18:12:02.630Z"
      },
      {
        "duration": 134,
        "start_time": "2022-11-17T18:12:02.902Z"
      },
      {
        "duration": 162,
        "start_time": "2022-11-17T18:12:03.038Z"
      },
      {
        "duration": 183,
        "start_time": "2022-11-17T18:12:03.202Z"
      },
      {
        "duration": 111,
        "start_time": "2022-11-17T18:12:03.386Z"
      },
      {
        "duration": 183,
        "start_time": "2022-11-17T18:12:03.499Z"
      },
      {
        "duration": 244,
        "start_time": "2022-11-17T18:12:03.684Z"
      },
      {
        "duration": 257,
        "start_time": "2022-11-17T18:12:03.930Z"
      },
      {
        "duration": 252,
        "start_time": "2022-11-17T18:12:04.189Z"
      },
      {
        "duration": 143,
        "start_time": "2022-11-17T18:12:04.442Z"
      },
      {
        "duration": 119,
        "start_time": "2022-11-17T18:12:04.586Z"
      },
      {
        "duration": 432,
        "start_time": "2022-11-17T18:12:04.706Z"
      },
      {
        "duration": 132,
        "start_time": "2022-11-17T18:12:05.139Z"
      },
      {
        "duration": 8,
        "start_time": "2022-11-17T18:12:05.273Z"
      },
      {
        "duration": 232,
        "start_time": "2022-11-17T18:12:05.282Z"
      },
      {
        "duration": 275,
        "start_time": "2022-11-17T18:12:05.515Z"
      },
      {
        "duration": 206,
        "start_time": "2022-11-17T18:12:05.791Z"
      },
      {
        "duration": 191,
        "start_time": "2022-11-17T18:12:05.999Z"
      },
      {
        "duration": 200,
        "start_time": "2022-11-17T18:12:06.197Z"
      },
      {
        "duration": 118,
        "start_time": "2022-11-17T18:12:06.399Z"
      },
      {
        "duration": 121,
        "start_time": "2022-11-17T18:12:06.519Z"
      },
      {
        "duration": 147,
        "start_time": "2022-11-17T18:12:06.642Z"
      },
      {
        "duration": 127,
        "start_time": "2022-11-17T18:12:06.791Z"
      },
      {
        "duration": 21,
        "start_time": "2022-11-17T18:12:06.920Z"
      },
      {
        "duration": 170,
        "start_time": "2022-11-17T18:12:06.943Z"
      },
      {
        "duration": 26,
        "start_time": "2022-11-17T18:12:07.115Z"
      },
      {
        "duration": 195,
        "start_time": "2022-11-17T18:12:07.143Z"
      },
      {
        "duration": 133,
        "start_time": "2022-11-17T18:17:44.899Z"
      },
      {
        "duration": 210,
        "start_time": "2022-11-17T18:18:27.253Z"
      },
      {
        "duration": 143,
        "start_time": "2022-11-17T18:19:10.907Z"
      },
      {
        "duration": 134,
        "start_time": "2022-11-17T18:19:27.128Z"
      },
      {
        "duration": 159,
        "start_time": "2022-11-17T18:20:33.250Z"
      },
      {
        "duration": 2,
        "start_time": "2022-11-17T18:21:14.495Z"
      },
      {
        "duration": 109,
        "start_time": "2022-11-17T18:21:14.499Z"
      },
      {
        "duration": 14,
        "start_time": "2022-11-17T18:21:14.609Z"
      },
      {
        "duration": 1858,
        "start_time": "2022-11-17T18:21:14.624Z"
      },
      {
        "duration": 31,
        "start_time": "2022-11-17T18:21:16.484Z"
      },
      {
        "duration": 8,
        "start_time": "2022-11-17T18:21:16.516Z"
      },
      {
        "duration": 4,
        "start_time": "2022-11-17T18:21:16.526Z"
      },
      {
        "duration": 6,
        "start_time": "2022-11-17T18:21:16.532Z"
      },
      {
        "duration": 33,
        "start_time": "2022-11-17T18:21:16.539Z"
      },
      {
        "duration": 26,
        "start_time": "2022-11-17T18:21:16.573Z"
      },
      {
        "duration": 6,
        "start_time": "2022-11-17T18:21:16.601Z"
      },
      {
        "duration": 23,
        "start_time": "2022-11-17T18:21:16.608Z"
      },
      {
        "duration": 79,
        "start_time": "2022-11-17T18:21:16.633Z"
      },
      {
        "duration": 5,
        "start_time": "2022-11-17T18:21:16.713Z"
      },
      {
        "duration": 9,
        "start_time": "2022-11-17T18:21:16.720Z"
      },
      {
        "duration": 6,
        "start_time": "2022-11-17T18:21:16.730Z"
      },
      {
        "duration": 5,
        "start_time": "2022-11-17T18:21:16.737Z"
      },
      {
        "duration": 13,
        "start_time": "2022-11-17T18:21:16.743Z"
      },
      {
        "duration": 9,
        "start_time": "2022-11-17T18:21:16.758Z"
      },
      {
        "duration": 55,
        "start_time": "2022-11-17T18:21:16.768Z"
      },
      {
        "duration": 15,
        "start_time": "2022-11-17T18:21:16.824Z"
      },
      {
        "duration": 3,
        "start_time": "2022-11-17T18:21:16.840Z"
      },
      {
        "duration": 345,
        "start_time": "2022-11-17T18:21:16.844Z"
      },
      {
        "duration": 261,
        "start_time": "2022-11-17T18:21:17.191Z"
      },
      {
        "duration": 250,
        "start_time": "2022-11-17T18:21:17.454Z"
      },
      {
        "duration": 204,
        "start_time": "2022-11-17T18:21:17.706Z"
      },
      {
        "duration": 382,
        "start_time": "2022-11-17T18:21:17.912Z"
      },
      {
        "duration": 139,
        "start_time": "2022-11-17T18:21:18.296Z"
      },
      {
        "duration": 171,
        "start_time": "2022-11-17T18:21:18.439Z"
      },
      {
        "duration": 196,
        "start_time": "2022-11-17T18:21:18.612Z"
      },
      {
        "duration": 116,
        "start_time": "2022-11-17T18:21:18.809Z"
      },
      {
        "duration": 199,
        "start_time": "2022-11-17T18:21:18.926Z"
      },
      {
        "duration": 263,
        "start_time": "2022-11-17T18:21:19.127Z"
      },
      {
        "duration": 180,
        "start_time": "2022-11-17T18:21:19.391Z"
      },
      {
        "duration": 238,
        "start_time": "2022-11-17T18:21:19.572Z"
      },
      {
        "duration": 255,
        "start_time": "2022-11-17T18:21:19.812Z"
      },
      {
        "duration": 152,
        "start_time": "2022-11-17T18:21:20.069Z"
      },
      {
        "duration": 387,
        "start_time": "2022-11-17T18:21:20.222Z"
      },
      {
        "duration": 133,
        "start_time": "2022-11-17T18:21:20.611Z"
      },
      {
        "duration": 11,
        "start_time": "2022-11-17T18:21:20.746Z"
      },
      {
        "duration": 281,
        "start_time": "2022-11-17T18:21:20.758Z"
      },
      {
        "duration": 207,
        "start_time": "2022-11-17T18:21:21.041Z"
      },
      {
        "duration": 187,
        "start_time": "2022-11-17T18:21:21.250Z"
      },
      {
        "duration": 184,
        "start_time": "2022-11-17T18:21:21.438Z"
      },
      {
        "duration": 246,
        "start_time": "2022-11-17T18:21:21.623Z"
      },
      {
        "duration": 139,
        "start_time": "2022-11-17T18:21:21.871Z"
      },
      {
        "duration": 134,
        "start_time": "2022-11-17T18:21:22.011Z"
      },
      {
        "duration": 160,
        "start_time": "2022-11-17T18:21:22.146Z"
      },
      {
        "duration": 151,
        "start_time": "2022-11-17T18:21:22.308Z"
      },
      {
        "duration": 25,
        "start_time": "2022-11-17T18:21:22.461Z"
      },
      {
        "duration": 165,
        "start_time": "2022-11-17T18:21:22.497Z"
      },
      {
        "duration": 34,
        "start_time": "2022-11-17T18:21:22.663Z"
      },
      {
        "duration": 176,
        "start_time": "2022-11-17T18:21:22.699Z"
      },
      {
        "duration": 641,
        "start_time": "2022-11-17T19:58:58.276Z"
      },
      {
        "duration": 108,
        "start_time": "2022-11-17T19:58:58.918Z"
      },
      {
        "duration": 14,
        "start_time": "2022-11-17T19:58:59.028Z"
      },
      {
        "duration": 1827,
        "start_time": "2022-11-17T19:58:59.043Z"
      },
      {
        "duration": 36,
        "start_time": "2022-11-17T19:59:00.872Z"
      },
      {
        "duration": 9,
        "start_time": "2022-11-17T19:59:00.909Z"
      },
      {
        "duration": 13,
        "start_time": "2022-11-17T19:59:00.920Z"
      },
      {
        "duration": 18,
        "start_time": "2022-11-17T19:59:00.934Z"
      },
      {
        "duration": 49,
        "start_time": "2022-11-17T19:59:00.954Z"
      },
      {
        "duration": 6,
        "start_time": "2022-11-17T19:59:01.006Z"
      },
      {
        "duration": 9,
        "start_time": "2022-11-17T19:59:01.014Z"
      },
      {
        "duration": 37,
        "start_time": "2022-11-17T19:59:01.025Z"
      },
      {
        "duration": 77,
        "start_time": "2022-11-17T19:59:01.064Z"
      },
      {
        "duration": 4,
        "start_time": "2022-11-17T19:59:01.143Z"
      },
      {
        "duration": 15,
        "start_time": "2022-11-17T19:59:01.149Z"
      },
      {
        "duration": 13,
        "start_time": "2022-11-17T19:59:01.165Z"
      },
      {
        "duration": 17,
        "start_time": "2022-11-17T19:59:01.179Z"
      },
      {
        "duration": 10,
        "start_time": "2022-11-17T19:59:01.197Z"
      },
      {
        "duration": 15,
        "start_time": "2022-11-17T19:59:01.208Z"
      },
      {
        "duration": 38,
        "start_time": "2022-11-17T19:59:01.224Z"
      },
      {
        "duration": 14,
        "start_time": "2022-11-17T19:59:01.264Z"
      },
      {
        "duration": 10,
        "start_time": "2022-11-17T19:59:01.280Z"
      },
      {
        "duration": 356,
        "start_time": "2022-11-17T19:59:01.291Z"
      },
      {
        "duration": 267,
        "start_time": "2022-11-17T19:59:01.649Z"
      },
      {
        "duration": 340,
        "start_time": "2022-11-17T19:59:01.917Z"
      },
      {
        "duration": 214,
        "start_time": "2022-11-17T19:59:02.259Z"
      },
      {
        "duration": 268,
        "start_time": "2022-11-17T19:59:02.475Z"
      },
      {
        "duration": 147,
        "start_time": "2022-11-17T19:59:02.747Z"
      },
      {
        "duration": 161,
        "start_time": "2022-11-17T19:59:02.895Z"
      },
      {
        "duration": 177,
        "start_time": "2022-11-17T19:59:03.058Z"
      },
      {
        "duration": 102,
        "start_time": "2022-11-17T19:59:03.236Z"
      },
      {
        "duration": 179,
        "start_time": "2022-11-17T19:59:03.339Z"
      },
      {
        "duration": 248,
        "start_time": "2022-11-17T19:59:03.519Z"
      },
      {
        "duration": 265,
        "start_time": "2022-11-17T19:59:03.769Z"
      },
      {
        "duration": 243,
        "start_time": "2022-11-17T19:59:04.036Z"
      },
      {
        "duration": 140,
        "start_time": "2022-11-17T19:59:04.281Z"
      },
      {
        "duration": 135,
        "start_time": "2022-11-17T19:59:04.422Z"
      },
      {
        "duration": 387,
        "start_time": "2022-11-17T19:59:04.559Z"
      },
      {
        "duration": 142,
        "start_time": "2022-11-17T19:59:04.948Z"
      },
      {
        "duration": 13,
        "start_time": "2022-11-17T19:59:05.092Z"
      },
      {
        "duration": 234,
        "start_time": "2022-11-17T19:59:05.107Z"
      },
      {
        "duration": 270,
        "start_time": "2022-11-17T19:59:05.343Z"
      },
      {
        "duration": 200,
        "start_time": "2022-11-17T19:59:05.615Z"
      },
      {
        "duration": 197,
        "start_time": "2022-11-17T19:59:05.816Z"
      },
      {
        "duration": 204,
        "start_time": "2022-11-17T19:59:06.014Z"
      },
      {
        "duration": 122,
        "start_time": "2022-11-17T19:59:06.220Z"
      },
      {
        "duration": 129,
        "start_time": "2022-11-17T19:59:06.343Z"
      },
      {
        "duration": 148,
        "start_time": "2022-11-17T19:59:06.473Z"
      },
      {
        "duration": 140,
        "start_time": "2022-11-17T19:59:06.623Z"
      },
      {
        "duration": 20,
        "start_time": "2022-11-17T19:59:06.765Z"
      },
      {
        "duration": 168,
        "start_time": "2022-11-17T19:59:06.787Z"
      },
      {
        "duration": 25,
        "start_time": "2022-11-17T19:59:06.956Z"
      },
      {
        "duration": 198,
        "start_time": "2022-11-17T19:59:06.982Z"
      }
    ],
    "kernelspec": {
      "display_name": "Python 3 (ipykernel)",
      "language": "python",
      "name": "python3"
    },
    "language_info": {
      "codemirror_mode": {
        "name": "ipython",
        "version": 3
      },
      "file_extension": ".py",
      "mimetype": "text/x-python",
      "name": "python",
      "nbconvert_exporter": "python",
      "pygments_lexer": "ipython3",
      "version": "3.9.5"
    },
    "toc": {
      "base_numbering": 1,
      "nav_menu": {},
      "number_sections": true,
      "sideBar": true,
      "skip_h1_title": true,
      "title_cell": "Table of Contents",
      "title_sidebar": "Contents",
      "toc_cell": false,
      "toc_position": {},
      "toc_section_display": true,
      "toc_window_display": false
    },
    "colab": {
      "provenance": [],
      "include_colab_link": true
    }
  },
  "nbformat": 4,
  "nbformat_minor": 0
}