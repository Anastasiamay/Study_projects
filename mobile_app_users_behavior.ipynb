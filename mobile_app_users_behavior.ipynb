{
  "cells": [
    {
      "cell_type": "markdown",
      "metadata": {
        "id": "view-in-github",
        "colab_type": "text"
      },
      "source": [
        "<a href=\"https://colab.research.google.com/github/Anastasiamay/Study_projects/blob/main/mobile_app_users_behavior.ipynb\" target=\"_parent\"><img src=\"https://colab.research.google.com/assets/colab-badge.svg\" alt=\"Open In Colab\"/></a>"
      ]
    },
    {
      "cell_type": "markdown",
      "metadata": {
        "id": "dcAWpGztzoxw"
      },
      "source": [
        "# Проект: Исследование поведения пользователей мобильного приложения"
      ]
    },
    {
      "cell_type": "markdown",
      "metadata": {
        "id": "-rn0YHXEzoxx"
      },
      "source": [
        "# Описание проекта\n",
        "Было проведено А/А/В-тестирование мобильного приложения по продаже продуктов питания, а именно: смена шрифтов во всем приложении. Пользователей разделили на 3 группы: 2 контрольные и экспериментальная. По результататам тестирования был предоставлен датасет, который включает этапы воронки продаж. Необходимо проанализировать поведение пользователей\n",
        "\n",
        "**Цель:** провести анализ воронки продаж и результатов А/А/В-тестирования\n",
        "\n",
        "**Краткий план исследования**:\n",
        "* Изучить общую информацию\n",
        "* Подготовить данные для дальнейшего исследования\n",
        "* Изучить и проверить полученные данные\n",
        "* Проанализировать воронку продаж\n",
        "* Проанализировать результаты А/A/B-тестирования"
      ]
    },
    {
      "cell_type": "markdown",
      "metadata": {
        "id": "i1SiBZoXzoxz"
      },
      "source": [
        "### Загрузка данных и изучение общей информации"
      ]
    },
    {
      "cell_type": "code",
      "source": [
        "!pip install -U kaleido -q"
      ],
      "metadata": {
        "colab": {
          "base_uri": "https://localhost:8080/"
        },
        "id": "59QW7ZpWL39Z",
        "outputId": "18646db7-a2f8-4363-9ffb-9c1a19f9b7d6"
      },
      "execution_count": 1,
      "outputs": [
        {
          "output_type": "stream",
          "name": "stdout",
          "text": [
            "\u001b[2K     \u001b[90m━━━━━━━━━━━━━━━━━━━━━━━━━━━━━━━━━━━━━━━━\u001b[0m \u001b[32m79.9/79.9 MB\u001b[0m \u001b[31m8.6 MB/s\u001b[0m eta \u001b[36m0:00:00\u001b[0m\n",
            "\u001b[?25h"
          ]
        }
      ]
    },
    {
      "cell_type": "code",
      "execution_count": 2,
      "metadata": {
        "id": "wNIA8AyWzoxz"
      },
      "outputs": [],
      "source": [
        "import pandas as pd\n",
        "import scipy.stats as st\n",
        "import datetime as dt\n",
        "import numpy as np\n",
        "import math as mth\n",
        "from matplotlib import pyplot as plt\n",
        "import plotly.express as px\n",
        "import warnings\n",
        "warnings.filterwarnings(\"ignore\")\n",
        "import plotly.io as pio\n",
        "pio.renderers.default =\"png\""
      ]
    },
    {
      "cell_type": "code",
      "source": [
        "!gdown --id 1jBT8k_XpvQvyk275uoK5GroUUvc9mM9W"
      ],
      "metadata": {
        "colab": {
          "base_uri": "https://localhost:8080/"
        },
        "id": "Bnl0lCkIz8Yv",
        "outputId": "33cd5c6a-d5d6-446f-ca61-742a4445df8a"
      },
      "execution_count": 3,
      "outputs": [
        {
          "output_type": "stream",
          "name": "stdout",
          "text": [
            "/usr/local/lib/python3.10/dist-packages/gdown/cli.py:121: FutureWarning: Option `--id` was deprecated in version 4.3.1 and will be removed in 5.0. You don't need to pass it anymore to use a file ID.\n",
            "  warnings.warn(\n",
            "Downloading...\n",
            "From: https://drive.google.com/uc?id=1jBT8k_XpvQvyk275uoK5GroUUvc9mM9W\n",
            "To: /content/logs_exp.csv\n",
            "100% 13.2M/13.2M [00:00<00:00, 102MB/s] \n"
          ]
        }
      ]
    },
    {
      "cell_type": "code",
      "execution_count": 4,
      "metadata": {
        "id": "nNHDiczHzox4"
      },
      "outputs": [],
      "source": [
        "df = pd.read_csv('logs_exp.csv', sep='\\t')"
      ]
    },
    {
      "cell_type": "code",
      "execution_count": 5,
      "metadata": {
        "id": "ZSL7rMZazox5"
      },
      "outputs": [],
      "source": [
        "def data_info(data):\n",
        "    display(data.head())\n",
        "    display(data.info())\n",
        "    print(f'Количество дубликатов: {data.duplicated().sum()}')\n",
        "    print(f'Доля дубликатов: {round(data.duplicated().sum() / len(data) * 100, 2)}%')\n",
        "    print(f'Количество пропусков: \\n{data.isna().sum()}')"
      ]
    },
    {
      "cell_type": "code",
      "execution_count": 6,
      "metadata": {
        "colab": {
          "base_uri": "https://localhost:8080/",
          "height": 553
        },
        "id": "dCCWvTxdzox6",
        "outputId": "77f52ae2-9a0f-47e2-964a-48b0c9eca30e"
      },
      "outputs": [
        {
          "output_type": "display_data",
          "data": {
            "text/plain": [
              "                 EventName         DeviceIDHash  EventTimestamp  ExpId\n",
              "0         MainScreenAppear  4575588528974610257      1564029816    246\n",
              "1         MainScreenAppear  7416695313311560658      1564053102    246\n",
              "2  PaymentScreenSuccessful  3518123091307005509      1564054127    248\n",
              "3         CartScreenAppear  3518123091307005509      1564054127    248\n",
              "4  PaymentScreenSuccessful  6217807653094995999      1564055322    248"
            ],
            "text/html": [
              "\n",
              "  <div id=\"df-f7592664-56d7-4303-a72c-a92f804c8d7d\">\n",
              "    <div class=\"colab-df-container\">\n",
              "      <div>\n",
              "<style scoped>\n",
              "    .dataframe tbody tr th:only-of-type {\n",
              "        vertical-align: middle;\n",
              "    }\n",
              "\n",
              "    .dataframe tbody tr th {\n",
              "        vertical-align: top;\n",
              "    }\n",
              "\n",
              "    .dataframe thead th {\n",
              "        text-align: right;\n",
              "    }\n",
              "</style>\n",
              "<table border=\"1\" class=\"dataframe\">\n",
              "  <thead>\n",
              "    <tr style=\"text-align: right;\">\n",
              "      <th></th>\n",
              "      <th>EventName</th>\n",
              "      <th>DeviceIDHash</th>\n",
              "      <th>EventTimestamp</th>\n",
              "      <th>ExpId</th>\n",
              "    </tr>\n",
              "  </thead>\n",
              "  <tbody>\n",
              "    <tr>\n",
              "      <th>0</th>\n",
              "      <td>MainScreenAppear</td>\n",
              "      <td>4575588528974610257</td>\n",
              "      <td>1564029816</td>\n",
              "      <td>246</td>\n",
              "    </tr>\n",
              "    <tr>\n",
              "      <th>1</th>\n",
              "      <td>MainScreenAppear</td>\n",
              "      <td>7416695313311560658</td>\n",
              "      <td>1564053102</td>\n",
              "      <td>246</td>\n",
              "    </tr>\n",
              "    <tr>\n",
              "      <th>2</th>\n",
              "      <td>PaymentScreenSuccessful</td>\n",
              "      <td>3518123091307005509</td>\n",
              "      <td>1564054127</td>\n",
              "      <td>248</td>\n",
              "    </tr>\n",
              "    <tr>\n",
              "      <th>3</th>\n",
              "      <td>CartScreenAppear</td>\n",
              "      <td>3518123091307005509</td>\n",
              "      <td>1564054127</td>\n",
              "      <td>248</td>\n",
              "    </tr>\n",
              "    <tr>\n",
              "      <th>4</th>\n",
              "      <td>PaymentScreenSuccessful</td>\n",
              "      <td>6217807653094995999</td>\n",
              "      <td>1564055322</td>\n",
              "      <td>248</td>\n",
              "    </tr>\n",
              "  </tbody>\n",
              "</table>\n",
              "</div>\n",
              "      <button class=\"colab-df-convert\" onclick=\"convertToInteractive('df-f7592664-56d7-4303-a72c-a92f804c8d7d')\"\n",
              "              title=\"Convert this dataframe to an interactive table.\"\n",
              "              style=\"display:none;\">\n",
              "        \n",
              "  <svg xmlns=\"http://www.w3.org/2000/svg\" height=\"24px\"viewBox=\"0 0 24 24\"\n",
              "       width=\"24px\">\n",
              "    <path d=\"M0 0h24v24H0V0z\" fill=\"none\"/>\n",
              "    <path d=\"M18.56 5.44l.94 2.06.94-2.06 2.06-.94-2.06-.94-.94-2.06-.94 2.06-2.06.94zm-11 1L8.5 8.5l.94-2.06 2.06-.94-2.06-.94L8.5 2.5l-.94 2.06-2.06.94zm10 10l.94 2.06.94-2.06 2.06-.94-2.06-.94-.94-2.06-.94 2.06-2.06.94z\"/><path d=\"M17.41 7.96l-1.37-1.37c-.4-.4-.92-.59-1.43-.59-.52 0-1.04.2-1.43.59L10.3 9.45l-7.72 7.72c-.78.78-.78 2.05 0 2.83L4 21.41c.39.39.9.59 1.41.59.51 0 1.02-.2 1.41-.59l7.78-7.78 2.81-2.81c.8-.78.8-2.07 0-2.86zM5.41 20L4 18.59l7.72-7.72 1.47 1.35L5.41 20z\"/>\n",
              "  </svg>\n",
              "      </button>\n",
              "      \n",
              "  <style>\n",
              "    .colab-df-container {\n",
              "      display:flex;\n",
              "      flex-wrap:wrap;\n",
              "      gap: 12px;\n",
              "    }\n",
              "\n",
              "    .colab-df-convert {\n",
              "      background-color: #E8F0FE;\n",
              "      border: none;\n",
              "      border-radius: 50%;\n",
              "      cursor: pointer;\n",
              "      display: none;\n",
              "      fill: #1967D2;\n",
              "      height: 32px;\n",
              "      padding: 0 0 0 0;\n",
              "      width: 32px;\n",
              "    }\n",
              "\n",
              "    .colab-df-convert:hover {\n",
              "      background-color: #E2EBFA;\n",
              "      box-shadow: 0px 1px 2px rgba(60, 64, 67, 0.3), 0px 1px 3px 1px rgba(60, 64, 67, 0.15);\n",
              "      fill: #174EA6;\n",
              "    }\n",
              "\n",
              "    [theme=dark] .colab-df-convert {\n",
              "      background-color: #3B4455;\n",
              "      fill: #D2E3FC;\n",
              "    }\n",
              "\n",
              "    [theme=dark] .colab-df-convert:hover {\n",
              "      background-color: #434B5C;\n",
              "      box-shadow: 0px 1px 3px 1px rgba(0, 0, 0, 0.15);\n",
              "      filter: drop-shadow(0px 1px 2px rgba(0, 0, 0, 0.3));\n",
              "      fill: #FFFFFF;\n",
              "    }\n",
              "  </style>\n",
              "\n",
              "      <script>\n",
              "        const buttonEl =\n",
              "          document.querySelector('#df-f7592664-56d7-4303-a72c-a92f804c8d7d button.colab-df-convert');\n",
              "        buttonEl.style.display =\n",
              "          google.colab.kernel.accessAllowed ? 'block' : 'none';\n",
              "\n",
              "        async function convertToInteractive(key) {\n",
              "          const element = document.querySelector('#df-f7592664-56d7-4303-a72c-a92f804c8d7d');\n",
              "          const dataTable =\n",
              "            await google.colab.kernel.invokeFunction('convertToInteractive',\n",
              "                                                     [key], {});\n",
              "          if (!dataTable) return;\n",
              "\n",
              "          const docLinkHtml = 'Like what you see? Visit the ' +\n",
              "            '<a target=\"_blank\" href=https://colab.research.google.com/notebooks/data_table.ipynb>data table notebook</a>'\n",
              "            + ' to learn more about interactive tables.';\n",
              "          element.innerHTML = '';\n",
              "          dataTable['output_type'] = 'display_data';\n",
              "          await google.colab.output.renderOutput(dataTable, element);\n",
              "          const docLink = document.createElement('div');\n",
              "          docLink.innerHTML = docLinkHtml;\n",
              "          element.appendChild(docLink);\n",
              "        }\n",
              "      </script>\n",
              "    </div>\n",
              "  </div>\n",
              "  "
            ]
          },
          "metadata": {}
        },
        {
          "output_type": "stream",
          "name": "stdout",
          "text": [
            "<class 'pandas.core.frame.DataFrame'>\n",
            "RangeIndex: 244126 entries, 0 to 244125\n",
            "Data columns (total 4 columns):\n",
            " #   Column          Non-Null Count   Dtype \n",
            "---  ------          --------------   ----- \n",
            " 0   EventName       244126 non-null  object\n",
            " 1   DeviceIDHash    244126 non-null  int64 \n",
            " 2   EventTimestamp  244126 non-null  int64 \n",
            " 3   ExpId           244126 non-null  int64 \n",
            "dtypes: int64(3), object(1)\n",
            "memory usage: 7.5+ MB\n"
          ]
        },
        {
          "output_type": "display_data",
          "data": {
            "text/plain": [
              "None"
            ]
          },
          "metadata": {}
        },
        {
          "output_type": "stream",
          "name": "stdout",
          "text": [
            "Количество дубликатов: 413\n",
            "Доля дубликатов: 0.17%\n",
            "Количество пропусков: \n",
            "EventName         0\n",
            "DeviceIDHash      0\n",
            "EventTimestamp    0\n",
            "ExpId             0\n",
            "dtype: int64\n"
          ]
        }
      ],
      "source": [
        "data_info(df)"
      ]
    },
    {
      "cell_type": "markdown",
      "metadata": {
        "id": "-B1VCC7gzox8"
      },
      "source": [
        "Описание данных\n",
        "* EventName —  название события;\n",
        "* DeviceIDHash — уникальный идентификатор пользователя;\n",
        "* EventTimestamp — время события;\n",
        "* ExpId — номер эксперимента: 246 и 247 — контрольные группы, а 248 — экспериментальная."
      ]
    },
    {
      "cell_type": "markdown",
      "metadata": {
        "id": "bI1ES6Tszox8"
      },
      "source": [
        "В датасете необходимо изменить названия колонок, тип данных у колонки с датой. Дата представлена в формате секунд, необходимо привести дату в правильный формат. Добавить колонку с датой. В данных не обнаружены пропуски, но имеются дубликаты, которые составляют менее 1% данных, их необходимо удалить"
      ]
    },
    {
      "cell_type": "markdown",
      "metadata": {
        "id": "Dqb9Xkpdzox-"
      },
      "source": [
        "### Подготовка данных к анализу"
      ]
    },
    {
      "cell_type": "code",
      "execution_count": 7,
      "metadata": {
        "colab": {
          "base_uri": "https://localhost:8080/"
        },
        "id": "BWhaop8nzox_",
        "outputId": "3634373f-9134-4619-8c22-e474eacd8b1d"
      },
      "outputs": [
        {
          "output_type": "execute_result",
          "data": {
            "text/plain": [
              "Index(['event_name', 'user_id', 'event_time', 'group'], dtype='object')"
            ]
          },
          "metadata": {},
          "execution_count": 7
        }
      ],
      "source": [
        "df = df.rename(columns={'EventName': 'event_name', 'DeviceIDHash': 'user_id', 'EventTimestamp': 'event_time', 'ExpId': 'group'})\n",
        "df.columns"
      ]
    },
    {
      "cell_type": "code",
      "execution_count": 8,
      "metadata": {
        "colab": {
          "base_uri": "https://localhost:8080/"
        },
        "id": "owh0RGVXzoyA",
        "outputId": "a4cd88bb-384e-454d-e9c7-f54b4b46c5e5"
      },
      "outputs": [
        {
          "output_type": "execute_result",
          "data": {
            "text/plain": [
              "0"
            ]
          },
          "metadata": {},
          "execution_count": 8
        }
      ],
      "source": [
        "df = df.drop_duplicates()\n",
        "df.duplicated().sum()"
      ]
    },
    {
      "cell_type": "code",
      "execution_count": 9,
      "metadata": {
        "colab": {
          "base_uri": "https://localhost:8080/"
        },
        "id": "4RXjbSD2zoyB",
        "outputId": "cfc796d3-db51-4ccb-daf1-fad55d669a9d"
      },
      "outputs": [
        {
          "output_type": "stream",
          "name": "stdout",
          "text": [
            "<class 'pandas.core.frame.DataFrame'>\n",
            "Int64Index: 243713 entries, 0 to 244125\n",
            "Data columns (total 5 columns):\n",
            " #   Column      Non-Null Count   Dtype         \n",
            "---  ------      --------------   -----         \n",
            " 0   event_name  243713 non-null  object        \n",
            " 1   user_id     243713 non-null  int64         \n",
            " 2   event_time  243713 non-null  datetime64[ns]\n",
            " 3   group       243713 non-null  int64         \n",
            " 4   date        243713 non-null  datetime64[ns]\n",
            "dtypes: datetime64[ns](2), int64(2), object(1)\n",
            "memory usage: 11.2+ MB\n"
          ]
        }
      ],
      "source": [
        "df['event_time'] = pd.to_datetime(df['event_time'], unit='s')\n",
        "df['date'] = pd.to_datetime(df['event_time'].dt.date)\n",
        "df.info()"
      ]
    },
    {
      "cell_type": "markdown",
      "metadata": {
        "id": "gAKZguEZzoyB"
      },
      "source": [
        "Удалили явные дубликаты, изменили названия колонок, изменили тип данных у колонки с датой и временем, добавили колонку с датой"
      ]
    },
    {
      "cell_type": "markdown",
      "metadata": {
        "id": "ECdjowWyzoyC"
      },
      "source": [
        "### Проверка и изучение данных"
      ]
    },
    {
      "cell_type": "markdown",
      "metadata": {
        "id": "ml_XzCI4zoyD"
      },
      "source": [
        "Проверим, нет ли в датасете пользователей, которые участвовали более чем в одной группе"
      ]
    },
    {
      "cell_type": "code",
      "execution_count": 10,
      "metadata": {
        "colab": {
          "base_uri": "https://localhost:8080/"
        },
        "id": "JOpSKZcxzoyD",
        "outputId": "b0621cd0-881a-4c5b-aaae-497d5a87c61f"
      },
      "outputs": [
        {
          "output_type": "execute_result",
          "data": {
            "text/plain": [
              "0"
            ]
          },
          "metadata": {},
          "execution_count": 10
        }
      ],
      "source": [
        "counts = df.groupby('user_id')['group'].nunique().reset_index()\n",
        "counts[counts['group'] > 1].shape[0]"
      ]
    },
    {
      "cell_type": "code",
      "execution_count": 11,
      "metadata": {
        "colab": {
          "base_uri": "https://localhost:8080/"
        },
        "id": "uNjwBYhmzoyE",
        "outputId": "d78d569c-4e41-4b7a-b8f2-850c084d07c4"
      },
      "outputs": [
        {
          "output_type": "stream",
          "name": "stdout",
          "text": [
            "Всего событий: 243713\n",
            "Всего пользователей: 7551\n",
            "Минимальная дата в данных: 2019-07-25\n",
            "Максимальная дата в данных: 2019-08-07\n"
          ]
        }
      ],
      "source": [
        "print(f\"\"\"Всего событий: {len(df)}\n",
        "Всего пользователей: {df['user_id'].nunique()}\n",
        "Минимальная дата в данных: {min(df['event_time'].dt.date)}\n",
        "Максимальная дата в данных: {max(df['event_time'].dt.date)}\"\"\")"
      ]
    },
    {
      "cell_type": "code",
      "execution_count": 12,
      "metadata": {
        "colab": {
          "base_uri": "https://localhost:8080/",
          "height": 300
        },
        "id": "YxwGgSOwzoyF",
        "outputId": "1f3a9cac-a6c0-4dd8-d2d2-e1b730668ee6"
      },
      "outputs": [
        {
          "output_type": "execute_result",
          "data": {
            "text/plain": [
              "        event_name\n",
              "count  7551.000000\n",
              "mean     32.275593\n",
              "std      65.154219\n",
              "min       1.000000\n",
              "25%       9.000000\n",
              "50%      20.000000\n",
              "75%      37.000000\n",
              "max    2307.000000"
            ],
            "text/html": [
              "\n",
              "  <div id=\"df-e89cf90c-7777-4808-aa0e-cc569b51e51d\">\n",
              "    <div class=\"colab-df-container\">\n",
              "      <div>\n",
              "<style scoped>\n",
              "    .dataframe tbody tr th:only-of-type {\n",
              "        vertical-align: middle;\n",
              "    }\n",
              "\n",
              "    .dataframe tbody tr th {\n",
              "        vertical-align: top;\n",
              "    }\n",
              "\n",
              "    .dataframe thead th {\n",
              "        text-align: right;\n",
              "    }\n",
              "</style>\n",
              "<table border=\"1\" class=\"dataframe\">\n",
              "  <thead>\n",
              "    <tr style=\"text-align: right;\">\n",
              "      <th></th>\n",
              "      <th>event_name</th>\n",
              "    </tr>\n",
              "  </thead>\n",
              "  <tbody>\n",
              "    <tr>\n",
              "      <th>count</th>\n",
              "      <td>7551.000000</td>\n",
              "    </tr>\n",
              "    <tr>\n",
              "      <th>mean</th>\n",
              "      <td>32.275593</td>\n",
              "    </tr>\n",
              "    <tr>\n",
              "      <th>std</th>\n",
              "      <td>65.154219</td>\n",
              "    </tr>\n",
              "    <tr>\n",
              "      <th>min</th>\n",
              "      <td>1.000000</td>\n",
              "    </tr>\n",
              "    <tr>\n",
              "      <th>25%</th>\n",
              "      <td>9.000000</td>\n",
              "    </tr>\n",
              "    <tr>\n",
              "      <th>50%</th>\n",
              "      <td>20.000000</td>\n",
              "    </tr>\n",
              "    <tr>\n",
              "      <th>75%</th>\n",
              "      <td>37.000000</td>\n",
              "    </tr>\n",
              "    <tr>\n",
              "      <th>max</th>\n",
              "      <td>2307.000000</td>\n",
              "    </tr>\n",
              "  </tbody>\n",
              "</table>\n",
              "</div>\n",
              "      <button class=\"colab-df-convert\" onclick=\"convertToInteractive('df-e89cf90c-7777-4808-aa0e-cc569b51e51d')\"\n",
              "              title=\"Convert this dataframe to an interactive table.\"\n",
              "              style=\"display:none;\">\n",
              "        \n",
              "  <svg xmlns=\"http://www.w3.org/2000/svg\" height=\"24px\"viewBox=\"0 0 24 24\"\n",
              "       width=\"24px\">\n",
              "    <path d=\"M0 0h24v24H0V0z\" fill=\"none\"/>\n",
              "    <path d=\"M18.56 5.44l.94 2.06.94-2.06 2.06-.94-2.06-.94-.94-2.06-.94 2.06-2.06.94zm-11 1L8.5 8.5l.94-2.06 2.06-.94-2.06-.94L8.5 2.5l-.94 2.06-2.06.94zm10 10l.94 2.06.94-2.06 2.06-.94-2.06-.94-.94-2.06-.94 2.06-2.06.94z\"/><path d=\"M17.41 7.96l-1.37-1.37c-.4-.4-.92-.59-1.43-.59-.52 0-1.04.2-1.43.59L10.3 9.45l-7.72 7.72c-.78.78-.78 2.05 0 2.83L4 21.41c.39.39.9.59 1.41.59.51 0 1.02-.2 1.41-.59l7.78-7.78 2.81-2.81c.8-.78.8-2.07 0-2.86zM5.41 20L4 18.59l7.72-7.72 1.47 1.35L5.41 20z\"/>\n",
              "  </svg>\n",
              "      </button>\n",
              "      \n",
              "  <style>\n",
              "    .colab-df-container {\n",
              "      display:flex;\n",
              "      flex-wrap:wrap;\n",
              "      gap: 12px;\n",
              "    }\n",
              "\n",
              "    .colab-df-convert {\n",
              "      background-color: #E8F0FE;\n",
              "      border: none;\n",
              "      border-radius: 50%;\n",
              "      cursor: pointer;\n",
              "      display: none;\n",
              "      fill: #1967D2;\n",
              "      height: 32px;\n",
              "      padding: 0 0 0 0;\n",
              "      width: 32px;\n",
              "    }\n",
              "\n",
              "    .colab-df-convert:hover {\n",
              "      background-color: #E2EBFA;\n",
              "      box-shadow: 0px 1px 2px rgba(60, 64, 67, 0.3), 0px 1px 3px 1px rgba(60, 64, 67, 0.15);\n",
              "      fill: #174EA6;\n",
              "    }\n",
              "\n",
              "    [theme=dark] .colab-df-convert {\n",
              "      background-color: #3B4455;\n",
              "      fill: #D2E3FC;\n",
              "    }\n",
              "\n",
              "    [theme=dark] .colab-df-convert:hover {\n",
              "      background-color: #434B5C;\n",
              "      box-shadow: 0px 1px 3px 1px rgba(0, 0, 0, 0.15);\n",
              "      filter: drop-shadow(0px 1px 2px rgba(0, 0, 0, 0.3));\n",
              "      fill: #FFFFFF;\n",
              "    }\n",
              "  </style>\n",
              "\n",
              "      <script>\n",
              "        const buttonEl =\n",
              "          document.querySelector('#df-e89cf90c-7777-4808-aa0e-cc569b51e51d button.colab-df-convert');\n",
              "        buttonEl.style.display =\n",
              "          google.colab.kernel.accessAllowed ? 'block' : 'none';\n",
              "\n",
              "        async function convertToInteractive(key) {\n",
              "          const element = document.querySelector('#df-e89cf90c-7777-4808-aa0e-cc569b51e51d');\n",
              "          const dataTable =\n",
              "            await google.colab.kernel.invokeFunction('convertToInteractive',\n",
              "                                                     [key], {});\n",
              "          if (!dataTable) return;\n",
              "\n",
              "          const docLinkHtml = 'Like what you see? Visit the ' +\n",
              "            '<a target=\"_blank\" href=https://colab.research.google.com/notebooks/data_table.ipynb>data table notebook</a>'\n",
              "            + ' to learn more about interactive tables.';\n",
              "          element.innerHTML = '';\n",
              "          dataTable['output_type'] = 'display_data';\n",
              "          await google.colab.output.renderOutput(dataTable, element);\n",
              "          const docLink = document.createElement('div');\n",
              "          docLink.innerHTML = docLinkHtml;\n",
              "          element.appendChild(docLink);\n",
              "        }\n",
              "      </script>\n",
              "    </div>\n",
              "  </div>\n",
              "  "
            ]
          },
          "metadata": {},
          "execution_count": 12
        }
      ],
      "source": [
        "pivot = df.pivot_table(index='user_id', values='event_name', aggfunc='count')\n",
        "pivot.describe()"
      ]
    },
    {
      "cell_type": "markdown",
      "metadata": {
        "id": "LFA6hAX_zoyG"
      },
      "source": [
        "В среднем на пользователя приходится 32 события и 20 в медиане"
      ]
    },
    {
      "cell_type": "markdown",
      "metadata": {
        "id": "Hi1dTczBzoyH"
      },
      "source": [
        "Построим график распределения количества событий на пользователя, ограничим ось x, так как видно, что максимальное значение очень большое"
      ]
    },
    {
      "cell_type": "code",
      "execution_count": 13,
      "metadata": {
        "colab": {
          "base_uri": "https://localhost:8080/",
          "height": 496
        },
        "id": "8ZZNPBz8zoyH",
        "outputId": "ad3aeb9e-647f-4d8f-db6d-ef71f4f33bc9"
      },
      "outputs": [
        {
          "output_type": "display_data",
          "data": {
            "text/plain": [
              "<Figure size 1400x500 with 1 Axes>"
            ],
            "image/png": "[encoded data removed]"
          },
          "metadata": {}
        }
      ],
      "source": [
        "plt.figure(figsize=(14,5))\n",
        "plt.hist(pivot['event_name'], bins=90)\n",
        "plt.xlim(0, 300)\n",
        "plt.title('Количество событий на пользователя', fontsize=18)\n",
        "plt.xlabel('Количество событий', fontsize=12)\n",
        "plt.ylabel('Количество пользователей', fontsize=12);"
      ]
    },
    {
      "cell_type": "markdown",
      "metadata": {
        "id": "I_gVDmMUzoyI"
      },
      "source": [
        "Проверим, охватывают ли полные данные весь период с 25.07.2019 по 07.08.2019, построив гистограмму по дате и времени"
      ]
    },
    {
      "cell_type": "code",
      "execution_count": 14,
      "metadata": {
        "colab": {
          "base_uri": "https://localhost:8080/",
          "height": 539
        },
        "id": "lqODIKpMzoyI",
        "outputId": "9d3f9944-2960-48d8-df37-9bade7ecacc4"
      },
      "outputs": [
        {
          "output_type": "display_data",
          "data": {
            "text/plain": [
              "<Figure size 1400x500 with 1 Axes>"
            ],
            "image/png": "[encoded data removed]"
          },
          "metadata": {}
        }
      ],
      "source": [
        "plt.figure(figsize=(14,5))\n",
        "counts = df['date'].value_counts()\n",
        "plt.bar(counts.index, counts.values)\n",
        "plt.xticks(rotation=25, fontsize=12)\n",
        "plt.title('Распределение данных по дате', fontsize=18)\n",
        "plt.xlabel('Дата', fontsize=12)\n",
        "plt.ylabel('Количество событий', fontsize=12);"
      ]
    },
    {
      "cell_type": "code",
      "execution_count": 15,
      "metadata": {
        "colab": {
          "base_uri": "https://localhost:8080/",
          "height": 539
        },
        "id": "r-oTAWzJzoyK",
        "outputId": "1102e4cf-c573-4fdf-8d2f-1ed6bdf47efc"
      },
      "outputs": [
        {
          "output_type": "display_data",
          "data": {
            "text/plain": [
              "<Figure size 1400x500 with 1 Axes>"
            ],
            "image/png": "[encoded data removed]"
          },
          "metadata": {}
        }
      ],
      "source": [
        "plt.figure(figsize=(14,5))\n",
        "plt.hist(df['event_time'], bins=90)\n",
        "plt.xticks(rotation=25, fontsize=12)\n",
        "plt.title('Распределение данных по времени', fontsize=18)\n",
        "plt.xlabel('Дата', fontsize=12)\n",
        "plt.ylabel('Количество событий', fontsize=12);"
      ]
    },
    {
      "cell_type": "markdown",
      "metadata": {
        "id": "ip5aV9RTzoyL"
      },
      "source": [
        "По графику видим, что полные данные охватывают период c 01.08.2019 по 07.08.2019. Посмотрим, сколько данных потеряем при удалении более старых данных, то есть ранее 01.08.2019"
      ]
    },
    {
      "cell_type": "code",
      "execution_count": 16,
      "metadata": {
        "colab": {
          "base_uri": "https://localhost:8080/"
        },
        "id": "d9hIQgbnzoyL",
        "outputId": "9ec29a7b-2bd1-4852-c3ec-0d5c80e9d723"
      },
      "outputs": [
        {
          "output_type": "stream",
          "name": "stdout",
          "text": [
            "Количество удаленных событий: 2826\n",
            "Процент удаленных событий: 1.16\n",
            "Количество удаленных пользователей: 17\n",
            "Процент удаленных пользователей: 0.23\n",
            "В среднем на пользователя приходится 32 события\n"
          ]
        }
      ],
      "source": [
        "events = len(df)\n",
        "users = df['user_id'].nunique()\n",
        "df = df.query(\"event_time >= '2019-08-01'\")\n",
        "print(f\"\"\"Количество удаленных событий: {events - len(df)}\n",
        "Процент удаленных событий: {round((events - len(df))/events * 100,2)}\n",
        "Количество удаленных пользователей: {users - df['user_id'].nunique()}\n",
        "Процент удаленных пользователей: {round((users - df['user_id'].nunique())/users * 100,2)}\n",
        "В среднем на пользователя приходится {round(len(df)/df['user_id'].nunique())} события\"\"\")"
      ]
    },
    {
      "cell_type": "markdown",
      "metadata": {
        "id": "ylkxOtu1zoyM"
      },
      "source": [
        "Проверим, что пользователи есть во всех трех экспериментальных группах"
      ]
    },
    {
      "cell_type": "code",
      "execution_count": 17,
      "metadata": {
        "colab": {
          "base_uri": "https://localhost:8080/"
        },
        "id": "GTrI_jHgzoyM",
        "outputId": "e18b5a9f-b7b4-4bf2-c424-b7dc6c5531eb"
      },
      "outputs": [
        {
          "output_type": "execute_result",
          "data": {
            "text/plain": [
              "group\n",
              "246    2484\n",
              "247    2513\n",
              "248    2537\n",
              "Name: user_id, dtype: int64"
            ]
          },
          "metadata": {},
          "execution_count": 17
        }
      ],
      "source": [
        "df.groupby('group')['user_id'].agg('nunique')"
      ]
    },
    {
      "cell_type": "markdown",
      "metadata": {
        "id": "qsL4kBcgzoyN"
      },
      "source": [
        "Убедились, что нет пользователей, которые участвовали более чем в одной группе, а также, что пользователи есть во всех трех группах. В датасете данные охватывают период с 25.07.2019 по 07.08.2019, но по графику увидели, что до 01.08.2019 данные не полные. Удалили устаревшие данные, потеряв при этом чуть больше 1 % событий и менее 1 % пользователей, среднее количество событий на одного пользователя не изменилось, и составляет 32 события"
      ]
    },
    {
      "cell_type": "markdown",
      "metadata": {
        "id": "Lt8NxEW-zoyO"
      },
      "source": [
        "### Анализ воронки событий"
      ]
    },
    {
      "cell_type": "markdown",
      "metadata": {
        "id": "Nj3BObSYzoyP"
      },
      "source": [
        "Соберем данные в таблицу. Для каждого вида события посчитаем количество событий, количество уникальных пользователей, долю пользователей, которые хоть раз совершали событие"
      ]
    },
    {
      "cell_type": "code",
      "execution_count": 18,
      "metadata": {
        "colab": {
          "base_uri": "https://localhost:8080/",
          "height": 206
        },
        "id": "EIki5FPCzoyP",
        "outputId": "6f272299-8ee6-4230-de99-51fc7001ae2c"
      },
      "outputs": [
        {
          "output_type": "execute_result",
          "data": {
            "text/plain": [
              "                event_name  count_events  unique_users   perc\n",
              "1         MainScreenAppear        117328          7419  98.47\n",
              "2       OffersScreenAppear         46333          4593  60.96\n",
              "0         CartScreenAppear         42303          3734  49.56\n",
              "3  PaymentScreenSuccessful         33918          3539  46.97\n",
              "4                 Tutorial          1005           840  11.15"
            ],
            "text/html": [
              "\n",
              "  <div id=\"df-819e8de8-3cfa-4ecc-881b-3e5218ab7821\">\n",
              "    <div class=\"colab-df-container\">\n",
              "      <div>\n",
              "<style scoped>\n",
              "    .dataframe tbody tr th:only-of-type {\n",
              "        vertical-align: middle;\n",
              "    }\n",
              "\n",
              "    .dataframe tbody tr th {\n",
              "        vertical-align: top;\n",
              "    }\n",
              "\n",
              "    .dataframe thead th {\n",
              "        text-align: right;\n",
              "    }\n",
              "</style>\n",
              "<table border=\"1\" class=\"dataframe\">\n",
              "  <thead>\n",
              "    <tr style=\"text-align: right;\">\n",
              "      <th></th>\n",
              "      <th>event_name</th>\n",
              "      <th>count_events</th>\n",
              "      <th>unique_users</th>\n",
              "      <th>perc</th>\n",
              "    </tr>\n",
              "  </thead>\n",
              "  <tbody>\n",
              "    <tr>\n",
              "      <th>1</th>\n",
              "      <td>MainScreenAppear</td>\n",
              "      <td>117328</td>\n",
              "      <td>7419</td>\n",
              "      <td>98.47</td>\n",
              "    </tr>\n",
              "    <tr>\n",
              "      <th>2</th>\n",
              "      <td>OffersScreenAppear</td>\n",
              "      <td>46333</td>\n",
              "      <td>4593</td>\n",
              "      <td>60.96</td>\n",
              "    </tr>\n",
              "    <tr>\n",
              "      <th>0</th>\n",
              "      <td>CartScreenAppear</td>\n",
              "      <td>42303</td>\n",
              "      <td>3734</td>\n",
              "      <td>49.56</td>\n",
              "    </tr>\n",
              "    <tr>\n",
              "      <th>3</th>\n",
              "      <td>PaymentScreenSuccessful</td>\n",
              "      <td>33918</td>\n",
              "      <td>3539</td>\n",
              "      <td>46.97</td>\n",
              "    </tr>\n",
              "    <tr>\n",
              "      <th>4</th>\n",
              "      <td>Tutorial</td>\n",
              "      <td>1005</td>\n",
              "      <td>840</td>\n",
              "      <td>11.15</td>\n",
              "    </tr>\n",
              "  </tbody>\n",
              "</table>\n",
              "</div>\n",
              "      <button class=\"colab-df-convert\" onclick=\"convertToInteractive('df-819e8de8-3cfa-4ecc-881b-3e5218ab7821')\"\n",
              "              title=\"Convert this dataframe to an interactive table.\"\n",
              "              style=\"display:none;\">\n",
              "        \n",
              "  <svg xmlns=\"http://www.w3.org/2000/svg\" height=\"24px\"viewBox=\"0 0 24 24\"\n",
              "       width=\"24px\">\n",
              "    <path d=\"M0 0h24v24H0V0z\" fill=\"none\"/>\n",
              "    <path d=\"M18.56 5.44l.94 2.06.94-2.06 2.06-.94-2.06-.94-.94-2.06-.94 2.06-2.06.94zm-11 1L8.5 8.5l.94-2.06 2.06-.94-2.06-.94L8.5 2.5l-.94 2.06-2.06.94zm10 10l.94 2.06.94-2.06 2.06-.94-2.06-.94-.94-2.06-.94 2.06-2.06.94z\"/><path d=\"M17.41 7.96l-1.37-1.37c-.4-.4-.92-.59-1.43-.59-.52 0-1.04.2-1.43.59L10.3 9.45l-7.72 7.72c-.78.78-.78 2.05 0 2.83L4 21.41c.39.39.9.59 1.41.59.51 0 1.02-.2 1.41-.59l7.78-7.78 2.81-2.81c.8-.78.8-2.07 0-2.86zM5.41 20L4 18.59l7.72-7.72 1.47 1.35L5.41 20z\"/>\n",
              "  </svg>\n",
              "      </button>\n",
              "      \n",
              "  <style>\n",
              "    .colab-df-container {\n",
              "      display:flex;\n",
              "      flex-wrap:wrap;\n",
              "      gap: 12px;\n",
              "    }\n",
              "\n",
              "    .colab-df-convert {\n",
              "      background-color: #E8F0FE;\n",
              "      border: none;\n",
              "      border-radius: 50%;\n",
              "      cursor: pointer;\n",
              "      display: none;\n",
              "      fill: #1967D2;\n",
              "      height: 32px;\n",
              "      padding: 0 0 0 0;\n",
              "      width: 32px;\n",
              "    }\n",
              "\n",
              "    .colab-df-convert:hover {\n",
              "      background-color: #E2EBFA;\n",
              "      box-shadow: 0px 1px 2px rgba(60, 64, 67, 0.3), 0px 1px 3px 1px rgba(60, 64, 67, 0.15);\n",
              "      fill: #174EA6;\n",
              "    }\n",
              "\n",
              "    [theme=dark] .colab-df-convert {\n",
              "      background-color: #3B4455;\n",
              "      fill: #D2E3FC;\n",
              "    }\n",
              "\n",
              "    [theme=dark] .colab-df-convert:hover {\n",
              "      background-color: #434B5C;\n",
              "      box-shadow: 0px 1px 3px 1px rgba(0, 0, 0, 0.15);\n",
              "      filter: drop-shadow(0px 1px 2px rgba(0, 0, 0, 0.3));\n",
              "      fill: #FFFFFF;\n",
              "    }\n",
              "  </style>\n",
              "\n",
              "      <script>\n",
              "        const buttonEl =\n",
              "          document.querySelector('#df-819e8de8-3cfa-4ecc-881b-3e5218ab7821 button.colab-df-convert');\n",
              "        buttonEl.style.display =\n",
              "          google.colab.kernel.accessAllowed ? 'block' : 'none';\n",
              "\n",
              "        async function convertToInteractive(key) {\n",
              "          const element = document.querySelector('#df-819e8de8-3cfa-4ecc-881b-3e5218ab7821');\n",
              "          const dataTable =\n",
              "            await google.colab.kernel.invokeFunction('convertToInteractive',\n",
              "                                                     [key], {});\n",
              "          if (!dataTable) return;\n",
              "\n",
              "          const docLinkHtml = 'Like what you see? Visit the ' +\n",
              "            '<a target=\"_blank\" href=https://colab.research.google.com/notebooks/data_table.ipynb>data table notebook</a>'\n",
              "            + ' to learn more about interactive tables.';\n",
              "          element.innerHTML = '';\n",
              "          dataTable['output_type'] = 'display_data';\n",
              "          await google.colab.output.renderOutput(dataTable, element);\n",
              "          const docLink = document.createElement('div');\n",
              "          docLink.innerHTML = docLinkHtml;\n",
              "          element.appendChild(docLink);\n",
              "        }\n",
              "      </script>\n",
              "    </div>\n",
              "  </div>\n",
              "  "
            ]
          },
          "metadata": {},
          "execution_count": 18
        }
      ],
      "source": [
        "event = df.pivot_table(index='event_name', values='user_id', aggfunc=['count', 'nunique']).reset_index()\n",
        "event.columns = ['event_name', 'count_events', 'unique_users']\n",
        "event['perc'] = round(event['unique_users']/df['user_id'].nunique() * 100, 2)\n",
        "event.sort_values(by=['count_events', 'unique_users'], ascending=False)"
      ]
    },
    {
      "cell_type": "markdown",
      "metadata": {
        "id": "upQZxx5FzoyQ"
      },
      "source": [
        "Видим, что таблица, отсортированная по количеству событий (порядок сортировки по количеству уникальных пользоватлей не меняется) показывает логичную, последовательную цепочку. То есть сначала пользователь видит главное меню, затем предложения, корзину и экран успешной оплаты. А вот обучение, судя по всему, в приложении можно пропустить, потому оно наименее посещаемое в приложении, а чтобы пройти обучение вряд ли необходимо что-либо купить. Поэтому, событие - обучение, можно исключить из дальнейшего анализа"
      ]
    },
    {
      "cell_type": "markdown",
      "metadata": {
        "id": "QBjOYHbWzoyT"
      },
      "source": [
        "По воронке событий посчитаем, какая доля пользователей проходит на следующий шаг воронки (от числа пользователей на предыдущем)"
      ]
    },
    {
      "cell_type": "code",
      "execution_count": 19,
      "metadata": {
        "id": "NLBResSxzoyT"
      },
      "outputs": [],
      "source": [
        "event = event.query('event_name != \"Tutorial\"').sort_values(by=['count_events', 'unique_users'], ascending=False)"
      ]
    },
    {
      "cell_type": "code",
      "execution_count": 20,
      "metadata": {
        "colab": {
          "base_uri": "https://localhost:8080/",
          "height": 175
        },
        "id": "bUsYj9mxzoyU",
        "outputId": "4aa8776f-1655-4232-9629-da95b082138b"
      },
      "outputs": [
        {
          "output_type": "execute_result",
          "data": {
            "text/plain": [
              "                event_name  count_events  unique_users   perc  funnel\n",
              "1         MainScreenAppear        117328          7419  98.47   100.0\n",
              "2       OffersScreenAppear         46333          4593  60.96    61.9\n",
              "0         CartScreenAppear         42303          3734  49.56    81.3\n",
              "3  PaymentScreenSuccessful         33918          3539  46.97    94.8"
            ],
            "text/html": [
              "\n",
              "  <div id=\"df-e0a0aa30-987a-4f23-8f83-9dc7e8d73bb7\">\n",
              "    <div class=\"colab-df-container\">\n",
              "      <div>\n",
              "<style scoped>\n",
              "    .dataframe tbody tr th:only-of-type {\n",
              "        vertical-align: middle;\n",
              "    }\n",
              "\n",
              "    .dataframe tbody tr th {\n",
              "        vertical-align: top;\n",
              "    }\n",
              "\n",
              "    .dataframe thead th {\n",
              "        text-align: right;\n",
              "    }\n",
              "</style>\n",
              "<table border=\"1\" class=\"dataframe\">\n",
              "  <thead>\n",
              "    <tr style=\"text-align: right;\">\n",
              "      <th></th>\n",
              "      <th>event_name</th>\n",
              "      <th>count_events</th>\n",
              "      <th>unique_users</th>\n",
              "      <th>perc</th>\n",
              "      <th>funnel</th>\n",
              "    </tr>\n",
              "  </thead>\n",
              "  <tbody>\n",
              "    <tr>\n",
              "      <th>1</th>\n",
              "      <td>MainScreenAppear</td>\n",
              "      <td>117328</td>\n",
              "      <td>7419</td>\n",
              "      <td>98.47</td>\n",
              "      <td>100.0</td>\n",
              "    </tr>\n",
              "    <tr>\n",
              "      <th>2</th>\n",
              "      <td>OffersScreenAppear</td>\n",
              "      <td>46333</td>\n",
              "      <td>4593</td>\n",
              "      <td>60.96</td>\n",
              "      <td>61.9</td>\n",
              "    </tr>\n",
              "    <tr>\n",
              "      <th>0</th>\n",
              "      <td>CartScreenAppear</td>\n",
              "      <td>42303</td>\n",
              "      <td>3734</td>\n",
              "      <td>49.56</td>\n",
              "      <td>81.3</td>\n",
              "    </tr>\n",
              "    <tr>\n",
              "      <th>3</th>\n",
              "      <td>PaymentScreenSuccessful</td>\n",
              "      <td>33918</td>\n",
              "      <td>3539</td>\n",
              "      <td>46.97</td>\n",
              "      <td>94.8</td>\n",
              "    </tr>\n",
              "  </tbody>\n",
              "</table>\n",
              "</div>\n",
              "      <button class=\"colab-df-convert\" onclick=\"convertToInteractive('df-e0a0aa30-987a-4f23-8f83-9dc7e8d73bb7')\"\n",
              "              title=\"Convert this dataframe to an interactive table.\"\n",
              "              style=\"display:none;\">\n",
              "        \n",
              "  <svg xmlns=\"http://www.w3.org/2000/svg\" height=\"24px\"viewBox=\"0 0 24 24\"\n",
              "       width=\"24px\">\n",
              "    <path d=\"M0 0h24v24H0V0z\" fill=\"none\"/>\n",
              "    <path d=\"M18.56 5.44l.94 2.06.94-2.06 2.06-.94-2.06-.94-.94-2.06-.94 2.06-2.06.94zm-11 1L8.5 8.5l.94-2.06 2.06-.94-2.06-.94L8.5 2.5l-.94 2.06-2.06.94zm10 10l.94 2.06.94-2.06 2.06-.94-2.06-.94-.94-2.06-.94 2.06-2.06.94z\"/><path d=\"M17.41 7.96l-1.37-1.37c-.4-.4-.92-.59-1.43-.59-.52 0-1.04.2-1.43.59L10.3 9.45l-7.72 7.72c-.78.78-.78 2.05 0 2.83L4 21.41c.39.39.9.59 1.41.59.51 0 1.02-.2 1.41-.59l7.78-7.78 2.81-2.81c.8-.78.8-2.07 0-2.86zM5.41 20L4 18.59l7.72-7.72 1.47 1.35L5.41 20z\"/>\n",
              "  </svg>\n",
              "      </button>\n",
              "      \n",
              "  <style>\n",
              "    .colab-df-container {\n",
              "      display:flex;\n",
              "      flex-wrap:wrap;\n",
              "      gap: 12px;\n",
              "    }\n",
              "\n",
              "    .colab-df-convert {\n",
              "      background-color: #E8F0FE;\n",
              "      border: none;\n",
              "      border-radius: 50%;\n",
              "      cursor: pointer;\n",
              "      display: none;\n",
              "      fill: #1967D2;\n",
              "      height: 32px;\n",
              "      padding: 0 0 0 0;\n",
              "      width: 32px;\n",
              "    }\n",
              "\n",
              "    .colab-df-convert:hover {\n",
              "      background-color: #E2EBFA;\n",
              "      box-shadow: 0px 1px 2px rgba(60, 64, 67, 0.3), 0px 1px 3px 1px rgba(60, 64, 67, 0.15);\n",
              "      fill: #174EA6;\n",
              "    }\n",
              "\n",
              "    [theme=dark] .colab-df-convert {\n",
              "      background-color: #3B4455;\n",
              "      fill: #D2E3FC;\n",
              "    }\n",
              "\n",
              "    [theme=dark] .colab-df-convert:hover {\n",
              "      background-color: #434B5C;\n",
              "      box-shadow: 0px 1px 3px 1px rgba(0, 0, 0, 0.15);\n",
              "      filter: drop-shadow(0px 1px 2px rgba(0, 0, 0, 0.3));\n",
              "      fill: #FFFFFF;\n",
              "    }\n",
              "  </style>\n",
              "\n",
              "      <script>\n",
              "        const buttonEl =\n",
              "          document.querySelector('#df-e0a0aa30-987a-4f23-8f83-9dc7e8d73bb7 button.colab-df-convert');\n",
              "        buttonEl.style.display =\n",
              "          google.colab.kernel.accessAllowed ? 'block' : 'none';\n",
              "\n",
              "        async function convertToInteractive(key) {\n",
              "          const element = document.querySelector('#df-e0a0aa30-987a-4f23-8f83-9dc7e8d73bb7');\n",
              "          const dataTable =\n",
              "            await google.colab.kernel.invokeFunction('convertToInteractive',\n",
              "                                                     [key], {});\n",
              "          if (!dataTable) return;\n",
              "\n",
              "          const docLinkHtml = 'Like what you see? Visit the ' +\n",
              "            '<a target=\"_blank\" href=https://colab.research.google.com/notebooks/data_table.ipynb>data table notebook</a>'\n",
              "            + ' to learn more about interactive tables.';\n",
              "          element.innerHTML = '';\n",
              "          dataTable['output_type'] = 'display_data';\n",
              "          await google.colab.output.renderOutput(dataTable, element);\n",
              "          const docLink = document.createElement('div');\n",
              "          docLink.innerHTML = docLinkHtml;\n",
              "          element.appendChild(docLink);\n",
              "        }\n",
              "      </script>\n",
              "    </div>\n",
              "  </div>\n",
              "  "
            ]
          },
          "metadata": {},
          "execution_count": 20
        }
      ],
      "source": [
        "event['funnel'] = round(100 + event['unique_users'].pct_change() * 100, 1)\n",
        "event['funnel'] = event['funnel'].fillna(100)\n",
        "event"
      ]
    },
    {
      "cell_type": "markdown",
      "metadata": {
        "id": "P239jsVxzoyV"
      },
      "source": [
        "Визуализируем воронку событий"
      ]
    },
    {
      "cell_type": "code",
      "execution_count": 21,
      "metadata": {
        "colab": {
          "base_uri": "https://localhost:8080/",
          "height": 517
        },
        "id": "mNV88cMgzoyV",
        "outputId": "49cb244f-3b6f-4ea2-c835-0d50f14c3130"
      },
      "outputs": [
        {
          "output_type": "display_data",
          "data": {
            "image/png": "[encoded data removed]"
          },
          "metadata": {}
        }
      ],
      "source": [
        "fig = px.funnel(event, y='event_name', x='unique_users', hover_data=['funnel'])\n",
        "fig.update_layout(\n",
        "    yaxis_title='Название событий',\n",
        "    title_text='Воронка событий',\n",
        "    title_x=0.55\n",
        ")\n",
        "fig.show()"
      ]
    },
    {
      "cell_type": "markdown",
      "metadata": {
        "id": "3jHlFL6SzoyW"
      },
      "source": [
        "Воронка событий приложения упорядочена следующим образом: главное меню, предложения, корзина, успешная оплата. Шаг обучения был исключен, так как он является необязательным этапом, и может быть пропущен. Наибольшее количество пользователей теряется на шаге предложений, потери составляют более 38 % пользователей. А от первого события до оплаты доходят примерно 47 % пользователей"
      ]
    },
    {
      "cell_type": "markdown",
      "metadata": {
        "id": "9l3ESDkszoyX"
      },
      "source": [
        "### Исследование результатов эксперимента"
      ]
    },
    {
      "cell_type": "code",
      "execution_count": 22,
      "metadata": {
        "colab": {
          "base_uri": "https://localhost:8080/",
          "height": 143
        },
        "id": "ZEZPEkmazoyX",
        "outputId": "1659b4ee-8cf1-404b-b0e8-38e7bff6afcd"
      },
      "outputs": [
        {
          "output_type": "execute_result",
          "data": {
            "text/plain": [
              "   group  unique_users\n",
              "0    246          2484\n",
              "1    247          2513\n",
              "2    248          2537"
            ],
            "text/html": [
              "\n",
              "  <div id=\"df-2f755083-3bc7-4eea-88cd-a7f7115237af\">\n",
              "    <div class=\"colab-df-container\">\n",
              "      <div>\n",
              "<style scoped>\n",
              "    .dataframe tbody tr th:only-of-type {\n",
              "        vertical-align: middle;\n",
              "    }\n",
              "\n",
              "    .dataframe tbody tr th {\n",
              "        vertical-align: top;\n",
              "    }\n",
              "\n",
              "    .dataframe thead th {\n",
              "        text-align: right;\n",
              "    }\n",
              "</style>\n",
              "<table border=\"1\" class=\"dataframe\">\n",
              "  <thead>\n",
              "    <tr style=\"text-align: right;\">\n",
              "      <th></th>\n",
              "      <th>group</th>\n",
              "      <th>unique_users</th>\n",
              "    </tr>\n",
              "  </thead>\n",
              "  <tbody>\n",
              "    <tr>\n",
              "      <th>0</th>\n",
              "      <td>246</td>\n",
              "      <td>2484</td>\n",
              "    </tr>\n",
              "    <tr>\n",
              "      <th>1</th>\n",
              "      <td>247</td>\n",
              "      <td>2513</td>\n",
              "    </tr>\n",
              "    <tr>\n",
              "      <th>2</th>\n",
              "      <td>248</td>\n",
              "      <td>2537</td>\n",
              "    </tr>\n",
              "  </tbody>\n",
              "</table>\n",
              "</div>\n",
              "      <button class=\"colab-df-convert\" onclick=\"convertToInteractive('df-2f755083-3bc7-4eea-88cd-a7f7115237af')\"\n",
              "              title=\"Convert this dataframe to an interactive table.\"\n",
              "              style=\"display:none;\">\n",
              "        \n",
              "  <svg xmlns=\"http://www.w3.org/2000/svg\" height=\"24px\"viewBox=\"0 0 24 24\"\n",
              "       width=\"24px\">\n",
              "    <path d=\"M0 0h24v24H0V0z\" fill=\"none\"/>\n",
              "    <path d=\"M18.56 5.44l.94 2.06.94-2.06 2.06-.94-2.06-.94-.94-2.06-.94 2.06-2.06.94zm-11 1L8.5 8.5l.94-2.06 2.06-.94-2.06-.94L8.5 2.5l-.94 2.06-2.06.94zm10 10l.94 2.06.94-2.06 2.06-.94-2.06-.94-.94-2.06-.94 2.06-2.06.94z\"/><path d=\"M17.41 7.96l-1.37-1.37c-.4-.4-.92-.59-1.43-.59-.52 0-1.04.2-1.43.59L10.3 9.45l-7.72 7.72c-.78.78-.78 2.05 0 2.83L4 21.41c.39.39.9.59 1.41.59.51 0 1.02-.2 1.41-.59l7.78-7.78 2.81-2.81c.8-.78.8-2.07 0-2.86zM5.41 20L4 18.59l7.72-7.72 1.47 1.35L5.41 20z\"/>\n",
              "  </svg>\n",
              "      </button>\n",
              "      \n",
              "  <style>\n",
              "    .colab-df-container {\n",
              "      display:flex;\n",
              "      flex-wrap:wrap;\n",
              "      gap: 12px;\n",
              "    }\n",
              "\n",
              "    .colab-df-convert {\n",
              "      background-color: #E8F0FE;\n",
              "      border: none;\n",
              "      border-radius: 50%;\n",
              "      cursor: pointer;\n",
              "      display: none;\n",
              "      fill: #1967D2;\n",
              "      height: 32px;\n",
              "      padding: 0 0 0 0;\n",
              "      width: 32px;\n",
              "    }\n",
              "\n",
              "    .colab-df-convert:hover {\n",
              "      background-color: #E2EBFA;\n",
              "      box-shadow: 0px 1px 2px rgba(60, 64, 67, 0.3), 0px 1px 3px 1px rgba(60, 64, 67, 0.15);\n",
              "      fill: #174EA6;\n",
              "    }\n",
              "\n",
              "    [theme=dark] .colab-df-convert {\n",
              "      background-color: #3B4455;\n",
              "      fill: #D2E3FC;\n",
              "    }\n",
              "\n",
              "    [theme=dark] .colab-df-convert:hover {\n",
              "      background-color: #434B5C;\n",
              "      box-shadow: 0px 1px 3px 1px rgba(0, 0, 0, 0.15);\n",
              "      filter: drop-shadow(0px 1px 2px rgba(0, 0, 0, 0.3));\n",
              "      fill: #FFFFFF;\n",
              "    }\n",
              "  </style>\n",
              "\n",
              "      <script>\n",
              "        const buttonEl =\n",
              "          document.querySelector('#df-2f755083-3bc7-4eea-88cd-a7f7115237af button.colab-df-convert');\n",
              "        buttonEl.style.display =\n",
              "          google.colab.kernel.accessAllowed ? 'block' : 'none';\n",
              "\n",
              "        async function convertToInteractive(key) {\n",
              "          const element = document.querySelector('#df-2f755083-3bc7-4eea-88cd-a7f7115237af');\n",
              "          const dataTable =\n",
              "            await google.colab.kernel.invokeFunction('convertToInteractive',\n",
              "                                                     [key], {});\n",
              "          if (!dataTable) return;\n",
              "\n",
              "          const docLinkHtml = 'Like what you see? Visit the ' +\n",
              "            '<a target=\"_blank\" href=https://colab.research.google.com/notebooks/data_table.ipynb>data table notebook</a>'\n",
              "            + ' to learn more about interactive tables.';\n",
              "          element.innerHTML = '';\n",
              "          dataTable['output_type'] = 'display_data';\n",
              "          await google.colab.output.renderOutput(dataTable, element);\n",
              "          const docLink = document.createElement('div');\n",
              "          docLink.innerHTML = docLinkHtml;\n",
              "          element.appendChild(docLink);\n",
              "        }\n",
              "      </script>\n",
              "    </div>\n",
              "  </div>\n",
              "  "
            ]
          },
          "metadata": {},
          "execution_count": 22
        }
      ],
      "source": [
        "users_group = df.pivot_table(index='group', values='user_id', aggfunc=['nunique']).reset_index()\n",
        "users_group.columns = ['group', 'unique_users']\n",
        "users_group"
      ]
    },
    {
      "cell_type": "markdown",
      "metadata": {
        "id": "21uaoUCBzoyY"
      },
      "source": [
        "Количество пользователей в каждой группе примерно одинаковое. Для проверки гипотез о равенстве долей будем использовать z-критерий. Так как необходимо провести несколько сравнений на одних и тех же данных, то тест будет множественный. При множественном тесте вероятность ошибки первого рода возрастает с каждой проверкой, чтобы избежать вероятность такой ошибки, будем использовать поправку Бонферрони. Определим, сколько тестов будем проводить: имеем 4 события и 3 группы, плюс еще одна группа - общая контрольная, итого 16 проверок, то есть заданный уровень значимости нужно будет поделить на 16. Соберем данные с количеством пользователей по каждой группе и событию, исключив собитие обучения, а также посчитаем количество пользователей в каждой группе без учета события"
      ]
    },
    {
      "cell_type": "code",
      "execution_count": 23,
      "metadata": {
        "scrolled": true,
        "colab": {
          "base_uri": "https://localhost:8080/",
          "height": 175
        },
        "id": "u6R5v8iCzoyY",
        "outputId": "9e7d84fb-fb2b-466a-8214-ba939862bcc9"
      },
      "outputs": [
        {
          "output_type": "execute_result",
          "data": {
            "text/plain": [
              "                event_name   246   247   248  control\n",
              "0         CartScreenAppear  1266  1238  1230     2504\n",
              "1         MainScreenAppear  2450  2476  2493     4926\n",
              "2       OffersScreenAppear  1542  1520  1531     3062\n",
              "3  PaymentScreenSuccessful  1200  1158  1181     2358"
            ],
            "text/html": [
              "\n",
              "  <div id=\"df-7ad6e9e2-e66d-46b3-9f3f-978cf337c406\">\n",
              "    <div class=\"colab-df-container\">\n",
              "      <div>\n",
              "<style scoped>\n",
              "    .dataframe tbody tr th:only-of-type {\n",
              "        vertical-align: middle;\n",
              "    }\n",
              "\n",
              "    .dataframe tbody tr th {\n",
              "        vertical-align: top;\n",
              "    }\n",
              "\n",
              "    .dataframe thead th {\n",
              "        text-align: right;\n",
              "    }\n",
              "</style>\n",
              "<table border=\"1\" class=\"dataframe\">\n",
              "  <thead>\n",
              "    <tr style=\"text-align: right;\">\n",
              "      <th></th>\n",
              "      <th>event_name</th>\n",
              "      <th>246</th>\n",
              "      <th>247</th>\n",
              "      <th>248</th>\n",
              "      <th>control</th>\n",
              "    </tr>\n",
              "  </thead>\n",
              "  <tbody>\n",
              "    <tr>\n",
              "      <th>0</th>\n",
              "      <td>CartScreenAppear</td>\n",
              "      <td>1266</td>\n",
              "      <td>1238</td>\n",
              "      <td>1230</td>\n",
              "      <td>2504</td>\n",
              "    </tr>\n",
              "    <tr>\n",
              "      <th>1</th>\n",
              "      <td>MainScreenAppear</td>\n",
              "      <td>2450</td>\n",
              "      <td>2476</td>\n",
              "      <td>2493</td>\n",
              "      <td>4926</td>\n",
              "    </tr>\n",
              "    <tr>\n",
              "      <th>2</th>\n",
              "      <td>OffersScreenAppear</td>\n",
              "      <td>1542</td>\n",
              "      <td>1520</td>\n",
              "      <td>1531</td>\n",
              "      <td>3062</td>\n",
              "    </tr>\n",
              "    <tr>\n",
              "      <th>3</th>\n",
              "      <td>PaymentScreenSuccessful</td>\n",
              "      <td>1200</td>\n",
              "      <td>1158</td>\n",
              "      <td>1181</td>\n",
              "      <td>2358</td>\n",
              "    </tr>\n",
              "  </tbody>\n",
              "</table>\n",
              "</div>\n",
              "      <button class=\"colab-df-convert\" onclick=\"convertToInteractive('df-7ad6e9e2-e66d-46b3-9f3f-978cf337c406')\"\n",
              "              title=\"Convert this dataframe to an interactive table.\"\n",
              "              style=\"display:none;\">\n",
              "        \n",
              "  <svg xmlns=\"http://www.w3.org/2000/svg\" height=\"24px\"viewBox=\"0 0 24 24\"\n",
              "       width=\"24px\">\n",
              "    <path d=\"M0 0h24v24H0V0z\" fill=\"none\"/>\n",
              "    <path d=\"M18.56 5.44l.94 2.06.94-2.06 2.06-.94-2.06-.94-.94-2.06-.94 2.06-2.06.94zm-11 1L8.5 8.5l.94-2.06 2.06-.94-2.06-.94L8.5 2.5l-.94 2.06-2.06.94zm10 10l.94 2.06.94-2.06 2.06-.94-2.06-.94-.94-2.06-.94 2.06-2.06.94z\"/><path d=\"M17.41 7.96l-1.37-1.37c-.4-.4-.92-.59-1.43-.59-.52 0-1.04.2-1.43.59L10.3 9.45l-7.72 7.72c-.78.78-.78 2.05 0 2.83L4 21.41c.39.39.9.59 1.41.59.51 0 1.02-.2 1.41-.59l7.78-7.78 2.81-2.81c.8-.78.8-2.07 0-2.86zM5.41 20L4 18.59l7.72-7.72 1.47 1.35L5.41 20z\"/>\n",
              "  </svg>\n",
              "      </button>\n",
              "      \n",
              "  <style>\n",
              "    .colab-df-container {\n",
              "      display:flex;\n",
              "      flex-wrap:wrap;\n",
              "      gap: 12px;\n",
              "    }\n",
              "\n",
              "    .colab-df-convert {\n",
              "      background-color: #E8F0FE;\n",
              "      border: none;\n",
              "      border-radius: 50%;\n",
              "      cursor: pointer;\n",
              "      display: none;\n",
              "      fill: #1967D2;\n",
              "      height: 32px;\n",
              "      padding: 0 0 0 0;\n",
              "      width: 32px;\n",
              "    }\n",
              "\n",
              "    .colab-df-convert:hover {\n",
              "      background-color: #E2EBFA;\n",
              "      box-shadow: 0px 1px 2px rgba(60, 64, 67, 0.3), 0px 1px 3px 1px rgba(60, 64, 67, 0.15);\n",
              "      fill: #174EA6;\n",
              "    }\n",
              "\n",
              "    [theme=dark] .colab-df-convert {\n",
              "      background-color: #3B4455;\n",
              "      fill: #D2E3FC;\n",
              "    }\n",
              "\n",
              "    [theme=dark] .colab-df-convert:hover {\n",
              "      background-color: #434B5C;\n",
              "      box-shadow: 0px 1px 3px 1px rgba(0, 0, 0, 0.15);\n",
              "      filter: drop-shadow(0px 1px 2px rgba(0, 0, 0, 0.3));\n",
              "      fill: #FFFFFF;\n",
              "    }\n",
              "  </style>\n",
              "\n",
              "      <script>\n",
              "        const buttonEl =\n",
              "          document.querySelector('#df-7ad6e9e2-e66d-46b3-9f3f-978cf337c406 button.colab-df-convert');\n",
              "        buttonEl.style.display =\n",
              "          google.colab.kernel.accessAllowed ? 'block' : 'none';\n",
              "\n",
              "        async function convertToInteractive(key) {\n",
              "          const element = document.querySelector('#df-7ad6e9e2-e66d-46b3-9f3f-978cf337c406');\n",
              "          const dataTable =\n",
              "            await google.colab.kernel.invokeFunction('convertToInteractive',\n",
              "                                                     [key], {});\n",
              "          if (!dataTable) return;\n",
              "\n",
              "          const docLinkHtml = 'Like what you see? Visit the ' +\n",
              "            '<a target=\"_blank\" href=https://colab.research.google.com/notebooks/data_table.ipynb>data table notebook</a>'\n",
              "            + ' to learn more about interactive tables.';\n",
              "          element.innerHTML = '';\n",
              "          dataTable['output_type'] = 'display_data';\n",
              "          await google.colab.output.renderOutput(dataTable, element);\n",
              "          const docLink = document.createElement('div');\n",
              "          docLink.innerHTML = docLinkHtml;\n",
              "          element.appendChild(docLink);\n",
              "        }\n",
              "      </script>\n",
              "    </div>\n",
              "  </div>\n",
              "  "
            ]
          },
          "metadata": {},
          "execution_count": 23
        }
      ],
      "source": [
        "df = df.query('event_name != \"Tutorial\"')\n",
        "event_group = df.pivot_table(index='event_name', values='user_id', columns='group', aggfunc='nunique').reset_index()\n",
        "event_group.columns = ['event_name', '246', '247', '248']\n",
        "event_group['control'] = event_group['246']  + event_group['247']\n",
        "event_group"
      ]
    },
    {
      "cell_type": "code",
      "execution_count": 24,
      "metadata": {
        "colab": {
          "base_uri": "https://localhost:8080/",
          "height": 143
        },
        "id": "N65OUq0lzoyY",
        "outputId": "da92d160-ed20-48f6-9c75-513a18401dad"
      },
      "outputs": [
        {
          "output_type": "execute_result",
          "data": {
            "text/plain": [
              "   group  unique_users\n",
              "0    246          2483\n",
              "1    247          2512\n",
              "2    248          2535"
            ],
            "text/html": [
              "\n",
              "  <div id=\"df-ccbb662b-4cbc-411a-a88b-174fe42f2219\">\n",
              "    <div class=\"colab-df-container\">\n",
              "      <div>\n",
              "<style scoped>\n",
              "    .dataframe tbody tr th:only-of-type {\n",
              "        vertical-align: middle;\n",
              "    }\n",
              "\n",
              "    .dataframe tbody tr th {\n",
              "        vertical-align: top;\n",
              "    }\n",
              "\n",
              "    .dataframe thead th {\n",
              "        text-align: right;\n",
              "    }\n",
              "</style>\n",
              "<table border=\"1\" class=\"dataframe\">\n",
              "  <thead>\n",
              "    <tr style=\"text-align: right;\">\n",
              "      <th></th>\n",
              "      <th>group</th>\n",
              "      <th>unique_users</th>\n",
              "    </tr>\n",
              "  </thead>\n",
              "  <tbody>\n",
              "    <tr>\n",
              "      <th>0</th>\n",
              "      <td>246</td>\n",
              "      <td>2483</td>\n",
              "    </tr>\n",
              "    <tr>\n",
              "      <th>1</th>\n",
              "      <td>247</td>\n",
              "      <td>2512</td>\n",
              "    </tr>\n",
              "    <tr>\n",
              "      <th>2</th>\n",
              "      <td>248</td>\n",
              "      <td>2535</td>\n",
              "    </tr>\n",
              "  </tbody>\n",
              "</table>\n",
              "</div>\n",
              "      <button class=\"colab-df-convert\" onclick=\"convertToInteractive('df-ccbb662b-4cbc-411a-a88b-174fe42f2219')\"\n",
              "              title=\"Convert this dataframe to an interactive table.\"\n",
              "              style=\"display:none;\">\n",
              "        \n",
              "  <svg xmlns=\"http://www.w3.org/2000/svg\" height=\"24px\"viewBox=\"0 0 24 24\"\n",
              "       width=\"24px\">\n",
              "    <path d=\"M0 0h24v24H0V0z\" fill=\"none\"/>\n",
              "    <path d=\"M18.56 5.44l.94 2.06.94-2.06 2.06-.94-2.06-.94-.94-2.06-.94 2.06-2.06.94zm-11 1L8.5 8.5l.94-2.06 2.06-.94-2.06-.94L8.5 2.5l-.94 2.06-2.06.94zm10 10l.94 2.06.94-2.06 2.06-.94-2.06-.94-.94-2.06-.94 2.06-2.06.94z\"/><path d=\"M17.41 7.96l-1.37-1.37c-.4-.4-.92-.59-1.43-.59-.52 0-1.04.2-1.43.59L10.3 9.45l-7.72 7.72c-.78.78-.78 2.05 0 2.83L4 21.41c.39.39.9.59 1.41.59.51 0 1.02-.2 1.41-.59l7.78-7.78 2.81-2.81c.8-.78.8-2.07 0-2.86zM5.41 20L4 18.59l7.72-7.72 1.47 1.35L5.41 20z\"/>\n",
              "  </svg>\n",
              "      </button>\n",
              "      \n",
              "  <style>\n",
              "    .colab-df-container {\n",
              "      display:flex;\n",
              "      flex-wrap:wrap;\n",
              "      gap: 12px;\n",
              "    }\n",
              "\n",
              "    .colab-df-convert {\n",
              "      background-color: #E8F0FE;\n",
              "      border: none;\n",
              "      border-radius: 50%;\n",
              "      cursor: pointer;\n",
              "      display: none;\n",
              "      fill: #1967D2;\n",
              "      height: 32px;\n",
              "      padding: 0 0 0 0;\n",
              "      width: 32px;\n",
              "    }\n",
              "\n",
              "    .colab-df-convert:hover {\n",
              "      background-color: #E2EBFA;\n",
              "      box-shadow: 0px 1px 2px rgba(60, 64, 67, 0.3), 0px 1px 3px 1px rgba(60, 64, 67, 0.15);\n",
              "      fill: #174EA6;\n",
              "    }\n",
              "\n",
              "    [theme=dark] .colab-df-convert {\n",
              "      background-color: #3B4455;\n",
              "      fill: #D2E3FC;\n",
              "    }\n",
              "\n",
              "    [theme=dark] .colab-df-convert:hover {\n",
              "      background-color: #434B5C;\n",
              "      box-shadow: 0px 1px 3px 1px rgba(0, 0, 0, 0.15);\n",
              "      filter: drop-shadow(0px 1px 2px rgba(0, 0, 0, 0.3));\n",
              "      fill: #FFFFFF;\n",
              "    }\n",
              "  </style>\n",
              "\n",
              "      <script>\n",
              "        const buttonEl =\n",
              "          document.querySelector('#df-ccbb662b-4cbc-411a-a88b-174fe42f2219 button.colab-df-convert');\n",
              "        buttonEl.style.display =\n",
              "          google.colab.kernel.accessAllowed ? 'block' : 'none';\n",
              "\n",
              "        async function convertToInteractive(key) {\n",
              "          const element = document.querySelector('#df-ccbb662b-4cbc-411a-a88b-174fe42f2219');\n",
              "          const dataTable =\n",
              "            await google.colab.kernel.invokeFunction('convertToInteractive',\n",
              "                                                     [key], {});\n",
              "          if (!dataTable) return;\n",
              "\n",
              "          const docLinkHtml = 'Like what you see? Visit the ' +\n",
              "            '<a target=\"_blank\" href=https://colab.research.google.com/notebooks/data_table.ipynb>data table notebook</a>'\n",
              "            + ' to learn more about interactive tables.';\n",
              "          element.innerHTML = '';\n",
              "          dataTable['output_type'] = 'display_data';\n",
              "          await google.colab.output.renderOutput(dataTable, element);\n",
              "          const docLink = document.createElement('div');\n",
              "          docLink.innerHTML = docLinkHtml;\n",
              "          element.appendChild(docLink);\n",
              "        }\n",
              "      </script>\n",
              "    </div>\n",
              "  </div>\n",
              "  "
            ]
          },
          "metadata": {},
          "execution_count": 24
        }
      ],
      "source": [
        "group = df.pivot_table(index='group', values='user_id', aggfunc=['nunique']).reset_index()\n",
        "group.columns = ['group', 'unique_users']\n",
        "group"
      ]
    },
    {
      "cell_type": "markdown",
      "metadata": {
        "id": "xLmizDEwzoyZ"
      },
      "source": [
        "Визуализируем воронку событий по группам"
      ]
    },
    {
      "cell_type": "code",
      "execution_count": 25,
      "metadata": {
        "colab": {
          "base_uri": "https://localhost:8080/",
          "height": 517
        },
        "id": "VSvWMYYtzoyZ",
        "outputId": "5d7a7a44-de53-4392-b176-f58b9d8cae70"
      },
      "outputs": [
        {
          "output_type": "display_data",
          "data": {
            "image/png": "[encoded data removed]"
          },
          "metadata": {}
        }
      ],
      "source": [
        "fig = px.funnel(event_group.sort_values(by='246', ascending=False), y='event_name', x=['246', '247', '248'])\n",
        "fig.update_layout(\n",
        "    yaxis_title='Название событий',\n",
        "    title_text='Воронка событий по группам',\n",
        "    title_x=0.55\n",
        ")\n",
        "fig.show()"
      ]
    },
    {
      "cell_type": "markdown",
      "metadata": {
        "id": "t7OtcZx8zoya"
      },
      "source": [
        "Создадим функцию для проверки гипотез о равенстве долей. Зададим уровень значимости равный 0.05"
      ]
    },
    {
      "cell_type": "code",
      "execution_count": 26,
      "metadata": {
        "id": "tIN7toAUzoya"
      },
      "outputs": [],
      "source": [
        "def test(event1, event2, group1, group2):\n",
        "    # зададим уровень значимости и поправку Бонферрони\n",
        "    alpha = .05\n",
        "    bnf = alpha/16\n",
        "    # пропорции пользователей, совершивших событие\n",
        "    p1 = event1 / group1\n",
        "    p2 = event2 / group2\n",
        "    # комбинированная пропорция\n",
        "    p_combined = (event1 + event2) / (group1 + group2)\n",
        "    # разница пропорций\n",
        "    difference = p1 - p2\n",
        "    # статистика в стандартных отклонениях стандартного нормального распределения\n",
        "    z_value = difference / mth.sqrt(p_combined * (1 - p_combined) * (1/group1 + 1/group2))\n",
        "    # стандартное нормальное распределение (среднее 0, ст.отклонение 1)\n",
        "    distr = st.norm(0, 1)\n",
        "\n",
        "    p_value = round((1 - distr.cdf(abs(z_value))) * 2, 3)\n",
        "\n",
        "    print('p-значение: ', p_value)\n",
        "\n",
        "    if p_value < bnf:\n",
        "        print('Отвергаем нулевую гипотезу, различия между долями есть')\n",
        "    else:\n",
        "        print(\n",
        "            'Не получилось отвергнуть нулевую гипотезу, нет оснований считать доли разными'\n",
        "        )"
      ]
    },
    {
      "cell_type": "markdown",
      "metadata": {
        "id": "xshxhSr6zoyb"
      },
      "source": [
        "Проврим, есть ли статистическая разница между двумя контрольными группами 246 и 247, то есть проведем А/А-тест. Сформулируем гипотезы:\n",
        "\n",
        "* Нулевая: доли пользователей, совершивших событие в контрольных группах 246 и 247 одинаковы.\n",
        "* Альтернативная: доли пользователей, совершивших событие в контрольных группах 246 и 247 различны."
      ]
    },
    {
      "cell_type": "code",
      "execution_count": 27,
      "metadata": {
        "scrolled": true,
        "colab": {
          "base_uri": "https://localhost:8080/"
        },
        "id": "RpTksyuezoyb",
        "outputId": "30737cd1-42ef-400a-97ec-b7964c244a81"
      },
      "outputs": [
        {
          "output_type": "stream",
          "name": "stdout",
          "text": [
            "Группы 246 и 247, событие: CartScreenAppear\n",
            "p-значение:  0.229\n",
            "Не получилось отвергнуть нулевую гипотезу, нет оснований считать доли разными\n",
            "\n",
            "Группы 246 и 247, событие: MainScreenAppear\n",
            "p-значение:  0.753\n",
            "Не получилось отвергнуть нулевую гипотезу, нет оснований считать доли разными\n",
            "\n",
            "Группы 246 и 247, событие: OffersScreenAppear\n",
            "p-значение:  0.248\n",
            "Не получилось отвергнуть нулевую гипотезу, нет оснований считать доли разными\n",
            "\n",
            "Группы 246 и 247, событие: PaymentScreenSuccessful\n",
            "p-значение:  0.114\n",
            "Не получилось отвергнуть нулевую гипотезу, нет оснований считать доли разными\n",
            "\n"
          ]
        }
      ],
      "source": [
        "for event_name in event_group['event_name']:\n",
        "    print('Группы 246 и 247, событие:', event_name)\n",
        "    test(event_group.loc[event_group['event_name'] == event_name, '246'].values[0],\n",
        "      event_group.loc[event_group['event_name'] == event_name, '247'].values[0],\n",
        "      group.iloc[0]['unique_users'], group.iloc[1]['unique_users'])\n",
        "    print()"
      ]
    },
    {
      "cell_type": "markdown",
      "metadata": {
        "id": "TYdNGZTSzoye"
      },
      "source": [
        "По всем совершенным событиям не наблюдаются различий в долях пользователей в контрольных группах 246 и 247, а значит, можно сказать, что разбиение на группы было произведено корректно"
      ]
    },
    {
      "cell_type": "markdown",
      "metadata": {
        "id": "WaFfv3wHzoyf"
      },
      "source": [
        "Проверим, есть ли статистическая разница между контрольной группой 246 и экспериментальной группой 248. Сформулируем гипотезы:\n",
        "\n",
        "* Нулевая: доли пользователей, совершивших событие в контрольной группе 246 и экспериментальной группе 248 одинаковы.\n",
        "* Альтернативная: доли пользователей, совершивших событие в контрольной группе 246 и экспериментальной группе 248 различны."
      ]
    },
    {
      "cell_type": "code",
      "execution_count": 28,
      "metadata": {
        "scrolled": false,
        "colab": {
          "base_uri": "https://localhost:8080/"
        },
        "id": "6uBA6RnUzoyg",
        "outputId": "aa6affca-950d-4afe-e2ac-7161a1f3f0a8"
      },
      "outputs": [
        {
          "output_type": "stream",
          "name": "stdout",
          "text": [
            "Группы 246 и 248, событие: CartScreenAppear\n",
            "p-значение:  0.081\n",
            "Не получилось отвергнуть нулевую гипотезу, нет оснований считать доли разными\n",
            "\n",
            "Группы 246 и 248, событие: MainScreenAppear\n",
            "p-значение:  0.339\n",
            "Не получилось отвергнуть нулевую гипотезу, нет оснований считать доли разными\n",
            "\n",
            "Группы 246 и 248, событие: OffersScreenAppear\n",
            "p-значение:  0.214\n",
            "Не получилось отвергнуть нулевую гипотезу, нет оснований считать доли разными\n",
            "\n",
            "Группы 246 и 248, событие: PaymentScreenSuccessful\n",
            "p-значение:  0.217\n",
            "Не получилось отвергнуть нулевую гипотезу, нет оснований считать доли разными\n",
            "\n"
          ]
        }
      ],
      "source": [
        "for event_name in event_group['event_name']:\n",
        "    print('Группы 246 и 248, событие:', event_name)\n",
        "    test(event_group.loc[event_group['event_name'] == event_name, '246'].values[0],\n",
        "      event_group.loc[event_group['event_name'] == event_name, '248'].values[0],\n",
        "      group.iloc[0]['unique_users'], group.iloc[2]['unique_users'])\n",
        "    print()"
      ]
    },
    {
      "cell_type": "markdown",
      "metadata": {
        "id": "SirtmHUQzoyg"
      },
      "source": [
        "Различия между долями пользователей, совершивших события в контрольной группе 246 и экспериментальной группе 248 не были обнаружены"
      ]
    },
    {
      "cell_type": "markdown",
      "metadata": {
        "id": "H89F39lUzoyh"
      },
      "source": [
        "Проверим, есть ли статистическая разница между контрольной группой 247 и экспериментальной группой 248. Сформулируем гипотезы:\n",
        "\n",
        "* Нулевая: доли пользователей, совершивших событие в контрольной группе 247 и экспериментальной группе 248 одинаковы.\n",
        "* Альтернативная: доли пользователей, совершивших событие в контрольной группе 247 и экспериментальной группе 248 различны."
      ]
    },
    {
      "cell_type": "code",
      "execution_count": 29,
      "metadata": {
        "colab": {
          "base_uri": "https://localhost:8080/"
        },
        "id": "1V-HsRQpzoyh",
        "outputId": "23b8199d-6263-4b14-9bfa-f8f49a51dcc3"
      },
      "outputs": [
        {
          "output_type": "stream",
          "name": "stdout",
          "text": [
            "Группы 247 и 248, событие: CartScreenAppear\n",
            "p-значение:  0.588\n",
            "Не получилось отвергнуть нулевую гипотезу, нет оснований считать доли разными\n",
            "\n",
            "Группы 247 и 248, событие: MainScreenAppear\n",
            "p-значение:  0.519\n",
            "Не получилось отвергнуть нулевую гипотезу, нет оснований считать доли разными\n",
            "\n",
            "Группы 247 и 248, событие: OffersScreenAppear\n",
            "p-значение:  0.933\n",
            "Не получилось отвергнуть нулевую гипотезу, нет оснований считать доли разными\n",
            "\n",
            "Группы 247 и 248, событие: PaymentScreenSuccessful\n",
            "p-значение:  0.728\n",
            "Не получилось отвергнуть нулевую гипотезу, нет оснований считать доли разными\n",
            "\n"
          ]
        }
      ],
      "source": [
        "for event_name in event_group['event_name']:\n",
        "    print('Группы 247 и 248, событие:', event_name)\n",
        "    test(event_group.loc[event_group['event_name'] == event_name, '247'].values[0],\n",
        "      event_group.loc[event_group['event_name'] == event_name, '248'].values[0],\n",
        "      group.iloc[1]['unique_users'], group.iloc[2]['unique_users'])\n",
        "    print()"
      ]
    },
    {
      "cell_type": "markdown",
      "metadata": {
        "id": "opt2D-35zoyi"
      },
      "source": [
        "Также и между группами 247 и 248 не удалось обнаружить различия между долями пользователей ни по одному совершенному собитию"
      ]
    },
    {
      "cell_type": "markdown",
      "metadata": {
        "id": "r-dJKAjAzoyi"
      },
      "source": [
        "Теперь проверим есть ли различия между полной контрольной группой (246 и 247) и  экспериментальной группой 248. Сформулируем гипотезы:\n",
        "\n",
        "* Нулевая: доли пользователей, совершивших событие в полной контрольной группе и экспериментальной группе 248 одинаковы.\n",
        "* Альтернативная: доли пользователей, совершивших событие в полной контрольной группе и экспериментальной группе 248 различны."
      ]
    },
    {
      "cell_type": "code",
      "execution_count": 30,
      "metadata": {
        "colab": {
          "base_uri": "https://localhost:8080/"
        },
        "id": "dIA55FGbzoyi",
        "outputId": "f1b69f32-f1a0-4a0f-dde9-ff5cb1e3cdfb"
      },
      "outputs": [
        {
          "output_type": "stream",
          "name": "stdout",
          "text": [
            "Группы контрольная и 248, событие: CartScreenAppear\n",
            "p-значение:  0.187\n",
            "Не получилось отвергнуть нулевую гипотезу, нет оснований считать доли разными\n",
            "\n",
            "Группы контрольная и 248, событие: MainScreenAppear\n",
            "p-значение:  0.349\n",
            "Не получилось отвергнуть нулевую гипотезу, нет оснований считать доли разными\n",
            "\n",
            "Группы контрольная и 248, событие: OffersScreenAppear\n",
            "p-значение:  0.446\n",
            "Не получилось отвергнуть нулевую гипотезу, нет оснований считать доли разными\n",
            "\n",
            "Группы контрольная и 248, событие: PaymentScreenSuccessful\n",
            "p-значение:  0.611\n",
            "Не получилось отвергнуть нулевую гипотезу, нет оснований считать доли разными\n",
            "\n"
          ]
        }
      ],
      "source": [
        "for event_name in event_group['event_name']:\n",
        "    print('Группы контрольная и 248, событие:', event_name)\n",
        "    test(event_group.loc[event_group['event_name'] == event_name, 'control'].values[0],\n",
        "      event_group.loc[event_group['event_name'] == event_name, '248'].values[0],\n",
        "      group.iloc[0]['unique_users'] + group.iloc[1]['unique_users'], group.iloc[2]['unique_users'])\n",
        "    print()"
      ]
    },
    {
      "cell_type": "markdown",
      "metadata": {
        "id": "paJvoc0zzoyj"
      },
      "source": [
        "Не удалось обнаружить различия между долями пользователей в полной контрольной и экпериментальной группах по каждому совершенному событию"
      ]
    },
    {
      "cell_type": "markdown",
      "metadata": {
        "id": "kOElrvPCzoyj"
      },
      "source": [
        "Для определения различий между долями использовали z-критерий, уровень значимости (alpha) установили равным 0.05. Так как тест был множественным, и проводилось 16 проверок гипотез, была внесена поправка Бонферрони, которая предотвращает возникновение ошибки первого рода (ложное отвержение нулевой гипотезы). Сначала проверили, что доли пользователей обеих контрольных групп не отличаются, а значит распределение по группам было произведено корректно. По результатам тестирования контрольных групп с экспериментальной, не было обнаружено статистически значимых различий между долями пользователей по всем совершенным событиям"
      ]
    },
    {
      "cell_type": "markdown",
      "metadata": {
        "id": "HCXI6LTnzoyk"
      },
      "source": [
        "### Выводы"
      ]
    },
    {
      "cell_type": "markdown",
      "metadata": {
        "id": "3jlDCvEZzoyk"
      },
      "source": [
        "В ходе работы изучили предоставленный датасет и подготовили его к дальнейшему анализу. Были обнаружены и удалены явные дубликаты, их доля составила менее 1 % данных, пропуски не обнаружены. Изменили названия колонок, перевели дату в правильный формат.\n",
        "\n",
        "При проверке данных было установлено, что пользователи есть во всех трех группах, а также, что в данных нет пользователей, которые участвовали более чем в одной группе. Данные охватывают период с 25.07.2019 по 07.08.2019, но в дальнейшем рассматривался период с 01.08.2019 по 07.08.2019, так как по графику увидели, что данные до 01.08.2019 не полные. При удалении устаревших данных потеряли всего чуть больше 1 % событий и менее 1 % пользователей. Среднее количество событий на одного пользователя составляет 32 события.\n",
        "\n",
        "Анализ воронки событий показал, что порядок воронки продаж в мобильном приложении следующий: главное меню, предложения, корзина, успешная оплата. Шаг обучения в дальнейшем анализе был исключен, так как данный этап по количеству пользователей был последний, но он явно не предполагает покупку, а следовательно этап обучения не обязательный и может быть пропущен. От первого события до оплаты доходят около 47% пользователей, наибольшее количество пользователей теряется на этапе предложений, потери составляют более 38 %.\n",
        "\n",
        "На этапе исследования результатов А/А/В-тестирования применяли z-критерий с поправкой Бонферрони, поскольку тестирование было множественным и предполагало проверку 16 гипотез. Убедились, что в обеих контрольных группах нет различий в долях пользователей по каждому событию, это означает, что разделение по группам было произведено корректно. При сравнении долей пользователей контрольных групп с экспериментальной также не было обнаружено разницы по каждому совершенному событию. То есть можно сделать вывод о том, что вводимые изменения по замене шрифтов во всем приложении не повлияют на поведение пользователей и данное изменение можно не вводить"
      ]
    }
  ],
  "metadata": {
    "ExecuteTimeLog": [
      {
        "duration": 351,
        "start_time": "2023-02-27T07:02:16.573Z"
      },
      {
        "duration": 656,
        "start_time": "2023-02-27T07:11:33.220Z"
      },
      {
        "duration": 4,
        "start_time": "2023-02-27T07:15:05.042Z"
      },
      {
        "duration": 75,
        "start_time": "2023-02-27T07:15:11.970Z"
      },
      {
        "duration": 3,
        "start_time": "2023-02-27T07:15:31.264Z"
      },
      {
        "duration": 33,
        "start_time": "2023-02-27T07:15:34.051Z"
      },
      {
        "duration": 4,
        "start_time": "2023-02-27T07:15:46.935Z"
      },
      {
        "duration": 31,
        "start_time": "2023-02-27T07:15:47.664Z"
      },
      {
        "duration": 3,
        "start_time": "2023-02-27T07:15:53.264Z"
      },
      {
        "duration": 194,
        "start_time": "2023-02-27T07:15:53.752Z"
      },
      {
        "duration": 162,
        "start_time": "2023-02-27T07:16:16.496Z"
      },
      {
        "duration": 4,
        "start_time": "2023-02-27T07:16:17.296Z"
      },
      {
        "duration": 112,
        "start_time": "2023-02-27T07:16:18.016Z"
      },
      {
        "duration": 8,
        "start_time": "2023-02-27T07:33:25.824Z"
      },
      {
        "duration": 731,
        "start_time": "2023-02-27T07:33:34.716Z"
      },
      {
        "duration": 9,
        "start_time": "2023-02-27T07:33:57.778Z"
      },
      {
        "duration": 11,
        "start_time": "2023-02-27T07:34:12.061Z"
      },
      {
        "duration": 5,
        "start_time": "2023-02-27T07:36:26.315Z"
      },
      {
        "duration": 176,
        "start_time": "2023-02-27T07:36:27.029Z"
      },
      {
        "duration": 5,
        "start_time": "2023-02-27T07:36:48.377Z"
      },
      {
        "duration": 187,
        "start_time": "2023-02-27T07:36:48.964Z"
      },
      {
        "duration": 3,
        "start_time": "2023-02-27T07:38:17.558Z"
      },
      {
        "duration": 185,
        "start_time": "2023-02-27T07:38:17.568Z"
      },
      {
        "duration": 4,
        "start_time": "2023-02-27T07:38:17.756Z"
      },
      {
        "duration": 162,
        "start_time": "2023-02-27T07:38:17.762Z"
      },
      {
        "duration": 1220,
        "start_time": "2023-02-27T07:38:17.927Z"
      },
      {
        "duration": 0,
        "start_time": "2023-02-27T07:38:19.148Z"
      },
      {
        "duration": 0,
        "start_time": "2023-02-27T07:38:19.150Z"
      },
      {
        "duration": 7,
        "start_time": "2023-02-27T07:38:39.667Z"
      },
      {
        "duration": 21,
        "start_time": "2023-02-27T07:38:51.179Z"
      },
      {
        "duration": 3,
        "start_time": "2023-02-27T07:39:39.564Z"
      },
      {
        "duration": 8,
        "start_time": "2023-02-27T07:39:43.868Z"
      },
      {
        "duration": 3,
        "start_time": "2023-02-27T07:39:53.770Z"
      },
      {
        "duration": 170,
        "start_time": "2023-02-27T07:39:53.775Z"
      },
      {
        "duration": 5,
        "start_time": "2023-02-27T07:39:53.948Z"
      },
      {
        "duration": 170,
        "start_time": "2023-02-27T07:39:53.954Z"
      },
      {
        "duration": 8,
        "start_time": "2023-02-27T07:39:54.126Z"
      },
      {
        "duration": 4,
        "start_time": "2023-02-27T07:39:54.136Z"
      },
      {
        "duration": 13,
        "start_time": "2023-02-27T07:39:54.141Z"
      },
      {
        "duration": 10,
        "start_time": "2023-02-27T07:40:07.829Z"
      },
      {
        "duration": 9,
        "start_time": "2023-02-27T07:40:15.253Z"
      },
      {
        "duration": 9,
        "start_time": "2023-02-27T07:40:26.380Z"
      },
      {
        "duration": 8,
        "start_time": "2023-02-27T07:40:34.104Z"
      },
      {
        "duration": 10,
        "start_time": "2023-02-27T07:40:40.630Z"
      },
      {
        "duration": 10,
        "start_time": "2023-02-27T07:41:02.493Z"
      },
      {
        "duration": 4,
        "start_time": "2023-02-27T07:41:05.416Z"
      },
      {
        "duration": 181,
        "start_time": "2023-02-27T07:41:05.422Z"
      },
      {
        "duration": 5,
        "start_time": "2023-02-27T07:41:05.605Z"
      },
      {
        "duration": 156,
        "start_time": "2023-02-27T07:41:05.611Z"
      },
      {
        "duration": 693,
        "start_time": "2023-02-27T07:41:05.769Z"
      },
      {
        "duration": 0,
        "start_time": "2023-02-27T07:41:06.464Z"
      },
      {
        "duration": 0,
        "start_time": "2023-02-27T07:41:06.466Z"
      },
      {
        "duration": 8,
        "start_time": "2023-02-27T07:41:47.808Z"
      },
      {
        "duration": 8,
        "start_time": "2023-02-27T07:41:51.284Z"
      },
      {
        "duration": 9,
        "start_time": "2023-02-27T07:42:36.832Z"
      },
      {
        "duration": 103,
        "start_time": "2023-02-27T07:42:48.000Z"
      },
      {
        "duration": 13,
        "start_time": "2023-02-27T07:42:52.312Z"
      },
      {
        "duration": 73,
        "start_time": "2023-02-27T07:43:25.216Z"
      },
      {
        "duration": 166,
        "start_time": "2023-02-27T07:43:39.832Z"
      },
      {
        "duration": 17,
        "start_time": "2023-02-27T07:46:47.189Z"
      },
      {
        "duration": 25,
        "start_time": "2023-02-27T07:49:01.505Z"
      },
      {
        "duration": 120,
        "start_time": "2023-02-27T07:49:14.505Z"
      },
      {
        "duration": 118,
        "start_time": "2023-02-27T07:49:27.288Z"
      },
      {
        "duration": 234,
        "start_time": "2023-02-27T07:50:12.257Z"
      },
      {
        "duration": 21,
        "start_time": "2023-02-27T07:59:09.356Z"
      },
      {
        "duration": 9,
        "start_time": "2023-02-27T08:08:13.222Z"
      },
      {
        "duration": 9,
        "start_time": "2023-02-27T08:08:22.886Z"
      },
      {
        "duration": 3,
        "start_time": "2023-02-27T08:11:19.320Z"
      },
      {
        "duration": 189,
        "start_time": "2023-02-27T08:11:19.326Z"
      },
      {
        "duration": 3,
        "start_time": "2023-02-27T08:11:19.517Z"
      },
      {
        "duration": 163,
        "start_time": "2023-02-27T08:11:19.523Z"
      },
      {
        "duration": 7,
        "start_time": "2023-02-27T08:11:19.688Z"
      },
      {
        "duration": 143,
        "start_time": "2023-02-27T08:11:19.697Z"
      },
      {
        "duration": 152,
        "start_time": "2023-02-27T08:11:19.843Z"
      },
      {
        "duration": 115,
        "start_time": "2023-02-27T08:11:19.997Z"
      },
      {
        "duration": 0,
        "start_time": "2023-02-27T08:11:20.114Z"
      },
      {
        "duration": 0,
        "start_time": "2023-02-27T08:11:20.115Z"
      },
      {
        "duration": 86,
        "start_time": "2023-02-27T08:13:34.526Z"
      },
      {
        "duration": 11,
        "start_time": "2023-02-27T08:18:32.725Z"
      },
      {
        "duration": 15,
        "start_time": "2023-02-27T08:18:45.056Z"
      },
      {
        "duration": 11,
        "start_time": "2023-02-27T08:19:07.555Z"
      },
      {
        "duration": 12,
        "start_time": "2023-02-27T08:19:18.683Z"
      },
      {
        "duration": 13,
        "start_time": "2023-02-27T08:22:22.751Z"
      },
      {
        "duration": 17,
        "start_time": "2023-02-27T08:22:31.519Z"
      },
      {
        "duration": 66,
        "start_time": "2023-02-27T08:24:04.854Z"
      },
      {
        "duration": 69,
        "start_time": "2023-02-27T08:24:20.234Z"
      },
      {
        "duration": 44,
        "start_time": "2023-02-27T08:24:31.258Z"
      },
      {
        "duration": 41,
        "start_time": "2023-02-27T08:26:37.167Z"
      },
      {
        "duration": 6,
        "start_time": "2023-02-27T08:28:33.422Z"
      },
      {
        "duration": 8,
        "start_time": "2023-02-27T08:28:47.624Z"
      },
      {
        "duration": 6,
        "start_time": "2023-02-27T08:28:58.655Z"
      },
      {
        "duration": 7,
        "start_time": "2023-02-27T08:29:07.855Z"
      },
      {
        "duration": 291,
        "start_time": "2023-02-27T08:29:40.227Z"
      },
      {
        "duration": 4,
        "start_time": "2023-02-27T08:29:45.605Z"
      },
      {
        "duration": 200,
        "start_time": "2023-02-27T08:29:45.612Z"
      },
      {
        "duration": 8,
        "start_time": "2023-02-27T08:29:45.814Z"
      },
      {
        "duration": 162,
        "start_time": "2023-02-27T08:29:45.824Z"
      },
      {
        "duration": 10,
        "start_time": "2023-02-27T08:29:45.989Z"
      },
      {
        "duration": 157,
        "start_time": "2023-02-27T08:29:46.001Z"
      },
      {
        "duration": 142,
        "start_time": "2023-02-27T08:29:46.160Z"
      },
      {
        "duration": 53,
        "start_time": "2023-02-27T08:29:46.304Z"
      },
      {
        "duration": 364,
        "start_time": "2023-02-27T08:29:46.360Z"
      },
      {
        "duration": 6,
        "start_time": "2023-02-27T08:29:46.726Z"
      },
      {
        "duration": 15,
        "start_time": "2023-02-27T08:29:46.734Z"
      },
      {
        "duration": 616,
        "start_time": "2023-02-27T08:32:19.939Z"
      },
      {
        "duration": 199,
        "start_time": "2023-02-27T08:32:52.363Z"
      },
      {
        "duration": 1173,
        "start_time": "2023-02-27T08:35:12.183Z"
      },
      {
        "duration": 44,
        "start_time": "2023-02-27T08:35:25.663Z"
      },
      {
        "duration": 54,
        "start_time": "2023-02-27T08:37:58.114Z"
      },
      {
        "duration": 1103,
        "start_time": "2023-02-27T08:44:47.459Z"
      },
      {
        "duration": 87,
        "start_time": "2023-02-27T08:45:12.504Z"
      },
      {
        "duration": 93,
        "start_time": "2023-02-27T08:47:23.304Z"
      },
      {
        "duration": 529,
        "start_time": "2023-02-27T08:47:52.153Z"
      },
      {
        "duration": 577,
        "start_time": "2023-02-27T08:48:08.287Z"
      },
      {
        "duration": 492,
        "start_time": "2023-02-27T08:49:31.432Z"
      },
      {
        "duration": 84,
        "start_time": "2023-02-27T08:49:49.865Z"
      },
      {
        "duration": 137,
        "start_time": "2023-02-27T08:49:59.155Z"
      },
      {
        "duration": 1525,
        "start_time": "2023-02-27T08:50:04.992Z"
      },
      {
        "duration": 24,
        "start_time": "2023-02-27T08:55:32.353Z"
      },
      {
        "duration": 74,
        "start_time": "2023-02-27T08:55:45.998Z"
      },
      {
        "duration": 67,
        "start_time": "2023-02-27T08:55:56.695Z"
      },
      {
        "duration": 40,
        "start_time": "2023-02-27T08:56:30.159Z"
      },
      {
        "duration": 53,
        "start_time": "2023-02-27T08:57:03.969Z"
      },
      {
        "duration": 49,
        "start_time": "2023-02-27T08:59:17.907Z"
      },
      {
        "duration": 3,
        "start_time": "2023-02-27T08:59:20.756Z"
      },
      {
        "duration": 172,
        "start_time": "2023-02-27T08:59:20.761Z"
      },
      {
        "duration": 4,
        "start_time": "2023-02-27T08:59:20.935Z"
      },
      {
        "duration": 157,
        "start_time": "2023-02-27T08:59:20.941Z"
      },
      {
        "duration": 7,
        "start_time": "2023-02-27T08:59:21.100Z"
      },
      {
        "duration": 118,
        "start_time": "2023-02-27T08:59:21.121Z"
      },
      {
        "duration": 144,
        "start_time": "2023-02-27T08:59:21.241Z"
      },
      {
        "duration": 329,
        "start_time": "2023-02-27T08:59:21.387Z"
      },
      {
        "duration": 43,
        "start_time": "2023-02-27T08:59:21.720Z"
      },
      {
        "duration": 6,
        "start_time": "2023-02-27T08:59:21.765Z"
      },
      {
        "duration": 29,
        "start_time": "2023-02-27T08:59:21.772Z"
      },
      {
        "duration": 72,
        "start_time": "2023-02-27T09:00:02.022Z"
      },
      {
        "duration": 58,
        "start_time": "2023-02-27T09:00:16.415Z"
      },
      {
        "duration": 34,
        "start_time": "2023-02-27T09:00:48.466Z"
      },
      {
        "duration": 14,
        "start_time": "2023-02-27T09:01:42.206Z"
      },
      {
        "duration": 59,
        "start_time": "2023-02-27T09:01:48.964Z"
      },
      {
        "duration": 37,
        "start_time": "2023-02-27T09:07:13.767Z"
      },
      {
        "duration": 37,
        "start_time": "2023-02-27T09:07:22.837Z"
      },
      {
        "duration": 213,
        "start_time": "2023-02-27T09:08:16.533Z"
      },
      {
        "duration": 52,
        "start_time": "2023-02-27T09:08:17.749Z"
      },
      {
        "duration": 743,
        "start_time": "2023-02-27T09:17:30.216Z"
      },
      {
        "duration": 219,
        "start_time": "2023-02-27T09:18:06.275Z"
      },
      {
        "duration": 3,
        "start_time": "2023-02-27T09:18:24.108Z"
      },
      {
        "duration": 180,
        "start_time": "2023-02-27T09:18:26.900Z"
      },
      {
        "duration": 176,
        "start_time": "2023-02-27T09:18:43.969Z"
      },
      {
        "duration": 3,
        "start_time": "2023-02-27T09:18:48.166Z"
      },
      {
        "duration": 151,
        "start_time": "2023-02-27T09:18:48.185Z"
      },
      {
        "duration": 4,
        "start_time": "2023-02-27T09:18:48.339Z"
      },
      {
        "duration": 188,
        "start_time": "2023-02-27T09:18:48.345Z"
      },
      {
        "duration": 7,
        "start_time": "2023-02-27T09:18:48.535Z"
      },
      {
        "duration": 111,
        "start_time": "2023-02-27T09:18:48.544Z"
      },
      {
        "duration": 130,
        "start_time": "2023-02-27T09:18:48.656Z"
      },
      {
        "duration": 57,
        "start_time": "2023-02-27T09:18:48.788Z"
      },
      {
        "duration": 201,
        "start_time": "2023-02-27T09:18:48.847Z"
      },
      {
        "duration": 33,
        "start_time": "2023-02-27T09:18:49.050Z"
      },
      {
        "duration": 190,
        "start_time": "2023-02-27T09:18:49.084Z"
      },
      {
        "duration": 0,
        "start_time": "2023-02-27T09:18:49.275Z"
      },
      {
        "duration": 12,
        "start_time": "2023-02-27T09:19:18.687Z"
      },
      {
        "duration": 4,
        "start_time": "2023-02-27T09:19:36.876Z"
      },
      {
        "duration": 169,
        "start_time": "2023-02-27T09:19:39.684Z"
      },
      {
        "duration": 277,
        "start_time": "2023-02-27T09:21:20.365Z"
      },
      {
        "duration": 79,
        "start_time": "2023-02-27T09:21:30.100Z"
      },
      {
        "duration": 113,
        "start_time": "2023-02-27T09:21:34.764Z"
      },
      {
        "duration": 259,
        "start_time": "2023-02-27T09:21:40.484Z"
      },
      {
        "duration": 389,
        "start_time": "2023-02-27T09:22:10.807Z"
      },
      {
        "duration": 607,
        "start_time": "2023-02-27T09:24:14.766Z"
      },
      {
        "duration": 1522,
        "start_time": "2023-02-27T09:24:57.879Z"
      },
      {
        "duration": 1338,
        "start_time": "2023-02-27T09:26:36.202Z"
      },
      {
        "duration": 1438,
        "start_time": "2023-02-27T09:29:39.862Z"
      },
      {
        "duration": 1367,
        "start_time": "2023-02-27T09:29:49.920Z"
      },
      {
        "duration": 1350,
        "start_time": "2023-02-27T09:29:59.432Z"
      },
      {
        "duration": 1464,
        "start_time": "2023-02-27T09:30:05.676Z"
      },
      {
        "duration": 1389,
        "start_time": "2023-02-27T09:30:14.802Z"
      },
      {
        "duration": 1312,
        "start_time": "2023-02-27T09:30:22.329Z"
      },
      {
        "duration": 1656,
        "start_time": "2023-02-27T09:30:33.228Z"
      },
      {
        "duration": 1343,
        "start_time": "2023-02-27T09:30:44.189Z"
      },
      {
        "duration": 3,
        "start_time": "2023-02-27T09:31:01.504Z"
      },
      {
        "duration": 312,
        "start_time": "2023-02-27T09:31:16.232Z"
      },
      {
        "duration": 296,
        "start_time": "2023-02-27T09:31:25.275Z"
      },
      {
        "duration": 300,
        "start_time": "2023-02-27T09:31:32.438Z"
      },
      {
        "duration": 386,
        "start_time": "2023-02-27T09:31:37.470Z"
      },
      {
        "duration": 296,
        "start_time": "2023-02-27T09:31:47.000Z"
      },
      {
        "duration": 376,
        "start_time": "2023-02-27T09:36:35.158Z"
      },
      {
        "duration": 535,
        "start_time": "2023-02-27T09:40:23.463Z"
      },
      {
        "duration": 473,
        "start_time": "2023-02-27T09:40:38.227Z"
      },
      {
        "duration": 339,
        "start_time": "2023-02-27T09:41:46.466Z"
      },
      {
        "duration": 437,
        "start_time": "2023-02-27T09:41:52.174Z"
      },
      {
        "duration": 307,
        "start_time": "2023-02-27T09:42:17.970Z"
      },
      {
        "duration": 343,
        "start_time": "2023-02-27T09:42:39.013Z"
      },
      {
        "duration": 17,
        "start_time": "2023-02-27T09:45:08.930Z"
      },
      {
        "duration": 16,
        "start_time": "2023-02-27T09:45:19.405Z"
      },
      {
        "duration": 11,
        "start_time": "2023-02-27T09:45:42.163Z"
      },
      {
        "duration": 45,
        "start_time": "2023-02-27T09:50:56.371Z"
      },
      {
        "duration": 13,
        "start_time": "2023-02-27T09:51:20.672Z"
      },
      {
        "duration": 199,
        "start_time": "2023-02-27T09:52:26.331Z"
      },
      {
        "duration": 182,
        "start_time": "2023-02-27T09:53:40.898Z"
      },
      {
        "duration": 194,
        "start_time": "2023-02-27T09:55:07.830Z"
      },
      {
        "duration": 2,
        "start_time": "2023-02-27T09:55:11.619Z"
      },
      {
        "duration": 149,
        "start_time": "2023-02-27T09:55:11.627Z"
      },
      {
        "duration": 3,
        "start_time": "2023-02-27T09:55:11.779Z"
      },
      {
        "duration": 142,
        "start_time": "2023-02-27T09:55:11.783Z"
      },
      {
        "duration": 8,
        "start_time": "2023-02-27T09:55:11.926Z"
      },
      {
        "duration": 120,
        "start_time": "2023-02-27T09:55:11.937Z"
      },
      {
        "duration": 133,
        "start_time": "2023-02-27T09:55:12.058Z"
      },
      {
        "duration": 44,
        "start_time": "2023-02-27T09:55:12.193Z"
      },
      {
        "duration": 189,
        "start_time": "2023-02-27T09:55:12.239Z"
      },
      {
        "duration": 32,
        "start_time": "2023-02-27T09:55:12.430Z"
      },
      {
        "duration": 304,
        "start_time": "2023-02-27T09:55:12.464Z"
      },
      {
        "duration": 199,
        "start_time": "2023-02-27T09:55:12.770Z"
      },
      {
        "duration": 6,
        "start_time": "2023-02-27T09:55:12.971Z"
      },
      {
        "duration": 13,
        "start_time": "2023-02-27T09:55:12.979Z"
      },
      {
        "duration": 235,
        "start_time": "2023-02-27T09:56:37.549Z"
      },
      {
        "duration": 3,
        "start_time": "2023-02-27T09:56:42.908Z"
      },
      {
        "duration": 156,
        "start_time": "2023-02-27T09:56:42.913Z"
      },
      {
        "duration": 3,
        "start_time": "2023-02-27T09:56:43.071Z"
      },
      {
        "duration": 156,
        "start_time": "2023-02-27T09:56:43.076Z"
      },
      {
        "duration": 8,
        "start_time": "2023-02-27T09:56:43.235Z"
      },
      {
        "duration": 134,
        "start_time": "2023-02-27T09:56:43.245Z"
      },
      {
        "duration": 133,
        "start_time": "2023-02-27T09:56:43.381Z"
      },
      {
        "duration": 44,
        "start_time": "2023-02-27T09:56:43.515Z"
      },
      {
        "duration": 197,
        "start_time": "2023-02-27T09:56:43.560Z"
      },
      {
        "duration": 38,
        "start_time": "2023-02-27T09:56:43.758Z"
      },
      {
        "duration": 311,
        "start_time": "2023-02-27T09:56:43.799Z"
      },
      {
        "duration": 202,
        "start_time": "2023-02-27T09:56:44.112Z"
      },
      {
        "duration": 8,
        "start_time": "2023-02-27T09:56:44.321Z"
      },
      {
        "duration": 10,
        "start_time": "2023-02-27T09:56:44.331Z"
      },
      {
        "duration": 194,
        "start_time": "2023-02-27T09:57:41.047Z"
      },
      {
        "duration": 2,
        "start_time": "2023-02-27T09:57:47.716Z"
      },
      {
        "duration": 156,
        "start_time": "2023-02-27T09:57:47.720Z"
      },
      {
        "duration": 4,
        "start_time": "2023-02-27T09:57:47.878Z"
      },
      {
        "duration": 144,
        "start_time": "2023-02-27T09:57:47.884Z"
      },
      {
        "duration": 9,
        "start_time": "2023-02-27T09:57:48.031Z"
      },
      {
        "duration": 127,
        "start_time": "2023-02-27T09:57:48.042Z"
      },
      {
        "duration": 135,
        "start_time": "2023-02-27T09:57:48.170Z"
      },
      {
        "duration": 51,
        "start_time": "2023-02-27T09:57:48.307Z"
      },
      {
        "duration": 195,
        "start_time": "2023-02-27T09:57:48.361Z"
      },
      {
        "duration": 42,
        "start_time": "2023-02-27T09:57:48.557Z"
      },
      {
        "duration": 422,
        "start_time": "2023-02-27T09:57:48.601Z"
      },
      {
        "duration": 198,
        "start_time": "2023-02-27T09:57:49.024Z"
      },
      {
        "duration": 6,
        "start_time": "2023-02-27T09:57:49.224Z"
      },
      {
        "duration": 8,
        "start_time": "2023-02-27T09:57:49.232Z"
      },
      {
        "duration": 172,
        "start_time": "2023-02-27T09:58:14.760Z"
      },
      {
        "duration": 3,
        "start_time": "2023-02-27T09:58:18.772Z"
      },
      {
        "duration": 170,
        "start_time": "2023-02-27T09:58:18.777Z"
      },
      {
        "duration": 3,
        "start_time": "2023-02-27T09:58:18.950Z"
      },
      {
        "duration": 164,
        "start_time": "2023-02-27T09:58:18.955Z"
      },
      {
        "duration": 8,
        "start_time": "2023-02-27T09:58:19.121Z"
      },
      {
        "duration": 145,
        "start_time": "2023-02-27T09:58:19.131Z"
      },
      {
        "duration": 135,
        "start_time": "2023-02-27T09:58:19.278Z"
      },
      {
        "duration": 43,
        "start_time": "2023-02-27T09:58:19.415Z"
      },
      {
        "duration": 204,
        "start_time": "2023-02-27T09:58:19.460Z"
      },
      {
        "duration": 36,
        "start_time": "2023-02-27T09:58:19.666Z"
      },
      {
        "duration": 310,
        "start_time": "2023-02-27T09:58:19.704Z"
      },
      {
        "duration": 177,
        "start_time": "2023-02-27T09:58:20.021Z"
      },
      {
        "duration": 5,
        "start_time": "2023-02-27T09:58:20.200Z"
      },
      {
        "duration": 56,
        "start_time": "2023-02-27T09:58:20.206Z"
      },
      {
        "duration": 601,
        "start_time": "2023-02-27T09:58:27.761Z"
      },
      {
        "duration": 157,
        "start_time": "2023-02-27T09:58:28.364Z"
      },
      {
        "duration": 5,
        "start_time": "2023-02-27T09:58:28.522Z"
      },
      {
        "duration": 175,
        "start_time": "2023-02-27T09:58:28.528Z"
      },
      {
        "duration": 16,
        "start_time": "2023-02-27T09:58:28.706Z"
      },
      {
        "duration": 135,
        "start_time": "2023-02-27T09:58:28.723Z"
      },
      {
        "duration": 124,
        "start_time": "2023-02-27T09:58:28.859Z"
      },
      {
        "duration": 46,
        "start_time": "2023-02-27T09:58:28.985Z"
      },
      {
        "duration": 173,
        "start_time": "2023-02-27T09:58:29.033Z"
      },
      {
        "duration": 42,
        "start_time": "2023-02-27T09:58:29.207Z"
      },
      {
        "duration": 384,
        "start_time": "2023-02-27T09:58:29.250Z"
      },
      {
        "duration": 172,
        "start_time": "2023-02-27T09:58:29.636Z"
      },
      {
        "duration": 11,
        "start_time": "2023-02-27T09:58:29.810Z"
      },
      {
        "duration": 8,
        "start_time": "2023-02-27T09:58:29.824Z"
      },
      {
        "duration": 6,
        "start_time": "2023-02-27T09:59:16.579Z"
      },
      {
        "duration": 7,
        "start_time": "2023-02-27T09:59:29.061Z"
      },
      {
        "duration": 15,
        "start_time": "2023-02-27T10:00:45.339Z"
      },
      {
        "duration": 3,
        "start_time": "2023-02-27T10:00:48.276Z"
      },
      {
        "duration": 151,
        "start_time": "2023-02-27T10:00:48.281Z"
      },
      {
        "duration": 3,
        "start_time": "2023-02-27T10:00:48.435Z"
      },
      {
        "duration": 182,
        "start_time": "2023-02-27T10:00:48.440Z"
      },
      {
        "duration": 8,
        "start_time": "2023-02-27T10:00:48.624Z"
      },
      {
        "duration": 125,
        "start_time": "2023-02-27T10:00:48.633Z"
      },
      {
        "duration": 122,
        "start_time": "2023-02-27T10:00:48.759Z"
      },
      {
        "duration": 40,
        "start_time": "2023-02-27T10:00:48.882Z"
      },
      {
        "duration": 171,
        "start_time": "2023-02-27T10:00:48.923Z"
      },
      {
        "duration": 43,
        "start_time": "2023-02-27T10:00:49.095Z"
      },
      {
        "duration": 301,
        "start_time": "2023-02-27T10:00:49.140Z"
      },
      {
        "duration": 13,
        "start_time": "2023-02-27T10:00:49.442Z"
      },
      {
        "duration": 7,
        "start_time": "2023-02-27T10:00:49.457Z"
      },
      {
        "duration": 11,
        "start_time": "2023-02-27T10:00:49.466Z"
      },
      {
        "duration": 81,
        "start_time": "2023-02-27T10:04:30.669Z"
      },
      {
        "duration": 5,
        "start_time": "2023-02-27T10:04:35.250Z"
      },
      {
        "duration": 153,
        "start_time": "2023-02-27T10:04:35.257Z"
      },
      {
        "duration": 3,
        "start_time": "2023-02-27T10:04:35.412Z"
      },
      {
        "duration": 142,
        "start_time": "2023-02-27T10:04:35.417Z"
      },
      {
        "duration": 8,
        "start_time": "2023-02-27T10:04:35.561Z"
      },
      {
        "duration": 128,
        "start_time": "2023-02-27T10:04:35.571Z"
      },
      {
        "duration": 126,
        "start_time": "2023-02-27T10:04:35.700Z"
      },
      {
        "duration": 35,
        "start_time": "2023-02-27T10:04:35.828Z"
      },
      {
        "duration": 189,
        "start_time": "2023-02-27T10:04:35.865Z"
      },
      {
        "duration": 34,
        "start_time": "2023-02-27T10:04:36.056Z"
      },
      {
        "duration": 405,
        "start_time": "2023-02-27T10:04:36.091Z"
      },
      {
        "duration": 23,
        "start_time": "2023-02-27T10:04:36.498Z"
      },
      {
        "duration": 8,
        "start_time": "2023-02-27T10:04:36.522Z"
      },
      {
        "duration": 8,
        "start_time": "2023-02-27T10:04:36.532Z"
      },
      {
        "duration": 22,
        "start_time": "2023-02-27T10:06:12.311Z"
      },
      {
        "duration": 3,
        "start_time": "2023-02-27T10:06:14.389Z"
      },
      {
        "duration": 187,
        "start_time": "2023-02-27T10:06:14.394Z"
      },
      {
        "duration": 4,
        "start_time": "2023-02-27T10:06:14.583Z"
      },
      {
        "duration": 191,
        "start_time": "2023-02-27T10:06:14.589Z"
      },
      {
        "duration": 7,
        "start_time": "2023-02-27T10:06:14.783Z"
      },
      {
        "duration": 129,
        "start_time": "2023-02-27T10:06:14.792Z"
      },
      {
        "duration": 137,
        "start_time": "2023-02-27T10:06:14.922Z"
      },
      {
        "duration": 45,
        "start_time": "2023-02-27T10:06:15.061Z"
      },
      {
        "duration": 189,
        "start_time": "2023-02-27T10:06:15.122Z"
      },
      {
        "duration": 40,
        "start_time": "2023-02-27T10:06:15.313Z"
      },
      {
        "duration": 306,
        "start_time": "2023-02-27T10:06:15.355Z"
      },
      {
        "duration": 16,
        "start_time": "2023-02-27T10:06:15.663Z"
      },
      {
        "duration": 6,
        "start_time": "2023-02-27T10:06:15.681Z"
      },
      {
        "duration": 33,
        "start_time": "2023-02-27T10:06:15.689Z"
      },
      {
        "duration": 3,
        "start_time": "2023-02-27T10:12:55.869Z"
      },
      {
        "duration": 156,
        "start_time": "2023-02-27T10:12:55.874Z"
      },
      {
        "duration": 3,
        "start_time": "2023-02-27T10:12:56.032Z"
      },
      {
        "duration": 130,
        "start_time": "2023-02-27T10:12:56.036Z"
      },
      {
        "duration": 7,
        "start_time": "2023-02-27T10:12:56.168Z"
      },
      {
        "duration": 118,
        "start_time": "2023-02-27T10:12:56.177Z"
      },
      {
        "duration": 136,
        "start_time": "2023-02-27T10:12:56.296Z"
      },
      {
        "duration": 36,
        "start_time": "2023-02-27T10:12:56.433Z"
      },
      {
        "duration": 181,
        "start_time": "2023-02-27T10:12:56.471Z"
      },
      {
        "duration": 36,
        "start_time": "2023-02-27T10:12:56.653Z"
      },
      {
        "duration": 291,
        "start_time": "2023-02-27T10:12:56.691Z"
      },
      {
        "duration": 17,
        "start_time": "2023-02-27T10:12:56.984Z"
      },
      {
        "duration": 21,
        "start_time": "2023-02-27T10:12:57.004Z"
      },
      {
        "duration": 13,
        "start_time": "2023-02-27T10:12:57.027Z"
      },
      {
        "duration": 20,
        "start_time": "2023-02-27T10:13:40.451Z"
      },
      {
        "duration": 2,
        "start_time": "2023-02-27T10:13:42.950Z"
      },
      {
        "duration": 172,
        "start_time": "2023-02-27T10:13:42.954Z"
      },
      {
        "duration": 3,
        "start_time": "2023-02-27T10:13:43.128Z"
      },
      {
        "duration": 156,
        "start_time": "2023-02-27T10:13:43.133Z"
      },
      {
        "duration": 6,
        "start_time": "2023-02-27T10:13:43.291Z"
      },
      {
        "duration": 107,
        "start_time": "2023-02-27T10:13:43.299Z"
      },
      {
        "duration": 127,
        "start_time": "2023-02-27T10:13:43.408Z"
      },
      {
        "duration": 34,
        "start_time": "2023-02-27T10:13:43.537Z"
      },
      {
        "duration": 183,
        "start_time": "2023-02-27T10:13:43.573Z"
      },
      {
        "duration": 35,
        "start_time": "2023-02-27T10:13:43.758Z"
      },
      {
        "duration": 330,
        "start_time": "2023-02-27T10:13:43.796Z"
      },
      {
        "duration": 15,
        "start_time": "2023-02-27T10:13:44.128Z"
      },
      {
        "duration": 8,
        "start_time": "2023-02-27T10:13:44.145Z"
      },
      {
        "duration": 16,
        "start_time": "2023-02-27T10:13:44.155Z"
      },
      {
        "duration": 726,
        "start_time": "2023-02-27T10:13:54.018Z"
      },
      {
        "duration": 156,
        "start_time": "2023-02-27T10:13:54.746Z"
      },
      {
        "duration": 3,
        "start_time": "2023-02-27T10:13:54.903Z"
      },
      {
        "duration": 189,
        "start_time": "2023-02-27T10:13:54.908Z"
      },
      {
        "duration": 11,
        "start_time": "2023-02-27T10:13:55.099Z"
      },
      {
        "duration": 131,
        "start_time": "2023-02-27T10:13:55.121Z"
      },
      {
        "duration": 125,
        "start_time": "2023-02-27T10:13:55.254Z"
      },
      {
        "duration": 50,
        "start_time": "2023-02-27T10:13:55.381Z"
      },
      {
        "duration": 172,
        "start_time": "2023-02-27T10:13:55.433Z"
      },
      {
        "duration": 44,
        "start_time": "2023-02-27T10:13:55.607Z"
      },
      {
        "duration": 353,
        "start_time": "2023-02-27T10:13:55.652Z"
      },
      {
        "duration": 23,
        "start_time": "2023-02-27T10:13:56.006Z"
      },
      {
        "duration": 7,
        "start_time": "2023-02-27T10:13:56.030Z"
      },
      {
        "duration": 14,
        "start_time": "2023-02-27T10:13:56.039Z"
      },
      {
        "duration": 20,
        "start_time": "2023-02-27T10:16:57.571Z"
      },
      {
        "duration": 670,
        "start_time": "2023-02-27T10:17:08.349Z"
      },
      {
        "duration": 157,
        "start_time": "2023-02-27T10:17:09.021Z"
      },
      {
        "duration": 3,
        "start_time": "2023-02-27T10:17:09.180Z"
      },
      {
        "duration": 173,
        "start_time": "2023-02-27T10:17:09.184Z"
      },
      {
        "duration": 9,
        "start_time": "2023-02-27T10:17:09.359Z"
      },
      {
        "duration": 192,
        "start_time": "2023-02-27T10:17:09.370Z"
      },
      {
        "duration": 142,
        "start_time": "2023-02-27T10:17:09.564Z"
      },
      {
        "duration": 46,
        "start_time": "2023-02-27T10:17:09.708Z"
      },
      {
        "duration": 193,
        "start_time": "2023-02-27T10:17:09.756Z"
      },
      {
        "duration": 37,
        "start_time": "2023-02-27T10:17:09.950Z"
      },
      {
        "duration": 386,
        "start_time": "2023-02-27T10:17:09.989Z"
      },
      {
        "duration": 17,
        "start_time": "2023-02-27T10:17:10.376Z"
      },
      {
        "duration": 1306,
        "start_time": "2023-02-27T10:17:10.395Z"
      },
      {
        "duration": 0,
        "start_time": "2023-02-27T10:17:11.703Z"
      },
      {
        "duration": 3,
        "start_time": "2023-02-27T10:19:23.812Z"
      },
      {
        "duration": 157,
        "start_time": "2023-02-27T10:19:23.819Z"
      },
      {
        "duration": 4,
        "start_time": "2023-02-27T10:19:23.978Z"
      },
      {
        "duration": 143,
        "start_time": "2023-02-27T10:19:23.983Z"
      },
      {
        "duration": 7,
        "start_time": "2023-02-27T10:19:24.128Z"
      },
      {
        "duration": 115,
        "start_time": "2023-02-27T10:19:24.136Z"
      },
      {
        "duration": 140,
        "start_time": "2023-02-27T10:19:24.252Z"
      },
      {
        "duration": 47,
        "start_time": "2023-02-27T10:19:24.394Z"
      },
      {
        "duration": 240,
        "start_time": "2023-02-27T10:19:24.443Z"
      },
      {
        "duration": 57,
        "start_time": "2023-02-27T10:19:24.685Z"
      },
      {
        "duration": 319,
        "start_time": "2023-02-27T10:19:24.744Z"
      },
      {
        "duration": 25,
        "start_time": "2023-02-27T10:19:25.065Z"
      },
      {
        "duration": 1214,
        "start_time": "2023-02-27T10:19:25.092Z"
      },
      {
        "duration": 0,
        "start_time": "2023-02-27T10:19:26.308Z"
      },
      {
        "duration": 5,
        "start_time": "2023-02-27T10:19:58.718Z"
      },
      {
        "duration": 5,
        "start_time": "2023-02-27T10:20:08.752Z"
      },
      {
        "duration": 75,
        "start_time": "2023-02-27T10:20:44.931Z"
      },
      {
        "duration": 3,
        "start_time": "2023-02-27T10:20:59.598Z"
      },
      {
        "duration": 161,
        "start_time": "2023-02-27T10:20:59.603Z"
      },
      {
        "duration": 3,
        "start_time": "2023-02-27T10:20:59.766Z"
      },
      {
        "duration": 141,
        "start_time": "2023-02-27T10:20:59.771Z"
      },
      {
        "duration": 9,
        "start_time": "2023-02-27T10:20:59.920Z"
      },
      {
        "duration": 132,
        "start_time": "2023-02-27T10:20:59.930Z"
      },
      {
        "duration": 201,
        "start_time": "2023-02-27T10:21:00.063Z"
      },
      {
        "duration": 61,
        "start_time": "2023-02-27T10:21:00.267Z"
      },
      {
        "duration": 200,
        "start_time": "2023-02-27T10:21:00.331Z"
      },
      {
        "duration": 35,
        "start_time": "2023-02-27T10:21:00.533Z"
      },
      {
        "duration": 312,
        "start_time": "2023-02-27T10:21:00.570Z"
      },
      {
        "duration": 48,
        "start_time": "2023-02-27T10:21:00.883Z"
      },
      {
        "duration": 0,
        "start_time": "2023-02-27T10:21:00.933Z"
      },
      {
        "duration": 0,
        "start_time": "2023-02-27T10:21:00.934Z"
      },
      {
        "duration": 0,
        "start_time": "2023-02-27T10:21:00.935Z"
      },
      {
        "duration": 3,
        "start_time": "2023-02-27T10:21:15.493Z"
      },
      {
        "duration": 157,
        "start_time": "2023-02-27T10:21:15.498Z"
      },
      {
        "duration": 3,
        "start_time": "2023-02-27T10:21:15.657Z"
      },
      {
        "duration": 149,
        "start_time": "2023-02-27T10:21:15.661Z"
      },
      {
        "duration": 14,
        "start_time": "2023-02-27T10:21:15.811Z"
      },
      {
        "duration": 115,
        "start_time": "2023-02-27T10:21:15.826Z"
      },
      {
        "duration": 129,
        "start_time": "2023-02-27T10:21:15.942Z"
      },
      {
        "duration": 35,
        "start_time": "2023-02-27T10:21:16.072Z"
      },
      {
        "duration": 180,
        "start_time": "2023-02-27T10:21:16.120Z"
      },
      {
        "duration": 44,
        "start_time": "2023-02-27T10:21:16.302Z"
      },
      {
        "duration": 314,
        "start_time": "2023-02-27T10:21:16.348Z"
      },
      {
        "duration": 22,
        "start_time": "2023-02-27T10:21:16.665Z"
      },
      {
        "duration": 5,
        "start_time": "2023-02-27T10:21:16.689Z"
      },
      {
        "duration": 1307,
        "start_time": "2023-02-27T10:21:16.695Z"
      },
      {
        "duration": 0,
        "start_time": "2023-02-27T10:21:18.004Z"
      },
      {
        "duration": 15,
        "start_time": "2023-02-27T10:21:40.583Z"
      },
      {
        "duration": 73,
        "start_time": "2023-02-27T10:23:47.554Z"
      },
      {
        "duration": 3,
        "start_time": "2023-02-27T10:23:49.967Z"
      },
      {
        "duration": 145,
        "start_time": "2023-02-27T10:23:49.976Z"
      },
      {
        "duration": 3,
        "start_time": "2023-02-27T10:23:50.123Z"
      },
      {
        "duration": 132,
        "start_time": "2023-02-27T10:23:50.128Z"
      },
      {
        "duration": 8,
        "start_time": "2023-02-27T10:23:50.263Z"
      },
      {
        "duration": 126,
        "start_time": "2023-02-27T10:23:50.274Z"
      },
      {
        "duration": 132,
        "start_time": "2023-02-27T10:23:50.402Z"
      },
      {
        "duration": 33,
        "start_time": "2023-02-27T10:23:50.536Z"
      },
      {
        "duration": 182,
        "start_time": "2023-02-27T10:23:50.571Z"
      },
      {
        "duration": 36,
        "start_time": "2023-02-27T10:23:50.754Z"
      },
      {
        "duration": 290,
        "start_time": "2023-02-27T10:23:50.792Z"
      },
      {
        "duration": 74,
        "start_time": "2023-02-27T10:23:51.083Z"
      },
      {
        "duration": 0,
        "start_time": "2023-02-27T10:23:51.159Z"
      },
      {
        "duration": 0,
        "start_time": "2023-02-27T10:23:51.160Z"
      },
      {
        "duration": 0,
        "start_time": "2023-02-27T10:23:51.162Z"
      },
      {
        "duration": 25,
        "start_time": "2023-02-27T10:24:01.717Z"
      },
      {
        "duration": 20,
        "start_time": "2023-02-27T10:25:11.868Z"
      },
      {
        "duration": 3,
        "start_time": "2023-02-27T10:32:18.979Z"
      },
      {
        "duration": 174,
        "start_time": "2023-02-27T10:32:18.984Z"
      },
      {
        "duration": 3,
        "start_time": "2023-02-27T10:32:19.160Z"
      },
      {
        "duration": 138,
        "start_time": "2023-02-27T10:32:19.165Z"
      },
      {
        "duration": 16,
        "start_time": "2023-02-27T10:32:19.305Z"
      },
      {
        "duration": 112,
        "start_time": "2023-02-27T10:32:19.323Z"
      },
      {
        "duration": 125,
        "start_time": "2023-02-27T10:32:19.437Z"
      },
      {
        "duration": 33,
        "start_time": "2023-02-27T10:32:19.564Z"
      },
      {
        "duration": 186,
        "start_time": "2023-02-27T10:32:19.601Z"
      },
      {
        "duration": 42,
        "start_time": "2023-02-27T10:32:19.789Z"
      },
      {
        "duration": 307,
        "start_time": "2023-02-27T10:32:19.833Z"
      },
      {
        "duration": 17,
        "start_time": "2023-02-27T10:32:20.142Z"
      },
      {
        "duration": 14,
        "start_time": "2023-02-27T10:32:20.161Z"
      },
      {
        "duration": 1386,
        "start_time": "2023-02-27T10:32:20.176Z"
      },
      {
        "duration": 0,
        "start_time": "2023-02-27T10:32:21.564Z"
      },
      {
        "duration": 26,
        "start_time": "2023-02-27T10:32:39.913Z"
      },
      {
        "duration": 3,
        "start_time": "2023-02-27T10:50:10.910Z"
      },
      {
        "duration": 167,
        "start_time": "2023-02-27T10:50:10.922Z"
      },
      {
        "duration": 3,
        "start_time": "2023-02-27T10:50:11.091Z"
      },
      {
        "duration": 145,
        "start_time": "2023-02-27T10:50:11.095Z"
      },
      {
        "duration": 9,
        "start_time": "2023-02-27T10:50:11.241Z"
      },
      {
        "duration": 129,
        "start_time": "2023-02-27T10:50:11.252Z"
      },
      {
        "duration": 132,
        "start_time": "2023-02-27T10:50:11.382Z"
      },
      {
        "duration": 41,
        "start_time": "2023-02-27T10:50:11.516Z"
      },
      {
        "duration": 194,
        "start_time": "2023-02-27T10:50:11.558Z"
      },
      {
        "duration": 35,
        "start_time": "2023-02-27T10:50:11.754Z"
      },
      {
        "duration": 313,
        "start_time": "2023-02-27T10:50:11.791Z"
      },
      {
        "duration": 28,
        "start_time": "2023-02-27T10:50:12.106Z"
      },
      {
        "duration": 20,
        "start_time": "2023-02-27T10:50:12.136Z"
      },
      {
        "duration": 25,
        "start_time": "2023-02-27T10:50:12.158Z"
      },
      {
        "duration": 7,
        "start_time": "2023-02-27T10:50:12.186Z"
      },
      {
        "duration": 3,
        "start_time": "2023-02-27T10:53:00.507Z"
      },
      {
        "duration": 179,
        "start_time": "2023-02-27T10:53:00.512Z"
      },
      {
        "duration": 3,
        "start_time": "2023-02-27T10:53:00.693Z"
      },
      {
        "duration": 154,
        "start_time": "2023-02-27T10:53:00.697Z"
      },
      {
        "duration": 9,
        "start_time": "2023-02-27T10:53:00.853Z"
      },
      {
        "duration": 130,
        "start_time": "2023-02-27T10:53:00.864Z"
      },
      {
        "duration": 125,
        "start_time": "2023-02-27T10:53:00.996Z"
      },
      {
        "duration": 36,
        "start_time": "2023-02-27T10:53:01.123Z"
      },
      {
        "duration": 203,
        "start_time": "2023-02-27T10:53:01.161Z"
      },
      {
        "duration": 38,
        "start_time": "2023-02-27T10:53:01.365Z"
      },
      {
        "duration": 414,
        "start_time": "2023-02-27T10:53:01.406Z"
      },
      {
        "duration": 4,
        "start_time": "2023-02-27T10:53:01.822Z"
      },
      {
        "duration": 0,
        "start_time": "2023-02-27T10:53:01.828Z"
      },
      {
        "duration": 3,
        "start_time": "2023-02-27T10:53:09.307Z"
      },
      {
        "duration": 162,
        "start_time": "2023-02-27T10:53:09.311Z"
      },
      {
        "duration": 4,
        "start_time": "2023-02-27T10:53:09.475Z"
      },
      {
        "duration": 143,
        "start_time": "2023-02-27T10:53:09.480Z"
      },
      {
        "duration": 7,
        "start_time": "2023-02-27T10:53:09.625Z"
      },
      {
        "duration": 120,
        "start_time": "2023-02-27T10:53:09.634Z"
      },
      {
        "duration": 155,
        "start_time": "2023-02-27T10:53:09.756Z"
      },
      {
        "duration": 42,
        "start_time": "2023-02-27T10:53:09.913Z"
      },
      {
        "duration": 177,
        "start_time": "2023-02-27T10:53:09.957Z"
      },
      {
        "duration": 32,
        "start_time": "2023-02-27T10:53:10.136Z"
      },
      {
        "duration": 309,
        "start_time": "2023-02-27T10:53:10.171Z"
      },
      {
        "duration": 16,
        "start_time": "2023-02-27T10:53:10.482Z"
      },
      {
        "duration": 0,
        "start_time": "2023-02-27T10:53:10.500Z"
      },
      {
        "duration": 3,
        "start_time": "2023-02-27T10:53:44.081Z"
      },
      {
        "duration": 139,
        "start_time": "2023-02-27T10:53:44.098Z"
      },
      {
        "duration": 4,
        "start_time": "2023-02-27T10:53:44.238Z"
      },
      {
        "duration": 151,
        "start_time": "2023-02-27T10:53:44.243Z"
      },
      {
        "duration": 8,
        "start_time": "2023-02-27T10:53:44.396Z"
      },
      {
        "duration": 116,
        "start_time": "2023-02-27T10:53:44.421Z"
      },
      {
        "duration": 166,
        "start_time": "2023-02-27T10:53:44.540Z"
      },
      {
        "duration": 53,
        "start_time": "2023-02-27T10:53:44.708Z"
      },
      {
        "duration": 200,
        "start_time": "2023-02-27T10:53:44.763Z"
      },
      {
        "duration": 37,
        "start_time": "2023-02-27T10:53:44.965Z"
      },
      {
        "duration": 334,
        "start_time": "2023-02-27T10:53:45.005Z"
      },
      {
        "duration": 20,
        "start_time": "2023-02-27T10:53:45.340Z"
      },
      {
        "duration": 9,
        "start_time": "2023-02-27T10:53:45.362Z"
      },
      {
        "duration": 3,
        "start_time": "2023-02-27T10:54:53.742Z"
      },
      {
        "duration": 156,
        "start_time": "2023-02-27T10:54:53.747Z"
      },
      {
        "duration": 3,
        "start_time": "2023-02-27T10:54:53.906Z"
      },
      {
        "duration": 155,
        "start_time": "2023-02-27T10:54:53.911Z"
      },
      {
        "duration": 7,
        "start_time": "2023-02-27T10:54:54.069Z"
      },
      {
        "duration": 112,
        "start_time": "2023-02-27T10:54:54.078Z"
      },
      {
        "duration": 125,
        "start_time": "2023-02-27T10:54:54.192Z"
      },
      {
        "duration": 40,
        "start_time": "2023-02-27T10:54:54.321Z"
      },
      {
        "duration": 229,
        "start_time": "2023-02-27T10:54:54.363Z"
      },
      {
        "duration": 52,
        "start_time": "2023-02-27T10:54:54.595Z"
      },
      {
        "duration": 295,
        "start_time": "2023-02-27T10:54:54.650Z"
      },
      {
        "duration": 12,
        "start_time": "2023-02-27T10:54:54.947Z"
      },
      {
        "duration": 3,
        "start_time": "2023-02-27T10:56:24.600Z"
      },
      {
        "duration": 187,
        "start_time": "2023-02-27T10:56:24.605Z"
      },
      {
        "duration": 3,
        "start_time": "2023-02-27T10:56:24.794Z"
      },
      {
        "duration": 166,
        "start_time": "2023-02-27T10:56:24.799Z"
      },
      {
        "duration": 7,
        "start_time": "2023-02-27T10:56:24.967Z"
      },
      {
        "duration": 134,
        "start_time": "2023-02-27T10:56:24.975Z"
      },
      {
        "duration": 129,
        "start_time": "2023-02-27T10:56:25.111Z"
      },
      {
        "duration": 34,
        "start_time": "2023-02-27T10:56:25.242Z"
      },
      {
        "duration": 193,
        "start_time": "2023-02-27T10:56:25.277Z"
      },
      {
        "duration": 33,
        "start_time": "2023-02-27T10:56:25.472Z"
      },
      {
        "duration": 297,
        "start_time": "2023-02-27T10:56:25.520Z"
      },
      {
        "duration": 28,
        "start_time": "2023-02-27T10:56:25.821Z"
      },
      {
        "duration": 7,
        "start_time": "2023-02-27T10:58:52.612Z"
      },
      {
        "duration": 1306,
        "start_time": "2023-02-27T10:59:33.255Z"
      },
      {
        "duration": 9,
        "start_time": "2023-02-27T11:00:14.182Z"
      },
      {
        "duration": 3,
        "start_time": "2023-02-27T11:01:59.762Z"
      },
      {
        "duration": 171,
        "start_time": "2023-02-27T11:01:59.767Z"
      },
      {
        "duration": 4,
        "start_time": "2023-02-27T11:01:59.940Z"
      },
      {
        "duration": 145,
        "start_time": "2023-02-27T11:01:59.946Z"
      },
      {
        "duration": 8,
        "start_time": "2023-02-27T11:02:00.093Z"
      },
      {
        "duration": 126,
        "start_time": "2023-02-27T11:02:00.103Z"
      },
      {
        "duration": 139,
        "start_time": "2023-02-27T11:02:00.231Z"
      },
      {
        "duration": 35,
        "start_time": "2023-02-27T11:02:00.373Z"
      },
      {
        "duration": 181,
        "start_time": "2023-02-27T11:02:00.421Z"
      },
      {
        "duration": 42,
        "start_time": "2023-02-27T11:02:00.604Z"
      },
      {
        "duration": 334,
        "start_time": "2023-02-27T11:02:00.649Z"
      },
      {
        "duration": 23,
        "start_time": "2023-02-27T11:02:00.985Z"
      },
      {
        "duration": 23,
        "start_time": "2023-02-27T11:02:01.021Z"
      },
      {
        "duration": 31,
        "start_time": "2023-02-27T11:03:39.490Z"
      },
      {
        "duration": 35,
        "start_time": "2023-02-27T11:05:03.652Z"
      },
      {
        "duration": 47,
        "start_time": "2023-02-27T11:05:37.527Z"
      },
      {
        "duration": 33,
        "start_time": "2023-02-27T11:06:43.222Z"
      },
      {
        "duration": 33,
        "start_time": "2023-02-27T11:06:54.355Z"
      },
      {
        "duration": 29,
        "start_time": "2023-02-27T11:07:06.134Z"
      },
      {
        "duration": 113,
        "start_time": "2023-02-27T11:14:04.764Z"
      },
      {
        "duration": 3,
        "start_time": "2023-02-27T11:14:12.284Z"
      },
      {
        "duration": 153,
        "start_time": "2023-02-27T11:14:12.290Z"
      },
      {
        "duration": 4,
        "start_time": "2023-02-27T11:14:12.444Z"
      },
      {
        "duration": 142,
        "start_time": "2023-02-27T11:14:12.450Z"
      },
      {
        "duration": 7,
        "start_time": "2023-02-27T11:14:12.594Z"
      },
      {
        "duration": 111,
        "start_time": "2023-02-27T11:14:12.604Z"
      },
      {
        "duration": 123,
        "start_time": "2023-02-27T11:14:12.721Z"
      },
      {
        "duration": 41,
        "start_time": "2023-02-27T11:14:12.846Z"
      },
      {
        "duration": 195,
        "start_time": "2023-02-27T11:14:12.888Z"
      },
      {
        "duration": 42,
        "start_time": "2023-02-27T11:14:13.085Z"
      },
      {
        "duration": 289,
        "start_time": "2023-02-27T11:14:13.129Z"
      },
      {
        "duration": 24,
        "start_time": "2023-02-27T11:14:13.420Z"
      },
      {
        "duration": 45,
        "start_time": "2023-02-27T11:14:13.445Z"
      },
      {
        "duration": 53,
        "start_time": "2023-02-27T11:14:13.492Z"
      },
      {
        "duration": 26,
        "start_time": "2023-02-27T11:14:56.896Z"
      },
      {
        "duration": 717,
        "start_time": "2023-02-27T11:15:04.329Z"
      },
      {
        "duration": 184,
        "start_time": "2023-02-27T11:15:05.048Z"
      },
      {
        "duration": 3,
        "start_time": "2023-02-27T11:15:05.233Z"
      },
      {
        "duration": 183,
        "start_time": "2023-02-27T11:15:05.238Z"
      },
      {
        "duration": 9,
        "start_time": "2023-02-27T11:15:05.423Z"
      },
      {
        "duration": 149,
        "start_time": "2023-02-27T11:15:05.433Z"
      },
      {
        "duration": 121,
        "start_time": "2023-02-27T11:15:05.584Z"
      },
      {
        "duration": 38,
        "start_time": "2023-02-27T11:15:05.707Z"
      },
      {
        "duration": 158,
        "start_time": "2023-02-27T11:15:05.747Z"
      },
      {
        "duration": 43,
        "start_time": "2023-02-27T11:15:05.907Z"
      },
      {
        "duration": 385,
        "start_time": "2023-02-27T11:15:05.951Z"
      },
      {
        "duration": 33,
        "start_time": "2023-02-27T11:15:06.337Z"
      },
      {
        "duration": 100,
        "start_time": "2023-02-27T11:15:06.371Z"
      },
      {
        "duration": 29,
        "start_time": "2023-02-27T11:15:06.474Z"
      },
      {
        "duration": 78,
        "start_time": "2023-02-27T11:21:38.974Z"
      },
      {
        "duration": 3,
        "start_time": "2023-02-27T11:21:47.126Z"
      },
      {
        "duration": 153,
        "start_time": "2023-02-27T11:21:47.131Z"
      },
      {
        "duration": 4,
        "start_time": "2023-02-27T11:21:47.285Z"
      },
      {
        "duration": 137,
        "start_time": "2023-02-27T11:21:47.291Z"
      },
      {
        "duration": 8,
        "start_time": "2023-02-27T11:21:47.430Z"
      },
      {
        "duration": 129,
        "start_time": "2023-02-27T11:21:47.440Z"
      },
      {
        "duration": 123,
        "start_time": "2023-02-27T11:21:47.572Z"
      },
      {
        "duration": 46,
        "start_time": "2023-02-27T11:21:47.697Z"
      },
      {
        "duration": 171,
        "start_time": "2023-02-27T11:21:47.744Z"
      },
      {
        "duration": 35,
        "start_time": "2023-02-27T11:21:47.916Z"
      },
      {
        "duration": 298,
        "start_time": "2023-02-27T11:21:47.952Z"
      },
      {
        "duration": 23,
        "start_time": "2023-02-27T11:21:48.252Z"
      },
      {
        "duration": 66,
        "start_time": "2023-02-27T11:21:48.277Z"
      },
      {
        "duration": 16,
        "start_time": "2023-02-27T11:21:48.345Z"
      },
      {
        "duration": 15,
        "start_time": "2023-02-27T11:22:05.291Z"
      },
      {
        "duration": 655,
        "start_time": "2023-02-27T11:22:11.619Z"
      },
      {
        "duration": 166,
        "start_time": "2023-02-27T11:22:12.276Z"
      },
      {
        "duration": 3,
        "start_time": "2023-02-27T11:22:12.444Z"
      },
      {
        "duration": 184,
        "start_time": "2023-02-27T11:22:12.449Z"
      },
      {
        "duration": 11,
        "start_time": "2023-02-27T11:22:12.635Z"
      },
      {
        "duration": 156,
        "start_time": "2023-02-27T11:22:12.648Z"
      },
      {
        "duration": 164,
        "start_time": "2023-02-27T11:22:12.806Z"
      },
      {
        "duration": 55,
        "start_time": "2023-02-27T11:22:12.972Z"
      },
      {
        "duration": 184,
        "start_time": "2023-02-27T11:22:13.028Z"
      },
      {
        "duration": 40,
        "start_time": "2023-02-27T11:22:13.215Z"
      },
      {
        "duration": 392,
        "start_time": "2023-02-27T11:22:13.256Z"
      },
      {
        "duration": 31,
        "start_time": "2023-02-27T11:22:13.650Z"
      },
      {
        "duration": 62,
        "start_time": "2023-02-27T11:22:13.683Z"
      },
      {
        "duration": 92,
        "start_time": "2023-02-27T11:22:13.746Z"
      },
      {
        "duration": 76,
        "start_time": "2023-02-27T11:22:49.770Z"
      },
      {
        "duration": 85,
        "start_time": "2023-02-27T11:22:59.708Z"
      },
      {
        "duration": 5,
        "start_time": "2023-02-27T11:23:10.013Z"
      },
      {
        "duration": 154,
        "start_time": "2023-02-27T11:23:10.020Z"
      },
      {
        "duration": 5,
        "start_time": "2023-02-27T11:23:10.176Z"
      },
      {
        "duration": 153,
        "start_time": "2023-02-27T11:23:10.183Z"
      },
      {
        "duration": 8,
        "start_time": "2023-02-27T11:23:10.338Z"
      },
      {
        "duration": 132,
        "start_time": "2023-02-27T11:23:10.348Z"
      },
      {
        "duration": 129,
        "start_time": "2023-02-27T11:23:10.481Z"
      },
      {
        "duration": 35,
        "start_time": "2023-02-27T11:23:10.620Z"
      },
      {
        "duration": 169,
        "start_time": "2023-02-27T11:23:10.656Z"
      },
      {
        "duration": 34,
        "start_time": "2023-02-27T11:23:10.827Z"
      },
      {
        "duration": 309,
        "start_time": "2023-02-27T11:23:10.863Z"
      },
      {
        "duration": 25,
        "start_time": "2023-02-27T11:23:11.174Z"
      },
      {
        "duration": 59,
        "start_time": "2023-02-27T11:23:11.202Z"
      },
      {
        "duration": 101,
        "start_time": "2023-02-27T11:23:11.263Z"
      },
      {
        "duration": 676,
        "start_time": "2023-02-27T11:23:36.620Z"
      },
      {
        "duration": 161,
        "start_time": "2023-02-27T11:23:37.298Z"
      },
      {
        "duration": 4,
        "start_time": "2023-02-27T11:23:37.461Z"
      },
      {
        "duration": 180,
        "start_time": "2023-02-27T11:23:37.467Z"
      },
      {
        "duration": 10,
        "start_time": "2023-02-27T11:23:37.649Z"
      },
      {
        "duration": 140,
        "start_time": "2023-02-27T11:23:37.660Z"
      },
      {
        "duration": 127,
        "start_time": "2023-02-27T11:23:37.801Z"
      },
      {
        "duration": 40,
        "start_time": "2023-02-27T11:23:37.930Z"
      },
      {
        "duration": 181,
        "start_time": "2023-02-27T11:23:37.971Z"
      },
      {
        "duration": 39,
        "start_time": "2023-02-27T11:23:38.154Z"
      },
      {
        "duration": 390,
        "start_time": "2023-02-27T11:23:38.195Z"
      },
      {
        "duration": 34,
        "start_time": "2023-02-27T11:23:38.587Z"
      },
      {
        "duration": 46,
        "start_time": "2023-02-27T11:23:38.622Z"
      },
      {
        "duration": 167,
        "start_time": "2023-02-27T11:23:38.669Z"
      },
      {
        "duration": 412,
        "start_time": "2023-02-27T11:25:23.134Z"
      },
      {
        "duration": 82,
        "start_time": "2023-02-27T11:25:34.719Z"
      },
      {
        "duration": 81,
        "start_time": "2023-02-27T11:25:43.617Z"
      },
      {
        "duration": 83,
        "start_time": "2023-02-27T11:26:16.386Z"
      },
      {
        "duration": 92,
        "start_time": "2023-02-27T11:31:21.982Z"
      },
      {
        "duration": 89,
        "start_time": "2023-02-27T11:31:44.272Z"
      },
      {
        "duration": 95,
        "start_time": "2023-02-27T11:33:21.633Z"
      },
      {
        "duration": 8,
        "start_time": "2023-02-27T11:34:06.165Z"
      },
      {
        "duration": 88,
        "start_time": "2023-02-27T11:46:08.614Z"
      },
      {
        "duration": 90,
        "start_time": "2023-02-27T11:47:52.211Z"
      },
      {
        "duration": 30,
        "start_time": "2023-02-27T11:56:52.395Z"
      },
      {
        "duration": 35,
        "start_time": "2023-02-27T11:57:02.714Z"
      },
      {
        "duration": 3,
        "start_time": "2023-02-27T11:58:57.696Z"
      },
      {
        "duration": 172,
        "start_time": "2023-02-27T11:58:57.701Z"
      },
      {
        "duration": 3,
        "start_time": "2023-02-27T11:58:57.877Z"
      },
      {
        "duration": 144,
        "start_time": "2023-02-27T11:58:57.882Z"
      },
      {
        "duration": 8,
        "start_time": "2023-02-27T11:58:58.028Z"
      },
      {
        "duration": 139,
        "start_time": "2023-02-27T11:58:58.037Z"
      },
      {
        "duration": 170,
        "start_time": "2023-02-27T11:58:58.177Z"
      },
      {
        "duration": 43,
        "start_time": "2023-02-27T11:58:58.349Z"
      },
      {
        "duration": 251,
        "start_time": "2023-02-27T11:58:58.394Z"
      },
      {
        "duration": 36,
        "start_time": "2023-02-27T11:58:58.647Z"
      },
      {
        "duration": 319,
        "start_time": "2023-02-27T11:58:58.684Z"
      },
      {
        "duration": 36,
        "start_time": "2023-02-27T11:58:59.005Z"
      },
      {
        "duration": 48,
        "start_time": "2023-02-27T11:58:59.044Z"
      },
      {
        "duration": 105,
        "start_time": "2023-02-27T11:58:59.093Z"
      },
      {
        "duration": 4,
        "start_time": "2023-02-27T11:58:59.200Z"
      },
      {
        "duration": 10,
        "start_time": "2023-02-27T11:59:06.970Z"
      },
      {
        "duration": 668,
        "start_time": "2023-02-27T12:02:59.825Z"
      },
      {
        "duration": 178,
        "start_time": "2023-02-27T12:03:00.495Z"
      },
      {
        "duration": 4,
        "start_time": "2023-02-27T12:03:00.675Z"
      },
      {
        "duration": 203,
        "start_time": "2023-02-27T12:03:00.680Z"
      },
      {
        "duration": 10,
        "start_time": "2023-02-27T12:03:00.885Z"
      },
      {
        "duration": 158,
        "start_time": "2023-02-27T12:03:00.896Z"
      },
      {
        "duration": 133,
        "start_time": "2023-02-27T12:03:01.055Z"
      },
      {
        "duration": 46,
        "start_time": "2023-02-27T12:03:01.190Z"
      },
      {
        "duration": 185,
        "start_time": "2023-02-27T12:03:01.237Z"
      },
      {
        "duration": 50,
        "start_time": "2023-02-27T12:03:01.424Z"
      },
      {
        "duration": 433,
        "start_time": "2023-02-27T12:03:01.475Z"
      },
      {
        "duration": 39,
        "start_time": "2023-02-27T12:03:01.910Z"
      },
      {
        "duration": 85,
        "start_time": "2023-02-27T12:03:01.951Z"
      },
      {
        "duration": 144,
        "start_time": "2023-02-27T12:03:02.039Z"
      },
      {
        "duration": 12,
        "start_time": "2023-02-27T12:03:02.185Z"
      },
      {
        "duration": 15,
        "start_time": "2023-02-27T12:03:24.569Z"
      },
      {
        "duration": 10,
        "start_time": "2023-02-27T12:08:43.436Z"
      },
      {
        "duration": 7,
        "start_time": "2023-02-27T12:09:11.913Z"
      },
      {
        "duration": 10,
        "start_time": "2023-02-27T12:09:13.608Z"
      },
      {
        "duration": 78,
        "start_time": "2023-02-27T12:10:12.697Z"
      },
      {
        "duration": 75,
        "start_time": "2023-02-27T12:10:40.830Z"
      },
      {
        "duration": 10,
        "start_time": "2023-02-27T12:10:45.361Z"
      },
      {
        "duration": 12,
        "start_time": "2023-02-27T12:11:04.739Z"
      },
      {
        "duration": 14,
        "start_time": "2023-02-27T12:15:15.426Z"
      },
      {
        "duration": 11,
        "start_time": "2023-02-27T12:15:23.350Z"
      },
      {
        "duration": 13,
        "start_time": "2023-02-27T12:15:30.863Z"
      },
      {
        "duration": 10,
        "start_time": "2023-02-27T12:15:51.651Z"
      },
      {
        "duration": 12,
        "start_time": "2023-02-27T12:17:34.208Z"
      },
      {
        "duration": 170,
        "start_time": "2023-02-27T12:32:35.267Z"
      },
      {
        "duration": 10,
        "start_time": "2023-02-27T12:34:16.613Z"
      },
      {
        "duration": 14,
        "start_time": "2023-02-27T12:35:01.590Z"
      },
      {
        "duration": 14,
        "start_time": "2023-02-27T12:37:41.333Z"
      },
      {
        "duration": 9,
        "start_time": "2023-02-27T12:38:30.661Z"
      },
      {
        "duration": 25,
        "start_time": "2023-02-27T12:38:38.410Z"
      },
      {
        "duration": 93,
        "start_time": "2023-02-27T12:39:19.411Z"
      },
      {
        "duration": 85,
        "start_time": "2023-02-27T12:39:29.007Z"
      },
      {
        "duration": 481,
        "start_time": "2023-02-27T12:39:39.933Z"
      },
      {
        "duration": 27,
        "start_time": "2023-02-27T12:40:01.946Z"
      },
      {
        "duration": 498,
        "start_time": "2023-02-27T12:40:14.189Z"
      },
      {
        "duration": 1494,
        "start_time": "2023-02-27T12:40:22.469Z"
      },
      {
        "duration": 1427,
        "start_time": "2023-02-27T12:40:35.856Z"
      },
      {
        "duration": 130,
        "start_time": "2023-02-27T12:40:52.782Z"
      },
      {
        "duration": 165,
        "start_time": "2023-02-27T12:41:04.599Z"
      },
      {
        "duration": 22,
        "start_time": "2023-02-27T12:41:20.414Z"
      },
      {
        "duration": 110,
        "start_time": "2023-02-27T12:41:53.430Z"
      },
      {
        "duration": 116,
        "start_time": "2023-02-27T12:42:19.379Z"
      },
      {
        "duration": 114,
        "start_time": "2023-02-27T12:42:28.199Z"
      },
      {
        "duration": 8,
        "start_time": "2023-02-27T12:42:42.527Z"
      },
      {
        "duration": 12,
        "start_time": "2023-02-27T12:42:43.367Z"
      },
      {
        "duration": 18,
        "start_time": "2023-02-27T12:42:54.679Z"
      },
      {
        "duration": 1373,
        "start_time": "2023-02-27T12:44:23.704Z"
      },
      {
        "duration": 1275,
        "start_time": "2023-02-27T12:44:43.644Z"
      },
      {
        "duration": 109,
        "start_time": "2023-02-27T12:45:24.869Z"
      },
      {
        "duration": 13,
        "start_time": "2023-02-27T12:45:46.699Z"
      },
      {
        "duration": 14,
        "start_time": "2023-02-27T12:46:34.933Z"
      },
      {
        "duration": 692,
        "start_time": "2023-02-27T12:46:50.407Z"
      },
      {
        "duration": 186,
        "start_time": "2023-02-27T12:46:51.100Z"
      },
      {
        "duration": 4,
        "start_time": "2023-02-27T12:46:51.287Z"
      },
      {
        "duration": 196,
        "start_time": "2023-02-27T12:46:51.293Z"
      },
      {
        "duration": 10,
        "start_time": "2023-02-27T12:46:51.491Z"
      },
      {
        "duration": 161,
        "start_time": "2023-02-27T12:46:51.503Z"
      },
      {
        "duration": 143,
        "start_time": "2023-02-27T12:46:51.665Z"
      },
      {
        "duration": 51,
        "start_time": "2023-02-27T12:46:51.810Z"
      },
      {
        "duration": 200,
        "start_time": "2023-02-27T12:46:51.863Z"
      },
      {
        "duration": 37,
        "start_time": "2023-02-27T12:46:52.067Z"
      },
      {
        "duration": 440,
        "start_time": "2023-02-27T12:46:52.106Z"
      },
      {
        "duration": 32,
        "start_time": "2023-02-27T12:46:52.548Z"
      },
      {
        "duration": 73,
        "start_time": "2023-02-27T12:46:52.582Z"
      },
      {
        "duration": 111,
        "start_time": "2023-02-27T12:46:52.656Z"
      },
      {
        "duration": 8,
        "start_time": "2023-02-27T12:46:52.769Z"
      },
      {
        "duration": 20,
        "start_time": "2023-02-27T12:46:52.778Z"
      },
      {
        "duration": 188,
        "start_time": "2023-02-27T12:46:52.800Z"
      },
      {
        "duration": 487,
        "start_time": "2023-02-27T12:47:56.622Z"
      },
      {
        "duration": 104,
        "start_time": "2023-02-27T12:48:09.461Z"
      },
      {
        "duration": 95,
        "start_time": "2023-02-27T12:48:41.346Z"
      },
      {
        "duration": 18,
        "start_time": "2023-02-27T12:48:49.917Z"
      },
      {
        "duration": 11,
        "start_time": "2023-02-27T12:48:53.784Z"
      },
      {
        "duration": 449,
        "start_time": "2023-02-27T12:48:59.401Z"
      },
      {
        "duration": 720,
        "start_time": "2023-02-27T12:49:43.128Z"
      },
      {
        "duration": 172,
        "start_time": "2023-02-27T12:49:43.850Z"
      },
      {
        "duration": 5,
        "start_time": "2023-02-27T12:49:44.024Z"
      },
      {
        "duration": 204,
        "start_time": "2023-02-27T12:49:44.031Z"
      },
      {
        "duration": 10,
        "start_time": "2023-02-27T12:49:44.237Z"
      },
      {
        "duration": 158,
        "start_time": "2023-02-27T12:49:44.248Z"
      },
      {
        "duration": 145,
        "start_time": "2023-02-27T12:49:44.408Z"
      },
      {
        "duration": 38,
        "start_time": "2023-02-27T12:49:44.555Z"
      },
      {
        "duration": 213,
        "start_time": "2023-02-27T12:49:44.595Z"
      },
      {
        "duration": 60,
        "start_time": "2023-02-27T12:49:44.810Z"
      },
      {
        "duration": 485,
        "start_time": "2023-02-27T12:49:44.872Z"
      },
      {
        "duration": 31,
        "start_time": "2023-02-27T12:49:45.359Z"
      },
      {
        "duration": 71,
        "start_time": "2023-02-27T12:49:45.392Z"
      },
      {
        "duration": 113,
        "start_time": "2023-02-27T12:49:45.466Z"
      },
      {
        "duration": 7,
        "start_time": "2023-02-27T12:49:45.582Z"
      },
      {
        "duration": 16,
        "start_time": "2023-02-27T12:49:45.592Z"
      },
      {
        "duration": 526,
        "start_time": "2023-02-27T12:49:45.622Z"
      },
      {
        "duration": 3,
        "start_time": "2023-02-27T12:53:41.387Z"
      },
      {
        "duration": 46,
        "start_time": "2023-02-27T12:55:08.039Z"
      },
      {
        "duration": 48,
        "start_time": "2023-02-27T12:58:17.170Z"
      },
      {
        "duration": 50,
        "start_time": "2023-02-27T12:58:37.747Z"
      },
      {
        "duration": 801,
        "start_time": "2023-02-27T12:59:18.874Z"
      },
      {
        "duration": 193,
        "start_time": "2023-02-27T12:59:19.677Z"
      },
      {
        "duration": 3,
        "start_time": "2023-02-27T12:59:19.872Z"
      },
      {
        "duration": 216,
        "start_time": "2023-02-27T12:59:19.877Z"
      },
      {
        "duration": 11,
        "start_time": "2023-02-27T12:59:20.095Z"
      },
      {
        "duration": 174,
        "start_time": "2023-02-27T12:59:20.108Z"
      },
      {
        "duration": 145,
        "start_time": "2023-02-27T12:59:20.284Z"
      },
      {
        "duration": 47,
        "start_time": "2023-02-27T12:59:20.431Z"
      },
      {
        "duration": 208,
        "start_time": "2023-02-27T12:59:20.480Z"
      },
      {
        "duration": 59,
        "start_time": "2023-02-27T12:59:20.691Z"
      },
      {
        "duration": 435,
        "start_time": "2023-02-27T12:59:20.752Z"
      },
      {
        "duration": 52,
        "start_time": "2023-02-27T12:59:21.190Z"
      },
      {
        "duration": 61,
        "start_time": "2023-02-27T12:59:21.245Z"
      },
      {
        "duration": 143,
        "start_time": "2023-02-27T12:59:21.308Z"
      },
      {
        "duration": 9,
        "start_time": "2023-02-27T12:59:21.453Z"
      },
      {
        "duration": 18,
        "start_time": "2023-02-27T12:59:21.464Z"
      },
      {
        "duration": 501,
        "start_time": "2023-02-27T12:59:21.484Z"
      },
      {
        "duration": 51,
        "start_time": "2023-02-27T12:59:53.927Z"
      },
      {
        "duration": 46,
        "start_time": "2023-02-27T13:00:00.176Z"
      },
      {
        "duration": 48,
        "start_time": "2023-02-27T13:00:05.926Z"
      },
      {
        "duration": 53,
        "start_time": "2023-02-27T13:03:19.523Z"
      },
      {
        "duration": 56,
        "start_time": "2023-02-27T13:05:26.277Z"
      },
      {
        "duration": 60,
        "start_time": "2023-02-27T13:06:07.701Z"
      },
      {
        "duration": 50,
        "start_time": "2023-02-27T13:06:18.952Z"
      },
      {
        "duration": 11,
        "start_time": "2023-02-27T13:08:15.304Z"
      },
      {
        "duration": 160,
        "start_time": "2023-02-27T13:09:05.513Z"
      },
      {
        "duration": 47,
        "start_time": "2023-02-27T13:11:51.052Z"
      },
      {
        "duration": 15,
        "start_time": "2023-02-27T13:13:17.734Z"
      },
      {
        "duration": 854,
        "start_time": "2023-02-27T13:13:34.390Z"
      },
      {
        "duration": 162,
        "start_time": "2023-02-27T13:13:35.246Z"
      },
      {
        "duration": 3,
        "start_time": "2023-02-27T13:13:35.410Z"
      },
      {
        "duration": 172,
        "start_time": "2023-02-27T13:13:35.420Z"
      },
      {
        "duration": 10,
        "start_time": "2023-02-27T13:13:35.593Z"
      },
      {
        "duration": 148,
        "start_time": "2023-02-27T13:13:35.604Z"
      },
      {
        "duration": 127,
        "start_time": "2023-02-27T13:13:35.753Z"
      },
      {
        "duration": 43,
        "start_time": "2023-02-27T13:13:35.882Z"
      },
      {
        "duration": 179,
        "start_time": "2023-02-27T13:13:35.927Z"
      },
      {
        "duration": 44,
        "start_time": "2023-02-27T13:13:36.109Z"
      },
      {
        "duration": 396,
        "start_time": "2023-02-27T13:13:36.155Z"
      },
      {
        "duration": 28,
        "start_time": "2023-02-27T13:13:36.553Z"
      },
      {
        "duration": 67,
        "start_time": "2023-02-27T13:13:36.583Z"
      },
      {
        "duration": 110,
        "start_time": "2023-02-27T13:13:36.652Z"
      },
      {
        "duration": 6,
        "start_time": "2023-02-27T13:13:36.763Z"
      },
      {
        "duration": 18,
        "start_time": "2023-02-27T13:13:36.770Z"
      },
      {
        "duration": 446,
        "start_time": "2023-02-27T13:13:36.789Z"
      },
      {
        "duration": 11,
        "start_time": "2023-02-27T13:14:24.671Z"
      },
      {
        "duration": 13,
        "start_time": "2023-02-27T13:14:46.412Z"
      },
      {
        "duration": 782,
        "start_time": "2023-02-27T13:15:05.802Z"
      },
      {
        "duration": 174,
        "start_time": "2023-02-27T13:15:06.586Z"
      },
      {
        "duration": 3,
        "start_time": "2023-02-27T13:15:06.762Z"
      },
      {
        "duration": 194,
        "start_time": "2023-02-27T13:15:06.768Z"
      },
      {
        "duration": 10,
        "start_time": "2023-02-27T13:15:06.964Z"
      },
      {
        "duration": 165,
        "start_time": "2023-02-27T13:15:06.976Z"
      },
      {
        "duration": 240,
        "start_time": "2023-02-27T13:15:07.143Z"
      },
      {
        "duration": 40,
        "start_time": "2023-02-27T13:15:07.385Z"
      },
      {
        "duration": 173,
        "start_time": "2023-02-27T13:15:07.427Z"
      },
      {
        "duration": 46,
        "start_time": "2023-02-27T13:15:07.602Z"
      },
      {
        "duration": 604,
        "start_time": "2023-02-27T13:15:07.650Z"
      },
      {
        "duration": 65,
        "start_time": "2023-02-27T13:15:08.256Z"
      },
      {
        "duration": 55,
        "start_time": "2023-02-27T13:15:08.323Z"
      },
      {
        "duration": 117,
        "start_time": "2023-02-27T13:15:08.379Z"
      },
      {
        "duration": 7,
        "start_time": "2023-02-27T13:15:08.498Z"
      },
      {
        "duration": 48,
        "start_time": "2023-02-27T13:15:08.506Z"
      },
      {
        "duration": 15,
        "start_time": "2023-02-27T13:15:08.556Z"
      },
      {
        "duration": 447,
        "start_time": "2023-02-27T13:15:08.573Z"
      },
      {
        "duration": 741,
        "start_time": "2023-02-27T13:15:31.827Z"
      },
      {
        "duration": 173,
        "start_time": "2023-02-27T13:15:32.570Z"
      },
      {
        "duration": 3,
        "start_time": "2023-02-27T13:15:32.745Z"
      },
      {
        "duration": 181,
        "start_time": "2023-02-27T13:15:32.750Z"
      },
      {
        "duration": 11,
        "start_time": "2023-02-27T13:15:32.934Z"
      },
      {
        "duration": 144,
        "start_time": "2023-02-27T13:15:32.946Z"
      },
      {
        "duration": 135,
        "start_time": "2023-02-27T13:15:33.091Z"
      },
      {
        "duration": 40,
        "start_time": "2023-02-27T13:15:33.228Z"
      },
      {
        "duration": 188,
        "start_time": "2023-02-27T13:15:33.269Z"
      },
      {
        "duration": 35,
        "start_time": "2023-02-27T13:15:33.459Z"
      },
      {
        "duration": 394,
        "start_time": "2023-02-27T13:15:33.495Z"
      },
      {
        "duration": 36,
        "start_time": "2023-02-27T13:15:33.890Z"
      },
      {
        "duration": 53,
        "start_time": "2023-02-27T13:15:33.928Z"
      },
      {
        "duration": 115,
        "start_time": "2023-02-27T13:15:33.983Z"
      },
      {
        "duration": 7,
        "start_time": "2023-02-27T13:15:34.100Z"
      },
      {
        "duration": 37,
        "start_time": "2023-02-27T13:15:34.125Z"
      },
      {
        "duration": 436,
        "start_time": "2023-02-27T13:15:34.164Z"
      },
      {
        "duration": 715,
        "start_time": "2023-02-27T13:15:59.952Z"
      },
      {
        "duration": 173,
        "start_time": "2023-02-27T13:16:00.669Z"
      },
      {
        "duration": 3,
        "start_time": "2023-02-27T13:16:00.844Z"
      },
      {
        "duration": 225,
        "start_time": "2023-02-27T13:16:00.848Z"
      },
      {
        "duration": 9,
        "start_time": "2023-02-27T13:16:01.075Z"
      },
      {
        "duration": 163,
        "start_time": "2023-02-27T13:16:01.085Z"
      },
      {
        "duration": 128,
        "start_time": "2023-02-27T13:16:01.249Z"
      },
      {
        "duration": 47,
        "start_time": "2023-02-27T13:16:01.378Z"
      },
      {
        "duration": 181,
        "start_time": "2023-02-27T13:16:01.428Z"
      },
      {
        "duration": 47,
        "start_time": "2023-02-27T13:16:01.611Z"
      },
      {
        "duration": 434,
        "start_time": "2023-02-27T13:16:01.660Z"
      },
      {
        "duration": 38,
        "start_time": "2023-02-27T13:16:02.096Z"
      },
      {
        "duration": 58,
        "start_time": "2023-02-27T13:16:02.136Z"
      },
      {
        "duration": 108,
        "start_time": "2023-02-27T13:16:02.196Z"
      },
      {
        "duration": 8,
        "start_time": "2023-02-27T13:16:02.306Z"
      },
      {
        "duration": 46,
        "start_time": "2023-02-27T13:16:02.323Z"
      },
      {
        "duration": 417,
        "start_time": "2023-02-27T13:16:02.371Z"
      },
      {
        "duration": 714,
        "start_time": "2023-02-27T13:16:57.857Z"
      },
      {
        "duration": 171,
        "start_time": "2023-02-27T13:16:58.572Z"
      },
      {
        "duration": 4,
        "start_time": "2023-02-27T13:16:58.744Z"
      },
      {
        "duration": 176,
        "start_time": "2023-02-27T13:16:58.750Z"
      },
      {
        "duration": 12,
        "start_time": "2023-02-27T13:16:58.929Z"
      },
      {
        "duration": 144,
        "start_time": "2023-02-27T13:16:58.942Z"
      },
      {
        "duration": 133,
        "start_time": "2023-02-27T13:16:59.088Z"
      },
      {
        "duration": 43,
        "start_time": "2023-02-27T13:16:59.223Z"
      },
      {
        "duration": 181,
        "start_time": "2023-02-27T13:16:59.268Z"
      },
      {
        "duration": 35,
        "start_time": "2023-02-27T13:16:59.451Z"
      },
      {
        "duration": 404,
        "start_time": "2023-02-27T13:16:59.488Z"
      },
      {
        "duration": 41,
        "start_time": "2023-02-27T13:16:59.894Z"
      },
      {
        "duration": 46,
        "start_time": "2023-02-27T13:16:59.937Z"
      },
      {
        "duration": 109,
        "start_time": "2023-02-27T13:16:59.984Z"
      },
      {
        "duration": 7,
        "start_time": "2023-02-27T13:17:00.095Z"
      },
      {
        "duration": 38,
        "start_time": "2023-02-27T13:17:00.104Z"
      },
      {
        "duration": 457,
        "start_time": "2023-02-27T13:17:00.143Z"
      },
      {
        "duration": 136,
        "start_time": "2023-02-27T13:25:09.209Z"
      },
      {
        "duration": 38,
        "start_time": "2023-02-27T13:25:56.523Z"
      },
      {
        "duration": 30,
        "start_time": "2023-02-27T13:26:02.653Z"
      },
      {
        "duration": 29,
        "start_time": "2023-02-27T13:26:06.241Z"
      },
      {
        "duration": 426,
        "start_time": "2023-02-27T13:27:08.740Z"
      },
      {
        "duration": 385,
        "start_time": "2023-02-27T13:43:49.632Z"
      },
      {
        "duration": 1320,
        "start_time": "2023-02-27T13:43:59.423Z"
      },
      {
        "duration": 173,
        "start_time": "2023-02-27T13:44:00.745Z"
      },
      {
        "duration": 5,
        "start_time": "2023-02-27T13:44:00.920Z"
      },
      {
        "duration": 223,
        "start_time": "2023-02-27T13:44:00.927Z"
      },
      {
        "duration": 9,
        "start_time": "2023-02-27T13:44:01.152Z"
      },
      {
        "duration": 169,
        "start_time": "2023-02-27T13:44:01.163Z"
      },
      {
        "duration": 130,
        "start_time": "2023-02-27T13:44:01.334Z"
      },
      {
        "duration": 42,
        "start_time": "2023-02-27T13:44:01.465Z"
      },
      {
        "duration": 216,
        "start_time": "2023-02-27T13:44:01.522Z"
      },
      {
        "duration": 38,
        "start_time": "2023-02-27T13:44:01.741Z"
      },
      {
        "duration": 446,
        "start_time": "2023-02-27T13:44:01.780Z"
      },
      {
        "duration": 29,
        "start_time": "2023-02-27T13:44:02.228Z"
      },
      {
        "duration": 63,
        "start_time": "2023-02-27T13:44:02.258Z"
      },
      {
        "duration": 100,
        "start_time": "2023-02-27T13:44:02.323Z"
      },
      {
        "duration": 6,
        "start_time": "2023-02-27T13:44:02.425Z"
      },
      {
        "duration": 18,
        "start_time": "2023-02-27T13:44:02.432Z"
      },
      {
        "duration": 391,
        "start_time": "2023-02-27T13:44:02.451Z"
      },
      {
        "duration": 30,
        "start_time": "2023-02-27T13:44:02.844Z"
      },
      {
        "duration": 69,
        "start_time": "2023-02-27T14:23:13.353Z"
      },
      {
        "duration": 67,
        "start_time": "2023-02-27T14:23:19.383Z"
      },
      {
        "duration": 89,
        "start_time": "2023-02-27T14:24:47.440Z"
      },
      {
        "duration": 90,
        "start_time": "2023-02-27T14:25:16.654Z"
      },
      {
        "duration": 89,
        "start_time": "2023-02-27T14:27:08.184Z"
      },
      {
        "duration": 90,
        "start_time": "2023-02-27T14:27:15.346Z"
      },
      {
        "duration": 108,
        "start_time": "2023-02-27T14:32:18.768Z"
      },
      {
        "duration": 1352,
        "start_time": "2023-02-27T14:36:47.398Z"
      },
      {
        "duration": 169,
        "start_time": "2023-02-27T14:36:48.752Z"
      },
      {
        "duration": 6,
        "start_time": "2023-02-27T14:36:48.924Z"
      },
      {
        "duration": 190,
        "start_time": "2023-02-27T14:36:48.932Z"
      },
      {
        "duration": 16,
        "start_time": "2023-02-27T14:36:49.125Z"
      },
      {
        "duration": 149,
        "start_time": "2023-02-27T14:36:49.142Z"
      },
      {
        "duration": 155,
        "start_time": "2023-02-27T14:36:49.293Z"
      },
      {
        "duration": 39,
        "start_time": "2023-02-27T14:36:49.449Z"
      },
      {
        "duration": 199,
        "start_time": "2023-02-27T14:36:49.490Z"
      },
      {
        "duration": 56,
        "start_time": "2023-02-27T14:36:49.691Z"
      },
      {
        "duration": 483,
        "start_time": "2023-02-27T14:36:49.748Z"
      },
      {
        "duration": 30,
        "start_time": "2023-02-27T14:36:50.234Z"
      },
      {
        "duration": 30,
        "start_time": "2023-02-27T14:36:50.267Z"
      },
      {
        "duration": 134,
        "start_time": "2023-02-27T14:36:50.299Z"
      },
      {
        "duration": 7,
        "start_time": "2023-02-27T14:36:50.435Z"
      },
      {
        "duration": 15,
        "start_time": "2023-02-27T14:36:50.444Z"
      },
      {
        "duration": 378,
        "start_time": "2023-02-27T14:36:50.461Z"
      },
      {
        "duration": 95,
        "start_time": "2023-02-27T14:36:50.841Z"
      },
      {
        "duration": 135,
        "start_time": "2023-02-27T14:36:50.938Z"
      },
      {
        "duration": 4,
        "start_time": "2023-02-27T14:36:51.074Z"
      },
      {
        "duration": 166,
        "start_time": "2023-02-27T14:36:51.080Z"
      },
      {
        "duration": 60,
        "start_time": "2023-02-27T14:37:02.821Z"
      },
      {
        "duration": 40,
        "start_time": "2023-02-27T14:37:53.739Z"
      },
      {
        "duration": 6,
        "start_time": "2023-02-27T15:08:39.494Z"
      },
      {
        "duration": 5,
        "start_time": "2023-02-27T15:08:50.335Z"
      },
      {
        "duration": 37,
        "start_time": "2023-02-27T15:12:50.138Z"
      },
      {
        "duration": 6,
        "start_time": "2023-02-27T15:15:17.651Z"
      },
      {
        "duration": 22,
        "start_time": "2023-02-27T15:15:19.188Z"
      },
      {
        "duration": 28,
        "start_time": "2023-02-27T15:15:38.949Z"
      },
      {
        "duration": 6,
        "start_time": "2023-02-27T15:17:29.912Z"
      },
      {
        "duration": 42,
        "start_time": "2023-02-27T15:17:31.720Z"
      },
      {
        "duration": 6,
        "start_time": "2023-02-27T15:17:51.970Z"
      },
      {
        "duration": 95,
        "start_time": "2023-02-27T15:17:52.783Z"
      },
      {
        "duration": 7,
        "start_time": "2023-02-27T15:20:24.508Z"
      },
      {
        "duration": 134,
        "start_time": "2023-02-27T15:20:25.221Z"
      },
      {
        "duration": 13,
        "start_time": "2023-02-27T15:23:46.116Z"
      },
      {
        "duration": 125,
        "start_time": "2023-02-27T15:23:47.546Z"
      },
      {
        "duration": 1311,
        "start_time": "2023-02-27T15:26:23.750Z"
      },
      {
        "duration": 184,
        "start_time": "2023-02-27T15:26:25.063Z"
      },
      {
        "duration": 4,
        "start_time": "2023-02-27T15:26:25.249Z"
      },
      {
        "duration": 197,
        "start_time": "2023-02-27T15:26:25.256Z"
      },
      {
        "duration": 9,
        "start_time": "2023-02-27T15:26:25.455Z"
      },
      {
        "duration": 156,
        "start_time": "2023-02-27T15:26:25.466Z"
      },
      {
        "duration": 149,
        "start_time": "2023-02-27T15:26:25.624Z"
      },
      {
        "duration": 51,
        "start_time": "2023-02-27T15:26:25.776Z"
      },
      {
        "duration": 218,
        "start_time": "2023-02-27T15:26:25.829Z"
      },
      {
        "duration": 43,
        "start_time": "2023-02-27T15:26:26.049Z"
      },
      {
        "duration": 425,
        "start_time": "2023-02-27T15:26:26.094Z"
      },
      {
        "duration": 36,
        "start_time": "2023-02-27T15:26:26.521Z"
      },
      {
        "duration": 31,
        "start_time": "2023-02-27T15:26:26.558Z"
      },
      {
        "duration": 121,
        "start_time": "2023-02-27T15:26:26.593Z"
      },
      {
        "duration": 9,
        "start_time": "2023-02-27T15:26:26.722Z"
      },
      {
        "duration": 34,
        "start_time": "2023-02-27T15:26:26.733Z"
      },
      {
        "duration": 351,
        "start_time": "2023-02-27T15:26:26.769Z"
      },
      {
        "duration": 48,
        "start_time": "2023-02-27T15:26:27.125Z"
      },
      {
        "duration": 192,
        "start_time": "2023-02-27T15:26:27.175Z"
      },
      {
        "duration": 5,
        "start_time": "2023-02-27T15:26:27.369Z"
      },
      {
        "duration": 118,
        "start_time": "2023-02-27T15:26:27.376Z"
      },
      {
        "duration": 8,
        "start_time": "2023-02-27T15:31:34.465Z"
      },
      {
        "duration": 151,
        "start_time": "2023-02-27T15:31:35.847Z"
      },
      {
        "duration": 6,
        "start_time": "2023-02-27T15:31:59.049Z"
      },
      {
        "duration": 106,
        "start_time": "2023-02-27T15:32:00.013Z"
      },
      {
        "duration": 6,
        "start_time": "2023-02-27T15:33:10.075Z"
      },
      {
        "duration": 107,
        "start_time": "2023-02-27T15:33:10.568Z"
      },
      {
        "duration": 6,
        "start_time": "2023-02-27T15:33:37.201Z"
      },
      {
        "duration": 103,
        "start_time": "2023-02-27T15:33:37.750Z"
      },
      {
        "duration": 4,
        "start_time": "2023-02-27T15:34:19.750Z"
      },
      {
        "duration": 3,
        "start_time": "2023-02-27T15:34:23.149Z"
      },
      {
        "duration": 6,
        "start_time": "2023-02-27T15:34:35.393Z"
      },
      {
        "duration": 103,
        "start_time": "2023-02-27T15:34:36.352Z"
      },
      {
        "duration": 6,
        "start_time": "2023-02-27T15:35:52.080Z"
      },
      {
        "duration": 11,
        "start_time": "2023-02-27T15:35:53.730Z"
      },
      {
        "duration": 1451,
        "start_time": "2023-02-27T15:36:08.324Z"
      },
      {
        "duration": 110,
        "start_time": "2023-02-27T15:36:17.366Z"
      },
      {
        "duration": 9,
        "start_time": "2023-02-27T15:37:09.241Z"
      },
      {
        "duration": 107,
        "start_time": "2023-02-27T15:37:09.954Z"
      },
      {
        "duration": 6,
        "start_time": "2023-02-27T15:38:10.053Z"
      },
      {
        "duration": 115,
        "start_time": "2023-02-27T15:38:12.309Z"
      },
      {
        "duration": 6,
        "start_time": "2023-02-27T15:39:01.240Z"
      },
      {
        "duration": 8,
        "start_time": "2023-02-27T15:41:26.416Z"
      },
      {
        "duration": 133,
        "start_time": "2023-02-27T15:41:27.097Z"
      },
      {
        "duration": 101,
        "start_time": "2023-02-27T15:42:13.911Z"
      },
      {
        "duration": 6,
        "start_time": "2023-02-27T15:49:57.385Z"
      },
      {
        "duration": 92,
        "start_time": "2023-02-27T15:49:57.998Z"
      },
      {
        "duration": 1167,
        "start_time": "2023-02-27T15:50:10.167Z"
      },
      {
        "duration": 182,
        "start_time": "2023-02-27T15:50:11.336Z"
      },
      {
        "duration": 4,
        "start_time": "2023-02-27T15:50:11.521Z"
      },
      {
        "duration": 282,
        "start_time": "2023-02-27T15:50:11.528Z"
      },
      {
        "duration": 15,
        "start_time": "2023-02-27T15:50:11.812Z"
      },
      {
        "duration": 161,
        "start_time": "2023-02-27T15:50:11.830Z"
      },
      {
        "duration": 146,
        "start_time": "2023-02-27T15:50:11.993Z"
      },
      {
        "duration": 42,
        "start_time": "2023-02-27T15:50:12.141Z"
      },
      {
        "duration": 201,
        "start_time": "2023-02-27T15:50:12.185Z"
      },
      {
        "duration": 47,
        "start_time": "2023-02-27T15:50:12.390Z"
      },
      {
        "duration": 416,
        "start_time": "2023-02-27T15:50:12.439Z"
      },
      {
        "duration": 31,
        "start_time": "2023-02-27T15:50:12.857Z"
      },
      {
        "duration": 50,
        "start_time": "2023-02-27T15:50:12.891Z"
      },
      {
        "duration": 108,
        "start_time": "2023-02-27T15:50:12.942Z"
      },
      {
        "duration": 8,
        "start_time": "2023-02-27T15:50:13.051Z"
      },
      {
        "duration": 17,
        "start_time": "2023-02-27T15:50:13.061Z"
      },
      {
        "duration": 366,
        "start_time": "2023-02-27T15:50:13.080Z"
      },
      {
        "duration": 78,
        "start_time": "2023-02-27T15:50:13.447Z"
      },
      {
        "duration": 136,
        "start_time": "2023-02-27T15:50:13.527Z"
      },
      {
        "duration": 6,
        "start_time": "2023-02-27T15:50:13.665Z"
      },
      {
        "duration": 119,
        "start_time": "2023-02-27T15:50:13.673Z"
      },
      {
        "duration": 160,
        "start_time": "2023-02-27T15:50:13.794Z"
      },
      {
        "duration": 107,
        "start_time": "2023-02-27T15:50:39.688Z"
      },
      {
        "duration": 87,
        "start_time": "2023-02-27T15:51:32.591Z"
      },
      {
        "duration": 90,
        "start_time": "2023-02-27T15:51:48.979Z"
      },
      {
        "duration": 9,
        "start_time": "2023-02-27T15:51:51.858Z"
      },
      {
        "duration": 120,
        "start_time": "2023-02-27T15:51:52.831Z"
      },
      {
        "duration": 1251,
        "start_time": "2023-02-27T15:52:06.035Z"
      },
      {
        "duration": 180,
        "start_time": "2023-02-27T15:52:07.288Z"
      },
      {
        "duration": 3,
        "start_time": "2023-02-27T15:52:07.470Z"
      },
      {
        "duration": 204,
        "start_time": "2023-02-27T15:52:07.475Z"
      },
      {
        "duration": 11,
        "start_time": "2023-02-27T15:52:07.680Z"
      },
      {
        "duration": 148,
        "start_time": "2023-02-27T15:52:07.692Z"
      },
      {
        "duration": 134,
        "start_time": "2023-02-27T15:52:07.842Z"
      },
      {
        "duration": 47,
        "start_time": "2023-02-27T15:52:07.979Z"
      },
      {
        "duration": 176,
        "start_time": "2023-02-27T15:52:08.028Z"
      },
      {
        "duration": 43,
        "start_time": "2023-02-27T15:52:08.208Z"
      },
      {
        "duration": 399,
        "start_time": "2023-02-27T15:52:08.253Z"
      },
      {
        "duration": 27,
        "start_time": "2023-02-27T15:52:08.655Z"
      },
      {
        "duration": 44,
        "start_time": "2023-02-27T15:52:08.684Z"
      },
      {
        "duration": 107,
        "start_time": "2023-02-27T15:52:08.729Z"
      },
      {
        "duration": 9,
        "start_time": "2023-02-27T15:52:08.837Z"
      },
      {
        "duration": 16,
        "start_time": "2023-02-27T15:52:08.847Z"
      },
      {
        "duration": 370,
        "start_time": "2023-02-27T15:52:08.864Z"
      },
      {
        "duration": 86,
        "start_time": "2023-02-27T15:52:09.236Z"
      },
      {
        "duration": 122,
        "start_time": "2023-02-27T15:52:09.324Z"
      },
      {
        "duration": 6,
        "start_time": "2023-02-27T15:52:09.448Z"
      },
      {
        "duration": 117,
        "start_time": "2023-02-27T15:52:09.455Z"
      },
      {
        "duration": 167,
        "start_time": "2023-02-27T15:52:09.573Z"
      },
      {
        "duration": 114,
        "start_time": "2023-02-27T15:57:34.364Z"
      },
      {
        "duration": 6,
        "start_time": "2023-02-27T15:59:00.171Z"
      },
      {
        "duration": 1291,
        "start_time": "2023-02-27T15:59:32.504Z"
      },
      {
        "duration": 101,
        "start_time": "2023-02-27T15:59:41.008Z"
      },
      {
        "duration": 1182,
        "start_time": "2023-02-27T16:05:45.428Z"
      },
      {
        "duration": 172,
        "start_time": "2023-02-27T16:05:46.612Z"
      },
      {
        "duration": 4,
        "start_time": "2023-02-27T16:05:46.786Z"
      },
      {
        "duration": 198,
        "start_time": "2023-02-27T16:05:46.791Z"
      },
      {
        "duration": 10,
        "start_time": "2023-02-27T16:05:46.991Z"
      },
      {
        "duration": 175,
        "start_time": "2023-02-27T16:05:47.003Z"
      },
      {
        "duration": 137,
        "start_time": "2023-02-27T16:05:47.179Z"
      },
      {
        "duration": 45,
        "start_time": "2023-02-27T16:05:47.321Z"
      },
      {
        "duration": 189,
        "start_time": "2023-02-27T16:05:47.368Z"
      },
      {
        "duration": 36,
        "start_time": "2023-02-27T16:05:47.559Z"
      },
      {
        "duration": 420,
        "start_time": "2023-02-27T16:05:47.597Z"
      },
      {
        "duration": 45,
        "start_time": "2023-02-27T16:05:48.019Z"
      },
      {
        "duration": 32,
        "start_time": "2023-02-27T16:05:48.066Z"
      },
      {
        "duration": 142,
        "start_time": "2023-02-27T16:05:48.101Z"
      },
      {
        "duration": 9,
        "start_time": "2023-02-27T16:05:48.248Z"
      },
      {
        "duration": 19,
        "start_time": "2023-02-27T16:05:48.259Z"
      },
      {
        "duration": 424,
        "start_time": "2023-02-27T16:05:48.280Z"
      },
      {
        "duration": 129,
        "start_time": "2023-02-27T16:05:48.706Z"
      },
      {
        "duration": 122,
        "start_time": "2023-02-27T16:05:48.844Z"
      },
      {
        "duration": 7,
        "start_time": "2023-02-27T16:05:48.968Z"
      },
      {
        "duration": 141,
        "start_time": "2023-02-27T16:05:48.976Z"
      },
      {
        "duration": 6,
        "start_time": "2023-02-27T16:07:48.550Z"
      },
      {
        "duration": 116,
        "start_time": "2023-02-27T16:07:49.066Z"
      },
      {
        "duration": 8,
        "start_time": "2023-02-27T16:07:58.047Z"
      },
      {
        "duration": 137,
        "start_time": "2023-02-27T16:08:02.874Z"
      },
      {
        "duration": 6,
        "start_time": "2023-02-27T16:13:08.172Z"
      },
      {
        "duration": 94,
        "start_time": "2023-02-27T16:13:09.928Z"
      },
      {
        "duration": 8,
        "start_time": "2023-02-27T16:15:44.098Z"
      },
      {
        "duration": 115,
        "start_time": "2023-02-27T16:15:44.861Z"
      },
      {
        "duration": 6,
        "start_time": "2023-02-27T16:17:52.956Z"
      },
      {
        "duration": 106,
        "start_time": "2023-02-27T16:17:54.925Z"
      },
      {
        "duration": 6,
        "start_time": "2023-02-27T16:18:09.790Z"
      },
      {
        "duration": 94,
        "start_time": "2023-02-27T16:18:10.791Z"
      },
      {
        "duration": 97,
        "start_time": "2023-02-27T16:18:40.383Z"
      },
      {
        "duration": 7,
        "start_time": "2023-02-27T16:21:36.075Z"
      },
      {
        "duration": 109,
        "start_time": "2023-02-27T16:21:37.419Z"
      },
      {
        "duration": 8,
        "start_time": "2023-02-27T16:22:01.679Z"
      },
      {
        "duration": 109,
        "start_time": "2023-02-27T16:22:02.707Z"
      },
      {
        "duration": 8,
        "start_time": "2023-02-27T16:23:03.171Z"
      },
      {
        "duration": 95,
        "start_time": "2023-02-27T16:23:04.163Z"
      },
      {
        "duration": 98,
        "start_time": "2023-02-27T16:24:27.746Z"
      },
      {
        "duration": 98,
        "start_time": "2023-02-27T16:25:34.807Z"
      },
      {
        "duration": 1373,
        "start_time": "2023-02-28T06:21:02.769Z"
      },
      {
        "duration": 687,
        "start_time": "2023-02-28T06:21:04.144Z"
      },
      {
        "duration": 3,
        "start_time": "2023-02-28T06:21:04.833Z"
      },
      {
        "duration": 152,
        "start_time": "2023-02-28T06:21:04.837Z"
      },
      {
        "duration": 16,
        "start_time": "2023-02-28T06:21:04.991Z"
      },
      {
        "duration": 134,
        "start_time": "2023-02-28T06:21:05.009Z"
      },
      {
        "duration": 119,
        "start_time": "2023-02-28T06:21:05.145Z"
      },
      {
        "duration": 44,
        "start_time": "2023-02-28T06:21:05.266Z"
      },
      {
        "duration": 158,
        "start_time": "2023-02-28T06:21:05.312Z"
      },
      {
        "duration": 46,
        "start_time": "2023-02-28T06:21:05.472Z"
      },
      {
        "duration": 356,
        "start_time": "2023-02-28T06:21:05.520Z"
      },
      {
        "duration": 40,
        "start_time": "2023-02-28T06:21:05.878Z"
      },
      {
        "duration": 29,
        "start_time": "2023-02-28T06:21:05.919Z"
      },
      {
        "duration": 102,
        "start_time": "2023-02-28T06:21:05.949Z"
      },
      {
        "duration": 7,
        "start_time": "2023-02-28T06:21:06.053Z"
      },
      {
        "duration": 14,
        "start_time": "2023-02-28T06:21:06.062Z"
      },
      {
        "duration": 375,
        "start_time": "2023-02-28T06:21:06.078Z"
      },
      {
        "duration": 58,
        "start_time": "2023-02-28T06:21:06.454Z"
      },
      {
        "duration": 126,
        "start_time": "2023-02-28T06:21:06.514Z"
      },
      {
        "duration": 53,
        "start_time": "2023-02-28T06:21:06.641Z"
      },
      {
        "duration": 0,
        "start_time": "2023-02-28T06:21:06.696Z"
      },
      {
        "duration": 0,
        "start_time": "2023-02-28T06:21:06.697Z"
      },
      {
        "duration": 0,
        "start_time": "2023-02-28T06:21:06.698Z"
      },
      {
        "duration": 0,
        "start_time": "2023-02-28T06:21:06.699Z"
      },
      {
        "duration": 0,
        "start_time": "2023-02-28T06:21:06.700Z"
      },
      {
        "duration": 4,
        "start_time": "2023-02-28T06:21:53.962Z"
      },
      {
        "duration": 5,
        "start_time": "2023-02-28T06:24:50.973Z"
      },
      {
        "duration": 86,
        "start_time": "2023-02-28T06:25:32.291Z"
      },
      {
        "duration": 85,
        "start_time": "2023-02-28T06:25:35.098Z"
      },
      {
        "duration": 87,
        "start_time": "2023-02-28T06:25:40.718Z"
      },
      {
        "duration": 4,
        "start_time": "2023-02-28T06:25:41.955Z"
      },
      {
        "duration": 4,
        "start_time": "2023-02-28T06:30:22.068Z"
      },
      {
        "duration": 7,
        "start_time": "2023-02-28T06:32:11.846Z"
      },
      {
        "duration": 7,
        "start_time": "2023-02-28T06:32:37.075Z"
      },
      {
        "duration": 6,
        "start_time": "2023-02-28T06:33:05.736Z"
      },
      {
        "duration": 6,
        "start_time": "2023-02-28T06:34:39.952Z"
      },
      {
        "duration": 7,
        "start_time": "2023-02-28T06:38:55.232Z"
      },
      {
        "duration": 5,
        "start_time": "2023-02-28T06:39:11.852Z"
      },
      {
        "duration": 107,
        "start_time": "2023-02-28T06:39:12.898Z"
      },
      {
        "duration": 2,
        "start_time": "2023-02-28T07:02:35.906Z"
      },
      {
        "duration": 145,
        "start_time": "2023-02-28T07:02:35.910Z"
      },
      {
        "duration": 3,
        "start_time": "2023-02-28T07:02:36.056Z"
      },
      {
        "duration": 133,
        "start_time": "2023-02-28T07:02:36.061Z"
      },
      {
        "duration": 11,
        "start_time": "2023-02-28T07:02:36.196Z"
      },
      {
        "duration": 115,
        "start_time": "2023-02-28T07:02:36.209Z"
      },
      {
        "duration": 122,
        "start_time": "2023-02-28T07:02:36.325Z"
      },
      {
        "duration": 35,
        "start_time": "2023-02-28T07:02:36.449Z"
      },
      {
        "duration": 168,
        "start_time": "2023-02-28T07:02:36.486Z"
      },
      {
        "duration": 34,
        "start_time": "2023-02-28T07:02:36.656Z"
      },
      {
        "duration": 370,
        "start_time": "2023-02-28T07:02:36.702Z"
      },
      {
        "duration": 38,
        "start_time": "2023-02-28T07:02:37.074Z"
      },
      {
        "duration": 31,
        "start_time": "2023-02-28T07:02:37.113Z"
      },
      {
        "duration": 122,
        "start_time": "2023-02-28T07:02:37.146Z"
      },
      {
        "duration": 7,
        "start_time": "2023-02-28T07:02:37.271Z"
      },
      {
        "duration": 29,
        "start_time": "2023-02-28T07:02:37.280Z"
      },
      {
        "duration": 51,
        "start_time": "2023-02-28T07:02:37.311Z"
      },
      {
        "duration": 57,
        "start_time": "2023-02-28T07:02:37.364Z"
      },
      {
        "duration": 5,
        "start_time": "2023-02-28T07:02:37.423Z"
      },
      {
        "duration": 99,
        "start_time": "2023-02-28T07:02:37.430Z"
      },
      {
        "duration": 35,
        "start_time": "2023-02-28T07:02:37.531Z"
      },
      {
        "duration": 4,
        "start_time": "2023-02-28T07:02:37.568Z"
      },
      {
        "duration": 5,
        "start_time": "2023-02-28T07:02:37.573Z"
      },
      {
        "duration": 24,
        "start_time": "2023-02-28T07:02:37.580Z"
      },
      {
        "duration": 5,
        "start_time": "2023-02-28T07:02:37.606Z"
      },
      {
        "duration": 101,
        "start_time": "2023-02-28T07:02:37.613Z"
      },
      {
        "duration": 113,
        "start_time": "2023-02-28T07:02:37.716Z"
      },
      {
        "duration": 105,
        "start_time": "2023-02-28T07:02:37.830Z"
      },
      {
        "duration": 1130,
        "start_time": "2023-02-28T07:03:14.819Z"
      },
      {
        "duration": 153,
        "start_time": "2023-02-28T07:03:15.951Z"
      },
      {
        "duration": 3,
        "start_time": "2023-02-28T07:03:16.106Z"
      },
      {
        "duration": 176,
        "start_time": "2023-02-28T07:03:16.111Z"
      },
      {
        "duration": 14,
        "start_time": "2023-02-28T07:03:16.290Z"
      },
      {
        "duration": 129,
        "start_time": "2023-02-28T07:03:16.306Z"
      },
      {
        "duration": 124,
        "start_time": "2023-02-28T07:03:16.436Z"
      },
      {
        "duration": 46,
        "start_time": "2023-02-28T07:03:16.561Z"
      },
      {
        "duration": 172,
        "start_time": "2023-02-28T07:03:16.609Z"
      },
      {
        "duration": 44,
        "start_time": "2023-02-28T07:03:16.783Z"
      },
      {
        "duration": 379,
        "start_time": "2023-02-28T07:03:16.829Z"
      },
      {
        "duration": 36,
        "start_time": "2023-02-28T07:03:17.210Z"
      },
      {
        "duration": 56,
        "start_time": "2023-02-28T07:03:17.248Z"
      },
      {
        "duration": 101,
        "start_time": "2023-02-28T07:03:17.307Z"
      },
      {
        "duration": 7,
        "start_time": "2023-02-28T07:03:17.410Z"
      },
      {
        "duration": 14,
        "start_time": "2023-02-28T07:03:17.419Z"
      },
      {
        "duration": 339,
        "start_time": "2023-02-28T07:03:17.434Z"
      },
      {
        "duration": 64,
        "start_time": "2023-02-28T07:03:17.775Z"
      },
      {
        "duration": 4,
        "start_time": "2023-02-28T07:03:17.841Z"
      },
      {
        "duration": 168,
        "start_time": "2023-02-28T07:03:17.847Z"
      },
      {
        "duration": 39,
        "start_time": "2023-02-28T07:03:18.017Z"
      },
      {
        "duration": 4,
        "start_time": "2023-02-28T07:03:18.057Z"
      },
      {
        "duration": 10,
        "start_time": "2023-02-28T07:03:18.062Z"
      },
      {
        "duration": 8,
        "start_time": "2023-02-28T07:03:18.073Z"
      },
      {
        "duration": 21,
        "start_time": "2023-02-28T07:03:18.083Z"
      },
      {
        "duration": 122,
        "start_time": "2023-02-28T07:03:18.106Z"
      },
      {
        "duration": 108,
        "start_time": "2023-02-28T07:03:18.229Z"
      },
      {
        "duration": 102,
        "start_time": "2023-02-28T07:03:18.338Z"
      },
      {
        "duration": 6,
        "start_time": "2023-02-28T07:04:40.737Z"
      },
      {
        "duration": 6,
        "start_time": "2023-02-28T07:04:45.374Z"
      },
      {
        "duration": 94,
        "start_time": "2023-02-28T07:04:46.281Z"
      },
      {
        "duration": 151,
        "start_time": "2023-02-28T07:05:46.358Z"
      },
      {
        "duration": 106,
        "start_time": "2023-02-28T07:06:08.811Z"
      },
      {
        "duration": 116,
        "start_time": "2023-02-28T07:06:29.448Z"
      },
      {
        "duration": 117,
        "start_time": "2023-02-28T07:10:43.296Z"
      },
      {
        "duration": 5,
        "start_time": "2023-02-28T07:10:53.081Z"
      },
      {
        "duration": 5,
        "start_time": "2023-02-28T07:15:22.561Z"
      },
      {
        "duration": 27,
        "start_time": "2023-02-28T07:16:42.667Z"
      },
      {
        "duration": 17,
        "start_time": "2023-02-28T07:16:58.311Z"
      },
      {
        "duration": 15,
        "start_time": "2023-02-28T07:22:03.300Z"
      },
      {
        "duration": 20,
        "start_time": "2023-02-28T07:26:17.939Z"
      },
      {
        "duration": 15,
        "start_time": "2023-02-28T07:27:35.599Z"
      },
      {
        "duration": 21,
        "start_time": "2023-02-28T07:27:44.462Z"
      },
      {
        "duration": 15,
        "start_time": "2023-02-28T07:29:14.886Z"
      },
      {
        "duration": 15,
        "start_time": "2023-02-28T07:29:30.438Z"
      },
      {
        "duration": 20,
        "start_time": "2023-02-28T07:30:04.340Z"
      },
      {
        "duration": 13,
        "start_time": "2023-02-28T07:31:12.698Z"
      },
      {
        "duration": 11,
        "start_time": "2023-02-28T07:34:43.265Z"
      },
      {
        "duration": 15,
        "start_time": "2023-02-28T07:34:53.020Z"
      },
      {
        "duration": 16,
        "start_time": "2023-02-28T07:36:06.297Z"
      },
      {
        "duration": 15,
        "start_time": "2023-02-28T07:36:20.118Z"
      },
      {
        "duration": 15,
        "start_time": "2023-02-28T07:37:25.876Z"
      },
      {
        "duration": 17,
        "start_time": "2023-02-28T07:38:16.913Z"
      },
      {
        "duration": 13,
        "start_time": "2023-02-28T07:38:57.564Z"
      },
      {
        "duration": 13,
        "start_time": "2023-02-28T07:39:28.915Z"
      },
      {
        "duration": 14,
        "start_time": "2023-02-28T07:42:39.682Z"
      },
      {
        "duration": 4,
        "start_time": "2023-02-28T07:43:05.850Z"
      },
      {
        "duration": 14,
        "start_time": "2023-02-28T07:43:06.918Z"
      },
      {
        "duration": 5,
        "start_time": "2023-02-28T07:47:08.812Z"
      },
      {
        "duration": 15,
        "start_time": "2023-02-28T07:47:09.490Z"
      },
      {
        "duration": 15,
        "start_time": "2023-02-28T08:06:27.131Z"
      },
      {
        "duration": 5,
        "start_time": "2023-02-28T08:08:03.220Z"
      },
      {
        "duration": 11,
        "start_time": "2023-02-28T08:08:37.668Z"
      },
      {
        "duration": 5,
        "start_time": "2023-02-28T08:08:42.145Z"
      },
      {
        "duration": 5,
        "start_time": "2023-02-28T08:09:04.366Z"
      },
      {
        "duration": 5,
        "start_time": "2023-02-28T08:09:17.113Z"
      },
      {
        "duration": 13,
        "start_time": "2023-02-28T08:09:57.984Z"
      },
      {
        "duration": 14,
        "start_time": "2023-02-28T08:14:22.110Z"
      },
      {
        "duration": 23,
        "start_time": "2023-02-28T08:21:19.856Z"
      },
      {
        "duration": 6,
        "start_time": "2023-02-28T08:21:30.659Z"
      },
      {
        "duration": 5,
        "start_time": "2023-02-28T08:36:05.602Z"
      },
      {
        "duration": 16,
        "start_time": "2023-02-28T08:36:07.566Z"
      },
      {
        "duration": 14,
        "start_time": "2023-02-28T08:36:17.756Z"
      },
      {
        "duration": 14,
        "start_time": "2023-02-28T08:36:24.552Z"
      },
      {
        "duration": 15,
        "start_time": "2023-02-28T08:36:31.189Z"
      },
      {
        "duration": 1204,
        "start_time": "2023-02-28T08:50:09.910Z"
      },
      {
        "duration": 164,
        "start_time": "2023-02-28T08:50:11.116Z"
      },
      {
        "duration": 3,
        "start_time": "2023-02-28T08:50:11.282Z"
      },
      {
        "duration": 185,
        "start_time": "2023-02-28T08:50:11.287Z"
      },
      {
        "duration": 9,
        "start_time": "2023-02-28T08:50:11.474Z"
      },
      {
        "duration": 132,
        "start_time": "2023-02-28T08:50:11.485Z"
      },
      {
        "duration": 127,
        "start_time": "2023-02-28T08:50:11.619Z"
      },
      {
        "duration": 36,
        "start_time": "2023-02-28T08:50:11.747Z"
      },
      {
        "duration": 176,
        "start_time": "2023-02-28T08:50:11.784Z"
      },
      {
        "duration": 33,
        "start_time": "2023-02-28T08:50:11.963Z"
      },
      {
        "duration": 389,
        "start_time": "2023-02-28T08:50:11.997Z"
      },
      {
        "duration": 29,
        "start_time": "2023-02-28T08:50:12.388Z"
      },
      {
        "duration": 46,
        "start_time": "2023-02-28T08:50:12.419Z"
      },
      {
        "duration": 110,
        "start_time": "2023-02-28T08:50:12.467Z"
      },
      {
        "duration": 6,
        "start_time": "2023-02-28T08:50:12.579Z"
      },
      {
        "duration": 17,
        "start_time": "2023-02-28T08:50:12.587Z"
      },
      {
        "duration": 371,
        "start_time": "2023-02-28T08:50:12.605Z"
      },
      {
        "duration": 64,
        "start_time": "2023-02-28T08:50:12.978Z"
      },
      {
        "duration": 4,
        "start_time": "2023-02-28T08:50:13.044Z"
      },
      {
        "duration": 123,
        "start_time": "2023-02-28T08:50:13.050Z"
      },
      {
        "duration": 37,
        "start_time": "2023-02-28T08:50:13.175Z"
      },
      {
        "duration": 20,
        "start_time": "2023-02-28T08:50:13.214Z"
      },
      {
        "duration": 15,
        "start_time": "2023-02-28T08:50:13.236Z"
      },
      {
        "duration": 29,
        "start_time": "2023-02-28T08:50:13.252Z"
      },
      {
        "duration": 25,
        "start_time": "2023-02-28T08:50:13.283Z"
      },
      {
        "duration": 45,
        "start_time": "2023-02-28T08:50:13.310Z"
      },
      {
        "duration": 1201,
        "start_time": "2023-02-28T08:50:48.802Z"
      },
      {
        "duration": 150,
        "start_time": "2023-02-28T08:50:50.005Z"
      },
      {
        "duration": 4,
        "start_time": "2023-02-28T08:50:50.157Z"
      },
      {
        "duration": 175,
        "start_time": "2023-02-28T08:50:50.164Z"
      },
      {
        "duration": 9,
        "start_time": "2023-02-28T08:50:50.341Z"
      },
      {
        "duration": 136,
        "start_time": "2023-02-28T08:50:50.351Z"
      },
      {
        "duration": 132,
        "start_time": "2023-02-28T08:50:50.489Z"
      },
      {
        "duration": 45,
        "start_time": "2023-02-28T08:50:50.623Z"
      },
      {
        "duration": 167,
        "start_time": "2023-02-28T08:50:50.670Z"
      },
      {
        "duration": 34,
        "start_time": "2023-02-28T08:50:50.840Z"
      },
      {
        "duration": 394,
        "start_time": "2023-02-28T08:50:50.876Z"
      },
      {
        "duration": 29,
        "start_time": "2023-02-28T08:50:51.272Z"
      },
      {
        "duration": 48,
        "start_time": "2023-02-28T08:50:51.303Z"
      },
      {
        "duration": 97,
        "start_time": "2023-02-28T08:50:51.364Z"
      },
      {
        "duration": 6,
        "start_time": "2023-02-28T08:50:51.463Z"
      },
      {
        "duration": 13,
        "start_time": "2023-02-28T08:50:51.471Z"
      },
      {
        "duration": 370,
        "start_time": "2023-02-28T08:50:51.486Z"
      },
      {
        "duration": 86,
        "start_time": "2023-02-28T08:50:51.858Z"
      },
      {
        "duration": 4,
        "start_time": "2023-02-28T08:50:51.945Z"
      },
      {
        "duration": 130,
        "start_time": "2023-02-28T08:50:51.951Z"
      },
      {
        "duration": 56,
        "start_time": "2023-02-28T08:50:52.083Z"
      },
      {
        "duration": 5,
        "start_time": "2023-02-28T08:50:52.140Z"
      },
      {
        "duration": 20,
        "start_time": "2023-02-28T08:50:52.147Z"
      },
      {
        "duration": 15,
        "start_time": "2023-02-28T08:50:52.169Z"
      },
      {
        "duration": 15,
        "start_time": "2023-02-28T08:50:52.185Z"
      },
      {
        "duration": 45,
        "start_time": "2023-02-28T08:50:52.202Z"
      },
      {
        "duration": 166,
        "start_time": "2023-02-28T08:55:40.012Z"
      },
      {
        "duration": 186,
        "start_time": "2023-02-28T08:58:57.231Z"
      },
      {
        "duration": 100,
        "start_time": "2023-02-28T09:00:41.046Z"
      },
      {
        "duration": 53,
        "start_time": "2023-02-28T09:02:33.740Z"
      },
      {
        "duration": 57,
        "start_time": "2023-02-28T09:03:20.532Z"
      },
      {
        "duration": 13,
        "start_time": "2023-02-28T09:03:52.437Z"
      },
      {
        "duration": 73,
        "start_time": "2023-02-28T09:04:08.148Z"
      },
      {
        "duration": 54,
        "start_time": "2023-02-28T09:04:28.227Z"
      },
      {
        "duration": 10,
        "start_time": "2023-02-28T09:52:06.864Z"
      },
      {
        "duration": 250,
        "start_time": "2023-02-28T09:52:20.608Z"
      },
      {
        "duration": 259,
        "start_time": "2023-02-28T09:54:54.460Z"
      },
      {
        "duration": 264,
        "start_time": "2023-02-28T09:55:13.725Z"
      },
      {
        "duration": 256,
        "start_time": "2023-02-28T09:55:21.836Z"
      },
      {
        "duration": 400,
        "start_time": "2023-02-28T09:55:44.820Z"
      },
      {
        "duration": 241,
        "start_time": "2023-02-28T09:55:54.380Z"
      },
      {
        "duration": 98,
        "start_time": "2023-02-28T09:57:36.175Z"
      },
      {
        "duration": 1253,
        "start_time": "2023-02-28T10:17:27.996Z"
      },
      {
        "duration": 161,
        "start_time": "2023-02-28T10:17:29.251Z"
      },
      {
        "duration": 4,
        "start_time": "2023-02-28T10:17:29.414Z"
      },
      {
        "duration": 181,
        "start_time": "2023-02-28T10:17:29.419Z"
      },
      {
        "duration": 10,
        "start_time": "2023-02-28T10:17:29.602Z"
      },
      {
        "duration": 156,
        "start_time": "2023-02-28T10:17:29.613Z"
      },
      {
        "duration": 135,
        "start_time": "2023-02-28T10:17:29.771Z"
      },
      {
        "duration": 45,
        "start_time": "2023-02-28T10:17:29.908Z"
      },
      {
        "duration": 187,
        "start_time": "2023-02-28T10:17:29.955Z"
      },
      {
        "duration": 41,
        "start_time": "2023-02-28T10:17:30.145Z"
      },
      {
        "duration": 305,
        "start_time": "2023-02-28T10:17:30.188Z"
      },
      {
        "duration": 490,
        "start_time": "2023-02-28T10:17:30.496Z"
      },
      {
        "duration": 31,
        "start_time": "2023-02-28T10:17:30.987Z"
      },
      {
        "duration": 62,
        "start_time": "2023-02-28T10:17:31.036Z"
      },
      {
        "duration": 108,
        "start_time": "2023-02-28T10:17:31.100Z"
      },
      {
        "duration": 7,
        "start_time": "2023-02-28T10:17:31.210Z"
      },
      {
        "duration": 56,
        "start_time": "2023-02-28T10:17:31.219Z"
      },
      {
        "duration": 489,
        "start_time": "2023-02-28T10:17:31.278Z"
      },
      {
        "duration": 71,
        "start_time": "2023-02-28T10:17:31.769Z"
      },
      {
        "duration": 4,
        "start_time": "2023-02-28T10:17:31.844Z"
      },
      {
        "duration": 135,
        "start_time": "2023-02-28T10:17:31.850Z"
      },
      {
        "duration": 55,
        "start_time": "2023-02-28T10:17:31.987Z"
      },
      {
        "duration": 63,
        "start_time": "2023-02-28T10:17:32.043Z"
      },
      {
        "duration": 5,
        "start_time": "2023-02-28T10:17:32.108Z"
      },
      {
        "duration": 54,
        "start_time": "2023-02-28T10:17:32.115Z"
      },
      {
        "duration": 19,
        "start_time": "2023-02-28T10:17:32.171Z"
      },
      {
        "duration": 16,
        "start_time": "2023-02-28T10:17:32.192Z"
      },
      {
        "duration": 46,
        "start_time": "2023-02-28T10:17:32.209Z"
      },
      {
        "duration": 835,
        "start_time": "2023-02-28T10:20:37.077Z"
      },
      {
        "duration": 1152,
        "start_time": "2023-02-28T10:20:46.472Z"
      },
      {
        "duration": 166,
        "start_time": "2023-02-28T10:20:47.627Z"
      },
      {
        "duration": 4,
        "start_time": "2023-02-28T10:20:47.795Z"
      },
      {
        "duration": 198,
        "start_time": "2023-02-28T10:20:47.802Z"
      },
      {
        "duration": 11,
        "start_time": "2023-02-28T10:20:48.001Z"
      },
      {
        "duration": 148,
        "start_time": "2023-02-28T10:20:48.014Z"
      },
      {
        "duration": 140,
        "start_time": "2023-02-28T10:20:48.164Z"
      },
      {
        "duration": 745,
        "start_time": "2023-02-28T10:20:48.305Z"
      },
      {
        "duration": 0,
        "start_time": "2023-02-28T10:20:49.052Z"
      },
      {
        "duration": 0,
        "start_time": "2023-02-28T10:20:49.054Z"
      },
      {
        "duration": 0,
        "start_time": "2023-02-28T10:20:49.055Z"
      },
      {
        "duration": 0,
        "start_time": "2023-02-28T10:20:49.056Z"
      },
      {
        "duration": 0,
        "start_time": "2023-02-28T10:20:49.057Z"
      },
      {
        "duration": 0,
        "start_time": "2023-02-28T10:20:49.058Z"
      },
      {
        "duration": 0,
        "start_time": "2023-02-28T10:20:49.060Z"
      },
      {
        "duration": 0,
        "start_time": "2023-02-28T10:20:49.061Z"
      },
      {
        "duration": 0,
        "start_time": "2023-02-28T10:20:49.063Z"
      },
      {
        "duration": 0,
        "start_time": "2023-02-28T10:20:49.064Z"
      },
      {
        "duration": 0,
        "start_time": "2023-02-28T10:20:49.065Z"
      },
      {
        "duration": 0,
        "start_time": "2023-02-28T10:20:49.066Z"
      },
      {
        "duration": 0,
        "start_time": "2023-02-28T10:20:49.067Z"
      },
      {
        "duration": 0,
        "start_time": "2023-02-28T10:20:49.068Z"
      },
      {
        "duration": 0,
        "start_time": "2023-02-28T10:20:49.069Z"
      },
      {
        "duration": 0,
        "start_time": "2023-02-28T10:20:49.070Z"
      },
      {
        "duration": 0,
        "start_time": "2023-02-28T10:20:49.071Z"
      },
      {
        "duration": 0,
        "start_time": "2023-02-28T10:20:49.072Z"
      },
      {
        "duration": 0,
        "start_time": "2023-02-28T10:20:49.074Z"
      },
      {
        "duration": 0,
        "start_time": "2023-02-28T10:20:49.075Z"
      },
      {
        "duration": 50,
        "start_time": "2023-02-28T10:21:21.473Z"
      },
      {
        "duration": 45,
        "start_time": "2023-02-28T10:21:29.207Z"
      },
      {
        "duration": 49,
        "start_time": "2023-02-28T10:26:57.855Z"
      },
      {
        "duration": 1272,
        "start_time": "2023-02-28T10:27:08.032Z"
      },
      {
        "duration": 157,
        "start_time": "2023-02-28T10:27:09.306Z"
      },
      {
        "duration": 3,
        "start_time": "2023-02-28T10:27:09.464Z"
      },
      {
        "duration": 188,
        "start_time": "2023-02-28T10:27:09.469Z"
      },
      {
        "duration": 9,
        "start_time": "2023-02-28T10:27:09.659Z"
      },
      {
        "duration": 144,
        "start_time": "2023-02-28T10:27:09.669Z"
      },
      {
        "duration": 136,
        "start_time": "2023-02-28T10:27:09.815Z"
      },
      {
        "duration": 45,
        "start_time": "2023-02-28T10:27:09.952Z"
      },
      {
        "duration": 196,
        "start_time": "2023-02-28T10:27:10.000Z"
      },
      {
        "duration": 49,
        "start_time": "2023-02-28T10:27:10.197Z"
      },
      {
        "duration": 283,
        "start_time": "2023-02-28T10:27:10.248Z"
      },
      {
        "duration": 407,
        "start_time": "2023-02-28T10:27:10.534Z"
      },
      {
        "duration": 30,
        "start_time": "2023-02-28T10:27:10.944Z"
      },
      {
        "duration": 31,
        "start_time": "2023-02-28T10:27:10.977Z"
      },
      {
        "duration": 136,
        "start_time": "2023-02-28T10:27:11.011Z"
      },
      {
        "duration": 11,
        "start_time": "2023-02-28T10:27:11.149Z"
      },
      {
        "duration": 19,
        "start_time": "2023-02-28T10:27:11.162Z"
      },
      {
        "duration": 461,
        "start_time": "2023-02-28T10:27:11.182Z"
      },
      {
        "duration": 94,
        "start_time": "2023-02-28T10:27:11.645Z"
      },
      {
        "duration": 6,
        "start_time": "2023-02-28T10:27:11.742Z"
      },
      {
        "duration": 125,
        "start_time": "2023-02-28T10:27:11.750Z"
      },
      {
        "duration": 40,
        "start_time": "2023-02-28T10:27:11.877Z"
      },
      {
        "duration": 59,
        "start_time": "2023-02-28T10:27:11.935Z"
      },
      {
        "duration": 5,
        "start_time": "2023-02-28T10:27:11.995Z"
      },
      {
        "duration": 46,
        "start_time": "2023-02-28T10:27:12.002Z"
      },
      {
        "duration": 18,
        "start_time": "2023-02-28T10:27:12.050Z"
      },
      {
        "duration": 15,
        "start_time": "2023-02-28T10:27:12.070Z"
      },
      {
        "duration": 18,
        "start_time": "2023-02-28T10:27:12.087Z"
      },
      {
        "duration": 40,
        "start_time": "2023-02-28T10:27:30.474Z"
      },
      {
        "duration": 4,
        "start_time": "2023-02-28T10:27:51.385Z"
      },
      {
        "duration": 40,
        "start_time": "2023-02-28T10:27:57.954Z"
      },
      {
        "duration": 1132,
        "start_time": "2023-02-28T10:28:06.091Z"
      },
      {
        "duration": 171,
        "start_time": "2023-02-28T10:28:07.225Z"
      },
      {
        "duration": 4,
        "start_time": "2023-02-28T10:28:07.397Z"
      },
      {
        "duration": 196,
        "start_time": "2023-02-28T10:28:07.403Z"
      },
      {
        "duration": 9,
        "start_time": "2023-02-28T10:28:07.601Z"
      },
      {
        "duration": 145,
        "start_time": "2023-02-28T10:28:07.612Z"
      },
      {
        "duration": 141,
        "start_time": "2023-02-28T10:28:07.759Z"
      },
      {
        "duration": 50,
        "start_time": "2023-02-28T10:28:07.901Z"
      },
      {
        "duration": 178,
        "start_time": "2023-02-28T10:28:07.953Z"
      },
      {
        "duration": 47,
        "start_time": "2023-02-28T10:28:08.133Z"
      },
      {
        "duration": 296,
        "start_time": "2023-02-28T10:28:08.182Z"
      },
      {
        "duration": 393,
        "start_time": "2023-02-28T10:28:08.480Z"
      },
      {
        "duration": 29,
        "start_time": "2023-02-28T10:28:08.875Z"
      },
      {
        "duration": 48,
        "start_time": "2023-02-28T10:28:08.906Z"
      },
      {
        "duration": 109,
        "start_time": "2023-02-28T10:28:08.956Z"
      },
      {
        "duration": 7,
        "start_time": "2023-02-28T10:28:09.066Z"
      },
      {
        "duration": 15,
        "start_time": "2023-02-28T10:28:09.074Z"
      },
      {
        "duration": 462,
        "start_time": "2023-02-28T10:28:09.091Z"
      },
      {
        "duration": 40,
        "start_time": "2023-02-28T10:28:09.555Z"
      },
      {
        "duration": 15,
        "start_time": "2023-02-28T10:28:09.635Z"
      },
      {
        "duration": 110,
        "start_time": "2023-02-28T10:28:09.655Z"
      },
      {
        "duration": 39,
        "start_time": "2023-02-28T10:28:09.766Z"
      },
      {
        "duration": 82,
        "start_time": "2023-02-28T10:28:09.806Z"
      },
      {
        "duration": 5,
        "start_time": "2023-02-28T10:28:09.890Z"
      },
      {
        "duration": 24,
        "start_time": "2023-02-28T10:28:09.897Z"
      },
      {
        "duration": 36,
        "start_time": "2023-02-28T10:28:09.922Z"
      },
      {
        "duration": 14,
        "start_time": "2023-02-28T10:28:09.959Z"
      },
      {
        "duration": 15,
        "start_time": "2023-02-28T10:28:09.976Z"
      },
      {
        "duration": 305,
        "start_time": "2023-02-28T10:39:43.493Z"
      },
      {
        "duration": 1213,
        "start_time": "2023-02-28T10:40:14.378Z"
      },
      {
        "duration": 168,
        "start_time": "2023-02-28T10:40:15.593Z"
      },
      {
        "duration": 3,
        "start_time": "2023-02-28T10:40:15.763Z"
      },
      {
        "duration": 200,
        "start_time": "2023-02-28T10:40:15.768Z"
      },
      {
        "duration": 9,
        "start_time": "2023-02-28T10:40:15.970Z"
      },
      {
        "duration": 149,
        "start_time": "2023-02-28T10:40:15.981Z"
      },
      {
        "duration": 135,
        "start_time": "2023-02-28T10:40:16.132Z"
      },
      {
        "duration": 39,
        "start_time": "2023-02-28T10:40:16.268Z"
      },
      {
        "duration": 200,
        "start_time": "2023-02-28T10:40:16.309Z"
      },
      {
        "duration": 51,
        "start_time": "2023-02-28T10:40:16.512Z"
      },
      {
        "duration": 278,
        "start_time": "2023-02-28T10:40:16.564Z"
      },
      {
        "duration": 394,
        "start_time": "2023-02-28T10:40:16.844Z"
      },
      {
        "duration": 30,
        "start_time": "2023-02-28T10:40:17.240Z"
      },
      {
        "duration": 30,
        "start_time": "2023-02-28T10:40:17.272Z"
      },
      {
        "duration": 124,
        "start_time": "2023-02-28T10:40:17.303Z"
      },
      {
        "duration": 23,
        "start_time": "2023-02-28T10:40:17.429Z"
      },
      {
        "duration": 12,
        "start_time": "2023-02-28T10:40:17.454Z"
      },
      {
        "duration": 484,
        "start_time": "2023-02-28T10:40:17.468Z"
      },
      {
        "duration": 88,
        "start_time": "2023-02-28T10:40:17.954Z"
      },
      {
        "duration": 130,
        "start_time": "2023-02-28T10:40:18.044Z"
      },
      {
        "duration": 53,
        "start_time": "2023-02-28T10:40:18.176Z"
      },
      {
        "duration": 66,
        "start_time": "2023-02-28T10:40:18.231Z"
      },
      {
        "duration": 4,
        "start_time": "2023-02-28T10:40:18.299Z"
      },
      {
        "duration": 44,
        "start_time": "2023-02-28T10:40:18.305Z"
      },
      {
        "duration": 23,
        "start_time": "2023-02-28T10:40:18.351Z"
      },
      {
        "duration": 14,
        "start_time": "2023-02-28T10:40:18.376Z"
      },
      {
        "duration": 18,
        "start_time": "2023-02-28T10:40:18.392Z"
      },
      {
        "duration": 1278,
        "start_time": "2023-02-28T15:41:47.746Z"
      },
      {
        "duration": 526,
        "start_time": "2023-02-28T15:41:49.027Z"
      },
      {
        "duration": 3,
        "start_time": "2023-02-28T15:41:49.555Z"
      },
      {
        "duration": 166,
        "start_time": "2023-02-28T15:41:49.560Z"
      },
      {
        "duration": 12,
        "start_time": "2023-02-28T15:41:49.727Z"
      },
      {
        "duration": 135,
        "start_time": "2023-02-28T15:41:49.741Z"
      },
      {
        "duration": 127,
        "start_time": "2023-02-28T15:41:49.878Z"
      },
      {
        "duration": 52,
        "start_time": "2023-02-28T15:41:50.006Z"
      },
      {
        "duration": 167,
        "start_time": "2023-02-28T15:41:50.060Z"
      },
      {
        "duration": 37,
        "start_time": "2023-02-28T15:41:50.236Z"
      },
      {
        "duration": 272,
        "start_time": "2023-02-28T15:41:50.275Z"
      },
      {
        "duration": 377,
        "start_time": "2023-02-28T15:41:50.549Z"
      },
      {
        "duration": 307,
        "start_time": "2023-02-28T15:41:50.928Z"
      },
      {
        "duration": 31,
        "start_time": "2023-02-28T15:41:51.237Z"
      },
      {
        "duration": 32,
        "start_time": "2023-02-28T15:41:51.270Z"
      },
      {
        "duration": 115,
        "start_time": "2023-02-28T15:41:51.303Z"
      },
      {
        "duration": 18,
        "start_time": "2023-02-28T15:41:51.420Z"
      },
      {
        "duration": 32,
        "start_time": "2023-02-28T15:41:51.440Z"
      },
      {
        "duration": 538,
        "start_time": "2023-02-28T15:41:51.474Z"
      },
      {
        "duration": 54,
        "start_time": "2023-02-28T15:41:52.014Z"
      },
      {
        "duration": 141,
        "start_time": "2023-02-28T15:41:52.070Z"
      },
      {
        "duration": 62,
        "start_time": "2023-02-28T15:41:52.213Z"
      },
      {
        "duration": 77,
        "start_time": "2023-02-28T15:41:52.277Z"
      },
      {
        "duration": 5,
        "start_time": "2023-02-28T15:41:52.356Z"
      },
      {
        "duration": 34,
        "start_time": "2023-02-28T15:41:52.362Z"
      },
      {
        "duration": 20,
        "start_time": "2023-02-28T15:41:52.398Z"
      },
      {
        "duration": 40,
        "start_time": "2023-02-28T15:41:52.420Z"
      },
      {
        "duration": 21,
        "start_time": "2023-02-28T15:41:52.464Z"
      },
      {
        "duration": 1312,
        "start_time": "2023-02-28T16:49:53.946Z"
      },
      {
        "duration": 751,
        "start_time": "2023-02-28T16:49:55.260Z"
      },
      {
        "duration": 12,
        "start_time": "2023-02-28T16:49:56.013Z"
      },
      {
        "duration": 167,
        "start_time": "2023-02-28T16:49:56.026Z"
      },
      {
        "duration": 8,
        "start_time": "2023-02-28T16:49:56.196Z"
      },
      {
        "duration": 122,
        "start_time": "2023-02-28T16:49:56.206Z"
      },
      {
        "duration": 114,
        "start_time": "2023-02-28T16:49:56.330Z"
      },
      {
        "duration": 35,
        "start_time": "2023-02-28T16:49:56.446Z"
      },
      {
        "duration": 166,
        "start_time": "2023-02-28T16:49:56.483Z"
      },
      {
        "duration": 35,
        "start_time": "2023-02-28T16:49:56.651Z"
      },
      {
        "duration": 254,
        "start_time": "2023-02-28T16:49:56.688Z"
      },
      {
        "duration": 363,
        "start_time": "2023-02-28T16:49:56.943Z"
      },
      {
        "duration": 318,
        "start_time": "2023-02-28T16:49:57.308Z"
      },
      {
        "duration": 31,
        "start_time": "2023-02-28T16:49:57.630Z"
      },
      {
        "duration": 30,
        "start_time": "2023-02-28T16:49:57.662Z"
      },
      {
        "duration": 107,
        "start_time": "2023-02-28T16:49:57.694Z"
      },
      {
        "duration": 6,
        "start_time": "2023-02-28T16:49:57.802Z"
      },
      {
        "duration": 27,
        "start_time": "2023-02-28T16:49:57.809Z"
      },
      {
        "duration": 450,
        "start_time": "2023-02-28T16:49:57.837Z"
      },
      {
        "duration": 45,
        "start_time": "2023-02-28T16:49:58.289Z"
      },
      {
        "duration": 125,
        "start_time": "2023-02-28T16:49:58.336Z"
      },
      {
        "duration": 35,
        "start_time": "2023-02-28T16:49:58.463Z"
      },
      {
        "duration": 77,
        "start_time": "2023-02-28T16:49:58.500Z"
      },
      {
        "duration": 4,
        "start_time": "2023-02-28T16:49:58.579Z"
      },
      {
        "duration": 32,
        "start_time": "2023-02-28T16:49:58.585Z"
      },
      {
        "duration": 13,
        "start_time": "2023-02-28T16:49:58.619Z"
      },
      {
        "duration": 19,
        "start_time": "2023-02-28T16:49:58.634Z"
      },
      {
        "duration": 13,
        "start_time": "2023-02-28T16:49:58.655Z"
      },
      {
        "duration": 146,
        "start_time": "2023-02-28T16:52:21.262Z"
      },
      {
        "duration": 14,
        "start_time": "2023-02-28T16:52:30.797Z"
      },
      {
        "duration": 49,
        "start_time": "2023-02-28T17:00:14.619Z"
      },
      {
        "duration": 2654,
        "start_time": "2023-02-28T17:00:20.131Z"
      },
      {
        "duration": 715,
        "start_time": "2023-02-28T17:00:22.787Z"
      },
      {
        "duration": 4,
        "start_time": "2023-02-28T17:00:23.504Z"
      },
      {
        "duration": 205,
        "start_time": "2023-02-28T17:00:23.511Z"
      },
      {
        "duration": 11,
        "start_time": "2023-02-28T17:00:23.718Z"
      },
      {
        "duration": 136,
        "start_time": "2023-02-28T17:00:23.731Z"
      },
      {
        "duration": 147,
        "start_time": "2023-02-28T17:00:23.870Z"
      },
      {
        "duration": 49,
        "start_time": "2023-02-28T17:00:24.021Z"
      },
      {
        "duration": 188,
        "start_time": "2023-02-28T17:00:24.072Z"
      },
      {
        "duration": 34,
        "start_time": "2023-02-28T17:00:24.263Z"
      },
      {
        "duration": 265,
        "start_time": "2023-02-28T17:00:24.299Z"
      },
      {
        "duration": 279,
        "start_time": "2023-02-28T17:00:24.566Z"
      },
      {
        "duration": 114,
        "start_time": "2023-02-28T17:00:24.847Z"
      },
      {
        "duration": 0,
        "start_time": "2023-02-28T17:00:24.962Z"
      },
      {
        "duration": 0,
        "start_time": "2023-02-28T17:00:24.964Z"
      },
      {
        "duration": 0,
        "start_time": "2023-02-28T17:00:24.965Z"
      },
      {
        "duration": 0,
        "start_time": "2023-02-28T17:00:24.966Z"
      },
      {
        "duration": 0,
        "start_time": "2023-02-28T17:00:24.967Z"
      },
      {
        "duration": 0,
        "start_time": "2023-02-28T17:00:24.968Z"
      },
      {
        "duration": 0,
        "start_time": "2023-02-28T17:00:24.969Z"
      },
      {
        "duration": 0,
        "start_time": "2023-02-28T17:00:24.970Z"
      },
      {
        "duration": 0,
        "start_time": "2023-02-28T17:00:24.971Z"
      },
      {
        "duration": 0,
        "start_time": "2023-02-28T17:00:24.973Z"
      },
      {
        "duration": 0,
        "start_time": "2023-02-28T17:00:24.974Z"
      },
      {
        "duration": 0,
        "start_time": "2023-02-28T17:00:24.975Z"
      },
      {
        "duration": 0,
        "start_time": "2023-02-28T17:00:24.976Z"
      },
      {
        "duration": 0,
        "start_time": "2023-02-28T17:00:24.978Z"
      },
      {
        "duration": 0,
        "start_time": "2023-02-28T17:00:24.979Z"
      },
      {
        "duration": 0,
        "start_time": "2023-02-28T17:00:24.981Z"
      },
      {
        "duration": 1148,
        "start_time": "2023-02-28T17:00:59.113Z"
      },
      {
        "duration": 147,
        "start_time": "2023-02-28T17:01:00.263Z"
      },
      {
        "duration": 3,
        "start_time": "2023-02-28T17:01:00.411Z"
      },
      {
        "duration": 178,
        "start_time": "2023-02-28T17:01:00.421Z"
      },
      {
        "duration": 9,
        "start_time": "2023-02-28T17:01:00.601Z"
      },
      {
        "duration": 154,
        "start_time": "2023-02-28T17:01:00.622Z"
      },
      {
        "duration": 117,
        "start_time": "2023-02-28T17:01:00.778Z"
      },
      {
        "duration": 44,
        "start_time": "2023-02-28T17:01:00.897Z"
      },
      {
        "duration": 193,
        "start_time": "2023-02-28T17:01:00.943Z"
      },
      {
        "duration": 36,
        "start_time": "2023-02-28T17:01:01.139Z"
      },
      {
        "duration": 295,
        "start_time": "2023-02-28T17:01:01.177Z"
      },
      {
        "duration": 267,
        "start_time": "2023-02-28T17:01:01.474Z"
      },
      {
        "duration": 320,
        "start_time": "2023-02-28T17:01:01.743Z"
      },
      {
        "duration": 0,
        "start_time": "2023-02-28T17:01:02.064Z"
      },
      {
        "duration": 0,
        "start_time": "2023-02-28T17:01:02.066Z"
      },
      {
        "duration": 0,
        "start_time": "2023-02-28T17:01:02.067Z"
      },
      {
        "duration": 0,
        "start_time": "2023-02-28T17:01:02.068Z"
      },
      {
        "duration": 0,
        "start_time": "2023-02-28T17:01:02.069Z"
      },
      {
        "duration": 0,
        "start_time": "2023-02-28T17:01:02.070Z"
      },
      {
        "duration": 0,
        "start_time": "2023-02-28T17:01:02.071Z"
      },
      {
        "duration": 0,
        "start_time": "2023-02-28T17:01:02.072Z"
      },
      {
        "duration": 0,
        "start_time": "2023-02-28T17:01:02.073Z"
      },
      {
        "duration": 0,
        "start_time": "2023-02-28T17:01:02.074Z"
      },
      {
        "duration": 0,
        "start_time": "2023-02-28T17:01:02.074Z"
      },
      {
        "duration": 0,
        "start_time": "2023-02-28T17:01:02.075Z"
      },
      {
        "duration": 0,
        "start_time": "2023-02-28T17:01:02.076Z"
      },
      {
        "duration": 0,
        "start_time": "2023-02-28T17:01:02.078Z"
      },
      {
        "duration": 0,
        "start_time": "2023-02-28T17:01:02.079Z"
      },
      {
        "duration": 0,
        "start_time": "2023-02-28T17:01:02.080Z"
      },
      {
        "duration": 1158,
        "start_time": "2023-02-28T17:01:13.424Z"
      },
      {
        "duration": 152,
        "start_time": "2023-02-28T17:01:14.584Z"
      },
      {
        "duration": 3,
        "start_time": "2023-02-28T17:01:14.738Z"
      },
      {
        "duration": 179,
        "start_time": "2023-02-28T17:01:14.743Z"
      },
      {
        "duration": 9,
        "start_time": "2023-02-28T17:01:14.924Z"
      },
      {
        "duration": 137,
        "start_time": "2023-02-28T17:01:14.935Z"
      },
      {
        "duration": 123,
        "start_time": "2023-02-28T17:01:15.074Z"
      },
      {
        "duration": 45,
        "start_time": "2023-02-28T17:01:15.198Z"
      },
      {
        "duration": 169,
        "start_time": "2023-02-28T17:01:15.245Z"
      },
      {
        "duration": 35,
        "start_time": "2023-02-28T17:01:15.421Z"
      },
      {
        "duration": 291,
        "start_time": "2023-02-28T17:01:15.458Z"
      },
      {
        "duration": 311,
        "start_time": "2023-02-28T17:01:15.751Z"
      },
      {
        "duration": 313,
        "start_time": "2023-02-28T17:01:16.064Z"
      },
      {
        "duration": 31,
        "start_time": "2023-02-28T17:01:16.379Z"
      },
      {
        "duration": 34,
        "start_time": "2023-02-28T17:01:16.421Z"
      },
      {
        "duration": 114,
        "start_time": "2023-02-28T17:01:16.457Z"
      },
      {
        "duration": 7,
        "start_time": "2023-02-28T17:01:16.572Z"
      },
      {
        "duration": 18,
        "start_time": "2023-02-28T17:01:16.580Z"
      },
      {
        "duration": 1882,
        "start_time": "2023-02-28T17:01:16.600Z"
      },
      {
        "duration": 75,
        "start_time": "2023-02-28T17:01:18.484Z"
      },
      {
        "duration": 119,
        "start_time": "2023-02-28T17:01:18.560Z"
      },
      {
        "duration": 49,
        "start_time": "2023-02-28T17:01:18.680Z"
      },
      {
        "duration": 81,
        "start_time": "2023-02-28T17:01:18.731Z"
      },
      {
        "duration": 5,
        "start_time": "2023-02-28T17:01:18.814Z"
      },
      {
        "duration": 20,
        "start_time": "2023-02-28T17:01:18.820Z"
      },
      {
        "duration": 21,
        "start_time": "2023-02-28T17:01:18.842Z"
      },
      {
        "duration": 20,
        "start_time": "2023-02-28T17:01:18.865Z"
      },
      {
        "duration": 19,
        "start_time": "2023-02-28T17:01:18.888Z"
      },
      {
        "duration": 194,
        "start_time": "2023-02-28T17:02:12.181Z"
      },
      {
        "duration": 195,
        "start_time": "2023-02-28T17:02:23.164Z"
      },
      {
        "duration": 175,
        "start_time": "2023-02-28T17:02:29.681Z"
      },
      {
        "duration": 190,
        "start_time": "2023-02-28T17:02:38.287Z"
      },
      {
        "duration": 1284,
        "start_time": "2023-02-28T17:02:43.430Z"
      },
      {
        "duration": 148,
        "start_time": "2023-02-28T17:02:44.716Z"
      },
      {
        "duration": 4,
        "start_time": "2023-02-28T17:02:44.866Z"
      },
      {
        "duration": 160,
        "start_time": "2023-02-28T17:02:44.872Z"
      },
      {
        "duration": 8,
        "start_time": "2023-02-28T17:02:45.034Z"
      },
      {
        "duration": 129,
        "start_time": "2023-02-28T17:02:45.044Z"
      },
      {
        "duration": 119,
        "start_time": "2023-02-28T17:02:45.175Z"
      },
      {
        "duration": 43,
        "start_time": "2023-02-28T17:02:45.296Z"
      },
      {
        "duration": 159,
        "start_time": "2023-02-28T17:02:45.341Z"
      },
      {
        "duration": 43,
        "start_time": "2023-02-28T17:02:45.503Z"
      },
      {
        "duration": 258,
        "start_time": "2023-02-28T17:02:45.548Z"
      },
      {
        "duration": 328,
        "start_time": "2023-02-28T17:02:45.808Z"
      },
      {
        "duration": 339,
        "start_time": "2023-02-28T17:02:46.138Z"
      },
      {
        "duration": 28,
        "start_time": "2023-02-28T17:02:46.479Z"
      },
      {
        "duration": 33,
        "start_time": "2023-02-28T17:02:46.522Z"
      },
      {
        "duration": 108,
        "start_time": "2023-02-28T17:02:46.557Z"
      },
      {
        "duration": 7,
        "start_time": "2023-02-28T17:02:46.666Z"
      },
      {
        "duration": 18,
        "start_time": "2023-02-28T17:02:46.674Z"
      },
      {
        "duration": 431,
        "start_time": "2023-02-28T17:02:46.694Z"
      },
      {
        "duration": 94,
        "start_time": "2023-02-28T17:02:47.127Z"
      },
      {
        "duration": 117,
        "start_time": "2023-02-28T17:02:47.224Z"
      },
      {
        "duration": 51,
        "start_time": "2023-02-28T17:02:47.343Z"
      },
      {
        "duration": 87,
        "start_time": "2023-02-28T17:02:47.396Z"
      },
      {
        "duration": 4,
        "start_time": "2023-02-28T17:02:47.485Z"
      },
      {
        "duration": 34,
        "start_time": "2023-02-28T17:02:47.491Z"
      },
      {
        "duration": 27,
        "start_time": "2023-02-28T17:02:47.526Z"
      },
      {
        "duration": 13,
        "start_time": "2023-02-28T17:02:47.554Z"
      },
      {
        "duration": 15,
        "start_time": "2023-02-28T17:02:47.570Z"
      },
      {
        "duration": 1124,
        "start_time": "2023-02-28T17:10:17.165Z"
      },
      {
        "duration": 150,
        "start_time": "2023-02-28T17:10:18.291Z"
      },
      {
        "duration": 3,
        "start_time": "2023-02-28T17:10:18.443Z"
      },
      {
        "duration": 186,
        "start_time": "2023-02-28T17:10:18.449Z"
      },
      {
        "duration": 10,
        "start_time": "2023-02-28T17:10:18.636Z"
      },
      {
        "duration": 138,
        "start_time": "2023-02-28T17:10:18.647Z"
      },
      {
        "duration": 121,
        "start_time": "2023-02-28T17:10:18.787Z"
      },
      {
        "duration": 42,
        "start_time": "2023-02-28T17:10:18.910Z"
      },
      {
        "duration": 164,
        "start_time": "2023-02-28T17:10:18.954Z"
      },
      {
        "duration": 37,
        "start_time": "2023-02-28T17:10:19.123Z"
      },
      {
        "duration": 256,
        "start_time": "2023-02-28T17:10:19.162Z"
      },
      {
        "duration": 254,
        "start_time": "2023-02-28T17:10:19.421Z"
      },
      {
        "duration": 288,
        "start_time": "2023-02-28T17:10:19.677Z"
      },
      {
        "duration": 27,
        "start_time": "2023-02-28T17:10:19.967Z"
      },
      {
        "duration": 45,
        "start_time": "2023-02-28T17:10:19.996Z"
      },
      {
        "duration": 108,
        "start_time": "2023-02-28T17:10:20.043Z"
      },
      {
        "duration": 9,
        "start_time": "2023-02-28T17:10:20.152Z"
      },
      {
        "duration": 18,
        "start_time": "2023-02-28T17:10:20.162Z"
      },
      {
        "duration": 437,
        "start_time": "2023-02-28T17:10:20.182Z"
      },
      {
        "duration": 105,
        "start_time": "2023-02-28T17:10:20.622Z"
      },
      {
        "duration": 113,
        "start_time": "2023-02-28T17:10:20.729Z"
      },
      {
        "duration": 39,
        "start_time": "2023-02-28T17:10:20.844Z"
      },
      {
        "duration": 71,
        "start_time": "2023-02-28T17:10:20.885Z"
      },
      {
        "duration": 5,
        "start_time": "2023-02-28T17:10:20.958Z"
      },
      {
        "duration": 32,
        "start_time": "2023-02-28T17:10:20.964Z"
      },
      {
        "duration": 27,
        "start_time": "2023-02-28T17:10:20.998Z"
      },
      {
        "duration": 25,
        "start_time": "2023-02-28T17:10:21.027Z"
      },
      {
        "duration": 15,
        "start_time": "2023-02-28T17:10:21.055Z"
      }
    ],
    "kernelspec": {
      "display_name": "Python 3 (ipykernel)",
      "language": "python",
      "name": "python3"
    },
    "language_info": {
      "codemirror_mode": {
        "name": "ipython",
        "version": 3
      },
      "file_extension": ".py",
      "mimetype": "text/x-python",
      "name": "python",
      "nbconvert_exporter": "python",
      "pygments_lexer": "ipython3",
      "version": "3.9.5"
    },
    "toc": {
      "base_numbering": 1,
      "nav_menu": {},
      "number_sections": true,
      "sideBar": true,
      "skip_h1_title": true,
      "title_cell": "Table of Contents",
      "title_sidebar": "Contents",
      "toc_cell": false,
      "toc_position": {
        "height": "calc(100% - 180px)",
        "left": "10px",
        "top": "150px",
        "width": "165px"
      },
      "toc_section_display": true,
      "toc_window_display": true
    },
    "colab": {
      "provenance": [],
      "include_colab_link": true
    }
  },
  "nbformat": 4,
  "nbformat_minor": 0
}